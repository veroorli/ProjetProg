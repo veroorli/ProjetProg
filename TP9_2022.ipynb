{
  "nbformat": 4,
  "nbformat_minor": 0,
  "metadata": {
    "colab": {
      "provenance": [],
      "toc_visible": true,
      "include_colab_link": true
    },
    "kernelspec": {
      "name": "python3",
      "display_name": "Python 3"
    },
    "language_info": {
      "name": "python"
    }
  },
  "cells": [
    {
      "cell_type": "markdown",
      "metadata": {
        "id": "view-in-github",
        "colab_type": "text"
      },
      "source": [
        "<a href=\"https://colab.research.google.com/github/veroorli/ProjetProg/blob/master/TP9_2022.ipynb\" target=\"_parent\"><img src=\"https://colab.research.google.com/assets/colab-badge.svg\" alt=\"Open In Colab\"/></a>"
      ]
    },
    {
      "cell_type": "markdown",
      "metadata": {
        "application/vnd.databricks.v1+cell": {
          "title": "",
          "showTitle": false,
          "inputWidgets": {},
          "nuid": "2fcea654-56eb-4219-a555-b7635dc8ec23"
        },
        "id": "5T30y-4iGpLZ"
      },
      "source": [
        "BDLE 2022\n",
        "\n",
        "date du document  :  8/12/2022"
      ]
    },
    {
      "cell_type": "markdown",
      "metadata": {
        "application/vnd.databricks.v1+cell": {
          "title": "",
          "showTitle": false,
          "inputWidgets": {},
          "nuid": "538800ba-6d08-40a7-b6b6-829b40085742"
        },
        "id": "L_q0KahUGpLc"
      },
      "source": [
        "# TP 9 : traitement sur des partitions : tri, regroupement, fenetre, jointure\n",
        "Version LINA MEZDOUR\n",
        "\n"
      ]
    },
    {
      "cell_type": "markdown",
      "metadata": {
        "application/vnd.databricks.v1+cell": {
          "title": "",
          "showTitle": false,
          "inputWidgets": {},
          "nuid": "b15737ae-19bd-4b9f-b9f3-52388cc5e50e"
        },
        "id": "levNDESpS1hT"
      },
      "source": [
        "## Préparation"
      ]
    },
    {
      "cell_type": "markdown",
      "source": [
        "### Dataframe les Films"
      ],
      "metadata": {
        "id": "J35vJpLhuDVJ"
      }
    },
    {
      "cell_type": "code",
      "source": [
        "# schema_film = \"nf long, titre String, g Array<String>\"\n",
        "schema_film = StructType([StructField('nF',LongType()),\n",
        "                          StructField('titre',StringType()),\n",
        "                          StructField('g',ArrayType(StringType()))])\n",
        "\n",
        "films = spark.read.json(local_dir + \"/\" + \"films.json\", schema = schema_film).selectExpr(\"nF\", \"titre\", \"g as genres\")\n",
        "# print('schema:', films.schema)\n",
        "\n",
        "# extrait\n",
        "film_extrait = films.where(\"nF <100\").repartition(3).persist()\n",
        "\n",
        "film_extrait.printSchema()\n",
        "display(film_extrait)"
      ],
      "metadata": {
        "colab": {
          "base_uri": "https://localhost:8080/",
          "height": 419
        },
        "id": "qEUglUCQuGrU",
        "outputId": "0027e87e-9fbb-4658-c539-59dc4408d67e"
      },
      "execution_count": null,
      "outputs": [
        {
          "output_type": "stream",
          "name": "stdout",
          "text": [
            "root\n",
            " |-- nF: long (nullable = true)\n",
            " |-- titre: string (nullable = true)\n",
            " |-- genres: array (nullable = true)\n",
            " |    |-- element: string (containsNull = true)\n",
            "\n"
          ]
        },
        {
          "output_type": "execute_result",
          "data": {
            "text/html": [
              "<div>\n",
              "<style scoped>\n",
              "    .dataframe tbody tr th:only-of-type {\n",
              "        vertical-align: middle;\n",
              "    }\n",
              "\n",
              "    .dataframe tbody tr th {\n",
              "        vertical-align: top;\n",
              "    }\n",
              "\n",
              "    .dataframe thead th {\n",
              "        text-align: right;\n",
              "    }\n",
              "</style>\n",
              "<table border=\"1\" class=\"dataframe\">\n",
              "  <thead>\n",
              "    <tr style=\"text-align: right;\">\n",
              "      <th></th>\n",
              "      <th>nF</th>\n",
              "      <th>titre</th>\n",
              "      <th>genres</th>\n",
              "    </tr>\n",
              "  </thead>\n",
              "  <tbody>\n",
              "    <tr>\n",
              "      <th>0</th>\n",
              "      <td>94</td>\n",
              "      <td>Beautiful Girls (1996)</td>\n",
              "      <td>[Comedy, Drama, Romance]</td>\n",
              "    </tr>\n",
              "    <tr>\n",
              "      <th>1</th>\n",
              "      <td>45</td>\n",
              "      <td>To Die For (1995)</td>\n",
              "      <td>[Comedy, Drama, Thriller]</td>\n",
              "    </tr>\n",
              "    <tr>\n",
              "      <th>2</th>\n",
              "      <td>58</td>\n",
              "      <td>Postman, The (Postino, Il) (1994)</td>\n",
              "      <td>[Comedy, Drama, Romance]</td>\n",
              "    </tr>\n",
              "    <tr>\n",
              "      <th>3</th>\n",
              "      <td>54</td>\n",
              "      <td>Big Green, The (1995)</td>\n",
              "      <td>[Children, Comedy]</td>\n",
              "    </tr>\n",
              "    <tr>\n",
              "      <th>4</th>\n",
              "      <td>9</td>\n",
              "      <td>Sudden Death (1995)</td>\n",
              "      <td>[Action]</td>\n",
              "    </tr>\n",
              "    <tr>\n",
              "      <th>...</th>\n",
              "      <td>...</td>\n",
              "      <td>...</td>\n",
              "      <td>...</td>\n",
              "    </tr>\n",
              "    <tr>\n",
              "      <th>87</th>\n",
              "      <td>38</td>\n",
              "      <td>It Takes Two (1995)</td>\n",
              "      <td>[Children, Comedy]</td>\n",
              "    </tr>\n",
              "    <tr>\n",
              "      <th>88</th>\n",
              "      <td>15</td>\n",
              "      <td>Cutthroat Island (1995)</td>\n",
              "      <td>[Action, Adventure, Romance]</td>\n",
              "    </tr>\n",
              "    <tr>\n",
              "      <th>89</th>\n",
              "      <td>85</td>\n",
              "      <td>Angels and Insects (1995)</td>\n",
              "      <td>[Drama, Romance]</td>\n",
              "    </tr>\n",
              "    <tr>\n",
              "      <th>90</th>\n",
              "      <td>64</td>\n",
              "      <td>Two if by Sea (1996)</td>\n",
              "      <td>[Comedy, Romance]</td>\n",
              "    </tr>\n",
              "    <tr>\n",
              "      <th>91</th>\n",
              "      <td>37</td>\n",
              "      <td>Across the Sea of Time (1995)</td>\n",
              "      <td>[Documentary, IMAX]</td>\n",
              "    </tr>\n",
              "  </tbody>\n",
              "</table>\n",
              "<p>92 rows × 3 columns</p>\n",
              "</div>"
            ],
            "application/vnd.google.colaboratory.module+javascript": "\n      import \"https://ssl.gstatic.com/colaboratory/data_table/fb998edc550c7947/data_table.js\";\n\n      window.createDataTable({\n        data: [[{\n            'v': 94,\n            'f': \"94\",\n        },\n\"Beautiful Girls (1996)\",\n[\"Comedy\", \"Drama\", \"Romance\"]],\n [{\n            'v': 45,\n            'f': \"45\",\n        },\n\"To Die For (1995)\",\n[\"Comedy\", \"Drama\", \"Thriller\"]],\n [{\n            'v': 58,\n            'f': \"58\",\n        },\n\"Postman, The (Postino, Il) (1994)\",\n[\"Comedy\", \"Drama\", \"Romance\"]],\n [{\n            'v': 54,\n            'f': \"54\",\n        },\n\"Big Green, The (1995)\",\n[\"Children\", \"Comedy\"]],\n [{\n            'v': 9,\n            'f': \"9\",\n        },\n\"Sudden Death (1995)\",\n[\"Action\"]],\n [{\n            'v': 4,\n            'f': \"4\",\n        },\n\"Waiting to Exhale (1995)\",\n[\"Comedy\", \"Drama\", \"Romance\"]],\n [{\n            'v': 80,\n            'f': \"80\",\n        },\n\"White Balloon, The (Badkonake sefid) (1995)\",\n[\"Children\", \"Drama\"]],\n [{\n            'v': 87,\n            'f': \"87\",\n        },\n\"Dunston Checks In (1996)\",\n[\"Children\", \"Comedy\"]],\n [{\n            'v': 88,\n            'f': \"88\",\n        },\n\"Black Sheep (1996)\",\n[\"Comedy\"]],\n [{\n            'v': 20,\n            'f': \"20\",\n        },\n\"Money Train (1995)\",\n[\"Action\", \"Comedy\", \"Crime\", \"Drama\", \"Thriller\"]],\n [{\n            'v': 83,\n            'f': \"83\",\n        },\n\"Once Upon a Time... When We Were Colored (1995)\",\n[\"Drama\", \"Romance\"]],\n [{\n            'v': 57,\n            'f': \"57\",\n        },\n\"Home for the Holidays (1995)\",\n[\"Drama\"]],\n [{\n            'v': 73,\n            'f': \"73\",\n        },\n\"Mis\\u00e9rables, Les (1995)\",\n[\"Drama\", \"War\"]],\n [{\n            'v': 12,\n            'f': \"12\",\n        },\n\"Dracula: Dead and Loving It (1995)\",\n[\"Comedy\", \"Horror\"]],\n [{\n            'v': 39,\n            'f': \"39\",\n        },\n\"Clueless (1995)\",\n[\"Comedy\", \"Romance\"]],\n [{\n            'v': 35,\n            'f': \"35\",\n        },\n\"Carrington (1995)\",\n[\"Drama\", \"Romance\"]],\n [{\n            'v': 97,\n            'f': \"97\",\n        },\n\"Hate (Haine, La) (1995)\",\n[\"Crime\", \"Drama\"]],\n [{\n            'v': 70,\n            'f': \"70\",\n        },\n\"From Dusk Till Dawn (1996)\",\n[\"Action\", \"Comedy\", \"Horror\", \"Thriller\"]],\n [{\n            'v': 46,\n            'f': \"46\",\n        },\n\"How to Make an American Quilt (1995)\",\n[\"Drama\", \"Romance\"]],\n [{\n            'v': 13,\n            'f': \"13\",\n        },\n\"Balto (1995)\",\n[\"Adventure\", \"Animation\", \"Children\"]],\n [{\n            'v': 86,\n            'f': \"86\",\n        },\n\"White Squall (1996)\",\n[\"Action\", \"Adventure\", \"Drama\"]],\n [{\n            'v': 25,\n            'f': \"25\",\n        },\n\"Leaving Las Vegas (1995)\",\n[\"Drama\", \"Romance\"]],\n [{\n            'v': 66,\n            'f': \"66\",\n        },\n\"Lawnmower Man 2: Beyond Cyberspace (1996)\",\n[\"Action\", \"Sci-Fi\", \"Thriller\"]],\n [{\n            'v': 1,\n            'f': \"1\",\n        },\n\"Toy Story (1995)\",\n[\"Adventure\", \"Animation\", \"Children\", \"Comedy\", \"Fantasy\"]],\n [{\n            'v': 22,\n            'f': \"22\",\n        },\n\"Copycat (1995)\",\n[\"Crime\", \"Drama\", \"Horror\", \"Mystery\", \"Thriller\"]],\n [{\n            'v': 2,\n            'f': \"2\",\n        },\n\"Jumanji (1995)\",\n[\"Adventure\", \"Children\", \"Fantasy\"]],\n [{\n            'v': 36,\n            'f': \"36\",\n        },\n\"Dead Man Walking (1995)\",\n[\"Crime\", \"Drama\"]],\n [{\n            'v': 17,\n            'f': \"17\",\n        },\n\"Sense and Sensibility (1995)\",\n[\"Drama\", \"Romance\"]],\n [{\n            'v': 30,\n            'f': \"30\",\n        },\n\"Shanghai Triad (Yao a yao yao dao waipo qiao) (1995)\",\n[\"Crime\", \"Drama\"]],\n [{\n            'v': 24,\n            'f': \"24\",\n        },\n\"Powder (1995)\",\n[\"Drama\", \"Sci-Fi\"]],\n [{\n            'v': 93,\n            'f': \"93\",\n        },\n\"Vampire in Brooklyn (1995)\",\n[\"Comedy\", \"Horror\", \"Romance\"]],\n [{\n            'v': 14,\n            'f': \"14\",\n        },\n\"Nixon (1995)\",\n[\"Drama\"]],\n [{\n            'v': 71,\n            'f': \"71\",\n        },\n\"Fair Game (1995)\",\n[\"Action\"]],\n [{\n            'v': 49,\n            'f': \"49\",\n        },\n\"When Night Is Falling (1995)\",\n[\"Drama\", \"Romance\"]],\n [{\n            'v': 27,\n            'f': \"27\",\n        },\n\"Now and Then (1995)\",\n[\"Children\", \"Drama\"]],\n [{\n            'v': 59,\n            'f': \"59\",\n        },\n\"Confessional, The (Confessionnal, Le) (1995)\",\n[\"Drama\", \"Mystery\"]],\n [{\n            'v': 3,\n            'f': \"3\",\n        },\n\"Grumpier Old Men (1995)\",\n[\"Comedy\", \"Romance\"]],\n [{\n            'v': 34,\n            'f': \"34\",\n        },\n\"Babe (1995)\",\n[\"Children\", \"Drama\"]],\n [{\n            'v': 19,\n            'f': \"19\",\n        },\n\"Ace Ventura: When Nature Calls (1995)\",\n[\"Comedy\"]],\n [{\n            'v': 99,\n            'f': \"99\",\n        },\n\"Heidi Fleiss: Hollywood Madam (1995)\",\n[\"Documentary\"]],\n [{\n            'v': 23,\n            'f': \"23\",\n        },\n\"Assassins (1995)\",\n[\"Action\", \"Crime\", \"Thriller\"]],\n [{\n            'v': 60,\n            'f': \"60\",\n        },\n\"Indian in the Cupboard, The (1995)\",\n[\"Adventure\", \"Children\", \"Fantasy\"]],\n [{\n            'v': 52,\n            'f': \"52\",\n        },\n\"Mighty Aphrodite (1995)\",\n[\"Comedy\", \"Drama\", \"Romance\"]],\n [{\n            'v': 84,\n            'f': \"84\",\n        },\n\"Last Summer in the Hamptons (1995)\",\n[\"Comedy\", \"Drama\"]],\n [{\n            'v': 76,\n            'f': \"76\",\n        },\n\"Screamers (1995)\",\n[\"Action\", \"Sci-Fi\", \"Thriller\"]],\n [{\n            'v': 7,\n            'f': \"7\",\n        },\n\"Sabrina (1995)\",\n[\"Comedy\", \"Romance\"]],\n [{\n            'v': 16,\n            'f': \"16\",\n        },\n\"Casino (1995)\",\n[\"Crime\", \"Drama\"]],\n [{\n            'v': 61,\n            'f': \"61\",\n        },\n\"Eye for an Eye (1996)\",\n[\"Drama\", \"Thriller\"]],\n [{\n            'v': 62,\n            'f': \"62\",\n        },\n\"Mr. Holland's Opus (1995)\",\n[\"Drama\"]],\n [{\n            'v': 98,\n            'f': \"98\",\n        },\n\"Shopping (1994)\",\n[\"Action\", \"Thriller\"]],\n [{\n            'v': 10,\n            'f': \"10\",\n        },\n\"GoldenEye (1995)\",\n[\"Action\", \"Adventure\", \"Thriller\"]],\n [{\n            'v': 47,\n            'f': \"47\",\n        },\n\"Seven (a.k.a. Se7en) (1995)\",\n[\"Mystery\", \"Thriller\"]],\n [{\n            'v': 78,\n            'f': \"78\",\n        },\n\"Crossing Guard, The (1995)\",\n[\"Action\", \"Crime\", \"Drama\", \"Thriller\"]],\n [{\n            'v': 81,\n            'f': \"81\",\n        },\n\"Things to Do in Denver When You're Dead (1995)\",\n[\"Crime\", \"Drama\", \"Romance\"]],\n [{\n            'v': 40,\n            'f': \"40\",\n        },\n\"Cry, the Beloved Country (1995)\",\n[\"Drama\"]],\n [{\n            'v': 74,\n            'f': \"74\",\n        },\n\"Bed of Roses (1996)\",\n[\"Drama\", \"Romance\"]],\n [{\n            'v': 89,\n            'f': \"89\",\n        },\n\"Nick of Time (1995)\",\n[\"Action\", \"Thriller\"]],\n [{\n            'v': 42,\n            'f': \"42\",\n        },\n\"Dead Presidents (1995)\",\n[\"Action\", \"Crime\", \"Drama\"]],\n [{\n            'v': 5,\n            'f': \"5\",\n        },\n\"Father of the Bride Part II (1995)\",\n[\"Comedy\"]],\n [{\n            'v': 43,\n            'f': \"43\",\n        },\n\"Restoration (1995)\",\n[\"Drama\"]],\n [{\n            'v': 65,\n            'f': \"65\",\n        },\n\"Bio-Dome (1996)\",\n[\"Comedy\"]],\n [{\n            'v': 48,\n            'f': \"48\",\n        },\n\"Pocahontas (1995)\",\n[\"Animation\", \"Children\", \"Drama\", \"Musical\", \"Romance\"]],\n [{\n            'v': 72,\n            'f': \"72\",\n        },\n\"Kicking and Screaming (1995)\",\n[\"Comedy\", \"Drama\"]],\n [{\n            'v': 21,\n            'f': \"21\",\n        },\n\"Get Shorty (1995)\",\n[\"Comedy\", \"Crime\", \"Thriller\"]],\n [{\n            'v': 63,\n            'f': \"63\",\n        },\n\"Don't Be a Menace to South Central While Drinking Your Juice in the Hood (1996)\",\n[\"Comedy\", \"Crime\"]],\n [{\n            'v': 95,\n            'f': \"95\",\n        },\n\"Broken Arrow (1996)\",\n[\"Action\", \"Adventure\", \"Thriller\"]],\n [{\n            'v': 8,\n            'f': \"8\",\n        },\n\"Tom and Huck (1995)\",\n[\"Adventure\", \"Children\"]],\n [{\n            'v': 53,\n            'f': \"53\",\n        },\n\"Lamerica (1994)\",\n[\"Adventure\", \"Drama\"]],\n [{\n            'v': 50,\n            'f': \"50\",\n        },\n\"Usual Suspects, The (1995)\",\n[\"Crime\", \"Mystery\", \"Thriller\"]],\n [{\n            'v': 96,\n            'f': \"96\",\n        },\n\"In the Bleak Midwinter (1995)\",\n[\"Comedy\", \"Drama\"]],\n [{\n            'v': 55,\n            'f': \"55\",\n        },\n\"Georgia (1995)\",\n[\"Drama\"]],\n [{\n            'v': 6,\n            'f': \"6\",\n        },\n\"Heat (1995)\",\n[\"Action\", \"Crime\", \"Thriller\"]],\n [{\n            'v': 31,\n            'f': \"31\",\n        },\n\"Dangerous Minds (1995)\",\n[\"Drama\"]],\n [{\n            'v': 79,\n            'f': \"79\",\n        },\n\"Juror, The (1996)\",\n[\"Drama\", \"Thriller\"]],\n [{\n            'v': 92,\n            'f': \"92\",\n        },\n\"Mary Reilly (1996)\",\n[\"Drama\", \"Horror\", \"Thriller\"]],\n [{\n            'v': 77,\n            'f': \"77\",\n        },\n\"Nico Icon (1995)\",\n[\"Documentary\"]],\n [{\n            'v': 18,\n            'f': \"18\",\n        },\n\"Four Rooms (1995)\",\n[\"Comedy\"]],\n [{\n            'v': 26,\n            'f': \"26\",\n        },\n\"Othello (1995)\",\n[\"Drama\"]],\n [{\n            'v': 11,\n            'f': \"11\",\n        },\n\"American President, The (1995)\",\n[\"Comedy\", \"Drama\", \"Romance\"]],\n [{\n            'v': 41,\n            'f': \"41\",\n        },\n\"Richard III (1995)\",\n[\"Drama\", \"War\"]],\n [{\n            'v': 29,\n            'f': \"29\",\n        },\n\"City of Lost Children, The (Cit\\u00e9 des enfants perdus, La) (1995)\",\n[\"Adventure\", \"Drama\", \"Fantasy\", \"Mystery\", \"Sci-Fi\"]],\n [{\n            'v': 82,\n            'f': \"82\",\n        },\n\"Antonia's Line (Antonia) (1995)\",\n[\"Comedy\", \"Drama\"]],\n [{\n            'v': 44,\n            'f': \"44\",\n        },\n\"Mortal Kombat (1995)\",\n[\"Action\", \"Adventure\", \"Fantasy\"]],\n [{\n            'v': 28,\n            'f': \"28\",\n        },\n\"Persuasion (1995)\",\n[\"Drama\", \"Romance\"]],\n [{\n            'v': 32,\n            'f': \"32\",\n        },\n\"Twelve Monkeys (a.k.a. 12 Monkeys) (1995)\",\n[\"Mystery\", \"Sci-Fi\", \"Thriller\"]],\n [{\n            'v': 69,\n            'f': \"69\",\n        },\n\"Friday (1995)\",\n[\"Comedy\"]],\n [{\n            'v': 68,\n            'f': \"68\",\n        },\n\"French Twist (Gazon maudit) (1995)\",\n[\"Comedy\", \"Romance\"]],\n [{\n            'v': 38,\n            'f': \"38\",\n        },\n\"It Takes Two (1995)\",\n[\"Children\", \"Comedy\"]],\n [{\n            'v': 15,\n            'f': \"15\",\n        },\n\"Cutthroat Island (1995)\",\n[\"Action\", \"Adventure\", \"Romance\"]],\n [{\n            'v': 85,\n            'f': \"85\",\n        },\n\"Angels and Insects (1995)\",\n[\"Drama\", \"Romance\"]],\n [{\n            'v': 64,\n            'f': \"64\",\n        },\n\"Two if by Sea (1996)\",\n[\"Comedy\", \"Romance\"]],\n [{\n            'v': 37,\n            'f': \"37\",\n        },\n\"Across the Sea of Time (1995)\",\n[\"Documentary\", \"IMAX\"]]],\n        columns: [[\"number\", \"nF\"], [\"string\", \"titre\"], [\"string\", \"genres\"]],\n        columnOptions: [],\n        rowsPerPage: 10,\n        helpUrl: \"https://colab.research.google.com/notebooks/data_table.ipynb\",\n        suppressOutputScrolling: true,\n        minimumWidth: undefined,\n      });\n    ",
            "text/plain": [
              "<google.colab.data_table.DataTable object>"
            ]
          },
          "metadata": {},
          "execution_count": 13
        }
      ]
    },
    {
      "cell_type": "markdown",
      "metadata": {
        "application/vnd.databricks.v1+cell": {
          "title": "",
          "showTitle": false,
          "inputWidgets": {},
          "nuid": "2e9bc8ed-3a2c-47b7-b30e-778f5215a8c8"
        },
        "id": "GMHqywC7G2AF"
      },
      "source": [
        "### Dataframe Les Notes"
      ]
    },
    {
      "cell_type": "code",
      "metadata": {
        "application/vnd.databricks.v1+cell": {
          "title": "",
          "showTitle": false,
          "inputWidgets": {},
          "nuid": "8f256218-b2f3-44af-b884-0f8b1de83e29"
        },
        "colab": {
          "base_uri": "https://localhost:8080/",
          "height": 332
        },
        "id": "o3EjFJheG2AF",
        "outputId": "c3a8791a-dfc2-46c3-eba6-050e6f948962"
      },
      "source": [
        "notes_schema = StructType([StructField('nF',LongType()),\n",
        "                           StructField('nU',LongType()),\n",
        "                           StructField('note',DoubleType()),\n",
        "                           StructField('annee',LongType())])\n",
        "\n",
        "notes = spark.read.json(local_dir + \"/\" + \"notes1M.json\", schema = notes_schema).selectExpr(\"nF\", \"nU\", \"note\", \"annee\")\n",
        "\n",
        "#extrait\n",
        "notes_extrait = notes.where(\"nU < 1000\").join(film_extrait, \"nF\").select(notes[\"nF\"], \"nU\", \"note\", \"annee\").repartition(3).persist()\n",
        "print(notes_extrait.count())\n",
        "display(notes_extrait)"
      ],
      "execution_count": null,
      "outputs": [
        {
          "output_type": "stream",
          "name": "stdout",
          "text": [
            "185\n"
          ]
        },
        {
          "output_type": "execute_result",
          "data": {
            "text/html": [
              "<div>\n",
              "<style scoped>\n",
              "    .dataframe tbody tr th:only-of-type {\n",
              "        vertical-align: middle;\n",
              "    }\n",
              "\n",
              "    .dataframe tbody tr th {\n",
              "        vertical-align: top;\n",
              "    }\n",
              "\n",
              "    .dataframe thead th {\n",
              "        text-align: right;\n",
              "    }\n",
              "</style>\n",
              "<table border=\"1\" class=\"dataframe\">\n",
              "  <thead>\n",
              "    <tr style=\"text-align: right;\">\n",
              "      <th></th>\n",
              "      <th>nF</th>\n",
              "      <th>nU</th>\n",
              "      <th>note</th>\n",
              "      <th>annee</th>\n",
              "    </tr>\n",
              "  </thead>\n",
              "  <tbody>\n",
              "    <tr>\n",
              "      <th>0</th>\n",
              "      <td>19</td>\n",
              "      <td>76</td>\n",
              "      <td>1.5</td>\n",
              "      <td>2011</td>\n",
              "    </tr>\n",
              "    <tr>\n",
              "      <th>1</th>\n",
              "      <td>62</td>\n",
              "      <td>691</td>\n",
              "      <td>5.0</td>\n",
              "      <td>1996</td>\n",
              "    </tr>\n",
              "    <tr>\n",
              "      <th>2</th>\n",
              "      <td>25</td>\n",
              "      <td>832</td>\n",
              "      <td>5.0</td>\n",
              "      <td>1998</td>\n",
              "    </tr>\n",
              "    <tr>\n",
              "      <th>3</th>\n",
              "      <td>5</td>\n",
              "      <td>296</td>\n",
              "      <td>3.5</td>\n",
              "      <td>2005</td>\n",
              "    </tr>\n",
              "    <tr>\n",
              "      <th>4</th>\n",
              "      <td>48</td>\n",
              "      <td>781</td>\n",
              "      <td>3.0</td>\n",
              "      <td>1996</td>\n",
              "    </tr>\n",
              "    <tr>\n",
              "      <th>...</th>\n",
              "      <td>...</td>\n",
              "      <td>...</td>\n",
              "      <td>...</td>\n",
              "      <td>...</td>\n",
              "    </tr>\n",
              "    <tr>\n",
              "      <th>95</th>\n",
              "      <td>69</td>\n",
              "      <td>798</td>\n",
              "      <td>3.0</td>\n",
              "      <td>2000</td>\n",
              "    </tr>\n",
              "    <tr>\n",
              "      <th>96</th>\n",
              "      <td>95</td>\n",
              "      <td>430</td>\n",
              "      <td>3.0</td>\n",
              "      <td>1996</td>\n",
              "    </tr>\n",
              "    <tr>\n",
              "      <th>97</th>\n",
              "      <td>10</td>\n",
              "      <td>984</td>\n",
              "      <td>4.0</td>\n",
              "      <td>1996</td>\n",
              "    </tr>\n",
              "    <tr>\n",
              "      <th>98</th>\n",
              "      <td>36</td>\n",
              "      <td>261</td>\n",
              "      <td>2.0</td>\n",
              "      <td>1997</td>\n",
              "    </tr>\n",
              "    <tr>\n",
              "      <th>99</th>\n",
              "      <td>44</td>\n",
              "      <td>314</td>\n",
              "      <td>1.5</td>\n",
              "      <td>2010</td>\n",
              "    </tr>\n",
              "  </tbody>\n",
              "</table>\n",
              "<p>100 rows × 4 columns</p>\n",
              "</div>"
            ],
            "application/vnd.google.colaboratory.module+javascript": "\n      import \"https://ssl.gstatic.com/colaboratory/data_table/fb998edc550c7947/data_table.js\";\n\n      window.createDataTable({\n        data: [[{\n            'v': 19,\n            'f': \"19\",\n        },\n{\n            'v': 76,\n            'f': \"76\",\n        },\n{\n            'v': 1.5,\n            'f': \"1.5\",\n        },\n{\n            'v': 2011,\n            'f': \"2011\",\n        }],\n [{\n            'v': 62,\n            'f': \"62\",\n        },\n{\n            'v': 691,\n            'f': \"691\",\n        },\n{\n            'v': 5.0,\n            'f': \"5.0\",\n        },\n{\n            'v': 1996,\n            'f': \"1996\",\n        }],\n [{\n            'v': 25,\n            'f': \"25\",\n        },\n{\n            'v': 832,\n            'f': \"832\",\n        },\n{\n            'v': 5.0,\n            'f': \"5.0\",\n        },\n{\n            'v': 1998,\n            'f': \"1998\",\n        }],\n [{\n            'v': 5,\n            'f': \"5\",\n        },\n{\n            'v': 296,\n            'f': \"296\",\n        },\n{\n            'v': 3.5,\n            'f': \"3.5\",\n        },\n{\n            'v': 2005,\n            'f': \"2005\",\n        }],\n [{\n            'v': 48,\n            'f': \"48\",\n        },\n{\n            'v': 781,\n            'f': \"781\",\n        },\n{\n            'v': 3.0,\n            'f': \"3.0\",\n        },\n{\n            'v': 1996,\n            'f': \"1996\",\n        }],\n [{\n            'v': 34,\n            'f': \"34\",\n        },\n{\n            'v': 871,\n            'f': \"871\",\n        },\n{\n            'v': 4.0,\n            'f': \"4.0\",\n        },\n{\n            'v': 2000,\n            'f': \"2000\",\n        }],\n [{\n            'v': 2,\n            'f': \"2\",\n        },\n{\n            'v': 796,\n            'f': \"796\",\n        },\n{\n            'v': 1.5,\n            'f': \"1.5\",\n        },\n{\n            'v': 2015,\n            'f': \"2015\",\n        }],\n [{\n            'v': 2,\n            'f': \"2\",\n        },\n{\n            'v': 353,\n            'f': \"353\",\n        },\n{\n            'v': 3.0,\n            'f': \"3.0\",\n        },\n{\n            'v': 2003,\n            'f': \"2003\",\n        }],\n [{\n            'v': 28,\n            'f': \"28\",\n        },\n{\n            'v': 815,\n            'f': \"815\",\n        },\n{\n            'v': 5.0,\n            'f': \"5.0\",\n        },\n{\n            'v': 1996,\n            'f': \"1996\",\n        }],\n [{\n            'v': 5,\n            'f': \"5\",\n        },\n{\n            'v': 196,\n            'f': \"196\",\n        },\n{\n            'v': 4.0,\n            'f': \"4.0\",\n        },\n{\n            'v': 1996,\n            'f': \"1996\",\n        }],\n [{\n            'v': 62,\n            'f': \"62\",\n        },\n{\n            'v': 760,\n            'f': \"760\",\n        },\n{\n            'v': 4.0,\n            'f': \"4.0\",\n        },\n{\n            'v': 1996,\n            'f': \"1996\",\n        }],\n [{\n            'v': 29,\n            'f': \"29\",\n        },\n{\n            'v': 882,\n            'f': \"882\",\n        },\n{\n            'v': 5.0,\n            'f': \"5.0\",\n        },\n{\n            'v': 1996,\n            'f': \"1996\",\n        }],\n [{\n            'v': 62,\n            'f': \"62\",\n        },\n{\n            'v': 989,\n            'f': \"989\",\n        },\n{\n            'v': 3.0,\n            'f': \"3.0\",\n        },\n{\n            'v': 1997,\n            'f': \"1997\",\n        }],\n [{\n            'v': 12,\n            'f': \"12\",\n        },\n{\n            'v': 459,\n            'f': \"459\",\n        },\n{\n            'v': 3.0,\n            'f': \"3.0\",\n        },\n{\n            'v': 2015,\n            'f': \"2015\",\n        }],\n [{\n            'v': 62,\n            'f': \"62\",\n        },\n{\n            'v': 87,\n            'f': \"87\",\n        },\n{\n            'v': 3.0,\n            'f': \"3.0\",\n        },\n{\n            'v': 1997,\n            'f': \"1997\",\n        }],\n [{\n            'v': 61,\n            'f': \"61\",\n        },\n{\n            'v': 638,\n            'f': \"638\",\n        },\n{\n            'v': 3.0,\n            'f': \"3.0\",\n        },\n{\n            'v': 1996,\n            'f': \"1996\",\n        }],\n [{\n            'v': 95,\n            'f': \"95\",\n        },\n{\n            'v': 400,\n            'f': \"400\",\n        },\n{\n            'v': 3.0,\n            'f': \"3.0\",\n        },\n{\n            'v': 1996,\n            'f': \"1996\",\n        }],\n [{\n            'v': 1,\n            'f': \"1\",\n        },\n{\n            'v': 457,\n            'f': \"457\",\n        },\n{\n            'v': 4.0,\n            'f': \"4.0\",\n        },\n{\n            'v': 2017,\n            'f': \"2017\",\n        }],\n [{\n            'v': 1,\n            'f': \"1\",\n        },\n{\n            'v': 606,\n            'f': \"606\",\n        },\n{\n            'v': 4.0,\n            'f': \"4.0\",\n        },\n{\n            'v': 2002,\n            'f': \"2002\",\n        }],\n [{\n            'v': 11,\n            'f': \"11\",\n        },\n{\n            'v': 236,\n            'f': \"236\",\n        },\n{\n            'v': 4.0,\n            'f': \"4.0\",\n        },\n{\n            'v': 2001,\n            'f': \"2001\",\n        }],\n [{\n            'v': 10,\n            'f': \"10\",\n        },\n{\n            'v': 341,\n            'f': \"341\",\n        },\n{\n            'v': 3.0,\n            'f': \"3.0\",\n        },\n{\n            'v': 1997,\n            'f': \"1997\",\n        }],\n [{\n            'v': 65,\n            'f': \"65\",\n        },\n{\n            'v': 953,\n            'f': \"953\",\n        },\n{\n            'v': 3.0,\n            'f': \"3.0\",\n        },\n{\n            'v': 1997,\n            'f': \"1997\",\n        }],\n [{\n            'v': 10,\n            'f': \"10\",\n        },\n{\n            'v': 481,\n            'f': \"481\",\n        },\n{\n            'v': 2.0,\n            'f': \"2.0\",\n        },\n{\n            'v': 1996,\n            'f': \"1996\",\n        }],\n [{\n            'v': 1,\n            'f': \"1\",\n        },\n{\n            'v': 869,\n            'f': \"869\",\n        },\n{\n            'v': 4.0,\n            'f': \"4.0\",\n        },\n{\n            'v': 2012,\n            'f': \"2012\",\n        }],\n [{\n            'v': 6,\n            'f': \"6\",\n        },\n{\n            'v': 733,\n            'f': \"733\",\n        },\n{\n            'v': 4.5,\n            'f': \"4.5\",\n        },\n{\n            'v': 2006,\n            'f': \"2006\",\n        }],\n [{\n            'v': 6,\n            'f': \"6\",\n        },\n{\n            'v': 384,\n            'f': \"384\",\n        },\n{\n            'v': 3.0,\n            'f': \"3.0\",\n        },\n{\n            'v': 2000,\n            'f': \"2000\",\n        }],\n [{\n            'v': 6,\n            'f': \"6\",\n        },\n{\n            'v': 703,\n            'f': \"703\",\n        },\n{\n            'v': 4.0,\n            'f': \"4.0\",\n        },\n{\n            'v': 2003,\n            'f': \"2003\",\n        }],\n [{\n            'v': 11,\n            'f': \"11\",\n        },\n{\n            'v': 455,\n            'f': \"455\",\n        },\n{\n            'v': 3.0,\n            'f': \"3.0\",\n        },\n{\n            'v': 1996,\n            'f': \"1996\",\n        }],\n [{\n            'v': 6,\n            'f': \"6\",\n        },\n{\n            'v': 153,\n            'f': \"153\",\n        },\n{\n            'v': 4.5,\n            'f': \"4.5\",\n        },\n{\n            'v': 2004,\n            'f': \"2004\",\n        }],\n [{\n            'v': 36,\n            'f': \"36\",\n        },\n{\n            'v': 523,\n            'f': \"523\",\n        },\n{\n            'v': 3.0,\n            'f': \"3.0\",\n        },\n{\n            'v': 1998,\n            'f': \"1998\",\n        }],\n [{\n            'v': 10,\n            'f': \"10\",\n        },\n{\n            'v': 421,\n            'f': \"421\",\n        },\n{\n            'v': 4.0,\n            'f': \"4.0\",\n        },\n{\n            'v': 1999,\n            'f': \"1999\",\n        }],\n [{\n            'v': 36,\n            'f': \"36\",\n        },\n{\n            'v': 332,\n            'f': \"332\",\n        },\n{\n            'v': 3.5,\n            'f': \"3.5\",\n        },\n{\n            'v': 2015,\n            'f': \"2015\",\n        }],\n [{\n            'v': 32,\n            'f': \"32\",\n        },\n{\n            'v': 160,\n            'f': \"160\",\n        },\n{\n            'v': 4.0,\n            'f': \"4.0\",\n        },\n{\n            'v': 2000,\n            'f': \"2000\",\n        }],\n [{\n            'v': 32,\n            'f': \"32\",\n        },\n{\n            'v': 848,\n            'f': \"848\",\n        },\n{\n            'v': 4.0,\n            'f': \"4.0\",\n        },\n{\n            'v': 2007,\n            'f': \"2007\",\n        }],\n [{\n            'v': 22,\n            'f': \"22\",\n        },\n{\n            'v': 66,\n            'f': \"66\",\n        },\n{\n            'v': 2.0,\n            'f': \"2.0\",\n        },\n{\n            'v': 2003,\n            'f': \"2003\",\n        }],\n [{\n            'v': 36,\n            'f': \"36\",\n        },\n{\n            'v': 12,\n            'f': \"12\",\n        },\n{\n            'v': 3.0,\n            'f': \"3.0\",\n        },\n{\n            'v': 1999,\n            'f': \"1999\",\n        }],\n [{\n            'v': 16,\n            'f': \"16\",\n        },\n{\n            'v': 12,\n            'f': \"12\",\n        },\n{\n            'v': 4.0,\n            'f': \"4.0\",\n        },\n{\n            'v': 1999,\n            'f': \"1999\",\n        }],\n [{\n            'v': 44,\n            'f': \"44\",\n        },\n{\n            'v': 595,\n            'f': \"595\",\n        },\n{\n            'v': 3.0,\n            'f': \"3.0\",\n        },\n{\n            'v': 1996,\n            'f': \"1996\",\n        }],\n [{\n            'v': 44,\n            'f': \"44\",\n        },\n{\n            'v': 267,\n            'f': \"267\",\n        },\n{\n            'v': 2.5,\n            'f': \"2.5\",\n        },\n{\n            'v': 2016,\n            'f': \"2016\",\n        }],\n [{\n            'v': 50,\n            'f': \"50\",\n        },\n{\n            'v': 308,\n            'f': \"308\",\n        },\n{\n            'v': 5.0,\n            'f': \"5.0\",\n        },\n{\n            'v': 2001,\n            'f': \"2001\",\n        }],\n [{\n            'v': 89,\n            'f': \"89\",\n        },\n{\n            'v': 426,\n            'f': \"426\",\n        },\n{\n            'v': 2.0,\n            'f': \"2.0\",\n        },\n{\n            'v': 1999,\n            'f': \"1999\",\n        }],\n [{\n            'v': 14,\n            'f': \"14\",\n        },\n{\n            'v': 157,\n            'f': \"157\",\n        },\n{\n            'v': 3.0,\n            'f': \"3.0\",\n        },\n{\n            'v': 1996,\n            'f': \"1996\",\n        }],\n [{\n            'v': 50,\n            'f': \"50\",\n        },\n{\n            'v': 834,\n            'f': \"834\",\n        },\n{\n            'v': 4.5,\n            'f': \"4.5\",\n        },\n{\n            'v': 2017,\n            'f': \"2017\",\n        }],\n [{\n            'v': 14,\n            'f': \"14\",\n        },\n{\n            'v': 112,\n            'f': \"112\",\n        },\n{\n            'v': 3.0,\n            'f': \"3.0\",\n        },\n{\n            'v': 1996,\n            'f': \"1996\",\n        }],\n [{\n            'v': 94,\n            'f': \"94\",\n        },\n{\n            'v': 353,\n            'f': \"353\",\n        },\n{\n            'v': 4.0,\n            'f': \"4.0\",\n        },\n{\n            'v': 2003,\n            'f': \"2003\",\n        }],\n [{\n            'v': 17,\n            'f': \"17\",\n        },\n{\n            'v': 523,\n            'f': \"523\",\n        },\n{\n            'v': 5.0,\n            'f': \"5.0\",\n        },\n{\n            'v': 1998,\n            'f': \"1998\",\n        }],\n [{\n            'v': 79,\n            'f': \"79\",\n        },\n{\n            'v': 295,\n            'f': \"295\",\n        },\n{\n            'v': 3.5,\n            'f': \"3.5\",\n        },\n{\n            'v': 2013,\n            'f': \"2013\",\n        }],\n [{\n            'v': 21,\n            'f': \"21\",\n        },\n{\n            'v': 638,\n            'f': \"638\",\n        },\n{\n            'v': 4.0,\n            'f': \"4.0\",\n        },\n{\n            'v': 1996,\n            'f': \"1996\",\n        }],\n [{\n            'v': 7,\n            'f': \"7\",\n        },\n{\n            'v': 611,\n            'f': \"611\",\n        },\n{\n            'v': 2.0,\n            'f': \"2.0\",\n        },\n{\n            'v': 1999,\n            'f': \"1999\",\n        }],\n [{\n            'v': 39,\n            'f': \"39\",\n        },\n{\n            'v': 524,\n            'f': \"524\",\n        },\n{\n            'v': 4.0,\n            'f': \"4.0\",\n        },\n{\n            'v': 1996,\n            'f': \"1996\",\n        }],\n [{\n            'v': 58,\n            'f': \"58\",\n        },\n{\n            'v': 487,\n            'f': \"487\",\n        },\n{\n            'v': 4.0,\n            'f': \"4.0\",\n        },\n{\n            'v': 1997,\n            'f': \"1997\",\n        }],\n [{\n            'v': 39,\n            'f': \"39\",\n        },\n{\n            'v': 546,\n            'f': \"546\",\n        },\n{\n            'v': 3.0,\n            'f': \"3.0\",\n        },\n{\n            'v': 1996,\n            'f': \"1996\",\n        }],\n [{\n            'v': 58,\n            'f': \"58\",\n        },\n{\n            'v': 773,\n            'f': \"773\",\n        },\n{\n            'v': 4.0,\n            'f': \"4.0\",\n        },\n{\n            'v': 1999,\n            'f': \"1999\",\n        }],\n [{\n            'v': 21,\n            'f': \"21\",\n        },\n{\n            'v': 557,\n            'f': \"557\",\n        },\n{\n            'v': 4.0,\n            'f': \"4.0\",\n        },\n{\n            'v': 2002,\n            'f': \"2002\",\n        }],\n [{\n            'v': 45,\n            'f': \"45\",\n        },\n{\n            'v': 308,\n            'f': \"308\",\n        },\n{\n            'v': 3.0,\n            'f': \"3.0\",\n        },\n{\n            'v': 2001,\n            'f': \"2001\",\n        }],\n [{\n            'v': 58,\n            'f': \"58\",\n        },\n{\n            'v': 439,\n            'f': \"439\",\n        },\n{\n            'v': 1.5,\n            'f': \"1.5\",\n        },\n{\n            'v': 2003,\n            'f': \"2003\",\n        }],\n [{\n            'v': 52,\n            'f': \"52\",\n        },\n{\n            'v': 825,\n            'f': \"825\",\n        },\n{\n            'v': 4.0,\n            'f': \"4.0\",\n        },\n{\n            'v': 2016,\n            'f': \"2016\",\n        }],\n [{\n            'v': 70,\n            'f': \"70\",\n        },\n{\n            'v': 619,\n            'f': \"619\",\n        },\n{\n            'v': 5.0,\n            'f': \"5.0\",\n        },\n{\n            'v': 1996,\n            'f': \"1996\",\n        }],\n [{\n            'v': 3,\n            'f': \"3\",\n        },\n{\n            'v': 979,\n            'f': \"979\",\n        },\n{\n            'v': 3.0,\n            'f': \"3.0\",\n        },\n{\n            'v': 1997,\n            'f': \"1997\",\n        }],\n [{\n            'v': 7,\n            'f': \"7\",\n        },\n{\n            'v': 368,\n            'f': \"368\",\n        },\n{\n            'v': 2.5,\n            'f': \"2.5\",\n        },\n{\n            'v': 2006,\n            'f': \"2006\",\n        }],\n [{\n            'v': 47,\n            'f': \"47\",\n        },\n{\n            'v': 51,\n            'f': \"51\",\n        },\n{\n            'v': 5.0,\n            'f': \"5.0\",\n        },\n{\n            'v': 2008,\n            'f': \"2008\",\n        }],\n [{\n            'v': 39,\n            'f': \"39\",\n        },\n{\n            'v': 308,\n            'f': \"308\",\n        },\n{\n            'v': 4.0,\n            'f': \"4.0\",\n        },\n{\n            'v': 2001,\n            'f': \"2001\",\n        }],\n [{\n            'v': 15,\n            'f': \"15\",\n        },\n{\n            'v': 875,\n            'f': \"875\",\n        },\n{\n            'v': 4.0,\n            'f': \"4.0\",\n        },\n{\n            'v': 1996,\n            'f': \"1996\",\n        }],\n [{\n            'v': 62,\n            'f': \"62\",\n        },\n{\n            'v': 368,\n            'f': \"368\",\n        },\n{\n            'v': 4.0,\n            'f': \"4.0\",\n        },\n{\n            'v': 2006,\n            'f': \"2006\",\n        }],\n [{\n            'v': 29,\n            'f': \"29\",\n        },\n{\n            'v': 592,\n            'f': \"592\",\n        },\n{\n            'v': 4.0,\n            'f': \"4.0\",\n        },\n{\n            'v': 2000,\n            'f': \"2000\",\n        }],\n [{\n            'v': 31,\n            'f': \"31\",\n        },\n{\n            'v': 767,\n            'f': \"767\",\n        },\n{\n            'v': 3.0,\n            'f': \"3.0\",\n        },\n{\n            'v': 1996,\n            'f': \"1996\",\n        }],\n [{\n            'v': 25,\n            'f': \"25\",\n        },\n{\n            'v': 339,\n            'f': \"339\",\n        },\n{\n            'v': 5.0,\n            'f': \"5.0\",\n        },\n{\n            'v': 1997,\n            'f': \"1997\",\n        }],\n [{\n            'v': 34,\n            'f': \"34\",\n        },\n{\n            'v': 682,\n            'f': \"682\",\n        },\n{\n            'v': 4.0,\n            'f': \"4.0\",\n        },\n{\n            'v': 2000,\n            'f': \"2000\",\n        }],\n [{\n            'v': 19,\n            'f': \"19\",\n        },\n{\n            'v': 63,\n            'f': \"63\",\n        },\n{\n            'v': 0.5,\n            'f': \"0.5\",\n        },\n{\n            'v': 2007,\n            'f': \"2007\",\n        }],\n [{\n            'v': 19,\n            'f': \"19\",\n        },\n{\n            'v': 240,\n            'f': \"240\",\n        },\n{\n            'v': 1.5,\n            'f': \"1.5\",\n        },\n{\n            'v': 2003,\n            'f': \"2003\",\n        }],\n [{\n            'v': 2,\n            'f': \"2\",\n        },\n{\n            'v': 390,\n            'f': \"390\",\n        },\n{\n            'v': 2.0,\n            'f': \"2.0\",\n        },\n{\n            'v': 2005,\n            'f': \"2005\",\n        }],\n [{\n            'v': 19,\n            'f': \"19\",\n        },\n{\n            'v': 533,\n            'f': \"533\",\n        },\n{\n            'v': 3.0,\n            'f': \"3.0\",\n        },\n{\n            'v': 2000,\n            'f': \"2000\",\n        }],\n [{\n            'v': 34,\n            'f': \"34\",\n        },\n{\n            'v': 332,\n            'f': \"332\",\n        },\n{\n            'v': 2.5,\n            'f': \"2.5\",\n        },\n{\n            'v': 2009,\n            'f': \"2009\",\n        }],\n [{\n            'v': 29,\n            'f': \"29\",\n        },\n{\n            'v': 924,\n            'f': \"924\",\n        },\n{\n            'v': 4.0,\n            'f': \"4.0\",\n        },\n{\n            'v': 2015,\n            'f': \"2015\",\n        }],\n [{\n            'v': 34,\n            'f': \"34\",\n        },\n{\n            'v': 881,\n            'f': \"881\",\n        },\n{\n            'v': 4.0,\n            'f': \"4.0\",\n        },\n{\n            'v': 2006,\n            'f': \"2006\",\n        }],\n [{\n            'v': 34,\n            'f': \"34\",\n        },\n{\n            'v': 546,\n            'f': \"546\",\n        },\n{\n            'v': 5.0,\n            'f': \"5.0\",\n        },\n{\n            'v': 1996,\n            'f': \"1996\",\n        }],\n [{\n            'v': 25,\n            'f': \"25\",\n        },\n{\n            'v': 638,\n            'f': \"638\",\n        },\n{\n            'v': 4.0,\n            'f': \"4.0\",\n        },\n{\n            'v': 1996,\n            'f': \"1996\",\n        }],\n [{\n            'v': 25,\n            'f': \"25\",\n        },\n{\n            'v': 640,\n            'f': \"640\",\n        },\n{\n            'v': 3.5,\n            'f': \"3.5\",\n        },\n{\n            'v': 2004,\n            'f': \"2004\",\n        }],\n [{\n            'v': 6,\n            'f': \"6\",\n        },\n{\n            'v': 52,\n            'f': \"52\",\n        },\n{\n            'v': 3.0,\n            'f': \"3.0\",\n        },\n{\n            'v': 1997,\n            'f': \"1997\",\n        }],\n [{\n            'v': 1,\n            'f': \"1\",\n        },\n{\n            'v': 75,\n            'f': \"75\",\n        },\n{\n            'v': 4.0,\n            'f': \"4.0\",\n        },\n{\n            'v': 2007,\n            'f': \"2007\",\n        }],\n [{\n            'v': 6,\n            'f': \"6\",\n        },\n{\n            'v': 619,\n            'f': \"619\",\n        },\n{\n            'v': 2.0,\n            'f': \"2.0\",\n        },\n{\n            'v': 1996,\n            'f': \"1996\",\n        }],\n [{\n            'v': 6,\n            'f': \"6\",\n        },\n{\n            'v': 483,\n            'f': \"483\",\n        },\n{\n            'v': 4.0,\n            'f': \"4.0\",\n        },\n{\n            'v': 2007,\n            'f': \"2007\",\n        }],\n [{\n            'v': 1,\n            'f': \"1\",\n        },\n{\n            'v': 627,\n            'f': \"627\",\n        },\n{\n            'v': 3.5,\n            'f': \"3.5\",\n        },\n{\n            'v': 2006,\n            'f': \"2006\",\n        }],\n [{\n            'v': 1,\n            'f': \"1\",\n        },\n{\n            'v': 682,\n            'f': \"682\",\n        },\n{\n            'v': 4.0,\n            'f': \"4.0\",\n        },\n{\n            'v': 2000,\n            'f': \"2000\",\n        }],\n [{\n            'v': 32,\n            'f': \"32\",\n        },\n{\n            'v': 726,\n            'f': \"726\",\n        },\n{\n            'v': 5.0,\n            'f': \"5.0\",\n        },\n{\n            'v': 2009,\n            'f': \"2009\",\n        }],\n [{\n            'v': 1,\n            'f': \"1\",\n        },\n{\n            'v': 346,\n            'f': \"346\",\n        },\n{\n            'v': 4.0,\n            'f': \"4.0\",\n        },\n{\n            'v': 1999,\n            'f': \"1999\",\n        }],\n [{\n            'v': 1,\n            'f': \"1\",\n        },\n{\n            'v': 845,\n            'f': \"845\",\n        },\n{\n            'v': 2.0,\n            'f': \"2.0\",\n        },\n{\n            'v': 1996,\n            'f': \"1996\",\n        }],\n [{\n            'v': 10,\n            'f': \"10\",\n        },\n{\n            'v': 127,\n            'f': \"127\",\n        },\n{\n            'v': 3.0,\n            'f': \"3.0\",\n        },\n{\n            'v': 1996,\n            'f': \"1996\",\n        }],\n [{\n            'v': 1,\n            'f': \"1\",\n        },\n{\n            'v': 638,\n            'f': \"638\",\n        },\n{\n            'v': 5.0,\n            'f': \"5.0\",\n        },\n{\n            'v': 1996,\n            'f': \"1996\",\n        }],\n [{\n            'v': 95,\n            'f': \"95\",\n        },\n{\n            'v': 455,\n            'f': \"455\",\n        },\n{\n            'v': 3.0,\n            'f': \"3.0\",\n        },\n{\n            'v': 1996,\n            'f': \"1996\",\n        }],\n [{\n            'v': 1,\n            'f': \"1\",\n        },\n{\n            'v': 196,\n            'f': \"196\",\n        },\n{\n            'v': 3.0,\n            'f': \"3.0\",\n        },\n{\n            'v': 1996,\n            'f': \"1996\",\n        }],\n [{\n            'v': 1,\n            'f': \"1\",\n        },\n{\n            'v': 44,\n            'f': \"44\",\n        },\n{\n            'v': 5.0,\n            'f': \"5.0\",\n        },\n{\n            'v': 1996,\n            'f': \"1996\",\n        }],\n [{\n            'v': 68,\n            'f': \"68\",\n        },\n{\n            'v': 635,\n            'f': \"635\",\n        },\n{\n            'v': 4.0,\n            'f': \"4.0\",\n        },\n{\n            'v': 1996,\n            'f': \"1996\",\n        }],\n [{\n            'v': 32,\n            'f': \"32\",\n        },\n{\n            'v': 87,\n            'f': \"87\",\n        },\n{\n            'v': 3.0,\n            'f': \"3.0\",\n        },\n{\n            'v': 1997,\n            'f': \"1997\",\n        }],\n [{\n            'v': 1,\n            'f': \"1\",\n        },\n{\n            'v': 760,\n            'f': \"760\",\n        },\n{\n            'v': 5.0,\n            'f': \"5.0\",\n        },\n{\n            'v': 1996,\n            'f': \"1996\",\n        }],\n [{\n            'v': 69,\n            'f': \"69\",\n        },\n{\n            'v': 798,\n            'f': \"798\",\n        },\n{\n            'v': 3.0,\n            'f': \"3.0\",\n        },\n{\n            'v': 2000,\n            'f': \"2000\",\n        }],\n [{\n            'v': 95,\n            'f': \"95\",\n        },\n{\n            'v': 430,\n            'f': \"430\",\n        },\n{\n            'v': 3.0,\n            'f': \"3.0\",\n        },\n{\n            'v': 1996,\n            'f': \"1996\",\n        }],\n [{\n            'v': 10,\n            'f': \"10\",\n        },\n{\n            'v': 984,\n            'f': \"984\",\n        },\n{\n            'v': 4.0,\n            'f': \"4.0\",\n        },\n{\n            'v': 1996,\n            'f': \"1996\",\n        }],\n [{\n            'v': 36,\n            'f': \"36\",\n        },\n{\n            'v': 261,\n            'f': \"261\",\n        },\n{\n            'v': 2.0,\n            'f': \"2.0\",\n        },\n{\n            'v': 1997,\n            'f': \"1997\",\n        }],\n [{\n            'v': 44,\n            'f': \"44\",\n        },\n{\n            'v': 314,\n            'f': \"314\",\n        },\n{\n            'v': 1.5,\n            'f': \"1.5\",\n        },\n{\n            'v': 2010,\n            'f': \"2010\",\n        }]],\n        columns: [[\"number\", \"nF\"], [\"number\", \"nU\"], [\"number\", \"note\"], [\"number\", \"annee\"]],\n        columnOptions: [],\n        rowsPerPage: 10,\n        helpUrl: \"https://colab.research.google.com/notebooks/data_table.ipynb\",\n        suppressOutputScrolling: true,\n        minimumWidth: undefined,\n      });\n    ",
            "text/plain": [
              "<google.colab.data_table.DataTable object>"
            ]
          },
          "metadata": {},
          "execution_count": 14
        }
      ]
    },
    {
      "cell_type": "markdown",
      "metadata": {
        "id": "6fBrIwKAXsYi"
      },
      "source": [
        "# Exercice 1 : Traitement sur des partitions"
      ]
    },
    {
      "cell_type": "markdown",
      "metadata": {
        "application/vnd.databricks.v1+cell": {
          "title": "",
          "showTitle": false,
          "inputWidgets": {},
          "nuid": "52fd9538-28a9-4974-92ea-8a7be60563c3"
        },
        "id": "0LPYBvh0G1_-"
      },
      "source": [
        "#### Fonction showPartitionSize\n",
        "\n",
        "La fonction *showPartitionSize*  affiche le nombre d'éléments dans chaque partition"
      ]
    },
    {
      "cell_type": "code",
      "source": [
        "# La fonction part_size prend en paramètres un numéro de partition (partID) \n",
        "#et un itérateur sur une partition.\n",
        "# Elle retourne un itérateur sur une partition qui contient un seul tuple \n",
        "(num_partition, nbtuples).\n",
        "\n",
        "def partSize(partID, iterateur):\n",
        "  size=0\n",
        "  suivant = next(iterateur, None)\n",
        "  while suivant is not None :\n",
        "    size += 1\n",
        "    suivant = next(iterateur, None)\n",
        "  yield (partID, size)\n",
        "\n",
        "\n",
        "def showPartitionSize(df):\n",
        "  #invoquer la fonction part_size sur chaque partition \n",
        "  t = df.selectExpr(\"1\").rdd.mapPartitionsWithIndex(partSize)\n",
        "  .toDF(['partID', 'size'])\n",
        "\n",
        "  # Rmq : selectExpr(\"1\") sert à simplifie la partition pour ne \n",
        "  #garder une seule colonne contentant des \"1\",\n",
        "  # ce qui est suffisant pour compter le nombre de tuples dans la partition.\n",
        "\n",
        "  #affichage\n",
        "  t.show()\n",
        "  return t\n",
        "\n",
        "print('showPartitionSize définie')"
      ],
      "metadata": {
        "colab": {
          "base_uri": "https://localhost:8080/"
        },
        "id": "iZ1J8L1d_f1U",
        "outputId": "1c0ee78c-a716-4f2f-971c-1af5ca840d43"
      },
      "execution_count": null,
      "outputs": [
        {
          "output_type": "stream",
          "name": "stdout",
          "text": [
            "showPartitionSize définie\n"
          ]
        }
      ]
    },
    {
      "cell_type": "markdown",
      "source": [
        "#### Fonction showPartitions\n",
        " \n",
        "La fonction *showPartitions*  affiche les _n_ premiers éléments de chaque partition\n"
      ],
      "metadata": {
        "id": "5mSrnR7j_icL"
      }
    },
    {
      "cell_type": "code",
      "metadata": {
        "application/vnd.databricks.v1+cell": {
          "title": "",
          "showTitle": false,
          "inputWidgets": {},
          "nuid": "f626210f-dce5-457b-a05b-1dd3e6af87a2"
        },
        "colab": {
          "base_uri": "https://localhost:8080/"
        },
        "id": "cIfA0oZaG1_-",
        "outputId": "e77fb31b-6f7e-4d35-8546-d7fcd2ea940b"
      },
      "source": [
        "def showPartitions(df, N=5):\n",
        "  nb_partitions = df.rdd.getNumPartitions()\n",
        "\n",
        "  # fonction topN est invoquée sur une partition.\n",
        "  # topN retourne un itérateur sur une partition qui contient \n",
        "  #les N premiers éléments de cette partition\n",
        "  def topN(partID, iterateur):\n",
        "    c=0\n",
        "    suivant = next(iterateur, None)\n",
        "    while suivant is not None and c < N :\n",
        "      c+=1\n",
        "      suivant = next(iterateur, None)\n",
        "      tuple_avec_numero_partition = (partID, *suivant)\n",
        "      yield tuple_avec_numero_partition\n",
        "    if c == 0:\n",
        "      return []\n",
        "  #-- fin de topN ---\n",
        "\n",
        "  nom_attributs = ['partID'] + df.schema.fieldNames()\n",
        "  premiers_tuples = df.rdd.mapPartitionsWithIndex(topN).toDF(nom_attributs)\n",
        "  # afficher premiers_tuples qui contient le début de chaque partition \n",
        "  premiers_tuples.show(N*nb_partitions, False)\n",
        "\n",
        "  # afficher séparément le contenu de chaque partition\n",
        "  # for partID in range(nb_partitions):\n",
        "  #   print(\"partition\", partID)\n",
        "  #   # afficher la partition partID\n",
        "  #   premiers_tuples.where(f\"partID={partID}\").show(N, False)\n",
        "    \n",
        "print('showPartitions définie')"
      ],
      "execution_count": null,
      "outputs": [
        {
          "output_type": "stream",
          "name": "stdout",
          "text": [
            "showPartitions définie\n"
          ]
        }
      ]
    },
    {
      "cell_type": "markdown",
      "metadata": {
        "id": "BOlul5ehQCXU"
      },
      "source": [
        "Afficher la taille de chaque partition"
      ]
    },
    {
      "cell_type": "code",
      "metadata": {
        "colab": {
          "base_uri": "https://localhost:8080/"
        },
        "id": "kw3S7FblajL2",
        "outputId": "1769f09b-714d-476e-ef88-b8b6872d7184"
      },
      "source": [
        "showPartitionSize(film_extrait)"
      ],
      "execution_count": null,
      "outputs": [
        {
          "output_type": "stream",
          "name": "stdout",
          "text": [
            "+------+----+\n",
            "|partID|size|\n",
            "+------+----+\n",
            "|     0|  31|\n",
            "|     1|  31|\n",
            "|     2|  30|\n",
            "+------+----+\n",
            "\n"
          ]
        },
        {
          "output_type": "execute_result",
          "data": {
            "text/plain": [
              "DataFrame[partID: bigint, size: bigint]"
            ]
          },
          "metadata": {},
          "execution_count": 17
        }
      ]
    },
    {
      "cell_type": "markdown",
      "metadata": {
        "id": "EwESmBw_P8-1"
      },
      "source": [
        "Afficher les premiers éléments de chaque partition"
      ]
    },
    {
      "cell_type": "code",
      "metadata": {
        "colab": {
          "base_uri": "https://localhost:8080/"
        },
        "id": "ClAHmDeVblxw",
        "outputId": "e91f2d08-4fc9-4109-8dea-6fcc5f3f809f"
      },
      "source": [
        "showPartitions(film_extrait,5)"
      ],
      "execution_count": null,
      "outputs": [
        {
          "output_type": "stream",
          "name": "stdout",
          "text": [
            "+------+---+-------------------------------------------------------------------------------+-----------------------------+\n",
            "|partID|nF |titre                                                                          |genres                       |\n",
            "+------+---+-------------------------------------------------------------------------------+-----------------------------+\n",
            "|0     |45 |To Die For (1995)                                                              |[Comedy, Drama, Thriller]    |\n",
            "|0     |58 |Postman, The (Postino, Il) (1994)                                              |[Comedy, Drama, Romance]     |\n",
            "|0     |54 |Big Green, The (1995)                                                          |[Children, Comedy]           |\n",
            "|0     |9  |Sudden Death (1995)                                                            |[Action]                     |\n",
            "|0     |4  |Waiting to Exhale (1995)                                                       |[Comedy, Drama, Romance]     |\n",
            "|1     |71 |Fair Game (1995)                                                               |[Action]                     |\n",
            "|1     |49 |When Night Is Falling (1995)                                                   |[Drama, Romance]             |\n",
            "|1     |27 |Now and Then (1995)                                                            |[Children, Drama]            |\n",
            "|1     |59 |Confessional, The (Confessionnal, Le) (1995)                                   |[Drama, Mystery]             |\n",
            "|1     |3  |Grumpier Old Men (1995)                                                        |[Comedy, Romance]            |\n",
            "|2     |21 |Get Shorty (1995)                                                              |[Comedy, Crime, Thriller]    |\n",
            "|2     |63 |Don't Be a Menace to South Central While Drinking Your Juice in the Hood (1996)|[Comedy, Crime]              |\n",
            "|2     |95 |Broken Arrow (1996)                                                            |[Action, Adventure, Thriller]|\n",
            "|2     |8  |Tom and Huck (1995)                                                            |[Adventure, Children]        |\n",
            "|2     |53 |Lamerica (1994)                                                                |[Adventure, Drama]           |\n",
            "+------+---+-------------------------------------------------------------------------------+-----------------------------+\n",
            "\n"
          ]
        }
      ]
    },
    {
      "cell_type": "markdown",
      "source": [
        "## Question 1 : Tri des films par titre\n",
        "\n",
        "En vous inspirant de la fonction *topN*  définir une fonction qui tri les données de *film_extrait* par titre. Le résultat a le meme schéma que film."
      ],
      "metadata": {
        "id": "VwNn5lfe8tGn"
      }
    },
    {
      "cell_type": "code",
      "source": [
        "def tri_par_titre(df, k = 4):\n",
        "  nb_partitions = df.rdd.getNumPartitions()\n",
        "\n",
        "  def hashFun(title):\n",
        "    return ord(title[0].upper())-ord('A')\n",
        "\n",
        "\n",
        "  def addHashNumber(partID, iterateur):\n",
        "    suivant = next(iterateur, None)\n",
        "    while suivant is not None :\n",
        "      yield (*suivant, hashFun(suivant[\"titre\"]))\n",
        "      suivant = next(iterateur, None)\n",
        "\n",
        "  nom_attributs = df.schema.fieldNames() + ['HushNumber']\n",
        "  \n",
        "  # hashed_df = df.rdd.mapPartitionsWithIndex(addHashNumber)\n",
        "  #.toDF(nom_attributs).repartition(26, col(\"HushNumber\")).persist()\n",
        "  hashed_df = df.rdd.mapPartitionsWithIndex(addHashNumber)\n",
        "  .toDF(nom_attributs).repartitionByRange(k, col(\"HushNumber\"))\n",
        "  .persist()\n",
        "\n",
        "\n",
        "  showPartitionSize(hashed_df)\n",
        "\n",
        "  hashed_df = hashed_df.withColumn(\"partID\", spark_partition_id())\n",
        "  .sortWithinPartitions(col(\"titre\"))\n",
        "\n",
        "  nb_partitions = hashed_df.rdd.getNumPartitions()\n",
        "\n",
        "  # afficher séparément le contenu de chaque partition\n",
        "  for partID in range(nb_partitions):\n",
        "    print(\"partition\", partID)\n",
        "    # afficher la partition partID\n",
        "    hashed_df.where(f\"partID={partID}\").show(10, False)"
      ],
      "metadata": {
        "id": "dfPqFsGU9MTc"
      },
      "execution_count": null,
      "outputs": []
    },
    {
      "cell_type": "code",
      "source": [
        "tri_par_titre(film_extrait)"
      ],
      "metadata": {
        "colab": {
          "base_uri": "https://localhost:8080/"
        },
        "id": "cf0Q0CpYYYkZ",
        "outputId": "adbad7ec-0e6b-4df1-92cd-459b2021d475"
      },
      "execution_count": null,
      "outputs": [
        {
          "output_type": "stream",
          "name": "stdout",
          "text": [
            "+------+----+\n",
            "|partID|size|\n",
            "+------+----+\n",
            "|     0|  23|\n",
            "|     1|  25|\n",
            "|     2|  23|\n",
            "|     3|  21|\n",
            "+------+----+\n",
            "\n",
            "partition 0\n",
            "+---+-------------------------------------+--------------------------------+----------+------+\n",
            "|nF |titre                                |genres                          |HushNumber|partID|\n",
            "+---+-------------------------------------+--------------------------------+----------+------+\n",
            "|19 |Ace Ventura: When Nature Calls (1995)|[Comedy]                        |0         |0     |\n",
            "|37 |Across the Sea of Time (1995)        |[Documentary, IMAX]             |0         |0     |\n",
            "|11 |American President, The (1995)       |[Comedy, Drama, Romance]        |0         |0     |\n",
            "|85 |Angels and Insects (1995)            |[Drama, Romance]                |0         |0     |\n",
            "|82 |Antonia's Line (Antonia) (1995)      |[Comedy, Drama]                 |0         |0     |\n",
            "|23 |Assassins (1995)                     |[Action, Crime, Thriller]       |0         |0     |\n",
            "|34 |Babe (1995)                          |[Children, Drama]               |1         |0     |\n",
            "|13 |Balto (1995)                         |[Adventure, Animation, Children]|1         |0     |\n",
            "|94 |Beautiful Girls (1996)               |[Comedy, Drama, Romance]        |1         |0     |\n",
            "|74 |Bed of Roses (1996)                  |[Drama, Romance]                |1         |0     |\n",
            "+---+-------------------------------------+--------------------------------+----------+------+\n",
            "only showing top 10 rows\n",
            "\n",
            "partition 1\n",
            "+---+-------------------------------------------------------------------------------+----------------------+----------+------+\n",
            "|nF |titre                                                                          |genres                |HushNumber|partID|\n",
            "+---+-------------------------------------------------------------------------------+----------------------+----------+------+\n",
            "|31 |Dangerous Minds (1995)                                                         |[Drama]               |3         |1     |\n",
            "|36 |Dead Man Walking (1995)                                                        |[Crime, Drama]        |3         |1     |\n",
            "|42 |Dead Presidents (1995)                                                         |[Action, Crime, Drama]|3         |1     |\n",
            "|63 |Don't Be a Menace to South Central While Drinking Your Juice in the Hood (1996)|[Comedy, Crime]       |3         |1     |\n",
            "|12 |Dracula: Dead and Loving It (1995)                                             |[Comedy, Horror]      |3         |1     |\n",
            "|87 |Dunston Checks In (1996)                                                       |[Children, Comedy]    |3         |1     |\n",
            "|61 |Eye for an Eye (1996)                                                          |[Drama, Thriller]     |4         |1     |\n",
            "|71 |Fair Game (1995)                                                               |[Action]              |5         |1     |\n",
            "|5  |Father of the Bride Part II (1995)                                             |[Comedy]              |5         |1     |\n",
            "|18 |Four Rooms (1995)                                                              |[Comedy]              |5         |1     |\n",
            "+---+-------------------------------------------------------------------------------+----------------------+----------+------+\n",
            "only showing top 10 rows\n",
            "\n",
            "partition 2\n",
            "+---+-----------------------------------------+------------------------------+----------+------+\n",
            "|nF |titre                                    |genres                        |HushNumber|partID|\n",
            "+---+-----------------------------------------+------------------------------+----------+------+\n",
            "|2  |Jumanji (1995)                           |[Adventure, Children, Fantasy]|9         |2     |\n",
            "|79 |Juror, The (1996)                        |[Drama, Thriller]             |9         |2     |\n",
            "|72 |Kicking and Screaming (1995)             |[Comedy, Drama]               |10        |2     |\n",
            "|53 |Lamerica (1994)                          |[Adventure, Drama]            |11        |2     |\n",
            "|84 |Last Summer in the Hamptons (1995)       |[Comedy, Drama]               |11        |2     |\n",
            "|66 |Lawnmower Man 2: Beyond Cyberspace (1996)|[Action, Sci-Fi, Thriller]    |11        |2     |\n",
            "|25 |Leaving Las Vegas (1995)                 |[Drama, Romance]              |11        |2     |\n",
            "|92 |Mary Reilly (1996)                       |[Drama, Horror, Thriller]     |12        |2     |\n",
            "|52 |Mighty Aphrodite (1995)                  |[Comedy, Drama, Romance]      |12        |2     |\n",
            "|73 |Misérables, Les (1995)                   |[Drama, War]                  |12        |2     |\n",
            "+---+-----------------------------------------+------------------------------+----------+------+\n",
            "only showing top 10 rows\n",
            "\n",
            "partition 3\n",
            "+---+----------------------------------------------------+--------------------------+----------+------+\n",
            "|nF |titre                                               |genres                    |HushNumber|partID|\n",
            "+---+----------------------------------------------------+--------------------------+----------+------+\n",
            "|43 |Restoration (1995)                                  |[Drama]                   |17        |3     |\n",
            "|41 |Richard III (1995)                                  |[Drama, War]              |17        |3     |\n",
            "|7  |Sabrina (1995)                                      |[Comedy, Romance]         |18        |3     |\n",
            "|76 |Screamers (1995)                                    |[Action, Sci-Fi, Thriller]|18        |3     |\n",
            "|17 |Sense and Sensibility (1995)                        |[Drama, Romance]          |18        |3     |\n",
            "|47 |Seven (a.k.a. Se7en) (1995)                         |[Mystery, Thriller]       |18        |3     |\n",
            "|30 |Shanghai Triad (Yao a yao yao dao waipo qiao) (1995)|[Crime, Drama]            |18        |3     |\n",
            "|98 |Shopping (1994)                                     |[Action, Thriller]        |18        |3     |\n",
            "|9  |Sudden Death (1995)                                 |[Action]                  |18        |3     |\n",
            "|81 |Things to Do in Denver When You're Dead (1995)      |[Crime, Drama, Romance]   |19        |3     |\n",
            "+---+----------------------------------------------------+--------------------------+----------+------+\n",
            "only showing top 10 rows\n",
            "\n"
          ]
        }
      ]
    },
    {
      "cell_type": "markdown",
      "source": [
        "**Comments (using repartition command)**\n",
        "\n",
        "* The repartitioning based on the HushNumber ensures that the rows having the same number (aka. the same first letter) are regrouped in one partition (together).\n",
        "* **However**, The repartitioning does not take into account the order of the numbers. There is no insurance that 1 and 2 are in the same/adjacent partitions.\n",
        "  * This is due to the inner functionning of the command 'repartition'\n",
        "\n"
      ],
      "metadata": {
        "id": "sevxBmP6fASu"
      }
    },
    {
      "cell_type": "markdown",
      "source": [
        "## Question 2 : Regrouper les films par genre et les compter\n",
        "\n",
        "En vous inspirant de la fonction *topN*  définir une fonction qui compte le nombre de films par genre. Le schéma du résultat est (genre, n)"
      ],
      "metadata": {
        "id": "Nm_8Ta5y1jSQ"
      }
    },
    {
      "cell_type": "code",
      "source": [
        "def count_par_genre(df):\n",
        "  def countPartGenres(partID, iterateur):\n",
        "    suivant = next(iterateur, None)\n",
        "    genres=dict()\n",
        "    while suivant is not None :\n",
        "      for g in suivant.genres: #a list\n",
        "        if g in genres:\n",
        "          genres[g] +=1\n",
        "        else:\n",
        "          genres[g]= 1\n",
        "      suivant = next(iterateur, None)\n",
        "    \n",
        "    for genre, nb in genres.items():\n",
        "        yield (partID, genre, nb)\n",
        "\n",
        "  def countPartGenre(partID, iterateur):\n",
        "    suivant = next(iterateur, None)\n",
        "    genres=dict()\n",
        "    while suivant is not None :\n",
        "      g = suivant.genre\n",
        "      if g in genres:\n",
        "        genres[g] += suivant.n\n",
        "      else:\n",
        "        genres[g]= suivant.n\n",
        "      suivant = next(iterateur, None)\n",
        "    \n",
        "    for genre, nb in genres.items():\n",
        "        yield (partID, genre, nb)\n",
        "    \n",
        "  nom_attributs = ['partID','genre','n']\n",
        "\n",
        "  hashed_df = df.rdd.mapPartitionsWithIndex(countPartGenres)\n",
        "  .toDF(nom_attributs).repartitionByRange(3, col(\"genre\"))\n",
        "  .rdd.mapPartitionsWithIndex(countPartGenre).toDF(nom_attributs)\n",
        "  #does map not regroup data  = No\n",
        "\n",
        "  # hashed_df = hashed_df.groupBy(col(\"genre\"))\n",
        "  #.agg(sum(col(\"n\")).alias(\"n\"))\n",
        "  showPartitionSize(hashed_df)\n",
        "  return hashed_df\n",
        "      "
      ],
      "metadata": {
        "id": "Jrt0Y9XE1jSX"
      },
      "execution_count": null,
      "outputs": []
    },
    {
      "cell_type": "code",
      "source": [
        "res = count_par_genre(film_extrait)\n",
        "display(res)"
      ],
      "metadata": {
        "colab": {
          "base_uri": "https://localhost:8080/",
          "height": 453
        },
        "id": "qK1eSFJQk7ED",
        "outputId": "e27d76d6-bc0d-4b78-fef7-ec1accd095a5"
      },
      "execution_count": null,
      "outputs": [
        {
          "output_type": "stream",
          "name": "stdout",
          "text": [
            "+------+----+\n",
            "|partID|size|\n",
            "+------+----+\n",
            "|     0|   6|\n",
            "|     1|   6|\n",
            "|     2|   5|\n",
            "+------+----+\n",
            "\n"
          ]
        },
        {
          "output_type": "execute_result",
          "data": {
            "text/html": [
              "<div>\n",
              "<style scoped>\n",
              "    .dataframe tbody tr th:only-of-type {\n",
              "        vertical-align: middle;\n",
              "    }\n",
              "\n",
              "    .dataframe tbody tr th {\n",
              "        vertical-align: top;\n",
              "    }\n",
              "\n",
              "    .dataframe thead th {\n",
              "        text-align: right;\n",
              "    }\n",
              "</style>\n",
              "<table border=\"1\" class=\"dataframe\">\n",
              "  <thead>\n",
              "    <tr style=\"text-align: right;\">\n",
              "      <th></th>\n",
              "      <th>partID</th>\n",
              "      <th>genre</th>\n",
              "      <th>n</th>\n",
              "    </tr>\n",
              "  </thead>\n",
              "  <tbody>\n",
              "    <tr>\n",
              "      <th>0</th>\n",
              "      <td>0</td>\n",
              "      <td>Comedy</td>\n",
              "      <td>31</td>\n",
              "    </tr>\n",
              "    <tr>\n",
              "      <th>1</th>\n",
              "      <td>0</td>\n",
              "      <td>Children</td>\n",
              "      <td>12</td>\n",
              "    </tr>\n",
              "    <tr>\n",
              "      <th>2</th>\n",
              "      <td>0</td>\n",
              "      <td>Action</td>\n",
              "      <td>17</td>\n",
              "    </tr>\n",
              "    <tr>\n",
              "      <th>3</th>\n",
              "      <td>0</td>\n",
              "      <td>Crime</td>\n",
              "      <td>14</td>\n",
              "    </tr>\n",
              "    <tr>\n",
              "      <th>4</th>\n",
              "      <td>0</td>\n",
              "      <td>Adventure</td>\n",
              "      <td>12</td>\n",
              "    </tr>\n",
              "    <tr>\n",
              "      <th>5</th>\n",
              "      <td>0</td>\n",
              "      <td>Animation</td>\n",
              "      <td>3</td>\n",
              "    </tr>\n",
              "    <tr>\n",
              "      <th>6</th>\n",
              "      <td>1</td>\n",
              "      <td>Drama</td>\n",
              "      <td>50</td>\n",
              "    </tr>\n",
              "    <tr>\n",
              "      <th>7</th>\n",
              "      <td>1</td>\n",
              "      <td>Horror</td>\n",
              "      <td>5</td>\n",
              "    </tr>\n",
              "    <tr>\n",
              "      <th>8</th>\n",
              "      <td>1</td>\n",
              "      <td>Fantasy</td>\n",
              "      <td>5</td>\n",
              "    </tr>\n",
              "    <tr>\n",
              "      <th>9</th>\n",
              "      <td>1</td>\n",
              "      <td>Documentary</td>\n",
              "      <td>3</td>\n",
              "    </tr>\n",
              "    <tr>\n",
              "      <th>10</th>\n",
              "      <td>1</td>\n",
              "      <td>Musical</td>\n",
              "      <td>1</td>\n",
              "    </tr>\n",
              "    <tr>\n",
              "      <th>11</th>\n",
              "      <td>1</td>\n",
              "      <td>IMAX</td>\n",
              "      <td>1</td>\n",
              "    </tr>\n",
              "    <tr>\n",
              "      <th>12</th>\n",
              "      <td>2</td>\n",
              "      <td>Romance</td>\n",
              "      <td>23</td>\n",
              "    </tr>\n",
              "    <tr>\n",
              "      <th>13</th>\n",
              "      <td>2</td>\n",
              "      <td>Thriller</td>\n",
              "      <td>20</td>\n",
              "    </tr>\n",
              "    <tr>\n",
              "      <th>14</th>\n",
              "      <td>2</td>\n",
              "      <td>War</td>\n",
              "      <td>2</td>\n",
              "    </tr>\n",
              "    <tr>\n",
              "      <th>15</th>\n",
              "      <td>2</td>\n",
              "      <td>Sci-Fi</td>\n",
              "      <td>5</td>\n",
              "    </tr>\n",
              "    <tr>\n",
              "      <th>16</th>\n",
              "      <td>2</td>\n",
              "      <td>Mystery</td>\n",
              "      <td>6</td>\n",
              "    </tr>\n",
              "  </tbody>\n",
              "</table>\n",
              "</div>"
            ],
            "application/vnd.google.colaboratory.module+javascript": "\n      import \"https://ssl.gstatic.com/colaboratory/data_table/fb998edc550c7947/data_table.js\";\n\n      window.createDataTable({\n        data: [[{\n            'v': 0,\n            'f': \"0\",\n        },\n\"Comedy\",\n{\n            'v': 31,\n            'f': \"31\",\n        }],\n [{\n            'v': 0,\n            'f': \"0\",\n        },\n\"Children\",\n{\n            'v': 12,\n            'f': \"12\",\n        }],\n [{\n            'v': 0,\n            'f': \"0\",\n        },\n\"Action\",\n{\n            'v': 17,\n            'f': \"17\",\n        }],\n [{\n            'v': 0,\n            'f': \"0\",\n        },\n\"Crime\",\n{\n            'v': 14,\n            'f': \"14\",\n        }],\n [{\n            'v': 0,\n            'f': \"0\",\n        },\n\"Adventure\",\n{\n            'v': 12,\n            'f': \"12\",\n        }],\n [{\n            'v': 0,\n            'f': \"0\",\n        },\n\"Animation\",\n{\n            'v': 3,\n            'f': \"3\",\n        }],\n [{\n            'v': 1,\n            'f': \"1\",\n        },\n\"Drama\",\n{\n            'v': 50,\n            'f': \"50\",\n        }],\n [{\n            'v': 1,\n            'f': \"1\",\n        },\n\"Horror\",\n{\n            'v': 5,\n            'f': \"5\",\n        }],\n [{\n            'v': 1,\n            'f': \"1\",\n        },\n\"Fantasy\",\n{\n            'v': 5,\n            'f': \"5\",\n        }],\n [{\n            'v': 1,\n            'f': \"1\",\n        },\n\"Documentary\",\n{\n            'v': 3,\n            'f': \"3\",\n        }],\n [{\n            'v': 1,\n            'f': \"1\",\n        },\n\"Musical\",\n{\n            'v': 1,\n            'f': \"1\",\n        }],\n [{\n            'v': 1,\n            'f': \"1\",\n        },\n\"IMAX\",\n{\n            'v': 1,\n            'f': \"1\",\n        }],\n [{\n            'v': 2,\n            'f': \"2\",\n        },\n\"Romance\",\n{\n            'v': 23,\n            'f': \"23\",\n        }],\n [{\n            'v': 2,\n            'f': \"2\",\n        },\n\"Thriller\",\n{\n            'v': 20,\n            'f': \"20\",\n        }],\n [{\n            'v': 2,\n            'f': \"2\",\n        },\n\"War\",\n{\n            'v': 2,\n            'f': \"2\",\n        }],\n [{\n            'v': 2,\n            'f': \"2\",\n        },\n\"Sci-Fi\",\n{\n            'v': 5,\n            'f': \"5\",\n        }],\n [{\n            'v': 2,\n            'f': \"2\",\n        },\n\"Mystery\",\n{\n            'v': 6,\n            'f': \"6\",\n        }]],\n        columns: [[\"number\", \"partID\"], [\"string\", \"genre\"], [\"number\", \"n\"]],\n        columnOptions: [],\n        rowsPerPage: 10,\n        helpUrl: \"https://colab.research.google.com/notebooks/data_table.ipynb\",\n        suppressOutputScrolling: true,\n        minimumWidth: undefined,\n      });\n    ",
            "text/plain": [
              "<google.colab.data_table.DataTable object>"
            ]
          },
          "metadata": {},
          "execution_count": 70
        }
      ]
    },
    {
      "cell_type": "markdown",
      "source": [
        "## Question 3 : Numérotation\n",
        "\n",
        "En vous inspirant de la fonction *topN*  définir une fonction qui attribue un numéro de 1 à n à chaque tuple de notes_extrait. Le résultat a les attributs de notes + un attribut num."
      ],
      "metadata": {
        "id": "VPCyI3vt1jr2"
      }
    },
    {
      "cell_type": "code",
      "source": [
        "def numeroter(df):\n",
        "  nb_partitions = df.rdd.getNumPartitions()\n",
        "\n",
        "  stats = showPartitionSize(df).collect() \n",
        "  #with collect: it returns a list of rows.\n",
        "  stats = dict(stats) #return partID: number\n",
        "\n",
        "  #track the current numbers across partition\n",
        "  partIDs = list(stats.keys())\n",
        "  partIDs.sort()\n",
        "  #from first to last partition (we can not sort them \n",
        "  #(in this case, the order of numbers may not be preserved.))\n",
        "  sum = 1\n",
        "  res = dict()\n",
        "  for i in partIDs:\n",
        "    res[i]=sum\n",
        "    sum += stats[i]\n",
        "\n",
        "  broadcastRes = spark.sparkContext.broadcast(res)\n",
        "\n",
        "  def numPart(partID, iterateur):\n",
        "    num = broadcastRes.value[partID] #numInterne\n",
        "    suivant = next(iterateur, None)\n",
        "    while suivant is not None :\n",
        "      yield (partID, *suivant, num)\n",
        "      num+=1\n",
        "      suivant = next(iterateur, None)\n",
        "\n",
        "  nom_attributs = ['partID'] + df.schema.fieldNames() + ['num']\n",
        "\n",
        "  numbered_df = df.rdd.mapPartitionsWithIndex(numPart)\n",
        "  .toDF(nom_attributs)\n",
        "\n",
        "  # showPartitions(numbered_df)\n",
        "\n",
        "  # afficher séparément le contenu de chaque partition\n",
        "  for partID in range(nb_partitions):\n",
        "    print(\"partition\", partID)\n",
        "    numbered_df.where(f\"partID={partID}\").show(10, False)\n",
        "\n",
        "numeroter(notes_extrait)"
      ],
      "metadata": {
        "colab": {
          "base_uri": "https://localhost:8080/"
        },
        "id": "9_CG8ynEgU0t",
        "outputId": "28e874d8-538b-4578-eda7-5b76881c34c9"
      },
      "execution_count": null,
      "outputs": [
        {
          "output_type": "stream",
          "name": "stdout",
          "text": [
            "+------+----+\n",
            "|partID|size|\n",
            "+------+----+\n",
            "|     0|  62|\n",
            "|     1|  62|\n",
            "|     2|  61|\n",
            "+------+----+\n",
            "\n",
            "partition 0\n",
            "+------+---+---+----+-----+---+\n",
            "|partID|nF |nU |note|annee|num|\n",
            "+------+---+---+----+-----+---+\n",
            "|0     |19 |76 |1.5 |2011 |1  |\n",
            "|0     |62 |691|5.0 |1996 |2  |\n",
            "|0     |25 |832|5.0 |1998 |3  |\n",
            "|0     |5  |296|3.5 |2005 |4  |\n",
            "|0     |48 |781|3.0 |1996 |5  |\n",
            "|0     |34 |871|4.0 |2000 |6  |\n",
            "|0     |2  |796|1.5 |2015 |7  |\n",
            "|0     |2  |353|3.0 |2003 |8  |\n",
            "|0     |28 |815|5.0 |1996 |9  |\n",
            "|0     |5  |196|4.0 |1996 |10 |\n",
            "+------+---+---+----+-----+---+\n",
            "only showing top 10 rows\n",
            "\n",
            "partition 1\n",
            "+------+---+---+----+-----+---+\n",
            "|partID|nF |nU |note|annee|num|\n",
            "+------+---+---+----+-----+---+\n",
            "|1     |15 |875|4.0 |1996 |63 |\n",
            "|1     |62 |368|4.0 |2006 |64 |\n",
            "|1     |29 |592|4.0 |2000 |65 |\n",
            "|1     |31 |767|3.0 |1996 |66 |\n",
            "|1     |25 |339|5.0 |1997 |67 |\n",
            "|1     |34 |682|4.0 |2000 |68 |\n",
            "|1     |19 |63 |0.5 |2007 |69 |\n",
            "|1     |19 |240|1.5 |2003 |70 |\n",
            "|1     |2  |390|2.0 |2005 |71 |\n",
            "|1     |19 |533|3.0 |2000 |72 |\n",
            "+------+---+---+----+-----+---+\n",
            "only showing top 10 rows\n",
            "\n",
            "partition 2\n",
            "+------+---+---+----+-----+---+\n",
            "|partID|nF |nU |note|annee|num|\n",
            "+------+---+---+----+-----+---+\n",
            "|2     |19 |151|2.0 |2004 |125|\n",
            "|2     |48 |506|4.0 |2010 |126|\n",
            "|2     |88 |168|3.0 |1996 |127|\n",
            "|2     |26 |366|5.0 |1997 |128|\n",
            "|2     |34 |711|2.5 |2009 |129|\n",
            "|2     |25 |576|4.0 |2000 |130|\n",
            "|2     |2  |542|3.0 |1996 |131|\n",
            "|2     |12 |390|3.0 |2000 |132|\n",
            "|2     |25 |721|4.0 |1996 |133|\n",
            "|2     |34 |166|3.0 |2016 |134|\n",
            "+------+---+---+----+-----+---+\n",
            "only showing top 10 rows\n",
            "\n"
          ]
        }
      ]
    },
    {
      "cell_type": "markdown",
      "source": [
        "## Question 4 : Regrouper et trier\n",
        "\n",
        "Définir une fonction qui affiche le nombre de notes par année dans l'ordre croissant des années"
      ],
      "metadata": {
        "id": "hRLvbIAO3fD4"
      }
    },
    {
      "cell_type": "code",
      "source": [
        "def regrouper_trier(df):\n",
        "  def countPartYear(partID, iterateur):\n",
        "    suivant = next(iterateur, None)\n",
        "    years=dict()\n",
        "    while suivant is not None :\n",
        "      if suivant.annee in years:\n",
        "        years[suivant.annee] +=1\n",
        "      else:\n",
        "        years[suivant.annee] =1\n",
        "      suivant = next(iterateur, None)\n",
        "    \n",
        "    for year, nb in years.items():\n",
        "        yield (partID, year, nb)\n",
        "\n",
        "  def countTotalYear(partID, iterateur):\n",
        "    suivant = next(iterateur, None)\n",
        "    years=dict()\n",
        "    while suivant is not None :\n",
        "      if suivant.year in years:\n",
        "        years[suivant.year] += suivant.n\n",
        "      else:\n",
        "        years[suivant.year] = suivant.n\n",
        "      suivant = next(iterateur, None)\n",
        "    \n",
        "    for year, nb in years.items():\n",
        "        yield (partID, year, nb)\n",
        "    \n",
        "  nom_attributs = ['partID','year','n']\n",
        "\n",
        "  year_df_part = df.rdd.mapPartitionsWithIndex(countPartYear)\n",
        "  .toDF(nom_attributs).repartitionByRange(3, col(\"year\"))\n",
        "  .sortWithinPartitions(col(\"year\"))\n",
        "  .rdd.mapPartitionsWithIndex(countTotalYear)\n",
        "  .toDF(nom_attributs)\n",
        "  final_df = year_df_part\n",
        "  # final_df = year_df_part.groupBy(col(\"year\"))\n",
        "  #.agg(sum(col(\"n\")).alias(\"n\")).orderBy(col(\"year\"))\n",
        "  #.selectExpr(\"year\", \"n\")\n",
        "  final_df.show()\n",
        "regrouper_trier(notes_extrait)"
      ],
      "metadata": {
        "id": "DvQivCYc3fD5",
        "colab": {
          "base_uri": "https://localhost:8080/"
        },
        "outputId": "de59f62a-9ece-4a59-c7f7-8d88cd335790"
      },
      "execution_count": null,
      "outputs": [
        {
          "output_type": "stream",
          "name": "stdout",
          "text": [
            "+------+----+---+\n",
            "|partID|year|  n|\n",
            "+------+----+---+\n",
            "|     0|1996| 52|\n",
            "|     0|1997| 20|\n",
            "|     0|1998|  3|\n",
            "|     0|1999| 12|\n",
            "|     0|2000| 14|\n",
            "|     0|2001| 11|\n",
            "|     0|2002|  6|\n",
            "|     1|2003|  9|\n",
            "|     1|2004|  7|\n",
            "|     1|2005|  4|\n",
            "|     1|2006|  9|\n",
            "|     1|2007|  7|\n",
            "|     1|2008|  1|\n",
            "|     1|2009|  5|\n",
            "|     2|2010|  3|\n",
            "|     2|2011|  1|\n",
            "|     2|2012|  2|\n",
            "|     2|2013|  1|\n",
            "|     2|2014|  3|\n",
            "|     2|2015|  5|\n",
            "+------+----+---+\n",
            "only showing top 20 rows\n",
            "\n"
          ]
        }
      ]
    },
    {
      "cell_type": "code",
      "source": [
        "notes_extrait.groupBy(col(\"annee\")).agg(count(\"*\")).explain()"
      ],
      "metadata": {
        "colab": {
          "base_uri": "https://localhost:8080/"
        },
        "id": "XHsPd7ePov1M",
        "outputId": "dcac7f79-0c49-47b1-f2f9-db79eb6e43b8"
      },
      "execution_count": null,
      "outputs": [
        {
          "output_type": "stream",
          "name": "stdout",
          "text": [
            "== Physical Plan ==\n",
            "AdaptiveSparkPlan isFinalPlan=false\n",
            "+- HashAggregate(keys=[annee#92L], functions=[count(1)])\n",
            "   +- Exchange hashpartitioning(annee#92L, 4), ENSURE_REQUIREMENTS, [plan_id=1861]\n",
            "      +- HashAggregate(keys=[annee#92L], functions=[partial_count(1)])\n",
            "         +- InMemoryTableScan [annee#92L]\n",
            "               +- InMemoryRelation [nF#89L, nU#90L, note#91, annee#92L], StorageLevel(disk, memory, deserialized, 1 replicas)\n",
            "                     +- Exchange RoundRobinPartitioning(3), REPARTITION_BY_NUM, [plan_id=85]\n",
            "                        +- *(5) Project [nF#89L, nU#90L, note#91, annee#92L]\n",
            "                           +- *(5) SortMergeJoin [nF#89L], [nF#0L], Inner\n",
            "                              :- *(2) Sort [nF#89L ASC NULLS FIRST], false, 0\n",
            "                              :  +- Exchange hashpartitioning(nF#89L, 4), ENSURE_REQUIREMENTS, [plan_id=69]\n",
            "                              :     +- *(1) Filter ((isnotnull(nU#90L) AND (nU#90L < 1000)) AND isnotnull(nF#89L))\n",
            "                              :        +- FileScan json [nF#89L,nU#90L,note#91,annee#92L] Batched: false, DataFilters: [isnotnull(nU#90L), (nU#90L < 1000), isnotnull(nF#89L)], Format: JSON, Location: InMemoryFileIndex(1 paths)[file:/content/notes1M.json], PartitionFilters: [], PushedFilters: [IsNotNull(nU), LessThan(nU,1000), IsNotNull(nF)], ReadSchema: struct<nF:bigint,nU:bigint,note:double,annee:bigint>\n",
            "                              +- *(4) Sort [nF#0L ASC NULLS FIRST], false, 0\n",
            "                                 +- Exchange hashpartitioning(nF#0L, 4), ENSURE_REQUIREMENTS, [plan_id=77]\n",
            "                                    +- *(3) Filter isnotnull(nF#0L)\n",
            "                                       +- InMemoryTableScan [nF#0L], [isnotnull(nF#0L)]\n",
            "                                             +- InMemoryRelation [nF#0L, titre#1, genres#6], StorageLevel(disk, memory, deserialized, 1 replicas)\n",
            "                                                   +- Exchange RoundRobinPartitioning(3), REPARTITION_BY_NUM, [plan_id=15]\n",
            "                                                      +- *(1) Project [nF#0L, titre#1, g#2 AS genres#6]\n",
            "                                                         +- *(1) Filter (isnotnull(nF#0L) AND (nF#0L < 100))\n",
            "                                                            +- FileScan json [nF#0L,titre#1,g#2] Batched: false, DataFilters: [isnotnull(nF#0L), (nF#0L < 100)], Format: JSON, Location: InMemoryFileIndex(1 paths)[file:/content/films.json], PartitionFilters: [], PushedFilters: [IsNotNull(nF), LessThan(nF,100)], ReadSchema: struct<nF:bigint,titre:string,g:array<string>>\n",
            "\n",
            "\n"
          ]
        }
      ]
    },
    {
      "cell_type": "markdown",
      "source": [
        "**IN THE EXPLAIN() RESULT, FOCUS ON THE FIRST LEVELS:**\n",
        "- exchange\n",
        "- hash aggregate\n",
        "- join\n",
        "- sort"
      ],
      "metadata": {
        "id": "tgn2GqjWw6be"
      }
    },
    {
      "cell_type": "markdown",
      "source": [
        "## Question 5 : top fréquence\n",
        "\n",
        "Définir une fonction qui affiche les 5 mots les plus fréquents dans les titres"
      ],
      "metadata": {
        "id": "wOCWDh_-3fJy"
      }
    },
    {
      "cell_type": "code",
      "source": [
        "import re\n",
        "import string\n",
        "st = \"My name is Lina (2002)\"\n",
        "res = re.sub('['+string.punctuation+']', '', st)\n",
        ".split()[:-1]\n",
        "res"
      ],
      "metadata": {
        "colab": {
          "base_uri": "https://localhost:8080/"
        },
        "id": "gIcuhbK-tTJa",
        "outputId": "bef85158-3ee4-407e-eda9-c86769f5941f"
      },
      "execution_count": null,
      "outputs": [
        {
          "output_type": "execute_result",
          "data": {
            "text/plain": [
              "['My', 'name', 'is', 'Lina']"
            ]
          },
          "metadata": {},
          "execution_count": 48
        }
      ]
    },
    {
      "cell_type": "code",
      "source": [
        "def top_frequence(df):\n",
        "  def countPartWords(partID, iterateur):\n",
        "    suivant = next(iterateur, None)\n",
        "    words=dict()\n",
        "    while suivant is not None :\n",
        "      ws = re.sub('['+string.punctuation+']', '', suivant.titre)\n",
        "      .lower().split()[:-1]#we ignore punctuation + the production year.\n",
        "      for w in ws:\n",
        "        if w in words:\n",
        "          words[w] +=1\n",
        "        else:\n",
        "          words[w] =1\n",
        "      suivant = next(iterateur, None)\n",
        "    \n",
        "    for w, nb in words.items():\n",
        "        yield (partID, w, nb)\n",
        "\n",
        "  def countPartWord(partID, iterateur):\n",
        "    suivant = next(iterateur, None)\n",
        "    words=dict()\n",
        "    while suivant is not None :\n",
        "      w = suivant.word\n",
        "      if w in words:\n",
        "        words[w] += suivant.n\n",
        "      else:\n",
        "        words[w] = suivant.n\n",
        "      suivant = next(iterateur, None)\n",
        "    \n",
        "    for w, nb in words.items():\n",
        "        yield (w, nb)\n",
        "    \n",
        "  nom_attributs = ['partID','word','n']\n",
        "  nom_attributs_final = ['word','n']\n",
        "\n",
        "  year_df_part = df.rdd.mapPartitionsWithIndex(countPartWords)\n",
        "  .toDF(nom_attributs).repartitionByRange(3, col(\"word\"))\n",
        "  .rdd.mapPartitionsWithIndex(countPartWord)\n",
        "  .toDF(nom_attributs_final)\n",
        "  final_df = year_df_part\n",
        "  .repartitionByRange(3, col(\"n\"))\n",
        "  .sortWithinPartitions(\"n\").limit(20)\n",
        "  # final_df = year_df_part.groupBy(col(\"word\"))\n",
        "  #.agg(sum(col(\"n\")).alias(\"n\"))\n",
        "  #.orderBy(col(\"n\").de sc()).limit(20)\n",
        "  final_df.show()\n",
        "top_frequence(film_extrait)"
      ],
      "metadata": {
        "id": "JZSIuVtD3fJz",
        "colab": {
          "base_uri": "https://localhost:8080/"
        },
        "outputId": "f94b37ba-8cd3-4093-9941-1327f5bf380a"
      },
      "execution_count": null,
      "outputs": [
        {
          "output_type": "stream",
          "name": "stdout",
          "text": [
            "+--------+---+\n",
            "|    word|  n|\n",
            "+--------+---+\n",
            "|     the| 18|\n",
            "|      in|  7|\n",
            "|     and|  6|\n",
            "|      to|  5|\n",
            "|      of|  5|\n",
            "|    dead|  4|\n",
            "|    when|  4|\n",
            "|       a|  3|\n",
            "|     for|  3|\n",
            "|    time|  3|\n",
            "|     yao|  3|\n",
            "|      an|  2|\n",
            "|american|  2|\n",
            "|     eye|  2|\n",
            "|     aka|  2|\n",
            "|      it|  2|\n",
            "|      la|  2|\n",
            "|     man|  2|\n",
            "| monkeys|  2|\n",
            "|   white|  2|\n",
            "+--------+---+\n",
            "\n"
          ]
        }
      ]
    },
    {
      "cell_type": "markdown",
      "source": [
        "## Question 6 : Jointure\n",
        "\n",
        "Définir les fonctions pour calculer la jointure entre les extraits de films et de notes"
      ],
      "metadata": {
        "id": "ZCkXEtv84V1H"
      }
    },
    {
      "cell_type": "code",
      "source": [
        "showPartitionSize(film_extrait)\n",
        "showPartitionSize(notes_extrait)\n",
        "#Comment: Notes extrait is double the size of the films df "
      ],
      "metadata": {
        "colab": {
          "base_uri": "https://localhost:8080/"
        },
        "id": "J8hV-Hsjv1c6",
        "outputId": "c6c92ee2-d834-4d10-ad82-39620ae49cd2"
      },
      "execution_count": null,
      "outputs": [
        {
          "output_type": "stream",
          "name": "stdout",
          "text": [
            "+------+----+\n",
            "|partID|size|\n",
            "+------+----+\n",
            "|     0|  31|\n",
            "|     1|  31|\n",
            "|     2|  30|\n",
            "+------+----+\n",
            "\n",
            "+------+----+\n",
            "|partID|size|\n",
            "+------+----+\n",
            "|     0|  62|\n",
            "|     1|  62|\n",
            "|     2|  61|\n",
            "+------+----+\n",
            "\n"
          ]
        },
        {
          "output_type": "execute_result",
          "data": {
            "text/plain": [
              "DataFrame[partID: bigint, size: bigint]"
            ]
          },
          "metadata": {},
          "execution_count": 50
        }
      ]
    },
    {
      "cell_type": "code",
      "source": [
        "def jointure_film_notes(df1, df2):\n",
        "  k = 4 # target partitions\n",
        "\n",
        "  def hashFun(num, k=2):\n",
        "    return (num%k)\n",
        "\n",
        "  def addHashNumber(partID, iterateur):\n",
        "    suivant = next(iterateur, None)\n",
        "    while suivant is not None :\n",
        "      yield (*suivant, hashFun(suivant[\"nF\"],k))\n",
        "      suivant = next(iterateur, None)\n",
        "\n",
        "  def mergeRDDs(partID, iterateur):\n",
        "    suivant = next(iterateur, None)\n",
        "    while suivant is not None :\n",
        "      yield (*suivant, hashFun(suivant[\"nF\"],k))\n",
        "      suivant = next(iterateur, None)\n",
        "\n",
        "  nom_attributs_1 = df1.schema.fieldNames() + ['hashPartition']\n",
        "  table1_df = df1.rdd.mapPartitionsWithIndex(addHashNumber)\n",
        "  .toDF(nom_attributs_1).repartitionByRange(k, col(\"hashPartition\"))\n",
        "  .persist()\n",
        "  table1_df_sorted = table1_df.sortWithinPartitions(col(\"nF\")) \n",
        "  #nF =clé de jointure\n",
        "\n",
        "  nom_attributs_2 = df2.schema.fieldNames() + ['hashPartition']\n",
        "  table2_df = df2.rdd.mapPartitionsWithIndex(addHashNumber)\n",
        "  .toDF(nom_attributs_2).repartitionByRange(k, col(\"hashPartition\"))\n",
        "  .persist()\n",
        "  table2_df_sorted = table2_df.sortWithinPartitions(col(\"nF\"))\n",
        "\n",
        "  #nF are both in the first position\n",
        "  \n",
        "  # inter  = table2_df_sorted.rdd.cogroup(table1_df_sorted.rdd).toDF()\n",
        "  # print(inter)\n",
        "  # inter.show()\n",
        "\n",
        "  #TODO: MAKE THE REPARTITION ASSIGN SAME HUSH NUMBERS \n",
        "  #TO SAME PARTITIONS BETWEEN THE 2 TABLES ==> Using repartition By Range \n",
        "  res = table2_df_sorted.join(table1_df_sorted, \n",
        "  table2_df_sorted.hashPartition == table1_df_sorted.hashPartition)\n",
        "  # res.explain()\n",
        "  showPartitions(res)\n",
        "\n",
        "  # showPartitionSize(table1_df)\n",
        "\n",
        "  # hashed_df = hashed_df.withColumn(\"partID\", \n",
        "  #spark_partition_id()).sortWithinPartitions(col(\"titre\"))\n",
        "\n",
        "  # nb_partitions = hashed_df.rdd.getNumPartitions()\n",
        "\n",
        "  # afficher séparément le contenu de chaque partition\n",
        "  # for partID in range(nb_partitions):\n",
        "  #   print(\"partition\", partID)\n",
        "  #   # afficher la partition partID\n",
        "  #   hashed_df.where(f\"partID={partID}\").show(10, False)\n",
        "jointure_film_notes(film_extrait, notes_extrait)"
      ],
      "metadata": {
        "colab": {
          "base_uri": "https://localhost:8080/"
        },
        "id": "oh7xns4J4L0V",
        "outputId": "a7fd1875-360e-4912-97fc-6790567aac90"
      },
      "execution_count": null,
      "outputs": [
        {
          "output_type": "stream",
          "name": "stdout",
          "text": [
            "+------+---+---+----+-----+-------------+---+-------------------------------------------+----------------------------------------+-------------+\n",
            "|partID|nF |nU |note|annee|hashPartition|nF |titre                                      |genres                                  |hashPartition|\n",
            "+------+---+---+----+-----+-------------+---+-------------------------------------------+----------------------------------------+-------------+\n",
            "|0     |48 |781|3.0 |1996 |0            |80 |White Balloon, The (Badkonake sefid) (1995)|[Children, Drama]                       |0            |\n",
            "|0     |48 |781|3.0 |1996 |0            |88 |Black Sheep (1996)                         |[Comedy]                                |0            |\n",
            "|0     |48 |781|3.0 |1996 |0            |20 |Money Train (1995)                         |[Action, Comedy, Crime, Drama, Thriller]|0            |\n",
            "|0     |48 |781|3.0 |1996 |0            |12 |Dracula: Dead and Loving It (1995)         |[Comedy, Horror]                        |0            |\n",
            "|0     |48 |781|3.0 |1996 |0            |36 |Dead Man Walking (1995)                    |[Crime, Drama]                          |0            |\n",
            "+------+---+---+----+-----+-------------+---+-------------------------------------------+----------------------------------------+-------------+\n",
            "\n"
          ]
        }
      ]
    },
    {
      "cell_type": "code",
      "source": [
        "#END"
      ],
      "metadata": {
        "id": "GD2-cZtM4V1I"
      },
      "execution_count": null,
      "outputs": []
    }
  ]
}