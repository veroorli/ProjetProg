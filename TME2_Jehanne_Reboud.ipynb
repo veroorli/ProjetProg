{
  "cells": [
    {
      "cell_type": "markdown",
      "metadata": {
        "id": "view-in-github",
        "colab_type": "text"
      },
      "source": [
        "<a href=\"https://colab.research.google.com/github/veroorli/ProjetProg/blob/master/TME2_Jehanne_Reboud.ipynb\" target=\"_parent\"><img src=\"https://colab.research.google.com/assets/colab-badge.svg\" alt=\"Open In Colab\"/></a>"
      ]
    },
    {
      "cell_type": "markdown",
      "metadata": {
        "id": "5T30y-4iGpLZ"
      },
      "source": [
        "BDLE 2022\n",
        "\n",
        "date du document  :  07/10/2022"
      ]
    },
    {
      "cell_type": "markdown",
      "metadata": {
        "id": "L_q0KahUGpLc"
      },
      "source": [
        "# TP2 et 3 Fenêtres\n",
        "\n",
        "\n",
        "SQL avec fonctions sur des fenêtres"
      ]
    },
    {
      "cell_type": "markdown",
      "metadata": {
        "id": "levNDESpS1hT"
      },
      "source": [
        "## Préparation"
      ]
    },
    {
      "cell_type": "markdown",
      "metadata": {
        "id": "-yuRfs1cBvCG"
      },
      "source": [
        "Lire le fichier des visites *sans* préciser le type des attributs.\n",
        "Par défaut, tous les attributs sont considérés comme étant de type string."
      ]
    },
    {
      "cell_type": "code",
      "execution_count": null,
      "metadata": {
        "id": "EnEfpcDwBa3m",
        "colab": {
          "base_uri": "https://localhost:8080/"
        },
        "outputId": "03b0280a-3925-4ce6-d801-3b6a51b3ccae"
      },
      "outputs": [
        {
          "output_type": "stream",
          "name": "stdout",
          "text": [
            "+----------+------------+----------+-----+---------+-------+-----+\n",
            "|   photoID|      userID| dateTaken|poiID| poiTheme|poiFreq|seqID|\n",
            "+----------+------------+----------+-----+---------+-------+-----+\n",
            "|7941504100|10007579@N00|1346844688|   30|Structure|   1538|    1|\n",
            "|4886005532|10012675@N05|1142731848|    6| Cultural|    986|    2|\n",
            "|4886006468|10012675@N05|1142732248|    6| Cultural|    986|    2|\n",
            "+----------+------------+----------+-----+---------+-------+-----+\n",
            "only showing top 3 rows\n",
            "\n",
            "root\n",
            " |-- photoID: string (nullable = true)\n",
            " |-- userID: string (nullable = true)\n",
            " |-- dateTaken: string (nullable = true)\n",
            " |-- poiID: string (nullable = true)\n",
            " |-- poiTheme: string (nullable = true)\n",
            " |-- poiFreq: string (nullable = true)\n",
            " |-- seqID: string (nullable = true)\n",
            "\n"
          ]
        }
      ],
      "source": [
        "user_visits = spark.read.option(\"header\", \"True\").option(\"delimiter\", \";\").format(\"csv\").load(local_dir + \"/\" + \"userVisits-Toro.csv\")\n",
        "user_visits.show(3)\n",
        "user_visits.printSchema()"
      ]
    },
    {
      "cell_type": "markdown",
      "metadata": {
        "id": "tOKVS5T2B5xd"
      },
      "source": [
        "Lire le fichier en précisant le schéma : nom et type des attributs"
      ]
    },
    {
      "cell_type": "markdown",
      "metadata": {
        "id": "FSnPiA-ZnpJr"
      },
      "source": [
        "Nombre de photos, nombre de séquences et nombre d'évenements *un user a visité un POI* déterminés par un couple (séquence, POI)"
      ]
    },
    {
      "cell_type": "code",
      "execution_count": null,
      "metadata": {
        "id": "S6gONudnSrId"
      },
      "outputs": [],
      "source": [
        "%%sql\n",
        "select count(*) as nbPhotos,\n",
        " count(distinct seqID) \n",
        "as nbSequences, count(distinct seqID, poiID) \n",
        "as nb_visites\n",
        "from user_visits"
      ]
    },
    {
      "cell_type": "markdown",
      "metadata": {
        "id": "0HYZMStWwnR8"
      },
      "source": [
        "Les POI avec la plus grande frequence précalculée *poiFreq*"
      ]
    },
    {
      "cell_type": "code",
      "execution_count": null,
      "metadata": {
        "id": "5IwM3j3iwJHq"
      },
      "outputs": [],
      "source": [
        "%%sql\n",
        "select distinct poiID, poiFreq \n",
        "from user_visits\n",
        "order by poiFreq desc"
      ]
    },
    {
      "cell_type": "markdown",
      "metadata": {
        "id": "oFmd8fCmtm44"
      },
      "source": [
        "Les POI avec la plus grande fréquence (ici la \"fréquence bis\" est le nombre de photos prises à un POI)"
      ]
    },
    {
      "cell_type": "code",
      "execution_count": null,
      "metadata": {
        "id": "flmyKqfgqnSn"
      },
      "outputs": [],
      "source": [
        "%%sql\n",
        "select poiID, max(poiFreq) as poiFreq, count(*) as poiFreqBis\n",
        "from user_visits\n",
        "group by poiID\n",
        "order by poiFreqBis desc"
      ]
    },
    {
      "cell_type": "markdown",
      "metadata": {
        "id": "ZWSe1Q_KCH4T"
      },
      "source": [
        "### Les lieux visités : POI\n",
        "Ils sont appelés *Point Of Interest*"
      ]
    },
    {
      "cell_type": "code",
      "execution_count": null,
      "metadata": {
        "id": "bGeoQ73VeylD"
      },
      "outputs": [],
      "source": [
        "%%sql\n",
        "cache table POI;\n",
        "\n",
        "SELECT * \n",
        "FROM POI"
      ]
    },
    {
      "cell_type": "markdown",
      "metadata": {
        "id": "yTyTy_DVd_Ld"
      },
      "source": [
        "la liste des thèmes"
      ]
    },
    {
      "cell_type": "code",
      "execution_count": null,
      "metadata": {
        "id": "DhBjBGf5IUer"
      },
      "outputs": [],
      "source": [
        "%%sql\n",
        "create or replace temp view themes as\n",
        "select distinct theme\n",
        "from POI\n",
        "order by theme;\n",
        "\n",
        "cache table themes;\n",
        "\n",
        "select *\n",
        "from themes"
      ]
    },
    {
      "cell_type": "markdown",
      "metadata": {
        "id": "qkCz6l14GpLo"
      },
      "source": [
        "## Exercice 1"
      ]
    },
    {
      "cell_type": "markdown",
      "metadata": {
        "id": "uNQWpb7Jc0NV"
      },
      "source": [
        "#### 1) Identifier les thèmes\n",
        "\n",
        "Définir la table Theme1(theme_id, name) avec les numéros de thème commençant à 1 pour les noms de thème triés dans l'ordre croissant."
      ]
    },
    {
      "cell_type": "code",
      "execution_count": null,
      "metadata": {
        "id": "8Fdl634adJE1"
      },
      "outputs": [],
      "source": [
        "%%sql\n",
        "\n",
        "create or replace temp view Theme1 as\n",
        "select distinct theme,rank() over (order by theme asc)\n",
        " as theme_id\n",
        "from themes;\n",
        "\n",
        "select * from Theme1"
      ]
    },
    {
      "cell_type": "markdown",
      "metadata": {
        "id": "f1wkHxbKjU_E"
      },
      "source": [
        "#### 2) Classement des séquences par leur plus grand nombre de POI **distincts**\n",
        "\n",
        "Définir la table TopSeq(seqID, nbPOI, rang) avec rang=1 pour la séquence ayant le plus grand nbPOI.\n"
      ]
    },
    {
      "cell_type": "markdown",
      "source": [
        "On trie par séquence puis on compte le nombre de POIs distincts. Enfin on fait un classement des séquences en fonction de leur nombre de POIs distincts."
      ],
      "metadata": {
        "id": "aigcu1K0uE8g"
      }
    },
    {
      "cell_type": "code",
      "execution_count": null,
      "metadata": {
        "id": "qiXFogl8lVoH"
      },
      "outputs": [],
      "source": [
        "%%sql\n",
        "\n",
        "create or replace temp view TopSeq as\n",
        "select seqID, count(distinct poiID) as nbPOI,\n",
        "rank() over (order by count(distinct poiID) desc) as rang\n",
        "from user_visits\n",
        "group by seqID;\n",
        "\n",
        "select * from TopSeq\n"
      ]
    },
    {
      "cell_type": "markdown",
      "metadata": {
        "id": "TCXIej13EfHx"
      },
      "source": [
        "#### 2) Identifier les check-ins\n",
        "\n",
        "\n"
      ]
    },
    {
      "cell_type": "markdown",
      "metadata": {
        "id": "IpKr5hhxpqI8"
      },
      "source": [
        "2a) Définir la table Visite1 telle qu'il n'y ait pas de doublons sur le triplet (seqID, poiID, date)"
      ]
    },
    {
      "cell_type": "markdown",
      "source": [
        "\n",
        "On compte les lignes ayant le même triplet seqID, poiID, date puis on filtre ce nombre de lignes à 1 pour supprimer les doublons."
      ],
      "metadata": {
        "id": "c8gpPliOu_Fn"
      }
    },
    {
      "cell_type": "code",
      "execution_count": null,
      "metadata": {
        "id": "PIH0KjN1qnvR"
      },
      "outputs": [],
      "source": [
        "%%sql\n",
        "create or replace temp view Temporaire as\n",
        "select seqID, poiID, date, row_number()\n",
        " over (partition by seqID, poiID,\n",
        "  date order by  seqID, poiID, date) as rang\n",
        "from user_visits;\n",
        "\n",
        "\n"
      ]
    },
    {
      "cell_type": "code",
      "execution_count": null,
      "metadata": {
        "id": "Ccd8pSyHTCGm"
      },
      "outputs": [],
      "source": [
        "%%sql\n",
        "create or replace temp view Visite1 as\n",
        "select seqID, poiID, date\n",
        "from Temporaire\n",
        "where rang <=1\n",
        "order by seqID, date, poiID;\n",
        "\n",
        "\n",
        "select *\n",
        "from Visite1\n",
        "where seqID in (298, 510)\n",
        "order by seqID, date, poiID;\n"
      ]
    },
    {
      "cell_type": "markdown",
      "metadata": {
        "id": "flRAS5IGx6hQ"
      },
      "source": [
        "2b) Montrer qu'il existe des séquences où une même date est associée à plusieurs POI distincts. \n",
        "Indication : utiliser une requete de regroupement."
      ]
    },
    {
      "cell_type": "markdown",
      "source": [
        "On trie par séquence et date puis on compte le nombre de POIs distincts dans chaque groupe. On séléctionne les groupes seq/date ayant plusieurs poi distincts."
      ],
      "metadata": {
        "id": "OhC0iWssvpXs"
      }
    },
    {
      "cell_type": "code",
      "execution_count": null,
      "metadata": {
        "id": "38_du1i9sr9M"
      },
      "outputs": [],
      "source": [
        "\n",
        "%%sql\n",
        "\n",
        "create or replace temp view T as\n",
        "select seqID, date, count(distinct poiID) as nb_POI_meme_date\n",
        "from Visite1\n",
        "group by seqID,date\n",
        "order by seqID, date;\n",
        "\n",
        "\n"
      ]
    },
    {
      "cell_type": "code",
      "execution_count": null,
      "metadata": {
        "id": "ebdURWmqdRZa"
      },
      "outputs": [],
      "source": [
        "%%sql\n",
        "\n",
        "select *\n",
        "from T\n",
        "where nb_POI_meme_date >1\n",
        "order by seqID, date;\n",
        "\n"
      ]
    },
    {
      "cell_type": "markdown",
      "metadata": {
        "id": "RTKocYl3plwM"
      },
      "source": [
        "2c) A partir de la table précédente, définir la table Visite2(seqID, poiID, date, num) avec *num* étant le numéro d'ordre dans une séquence.\n",
        "Les POI visités à une même date sont triés dans l'ordre croissant de poiID."
      ]
    },
    {
      "cell_type": "markdown",
      "source": [
        "Dans une même séquence on trie par date et par poi et on fait un classement ."
      ],
      "metadata": {
        "id": "glSc-oKVwvDw"
      }
    },
    {
      "cell_type": "code",
      "execution_count": null,
      "metadata": {
        "id": "HOaOBy_HHaZo"
      },
      "outputs": [],
      "source": [
        "%%sql\n",
        "create or replace temp view Visite2  as\n",
        "select seqID,date,poiID,\n",
        "rank() over (partition by seqID  order by  date, poiID) as num\n",
        "from  Visite1;\n",
        "\n",
        "\n",
        "select * from Visite2\n",
        "where seqID in (298, 510)\n",
        "order by seqID,num;"
      ]
    },
    {
      "cell_type": "markdown",
      "metadata": {
        "id": "mgfqpC2wa0CV"
      },
      "source": [
        "#### 3) Identifier les Visites de POI\n",
        "\n",
        "Définir la table Visite3(userID, seqID, poiID, poiPosition) telle que la  poiPosition vaut *i* pour le ième POI visité dans une séquence.\n",
        "\n",
        "Indications:\n",
        "\n",
        "La visite d'un POI correspond à toutes les photos consécutives prises à ce POI.\n",
        "\n",
        "Un même POI peut apparaitre **plusieurs** fois à des positions différentes dans une séquence si au moins un autre POI a été visité entre temps dans la séquence.\n"
      ]
    },
    {
      "cell_type": "markdown",
      "metadata": {
        "id": "5ycMerhzrmxf"
      },
      "source": [
        "##### 3a) POI précédent\n",
        "Commencer par associer chaque événement avec le POI précédent dans la séquence.\n",
        "Indication penser aux fonctions lag() ou first()"
      ]
    },
    {
      "cell_type": "markdown",
      "source": [
        "Pour chaque séquence on trie par POI et date et on récupère avec la fonction lag() le POI à la date précédente."
      ],
      "metadata": {
        "id": "UkkhYBy0x2i2"
      }
    },
    {
      "cell_type": "code",
      "execution_count": null,
      "metadata": {
        "id": "X1c9HZ-hb22Z"
      },
      "outputs": [],
      "source": [
        "%%sql\n",
        "create or replace temp view Visite3a as\n",
        "select seqID,date,poiID, num, lag(poiID,1,poiID) over (partition by seqID order by seqID,date,poiID asc) as precedent\n",
        "from  Visite2;\n",
        "\n",
        "select * from Visite3a\n",
        "where seqID in (298, 510)\n",
        "order by seqID, date;\n"
      ]
    },
    {
      "cell_type": "markdown",
      "metadata": {
        "id": "9DibRXSdr9Aj"
      },
      "source": [
        "##### 3b) Début de visite\n",
        "Ajouter un attribut *début* valant 1 pour le premier tuple d'une série de photos consécutives concernant le même POI et 0 sinon. \n",
        "Indication, penser à la syntaxe case when ...then ... else ... end"
      ]
    },
    {
      "cell_type": "markdown",
      "source": [
        "Lorsque le POI à la date précédente est le même qu'à la date courante début prend la valeur de 1."
      ],
      "metadata": {
        "id": "7fHEltm9ykL_"
      }
    },
    {
      "cell_type": "code",
      "execution_count": null,
      "metadata": {
        "id": "678rLv_Qsck9"
      },
      "outputs": [],
      "source": [
        "%%sql\n",
        "create or replace temp view Visite3b as\n",
        "select *,\n",
        "case when poiID == precedent then 0\n",
        "     else 1 end as debut\n",
        "from Visite3a;\n",
        "\n",
        "select * from Visite3b\n",
        "where seqID in (298, 510)\n",
        "order by seqID, date;"
      ]
    },
    {
      "cell_type": "markdown",
      "metadata": {
        "id": "qFNxCJZPtQXg"
      },
      "source": [
        "##### 3c) Ordonner les POI visités\n",
        "Définir la table Visite3 décrite au début de la question 3). Ajouter l'attribut poiPosition \n",
        " Visite3(userID, seqID, poiID, poiPosition)"
      ]
    },
    {
      "cell_type": "markdown",
      "source": [
        "Pour chaque séquence on trie par date et POI puis on somme début."
      ],
      "metadata": {
        "id": "FMm7vSMEy4Tb"
      }
    },
    {
      "cell_type": "code",
      "execution_count": null,
      "metadata": {
        "id": "5Yr4Cn7otZgQ"
      },
      "outputs": [],
      "source": [
        "%%sql\n",
        "\n",
        "create or replace temp view Visite3 as\n",
        "select seqID,num,date,poiID, sum(debut) over (partition by seqID order by date, poiID) as poiPosition\n",
        "from Visite3b;\n",
        "\n",
        "select * from Visite3\n",
        "where seqID in (298, 510)\n",
        "order by seqID, date, poiID;"
      ]
    },
    {
      "cell_type": "markdown",
      "metadata": {
        "id": "TY9pdH1-wCZy"
      },
      "source": [
        "#### 4) Durée de visite d'un POI\n",
        "Définir la table Visite4(seqID, poiPosition, poiID, duree) comme étant la différence entre la plus grande et la plus petite date des photos consécutives associées à un même POI."
      ]
    },
    {
      "cell_type": "markdown",
      "source": [
        "On trie les visites par sequence et poipostion,poiID puis pour chaque groupe on calcule la date maximale et la date minimale, ainsi que leur différence max(date)-min(date) pour obtenir la durée entre la première et la dernière photo d'une même séquence associée à un même POI. "
      ],
      "metadata": {
        "id": "kRXDJPrTzR2T"
      }
    },
    {
      "cell_type": "code",
      "execution_count": null,
      "metadata": {
        "id": "ZRqXcQ83wdrR"
      },
      "outputs": [],
      "source": [
        "%%sql\n",
        "\n",
        "create or replace temp view Visite4 as\n",
        "select seqID,poiPosition,poiID,\n",
        "min(date) as date_debut, \n",
        "max(date) as date_fin,\n",
        "max(date)-min(date) as duree\n",
        "from Visite3\n",
        "group by seqID,poiPosition,poiID ;\n",
        "\n",
        "\n",
        "select * from Visite4\n",
        "where seqID in (298, 510)\n",
        "order by seqID,poiPosition;"
      ]
    },
    {
      "cell_type": "markdown",
      "metadata": {
        "id": "vFZmAkun-073"
      },
      "source": [
        "verification: durée moyenne de visite d'un POI, pour les durée >0"
      ]
    },
    {
      "cell_type": "code",
      "execution_count": null,
      "metadata": {
        "id": "_2Uznaw5-0KY"
      },
      "outputs": [],
      "source": [
        "%%sql\n",
        "select round(avg(duree)/60,1) as Moyenne_duree_en_minutes\n",
        "from Visite4\n",
        "where duree>0"
      ]
    },
    {
      "cell_type": "markdown",
      "metadata": {
        "id": "Ao_Qs969CUlx"
      },
      "source": [
        "#### 4a) nombre moyen de visites et nombre moyen de POI dans une séquence"
      ]
    },
    {
      "cell_type": "markdown",
      "source": [
        "On groupe par séquence puis on fait la moyenne du nombre de poiPosition et celle du nombre de poiID distincts."
      ],
      "metadata": {
        "id": "pykyFSYp0Jj-"
      }
    },
    {
      "cell_type": "code",
      "execution_count": null,
      "metadata": {
        "id": "3jUxq7N1P1Vq"
      },
      "outputs": [],
      "source": [
        "%%sql\n",
        "create or replace temp view SeqNbVisite as\n",
        "select seqID, count(poiPosition) as nbVisite,\n",
        " count(distinct poiID) as nbPOI\n",
        "from Visite4\n",
        "group by seqID;\n",
        "\n",
        "select avg(nbVisite) as moyenne_nb_visite,\n",
        " avg(nbPOI) as moyenne_nb_POI\n",
        "from SeqNbVisite"
      ]
    },
    {
      "cell_type": "markdown",
      "metadata": {
        "id": "1MbfH69Yp9bp"
      },
      "source": [
        "vérification fréquence des POI"
      ]
    },
    {
      "cell_type": "code",
      "execution_count": null,
      "metadata": {
        "id": "uwnhtxuxp4MG"
      },
      "outputs": [],
      "source": [
        "%%sql\n",
        "select poiID, count(*) as poiFreqVisite\n",
        "from Visite4\n",
        "group by poiID\n",
        "order by poiFreqVisite desc"
      ]
    },
    {
      "cell_type": "markdown",
      "metadata": {
        "id": "4Rha729gk7dY"
      },
      "source": [
        "#### 4b) Nombre de séquences selon leur nombre de visites. \n",
        "\n",
        "Afficher le nombre de séquences pour chaque nombre de visites existant.\n"
      ]
    },
    {
      "cell_type": "code",
      "execution_count": null,
      "metadata": {
        "id": "kBzyiv9yIKPl"
      },
      "outputs": [],
      "source": [
        "%%sql\n",
        "create or replace temp view Visite4b as\n",
        "select nbVisite, count(seqID) as nbSequences\n",
        "from SeqNbVisite\n",
        "group by nbVisite;"
      ]
    },
    {
      "cell_type": "markdown",
      "metadata": {
        "id": "QggxmcwsIO92"
      },
      "source": [
        " Afficher aussi, pour chaque nombre de visite, le nombre *cumulé* de séquences ayant **au moins** ce nombre de visite."
      ]
    },
    {
      "cell_type": "markdown",
      "source": [
        "Pour avoir le nombre cumulé des séquences ayant au moins ce nombre de visites on ordonne par nombre de visite et on fait une somme cumulée sur les nombre de séquence sur la ligne courante et toutes les prédédentes."
      ],
      "metadata": {
        "id": "eo1ApEcc25aB"
      }
    },
    {
      "cell_type": "code",
      "execution_count": null,
      "metadata": {
        "id": "bxvPyXf9lMw2"
      },
      "outputs": [],
      "source": [
        "\n",
        "%%sql\n",
        "select nbVisite, nbSequences, \n",
        "sum(nbSequences) over (order by nbVisite \n",
        "desc rows between unbounded preceding and current row) \n",
        "as nbre_sequences_avec_au_moins_nbVisite\n",
        "from Visite4b\n",
        "order by nbVisite"
      ]
    },
    {
      "cell_type": "markdown",
      "metadata": {
        "id": "iXCSyl_ZpGP6"
      },
      "source": [
        "Nombre de sequences selon leur nombre de POI distincts. \n",
        "\n",
        "Afficher aussi, pour chaque nombre de visite, le nombre cumulé de séquences ayant **au moins** ce nombre de POI distincts."
      ]
    },
    {
      "cell_type": "code",
      "execution_count": null,
      "metadata": {
        "id": "RptweuFTlyfM"
      },
      "outputs": [],
      "source": [
        "%%sql\n",
        "create or replace temp view Visite4bis as\n",
        "select nbPOI, count(seqID) as nbSequences\n",
        "from SeqNbVisite\n",
        "group by nbPOI;\n",
        "\n",
        "select nbPOI, nbSequences, \n",
        "sum(nbSequences) over \n",
        "(order by nbPOI desc rows between \n",
        "unbounded preceding and current row) \n",
        "as nbre_sequences_avec_au_moins_nbPOI\n",
        "from Visite4bis\n",
        "order by nbPOI"
      ]
    },
    {
      "cell_type": "markdown",
      "metadata": {
        "id": "fh-T9fxKibvo"
      },
      "source": [
        "Nombre de séquences ayant au moins un POI visité 2 fois"
      ]
    },
    {
      "cell_type": "code",
      "execution_count": null,
      "metadata": {
        "id": "6uu-7Y_hiiKE"
      },
      "outputs": [],
      "source": [
        "%%sql\n",
        "select count(*) as nbSequences\n",
        "from SeqNbVisite\n",
        "where nbVisite > nbPOI\n"
      ]
    },
    {
      "cell_type": "markdown",
      "metadata": {
        "id": "B3DU8IGi39Ps"
      },
      "source": [
        "#### 5) Nombre de visites sur une semaine glissante\n",
        "a) Définir la table Visite5a(userID, annee, mois, jour, nbVisite) : nbVisite est le nombre de visites qu'un utilisateur a fait chaque jour. \n",
        "\n"
      ]
    },
    {
      "cell_type": "markdown",
      "source": [
        "On converti la date dans un format lisible puis on trie par user,année,mois,jour puis on compte les lignes pour le nombre de visites."
      ],
      "metadata": {
        "id": "XObSa5o13nv_"
      }
    },
    {
      "cell_type": "code",
      "execution_count": null,
      "metadata": {
        "id": "ljZC9eUia60g"
      },
      "outputs": [],
      "source": [
        "%%sql\n",
        "create or replace temp view Visite5a as\n",
        "select userID, year(timestamp(date)) as annee,\n",
        "month(timestamp(date))   as mois,\n",
        "day(timestamp(date))   as jour ,\n",
        "count(*) as nbVisite\n",
        "from user_visits\n",
        "group by userID, annee, mois, jour;\n",
        "\n",
        "select * from Visite5a\n",
        "order by userID, annee, mois, jour, nbVisite"
      ]
    },
    {
      "cell_type": "markdown",
      "metadata": {
        "id": "wzFY9hCAa2Lm"
      },
      "source": [
        "b) En déduire la table Visite5b(userID, anne, mois, jour, nbVisite7jours) : nbVisite7jours étant le nombre de visites effectuées sur une semaine glissante."
      ]
    },
    {
      "cell_type": "markdown",
      "source": [
        "Pour chaque user, on ordonne par date (annee,mois jour) puis on compte le nombre de visites sur une fenêtre glissante de 7 lignes précédent la courante soit les 7 jours précédents. "
      ],
      "metadata": {
        "id": "Bl7UyprQ4a8_"
      }
    },
    {
      "cell_type": "code",
      "execution_count": null,
      "metadata": {
        "id": "beijjCCkTc3y"
      },
      "outputs": [],
      "source": [
        "%%sql\n",
        "select  distinct userID,\n",
        "year(timestamp(date))  as annee,\n",
        "month(timestamp(date)) as mois,\n",
        "day(timestamp(date))   as jour,\n",
        "count(timestamp(date)) over \n",
        "(partition by userID order by \n",
        "cast(from_unixtime(date) as date) \n",
        "range between 7 preceding and current row) \n",
        "as nbVisite7Jours\n",
        "from user_visits"
      ]
    },
    {
      "cell_type": "markdown",
      "metadata": {
        "id": "Vji-KmOmTdbh"
      },
      "source": [
        "#### 6) Déplacements entre deux POI\n",
        "Définir la table Duree_Deplacement(seqID, poiPosition, poiID, deplacement). \n",
        "*deplacement* est la durée depuis la fin de la visite du POI courant jusqu'au début de visite du prochain POI dans une séquence.\n"
      ]
    },
    {
      "cell_type": "markdown",
      "source": [
        "On trie par séquence et POI. Puis on calcule la différence entre la date du POI courant (la ligne courante) et date de la ligne suivante, soit la date de visite du prochain POI."
      ],
      "metadata": {
        "id": "Rc5Egm5w5DWh"
      }
    },
    {
      "cell_type": "code",
      "execution_count": null,
      "metadata": {
        "id": "K3WDYU99cD68"
      },
      "outputs": [],
      "source": [
        "%%sql\n",
        "create or replace temp view Duree_Deplacement as\n",
        "select seqID,poiPosition,poiID,\n",
        "max(timestamp(date)) over \n",
        "(partition by seqID, poiPosition \n",
        "rows between current row and 1 following) \n",
        "- timestamp(date) as deplacement\n",
        "from visite3;\n",
        "\n",
        "select * from Duree_Deplacement\n",
        "where seqID in (298, 510)\n",
        "order by seqID, poiPosition, poiID;"
      ]
    },
    {
      "cell_type": "markdown",
      "metadata": {
        "id": "n8k_YJXjkes_"
      },
      "source": [
        "## Exercice 2 : YFCC"
      ]
    },
    {
      "cell_type": "markdown",
      "metadata": {
        "id": "3e_auTPaN_x2"
      },
      "source": [
        "#### Données YFCC France"
      ]
    },
    {
      "cell_type": "markdown",
      "metadata": {
        "id": "T94D47Y-OGr3"
      },
      "source": [
        "#### Question 1\n",
        "\n",
        "Extraire de YFCC les sequences de points des utilisateurs telles que les conditions suivantes soient vérifiées :\n",
        "\n",
        "Une séquence ne peut pas couvrir plusieurs jours. Si un utilisateur a pris des photos pendant plusieurs jours consécutifs, cela forme plusieurs séquences.\n",
        "\n",
        "Une séquence doit contenir au moins 3 points distincts.\n",
        "\n",
        "Chaque point doit être associé à au moins 3 utilisateurs.\n",
        "\n",
        "On peut supposer que deux photos prises à deux positions GPS très proches (moins de *d* mètres entre les deux positions) correspondent à un même point. \n"
      ]
    },
    {
      "cell_type": "code",
      "source": [
        "yfcc_france.createOrReplaceTempView(\"yfcc_france\")"
      ],
      "metadata": {
        "id": "V6-TW5P_f2Ap"
      },
      "execution_count": null,
      "outputs": []
    },
    {
      "cell_type": "markdown",
      "source": [
        "Chaque point doit être associé à au moins 3 utilisateurs: \n",
        "\n",
        "1) On identifie les POIs avec un poiID en fonction de leur position latitude et longitude.\n",
        "\n",
        "2)On regroupe par POI donc (longitude, latitude) et on compte les users pour chaque POI.\n",
        "\n",
        "3)On filtre les POI ayant plus de 2 users."
      ],
      "metadata": {
        "id": "ApKxG3YMkIbC"
      }
    },
    {
      "cell_type": "code",
      "execution_count": null,
      "metadata": {
        "id": "mW_4ixU_HIvR"
      },
      "outputs": [],
      "source": [
        "%%sql\n",
        "\n",
        "create or replace temp view T0 as\n",
        "select poi_id, Longitude, Latitude\n",
        "from (\n",
        "  select Longitude, Latitude,\n",
        "  row_number() over (order by Longitude, Latitude) as poi_id,\n",
        "  count(UserNSID) as nb_users\n",
        "  from yfcc_france\n",
        "  group by Longitude, Latitude\n",
        ")\n",
        "where nb_users > 2;\n",
        "\n",
        "select *\n",
        "from T0"
      ]
    },
    {
      "cell_type": "markdown",
      "source": [
        "4) On fait la jointure sur les POI_id ( latitudes, longitudes) du tableau général et de la selection précédente des POIs ayant au moins 3 users pour récupérer l'ensemble de leur caractéristiques."
      ],
      "metadata": {
        "id": "8dxXyqmBlh0M"
      }
    },
    {
      "cell_type": "code",
      "source": [
        "%%sql\n",
        "create or replace temp view T1 as\n",
        "select distinct y.UserNSID, y.DateTaken, y.Longitude, y.Latitude, t0.poi_id\n",
        "from  yfcc_france y, T0 t0\n",
        "where y.Latitude == t0.Latitude and y.Longitude == t0.Longitude ;\n",
        "\n",
        "select *\n",
        "from T1"
      ],
      "metadata": {
        "id": "J6YtlaTkf6ST"
      },
      "execution_count": null,
      "outputs": []
    },
    {
      "cell_type": "markdown",
      "source": [
        "Une séquence doit contenir au moins 3 points distincts: \\\\\n",
        "\n",
        "1)on trie par user et par date \n",
        "\n",
        "2)on fait une liste des POIs distincts à chaque séquence\n",
        "\n",
        "3)on filtre les séquences qui ont une liste de pois distincts supérieurs à 2"
      ],
      "metadata": {
        "id": "BF8WuBeHl8Vj"
      }
    },
    {
      "cell_type": "code",
      "source": [
        "%%sql\n",
        "\n",
        "create or replace temp view T2 as\n",
        "select *\n",
        "from (\n",
        "  select UserNSID, DateTaken, collect_list(distinct poi_id) as liste_POI\n",
        "  from T1\n",
        "  group by UserNSID, DateTaken\n",
        "  order by UserNSID, DateTaken\n",
        ")\n",
        "where cardinality(liste_POI) > 2;\n",
        "\n",
        "select *\n",
        "from T2"
      ],
      "metadata": {
        "id": "PpnEEmhXgMgR"
      },
      "execution_count": null,
      "outputs": []
    },
    {
      "cell_type": "markdown",
      "metadata": {
        "id": "IQHSAPcoHJWw"
      },
      "source": [
        "#### Question 2\n",
        "\n",
        "Proposer un exemple d'analyse des séquences obtenues à la question précédente suivante 3 dimensions dont au moins une doit avoir au moins 3 niveaux."
      ]
    }
  ],
  "metadata": {
    "application/vnd.databricks.v1+notebook": {
      "dashboards": [
        {
          "elements": [
            {
              "elementNUID": "4916b307-fb50-46f6-a51b-d5496ba229a5",
              "elementType": "command",
              "guid": "0544755f-8046-413c-8de2-96b5ba9cde0a",
              "options": null,
              "position": {
                "height": 1,
                "width": 12,
                "x": 0,
                "y": 30,
                "z": null
              }
            },
            {
              "elementNUID": "93fd1b8c-937f-41f1-88b8-704a5225af12",
              "elementType": "command",
              "guid": "1e2aacd3-80ac-42fc-858a-aa6ccf4d1aa1",
              "options": null,
              "position": {
                "height": 1,
                "width": 12,
                "x": 0,
                "y": 73,
                "z": null
              }
            },
            {
              "elementNUID": "047d52a6-482e-46d9-82c8-d3d85dc7f3ed",
              "elementType": "command",
              "guid": "205f0675-4075-4f6d-9ed5-dbe9f2adc9ab",
              "options": null,
              "position": {
                "height": 6,
                "width": 12,
                "x": 0,
                "y": 46,
                "z": null
              }
            },
            {
              "elementNUID": "51093e36-41d7-45bc-9ac9-538d0ad06cdf",
              "elementType": "command",
              "guid": "2f4a2f92-9f7e-463a-853d-28c94fba80e0",
              "options": null,
              "position": {
                "height": 6,
                "width": 12,
                "x": 0,
                "y": 53,
                "z": null
              }
            },
            {
              "elementNUID": "6fc95d51-5cac-46df-9184-c0a154f0f38c",
              "elementType": "command",
              "guid": "4dd6a8a2-ddd5-4d2b-ae85-ba590ba4055c",
              "options": null,
              "position": {
                "height": 2,
                "width": 12,
                "x": 0,
                "y": 111,
                "z": null
              }
            },
            {
              "elementNUID": "9582d65f-6ff6-4001-aae8-6d354db1567b",
              "elementType": "command",
              "guid": "641778b4-ec91-481c-bdc2-d3f6b2e48066",
              "options": null,
              "position": {
                "height": 1,
                "width": 12,
                "x": 0,
                "y": 59,
                "z": null
              }
            },
            {
              "elementNUID": "aafa7653-49a3-4915-b212-94bf433f313b",
              "elementType": "command",
              "guid": "669a6cbd-94f8-444d-bb5a-ddd090c622a7",
              "options": null,
              "position": {
                "height": 6,
                "width": 12,
                "x": 0,
                "y": 60,
                "z": null
              }
            },
            {
              "elementNUID": "23530f5e-191f-4476-a042-89462af08bf0",
              "elementType": "command",
              "guid": "66eaa8c3-2337-45ad-ab9b-64116af586b8",
              "options": null,
              "position": {
                "height": 6,
                "width": 12,
                "x": 0,
                "y": 105,
                "z": null
              }
            },
            {
              "elementNUID": "cb9b4b91-d7a4-4d6f-b8fd-4f81069ee9bb",
              "elementType": "command",
              "guid": "715e0bbb-14c1-4aa9-9894-0e894c449882",
              "options": null,
              "position": {
                "height": 1,
                "width": 12,
                "x": 0,
                "y": 7,
                "z": null
              }
            },
            {
              "elementNUID": "416e4ed6-56f4-44b6-97bc-95d31da350fe",
              "elementType": "command",
              "guid": "75067b7c-9df9-4554-99ca-19999c84ef2f",
              "options": null,
              "position": {
                "height": 1,
                "width": 12,
                "x": 0,
                "y": 52,
                "z": null
              }
            },
            {
              "elementNUID": "b15737ae-19bd-4b9f-b9f3-52388cc5e50e",
              "elementType": "command",
              "guid": "846b7c1d-f1d1-4aa6-b3aa-94cb6d065d1a",
              "options": null,
              "position": {
                "height": 2,
                "width": 12,
                "x": 0,
                "y": 3,
                "z": null
              }
            },
            {
              "elementNUID": "79374715-17c6-42ea-80b5-f34359f79709",
              "elementType": "command",
              "guid": "867fb6bf-585e-4c58-b51c-8495ea2785f2",
              "options": null,
              "position": {
                "height": 1,
                "width": 12,
                "x": 0,
                "y": 29,
                "z": null
              }
            },
            {
              "elementNUID": "1d712ef6-68d6-4f23-a1dd-3cf94b8813c4",
              "elementType": "command",
              "guid": "8ef2f82e-9863-4d96-9bb6-bd7aab7dcac5",
              "options": null,
              "position": {
                "height": 1,
                "width": 12,
                "x": 0,
                "y": 80,
                "z": null
              }
            },
            {
              "elementNUID": "9b13d583-eac5-414c-b544-43024c76c144",
              "elementType": "command",
              "guid": "94043a3f-089a-4cde-9ea5-349a745dad4f",
              "options": null,
              "position": {
                "height": 1,
                "width": 12,
                "x": 0,
                "y": 8,
                "z": null
              }
            },
            {
              "elementNUID": "0b6b45b2-632b-43dd-a8e2-4ef427ebce3d",
              "elementType": "command",
              "guid": "940febd0-c519-4b91-9fec-4e960bbe7760",
              "options": null,
              "position": {
                "height": 2,
                "width": 12,
                "x": 0,
                "y": 44,
                "z": null
              }
            },
            {
              "elementNUID": "84263fb8-5965-4a60-82bd-f761270691ca",
              "elementType": "command",
              "guid": "9fe86fff-0ae7-4ef0-b862-91ae43be4101",
              "options": null,
              "position": {
                "height": 6,
                "width": 12,
                "x": 0,
                "y": 74,
                "z": null
              }
            },
            {
              "elementNUID": "b6afe82e-35d6-4358-9b79-8f56074e0908",
              "elementType": "command",
              "guid": "a1426d76-3fbd-47f7-b011-b24ac7b93fd6",
              "options": null,
              "position": {
                "height": 2,
                "width": 12,
                "x": 0,
                "y": 5,
                "z": null
              }
            },
            {
              "elementNUID": "1577055d-6909-4db2-b18b-5bf31e2a812f",
              "elementType": "command",
              "guid": "a1ca8228-f29e-465e-a4be-b40aefc6bc7a",
              "options": null,
              "position": {
                "height": 2,
                "width": 12,
                "x": 0,
                "y": 27,
                "z": null
              }
            },
            {
              "elementNUID": "d1701bbd-c69b-48d6-bb57-0d05a7268ffe",
              "elementType": "command",
              "guid": "a7aff5ac-f510-4d82-95db-77f034192d44",
              "options": null,
              "position": {
                "height": 6,
                "width": 12,
                "x": 0,
                "y": 67,
                "z": null
              }
            },
            {
              "elementNUID": "c37903e0-d9bc-49f9-9e1d-6756419344f1",
              "elementType": "command",
              "guid": "bd859d00-a580-47f6-b662-f97b3239a821",
              "options": null,
              "position": {
                "height": 6,
                "width": 12,
                "x": 0,
                "y": 88,
                "z": null
              }
            },
            {
              "elementNUID": "538800ba-6d08-40a7-b6b6-829b40085742",
              "elementType": "command",
              "guid": "c23995ca-72a7-4427-a6d1-afa688939e7c",
              "options": null,
              "position": {
                "height": 3,
                "width": 12,
                "x": 0,
                "y": 0,
                "z": null
              }
            },
            {
              "elementNUID": "19fa455b-45a4-4a48-9ddb-c5a641bbd817",
              "elementType": "command",
              "guid": "c2471e6c-252b-4bd0-a71a-770ae09eeb78",
              "options": null,
              "position": {
                "height": 1,
                "width": 12,
                "x": 0,
                "y": 104,
                "z": null
              }
            },
            {
              "elementNUID": "8181fc8d-066d-4ca3-88d7-a97614dca3f4",
              "elementType": "command",
              "guid": "d1918135-6c0e-44df-a1ce-2357f133b00c",
              "options": null,
              "position": {
                "height": 1,
                "width": 12,
                "x": 0,
                "y": 66,
                "z": null
              }
            },
            {
              "elementNUID": "23f49fe8-1c71-4689-9678-58f7b45f0e94",
              "elementType": "command",
              "guid": "de126761-7a12-40b4-af6f-d0ea53591d9c",
              "options": null,
              "position": {
                "height": 6,
                "width": 12,
                "x": 0,
                "y": 98,
                "z": null
              }
            },
            {
              "elementNUID": "686a3ab5-5331-4f16-b8cc-be1c36a60384",
              "elementType": "command",
              "guid": "e5671d03-e164-48d9-a504-7348746454df",
              "options": null,
              "position": {
                "height": 6,
                "width": 12,
                "x": 0,
                "y": 81,
                "z": null
              }
            },
            {
              "elementNUID": "6f215790-9cd6-4489-b334-1da39461919c",
              "elementType": "command",
              "guid": "eafa8853-29da-4eeb-8126-55474014d7f4",
              "options": null,
              "position": {
                "height": 4,
                "width": 15,
                "x": 0,
                "y": 94,
                "z": null
              }
            },
            {
              "elementNUID": "9a7b7b61-6f71-4ba2-984a-09b552985d29",
              "elementType": "command",
              "guid": "f8a42128-0efd-4fe3-9ab6-6af7a1c907fd",
              "options": null,
              "position": {
                "height": 6,
                "width": 12,
                "x": 0,
                "y": 31,
                "z": null
              }
            },
            {
              "elementNUID": "bad34653-26b5-4d31-ace9-736d13a63c06",
              "elementType": "command",
              "guid": "fd691b0e-0bb5-4d6b-8ae9-1dea859886a7",
              "options": null,
              "position": {
                "height": 1,
                "width": 12,
                "x": 0,
                "y": 87,
                "z": null
              }
            }
          ],
          "globalVars": {},
          "guid": "56cffcd7-cc55-4002-b6dd-fbd5d66a50a6",
          "layoutOption": {
            "grid": true,
            "stack": true
          },
          "nuid": "7f52f4e5-dbf1-4115-ad63-488830d101c0",
          "origId": 2643140879502792,
          "title": "Untitled",
          "version": "DashboardViewV1",
          "width": 1024
        }
      ],
      "language": "python",
      "notebookMetadata": {
        "pythonIndentUnit": 2
      },
      "notebookName": "PROJET 2021 SUJET SEUL",
      "notebookOrigID": 2643140879502686,
      "widgets": {}
    },
    "colab": {
      "provenance": [],
      "toc_visible": true,
      "include_colab_link": true
    },
    "kernelspec": {
      "display_name": "Python 3",
      "name": "python3"
    },
    "language_info": {
      "name": "python"
    }
  },
  "nbformat": 4,
  "nbformat_minor": 0
}