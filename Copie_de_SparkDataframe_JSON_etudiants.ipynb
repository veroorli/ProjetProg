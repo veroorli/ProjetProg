{
  "nbformat": 4,
  "nbformat_minor": 0,
  "metadata": {
    "application/vnd.databricks.v1+notebook": {
      "notebookName": "SparkDataframe-JSON_solutions",
      "dashboards": [],
      "notebookMetadata": {
        "pythonIndentUnit": 2
      },
      "language": "python",
      "widgets": {},
      "notebookOrigID": 620345572627505
    },
    "colab": {
      "name": "Copie_de_SparkDataframe_JSON_etudiants.ipynb",
      "provenance": [],
      "collapsed_sections": [],
      "include_colab_link": true
    },
    "language_info": {
      "name": "python"
    },
    "kernelspec": {
      "name": "python3",
      "display_name": "Python 3"
    }
  },
  "cells": [
    {
      "cell_type": "markdown",
      "metadata": {
        "id": "view-in-github",
        "colab_type": "text"
      },
      "source": [
        "<a href=\"https://colab.research.google.com/github/veroorli/ProjetProg/blob/master/Copie_de_SparkDataframe_JSON_etudiants.ipynb\" target=\"_parent\"><img src=\"https://colab.research.google.com/assets/colab-badge.svg\" alt=\"Open In Colab\"/></a>"
      ]
    },
    {
      "cell_type": "markdown",
      "metadata": {
        "application/vnd.databricks.v1+cell": {
          "title": "",
          "showTitle": false,
          "inputWidgets": {},
          "nuid": "6b731d77-eb7f-4548-9ee0-ce03d65ff98c"
        },
        "id": "uoEBE0CnprxJ"
      },
      "source": [
        "* Master DAC, BDLE, 2021 \n",
        "* Author: Mohamed-Amine Baazizi\n",
        "* Affiliation: LIP6 - Faculté des Sciences - Sorbonne Université\n",
        "* Email: mohamed-amine.baazizi@lip6.fr"
      ]
    },
    {
      "cell_type": "markdown",
      "metadata": {
        "application/vnd.databricks.v1+cell": {
          "title": "",
          "showTitle": false,
          "inputWidgets": {},
          "nuid": "874bbdf4-8c96-44c8-8a6f-fc19e07d1257"
        },
        "id": "ElCGcuduprxN"
      },
      "source": [
        "# Querying nested data "
      ]
    },
    {
      "cell_type": "markdown",
      "metadata": {
        "application/vnd.databricks.v1+cell": {
          "title": "",
          "showTitle": false,
          "inputWidgets": {},
          "nuid": "d6d50913-1930-490e-8cb5-8059cc813572"
        },
        "id": "4gAH4pUZprxN"
      },
      "source": [
        "This lab session complements the previous session with several concepts:\n",
        "* manipulating irregular, nested data represented in JSON format\n",
        "* using windowing functions, multi-dimensional aggregations, and pivot tables"
      ]
    },
    {
      "cell_type": "markdown",
      "metadata": {
        "application/vnd.databricks.v1+cell": {
          "title": "",
          "showTitle": false,
          "inputWidgets": {},
          "nuid": "b15737ae-19bd-4b9f-b9f3-52388cc5e50e"
        },
        "id": "levNDESpS1hT"
      },
      "source": [
        "\n",
        "\n",
        "```\n",
        "# This is formatted as code\n",
        "```\n",
        "\n",
        "## Préparation"
      ]
    },
    {
      "cell_type": "markdown",
      "metadata": {
        "application/vnd.databricks.v1+cell": {
          "title": "",
          "showTitle": false,
          "inputWidgets": {},
          "nuid": "b6afe82e-35d6-4358-9b79-8f56074e0908"
        },
        "id": "4pZBsez9S1hT"
      },
      "source": [
        "Vérifier que des ressources de calcul sont allouées à votre notebook est connecté (cf RAM  de disque indiqués en haut à droite) . Sinon cliquer sur le bouton connecter pour obtenir des ressources.\n",
        "\n",
        "\n"
      ]
    },
    {
      "cell_type": "markdown",
      "metadata": {
        "id": "CEjerqQ6Ink6"
      },
      "source": [
        "Pour accéder directement aux fichiers stockées sur votre google drive. Renseigner le code d'authentification lorsqu'il est demandé\n",
        "\n",
        "Ajuster le nom de votre dossier : MyDrive/ens/bdle/dir. **Remplacer dir **"
      ]
    },
    {
      "cell_type": "code",
      "metadata": {
        "id": "g7Dv93rsImuM",
        "colab": {
          "base_uri": "https://localhost:8080/"
        },
        "outputId": "ef490954-3da3-4736-cfb1-b8c5e06bd22d"
      },
      "source": [
        "import os\n",
        "from google.colab import drive\n",
        "drive.mount(\"/content/drive\", force_remount=True)\n",
        "\n",
        "drive_dir = \"/content/drive/MyDrive/ens/bdle/SparkDF/\"\n",
        "os.makedirs(drive_dir, exist_ok=True)\n",
        "os.listdir(drive_dir)"
      ],
      "execution_count": null,
      "outputs": [
        {
          "output_type": "stream",
          "name": "stdout",
          "text": [
            "Mounted at /content/drive\n"
          ]
        },
        {
          "output_type": "execute_result",
          "data": {
            "text/plain": [
              "['users.csv', 'books.csv', 'ratings.csv', 'vk_001.json']"
            ]
          },
          "metadata": {},
          "execution_count": 1
        }
      ]
    },
    {
      "cell_type": "markdown",
      "metadata": {
        "id": "7v9EXMl8aPZC"
      },
      "source": [
        "Installer pyspark et findspark :\n"
      ]
    },
    {
      "cell_type": "code",
      "metadata": {
        "id": "3zlwNHy1S8C2",
        "colab": {
          "base_uri": "https://localhost:8080/"
        },
        "outputId": "310ec2ef-4883-48c8-f586-0d0e037a9a56"
      },
      "source": [
        "!pip install -q pyspark\n",
        "!pip install -q findspark"
      ],
      "execution_count": null,
      "outputs": [
        {
          "output_type": "stream",
          "name": "stdout",
          "text": [
            "\u001b[K     |████████████████████████████████| 281.3 MB 39 kB/s \n",
            "\u001b[K     |████████████████████████████████| 198 kB 50.5 MB/s \n",
            "\u001b[?25h  Building wheel for pyspark (setup.py) ... \u001b[?25l\u001b[?25hdone\n"
          ]
        }
      ]
    },
    {
      "cell_type": "markdown",
      "metadata": {
        "id": "PnEmOd_zOUo0"
      },
      "source": [
        "Démarrer la session spark"
      ]
    },
    {
      "cell_type": "code",
      "metadata": {
        "id": "W0ADH0J-VW7i"
      },
      "source": [
        "import os\n",
        "# !find /usr/local -name \"pyspark\"\n",
        "os.environ[\"SPARK_HOME\"] = \"/usr/local/lib/python3.7/dist-packages/pyspark\"\n",
        "os.environ[\"JAVA_HOME\"] = \"/usr\""
      ],
      "execution_count": null,
      "outputs": []
    },
    {
      "cell_type": "code",
      "metadata": {
        "id": "Q_WxQZB7TaUC",
        "colab": {
          "base_uri": "https://localhost:8080/"
        },
        "outputId": "70d32e45-4166-4755-9b41-eddf8c9f3d81"
      },
      "source": [
        "# Principaux import\n",
        "import findspark\n",
        "from pyspark.sql import SparkSession \n",
        "from pyspark import SparkConf  \n",
        "\n",
        "# pour les dataframe et udf\n",
        "from pyspark.sql import *  \n",
        "from pyspark.sql.functions import *\n",
        "from pyspark.sql.types import *\n",
        "from datetime import *\n",
        "\n",
        "# pour le chronomètre\n",
        "import time\n",
        "\n",
        "# initialise les variables d'environnement pour spark\n",
        "findspark.init()\n",
        "\n",
        "# Démarrage session spark \n",
        "# --------------------------\n",
        "def demarrer_spark():\n",
        "  local = \"local[*]\"\n",
        "  appName = \"TP\"\n",
        "  configLocale = SparkConf().setAppName(appName).setMaster(local).\\\n",
        "  set(\"spark.executor.memory\", \"6G\").\\\n",
        "  set(\"spark.driver.memory\",\"6G\").\\\n",
        "  set(\"spark.sql.catalogImplementation\",\"in-memory\")\n",
        "  \n",
        "  spark = SparkSession.builder.config(conf = configLocale).getOrCreate()\n",
        "  sc = spark.sparkContext\n",
        "  sc.setLogLevel(\"ERROR\")\n",
        "  \n",
        "  spark.conf.set(\"spark.sql.autoBroadcastJoinThreshold\",\"-1\")\n",
        "\n",
        "  # On ajuste l'environnement d'exécution des requêtes à la taille du cluster (4 coeurs)\n",
        "  spark.conf.set(\"spark.sql.shuffle.partitions\",\"4\")    \n",
        "  print(\"session démarrée, son id est \", sc.applicationId)\n",
        "  return spark\n",
        "spark = demarrer_spark()"
      ],
      "execution_count": null,
      "outputs": [
        {
          "output_type": "stream",
          "name": "stdout",
          "text": [
            "session démarrée, son id est  local-1636721716137\n"
          ]
        }
      ]
    },
    {
      "cell_type": "code",
      "metadata": {
        "application/vnd.databricks.v1+cell": {
          "title": "",
          "showTitle": false,
          "inputWidgets": {},
          "nuid": "852847c4-bd45-4f9c-ae8b-2c704f389cf9"
        },
        "id": "fj9pUgrmGpLe",
        "colab": {
          "base_uri": "https://localhost:8080/"
        },
        "outputId": "24cfa556-6a76-47cc-9048-1d663e64118c"
      },
      "source": [
        "# on utilise 8 partitions au lieu de 200 par défaut\n",
        "spark.conf.set(\"spark.sql.shuffle.partitions\", \"8\")\n",
        "print(\"Nombre de partitions utilisées : \", spark.conf.get(\"spark.sql.shuffle.partitions\"))"
      ],
      "execution_count": null,
      "outputs": [
        {
          "output_type": "stream",
          "name": "stdout",
          "text": [
            "Nombre de partitions utilisées :  8\n"
          ]
        }
      ]
    },
    {
      "cell_type": "markdown",
      "metadata": {
        "application/vnd.databricks.v1+cell": {
          "title": "",
          "showTitle": false,
          "inputWidgets": {},
          "nuid": "41dd8b8e-d697-4efb-a1d2-cd34a08b3e7e"
        },
        "id": "NtjUaom1_2bC"
      },
      "source": [
        "## Data loading"
      ]
    },
    {
      "cell_type": "code",
      "metadata": {
        "colab": {
          "base_uri": "https://localhost:8080/"
        },
        "id": "NnpzRKcuA9Yi",
        "outputId": "df833c22-97d4-47b6-b88b-4fec2d054b75"
      },
      "source": [
        "# URL du dossier PUBLIC_DATASET contenant des fichiers de données pour les TP\n",
        "# ---------------------------------------------------------------------------\n",
        "# en cas de problème avec le téléchargement des datasets, aller directement sur l'URL ci-dessous\n",
        "PUBLIC_DATASET_URL = \"https://nuage.lip6.fr/s/H3bpyRGgnCq2NR4\" \n",
        "PUBLIC_DATASET=PUBLIC_DATASET_URL + \"/download?path=\"\n",
        "\n",
        "print(\"URL pour les datasets \", PUBLIC_DATASET_URL)"
      ],
      "execution_count": null,
      "outputs": [
        {
          "output_type": "stream",
          "name": "stdout",
          "text": [
            "URL pour les datasets  https://nuage.lip6.fr/s/H3bpyRGgnCq2NR4\n"
          ]
        }
      ]
    },
    {
      "cell_type": "code",
      "metadata": {
        "colab": {
          "base_uri": "https://localhost:8080/"
        },
        "id": "PecIszauBHx7",
        "outputId": "f4ed99b3-ba44-4b8c-d2c2-32263de5b64c"
      },
      "source": [
        "import os\n",
        "from urllib import request\n",
        "\n",
        "def load_file(file,dir):\n",
        "  if(os.path.isfile(file)):\n",
        "    print(file, \"is already stored\")\n",
        "  else:\n",
        "    url = PUBLIC_DATASET + \"/\"+ dir + \"/\" + file\n",
        "    print(\"downloading from URL: \", url, \"save in : \" + drive_dir   + file)\n",
        "    request.urlretrieve(url , drive_dir + file)\n",
        "\n",
        "load_file(\"vk_001.json\", \"VKRU18\")\n",
        "\n",
        "# Liste des fichiers de IMDB\n",
        "os.listdir(drive_dir)"
      ],
      "execution_count": null,
      "outputs": [
        {
          "output_type": "stream",
          "name": "stdout",
          "text": [
            "downloading from URL:  https://nuage.lip6.fr/s/H3bpyRGgnCq2NR4/download?path=/VKRU18/vk_001.json save in : /content/drive/MyDrive/ens/bdle/SparkDF/vk_001.json\n"
          ]
        },
        {
          "output_type": "execute_result",
          "data": {
            "text/plain": [
              "['users.csv', 'books.csv', 'ratings.csv', 'vk_001.json']"
            ]
          },
          "metadata": {},
          "execution_count": 7
        }
      ]
    },
    {
      "cell_type": "markdown",
      "metadata": {
        "application/vnd.databricks.v1+cell": {
          "title": "",
          "showTitle": false,
          "inputWidgets": {},
          "nuid": "6d0b9ed5-34c9-4087-8e89-c4054b53dceb"
        },
        "id": "wy32zRSTprxY"
      },
      "source": [
        "## Dataset loading\n",
        "The dataset used in this lab session describes posts exchanged in a Russian social network, called VK, during the 2018 Russian elections.\n",
        "The schema of this dataset is described in the official API website\n",
        "https://vk.com/dev/streaming_api_docs_2?f=7.%2BЧтение%2Bпотока \n",
        "\n",
        "\n",
        "We will use this dataset to perform some analytics on the type of posts, the tags used in these post and the relationships between authors of the posts."
      ]
    },
    {
      "cell_type": "code",
      "metadata": {
        "application/vnd.databricks.v1+cell": {
          "title": "",
          "showTitle": false,
          "inputWidgets": {},
          "nuid": "15b333f9-91cb-4217-85a2-1b78fc88aac7"
        },
        "colab": {
          "base_uri": "https://localhost:8080/"
        },
        "id": "YidaWoNpprxY",
        "outputId": "358c592a-f17b-4f67-fb83-f2865ca2dd8a"
      },
      "source": [
        "data = spark.read.format(\"json\").load(drive_dir+'vk_001.json').distinct()\n",
        "data.count()"
      ],
      "execution_count": null,
      "outputs": [
        {
          "output_type": "execute_result",
          "data": {
            "text/plain": [
              "30683"
            ]
          },
          "metadata": {},
          "execution_count": 8
        }
      ]
    },
    {
      "cell_type": "code",
      "metadata": {
        "application/vnd.databricks.v1+cell": {
          "title": "",
          "showTitle": false,
          "inputWidgets": {},
          "nuid": "f8f7180a-05dd-46fb-af63-e1a5f743687e"
        },
        "id": "R9_4b_OFprxZ"
      },
      "source": [
        "#examine the schema\n",
        "data.printSchema()"
      ],
      "execution_count": null,
      "outputs": []
    },
    {
      "cell_type": "markdown",
      "metadata": {
        "application/vnd.databricks.v1+cell": {
          "title": "",
          "showTitle": false,
          "inputWidgets": {},
          "nuid": "a5c2c97f-43bd-4b16-b175-fcbdd7edbe74"
        },
        "id": "dDpBqJ28prxZ"
      },
      "source": [
        "## Questions"
      ]
    },
    {
      "cell_type": "markdown",
      "metadata": {
        "application/vnd.databricks.v1+cell": {
          "title": "",
          "showTitle": false,
          "inputWidgets": {},
          "nuid": "3734f85f-21a0-4c63-b4fb-9da4ba1185a5"
        },
        "id": "Pb4LtVKQprxa"
      },
      "source": [
        "The schema indicates each attribute with nullable=true which is not very informative since we can not know whether a field has missing values.\n",
        "The following instructions count the number of rows w/o missing values for some specific fields of interest."
      ]
    },
    {
      "cell_type": "code",
      "metadata": {
        "application/vnd.databricks.v1+cell": {
          "title": "",
          "showTitle": false,
          "inputWidgets": {},
          "nuid": "7d51ee9e-0266-413d-a3d5-cd96a905a3cb"
        },
        "id": "m98KJWncprxa"
      },
      "source": [
        "att_list = [\"event\", \n",
        "                 \"event.event_id\", \n",
        "                 \"event.event_id.post_id\", \n",
        "                 \"event.event_id.post_owner_id\", \n",
        "                 \"event.event_id.comment_id\", \n",
        "                 \"event.event_id.shared_post_id\", \n",
        "                 \"event.author\", \n",
        "                 \"event.attachments\", \n",
        "                 \"event.geo\", \n",
        "                 \"event.tags\",\n",
        "                 \"event.creation_time\"]"
      ],
      "execution_count": null,
      "outputs": []
    },
    {
      "cell_type": "code",
      "metadata": {
        "application/vnd.databricks.v1+cell": {
          "title": "",
          "showTitle": false,
          "inputWidgets": {},
          "nuid": "45f92445-f2cc-4bad-a868-2c246eedf210"
        },
        "colab": {
          "base_uri": "https://localhost:8080/"
        },
        "id": "ilDCsjR-prxb",
        "outputId": "7543dae3-51cb-46dc-d8b4-74d9efcbd1a6"
      },
      "source": [
        "for att in att_list:\n",
        "    print(\"count of %s=%s\"%(att, data.where(att+ \" is not null\").count()))"
      ],
      "execution_count": null,
      "outputs": [
        {
          "output_type": "stream",
          "name": "stdout",
          "text": [
            "count of event=30683\n",
            "count of event.event_id=30683\n",
            "count of event.event_id.post_id=30683\n",
            "count of event.event_id.post_owner_id=30683\n",
            "count of event.event_id.comment_id=16518\n",
            "count of event.event_id.shared_post_id=638\n",
            "count of event.author=30683\n",
            "count of event.attachments=15944\n",
            "count of event.geo=22\n",
            "count of event.tags=30683\n",
            "count of event.creation_time=30683\n"
          ]
        }
      ]
    },
    {
      "cell_type": "markdown",
      "metadata": {
        "application/vnd.databricks.v1+cell": {
          "title": "",
          "showTitle": false,
          "inputWidgets": {},
          "nuid": "522322f1-5229-42b2-9e20-9c37455db09c"
        },
        "id": "ooLKXBpiprxb"
      },
      "source": [
        "What do you observe? Which attributes have missing values?\n",
        "\n",
        "Feel free to examine the content of these attributes (count the number of distinct values, examine a sample of distinct values, etc)"
      ]
    },
    {
      "cell_type": "markdown",
      "metadata": {
        "application/vnd.databricks.v1+cell": {
          "title": "",
          "showTitle": false,
          "inputWidgets": {},
          "nuid": "3952d4e9-2364-456a-865a-1c61e9bdf606"
        },
        "id": "GkQg8U_sprxb"
      },
      "source": [
        "The official documentation (https://vk.com/dev/streaming_api_docs_2?f=7.%2BЧтение%2Bпотока) reports on some assumptions about the presence/absence of values.\n",
        "For example, the field `event.event_id.comment_id` is present only when `event.event_type='comment'` and `event.event_id.shared_post_id` is present only when `event.event_type='share'`.\n",
        "\n",
        "Write two queries to verify these assumptions."
      ]
    },
    {
      "cell_type": "markdown",
      "metadata": {
        "application/vnd.databricks.v1+cell": {
          "title": "",
          "showTitle": false,
          "inputWidgets": {},
          "nuid": "3fbbb414-4ac3-4a17-9db9-1178b16dd5be"
        },
        "id": "kJmWtnOXprxc"
      },
      "source": [
        "#### Check that `event.event_id.comment_id` is present only when `event.event_type='comment'`"
      ]
    },
    {
      "cell_type": "code",
      "metadata": {
        "application/vnd.databricks.v1+cell": {
          "title": "",
          "showTitle": false,
          "inputWidgets": {},
          "nuid": "638b7583-7bce-450d-b647-da2799603d0a"
        },
        "colab": {
          "base_uri": "https://localhost:8080/"
        },
        "id": "mFsqiIpyprxc",
        "outputId": "670de0f8-cc92-4ad8-f014-5931f0cf8562"
      },
      "source": [
        "data.filter((col('event.event_type') == 'comment') & (col(\"event.event_id.comment_id\").isNull())).count() == 0\n"
      ],
      "execution_count": null,
      "outputs": [
        {
          "output_type": "execute_result",
          "data": {
            "text/plain": [
              "True"
            ]
          },
          "metadata": {},
          "execution_count": 12
        }
      ]
    },
    {
      "cell_type": "markdown",
      "metadata": {
        "application/vnd.databricks.v1+cell": {
          "title": "",
          "showTitle": false,
          "inputWidgets": {},
          "nuid": "7fd1d4b1-5669-479f-9442-74ee3d27fd39"
        },
        "id": "XV4xcggMprxc"
      },
      "source": [
        "#### Check that `event.event_id.shared_post_id` is present only when `event.event_type='share'`"
      ]
    },
    {
      "cell_type": "code",
      "metadata": {
        "application/vnd.databricks.v1+cell": {
          "title": "",
          "showTitle": false,
          "inputWidgets": {},
          "nuid": "af61dfc1-d279-43b9-b4a9-22349ae0f144"
        },
        "colab": {
          "base_uri": "https://localhost:8080/"
        },
        "id": "jE14Js3Qprxc",
        "outputId": "c4c0d086-64a4-493b-9c12-d1e032ee3306"
      },
      "source": [
        "data.filter((col('event.event_type') == 'share') & (col(\"event.event_id.shared_post_id\").isNull())).count() == 0"
      ],
      "execution_count": null,
      "outputs": [
        {
          "output_type": "execute_result",
          "data": {
            "text/plain": [
              "True"
            ]
          },
          "metadata": {},
          "execution_count": 13
        }
      ]
    },
    {
      "cell_type": "markdown",
      "metadata": {
        "application/vnd.databricks.v1+cell": {
          "title": "",
          "showTitle": false,
          "inputWidgets": {},
          "nuid": "e5faf6c8-77a9-41ac-b27d-f2a490ba0a62"
        },
        "id": "81hc99X5prxd"
      },
      "source": [
        "#### How many distinct post ids are there?"
      ]
    },
    {
      "cell_type": "code",
      "metadata": {
        "application/vnd.databricks.v1+cell": {
          "title": "",
          "showTitle": false,
          "inputWidgets": {},
          "nuid": "3f14b0e8-cfd6-4c7c-ae1a-98c3f8d7d5f4"
        },
        "id": "E1NOBRuRprxe"
      },
      "source": [
        "from pyspark.sql.functions import count, countDistinct"
      ],
      "execution_count": null,
      "outputs": []
    },
    {
      "cell_type": "code",
      "metadata": {
        "application/vnd.databricks.v1+cell": {
          "title": "",
          "showTitle": false,
          "inputWidgets": {},
          "nuid": "c6aeca58-f1c9-4b77-8fb0-2635af2a8101"
        },
        "colab": {
          "base_uri": "https://localhost:8080/"
        },
        "id": "JLf2MFHjprxf",
        "outputId": "46fe92ea-00f2-40a3-f2b5-bb2b84336c31"
      },
      "source": [
        "nb_posts = data.select(countDistinct(col('event.event_id.post_id')).alias(\"nb_distinct_posts\"))\n",
        "nb_posts.show()"
      ],
      "execution_count": null,
      "outputs": [
        {
          "output_type": "stream",
          "name": "stdout",
          "text": [
            "+-----------------+\n",
            "|nb_distinct_posts|\n",
            "+-----------------+\n",
            "|            21683|\n",
            "+-----------------+\n",
            "\n"
          ]
        }
      ]
    },
    {
      "cell_type": "markdown",
      "metadata": {
        "application/vnd.databricks.v1+cell": {
          "title": "",
          "showTitle": false,
          "inputWidgets": {},
          "nuid": "18a5eb84-8408-4db4-979a-b0c24aa14a96"
        },
        "id": "33x5r-bXprxg"
      },
      "source": [
        "#### How many distinct post_ids per event type"
      ]
    },
    {
      "cell_type": "code",
      "metadata": {
        "application/vnd.databricks.v1+cell": {
          "title": "",
          "showTitle": false,
          "inputWidgets": {},
          "nuid": "f2b8dd1b-d33c-48a8-b3fe-74dc5240fbb1"
        },
        "colab": {
          "base_uri": "https://localhost:8080/"
        },
        "id": "OLECgaRCprxh",
        "outputId": "25bd8093-ea64-415f-d07e-582cafe13e0b"
      },
      "source": [
        "post_per_type = data.groupBy(col(\"event.event_type\")).agg(countDistinct(col('event.event_id.post_id')).alias(\"nb_distinct_posts\"))\n",
        "post_per_type.show()"
      ],
      "execution_count": null,
      "outputs": [
        {
          "output_type": "stream",
          "name": "stdout",
          "text": [
            "+----------+-----------------+\n",
            "|event_type|nb_distinct_posts|\n",
            "+----------+-----------------+\n",
            "|     share|              544|\n",
            "|      post|             8137|\n",
            "|   comment|            14202|\n",
            "+----------+-----------------+\n",
            "\n"
          ]
        }
      ]
    },
    {
      "cell_type": "markdown",
      "metadata": {
        "application/vnd.databricks.v1+cell": {
          "title": "",
          "showTitle": false,
          "inputWidgets": {},
          "nuid": "84d2e387-91eb-4c1b-8296-c94ee57d57c0"
        },
        "id": "vzhqW9rjprxh"
      },
      "source": [
        "#### Flattening lists of tags"
      ]
    },
    {
      "cell_type": "markdown",
      "metadata": {
        "application/vnd.databricks.v1+cell": {
          "title": "",
          "showTitle": false,
          "inputWidgets": {},
          "nuid": "46cacbe4-56db-44a4-90a8-14af421acd26"
        },
        "id": "NYHcmgNBprxi"
      },
      "source": [
        "In `data`, each object is associated with an array of tags accessed from `event.tags` (see the schema). Write an instruction to add a `tag` column containing a single tag obtained by flattening the `tags` array"
      ]
    },
    {
      "cell_type": "code",
      "metadata": {
        "application/vnd.databricks.v1+cell": {
          "title": "",
          "showTitle": false,
          "inputWidgets": {},
          "nuid": "8cda653d-3761-4027-8446-753a501d70ba"
        },
        "id": "QG__DEDCprxi"
      },
      "source": [
        "from pyspark.sql.functions import explode"
      ],
      "execution_count": null,
      "outputs": []
    },
    {
      "cell_type": "code",
      "metadata": {
        "application/vnd.databricks.v1+cell": {
          "title": "",
          "showTitle": false,
          "inputWidgets": {},
          "nuid": "d6d96cd3-0765-4e6d-8cea-e96892c28855"
        },
        "colab": {
          "base_uri": "https://localhost:8080/"
        },
        "id": "cO91aImCprxj",
        "outputId": "aabfa1fe-cb25-425e-971e-e097c691dbe2"
      },
      "source": [
        "data_with_tags = data.withColumn('tag', explode(col('event.tags')))\n",
        "data_with_tags.show()"
      ],
      "execution_count": null,
      "outputs": [
        {
          "output_type": "stream",
          "name": "stdout",
          "text": [
            "+--------------------+----+--------------------+---------+\n",
            "|                 _id|code|               event|      tag|\n",
            "+--------------------+----+--------------------+---------+\n",
            "|{5a66276e7f254c35...| 100|{new, null, {http...| grudinin|\n",
            "|{5a66296f7f254c35...| 100|{new, null, {http...|    putin|\n",
            "|{5a6629907f254c35...| 100|{new, null, {http...|  sobchak|\n",
            "|{5a662a137f254c35...| 100|{new, [{null, nul...|    putin|\n",
            "|{5a662b387f254c35...| 100|{new, [{null, nul...| grudinin|\n",
            "|{5a662dadd81e7c3b...| 100|{new, [{null, nul...|    putin|\n",
            "|{5a662e5cd81e7c3b...| 100|{new, [{null, nul...|yavlinsky|\n",
            "|{5a662fe3d81e7c3b...| 100|{new, [{null, nul...| grudinin|\n",
            "|{5a6631c5d81e7c3b...| 100|{new, [{null, nul...|  navalny|\n",
            "|{5a663292d81e7c3b...| 100|{new, null, {http...| grudinin|\n",
            "|{5a663292d81e7c3b...| 100|{new, null, {http...|    putin|\n",
            "|{5a6632bad81e7c3b...| 100|{new, [{null, nul...|  navalny|\n",
            "|{5a663449d81e7c3b...| 100|{new, null, {http...|    putin|\n",
            "|{5a68c389713e4d08...| 100|{new, [{null, nul...| grudinin|\n",
            "|{5a68c389713e4d08...| 100|{new, [{null, nul...|    putin|\n",
            "|{5a68d054713e4d08...| 100|{new, null, {http...| grudinin|\n",
            "|{5a68d0e1713e4d08...| 100|{new, [{null, nul...| grudinin|\n",
            "|{5a68d3c7713e4d08...| 100|{new, null, {http...|  sobchak|\n",
            "|{5a68d75a713e4d08...| 100|{new, null, {http...|    putin|\n",
            "|{5a68d75a713e4d08...| 100|{new, null, {http...|yavlinsky|\n",
            "+--------------------+----+--------------------+---------+\n",
            "only showing top 20 rows\n",
            "\n"
          ]
        }
      ]
    },
    {
      "cell_type": "markdown",
      "metadata": {
        "application/vnd.databricks.v1+cell": {
          "title": "",
          "showTitle": false,
          "inputWidgets": {},
          "nuid": "3eaa3fc3-bd1e-4e70-a05a-ac090bc60842"
        },
        "id": "vh96FD2bprxk"
      },
      "source": [
        "#### Return the number of distinct post_id per tag. Sort in descending order of count"
      ]
    },
    {
      "cell_type": "code",
      "metadata": {
        "application/vnd.databricks.v1+cell": {
          "title": "",
          "showTitle": false,
          "inputWidgets": {},
          "nuid": "33c99926-6c0d-432d-a534-d4983fd4e479"
        },
        "colab": {
          "base_uri": "https://localhost:8080/"
        },
        "id": "QW1Ua3W6prxl",
        "outputId": "ffe3df0a-e12d-44eb-e214-f3399c3dfff3"
      },
      "source": [
        "from pyspark.sql.functions import desc\n",
        "\n",
        "objects_per_tag = data_with_tags.groupBy(\"tag\").agg(countDistinct(col(\"event.event_id.post_id\")).alias(\"nb_posts\")).orderBy(desc(col('nb_posts')))\n",
        "\n",
        "objects_per_tag.show()"
      ],
      "execution_count": null,
      "outputs": [
        {
          "output_type": "stream",
          "name": "stdout",
          "text": [
            "+-----------+--------+\n",
            "|        tag|nb_posts|\n",
            "+-----------+--------+\n",
            "|      putin|   14859|\n",
            "|   grudinin|    6222|\n",
            "|    navalny|    2616|\n",
            "|    sobchak|    2134|\n",
            "|zhirinovsky|    1231|\n",
            "|      titov|     577|\n",
            "|  yavlinsky|     361|\n",
            "+-----------+--------+\n",
            "\n"
          ]
        }
      ]
    },
    {
      "cell_type": "markdown",
      "metadata": {
        "application/vnd.databricks.v1+cell": {
          "title": "",
          "showTitle": false,
          "inputWidgets": {},
          "nuid": "19a168da-6156-46e6-ba46-9f32ea8ef973"
        },
        "id": "nfM1F2E8prxl"
      },
      "source": [
        "#### Return the number of distinct author.id per tag. Sort in descending order of count"
      ]
    },
    {
      "cell_type": "code",
      "metadata": {
        "application/vnd.databricks.v1+cell": {
          "title": "",
          "showTitle": false,
          "inputWidgets": {},
          "nuid": "661ad1e7-7f97-4675-beb7-694d6d254137"
        },
        "colab": {
          "base_uri": "https://localhost:8080/"
        },
        "id": "nGHd7rk1prxm",
        "outputId": "e8961fd6-31bc-421a-c8a4-c202e12d63f0"
      },
      "source": [
        "authors_per_tag = data_with_tags.groupBy(\"tag\").agg(countDistinct(col(\"event.author.id\")).alias(\"nb_authors\")).orderBy(desc('nb_authors'))\n",
        "\n",
        "authors_per_tag.show()"
      ],
      "execution_count": null,
      "outputs": [
        {
          "output_type": "stream",
          "name": "stdout",
          "text": [
            "+-----------+----------+\n",
            "|        tag|nb_authors|\n",
            "+-----------+----------+\n",
            "|      putin|     15673|\n",
            "|   grudinin|      6207|\n",
            "|    navalny|      2580|\n",
            "|    sobchak|      2288|\n",
            "|zhirinovsky|      1214|\n",
            "|      titov|       572|\n",
            "|  yavlinsky|       347|\n",
            "+-----------+----------+\n",
            "\n"
          ]
        }
      ]
    },
    {
      "cell_type": "markdown",
      "metadata": {
        "application/vnd.databricks.v1+cell": {
          "title": "",
          "showTitle": false,
          "inputWidgets": {},
          "nuid": "6f0f1299-a899-4c97-b6e2-3d1b85d40e1e"
        },
        "id": "DsEFVAeuprxm"
      },
      "source": [
        "#### Fact-checking using Wikipedia"
      ]
    },
    {
      "cell_type": "markdown",
      "metadata": {
        "application/vnd.databricks.v1+cell": {
          "title": "",
          "showTitle": false,
          "inputWidgets": {},
          "nuid": "41cc71ca-f30b-4d32-b0ea-b2f07dedc4f8"
        },
        "id": "_3SSnBlEprxm"
      },
      "source": [
        "Observe that each tag corresponds to a candidate of the RU2018 Elections (Putin, Titov, etc).\n",
        "We would like to check the relationship between the count of tags per author and the number of votes associated to each candidate.\n",
        "We collect, from Wikipedia, the number of votes per candidates and make it available though the dataset `votes` defined as follows."
      ]
    },
    {
      "cell_type": "code",
      "metadata": {
        "application/vnd.databricks.v1+cell": {
          "title": "",
          "showTitle": false,
          "inputWidgets": {},
          "nuid": "ce0daa76-7f39-4ace-8aee-84d700748bf5"
        },
        "colab": {
          "base_uri": "https://localhost:8080/"
        },
        "id": "LQi20X-Dprxm",
        "outputId": "016e55b7-6db2-4a17-d273-ba1448b7130d"
      },
      "source": [
        "from pyspark.sql.types import *\n",
        "\n",
        "schema_votes = StructType([StructField(\"name\", StringType()),\\\n",
        "                     StructField(\"party\", StringType()),\\\n",
        "                     StructField(\"votes\", LongType())])\n",
        "                     \n",
        "\n",
        "raw_votes = [(\"putin\", \"Independent\", 56430712),\\\n",
        "             (\"grudinin\", \"Communist\",8659206), \\\n",
        "             (\"zhirinovsky\",\"Liberal Democratic Party\",4154985),\\\n",
        "             (\"sobchak\",\"Civic Initiative\",1238031),\\\n",
        "             (\"yavlinsky\",\"Yabloko\",769644), \\\n",
        "             (\"titov\",\"Party of Growth\",556801)\\\n",
        "            ]\n",
        "\n",
        "votes = spark.createDataFrame(raw_votes,schema_votes) \n",
        "votes.show()"
      ],
      "execution_count": null,
      "outputs": [
        {
          "output_type": "stream",
          "name": "stdout",
          "text": [
            "+-----------+--------------------+--------+\n",
            "|       name|               party|   votes|\n",
            "+-----------+--------------------+--------+\n",
            "|      putin|         Independent|56430712|\n",
            "|   grudinin|           Communist| 8659206|\n",
            "|zhirinovsky|Liberal Democrati...| 4154985|\n",
            "|    sobchak|    Civic Initiative| 1238031|\n",
            "|  yavlinsky|             Yabloko|  769644|\n",
            "|      titov|     Party of Growth|  556801|\n",
            "+-----------+--------------------+--------+\n",
            "\n"
          ]
        }
      ]
    },
    {
      "cell_type": "markdown",
      "metadata": {
        "application/vnd.databricks.v1+cell": {
          "title": "",
          "showTitle": false,
          "inputWidgets": {},
          "nuid": "1eb8c379-a81d-44f4-837d-a5baa1607c51"
        },
        "id": "EZQD2DaVprxn"
      },
      "source": [
        "#### Return for each candidate the number of its votes and the number of authors who tagged it. What do you observe?"
      ]
    },
    {
      "cell_type": "code",
      "metadata": {
        "application/vnd.databricks.v1+cell": {
          "title": "",
          "showTitle": false,
          "inputWidgets": {},
          "nuid": "5fded003-44f8-4190-8565-bd1ecda28970"
        },
        "colab": {
          "base_uri": "https://localhost:8080/"
        },
        "id": "yACkv643prxn",
        "outputId": "df38063f-5e2e-4ef0-94da-4ff5cc761d8e"
      },
      "source": [
        "votes_count = votes.join(authors_per_tag.select(col('tag').alias('name'), 'nb_authors'), on = 'name').select('name', 'votes', 'nb_authors').orderBy(desc('nb_authors'))\n",
        "votes_count.show()"
      ],
      "execution_count": null,
      "outputs": [
        {
          "output_type": "stream",
          "name": "stdout",
          "text": [
            "+-----------+--------+----------+\n",
            "|       name|   votes|nb_authors|\n",
            "+-----------+--------+----------+\n",
            "|      putin|56430712|     15673|\n",
            "|   grudinin| 8659206|      6207|\n",
            "|    sobchak| 1238031|      2288|\n",
            "|zhirinovsky| 4154985|      1214|\n",
            "|      titov|  556801|       572|\n",
            "|  yavlinsky|  769644|       347|\n",
            "+-----------+--------+----------+\n",
            "\n"
          ]
        }
      ]
    },
    {
      "cell_type": "markdown",
      "metadata": {
        "application/vnd.databricks.v1+cell": {
          "title": "",
          "showTitle": false,
          "inputWidgets": {},
          "nuid": "d74a6e5a-d7c8-41cc-a06a-b794a9bb0a15"
        },
        "id": "AOW_KUIJprxo"
      },
      "source": [
        "### Window function"
      ]
    },
    {
      "cell_type": "markdown",
      "metadata": {
        "application/vnd.databricks.v1+cell": {
          "title": "",
          "showTitle": false,
          "inputWidgets": {},
          "nuid": "6f0f9048-910d-4359-a682-9ce918bdff95"
        },
        "id": "Ybq-IKfQprxo"
      },
      "source": [
        "Read about the windowing functions https://databricks.com/blog/2015/07/15/introducing-window-functions-in-spark-sql.html."
      ]
    },
    {
      "cell_type": "code",
      "metadata": {
        "application/vnd.databricks.v1+cell": {
          "title": "",
          "showTitle": false,
          "inputWidgets": {},
          "nuid": "1440237b-2101-4d45-acd8-ac94b3eb2b08"
        },
        "id": "uDk75DiJprxo"
      },
      "source": [
        "from pyspark.sql.window import Window\n",
        "from pyspark.sql.functions import rank"
      ],
      "execution_count": null,
      "outputs": []
    },
    {
      "cell_type": "markdown",
      "metadata": {
        "application/vnd.databricks.v1+cell": {
          "title": "",
          "showTitle": false,
          "inputWidgets": {},
          "nuid": "69982c0c-5118-4c62-9012-de5b9170fc69"
        },
        "id": "Gm9jTAX6prxo"
      },
      "source": [
        "Define a window specification for the `votes` and `nb_authors` columns"
      ]
    },
    {
      "cell_type": "code",
      "metadata": {
        "application/vnd.databricks.v1+cell": {
          "title": "",
          "showTitle": false,
          "inputWidgets": {},
          "nuid": "551bfdc6-16b5-4fad-a246-74d53989f9f0"
        },
        "id": "lTlVzx3Dprxo"
      },
      "source": [
        "windowSpecVotes = Window.orderBy(desc(\"votes\"))\n",
        "windowSpecCount = Window.orderBy(desc(\"nb_authors\"))"
      ],
      "execution_count": null,
      "outputs": []
    },
    {
      "cell_type": "markdown",
      "metadata": {
        "application/vnd.databricks.v1+cell": {
          "title": "",
          "showTitle": false,
          "inputWidgets": {},
          "nuid": "f4fe4e90-7d17-4358-b2dc-c5710fa4778d"
        },
        "id": "0PcS3Rs_prxp"
      },
      "source": [
        "Using the window specifications, augment `votes_count` with two attributes, `votes_rank` and `nbAuths_ranks`, which rank each candidate  based on the number of votes he received  and the number of authors who tagged a post with his name. \n",
        "\n",
        "Hint. The window spans the entire data and does not use any partitioning."
      ]
    },
    {
      "cell_type": "code",
      "metadata": {
        "application/vnd.databricks.v1+cell": {
          "title": "",
          "showTitle": false,
          "inputWidgets": {},
          "nuid": "5c8a1790-8ffc-443d-b5f3-6778220d204a"
        },
        "colab": {
          "base_uri": "https://localhost:8080/"
        },
        "id": "_8L6qWl7prxp",
        "outputId": "ca86fa5c-6b70-45c8-c39a-b30518639ed6"
      },
      "source": [
        "compare = votes_count.withColumn(\"votes_rank\", rank().over(windowSpecVotes)).withColumn(\"nb_authors_rank\", rank().over(windowSpecCount))\n",
        "\n",
        "compare.show()"
      ],
      "execution_count": null,
      "outputs": [
        {
          "output_type": "stream",
          "name": "stdout",
          "text": [
            "+-----------+--------+----------+----------+---------------+\n",
            "|       name|   votes|nb_authors|votes_rank|nb_authors_rank|\n",
            "+-----------+--------+----------+----------+---------------+\n",
            "|      putin|56430712|     15673|         1|              1|\n",
            "|   grudinin| 8659206|      6207|         2|              2|\n",
            "|    sobchak| 1238031|      2288|         4|              3|\n",
            "|zhirinovsky| 4154985|      1214|         3|              4|\n",
            "|      titov|  556801|       572|         6|              5|\n",
            "|  yavlinsky|  769644|       347|         5|              6|\n",
            "+-----------+--------+----------+----------+---------------+\n",
            "\n"
          ]
        }
      ]
    },
    {
      "cell_type": "markdown",
      "metadata": {
        "application/vnd.databricks.v1+cell": {
          "title": "",
          "showTitle": false,
          "inputWidgets": {},
          "nuid": "d86e5ce3-4e27-42a3-95ca-b8c431a1e42d"
        },
        "id": "Tz4evj6Eprxp"
      },
      "source": [
        "### Multidimensional aggregation"
      ]
    },
    {
      "cell_type": "markdown",
      "metadata": {
        "application/vnd.databricks.v1+cell": {
          "title": "",
          "showTitle": false,
          "inputWidgets": {},
          "nuid": "b7fd0b2b-ab71-49a2-8370-f26c99275fc5"
        },
        "id": "ROc2mFViprxp"
      },
      "source": [
        "We want to create a cube with three dimensions: `tag`, `event_type` and `month`. While the first two attributes are already available, the month column must be extracted from the `creation_time` attribute using a built-in function. \n",
        "\n",
        "Create a dataset `dataTagMon` obtained by augmenting `data_with_tags` with an attribute `month` containing the month extracted from the `event.creation_time` attribute.\n",
        "\n",
        "Hint. You will notice that only months 1, 2 and 3 exist in the dataset."
      ]
    },
    {
      "cell_type": "code",
      "metadata": {
        "application/vnd.databricks.v1+cell": {
          "title": "",
          "showTitle": false,
          "inputWidgets": {},
          "nuid": "42c14658-4b38-4d4b-a224-801e28f96310"
        },
        "id": "46fAgW5Iprxp"
      },
      "source": [
        "from pyspark.sql.functions import from_unixtime\n",
        "from pyspark.sql.functions import month"
      ],
      "execution_count": null,
      "outputs": []
    },
    {
      "cell_type": "code",
      "metadata": {
        "application/vnd.databricks.v1+cell": {
          "title": "",
          "showTitle": false,
          "inputWidgets": {},
          "nuid": "43ef7f36-eb23-4f5c-beea-773630e0b305"
        },
        "colab": {
          "base_uri": "https://localhost:8080/"
        },
        "id": "jG3Qc8RWprxq",
        "outputId": "a36a4294-751c-4651-ce8e-52225d4dfe69"
      },
      "source": [
        "data_tag_mon = data_with_tags.withColumn('month', month(from_unixtime('event.creation_time')))\n",
        "\n",
        "data_tag_mon.select(\"month\").distinct().show()"
      ],
      "execution_count": null,
      "outputs": [
        {
          "output_type": "stream",
          "name": "stdout",
          "text": [
            "+-----+\n",
            "|month|\n",
            "+-----+\n",
            "|    1|\n",
            "|    3|\n",
            "|    2|\n",
            "+-----+\n",
            "\n"
          ]
        }
      ]
    },
    {
      "cell_type": "markdown",
      "metadata": {
        "application/vnd.databricks.v1+cell": {
          "title": "",
          "showTitle": false,
          "inputWidgets": {},
          "nuid": "3c7ef8bb-55c3-4377-8f79-8bb92b66ed72"
        },
        "id": "R0O0F2UOprxq"
      },
      "source": [
        "#### For each combination of event_type, tag and month, count the nomber of distinct post_ids"
      ]
    },
    {
      "cell_type": "code",
      "metadata": {
        "application/vnd.databricks.v1+cell": {
          "title": "",
          "showTitle": false,
          "inputWidgets": {},
          "nuid": "9da69d76-00e1-462f-bbb1-d672d97a97ce"
        },
        "colab": {
          "base_uri": "https://localhost:8080/"
        },
        "id": "exoRM_dIprxq",
        "outputId": "00e86d2e-8eef-4a71-b7e8-32731684a248"
      },
      "source": [
        "tag_event_month = data_tag_mon.groupBy(\"event.event_type\", \"tag\", \"month\").agg(countDistinct('event.event_id.post_id').alias('count_dist_postids')).orderBy(desc(\"count_dist_postids\"))\n",
        "tag_event_month.orderBy(desc(\"count_dist_postids\")).show()"
      ],
      "execution_count": null,
      "outputs": [
        {
          "output_type": "stream",
          "name": "stdout",
          "text": [
            "+----------+--------+-----+------------------+\n",
            "|event_type|     tag|month|count_dist_postids|\n",
            "+----------+--------+-----+------------------+\n",
            "|   comment|   putin|    2|              4191|\n",
            "|   comment|   putin|    3|              3543|\n",
            "|      post|   putin|    2|              2963|\n",
            "|      post|   putin|    3|              2954|\n",
            "|   comment|grudinin|    2|              2012|\n",
            "|   comment|grudinin|    3|              1484|\n",
            "|      post|grudinin|    2|              1409|\n",
            "|   comment|   putin|    1|              1390|\n",
            "|      post|grudinin|    3|              1206|\n",
            "|      post|   putin|    1|              1104|\n",
            "|   comment| navalny|    2|               780|\n",
            "|   comment| sobchak|    3|               538|\n",
            "|      post| sobchak|    2|               503|\n",
            "|   comment| navalny|    1|               474|\n",
            "|      post| navalny|    2|               461|\n",
            "|   comment|grudinin|    1|               442|\n",
            "|   comment| sobchak|    2|               436|\n",
            "|      post| sobchak|    3|               425|\n",
            "|   comment| navalny|    3|               415|\n",
            "|      post|grudinin|    1|               372|\n",
            "+----------+--------+-----+------------------+\n",
            "only showing top 20 rows\n",
            "\n"
          ]
        }
      ]
    },
    {
      "cell_type": "markdown",
      "metadata": {
        "application/vnd.databricks.v1+cell": {
          "title": "",
          "showTitle": false,
          "inputWidgets": {},
          "nuid": "4a94979c-083c-4125-97bc-354eb779d510"
        },
        "id": "AoYXQ5Szprxq"
      },
      "source": [
        "### Pivot table"
      ]
    },
    {
      "cell_type": "markdown",
      "metadata": {
        "application/vnd.databricks.v1+cell": {
          "title": "",
          "showTitle": false,
          "inputWidgets": {},
          "nuid": "4ec557a8-081b-4875-b790-71c6aebc89d7"
        },
        "id": "ZMFl9INuprxq"
      },
      "source": [
        "#### Using the `tag_event_month` table, create a pivot table by reducing the dimensions to month and event type."
      ]
    },
    {
      "cell_type": "code",
      "metadata": {
        "application/vnd.databricks.v1+cell": {
          "title": "",
          "showTitle": false,
          "inputWidgets": {},
          "nuid": "bf4f38d8-e5ee-4356-bd9f-dea177b94016"
        },
        "colab": {
          "base_uri": "https://localhost:8080/"
        },
        "id": "3jXrn7AZprxq",
        "outputId": "42b0154a-46d6-4aff-9d30-9f5032db66fd"
      },
      "source": [
        "month_event_type = tag_event_month.groupBy('month').pivot('event_type').sum(\"count_dist_postids\")\n",
        "month_event_type.printSchema()\n",
        "month_event_type.show()"
      ],
      "execution_count": null,
      "outputs": [
        {
          "output_type": "stream",
          "name": "stdout",
          "text": [
            "root\n",
            " |-- month: integer (nullable = true)\n",
            " |-- comment: long (nullable = true)\n",
            " |-- post: long (nullable = true)\n",
            " |-- share: long (nullable = true)\n",
            "\n",
            "+-----+-------+----+-----+\n",
            "|month|comment|post|share|\n",
            "+-----+-------+----+-----+\n",
            "|    3|   6424|5328|  207|\n",
            "|    1|   2564|1986|  100|\n",
            "|    2|   7873|5863|  372|\n",
            "+-----+-------+----+-----+\n",
            "\n"
          ]
        }
      ]
    },
    {
      "cell_type": "markdown",
      "metadata": {
        "application/vnd.databricks.v1+cell": {
          "title": "",
          "showTitle": false,
          "inputWidgets": {},
          "nuid": "1f243674-9805-42b6-a042-a3bf81d8ba48"
        },
        "id": "yTF9tW-Uprxr"
      },
      "source": [
        "###  Tag co-occurrence matrix"
      ]
    },
    {
      "cell_type": "markdown",
      "metadata": {
        "application/vnd.databricks.v1+cell": {
          "title": "",
          "showTitle": false,
          "inputWidgets": {},
          "nuid": "5736e929-621d-47ea-aa09-c7a627efccf8"
        },
        "id": "Lpre-U_5prxr"
      },
      "source": [
        "#### create a dataframe indicating for each pair of distinct tags the author that uses both of them."
      ]
    },
    {
      "cell_type": "code",
      "metadata": {
        "application/vnd.databricks.v1+cell": {
          "title": "",
          "showTitle": false,
          "inputWidgets": {},
          "nuid": "58de0293-0f79-4ef5-8ab7-66bb4e36bd16"
        },
        "colab": {
          "base_uri": "https://localhost:8080/"
        },
        "id": "lZOVEUK8prxr",
        "outputId": "f89ae6ee-3b68-46ec-8e6f-f56cf9d44fe5"
      },
      "source": [
        "# auth_tag = data_with_tags.\n",
        "\n",
        "tag_co_occur = data_with_tags.select(\"event\", col(\"tag\").alias(\"otherTag\")).crossJoin(data_with_tags.select(col(\"event\").alias(\"event2\"), \"tag\"))\\\n",
        ".select(\"event.author.id\", col(\"event2.author.id\").alias(\"id2\"), \"otherTag\", \"tag\")\\\n",
        ".filter((col(\"id\") == col(\"id2\")) & (col(\"tag\") != col(\"otherTag\"))).select(col(\"id\").alias(\"authorID\"), \"otherTag\", 'tag')\n",
        "\n",
        "tag_co_occur.show()"
      ],
      "execution_count": null,
      "outputs": [
        {
          "output_type": "stream",
          "name": "stdout",
          "text": [
            "+----------+-----------+-----------+\n",
            "|  authorID|   otherTag|        tag|\n",
            "+----------+-----------+-----------+\n",
            "|-163732739|    navalny|      putin|\n",
            "|-163732739|    navalny|    sobchak|\n",
            "|-163732739|      putin|    navalny|\n",
            "|-163732739|      putin|    sobchak|\n",
            "|-163732739|    sobchak|    navalny|\n",
            "|-163732739|    sobchak|      putin|\n",
            "|-163685747|   grudinin|      putin|\n",
            "|-163685747|   grudinin|    sobchak|\n",
            "|-163685747|      putin|   grudinin|\n",
            "|-163685747|      putin|    sobchak|\n",
            "|-163685747|    sobchak|   grudinin|\n",
            "|-163685747|    sobchak|      putin|\n",
            "|-163455107|    navalny|      putin|\n",
            "|-163455107|      putin|    navalny|\n",
            "|-163409699|  yavlinsky|zhirinovsky|\n",
            "|-163409699|zhirinovsky|  yavlinsky|\n",
            "|-163370734|      putin|    sobchak|\n",
            "|-163370734|    sobchak|      putin|\n",
            "|-163322498|   grudinin|      putin|\n",
            "|-163322498|   grudinin|    sobchak|\n",
            "+----------+-----------+-----------+\n",
            "only showing top 20 rows\n",
            "\n"
          ]
        }
      ]
    },
    {
      "cell_type": "markdown",
      "metadata": {
        "application/vnd.databricks.v1+cell": {
          "title": "",
          "showTitle": false,
          "inputWidgets": {},
          "nuid": "f19b8b38-060d-4530-9852-2dbc79190a76"
        },
        "id": "N3qnJ3nhprxr"
      },
      "source": [
        "#### Build the tag co-occurence matrix indicating for each pair of tags the number of authors that use them"
      ]
    },
    {
      "cell_type": "code",
      "metadata": {
        "application/vnd.databricks.v1+cell": {
          "title": "",
          "showTitle": false,
          "inputWidgets": {},
          "nuid": "1a6d5120-5109-4b13-b860-138b4a0ea14c"
        },
        "colab": {
          "base_uri": "https://localhost:8080/"
        },
        "id": "JaOGNLjuprxr",
        "outputId": "2f40e22b-ac89-4bc3-d2a7-21a3b6a22d41"
      },
      "source": [
        "co_occur_mat = tag_co_occur.groupBy(\"tag\").pivot(\"otherTag\").agg(count('tag'))\n",
        "co_occur_mat.show()"
      ],
      "execution_count": null,
      "outputs": [
        {
          "output_type": "stream",
          "name": "stdout",
          "text": [
            "+-----------+--------+-------+-----+-------+-----+---------+-----------+\n",
            "|        tag|grudinin|navalny|putin|sobchak|titov|yavlinsky|zhirinovsky|\n",
            "+-----------+--------+-------+-----+-------+-----+---------+-----------+\n",
            "|      titov|     140|     21|  246|    111| null|       94|         90|\n",
            "|zhirinovsky|     714|     90|  901|    439|   90|      145|       null|\n",
            "|    navalny|    1113|   null| 1806|    300|   21|       60|         90|\n",
            "|    sobchak|     722|    300| 1299|   null|  111|      199|        439|\n",
            "|  yavlinsky|     210|     60|  355|    199|   94|     null|        145|\n",
            "|      putin|    7267|   1806| null|   1299|  246|      355|        901|\n",
            "|   grudinin|    null|   1113| 7267|    722|  140|      210|        714|\n",
            "+-----------+--------+-------+-----+-------+-----+---------+-----------+\n",
            "\n"
          ]
        }
      ]
    },
    {
      "cell_type": "markdown",
      "metadata": {
        "application/vnd.databricks.v1+cell": {
          "title": "",
          "showTitle": false,
          "inputWidgets": {},
          "nuid": "6a57e4d1-fc45-4fe9-88e5-0a9b441396e7"
        },
        "id": "E5R5AHi-prxt"
      },
      "source": [
        "## END"
      ]
    }
  ]
}