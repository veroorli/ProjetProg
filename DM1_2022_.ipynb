{
  "nbformat": 4,
  "nbformat_minor": 0,
  "metadata": {
    "application/vnd.databricks.v1+notebook": {
      "notebookName": "PROJET 2021 SUJET SEUL",
      "dashboards": [
        {
          "elements": [
            {
              "elementNUID": "4916b307-fb50-46f6-a51b-d5496ba229a5",
              "guid": "0544755f-8046-413c-8de2-96b5ba9cde0a",
              "options": null,
              "position": {
                "x": 0,
                "y": 30,
                "height": 1,
                "width": 12,
                "z": null
              },
              "elementType": "command"
            },
            {
              "elementNUID": "93fd1b8c-937f-41f1-88b8-704a5225af12",
              "guid": "1e2aacd3-80ac-42fc-858a-aa6ccf4d1aa1",
              "options": null,
              "position": {
                "x": 0,
                "y": 73,
                "height": 1,
                "width": 12,
                "z": null
              },
              "elementType": "command"
            },
            {
              "elementNUID": "047d52a6-482e-46d9-82c8-d3d85dc7f3ed",
              "guid": "205f0675-4075-4f6d-9ed5-dbe9f2adc9ab",
              "options": null,
              "position": {
                "x": 0,
                "y": 46,
                "height": 6,
                "width": 12,
                "z": null
              },
              "elementType": "command"
            },
            {
              "elementNUID": "51093e36-41d7-45bc-9ac9-538d0ad06cdf",
              "guid": "2f4a2f92-9f7e-463a-853d-28c94fba80e0",
              "options": null,
              "position": {
                "x": 0,
                "y": 53,
                "height": 6,
                "width": 12,
                "z": null
              },
              "elementType": "command"
            },
            {
              "elementNUID": "6fc95d51-5cac-46df-9184-c0a154f0f38c",
              "guid": "4dd6a8a2-ddd5-4d2b-ae85-ba590ba4055c",
              "options": null,
              "position": {
                "x": 0,
                "y": 111,
                "height": 2,
                "width": 12,
                "z": null
              },
              "elementType": "command"
            },
            {
              "elementNUID": "9582d65f-6ff6-4001-aae8-6d354db1567b",
              "guid": "641778b4-ec91-481c-bdc2-d3f6b2e48066",
              "options": null,
              "position": {
                "x": 0,
                "y": 59,
                "height": 1,
                "width": 12,
                "z": null
              },
              "elementType": "command"
            },
            {
              "elementNUID": "aafa7653-49a3-4915-b212-94bf433f313b",
              "guid": "669a6cbd-94f8-444d-bb5a-ddd090c622a7",
              "options": null,
              "position": {
                "x": 0,
                "y": 60,
                "height": 6,
                "width": 12,
                "z": null
              },
              "elementType": "command"
            },
            {
              "elementNUID": "23530f5e-191f-4476-a042-89462af08bf0",
              "guid": "66eaa8c3-2337-45ad-ab9b-64116af586b8",
              "options": null,
              "position": {
                "x": 0,
                "y": 105,
                "height": 6,
                "width": 12,
                "z": null
              },
              "elementType": "command"
            },
            {
              "elementNUID": "cb9b4b91-d7a4-4d6f-b8fd-4f81069ee9bb",
              "guid": "715e0bbb-14c1-4aa9-9894-0e894c449882",
              "options": null,
              "position": {
                "x": 0,
                "y": 7,
                "height": 1,
                "width": 12,
                "z": null
              },
              "elementType": "command"
            },
            {
              "elementNUID": "416e4ed6-56f4-44b6-97bc-95d31da350fe",
              "guid": "75067b7c-9df9-4554-99ca-19999c84ef2f",
              "options": null,
              "position": {
                "x": 0,
                "y": 52,
                "height": 1,
                "width": 12,
                "z": null
              },
              "elementType": "command"
            },
            {
              "elementNUID": "b15737ae-19bd-4b9f-b9f3-52388cc5e50e",
              "guid": "846b7c1d-f1d1-4aa6-b3aa-94cb6d065d1a",
              "options": null,
              "position": {
                "x": 0,
                "y": 3,
                "height": 2,
                "width": 12,
                "z": null
              },
              "elementType": "command"
            },
            {
              "elementNUID": "79374715-17c6-42ea-80b5-f34359f79709",
              "guid": "867fb6bf-585e-4c58-b51c-8495ea2785f2",
              "options": null,
              "position": {
                "x": 0,
                "y": 29,
                "height": 1,
                "width": 12,
                "z": null
              },
              "elementType": "command"
            },
            {
              "elementNUID": "1d712ef6-68d6-4f23-a1dd-3cf94b8813c4",
              "guid": "8ef2f82e-9863-4d96-9bb6-bd7aab7dcac5",
              "options": null,
              "position": {
                "x": 0,
                "y": 80,
                "height": 1,
                "width": 12,
                "z": null
              },
              "elementType": "command"
            },
            {
              "elementNUID": "9b13d583-eac5-414c-b544-43024c76c144",
              "guid": "94043a3f-089a-4cde-9ea5-349a745dad4f",
              "options": null,
              "position": {
                "x": 0,
                "y": 8,
                "height": 1,
                "width": 12,
                "z": null
              },
              "elementType": "command"
            },
            {
              "elementNUID": "0b6b45b2-632b-43dd-a8e2-4ef427ebce3d",
              "guid": "940febd0-c519-4b91-9fec-4e960bbe7760",
              "options": null,
              "position": {
                "x": 0,
                "y": 44,
                "height": 2,
                "width": 12,
                "z": null
              },
              "elementType": "command"
            },
            {
              "elementNUID": "84263fb8-5965-4a60-82bd-f761270691ca",
              "guid": "9fe86fff-0ae7-4ef0-b862-91ae43be4101",
              "options": null,
              "position": {
                "x": 0,
                "y": 74,
                "height": 6,
                "width": 12,
                "z": null
              },
              "elementType": "command"
            },
            {
              "elementNUID": "b6afe82e-35d6-4358-9b79-8f56074e0908",
              "guid": "a1426d76-3fbd-47f7-b011-b24ac7b93fd6",
              "options": null,
              "position": {
                "x": 0,
                "y": 5,
                "height": 2,
                "width": 12,
                "z": null
              },
              "elementType": "command"
            },
            {
              "elementNUID": "1577055d-6909-4db2-b18b-5bf31e2a812f",
              "guid": "a1ca8228-f29e-465e-a4be-b40aefc6bc7a",
              "options": null,
              "position": {
                "x": 0,
                "y": 27,
                "height": 2,
                "width": 12,
                "z": null
              },
              "elementType": "command"
            },
            {
              "elementNUID": "d1701bbd-c69b-48d6-bb57-0d05a7268ffe",
              "guid": "a7aff5ac-f510-4d82-95db-77f034192d44",
              "options": null,
              "position": {
                "x": 0,
                "y": 67,
                "height": 6,
                "width": 12,
                "z": null
              },
              "elementType": "command"
            },
            {
              "elementNUID": "c37903e0-d9bc-49f9-9e1d-6756419344f1",
              "guid": "bd859d00-a580-47f6-b662-f97b3239a821",
              "options": null,
              "position": {
                "x": 0,
                "y": 88,
                "height": 6,
                "width": 12,
                "z": null
              },
              "elementType": "command"
            },
            {
              "elementNUID": "538800ba-6d08-40a7-b6b6-829b40085742",
              "guid": "c23995ca-72a7-4427-a6d1-afa688939e7c",
              "options": null,
              "position": {
                "x": 0,
                "y": 0,
                "height": 3,
                "width": 12,
                "z": null
              },
              "elementType": "command"
            },
            {
              "elementNUID": "19fa455b-45a4-4a48-9ddb-c5a641bbd817",
              "guid": "c2471e6c-252b-4bd0-a71a-770ae09eeb78",
              "options": null,
              "position": {
                "x": 0,
                "y": 104,
                "height": 1,
                "width": 12,
                "z": null
              },
              "elementType": "command"
            },
            {
              "elementNUID": "8181fc8d-066d-4ca3-88d7-a97614dca3f4",
              "guid": "d1918135-6c0e-44df-a1ce-2357f133b00c",
              "options": null,
              "position": {
                "x": 0,
                "y": 66,
                "height": 1,
                "width": 12,
                "z": null
              },
              "elementType": "command"
            },
            {
              "elementNUID": "23f49fe8-1c71-4689-9678-58f7b45f0e94",
              "guid": "de126761-7a12-40b4-af6f-d0ea53591d9c",
              "options": null,
              "position": {
                "x": 0,
                "y": 98,
                "height": 6,
                "width": 12,
                "z": null
              },
              "elementType": "command"
            },
            {
              "elementNUID": "686a3ab5-5331-4f16-b8cc-be1c36a60384",
              "guid": "e5671d03-e164-48d9-a504-7348746454df",
              "options": null,
              "position": {
                "x": 0,
                "y": 81,
                "height": 6,
                "width": 12,
                "z": null
              },
              "elementType": "command"
            },
            {
              "elementNUID": "6f215790-9cd6-4489-b334-1da39461919c",
              "guid": "eafa8853-29da-4eeb-8126-55474014d7f4",
              "options": null,
              "position": {
                "x": 0,
                "y": 94,
                "height": 4,
                "width": 15,
                "z": null
              },
              "elementType": "command"
            },
            {
              "elementNUID": "9a7b7b61-6f71-4ba2-984a-09b552985d29",
              "guid": "f8a42128-0efd-4fe3-9ab6-6af7a1c907fd",
              "options": null,
              "position": {
                "x": 0,
                "y": 31,
                "height": 6,
                "width": 12,
                "z": null
              },
              "elementType": "command"
            },
            {
              "elementNUID": "bad34653-26b5-4d31-ace9-736d13a63c06",
              "guid": "fd691b0e-0bb5-4d6b-8ae9-1dea859886a7",
              "options": null,
              "position": {
                "x": 0,
                "y": 87,
                "height": 1,
                "width": 12,
                "z": null
              },
              "elementType": "command"
            }
          ],
          "guid": "56cffcd7-cc55-4002-b6dd-fbd5d66a50a6",
          "layoutOption": {
            "stack": true,
            "grid": true
          },
          "version": "DashboardViewV1",
          "nuid": "7f52f4e5-dbf1-4115-ad63-488830d101c0",
          "origId": 2643140879502792,
          "title": "Untitled",
          "width": 1024,
          "globalVars": {}
        }
      ],
      "notebookMetadata": {
        "pythonIndentUnit": 2
      },
      "language": "python",
      "widgets": {},
      "notebookOrigID": 2643140879502686
    },
    "colab": {
      "provenance": [],
      "collapsed_sections": [
        "levNDESpS1hT",
        "sIeeBKU2GpLc",
        "qkCz6l14GpLo",
        "uNQWpb7Jc0NV",
        "f1wkHxbKjU_E",
        "B3DU8IGi39Ps",
        "Vji-KmOmTdbh"
      ],
      "toc_visible": true,
      "include_colab_link": true
    },
    "language_info": {
      "name": "python"
    },
    "kernelspec": {
      "name": "python3",
      "display_name": "Python 3"
    }
  },
  "cells": [
    {
      "cell_type": "markdown",
      "metadata": {
        "id": "view-in-github",
        "colab_type": "text"
      },
      "source": [
        "<a href=\"https://colab.research.google.com/github/veroorli/ProjetProg/blob/master/DM1_2022_.ipynb\" target=\"_parent\"><img src=\"https://colab.research.google.com/assets/colab-badge.svg\" alt=\"Open In Colab\"/></a>"
      ]
    },
    {
      "cell_type": "markdown",
      "metadata": {
        "application/vnd.databricks.v1+cell": {
          "title": "",
          "showTitle": false,
          "inputWidgets": {},
          "nuid": "2fcea654-56eb-4219-a555-b7635dc8ec23"
        },
        "id": "5T30y-4iGpLZ"
      },
      "source": [
        "BDLE 2022\n",
        "\n",
        "date du document  :  07/10/2022"
      ]
    },
    {
      "cell_type": "markdown",
      "metadata": {
        "application/vnd.databricks.v1+cell": {
          "title": "",
          "showTitle": false,
          "inputWidgets": {},
          "nuid": "538800ba-6d08-40a7-b6b6-829b40085742"
        },
        "id": "L_q0KahUGpLc"
      },
      "source": [
        "# TP2 et 3 Fenêtres\n",
        "\n",
        "\n",
        "SQL avec fonctions sur des fenêtres"
      ]
    },
    {
      "cell_type": "markdown",
      "source": [
        "### Les visites"
      ],
      "metadata": {
        "id": "tkjftQnIDx8u"
      }
    },
    {
      "cell_type": "code",
      "source": [
        "schema = \"photoID long, userID String, date Long, poiID int, poiTheme String, poiFreq int, seqID int\"\n",
        "\n",
        "user_visits = spark.read.option(\"header\", \"True\").option(\"delimiter\", \";\").csv(local_dir + \"/\" + \"userVisits-Toro.csv\", schema = schema)\n",
        "user_visits.persist()\n",
        "user_visits.createOrReplaceTempView(\"user_visits\")\n",
        "user_visits.show(4)\n",
        "user_visits.printSchema()\n",
        "display(user_visits)"
      ],
      "metadata": {
        "colab": {
          "base_uri": "https://localhost:8080/",
          "height": 645
        },
        "id": "7KFQLcGpFySS",
        "outputId": "234c84d7-4935-420a-d34d-6a48e0035c2f"
      },
      "execution_count": null,
      "outputs": [
        {
          "output_type": "stream",
          "name": "stdout",
          "text": [
            "+----------+------------+----------+-----+---------+-------+-----+\n",
            "|   photoID|      userID|      date|poiID| poiTheme|poiFreq|seqID|\n",
            "+----------+------------+----------+-----+---------+-------+-----+\n",
            "|7941504100|10007579@N00|1346844688|   30|Structure|   1538|    1|\n",
            "|4886005532|10012675@N05|1142731848|    6| Cultural|    986|    2|\n",
            "|4886006468|10012675@N05|1142732248|    6| Cultural|    986|    2|\n",
            "|4885404441|10012675@N05|1142732373|    6| Cultural|    986|    2|\n",
            "+----------+------------+----------+-----+---------+-------+-----+\n",
            "only showing top 4 rows\n",
            "\n",
            "root\n",
            " |-- photoID: long (nullable = true)\n",
            " |-- userID: string (nullable = true)\n",
            " |-- date: long (nullable = true)\n",
            " |-- poiID: integer (nullable = true)\n",
            " |-- poiTheme: string (nullable = true)\n",
            " |-- poiFreq: integer (nullable = true)\n",
            " |-- seqID: integer (nullable = true)\n",
            "\n"
          ]
        },
        {
          "output_type": "execute_result",
          "data": {
            "text/html": [
              "<div>\n",
              "<style scoped>\n",
              "    .dataframe tbody tr th:only-of-type {\n",
              "        vertical-align: middle;\n",
              "    }\n",
              "\n",
              "    .dataframe tbody tr th {\n",
              "        vertical-align: top;\n",
              "    }\n",
              "\n",
              "    .dataframe thead th {\n",
              "        text-align: right;\n",
              "    }\n",
              "</style>\n",
              "<table border=\"1\" class=\"dataframe\">\n",
              "  <thead>\n",
              "    <tr style=\"text-align: right;\">\n",
              "      <th></th>\n",
              "      <th>photoID</th>\n",
              "      <th>userID</th>\n",
              "      <th>date</th>\n",
              "      <th>poiID</th>\n",
              "      <th>poiTheme</th>\n",
              "      <th>poiFreq</th>\n",
              "      <th>seqID</th>\n",
              "    </tr>\n",
              "  </thead>\n",
              "  <tbody>\n",
              "    <tr>\n",
              "      <th>0</th>\n",
              "      <td>7941504100</td>\n",
              "      <td>10007579@N00</td>\n",
              "      <td>1346844688</td>\n",
              "      <td>30</td>\n",
              "      <td>Structure</td>\n",
              "      <td>1538</td>\n",
              "      <td>1</td>\n",
              "    </tr>\n",
              "    <tr>\n",
              "      <th>1</th>\n",
              "      <td>4886005532</td>\n",
              "      <td>10012675@N05</td>\n",
              "      <td>1142731848</td>\n",
              "      <td>6</td>\n",
              "      <td>Cultural</td>\n",
              "      <td>986</td>\n",
              "      <td>2</td>\n",
              "    </tr>\n",
              "    <tr>\n",
              "      <th>2</th>\n",
              "      <td>4886006468</td>\n",
              "      <td>10012675@N05</td>\n",
              "      <td>1142732248</td>\n",
              "      <td>6</td>\n",
              "      <td>Cultural</td>\n",
              "      <td>986</td>\n",
              "      <td>2</td>\n",
              "    </tr>\n",
              "    <tr>\n",
              "      <th>3</th>\n",
              "      <td>4885404441</td>\n",
              "      <td>10012675@N05</td>\n",
              "      <td>1142732373</td>\n",
              "      <td>6</td>\n",
              "      <td>Cultural</td>\n",
              "      <td>986</td>\n",
              "      <td>2</td>\n",
              "    </tr>\n",
              "    <tr>\n",
              "      <th>4</th>\n",
              "      <td>4886008334</td>\n",
              "      <td>10012675@N05</td>\n",
              "      <td>1142732445</td>\n",
              "      <td>6</td>\n",
              "      <td>Cultural</td>\n",
              "      <td>986</td>\n",
              "      <td>2</td>\n",
              "    </tr>\n",
              "    <tr>\n",
              "      <th>...</th>\n",
              "      <td>...</td>\n",
              "      <td>...</td>\n",
              "      <td>...</td>\n",
              "      <td>...</td>\n",
              "      <td>...</td>\n",
              "      <td>...</td>\n",
              "      <td>...</td>\n",
              "    </tr>\n",
              "    <tr>\n",
              "      <th>95</th>\n",
              "      <td>2654929774</td>\n",
              "      <td>10014440@N06</td>\n",
              "      <td>1215593613</td>\n",
              "      <td>25</td>\n",
              "      <td>Shopping</td>\n",
              "      <td>1701</td>\n",
              "      <td>10</td>\n",
              "    </tr>\n",
              "    <tr>\n",
              "      <th>96</th>\n",
              "      <td>2654104231</td>\n",
              "      <td>10014440@N06</td>\n",
              "      <td>1215593634</td>\n",
              "      <td>25</td>\n",
              "      <td>Shopping</td>\n",
              "      <td>1701</td>\n",
              "      <td>10</td>\n",
              "    </tr>\n",
              "    <tr>\n",
              "      <th>97</th>\n",
              "      <td>2654930912</td>\n",
              "      <td>10014440@N06</td>\n",
              "      <td>1215593650</td>\n",
              "      <td>25</td>\n",
              "      <td>Shopping</td>\n",
              "      <td>1701</td>\n",
              "      <td>10</td>\n",
              "    </tr>\n",
              "    <tr>\n",
              "      <th>98</th>\n",
              "      <td>2654105249</td>\n",
              "      <td>10014440@N06</td>\n",
              "      <td>1215593655</td>\n",
              "      <td>25</td>\n",
              "      <td>Shopping</td>\n",
              "      <td>1701</td>\n",
              "      <td>10</td>\n",
              "    </tr>\n",
              "    <tr>\n",
              "      <th>99</th>\n",
              "      <td>2654931868</td>\n",
              "      <td>10014440@N06</td>\n",
              "      <td>1215593674</td>\n",
              "      <td>25</td>\n",
              "      <td>Shopping</td>\n",
              "      <td>1701</td>\n",
              "      <td>10</td>\n",
              "    </tr>\n",
              "  </tbody>\n",
              "</table>\n",
              "<p>100 rows × 7 columns</p>\n",
              "</div>"
            ],
            "application/vnd.google.colaboratory.module+javascript": "\n      import \"https://ssl.gstatic.com/colaboratory/data_table/a8bd4d5e58f96183/data_table.js\";\n\n      window.createDataTable({\n        data: [[{\n            'v': 7941504100,\n            'f': \"7941504100\",\n        },\n\"10007579@N00\",\n{\n            'v': 1346844688,\n            'f': \"1346844688\",\n        },\n{\n            'v': 30,\n            'f': \"30\",\n        },\n\"Structure\",\n{\n            'v': 1538,\n            'f': \"1538\",\n        },\n{\n            'v': 1,\n            'f': \"1\",\n        }],\n [{\n            'v': 4886005532,\n            'f': \"4886005532\",\n        },\n\"10012675@N05\",\n{\n            'v': 1142731848,\n            'f': \"1142731848\",\n        },\n{\n            'v': 6,\n            'f': \"6\",\n        },\n\"Cultural\",\n{\n            'v': 986,\n            'f': \"986\",\n        },\n{\n            'v': 2,\n            'f': \"2\",\n        }],\n [{\n            'v': 4886006468,\n            'f': \"4886006468\",\n        },\n\"10012675@N05\",\n{\n            'v': 1142732248,\n            'f': \"1142732248\",\n        },\n{\n            'v': 6,\n            'f': \"6\",\n        },\n\"Cultural\",\n{\n            'v': 986,\n            'f': \"986\",\n        },\n{\n            'v': 2,\n            'f': \"2\",\n        }],\n [{\n            'v': 4885404441,\n            'f': \"4885404441\",\n        },\n\"10012675@N05\",\n{\n            'v': 1142732373,\n            'f': \"1142732373\",\n        },\n{\n            'v': 6,\n            'f': \"6\",\n        },\n\"Cultural\",\n{\n            'v': 986,\n            'f': \"986\",\n        },\n{\n            'v': 2,\n            'f': \"2\",\n        }],\n [{\n            'v': 4886008334,\n            'f': \"4886008334\",\n        },\n\"10012675@N05\",\n{\n            'v': 1142732445,\n            'f': \"1142732445\",\n        },\n{\n            'v': 6,\n            'f': \"6\",\n        },\n\"Cultural\",\n{\n            'v': 986,\n            'f': \"986\",\n        },\n{\n            'v': 2,\n            'f': \"2\",\n        }],\n [{\n            'v': 4886009150,\n            'f': \"4886009150\",\n        },\n\"10012675@N05\",\n{\n            'v': 1142916492,\n            'f': \"1142916492\",\n        },\n{\n            'v': 6,\n            'f': \"6\",\n        },\n\"Cultural\",\n{\n            'v': 986,\n            'f': \"986\",\n        },\n{\n            'v': 3,\n            'f': \"3\",\n        }],\n [{\n            'v': 7054481539,\n            'f': \"7054481539\",\n        },\n\"10012675@N05\",\n{\n            'v': 1319327174,\n            'f': \"1319327174\",\n        },\n{\n            'v': 13,\n            'f': \"13\",\n        },\n\"Cultural\",\n{\n            'v': 964,\n            'f': \"964\",\n        },\n{\n            'v': 4,\n            'f': \"4\",\n        }],\n [{\n            'v': 6908387594,\n            'f': \"6908387594\",\n        },\n\"10012675@N05\",\n{\n            'v': 1319328255,\n            'f': \"1319328255\",\n        },\n{\n            'v': 13,\n            'f': \"13\",\n        },\n\"Cultural\",\n{\n            'v': 964,\n            'f': \"964\",\n        },\n{\n            'v': 4,\n            'f': \"4\",\n        }],\n [{\n            'v': 6908381912,\n            'f': \"6908381912\",\n        },\n\"10012675@N05\",\n{\n            'v': 1319331463,\n            'f': \"1319331463\",\n        },\n{\n            'v': 13,\n            'f': \"13\",\n        },\n\"Cultural\",\n{\n            'v': 964,\n            'f': \"964\",\n        },\n{\n            'v': 4,\n            'f': \"4\",\n        }],\n [{\n            'v': 6908398496,\n            'f': \"6908398496\",\n        },\n\"10012675@N05\",\n{\n            'v': 1319331886,\n            'f': \"1319331886\",\n        },\n{\n            'v': 13,\n            'f': \"13\",\n        },\n\"Cultural\",\n{\n            'v': 964,\n            'f': \"964\",\n        },\n{\n            'v': 4,\n            'f': \"4\",\n        }],\n [{\n            'v': 7054462485,\n            'f': \"7054462485\",\n        },\n\"10012675@N05\",\n{\n            'v': 1319331985,\n            'f': \"1319331985\",\n        },\n{\n            'v': 13,\n            'f': \"13\",\n        },\n\"Cultural\",\n{\n            'v': 964,\n            'f': \"964\",\n        },\n{\n            'v': 4,\n            'f': \"4\",\n        }],\n [{\n            'v': 6908401428,\n            'f': \"6908401428\",\n        },\n\"10012675@N05\",\n{\n            'v': 1319332200,\n            'f': \"1319332200\",\n        },\n{\n            'v': 13,\n            'f': \"13\",\n        },\n\"Cultural\",\n{\n            'v': 964,\n            'f': \"964\",\n        },\n{\n            'v': 4,\n            'f': \"4\",\n        }],\n [{\n            'v': 7054463311,\n            'f': \"7054463311\",\n        },\n\"10012675@N05\",\n{\n            'v': 1319332609,\n            'f': \"1319332609\",\n        },\n{\n            'v': 13,\n            'f': \"13\",\n        },\n\"Cultural\",\n{\n            'v': 964,\n            'f': \"964\",\n        },\n{\n            'v': 4,\n            'f': \"4\",\n        }],\n [{\n            'v': 6908372508,\n            'f': \"6908372508\",\n        },\n\"10012675@N05\",\n{\n            'v': 1319332778,\n            'f': \"1319332778\",\n        },\n{\n            'v': 13,\n            'f': \"13\",\n        },\n\"Cultural\",\n{\n            'v': 964,\n            'f': \"964\",\n        },\n{\n            'v': 4,\n            'f': \"4\",\n        }],\n [{\n            'v': 6908373156,\n            'f': \"6908373156\",\n        },\n\"10012675@N05\",\n{\n            'v': 1319332848,\n            'f': \"1319332848\",\n        },\n{\n            'v': 13,\n            'f': \"13\",\n        },\n\"Cultural\",\n{\n            'v': 964,\n            'f': \"964\",\n        },\n{\n            'v': 4,\n            'f': \"4\",\n        }],\n [{\n            'v': 2069962164,\n            'f': \"2069962164\",\n        },\n\"10014440@N06\",\n{\n            'v': 1196128621,\n            'f': \"1196128621\",\n        },\n{\n            'v': 24,\n            'f': \"24\",\n        },\n\"Shopping\",\n{\n            'v': 1028,\n            'f': \"1028\",\n        },\n{\n            'v': 5,\n            'f': \"5\",\n        }],\n [{\n            'v': 2069167913,\n            'f': \"2069167913\",\n        },\n\"10014440@N06\",\n{\n            'v': 1196128737,\n            'f': \"1196128737\",\n        },\n{\n            'v': 24,\n            'f': \"24\",\n        },\n\"Shopping\",\n{\n            'v': 1028,\n            'f': \"1028\",\n        },\n{\n            'v': 5,\n            'f': \"5\",\n        }],\n [{\n            'v': 2069963052,\n            'f': \"2069963052\",\n        },\n\"10014440@N06\",\n{\n            'v': 1196128878,\n            'f': \"1196128878\",\n        },\n{\n            'v': 24,\n            'f': \"24\",\n        },\n\"Shopping\",\n{\n            'v': 1028,\n            'f': \"1028\",\n        },\n{\n            'v': 5,\n            'f': \"5\",\n        }],\n [{\n            'v': 2124161426,\n            'f': \"2124161426\",\n        },\n\"10014440@N06\",\n{\n            'v': 1198051767,\n            'f': \"1198051767\",\n        },\n{\n            'v': 23,\n            'f': \"23\",\n        },\n\"Shopping\",\n{\n            'v': 1874,\n            'f': \"1874\",\n        },\n{\n            'v': 6,\n            'f': \"6\",\n        }],\n [{\n            'v': 2124161696,\n            'f': \"2124161696\",\n        },\n\"10014440@N06\",\n{\n            'v': 1198051839,\n            'f': \"1198051839\",\n        },\n{\n            'v': 23,\n            'f': \"23\",\n        },\n\"Shopping\",\n{\n            'v': 1874,\n            'f': \"1874\",\n        },\n{\n            'v': 6,\n            'f': \"6\",\n        }],\n [{\n            'v': 2124162018,\n            'f': \"2124162018\",\n        },\n\"10014440@N06\",\n{\n            'v': 1198052142,\n            'f': \"1198052142\",\n        },\n{\n            'v': 23,\n            'f': \"23\",\n        },\n\"Shopping\",\n{\n            'v': 1874,\n            'f': \"1874\",\n        },\n{\n            'v': 6,\n            'f': \"6\",\n        }],\n [{\n            'v': 2124162310,\n            'f': \"2124162310\",\n        },\n\"10014440@N06\",\n{\n            'v': 1198052157,\n            'f': \"1198052157\",\n        },\n{\n            'v': 23,\n            'f': \"23\",\n        },\n\"Shopping\",\n{\n            'v': 1874,\n            'f': \"1874\",\n        },\n{\n            'v': 6,\n            'f': \"6\",\n        }],\n [{\n            'v': 2124162642,\n            'f': \"2124162642\",\n        },\n\"10014440@N06\",\n{\n            'v': 1198052207,\n            'f': \"1198052207\",\n        },\n{\n            'v': 23,\n            'f': \"23\",\n        },\n\"Shopping\",\n{\n            'v': 1874,\n            'f': \"1874\",\n        },\n{\n            'v': 6,\n            'f': \"6\",\n        }],\n [{\n            'v': 2123388775,\n            'f': \"2123388775\",\n        },\n\"10014440@N06\",\n{\n            'v': 1198052244,\n            'f': \"1198052244\",\n        },\n{\n            'v': 23,\n            'f': \"23\",\n        },\n\"Shopping\",\n{\n            'v': 1874,\n            'f': \"1874\",\n        },\n{\n            'v': 6,\n            'f': \"6\",\n        }],\n [{\n            'v': 2123389177,\n            'f': \"2123389177\",\n        },\n\"10014440@N06\",\n{\n            'v': 1198052354,\n            'f': \"1198052354\",\n        },\n{\n            'v': 23,\n            'f': \"23\",\n        },\n\"Shopping\",\n{\n            'v': 1874,\n            'f': \"1874\",\n        },\n{\n            'v': 6,\n            'f': \"6\",\n        }],\n [{\n            'v': 2123389517,\n            'f': \"2123389517\",\n        },\n\"10014440@N06\",\n{\n            'v': 1198052504,\n            'f': \"1198052504\",\n        },\n{\n            'v': 23,\n            'f': \"23\",\n        },\n\"Shopping\",\n{\n            'v': 1874,\n            'f': \"1874\",\n        },\n{\n            'v': 6,\n            'f': \"6\",\n        }],\n [{\n            'v': 2124164318,\n            'f': \"2124164318\",\n        },\n\"10014440@N06\",\n{\n            'v': 1198052526,\n            'f': \"1198052526\",\n        },\n{\n            'v': 23,\n            'f': \"23\",\n        },\n\"Shopping\",\n{\n            'v': 1874,\n            'f': \"1874\",\n        },\n{\n            'v': 6,\n            'f': \"6\",\n        }],\n [{\n            'v': 2123390287,\n            'f': \"2123390287\",\n        },\n\"10014440@N06\",\n{\n            'v': 1198052538,\n            'f': \"1198052538\",\n        },\n{\n            'v': 23,\n            'f': \"23\",\n        },\n\"Shopping\",\n{\n            'v': 1874,\n            'f': \"1874\",\n        },\n{\n            'v': 6,\n            'f': \"6\",\n        }],\n [{\n            'v': 2123390709,\n            'f': \"2123390709\",\n        },\n\"10014440@N06\",\n{\n            'v': 1198052754,\n            'f': \"1198052754\",\n        },\n{\n            'v': 23,\n            'f': \"23\",\n        },\n\"Shopping\",\n{\n            'v': 1874,\n            'f': \"1874\",\n        },\n{\n            'v': 6,\n            'f': \"6\",\n        }],\n [{\n            'v': 2124165632,\n            'f': \"2124165632\",\n        },\n\"10014440@N06\",\n{\n            'v': 1198052832,\n            'f': \"1198052832\",\n        },\n{\n            'v': 23,\n            'f': \"23\",\n        },\n\"Shopping\",\n{\n            'v': 1874,\n            'f': \"1874\",\n        },\n{\n            'v': 6,\n            'f': \"6\",\n        }],\n [{\n            'v': 2138835345,\n            'f': \"2138835345\",\n        },\n\"10014440@N06\",\n{\n            'v': 1198627025,\n            'f': \"1198627025\",\n        },\n{\n            'v': 23,\n            'f': \"23\",\n        },\n\"Shopping\",\n{\n            'v': 1874,\n            'f': \"1874\",\n        },\n{\n            'v': 7,\n            'f': \"7\",\n        }],\n [{\n            'v': 2139617434,\n            'f': \"2139617434\",\n        },\n\"10014440@N06\",\n{\n            'v': 1198627229,\n            'f': \"1198627229\",\n        },\n{\n            'v': 23,\n            'f': \"23\",\n        },\n\"Shopping\",\n{\n            'v': 1874,\n            'f': \"1874\",\n        },\n{\n            'v': 7,\n            'f': \"7\",\n        }],\n [{\n            'v': 2138837303,\n            'f': \"2138837303\",\n        },\n\"10014440@N06\",\n{\n            'v': 1198627361,\n            'f': \"1198627361\",\n        },\n{\n            'v': 23,\n            'f': \"23\",\n        },\n\"Shopping\",\n{\n            'v': 1874,\n            'f': \"1874\",\n        },\n{\n            'v': 7,\n            'f': \"7\",\n        }],\n [{\n            'v': 2139620076,\n            'f': \"2139620076\",\n        },\n\"10014440@N06\",\n{\n            'v': 1198627590,\n            'f': \"1198627590\",\n        },\n{\n            'v': 23,\n            'f': \"23\",\n        },\n\"Shopping\",\n{\n            'v': 1874,\n            'f': \"1874\",\n        },\n{\n            'v': 7,\n            'f': \"7\",\n        }],\n [{\n            'v': 2138839359,\n            'f': \"2138839359\",\n        },\n\"10014440@N06\",\n{\n            'v': 1198627598,\n            'f': \"1198627598\",\n        },\n{\n            'v': 23,\n            'f': \"23\",\n        },\n\"Shopping\",\n{\n            'v': 1874,\n            'f': \"1874\",\n        },\n{\n            'v': 7,\n            'f': \"7\",\n        }],\n [{\n            'v': 2353261609,\n            'f': \"2353261609\",\n        },\n\"10014440@N06\",\n{\n            'v': 1206164087,\n            'f': \"1206164087\",\n        },\n{\n            'v': 23,\n            'f': \"23\",\n        },\n\"Shopping\",\n{\n            'v': 1874,\n            'f': \"1874\",\n        },\n{\n            'v': 8,\n            'f': \"8\",\n        }],\n [{\n            'v': 2353261849,\n            'f': \"2353261849\",\n        },\n\"10014440@N06\",\n{\n            'v': 1206164345,\n            'f': \"1206164345\",\n        },\n{\n            'v': 23,\n            'f': \"23\",\n        },\n\"Shopping\",\n{\n            'v': 1874,\n            'f': \"1874\",\n        },\n{\n            'v': 8,\n            'f': \"8\",\n        }],\n [{\n            'v': 2353262119,\n            'f': \"2353262119\",\n        },\n\"10014440@N06\",\n{\n            'v': 1206164359,\n            'f': \"1206164359\",\n        },\n{\n            'v': 23,\n            'f': \"23\",\n        },\n\"Shopping\",\n{\n            'v': 1874,\n            'f': \"1874\",\n        },\n{\n            'v': 8,\n            'f': \"8\",\n        }],\n [{\n            'v': 2354094742,\n            'f': \"2354094742\",\n        },\n\"10014440@N06\",\n{\n            'v': 1206164441,\n            'f': \"1206164441\",\n        },\n{\n            'v': 23,\n            'f': \"23\",\n        },\n\"Shopping\",\n{\n            'v': 1874,\n            'f': \"1874\",\n        },\n{\n            'v': 8,\n            'f': \"8\",\n        }],\n [{\n            'v': 2354094948,\n            'f': \"2354094948\",\n        },\n\"10014440@N06\",\n{\n            'v': 1206164682,\n            'f': \"1206164682\",\n        },\n{\n            'v': 23,\n            'f': \"23\",\n        },\n\"Shopping\",\n{\n            'v': 1874,\n            'f': \"1874\",\n        },\n{\n            'v': 8,\n            'f': \"8\",\n        }],\n [{\n            'v': 2353262749,\n            'f': \"2353262749\",\n        },\n\"10014440@N06\",\n{\n            'v': 1206164752,\n            'f': \"1206164752\",\n        },\n{\n            'v': 23,\n            'f': \"23\",\n        },\n\"Shopping\",\n{\n            'v': 1874,\n            'f': \"1874\",\n        },\n{\n            'v': 8,\n            'f': \"8\",\n        }],\n [{\n            'v': 2354095498,\n            'f': \"2354095498\",\n        },\n\"10014440@N06\",\n{\n            'v': 1206164813,\n            'f': \"1206164813\",\n        },\n{\n            'v': 23,\n            'f': \"23\",\n        },\n\"Shopping\",\n{\n            'v': 1874,\n            'f': \"1874\",\n        },\n{\n            'v': 8,\n            'f': \"8\",\n        }],\n [{\n            'v': 2353263415,\n            'f': \"2353263415\",\n        },\n\"10014440@N06\",\n{\n            'v': 1206165275,\n            'f': \"1206165275\",\n        },\n{\n            'v': 23,\n            'f': \"23\",\n        },\n\"Shopping\",\n{\n            'v': 1874,\n            'f': \"1874\",\n        },\n{\n            'v': 8,\n            'f': \"8\",\n        }],\n [{\n            'v': 2354096154,\n            'f': \"2354096154\",\n        },\n\"10014440@N06\",\n{\n            'v': 1206165278,\n            'f': \"1206165278\",\n        },\n{\n            'v': 23,\n            'f': \"23\",\n        },\n\"Shopping\",\n{\n            'v': 1874,\n            'f': \"1874\",\n        },\n{\n            'v': 8,\n            'f': \"8\",\n        }],\n [{\n            'v': 2353264057,\n            'f': \"2353264057\",\n        },\n\"10014440@N06\",\n{\n            'v': 1206165702,\n            'f': \"1206165702\",\n        },\n{\n            'v': 23,\n            'f': \"23\",\n        },\n\"Shopping\",\n{\n            'v': 1874,\n            'f': \"1874\",\n        },\n{\n            'v': 8,\n            'f': \"8\",\n        }],\n [{\n            'v': 2353265815,\n            'f': \"2353265815\",\n        },\n\"10014440@N06\",\n{\n            'v': 1206168673,\n            'f': \"1206168673\",\n        },\n{\n            'v': 24,\n            'f': \"24\",\n        },\n\"Shopping\",\n{\n            'v': 1028,\n            'f': \"1028\",\n        },\n{\n            'v': 8,\n            'f': \"8\",\n        }],\n [{\n            'v': 2354098306,\n            'f': \"2354098306\",\n        },\n\"10014440@N06\",\n{\n            'v': 1206169035,\n            'f': \"1206169035\",\n        },\n{\n            'v': 24,\n            'f': \"24\",\n        },\n\"Shopping\",\n{\n            'v': 1028,\n            'f': \"1028\",\n        },\n{\n            'v': 8,\n            'f': \"8\",\n        }],\n [{\n            'v': 2353266225,\n            'f': \"2353266225\",\n        },\n\"10014440@N06\",\n{\n            'v': 1206169058,\n            'f': \"1206169058\",\n        },\n{\n            'v': 24,\n            'f': \"24\",\n        },\n\"Shopping\",\n{\n            'v': 1028,\n            'f': \"1028\",\n        },\n{\n            'v': 8,\n            'f': \"8\",\n        }],\n [{\n            'v': 2354098696,\n            'f': \"2354098696\",\n        },\n\"10014440@N06\",\n{\n            'v': 1206169260,\n            'f': \"1206169260\",\n        },\n{\n            'v': 24,\n            'f': \"24\",\n        },\n\"Shopping\",\n{\n            'v': 1028,\n            'f': \"1028\",\n        },\n{\n            'v': 8,\n            'f': \"8\",\n        }],\n [{\n            'v': 2353266567,\n            'f': \"2353266567\",\n        },\n\"10014440@N06\",\n{\n            'v': 1206169291,\n            'f': \"1206169291\",\n        },\n{\n            'v': 24,\n            'f': \"24\",\n        },\n\"Shopping\",\n{\n            'v': 1028,\n            'f': \"1028\",\n        },\n{\n            'v': 8,\n            'f': \"8\",\n        }],\n [{\n            'v': 2354099032,\n            'f': \"2354099032\",\n        },\n\"10014440@N06\",\n{\n            'v': 1206169364,\n            'f': \"1206169364\",\n        },\n{\n            'v': 24,\n            'f': \"24\",\n        },\n\"Shopping\",\n{\n            'v': 1028,\n            'f': \"1028\",\n        },\n{\n            'v': 8,\n            'f': \"8\",\n        }],\n [{\n            'v': 2353266951,\n            'f': \"2353266951\",\n        },\n\"10014440@N06\",\n{\n            'v': 1206169380,\n            'f': \"1206169380\",\n        },\n{\n            'v': 24,\n            'f': \"24\",\n        },\n\"Shopping\",\n{\n            'v': 1028,\n            'f': \"1028\",\n        },\n{\n            'v': 8,\n            'f': \"8\",\n        }],\n [{\n            'v': 2353267141,\n            'f': \"2353267141\",\n        },\n\"10014440@N06\",\n{\n            'v': 1206169405,\n            'f': \"1206169405\",\n        },\n{\n            'v': 24,\n            'f': \"24\",\n        },\n\"Shopping\",\n{\n            'v': 1028,\n            'f': \"1028\",\n        },\n{\n            'v': 8,\n            'f': \"8\",\n        }],\n [{\n            'v': 2353267351,\n            'f': \"2353267351\",\n        },\n\"10014440@N06\",\n{\n            'v': 1206169450,\n            'f': \"1206169450\",\n        },\n{\n            'v': 24,\n            'f': \"24\",\n        },\n\"Shopping\",\n{\n            'v': 1028,\n            'f': \"1028\",\n        },\n{\n            'v': 8,\n            'f': \"8\",\n        }],\n [{\n            'v': 2353267553,\n            'f': \"2353267553\",\n        },\n\"10014440@N06\",\n{\n            'v': 1206169518,\n            'f': \"1206169518\",\n        },\n{\n            'v': 24,\n            'f': \"24\",\n        },\n\"Shopping\",\n{\n            'v': 1028,\n            'f': \"1028\",\n        },\n{\n            'v': 8,\n            'f': \"8\",\n        }],\n [{\n            'v': 2354100206,\n            'f': \"2354100206\",\n        },\n\"10014440@N06\",\n{\n            'v': 1206169617,\n            'f': \"1206169617\",\n        },\n{\n            'v': 24,\n            'f': \"24\",\n        },\n\"Shopping\",\n{\n            'v': 1028,\n            'f': \"1028\",\n        },\n{\n            'v': 8,\n            'f': \"8\",\n        }],\n [{\n            'v': 2354100382,\n            'f': \"2354100382\",\n        },\n\"10014440@N06\",\n{\n            'v': 1206169712,\n            'f': \"1206169712\",\n        },\n{\n            'v': 24,\n            'f': \"24\",\n        },\n\"Shopping\",\n{\n            'v': 1028,\n            'f': \"1028\",\n        },\n{\n            'v': 8,\n            'f': \"8\",\n        }],\n [{\n            'v': 2354100586,\n            'f': \"2354100586\",\n        },\n\"10014440@N06\",\n{\n            'v': 1206169887,\n            'f': \"1206169887\",\n        },\n{\n            'v': 24,\n            'f': \"24\",\n        },\n\"Shopping\",\n{\n            'v': 1028,\n            'f': \"1028\",\n        },\n{\n            'v': 8,\n            'f': \"8\",\n        }],\n [{\n            'v': 2354100820,\n            'f': \"2354100820\",\n        },\n\"10014440@N06\",\n{\n            'v': 1206169920,\n            'f': \"1206169920\",\n        },\n{\n            'v': 24,\n            'f': \"24\",\n        },\n\"Shopping\",\n{\n            'v': 1028,\n            'f': \"1028\",\n        },\n{\n            'v': 8,\n            'f': \"8\",\n        }],\n [{\n            'v': 2353268809,\n            'f': \"2353268809\",\n        },\n\"10014440@N06\",\n{\n            'v': 1206169946,\n            'f': \"1206169946\",\n        },\n{\n            'v': 24,\n            'f': \"24\",\n        },\n\"Shopping\",\n{\n            'v': 1028,\n            'f': \"1028\",\n        },\n{\n            'v': 8,\n            'f': \"8\",\n        }],\n [{\n            'v': 2353269009,\n            'f': \"2353269009\",\n        },\n\"10014440@N06\",\n{\n            'v': 1206170032,\n            'f': \"1206170032\",\n        },\n{\n            'v': 24,\n            'f': \"24\",\n        },\n\"Shopping\",\n{\n            'v': 1028,\n            'f': \"1028\",\n        },\n{\n            'v': 8,\n            'f': \"8\",\n        }],\n [{\n            'v': 2629849156,\n            'f': \"2629849156\",\n        },\n\"10014440@N06\",\n{\n            'v': 1214890166,\n            'f': \"1214890166\",\n        },\n{\n            'v': 24,\n            'f': \"24\",\n        },\n\"Shopping\",\n{\n            'v': 1028,\n            'f': \"1028\",\n        },\n{\n            'v': 9,\n            'f': \"9\",\n        }],\n [{\n            'v': 2629028825,\n            'f': \"2629028825\",\n        },\n\"10014440@N06\",\n{\n            'v': 1214890184,\n            'f': \"1214890184\",\n        },\n{\n            'v': 24,\n            'f': \"24\",\n        },\n\"Shopping\",\n{\n            'v': 1028,\n            'f': \"1028\",\n        },\n{\n            'v': 9,\n            'f': \"9\",\n        }],\n [{\n            'v': 2629850544,\n            'f': \"2629850544\",\n        },\n\"10014440@N06\",\n{\n            'v': 1214890203,\n            'f': \"1214890203\",\n        },\n{\n            'v': 24,\n            'f': \"24\",\n        },\n\"Shopping\",\n{\n            'v': 1028,\n            'f': \"1028\",\n        },\n{\n            'v': 9,\n            'f': \"9\",\n        }],\n [{\n            'v': 2629851134,\n            'f': \"2629851134\",\n        },\n\"10014440@N06\",\n{\n            'v': 1214890270,\n            'f': \"1214890270\",\n        },\n{\n            'v': 24,\n            'f': \"24\",\n        },\n\"Shopping\",\n{\n            'v': 1028,\n            'f': \"1028\",\n        },\n{\n            'v': 9,\n            'f': \"9\",\n        }],\n [{\n            'v': 2629851788,\n            'f': \"2629851788\",\n        },\n\"10014440@N06\",\n{\n            'v': 1214890277,\n            'f': \"1214890277\",\n        },\n{\n            'v': 24,\n            'f': \"24\",\n        },\n\"Shopping\",\n{\n            'v': 1028,\n            'f': \"1028\",\n        },\n{\n            'v': 9,\n            'f': \"9\",\n        }],\n [{\n            'v': 2629031535,\n            'f': \"2629031535\",\n        },\n\"10014440@N06\",\n{\n            'v': 1214890462,\n            'f': \"1214890462\",\n        },\n{\n            'v': 24,\n            'f': \"24\",\n        },\n\"Shopping\",\n{\n            'v': 1028,\n            'f': \"1028\",\n        },\n{\n            'v': 9,\n            'f': \"9\",\n        }],\n [{\n            'v': 2654090637,\n            'f': \"2654090637\",\n        },\n\"10014440@N06\",\n{\n            'v': 1215592158,\n            'f': \"1215592158\",\n        },\n{\n            'v': 25,\n            'f': \"25\",\n        },\n\"Shopping\",\n{\n            'v': 1701,\n            'f': \"1701\",\n        },\n{\n            'v': 10,\n            'f': \"10\",\n        }],\n [{\n            'v': 2654091227,\n            'f': \"2654091227\",\n        },\n\"10014440@N06\",\n{\n            'v': 1215592171,\n            'f': \"1215592171\",\n        },\n{\n            'v': 25,\n            'f': \"25\",\n        },\n\"Shopping\",\n{\n            'v': 1701,\n            'f': \"1701\",\n        },\n{\n            'v': 10,\n            'f': \"10\",\n        }],\n [{\n            'v': 2654918128,\n            'f': \"2654918128\",\n        },\n\"10014440@N06\",\n{\n            'v': 1215592179,\n            'f': \"1215592179\",\n        },\n{\n            'v': 25,\n            'f': \"25\",\n        },\n\"Shopping\",\n{\n            'v': 1701,\n            'f': \"1701\",\n        },\n{\n            'v': 10,\n            'f': \"10\",\n        }],\n [{\n            'v': 2654918484,\n            'f': \"2654918484\",\n        },\n\"10014440@N06\",\n{\n            'v': 1215592191,\n            'f': \"1215592191\",\n        },\n{\n            'v': 25,\n            'f': \"25\",\n        },\n\"Shopping\",\n{\n            'v': 1701,\n            'f': \"1701\",\n        },\n{\n            'v': 10,\n            'f': \"10\",\n        }],\n [{\n            'v': 2654092585,\n            'f': \"2654092585\",\n        },\n\"10014440@N06\",\n{\n            'v': 1215592201,\n            'f': \"1215592201\",\n        },\n{\n            'v': 25,\n            'f': \"25\",\n        },\n\"Shopping\",\n{\n            'v': 1701,\n            'f': \"1701\",\n        },\n{\n            'v': 10,\n            'f': \"10\",\n        }],\n [{\n            'v': 2654919504,\n            'f': \"2654919504\",\n        },\n\"10014440@N06\",\n{\n            'v': 1215592207,\n            'f': \"1215592207\",\n        },\n{\n            'v': 25,\n            'f': \"25\",\n        },\n\"Shopping\",\n{\n            'v': 1701,\n            'f': \"1701\",\n        },\n{\n            'v': 10,\n            'f': \"10\",\n        }],\n [{\n            'v': 2654920052,\n            'f': \"2654920052\",\n        },\n\"10014440@N06\",\n{\n            'v': 1215592220,\n            'f': \"1215592220\",\n        },\n{\n            'v': 25,\n            'f': \"25\",\n        },\n\"Shopping\",\n{\n            'v': 1701,\n            'f': \"1701\",\n        },\n{\n            'v': 10,\n            'f': \"10\",\n        }],\n [{\n            'v': 2654920584,\n            'f': \"2654920584\",\n        },\n\"10014440@N06\",\n{\n            'v': 1215592244,\n            'f': \"1215592244\",\n        },\n{\n            'v': 25,\n            'f': \"25\",\n        },\n\"Shopping\",\n{\n            'v': 1701,\n            'f': \"1701\",\n        },\n{\n            'v': 10,\n            'f': \"10\",\n        }],\n [{\n            'v': 2654920870,\n            'f': \"2654920870\",\n        },\n\"10014440@N06\",\n{\n            'v': 1215592247,\n            'f': \"1215592247\",\n        },\n{\n            'v': 25,\n            'f': \"25\",\n        },\n\"Shopping\",\n{\n            'v': 1701,\n            'f': \"1701\",\n        },\n{\n            'v': 10,\n            'f': \"10\",\n        }],\n [{\n            'v': 2654094827,\n            'f': \"2654094827\",\n        },\n\"10014440@N06\",\n{\n            'v': 1215592248,\n            'f': \"1215592248\",\n        },\n{\n            'v': 25,\n            'f': \"25\",\n        },\n\"Shopping\",\n{\n            'v': 1701,\n            'f': \"1701\",\n        },\n{\n            'v': 10,\n            'f': \"10\",\n        }],\n [{\n            'v': 2654921514,\n            'f': \"2654921514\",\n        },\n\"10014440@N06\",\n{\n            'v': 1215593210,\n            'f': \"1215593210\",\n        },\n{\n            'v': 25,\n            'f': \"25\",\n        },\n\"Shopping\",\n{\n            'v': 1701,\n            'f': \"1701\",\n        },\n{\n            'v': 10,\n            'f': \"10\",\n        }],\n [{\n            'v': 2654921896,\n            'f': \"2654921896\",\n        },\n\"10014440@N06\",\n{\n            'v': 1215593257,\n            'f': \"1215593257\",\n        },\n{\n            'v': 25,\n            'f': \"25\",\n        },\n\"Shopping\",\n{\n            'v': 1701,\n            'f': \"1701\",\n        },\n{\n            'v': 10,\n            'f': \"10\",\n        }],\n [{\n            'v': 2654096149,\n            'f': \"2654096149\",\n        },\n\"10014440@N06\",\n{\n            'v': 1215593261,\n            'f': \"1215593261\",\n        },\n{\n            'v': 25,\n            'f': \"25\",\n        },\n\"Shopping\",\n{\n            'v': 1701,\n            'f': \"1701\",\n        },\n{\n            'v': 10,\n            'f': \"10\",\n        }],\n [{\n            'v': 2654922686,\n            'f': \"2654922686\",\n        },\n\"10014440@N06\",\n{\n            'v': 1215593305,\n            'f': \"1215593305\",\n        },\n{\n            'v': 25,\n            'f': \"25\",\n        },\n\"Shopping\",\n{\n            'v': 1701,\n            'f': \"1701\",\n        },\n{\n            'v': 10,\n            'f': \"10\",\n        }],\n [{\n            'v': 2654923010,\n            'f': \"2654923010\",\n        },\n\"10014440@N06\",\n{\n            'v': 1215593308,\n            'f': \"1215593308\",\n        },\n{\n            'v': 25,\n            'f': \"25\",\n        },\n\"Shopping\",\n{\n            'v': 1701,\n            'f': \"1701\",\n        },\n{\n            'v': 10,\n            'f': \"10\",\n        }],\n [{\n            'v': 2654097207,\n            'f': \"2654097207\",\n        },\n\"10014440@N06\",\n{\n            'v': 1215593329,\n            'f': \"1215593329\",\n        },\n{\n            'v': 25,\n            'f': \"25\",\n        },\n\"Shopping\",\n{\n            'v': 1701,\n            'f': \"1701\",\n        },\n{\n            'v': 10,\n            'f': \"10\",\n        }],\n [{\n            'v': 2654923786,\n            'f': \"2654923786\",\n        },\n\"10014440@N06\",\n{\n            'v': 1215593365,\n            'f': \"1215593365\",\n        },\n{\n            'v': 25,\n            'f': \"25\",\n        },\n\"Shopping\",\n{\n            'v': 1701,\n            'f': \"1701\",\n        },\n{\n            'v': 10,\n            'f': \"10\",\n        }],\n [{\n            'v': 2654098119,\n            'f': \"2654098119\",\n        },\n\"10014440@N06\",\n{\n            'v': 1215593396,\n            'f': \"1215593396\",\n        },\n{\n            'v': 25,\n            'f': \"25\",\n        },\n\"Shopping\",\n{\n            'v': 1701,\n            'f': \"1701\",\n        },\n{\n            'v': 10,\n            'f': \"10\",\n        }],\n [{\n            'v': 2654924940,\n            'f': \"2654924940\",\n        },\n\"10014440@N06\",\n{\n            'v': 1215593402,\n            'f': \"1215593402\",\n        },\n{\n            'v': 25,\n            'f': \"25\",\n        },\n\"Shopping\",\n{\n            'v': 1701,\n            'f': \"1701\",\n        },\n{\n            'v': 10,\n            'f': \"10\",\n        }],\n [{\n            'v': 2654099157,\n            'f': \"2654099157\",\n        },\n\"10014440@N06\",\n{\n            'v': 1215593435,\n            'f': \"1215593435\",\n        },\n{\n            'v': 25,\n            'f': \"25\",\n        },\n\"Shopping\",\n{\n            'v': 1701,\n            'f': \"1701\",\n        },\n{\n            'v': 10,\n            'f': \"10\",\n        }],\n [{\n            'v': 2654925932,\n            'f': \"2654925932\",\n        },\n\"10014440@N06\",\n{\n            'v': 1215593441,\n            'f': \"1215593441\",\n        },\n{\n            'v': 25,\n            'f': \"25\",\n        },\n\"Shopping\",\n{\n            'v': 1701,\n            'f': \"1701\",\n        },\n{\n            'v': 10,\n            'f': \"10\",\n        }],\n [{\n            'v': 2654926470,\n            'f': \"2654926470\",\n        },\n\"10014440@N06\",\n{\n            'v': 1215593463,\n            'f': \"1215593463\",\n        },\n{\n            'v': 25,\n            'f': \"25\",\n        },\n\"Shopping\",\n{\n            'v': 1701,\n            'f': \"1701\",\n        },\n{\n            'v': 10,\n            'f': \"10\",\n        }],\n [{\n            'v': 2654100619,\n            'f': \"2654100619\",\n        },\n\"10014440@N06\",\n{\n            'v': 1215593493,\n            'f': \"1215593493\",\n        },\n{\n            'v': 25,\n            'f': \"25\",\n        },\n\"Shopping\",\n{\n            'v': 1701,\n            'f': \"1701\",\n        },\n{\n            'v': 10,\n            'f': \"10\",\n        }],\n [{\n            'v': 2654927046,\n            'f': \"2654927046\",\n        },\n\"10014440@N06\",\n{\n            'v': 1215593499,\n            'f': \"1215593499\",\n        },\n{\n            'v': 25,\n            'f': \"25\",\n        },\n\"Shopping\",\n{\n            'v': 1701,\n            'f': \"1701\",\n        },\n{\n            'v': 10,\n            'f': \"10\",\n        }],\n [{\n            'v': 2654101509,\n            'f': \"2654101509\",\n        },\n\"10014440@N06\",\n{\n            'v': 1215593542,\n            'f': \"1215593542\",\n        },\n{\n            'v': 25,\n            'f': \"25\",\n        },\n\"Shopping\",\n{\n            'v': 1701,\n            'f': \"1701\",\n        },\n{\n            'v': 10,\n            'f': \"10\",\n        }],\n [{\n            'v': 2654102085,\n            'f': \"2654102085\",\n        },\n\"10014440@N06\",\n{\n            'v': 1215593542,\n            'f': \"1215593542\",\n        },\n{\n            'v': 25,\n            'f': \"25\",\n        },\n\"Shopping\",\n{\n            'v': 1701,\n            'f': \"1701\",\n        },\n{\n            'v': 10,\n            'f': \"10\",\n        }],\n [{\n            'v': 2654102509,\n            'f': \"2654102509\",\n        },\n\"10014440@N06\",\n{\n            'v': 1215593577,\n            'f': \"1215593577\",\n        },\n{\n            'v': 25,\n            'f': \"25\",\n        },\n\"Shopping\",\n{\n            'v': 1701,\n            'f': \"1701\",\n        },\n{\n            'v': 10,\n            'f': \"10\",\n        }],\n [{\n            'v': 2654103197,\n            'f': \"2654103197\",\n        },\n\"10014440@N06\",\n{\n            'v': 1215593581,\n            'f': \"1215593581\",\n        },\n{\n            'v': 25,\n            'f': \"25\",\n        },\n\"Shopping\",\n{\n            'v': 1701,\n            'f': \"1701\",\n        },\n{\n            'v': 10,\n            'f': \"10\",\n        }],\n [{\n            'v': 2654929774,\n            'f': \"2654929774\",\n        },\n\"10014440@N06\",\n{\n            'v': 1215593613,\n            'f': \"1215593613\",\n        },\n{\n            'v': 25,\n            'f': \"25\",\n        },\n\"Shopping\",\n{\n            'v': 1701,\n            'f': \"1701\",\n        },\n{\n            'v': 10,\n            'f': \"10\",\n        }],\n [{\n            'v': 2654104231,\n            'f': \"2654104231\",\n        },\n\"10014440@N06\",\n{\n            'v': 1215593634,\n            'f': \"1215593634\",\n        },\n{\n            'v': 25,\n            'f': \"25\",\n        },\n\"Shopping\",\n{\n            'v': 1701,\n            'f': \"1701\",\n        },\n{\n            'v': 10,\n            'f': \"10\",\n        }],\n [{\n            'v': 2654930912,\n            'f': \"2654930912\",\n        },\n\"10014440@N06\",\n{\n            'v': 1215593650,\n            'f': \"1215593650\",\n        },\n{\n            'v': 25,\n            'f': \"25\",\n        },\n\"Shopping\",\n{\n            'v': 1701,\n            'f': \"1701\",\n        },\n{\n            'v': 10,\n            'f': \"10\",\n        }],\n [{\n            'v': 2654105249,\n            'f': \"2654105249\",\n        },\n\"10014440@N06\",\n{\n            'v': 1215593655,\n            'f': \"1215593655\",\n        },\n{\n            'v': 25,\n            'f': \"25\",\n        },\n\"Shopping\",\n{\n            'v': 1701,\n            'f': \"1701\",\n        },\n{\n            'v': 10,\n            'f': \"10\",\n        }],\n [{\n            'v': 2654931868,\n            'f': \"2654931868\",\n        },\n\"10014440@N06\",\n{\n            'v': 1215593674,\n            'f': \"1215593674\",\n        },\n{\n            'v': 25,\n            'f': \"25\",\n        },\n\"Shopping\",\n{\n            'v': 1701,\n            'f': \"1701\",\n        },\n{\n            'v': 10,\n            'f': \"10\",\n        }]],\n        columns: [[\"number\", \"photoID\"], [\"string\", \"userID\"], [\"number\", \"date\"], [\"number\", \"poiID\"], [\"string\", \"poiTheme\"], [\"number\", \"poiFreq\"], [\"number\", \"seqID\"]],\n        columnOptions: [],\n        rowsPerPage: 10,\n        helpUrl: \"https://colab.research.google.com/notebooks/data_table.ipynb\",\n        suppressOutputScrolling: true,\n        minimumWidth: undefined,\n      });\n    ",
            "text/plain": [
              "<google.colab.data_table.DataTable object>"
            ]
          },
          "metadata": {},
          "execution_count": 15
        }
      ]
    },
    {
      "cell_type": "markdown",
      "source": [
        "Nombre de photos, nombre de séquences et nombre d'évenements *un user a visité un POI* déterminés par un couple (séquence, POI)"
      ],
      "metadata": {
        "id": "FSnPiA-ZnpJr"
      }
    },
    {
      "cell_type": "code",
      "source": [
        "%%sql\n",
        "select count(*) as nbPhotos,\n",
        " count(distinct seqID) as nbSequences,\n",
        "  count(distinct seqID, poiID) as nb_visites\n",
        "from user_visits"
      ],
      "metadata": {
        "id": "S6gONudnSrId"
      },
      "execution_count": null,
      "outputs": []
    },
    {
      "cell_type": "markdown",
      "source": [
        "Les POI avec la plus grande frequence précalculée *poiFreq*"
      ],
      "metadata": {
        "id": "0HYZMStWwnR8"
      }
    },
    {
      "cell_type": "code",
      "source": [
        "%%sql\n",
        "select distinct poiID, poiFreq \n",
        "from user_visits\n",
        "order by poiFreq desc"
      ],
      "metadata": {
        "id": "5IwM3j3iwJHq"
      },
      "execution_count": null,
      "outputs": []
    },
    {
      "cell_type": "markdown",
      "source": [
        "Les POI avec la plus grande fréquence (ici la \"fréquence bis\" est le nombre de photos prises à un POI)"
      ],
      "metadata": {
        "id": "oFmd8fCmtm44"
      }
    },
    {
      "cell_type": "code",
      "source": [
        "%%sql\n",
        "select poiID, max(poiFreq) as poiFreq, count(*) as poiFreqBis\n",
        "from user_visits\n",
        "group by poiID\n",
        "order by poiFreqBis desc"
      ],
      "metadata": {
        "id": "flmyKqfgqnSn"
      },
      "execution_count": null,
      "outputs": []
    },
    {
      "cell_type": "markdown",
      "source": [
        "### Les lieux visités : POI\n",
        "Ils sont appelés *Point Of Interest*"
      ],
      "metadata": {
        "id": "ZWSe1Q_KCH4T"
      }
    },
    {
      "cell_type": "code",
      "source": [
        "poi_schema = \"poiID long, poiName String, latitude double, longitude double, theme String\"\n",
        "\n",
        "poi = spark.read.option(\"header\", \"True\").option(\"delimiter\", \";\").csv(local_dir + \"/\" + \"POI-Toro.csv\", schema = poi_schema)\n",
        "poi.show(3)\n",
        "poi.printSchema()\n",
        "poi.createOrReplaceTempView(\"POI\")"
      ],
      "metadata": {
        "id": "e-9XGdbAA5Qq"
      },
      "execution_count": null,
      "outputs": []
    },
    {
      "cell_type": "code",
      "source": [
        "%%sql\n",
        "cache table POI;\n",
        "\n",
        "SELECT * \n",
        "FROM POI"
      ],
      "metadata": {
        "id": "bGeoQ73VeylD"
      },
      "execution_count": null,
      "outputs": []
    },
    {
      "cell_type": "markdown",
      "source": [
        "la liste des thèmes"
      ],
      "metadata": {
        "id": "yTyTy_DVd_Ld"
      }
    },
    {
      "cell_type": "code",
      "source": [
        "%%sql\n",
        "create or replace temp view themes as\n",
        "select distinct theme\n",
        "from POI\n",
        "order by theme;\n",
        "\n",
        "cache table themes;\n",
        "\n",
        "select *\n",
        "from themes"
      ],
      "metadata": {
        "id": "DhBjBGf5IUer"
      },
      "execution_count": null,
      "outputs": []
    },
    {
      "cell_type": "markdown",
      "metadata": {
        "application/vnd.databricks.v1+cell": {
          "title": "",
          "showTitle": false,
          "inputWidgets": {},
          "nuid": "2df59fb1-4bd6-4d74-9ca4-d4959934dd9d"
        },
        "id": "qkCz6l14GpLo"
      },
      "source": [
        "## Exercice 1"
      ]
    },
    {
      "cell_type": "markdown",
      "source": [
        "#### 1) Identifier les thèmes\n",
        "\n",
        "Définir la table Theme1(theme_id, name) avec les numéros de thème commençant à 1 pour les noms de thème triés dans l'ordre croissant."
      ],
      "metadata": {
        "id": "uNQWpb7Jc0NV"
      }
    },
    {
      "cell_type": "code",
      "source": [
        "%%sql\n",
        "\n",
        "create or replace temp view Theme1 as\n",
        "  select theme\n",
        "    , row_number() over (order by theme) as theme_id\n",
        "  from Themes;\n",
        "\n",
        "select * from Theme1"
      ],
      "metadata": {
        "id": "8Fdl634adJE1"
      },
      "execution_count": null,
      "outputs": []
    },
    {
      "cell_type": "markdown",
      "source": [
        "#### 2) Classement des séquences par leur plus grand nombre de POI **distincts**\n",
        "\n",
        "Définir la table TopSeq(seqID, nbPOI, rang) avec rang=1 pour la séquence ayant le plus grand nbPOI.\n"
      ],
      "metadata": {
        "id": "f1wkHxbKjU_E"
      }
    },
    {
      "cell_type": "code",
      "source": [
        "%%sql\n",
        "\n",
        "create or replace temp view TopSeq as\n",
        "  select *\n",
        "    , rank() over (order by nbPOI desc) as rang\n",
        "  from (\n",
        "    select seqID\n",
        "      , count(distinct poiID) as nbPOI\n",
        "    from user_visits\n",
        "    group by seqID\n",
        "  );\n",
        "  \n",
        "select * from TopSeq"
      ],
      "metadata": {
        "id": "qiXFogl8lVoH"
      },
      "execution_count": null,
      "outputs": []
    },
    {
      "cell_type": "markdown",
      "source": [
        "#### 2) Identifier les check-ins\n",
        "\n",
        "\n"
      ],
      "metadata": {
        "id": "TCXIej13EfHx"
      }
    },
    {
      "cell_type": "markdown",
      "source": [
        "2a) Définir la table Visite1 telle qu'il n'y ait pas de doublons sur le triplet (seqID, poiID, date)"
      ],
      "metadata": {
        "id": "IpKr5hhxpqI8"
      }
    },
    {
      "cell_type": "code",
      "source": [
        "%%sql\n",
        "create or replace temp view Visite1 as\n",
        "  select distinct seqID, poiID, date\n",
        "  from user_visits;\n",
        "\n",
        "select *\n",
        "from Visite1\n",
        "where seqID in (298, 510)\n",
        "order by seqID, date, poiID;"
      ],
      "metadata": {
        "id": "PIH0KjN1qnvR"
      },
      "execution_count": null,
      "outputs": []
    },
    {
      "cell_type": "markdown",
      "source": [
        "2b) Montrer qu'il existe des séquences où une même date est associée à plusieurs POI distincts. \n",
        "Indication : utiliser une requete de regroupement."
      ],
      "metadata": {
        "id": "flRAS5IGx6hQ"
      }
    },
    {
      "cell_type": "code",
      "source": [
        "%%sql\n",
        "select seqID\n",
        "  , date\n",
        "  , count(distinct poiID) as nb_POI_meme_date\n",
        "from Visite1\n",
        "group by seqID, date\n",
        "having nb_POI_meme_date > 1\n",
        "order by nb_POI_meme_date desc, seqID"
      ],
      "metadata": {
        "id": "38_du1i9sr9M"
      },
      "execution_count": null,
      "outputs": []
    },
    {
      "cell_type": "markdown",
      "source": [
        "2c) A partir de la table précédente, définir la table Visite2(seqID, poiID, date, num) avec *num* étant le numéro d'ordre dans une séquence.\n",
        "Les POI visités à une même date sont triés dans l'ordre croissant de poiID."
      ],
      "metadata": {
        "id": "RTKocYl3plwM"
      }
    },
    {
      "cell_type": "code",
      "source": [
        "%%sql\n",
        "\n",
        "create or replace temp view Visite2 as\n",
        "  select seqID\n",
        "    , date\n",
        "    , poiID\n",
        "    , rank() over \n",
        "    (partition by seqID order by date, poiID) as num\n",
        "  from Visite1;\n",
        "\n",
        "select * from Visite2\n",
        "where seqID in (298, 510)\n",
        "order by num\n"
      ],
      "metadata": {
        "id": "1RZRrj0TIHAB"
      },
      "execution_count": null,
      "outputs": []
    },
    {
      "cell_type": "markdown",
      "source": [
        "#### 3) Identifier les Visites de POI\n",
        "\n",
        "Définir la table Visite3(userID, seqID, poiID, poiPosition) telle que la  poiPosition vaut *i* pour le ième POI visité dans une séquence.\n",
        "\n",
        "Indications:\n",
        "\n",
        "La visite d'un POI correspond à toutes les photos consécutives prises à ce POI.\n",
        "\n",
        "Un même POI peut apparaitre **plusieurs** fois à des positions différentes dans une séquence si au moins un autre POI a été visité entre temps dans la séquence.\n"
      ],
      "metadata": {
        "id": "mgfqpC2wa0CV"
      }
    },
    {
      "cell_type": "markdown",
      "source": [
        "##### 3a) POI précédent\n",
        "Commencer par associer chaque événement avec le POI précédent dans la séquence.\n",
        "Indication penser aux fonctions lag() ou first()"
      ],
      "metadata": {
        "id": "5ycMerhzrmxf"
      }
    },
    {
      "cell_type": "code",
      "source": [
        "%%sql\n",
        "create or replace temp view Visite3a as\n",
        " select *\n",
        "   , lag(poiID, 1, null) \n",
        "   over (partition by seqID order by date, poiID ) as precedent\n",
        "  from Visite2;\n",
        "\n",
        "select * from Visite3a\n",
        "where seqID in (298, 510)\n",
        "order by seqID, date;\n"
      ],
      "metadata": {
        "id": "X1c9HZ-hb22Z"
      },
      "execution_count": null,
      "outputs": []
    },
    {
      "cell_type": "markdown",
      "source": [
        "##### 3b) Début de visite\n",
        "Ajouter un attribut *début* valant 1 pour le premier tuple d'une série de photos consécutives concernant le même POI et 0 sinon. \n",
        "Indication, penser à la syntaxe case when ...then ... else ... end"
      ],
      "metadata": {
        "id": "9DibRXSdr9Aj"
      }
    },
    {
      "cell_type": "code",
      "source": [
        "%%sql\n",
        "create or replace temp view Visite3b as\n",
        "  select *\n",
        "    , case\n",
        "        when precedent is null or poiID = precedent then 0\n",
        "        else 1\n",
        "      end as debut\n",
        "  from Visite3a;\n",
        "\n",
        "select * from Visite3b\n",
        "where seqID in (298, 510)\n",
        "order by seqID, date;"
      ],
      "metadata": {
        "id": "678rLv_Qsck9"
      },
      "execution_count": null,
      "outputs": []
    },
    {
      "cell_type": "markdown",
      "source": [
        "##### 3c) Ordonner les POI visités\n",
        "Définir la table Visite3 décrite au début de la question 3). Ajouter l'attribut poiPosition "
      ],
      "metadata": {
        "id": "qFNxCJZPtQXg"
      }
    },
    {
      "cell_type": "code",
      "source": [
        "%%sql\n",
        "create or replace temp view Visite3 as\n",
        "  select seqID\n",
        "    , num\n",
        "    , date\n",
        "    , poiID\n",
        "    , sum(debut) over \n",
        "    (partition by seqID order by date, poiID) as poiPosition\n",
        "  from Visite3b;\n",
        "\n",
        "select * from Visite3\n",
        "where seqID in (298, 510)\n",
        "order by seqID, date, poiID;"
      ],
      "metadata": {
        "id": "5Yr4Cn7otZgQ"
      },
      "execution_count": null,
      "outputs": []
    },
    {
      "cell_type": "markdown",
      "source": [
        "#### 4) Durée de visite d'un POI\n",
        "Définir la table Visite4(seqID, poiPosition, poiID, duree) comme étant la différence entre la plus grande et la plus petite date des photos consécutives associées à un même POI."
      ],
      "metadata": {
        "id": "TY9pdH1-wCZy"
      }
    },
    {
      "cell_type": "code",
      "source": [
        "%%sql\n",
        "\n",
        "create or replace temp view Visite4 as\n",
        "  select *, (date_fin - date_debut) as duree\n",
        "  from (\n",
        "    select distinct seqID\n",
        "      , poiPosition\n",
        "      , poiID\n",
        "      , min(date) over\n",
        "       (partition by seqID, poiPosition) as date_debut\n",
        "      , max(date) over \n",
        "      (partition by seqID, poiPosition) as date_fin\n",
        "    from Visite3\n",
        "  );\n",
        "\n",
        "select * from Visite4\n",
        "where seqID in (298, 510)\n",
        "order by seqID, poiPosition"
      ],
      "metadata": {
        "id": "ZRqXcQ83wdrR"
      },
      "execution_count": null,
      "outputs": []
    },
    {
      "cell_type": "markdown",
      "source": [
        "verification: durée moyenne de visite d'un POI, pour les durée >0"
      ],
      "metadata": {
        "id": "vFZmAkun-073"
      }
    },
    {
      "cell_type": "code",
      "source": [
        "%%sql\n",
        "select round(mean(duree)/60, 1) as duree_moyenne_en_minutes\n",
        "from Visite4\n",
        "where duree>0"
      ],
      "metadata": {
        "id": "u5FUpHP3hLwC"
      },
      "execution_count": null,
      "outputs": []
    },
    {
      "cell_type": "markdown",
      "source": [
        "#### 4a) nombre moyen de visites et nombre moyen de POI dans une séquence"
      ],
      "metadata": {
        "id": "Ao_Qs969CUlx"
      }
    },
    {
      "cell_type": "code",
      "source": [
        "%%sql\n",
        "create or replace temp view SeqNbVisite as\n",
        "select seqID, count(poiPosition) as nbVisites, count(distinct poiID) as nbPOI\n",
        "from Visite4\n",
        "group by seqID;\n",
        "\n",
        "select mean(nbVisites), mean(nbPOI)\n",
        "from SeqNbVisite"
      ],
      "metadata": {
        "id": "Sl8kJdO4jzSy"
      },
      "execution_count": null,
      "outputs": []
    },
    {
      "cell_type": "markdown",
      "source": [
        "vérification fréquence des POI"
      ],
      "metadata": {
        "id": "1MbfH69Yp9bp"
      }
    },
    {
      "cell_type": "code",
      "source": [
        "%%sql\n",
        "select poiID, count(*) as poiFreqVisite\n",
        "from Visite4\n",
        "group by poiID\n",
        "order by poiFreqVisite desc"
      ],
      "metadata": {
        "id": "uwnhtxuxp4MG"
      },
      "execution_count": null,
      "outputs": []
    },
    {
      "cell_type": "markdown",
      "source": [
        "#### 4b) Nombre de séquences selon leur nombre de visites. \n",
        "\n",
        "Afficher le nombre de séquences pour chaque nombre de visites existant. Afficher aussi, pour chaque nombre de visite, le nombre *cumulé* de séquences ayant **au moins** ce nombre de visite.\n"
      ],
      "metadata": {
        "id": "4Rha729gk7dY"
      }
    },
    {
      "cell_type": "code",
      "source": [
        "%%sql\n",
        "create or replace temp view T_seq_vis as\n",
        "select nbVisites, count(seqID) as nbSequences\n",
        "from SeqNbVisite\n",
        "group by nbVisites;\n",
        "\n",
        "select nbVisites, nbSequences, \n",
        "sum(nbSequences) over \n",
        "(order by nbVisites desc rows \n",
        "between unbounded preceding and current row) \n",
        "as nbre_sequences_avec_au_moins_nbVisite\n",
        "from T_seq_vis\n",
        "order by nbVisites"
      ],
      "metadata": {
        "id": "bxvPyXf9lMw2"
      },
      "execution_count": null,
      "outputs": []
    },
    {
      "cell_type": "markdown",
      "source": [
        "Nombre de sequences selon leur nombre de POI distincts. \n",
        "\n",
        "Afficher aussi, pour chaque nombre de visite, le nombre cumulé de séquences ayant **au moins** ce nombre de POI distincts."
      ],
      "metadata": {
        "id": "iXCSyl_ZpGP6"
      }
    },
    {
      "cell_type": "code",
      "source": [
        "%%sql\n",
        "create or replace temp view T_seq_poi as\n",
        "select nbPOI, count(seqID) as nbSequences\n",
        "from SeqNbVisite\n",
        "group by nbPOI;\n",
        "\n",
        "select nbPOI, nbSequences, \n",
        "sum(nbSequences) over (order by nbPOI desc rows \n",
        "between unbounded preceding and current row) \n",
        "as nbre_sequences_avec_au_moins_nbPOI\n",
        "from T_seq_poi\n",
        "order by nbPOI"
      ],
      "metadata": {
        "id": "i5BZNTmboe-6"
      },
      "execution_count": null,
      "outputs": []
    },
    {
      "cell_type": "markdown",
      "source": [
        "Nombre de séquences ayant au moins un POI visité 2 fois"
      ],
      "metadata": {
        "id": "fh-T9fxKibvo"
      }
    },
    {
      "cell_type": "code",
      "source": [
        "%%sql\n",
        "select count(*) as nbSequences\n",
        "from SeqNbVisite\n",
        "where nbVisites > nbPOI"
      ],
      "metadata": {
        "id": "6uu-7Y_hiiKE"
      },
      "execution_count": null,
      "outputs": []
    },
    {
      "cell_type": "markdown",
      "source": [
        "#### 5) Nombre de visites sur une semaine glissante\n",
        "a) Définir la table Visite5a(userID, annee, mois,jour, nbVisite) : nbVisite est le nombre de visites qu'un utilisateur a fait chaque jour. \n",
        "\n"
      ],
      "metadata": {
        "id": "B3DU8IGi39Ps"
      }
    },
    {
      "cell_type": "code",
      "source": [
        "%%sql\n",
        "create or replace temp view Visite5a as\n",
        "  select userID\n",
        "    , from_unixtime(date, 'yyyy') as annee\n",
        "    , from_unixtime(date, 'MM')   as mois\n",
        "    , from_unixtime(date, 'dd')   as jour\n",
        "    , count(*) as nbVisite\n",
        "  from user_visits\n",
        "  group by userID, annee, mois, jour;\n",
        "\n",
        "select * from Visite5a\n",
        "order by userID, annee, mois, jour, nbVisite"
      ],
      "metadata": {
        "id": "ljZC9eUia60g"
      },
      "execution_count": null,
      "outputs": []
    },
    {
      "cell_type": "markdown",
      "source": [
        "b) En déduire la table Visite5b(userID, anne, mois, jour, nbVisite7jours) : nbVisite7jours étant le nombre de visites effectuées sur une semaine glissante."
      ],
      "metadata": {
        "id": "wzFY9hCAa2Lm"
      }
    },
    {
      "cell_type": "markdown",
      "source": [
        "1.   A partir de la requête précédente :\n",
        "\n",
        "\n"
      ],
      "metadata": {
        "id": "10tI_RO7ElU9"
      }
    },
    {
      "cell_type": "code",
      "source": [
        "%%sql\n",
        "create or replace temp view Visite5b as\n",
        "  select userID\n",
        "    , annee\n",
        "    , mois\n",
        "    , jour\n",
        "    , sum(nbVisite) over\n",
        "     (partition by userID order by timestamp(concat(annee, '-', mois, '-',jour))\n",
        "      range between INTERVAL '7' DAY preceding and current row) as nbVisite7Jours\n",
        "  from Visite5a;\n",
        "\n",
        "select * from Visite5b"
      ],
      "metadata": {
        "id": "Q9-xjmK4BeZ6"
      },
      "execution_count": null,
      "outputs": []
    },
    {
      "cell_type": "markdown",
      "source": [
        "\n",
        "2.  A partir de la table *user_visits*\n",
        "\n",
        "  2.1 **Sans** *INTERVAL '7' DAY*\n",
        "\n",
        "\n"
      ],
      "metadata": {
        "id": "OQFTapQBFKp9"
      }
    },
    {
      "cell_type": "code",
      "source": [
        "%%sql\n",
        "select  distinct userID\n",
        "  , year(timestamp(date))  as annee\n",
        "  , month(timestamp(date)) as mois\n",
        "  , day(timestamp(date))   as jour\n",
        "  , count(timestamp(date)) \n",
        "  over (partition by userID \n",
        "  order by cast(from_unixtime(date) as DATE) \n",
        "  range between 7 preceding and current row) as nbVisite7Jours\n",
        "from user_visits"
      ],
      "metadata": {
        "id": "beijjCCkTc3y"
      },
      "execution_count": null,
      "outputs": []
    },
    {
      "cell_type": "markdown",
      "source": [
        "  2.2 **Avec** *INTERVAL '7' DAY*"
      ],
      "metadata": {
        "id": "wtTf-mVdF8IA"
      }
    },
    {
      "cell_type": "code",
      "source": [
        "%%sql\n",
        "select  distinct userID\n",
        "  , year(timestamp(date))  as annee\n",
        "  , month(timestamp(date)) as mois\n",
        "  , day(timestamp(date))   as jour\n",
        "  , count(date) \n",
        "  over (partition by userID \n",
        "  order by timestamp(cast(from_unixtime(date) as DATE)) \n",
        "  range between INTERVAL '7' DAY preceding and current row) \n",
        "  as nbVisite7Jours\n",
        "from user_visits\n"
      ],
      "metadata": {
        "id": "lRSDtITmGBnJ"
      },
      "execution_count": null,
      "outputs": []
    },
    {
      "cell_type": "markdown",
      "source": [
        "#### 6) Déplacements entre deux POI\n",
        "Définir la table Duree_Deplacement(seqID, poiPosition, poiID, deplacement). \n",
        "*deplacement* est la durée depuis la fin de la visite du POI courant jusqu'au début de visite du prochain POI dans une séquence.\n"
      ],
      "metadata": {
        "id": "Vji-KmOmTdbh"
      }
    },
    {
      "cell_type": "code",
      "source": [
        "%%sql\n",
        "select timestamp(1319327174), timestamp(1319328255), timestamp(1319328255) -timestamp(1319327174)"
      ],
      "metadata": {
        "id": "FxtOfpVijGKg"
      },
      "execution_count": null,
      "outputs": []
    },
    {
      "cell_type": "code",
      "source": [
        "%%sql\n",
        "\n",
        "select seqID\n",
        "  , poiPosition\n",
        "  , poiID\n",
        "  , date\n",
        "  , max(timestamp(date)) \n",
        "  over (partition by seqID, poiPosition rows\n",
        "   between current row and 1 following) - timestamp(date) as deplacement\n",
        "  , datediff(max(timestamp(date)) \n",
        "  over (partition by seqID, poiPosition rows between current row and 1 following)\n",
        "  , timestamp(date)) as datdiff\n",
        "  from visite3\n"
      ],
      "metadata": {
        "id": "BGNfvCZbfBft"
      },
      "execution_count": null,
      "outputs": []
    },
    {
      "cell_type": "code",
      "source": [
        "%%sql\n",
        "create or replace temp view Duree_Deplacement as\n",
        "  select seqID\n",
        "  , poiPosition\n",
        "  , poiID\n",
        " -- , date\n",
        "  , max(timestamp(date)) over \n",
        "  (partition by seqID, poiPosition \n",
        "  rows between current row and 1 following) - timestamp(date) \n",
        "  as deplacement\n",
        " -- , datediff(max(timestamp(date)) over (partition by seqID, poiPosition rows between current row and 1 following), timestamp(date)) as datdiff\n",
        "  from visite3;\n",
        "\n",
        "select * from Duree_Deplacement\n",
        "where seqID in (298, 510)\n",
        "order by seqID, poiPosition, poiID;"
      ],
      "metadata": {
        "id": "K3WDYU99cD68"
      },
      "execution_count": null,
      "outputs": []
    },
    {
      "cell_type": "markdown",
      "source": [
        "## Exercice 2 : YFCC"
      ],
      "metadata": {
        "id": "n8k_YJXjkes_"
      }
    },
    {
      "cell_type": "markdown",
      "source": [
        "#### Données YFCC France"
      ],
      "metadata": {
        "id": "3e_auTPaN_x2"
      }
    },
    {
      "cell_type": "code",
      "source": [
        "import zipfile\n",
        "\n",
        "\n",
        "# YFCC France\n",
        "web_dir = PUBLIC_DATASET + \"/YFCC_dataset_extrait\"\n",
        "download_file(web_dir, local_dir, \"yfccFrance.zip\")\n",
        "\n",
        "\n",
        "\n",
        "#unzip\n",
        "if(os.path.isdir(local_dir + \"/\" + \"yfccFrance\")):\n",
        "    print(\"file already unziped\")\n",
        "else:\n",
        "  with zipfile.ZipFile(local_dir + \"/yfccFrance.zip\", 'r') as zip_ref:\n",
        "    zip_ref.extractall(local_dir)\n",
        "\n",
        "\n",
        "os.listdir(local_dir)\n"
      ],
      "metadata": {
        "id": "NRWs1QrdHHdj",
        "colab": {
          "base_uri": "https://localhost:8080/"
        },
        "outputId": "4358ef3a-5343-4ff5-bf5a-494cb5589b60"
      },
      "execution_count": null,
      "outputs": [
        {
          "output_type": "stream",
          "name": "stdout",
          "text": [
            "downloading from URL:  https://nuage.lip6.fr/s/H3bpyRGgnCq2NR4/download?path=/YFCC_dataset_extrait/yfccFrance.zip save in : /local/data/yfccFrance.zip\n"
          ]
        },
        {
          "output_type": "execute_result",
          "data": {
            "text/plain": [
              "['userVisits-Toro.csv', 'yfccFrance', 'POI-Toro.csv', 'yfccFrance.zip']"
            ]
          },
          "metadata": {},
          "execution_count": 140
        }
      ]
    },
    {
      "cell_type": "code",
      "source": [
        "yfcc_france = spark.read.format(\"parquet\").load(local_dir + \"/yfccFrance\")\n",
        "print(yfcc_france.count())\n",
        "yfcc_france.printSchema()\n",
        "display(yfcc_france)"
      ],
      "metadata": {
        "id": "NgTQ9-XILnSX"
      },
      "execution_count": null,
      "outputs": []
    },
    {
      "cell_type": "markdown",
      "source": [
        "#### Question 1\n",
        "\n",
        "Extraire de YFCC les sequences de points des utilisateurs telles que les conditions suivantes soient vérifiées :\n",
        "\n",
        "Une séquence ne peut pas couvrir plusieurs jours. Si un utilisateur a pris des photos pendant plusieurs jours consécutifs, cela forme plusieurs séquences.\n",
        "\n",
        "Une séquence doit contenir au moins 3 points distincts.\n",
        "\n",
        "Chaque point doit être associé à au moins 3 utilisateurs.\n",
        "\n",
        "On peut supposer que deux photos prises à deux positions GPS très proches (moins de *d* mètres entre les deux positions) correspondent à un même point. \n"
      ],
      "metadata": {
        "id": "T94D47Y-OGr3"
      }
    },
    {
      "cell_type": "code",
      "source": [
        "yfcc_france.createOrReplaceTempView(\"yfcc_france\")"
      ],
      "metadata": {
        "id": "ZH4hYgyvt6Ty"
      },
      "execution_count": null,
      "outputs": []
    },
    {
      "cell_type": "code",
      "source": [
        "%%sql\n",
        "create or replace temp view Yfcc as\n",
        "select UserNSID, cast(DateTaken as date) \n",
        "as DateTaken, Longitude, Latitude\n",
        "from yfcc_france;\n",
        "\n",
        "select *\n",
        "from Yfcc"
      ],
      "metadata": {
        "id": "mW_4ixU_HIvR"
      },
      "execution_count": null,
      "outputs": []
    },
    {
      "cell_type": "markdown",
      "source": [
        "La table **T_point_users** contient les points associés à au moins 3 utilisateurs, ainsi qu'un identifiant pour chacun des points."
      ],
      "metadata": {
        "id": "3Tk0AbOtSzx0"
      }
    },
    {
      "cell_type": "code",
      "source": [
        "%%sql\n",
        "create or replace temp view T_point_users as\n",
        "select point_i, Longitude, Latitude\n",
        "from (\n",
        "  select Longitude, Latitude, count(UserNSID) as count_users, row_number() over (order by Longitude, Latitude) as point_i\n",
        "  from Yfcc\n",
        "  group by Longitude, Latitude\n",
        ")\n",
        "where count_users > 2;\n",
        "\n",
        "select *\n",
        "from T_point_users"
      ],
      "metadata": {
        "id": "JztB8gfTSpEB"
      },
      "execution_count": null,
      "outputs": []
    },
    {
      "cell_type": "markdown",
      "source": [
        "La table **T1** contient les attributs pertinents et où chaque point est associé à au moins 3 utilisateurs."
      ],
      "metadata": {
        "id": "l6VcFSRATgOG"
      }
    },
    {
      "cell_type": "code",
      "source": [
        "%%sql\n",
        "create or replace temp view T1 as\n",
        "select distinct y.UserNSID, y.DateTaken, y.Longitude, y.Latitude, pu.point_i\n",
        "from Yfcc y, T_point_users pu\n",
        "where y.Longitude == pu.Longitude and y.Latitude == pu.Latitude;\n",
        "\n",
        "select *\n",
        "from T1"
      ],
      "metadata": {
        "id": "gwwDEirQBLlE"
      },
      "execution_count": null,
      "outputs": []
    },
    {
      "cell_type": "markdown",
      "source": [
        "La table **T2** contient des séquences d'au moins 3 points distincts en fonction de l'utilisateur et de la date, et où un point est associé à au moins 3 utilisateurs."
      ],
      "metadata": {
        "id": "W8WN278aSJ4G"
      }
    },
    {
      "cell_type": "code",
      "source": [
        "%%sql\n",
        "\n",
        "create or replace temp view T2 as\n",
        "select *\n",
        "from (\n",
        "  select UserNSID, DateTaken, collect_list(distinct point_i) as Sequence\n",
        "  from T1\n",
        "  group by UserNSID, DateTaken\n",
        "  order by UserNSID, DateTaken\n",
        ")\n",
        "where cardinality(Sequence) > 2;\n",
        "\n",
        "select *\n",
        "from T2"
      ],
      "metadata": {
        "id": "T6nqRNNZJHoA"
      },
      "execution_count": null,
      "outputs": []
    },
    {
      "cell_type": "markdown",
      "source": [
        "#### Question 2\n",
        "\n",
        "Proposer un exemple d'analyse des séquences obtenues à la question précédente suivante 3 dimensions dont au moins une doit avoir au moins 3 niveaux."
      ],
      "metadata": {
        "id": "IQHSAPcoHJWw"
      }
    }
  ]
}