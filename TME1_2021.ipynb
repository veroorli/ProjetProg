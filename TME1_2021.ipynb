{
  "nbformat": 4,
  "nbformat_minor": 0,
  "metadata": {
    "application/vnd.databricks.v1+notebook": {
      "notebookName": "TME1_2021_SUJET_SEUL",
      "dashboards": [
        {
          "elements": [
            {
              "elementNUID": "17329df0-7b1a-4219-bd1f-e2f35e23fa57",
              "guid": "04c070f3-f9ca-44a8-898e-8e991ff65c30",
              "options": null,
              "position": {
                "x": 0,
                "y": 145,
                "height": 2,
                "width": 12,
                "z": null
              },
              "elementType": "command"
            },
            {
              "elementNUID": "4916b307-fb50-46f6-a51b-d5496ba229a5",
              "guid": "0544755f-8046-413c-8de2-96b5ba9cde0a",
              "options": null,
              "position": {
                "x": 0,
                "y": 30,
                "height": 1,
                "width": 12,
                "z": null
              },
              "elementType": "command"
            },
            {
              "elementNUID": "c1e0948d-9941-4bae-bf10-e6ec96b230ae",
              "guid": "06f2d2bb-f42c-46d6-abb7-d2e1905483c3",
              "options": null,
              "position": {
                "x": 0,
                "y": 178,
                "height": 2,
                "width": 12,
                "z": null
              },
              "elementType": "command"
            },
            {
              "elementNUID": "1609862f-59b6-4e63-8a5f-2c4e524b9280",
              "guid": "0df87a25-7051-4bb6-82cd-24b78783bf7d",
              "options": null,
              "position": {
                "x": 0,
                "y": 163,
                "height": 1,
                "width": 12,
                "z": null
              },
              "elementType": "command"
            },
            {
              "elementNUID": "93fd1b8c-937f-41f1-88b8-704a5225af12",
              "guid": "1e2aacd3-80ac-42fc-858a-aa6ccf4d1aa1",
              "options": null,
              "position": {
                "x": 0,
                "y": 73,
                "height": 1,
                "width": 12,
                "z": null
              },
              "elementType": "command"
            },
            {
              "elementNUID": "047d52a6-482e-46d9-82c8-d3d85dc7f3ed",
              "guid": "205f0675-4075-4f6d-9ed5-dbe9f2adc9ab",
              "options": null,
              "position": {
                "x": 0,
                "y": 46,
                "height": 6,
                "width": 12,
                "z": null
              },
              "elementType": "command"
            },
            {
              "elementNUID": "51093e36-41d7-45bc-9ac9-538d0ad06cdf",
              "guid": "2f4a2f92-9f7e-463a-853d-28c94fba80e0",
              "options": null,
              "position": {
                "x": 0,
                "y": 53,
                "height": 6,
                "width": 12,
                "z": null
              },
              "elementType": "command"
            },
            {
              "elementNUID": "1cc544c1-2901-41f7-ae80-c2b5eea55acd",
              "guid": "36a753e7-591a-4ab6-b427-bc4829c8ee0c",
              "options": null,
              "position": {
                "x": 0,
                "y": 113,
                "height": 2,
                "width": 12,
                "z": null
              },
              "elementType": "command"
            },
            {
              "elementNUID": "70ffeca1-0c87-4ba9-922d-ccd0e58e150e",
              "guid": "478116f2-b77f-494b-a02f-7fdd0e043c90",
              "options": null,
              "position": {
                "x": 0,
                "y": 37,
                "height": 1,
                "width": 12,
                "z": null
              },
              "elementType": "command"
            },
            {
              "elementNUID": "7684ab9b-a0b6-4ea3-80eb-b2179c7c861c",
              "guid": "4a1ee4a2-afa3-4f3e-993d-463d1a0756ad",
              "options": null,
              "position": {
                "x": 0,
                "y": 161,
                "height": 2,
                "width": 12,
                "z": null
              },
              "elementType": "command"
            },
            {
              "elementNUID": "6fc95d51-5cac-46df-9184-c0a154f0f38c",
              "guid": "4dd6a8a2-ddd5-4d2b-ae85-ba590ba4055c",
              "options": null,
              "position": {
                "x": 0,
                "y": 111,
                "height": 2,
                "width": 12,
                "z": null
              },
              "elementType": "command"
            },
            {
              "elementNUID": "b13422e4-e662-4ff0-a0c6-b2c65f4d18b6",
              "guid": "543f6ca2-d920-4464-9dcb-73e5f278d0ca",
              "options": null,
              "position": {
                "x": 0,
                "y": 137,
                "height": 2,
                "width": 12,
                "z": null
              },
              "elementType": "command"
            },
            {
              "elementNUID": "a36d08d1-1c4a-4cf9-bfc8-734c9673f261",
              "guid": "557d032a-7266-4103-a743-eb07cc643928",
              "options": null,
              "position": {
                "x": 0,
                "y": 139,
                "height": 6,
                "width": 12,
                "z": null
              },
              "elementType": "command"
            },
            {
              "elementNUID": "af6fd680-6e8c-4edd-a62a-e1d003cad366",
              "guid": "55a68095-7824-4909-8eb9-4b54889e2f64",
              "options": null,
              "position": {
                "x": 0,
                "y": 155,
                "height": 6,
                "width": 12,
                "z": null
              },
              "elementType": "command"
            },
            {
              "elementNUID": "6fadb6ae-0d2c-4916-8e7f-1d4cc7846268",
              "guid": "5629063a-4cb9-425d-bb2b-0497f0ffcd7d",
              "options": null,
              "position": {
                "x": 0,
                "y": 198,
                "height": 2,
                "width": 12,
                "z": null
              },
              "elementType": "command"
            },
            {
              "elementNUID": "6700d2e5-958d-4c04-8072-c6f261668755",
              "guid": "5bb30e33-eb6d-414f-8fe3-c16256f95286",
              "options": null,
              "position": {
                "x": 0,
                "y": 20,
                "height": 1,
                "width": 12,
                "z": null
              },
              "elementType": "command"
            },
            {
              "elementNUID": "c82a9838-8c1d-40a3-8497-4c31a5afa5ec",
              "guid": "5d2466dd-c99e-42ed-a75c-75fc65b1d1b3",
              "options": null,
              "position": {
                "x": 0,
                "y": 11,
                "height": 9,
                "width": 12,
                "z": null
              },
              "elementType": "command"
            },
            {
              "elementNUID": "eefcf1a4-e009-4d53-9bbd-62d171e1ff10",
              "guid": "604c09ca-8e11-4c2e-aed7-ac371b696fd5",
              "options": null,
              "position": {
                "x": 0,
                "y": 214,
                "height": 2,
                "width": 12,
                "z": null
              },
              "elementType": "command"
            },
            {
              "elementNUID": "9582d65f-6ff6-4001-aae8-6d354db1567b",
              "guid": "641778b4-ec91-481c-bdc2-d3f6b2e48066",
              "options": null,
              "position": {
                "x": 0,
                "y": 59,
                "height": 1,
                "width": 12,
                "z": null
              },
              "elementType": "command"
            },
            {
              "elementNUID": "aafa7653-49a3-4915-b212-94bf433f313b",
              "guid": "669a6cbd-94f8-444d-bb5a-ddd090c622a7",
              "options": null,
              "position": {
                "x": 0,
                "y": 60,
                "height": 6,
                "width": 12,
                "z": null
              },
              "elementType": "command"
            },
            {
              "elementNUID": "9550ce97-88f0-485d-b307-b831ace3ee23",
              "guid": "66af11d6-44fc-4f0e-8824-9f56b703c532",
              "options": null,
              "position": {
                "x": 0,
                "y": 153,
                "height": 2,
                "width": 12,
                "z": null
              },
              "elementType": "command"
            },
            {
              "elementNUID": "23530f5e-191f-4476-a042-89462af08bf0",
              "guid": "66eaa8c3-2337-45ad-ab9b-64116af586b8",
              "options": null,
              "position": {
                "x": 0,
                "y": 105,
                "height": 6,
                "width": 12,
                "z": null
              },
              "elementType": "command"
            },
            {
              "elementNUID": "cb9b4b91-d7a4-4d6f-b8fd-4f81069ee9bb",
              "guid": "715e0bbb-14c1-4aa9-9894-0e894c449882",
              "options": null,
              "position": {
                "x": 0,
                "y": 7,
                "height": 1,
                "width": 12,
                "z": null
              },
              "elementType": "command"
            },
            {
              "elementNUID": "416e4ed6-56f4-44b6-97bc-95d31da350fe",
              "guid": "75067b7c-9df9-4554-99ca-19999c84ef2f",
              "options": null,
              "position": {
                "x": 0,
                "y": 52,
                "height": 1,
                "width": 12,
                "z": null
              },
              "elementType": "command"
            },
            {
              "elementNUID": "23b7e0bf-ab19-4ddf-b7db-6769f54a0cdd",
              "guid": "78e22938-6dbc-4a30-998b-50d6b8e59c95",
              "options": null,
              "position": {
                "x": 0,
                "y": 186,
                "height": 2,
                "width": 12,
                "z": null
              },
              "elementType": "command"
            },
            {
              "elementNUID": "1513a5b3-5262-4d55-ada9-9afbcc902218",
              "guid": "7dfa0e5f-c961-4cdd-aa95-57b2e384f6f9",
              "options": null,
              "position": {
                "x": 0,
                "y": 180,
                "height": 6,
                "width": 12,
                "z": null
              },
              "elementType": "command"
            },
            {
              "elementNUID": "b15737ae-19bd-4b9f-b9f3-52388cc5e50e",
              "guid": "846b7c1d-f1d1-4aa6-b3aa-94cb6d065d1a",
              "options": null,
              "position": {
                "x": 0,
                "y": 3,
                "height": 2,
                "width": 12,
                "z": null
              },
              "elementType": "command"
            },
            {
              "elementNUID": "79374715-17c6-42ea-80b5-f34359f79709",
              "guid": "867fb6bf-585e-4c58-b51c-8495ea2785f2",
              "options": null,
              "position": {
                "x": 0,
                "y": 29,
                "height": 1,
                "width": 12,
                "z": null
              },
              "elementType": "command"
            },
            {
              "elementNUID": "4cd74178-8e1b-451f-b3a2-de19ac2e9e08",
              "guid": "880cc34e-7901-4dd0-b3f5-969ebf957460",
              "options": null,
              "position": {
                "x": 0,
                "y": 131,
                "height": 6,
                "width": 12,
                "z": null
              },
              "elementType": "command"
            },
            {
              "elementNUID": "1d712ef6-68d6-4f23-a1dd-3cf94b8813c4",
              "guid": "8ef2f82e-9863-4d96-9bb6-bd7aab7dcac5",
              "options": null,
              "position": {
                "x": 0,
                "y": 80,
                "height": 1,
                "width": 12,
                "z": null
              },
              "elementType": "command"
            },
            {
              "elementNUID": "0b6b45b2-632b-43dd-a8e2-4ef427ebce3d",
              "guid": "940febd0-c519-4b91-9fec-4e960bbe7760",
              "options": null,
              "position": {
                "x": 0,
                "y": 44,
                "height": 2,
                "width": 12,
                "z": null
              },
              "elementType": "command"
            },
            {
              "elementNUID": "cb74393f-1f6e-44c8-bcea-6ee0c475270a",
              "guid": "9db7f274-b7fb-47c7-a2b1-ea2ea719e9f2",
              "options": null,
              "position": {
                "x": 0,
                "y": 147,
                "height": 6,
                "width": 12,
                "z": null
              },
              "elementType": "command"
            },
            {
              "elementNUID": "ab0d0a97-cb9d-44b4-ad6c-e0c0fbcdf47f",
              "guid": "9f2bdd45-615d-4a48-91ef-f4a9a1352a14",
              "options": null,
              "position": {
                "x": 0,
                "y": 188,
                "height": 6,
                "width": 12,
                "z": null
              },
              "elementType": "command"
            },
            {
              "elementNUID": "84263fb8-5965-4a60-82bd-f761270691ca",
              "guid": "9fe86fff-0ae7-4ef0-b862-91ae43be4101",
              "options": null,
              "position": {
                "x": 0,
                "y": 74,
                "height": 6,
                "width": 12,
                "z": null
              },
              "elementType": "command"
            },
            {
              "elementNUID": "b6afe82e-35d6-4358-9b79-8f56074e0908",
              "guid": "a1426d76-3fbd-47f7-b011-b24ac7b93fd6",
              "options": null,
              "position": {
                "x": 0,
                "y": 5,
                "height": 2,
                "width": 12,
                "z": null
              },
              "elementType": "command"
            },
            {
              "elementNUID": "1577055d-6909-4db2-b18b-5bf31e2a812f",
              "guid": "a1ca8228-f29e-465e-a4be-b40aefc6bc7a",
              "options": null,
              "position": {
                "x": 0,
                "y": 27,
                "height": 2,
                "width": 12,
                "z": null
              },
              "elementType": "command"
            },
            {
              "elementNUID": "fdf47c65-8320-430e-bf47-db9759bad8aa",
              "guid": "a3686da5-ab56-412e-988e-5d89839fb14b",
              "options": null,
              "position": {
                "x": 0,
                "y": 208,
                "height": 6,
                "width": 12,
                "z": null
              },
              "elementType": "command"
            },
            {
              "elementNUID": "d1701bbd-c69b-48d6-bb57-0d05a7268ffe",
              "guid": "a7aff5ac-f510-4d82-95db-77f034192d44",
              "options": null,
              "position": {
                "x": 0,
                "y": 67,
                "height": 6,
                "width": 12,
                "z": null
              },
              "elementType": "command"
            },
            {
              "elementNUID": "93fe4676-aaca-4b98-80a8-69d857c4057d",
              "guid": "a904360e-8fe6-436f-b15b-50b7b027e3bf",
              "options": null,
              "position": {
                "x": 0,
                "y": 123,
                "height": 6,
                "width": 12,
                "z": null
              },
              "elementType": "command"
            },
            {
              "elementNUID": "f514374f-0cbd-476a-bede-de3e3bc6910a",
              "guid": "ac7d3cab-090a-4859-a393-b0f7d326d19f",
              "options": null,
              "position": {
                "x": 0,
                "y": 164,
                "height": 6,
                "width": 12,
                "z": null
              },
              "elementType": "command"
            },
            {
              "elementNUID": "cba30188-f4ae-4e37-8fc8-ff4226144ec4",
              "guid": "acd2f9e1-9d8e-4e0c-93e3-07bb4abf26f8",
              "options": null,
              "position": {
                "x": 0,
                "y": 9,
                "height": 2,
                "width": 12,
                "z": null
              },
              "elementType": "command"
            },
            {
              "elementNUID": "cbc65fee-82aa-40ee-994f-fc6a7490d190",
              "guid": "adff8e12-cc4f-436a-a987-366421d1613b",
              "options": null,
              "position": {
                "x": 0,
                "y": 121,
                "height": 2,
                "width": 12,
                "z": null
              },
              "elementType": "command"
            },
            {
              "elementNUID": "c83482f0-a072-4bf5-8c61-55ed37021a5a",
              "guid": "b34f7996-bcf0-4021-ac0b-55ba2158efb1",
              "options": null,
              "position": {
                "x": 0,
                "y": 170,
                "height": 2,
                "width": 12,
                "z": null
              },
              "elementType": "command"
            },
            {
              "elementNUID": "c37903e0-d9bc-49f9-9e1d-6756419344f1",
              "guid": "bd859d00-a580-47f6-b662-f97b3239a821",
              "options": null,
              "position": {
                "x": 0,
                "y": 88,
                "height": 6,
                "width": 12,
                "z": null
              },
              "elementType": "command"
            },
            {
              "elementNUID": "e68d6366-136e-4044-a5e7-49bf05c8cd95",
              "guid": "be7621b9-8593-455d-b964-f175bebc81f2",
              "options": null,
              "position": {
                "x": 0,
                "y": 129,
                "height": 2,
                "width": 12,
                "z": null
              },
              "elementType": "command"
            },
            {
              "elementNUID": "538800ba-6d08-40a7-b6b6-829b40085742",
              "guid": "c23995ca-72a7-4427-a6d1-afa688939e7c",
              "options": null,
              "position": {
                "x": 0,
                "y": 0,
                "height": 3,
                "width": 12,
                "z": null
              },
              "elementType": "command"
            },
            {
              "elementNUID": "19fa455b-45a4-4a48-9ddb-c5a641bbd817",
              "guid": "c2471e6c-252b-4bd0-a71a-770ae09eeb78",
              "options": null,
              "position": {
                "x": 0,
                "y": 104,
                "height": 1,
                "width": 12,
                "z": null
              },
              "elementType": "command"
            },
            {
              "elementNUID": "af61c09e-8cd4-43f0-9a5e-bd8705817bc4",
              "guid": "c417f12e-c35f-4614-b416-43264272f197",
              "options": null,
              "position": {
                "x": 0,
                "y": 194,
                "height": 2,
                "width": 12,
                "z": null
              },
              "elementType": "command"
            },
            {
              "elementNUID": "9625d00a-4c35-41ba-affe-524bac845126",
              "guid": "c9576005-d7fd-492e-af72-af911c130554",
              "options": null,
              "position": {
                "x": 0,
                "y": 38,
                "height": 6,
                "width": 12,
                "z": null
              },
              "elementType": "command"
            },
            {
              "elementNUID": "ec1708ce-f953-4bf2-accb-d7fc838ac24f",
              "guid": "c9ccfa48-3fb9-44ce-9f18-0dc1e190d793",
              "options": null,
              "position": {
                "x": 0,
                "y": 196,
                "height": 2,
                "width": 12,
                "z": null
              },
              "elementType": "command"
            },
            {
              "elementNUID": "847f2150-a537-4105-9603-eddefce522da",
              "guid": "cb62d1a3-e527-44a8-9a1e-92b1c564edde",
              "options": null,
              "position": {
                "x": 0,
                "y": 200,
                "height": 6,
                "width": 12,
                "z": null
              },
              "elementType": "command"
            },
            {
              "elementNUID": "8181fc8d-066d-4ca3-88d7-a97614dca3f4",
              "guid": "d1918135-6c0e-44df-a1ce-2357f133b00c",
              "options": null,
              "position": {
                "x": 0,
                "y": 66,
                "height": 1,
                "width": 12,
                "z": null
              },
              "elementType": "command"
            },
            {
              "elementNUID": "7a5123a9-6922-43bf-adf2-3ca09a00345a",
              "guid": "dac5e3f1-bfec-419f-8da2-a306833ad4d5",
              "options": null,
              "position": {
                "x": 0,
                "y": 172,
                "height": 6,
                "width": 12,
                "z": null
              },
              "elementType": "command"
            },
            {
              "elementNUID": "23f49fe8-1c71-4689-9678-58f7b45f0e94",
              "guid": "de126761-7a12-40b4-af6f-d0ea53591d9c",
              "options": null,
              "position": {
                "x": 0,
                "y": 98,
                "height": 6,
                "width": 12,
                "z": null
              },
              "elementType": "command"
            },
            {
              "elementNUID": "61e0e693-a9a0-4e2e-8d51-45ca38e142c3",
              "guid": "e2ddd24e-16c2-41ac-a512-7c52b3ea1378",
              "options": null,
              "position": {
                "x": 0,
                "y": 115,
                "height": 6,
                "width": 12,
                "z": null
              },
              "elementType": "command"
            },
            {
              "elementNUID": "686a3ab5-5331-4f16-b8cc-be1c36a60384",
              "guid": "e5671d03-e164-48d9-a504-7348746454df",
              "options": null,
              "position": {
                "x": 0,
                "y": 81,
                "height": 6,
                "width": 12,
                "z": null
              },
              "elementType": "command"
            },
            {
              "elementNUID": "6f215790-9cd6-4489-b334-1da39461919c",
              "guid": "eafa8853-29da-4eeb-8126-55474014d7f4",
              "options": null,
              "position": {
                "x": 0,
                "y": 94,
                "height": 4,
                "width": 15,
                "z": null
              },
              "elementType": "command"
            },
            {
              "elementNUID": "0f81a426-374f-49cd-b1e3-cb111c30f88b",
              "guid": "f0a68839-26fd-4e30-81da-c83467db345c",
              "options": null,
              "position": {
                "x": 0,
                "y": 21,
                "height": 6,
                "width": 12,
                "z": null
              },
              "elementType": "command"
            },
            {
              "elementNUID": "6f7d7262-8f0f-4b10-a152-9fbeeb05a8c8",
              "guid": "f5850098-8dc7-4010-bd8f-d9d22b518ea5",
              "options": null,
              "position": {
                "x": 0,
                "y": 206,
                "height": 2,
                "width": 12,
                "z": null
              },
              "elementType": "command"
            },
            {
              "elementNUID": "9a7b7b61-6f71-4ba2-984a-09b552985d29",
              "guid": "f8a42128-0efd-4fe3-9ab6-6af7a1c907fd",
              "options": null,
              "position": {
                "x": 0,
                "y": 31,
                "height": 6,
                "width": 12,
                "z": null
              },
              "elementType": "command"
            },
            {
              "elementNUID": "bad34653-26b5-4d31-ace9-736d13a63c06",
              "guid": "fd691b0e-0bb5-4d6b-8ae9-1dea859886a7",
              "options": null,
              "position": {
                "x": 0,
                "y": 87,
                "height": 1,
                "width": 12,
                "z": null
              },
              "elementType": "command"
            }
          ],
          "guid": "ae7093e1-f12c-49be-87e1-097c1566e0eb",
          "layoutOption": {
            "stack": true,
            "grid": true
          },
          "version": "DashboardViewV1",
          "nuid": "7f52f4e5-dbf1-4115-ad63-488830d101c0",
          "origId": 3626742592686197,
          "title": "Untitled",
          "width": 1024,
          "globalVars": {}
        }
      ],
      "notebookMetadata": {
        "pythonIndentUnit": 2
      },
      "language": "python",
      "widgets": {},
      "notebookOrigID": 3626742592686055
    },
    "colab": {
      "name": "TME1_2021.ipynb",
      "provenance": [],
      "toc_visible": true,
      "include_colab_link": true
    }
  },
  "cells": [
    {
      "cell_type": "markdown",
      "metadata": {
        "id": "view-in-github",
        "colab_type": "text"
      },
      "source": [
        "<a href=\"https://colab.research.google.com/github/veroorli/ProjetProg/blob/master/TME1_2021.ipynb\" target=\"_parent\"><img src=\"https://colab.research.google.com/assets/colab-badge.svg\" alt=\"Open In Colab\"/></a>"
      ]
    },
    {
      "cell_type": "markdown",
      "metadata": {
        "application/vnd.databricks.v1+cell": {
          "title": "",
          "showTitle": false,
          "inputWidgets": {},
          "nuid": "538800ba-6d08-40a7-b6b6-829b40085742"
        },
        "id": "RPpMO0GMfEJP"
      },
      "source": [
        "# SUJET SEUL \n",
        "\n",
        "Afficher le panneau latéral avec la table des matières"
      ]
    },
    {
      "cell_type": "markdown",
      "metadata": {
        "application/vnd.databricks.v1+cell": {
          "title": "",
          "showTitle": false,
          "inputWidgets": {},
          "nuid": "9e7429e6-250a-4a64-b957-567747ef44de"
        },
        "id": "d8-g7a_hfEJR"
      },
      "source": [
        "# BDLE TP1 IMDB avec Databricks\n",
        "\n",
        "révision du 24-09-2021"
      ]
    },
    {
      "cell_type": "markdown",
      "metadata": {
        "application/vnd.databricks.v1+cell": {
          "title": "",
          "showTitle": false,
          "inputWidgets": {},
          "nuid": "b15737ae-19bd-4b9f-b9f3-52388cc5e50e"
        },
        "id": "w8E5rAFwfEJS"
      },
      "source": [
        "## Préparation"
      ]
    },
    {
      "cell_type": "markdown",
      "metadata": {
        "application/vnd.databricks.v1+cell": {
          "title": "",
          "showTitle": false,
          "inputWidgets": {},
          "nuid": "b6afe82e-35d6-4358-9b79-8f56074e0908"
        },
        "id": "rQ8_6iWLfEJS"
      },
      "source": [
        "Commencer par attacher le notebook à un cluster. Cela démarre les resources de calcul pour traiter les cellules du notebook. Une façon simple de démarrer un cluster est de demander à exécuter une cellule du notebook :"
      ]
    },
    {
      "cell_type": "code",
      "metadata": {
        "application/vnd.databricks.v1+cell": {
          "title": "",
          "showTitle": false,
          "inputWidgets": {},
          "nuid": "b1540076-9b4c-4e59-9ec0-b30aba76cc68"
        },
        "id": "cE2ReR7zfEJS",
        "outputId": "2079f5b3-1882-4920-bb12-11d4933a7b71"
      },
      "source": [
        "spark"
      ],
      "execution_count": null,
      "outputs": [
        {
          "output_type": "display_data",
          "metadata": {
            "application/vnd.databricks.v1+output": {
              "datasetInfos": [],
              "data": "\n            <div>\n                <p><b>SparkSession - hive</b></p>\n                \n        <div>\n            <p><b>SparkContext</b></p>\n\n            <p><a href=\"/?o=2012043550743128#setting/sparkui/0925-091842-tiled0018167/driver-5127575654906820533\">Spark UI</a></p>\n\n            <dl>\n              <dt>Version</dt>\n                <dd><code>v3.1.0</code></dd>\n              <dt>Master</dt>\n                <dd><code>local[8]</code></dd>\n              <dt>AppName</dt>\n                <dd><code>Databricks Shell</code></dd>\n            </dl>\n        </div>\n        \n            </div>\n        ",
              "textData": null,
              "removedWidgets": [],
              "addedWidgets": {},
              "metadata": {},
              "type": "htmlSandbox",
              "arguments": {}
            }
          },
          "data": {
            "text/html": [
              "\n            <div>\n                <p><b>SparkSession - hive</b></p>\n                \n        <div>\n            <p><b>SparkContext</b></p>\n\n            <p><a href=\"/?o=2012043550743128#setting/sparkui/0925-091842-tiled0018167/driver-5127575654906820533\">Spark UI</a></p>\n\n            <dl>\n              <dt>Version</dt>\n                <dd><code>v3.1.0</code></dd>\n              <dt>Master</dt>\n                <dd><code>local[8]</code></dd>\n              <dt>AppName</dt>\n                <dd><code>Databricks Shell</code></dd>\n            </dl>\n        </div>\n        \n            </div>\n        "
            ]
          }
        }
      ]
    },
    {
      "cell_type": "markdown",
      "metadata": {
        "application/vnd.databricks.v1+cell": {
          "title": "",
          "showTitle": false,
          "inputWidgets": {},
          "nuid": "cb9b4b91-d7a4-4d6f-b8fd-4f81069ee9bb"
        },
        "id": "N6LsVbg-fEJT"
      },
      "source": [
        "On ajuste l'environnement d'exécution des requêtes à la taille du cluster (8 coeurs)"
      ]
    },
    {
      "cell_type": "code",
      "metadata": {
        "application/vnd.databricks.v1+cell": {
          "title": "",
          "showTitle": false,
          "inputWidgets": {},
          "nuid": "852847c4-bd45-4f9c-ae8b-2c704f389cf9"
        },
        "id": "DphIg9K5fEJT",
        "outputId": "ae15d3cd-1afb-4251-f8a1-9d4337b5db9f"
      },
      "source": [
        "# on utilise 8 partitions au lieu de 200 par défaut\n",
        "spark.conf.set(\"spark.sql.shuffle.partitions\", \"8\")\n",
        "print(\"Nombre de partitions utilisées : \", spark.conf.get(\"spark.sql.shuffle.partitions\"))"
      ],
      "execution_count": null,
      "outputs": [
        {
          "output_type": "display_data",
          "metadata": {
            "application/vnd.databricks.v1+output": {
              "datasetInfos": [],
              "data": "<div class='ansiout'>Nombre de partitions utilis&eacute;es :  8\n</div>",
              "removedWidgets": [],
              "addedWidgets": {},
              "metadata": {},
              "type": "html",
              "arguments": {}
            }
          },
          "data": {
            "text/html": [
              "<style scoped>\n  .ansiout {\n    display: block;\n    unicode-bidi: embed;\n    white-space: pre-wrap;\n    word-wrap: break-word;\n    word-break: break-all;\n    font-family: \"Source Code Pro\", \"Menlo\", monospace;;\n    font-size: 13px;\n    color: #555;\n    margin-left: 4px;\n    line-height: 19px;\n  }\n</style>\n<div class='ansiout'>Nombre de partitions utilis&eacute;es :  8\n</div>"
            ]
          }
        }
      ]
    },
    {
      "cell_type": "markdown",
      "metadata": {
        "application/vnd.databricks.v1+cell": {
          "title": "",
          "showTitle": false,
          "inputWidgets": {},
          "nuid": "cba30188-f4ae-4e37-8fc8-ff4226144ec4"
        },
        "id": "UdFkEucHfEJU"
      },
      "source": [
        "### Uploader les datasets de IMDB"
      ]
    },
    {
      "cell_type": "code",
      "metadata": {
        "application/vnd.databricks.v1+cell": {
          "title": "",
          "showTitle": false,
          "inputWidgets": {},
          "nuid": "8a1fead0-61e4-4d04-a2c0-7858f767b0a1"
        },
        "id": "x590MnRQfEJU",
        "outputId": "b163f3e3-9d2c-4a7d-e1d7-16ff0ba4bf18"
      },
      "source": [
        "# URL du dossier PUBLIC_DATASET contenant des fichiers de données pour les TP\n",
        "# ---------------------------------------------------------------------------\n",
        "# en cas de problème avec le téléchargement des datasets, aller directement sur l'URL ci-dessous\n",
        "PUBLIC_DATASET_URL = \"https://nuage.lip6.fr/s/H3bpyRGgnCq2NR4\" \n",
        "PUBLIC_DATASET=PUBLIC_DATASET_URL + \"/download?path=\"\n",
        "\n",
        "print(\"URL pour les datasets \", PUBLIC_DATASET_URL)"
      ],
      "execution_count": null,
      "outputs": [
        {
          "output_type": "display_data",
          "metadata": {
            "application/vnd.databricks.v1+output": {
              "datasetInfos": [],
              "data": "<div class='ansiout'>URL pour les datasets  https://nuage.lip6.fr/s/H3bpyRGgnCq2NR4\n</div>",
              "removedWidgets": [],
              "addedWidgets": {},
              "metadata": {},
              "type": "html",
              "arguments": {}
            }
          },
          "data": {
            "text/html": [
              "<style scoped>\n  .ansiout {\n    display: block;\n    unicode-bidi: embed;\n    white-space: pre-wrap;\n    word-wrap: break-word;\n    word-break: break-all;\n    font-family: \"Source Code Pro\", \"Menlo\", monospace;;\n    font-size: 13px;\n    color: #555;\n    margin-left: 4px;\n    line-height: 19px;\n  }\n</style>\n<div class='ansiout'>URL pour les datasets  https://nuage.lip6.fr/s/H3bpyRGgnCq2NR4\n</div>"
            ]
          }
        }
      ]
    },
    {
      "cell_type": "markdown",
      "metadata": {
        "application/vnd.databricks.v1+cell": {
          "title": "",
          "showTitle": false,
          "inputWidgets": {},
          "nuid": "3e87c3ac-90f1-4af3-a7de-4eeae57fc663"
        },
        "id": "-MBhvuP2fEJV"
      },
      "source": [
        "Télécharger les fichiers de IMDB directement sur le cluster databricks, sans passer par votre ordinateur perso"
      ]
    },
    {
      "cell_type": "code",
      "metadata": {
        "application/vnd.databricks.v1+cell": {
          "title": "",
          "showTitle": false,
          "inputWidgets": {},
          "nuid": "c88544ad-517a-4177-af95-812d2b05cbfc"
        },
        "id": "8Cvqdf85fEJV",
        "outputId": "3ddc7f5e-d0aa-437f-d593-d95b3164b217"
      },
      "source": [
        "%sh\n",
        "mkdir -p /temp\n",
        "wget --no-verbose  https://nuage.lip6.fr/s/H3bpyRGgnCq2NR4/download?path=/imdb/vldb2015/csvfiles_sample001.tgz -O /temp/csvfiles_sample001.tgz\n",
        "cd /temp && tar zxf /temp/csvfiles_sample001.tgz\n",
        "ls -lh /temp"
      ],
      "execution_count": null,
      "outputs": [
        {
          "output_type": "display_data",
          "metadata": {
            "application/vnd.databricks.v1+output": {
              "datasetInfos": [],
              "data": "<div class='ansiout'>2021-09-25 09:24:20 URL:https://nuage.lip6.fr/s/H3bpyRGgnCq2NR4/download?path=/imdb/vldb2015/csvfiles_sample001.tgz [73571656/73571656] -&gt; &quot;/temp/csvfiles_sample001.tgz&quot; [1]\n</div>",
              "removedWidgets": [],
              "addedWidgets": {},
              "metadata": {},
              "type": "html",
              "arguments": {}
            }
          },
          "data": {
            "text/html": [
              "<style scoped>\n  .ansiout {\n    display: block;\n    unicode-bidi: embed;\n    white-space: pre-wrap;\n    word-wrap: break-word;\n    word-break: break-all;\n    font-family: \"Source Code Pro\", \"Menlo\", monospace;;\n    font-size: 13px;\n    color: #555;\n    margin-left: 4px;\n    line-height: 19px;\n  }\n</style>\n<div class='ansiout'>2021-09-25 09:24:20 URL:https://nuage.lip6.fr/s/H3bpyRGgnCq2NR4/download?path=/imdb/vldb2015/csvfiles_sample001.tgz [73571656/73571656] -&gt; &quot;/temp/csvfiles_sample001.tgz&quot; [1]\n</div>"
            ]
          }
        },
        {
          "output_type": "display_data",
          "metadata": {
            "application/vnd.databricks.v1+output": {
              "datasetInfos": [],
              "data": "<div class='ansiout'>total 71M\n</div>",
              "removedWidgets": [],
              "addedWidgets": {},
              "metadata": {},
              "type": "html",
              "arguments": {}
            }
          },
          "data": {
            "text/html": [
              "<style scoped>\n  .ansiout {\n    display: block;\n    unicode-bidi: embed;\n    white-space: pre-wrap;\n    word-wrap: break-word;\n    word-break: break-all;\n    font-family: \"Source Code Pro\", \"Menlo\", monospace;;\n    font-size: 13px;\n    color: #555;\n    margin-left: 4px;\n    line-height: 19px;\n  }\n</style>\n<div class='ansiout'>total 71M\n</div>"
            ]
          }
        },
        {
          "output_type": "display_data",
          "metadata": {
            "application/vnd.databricks.v1+output": {
              "datasetInfos": [],
              "data": "<div class='ansiout'>drwxr-xr-x 2 50077  203 4.0K Sep 12  2019 csvfiles_sample001\n</div>",
              "removedWidgets": [],
              "addedWidgets": {},
              "metadata": {},
              "type": "html",
              "arguments": {}
            }
          },
          "data": {
            "text/html": [
              "<style scoped>\n  .ansiout {\n    display: block;\n    unicode-bidi: embed;\n    white-space: pre-wrap;\n    word-wrap: break-word;\n    word-break: break-all;\n    font-family: \"Source Code Pro\", \"Menlo\", monospace;;\n    font-size: 13px;\n    color: #555;\n    margin-left: 4px;\n    line-height: 19px;\n  }\n</style>\n<div class='ansiout'>drwxr-xr-x 2 50077  203 4.0K Sep 12  2019 csvfiles_sample001\n</div>"
            ]
          }
        },
        {
          "output_type": "display_data",
          "metadata": {
            "application/vnd.databricks.v1+output": {
              "datasetInfos": [],
              "data": "<div class='ansiout'>-rw-r--r-- 1 root  root  71M Sep 25 09:24 csvfiles_sample001.tgz\n</div>",
              "removedWidgets": [],
              "addedWidgets": {},
              "metadata": {},
              "type": "html",
              "arguments": {}
            }
          },
          "data": {
            "text/html": [
              "<style scoped>\n  .ansiout {\n    display: block;\n    unicode-bidi: embed;\n    white-space: pre-wrap;\n    word-wrap: break-word;\n    word-break: break-all;\n    font-family: \"Source Code Pro\", \"Menlo\", monospace;;\n    font-size: 13px;\n    color: #555;\n    margin-left: 4px;\n    line-height: 19px;\n  }\n</style>\n<div class='ansiout'>-rw-r--r-- 1 root  root  71M Sep 25 09:24 csvfiles_sample001.tgz\n</div>"
            ]
          }
        }
      ]
    },
    {
      "cell_type": "markdown",
      "metadata": {
        "application/vnd.databricks.v1+cell": {
          "title": "",
          "showTitle": false,
          "inputWidgets": {},
          "nuid": "79374715-17c6-42ea-80b5-f34359f79709"
        },
        "id": "6AKEQrFSfEJW"
      },
      "source": [
        "Définir le nom du dossier contenant les fichiers csv de IMDB"
      ]
    },
    {
      "cell_type": "code",
      "metadata": {
        "application/vnd.databricks.v1+cell": {
          "title": "",
          "showTitle": false,
          "inputWidgets": {},
          "nuid": "0338a3dd-5763-4b27-8560-8c879af99bcf"
        },
        "id": "kASZwnpZfEJW",
        "outputId": "0ce8784a-559e-4308-bfb0-33865221d774"
      },
      "source": [
        "imdb_dir = \"/FileStore/tables/imdb/\"\n",
        "print (\"le dossier pour les fichiers de IMDB est:\", imdb_dir)"
      ],
      "execution_count": null,
      "outputs": [
        {
          "output_type": "display_data",
          "metadata": {
            "application/vnd.databricks.v1+output": {
              "datasetInfos": [],
              "data": "<div class='ansiout'>le dossier pour les fichiers de IMDB est: /FileStore/tables/imdb/\n</div>",
              "removedWidgets": [],
              "addedWidgets": {},
              "metadata": {},
              "type": "html",
              "arguments": {}
            }
          },
          "data": {
            "text/html": [
              "<style scoped>\n  .ansiout {\n    display: block;\n    unicode-bidi: embed;\n    white-space: pre-wrap;\n    word-wrap: break-word;\n    word-break: break-all;\n    font-family: \"Source Code Pro\", \"Menlo\", monospace;;\n    font-size: 13px;\n    color: #555;\n    margin-left: 4px;\n    line-height: 19px;\n  }\n</style>\n<div class='ansiout'>le dossier pour les fichiers de IMDB est: /FileStore/tables/imdb/\n</div>"
            ]
          }
        }
      ]
    },
    {
      "cell_type": "markdown",
      "metadata": {
        "application/vnd.databricks.v1+cell": {
          "title": "",
          "showTitle": false,
          "inputWidgets": {},
          "nuid": "a9f1146b-754f-42c1-8896-bfb8d84fb910"
        },
        "id": "aenoDj2tfEJW"
      },
      "source": [
        "Copier les fichiers de IMDB dans DBFS"
      ]
    },
    {
      "cell_type": "code",
      "metadata": {
        "application/vnd.databricks.v1+cell": {
          "title": "",
          "showTitle": false,
          "inputWidgets": {},
          "nuid": "fb249f56-41ca-4017-b1a9-0faa5ec99df5"
        },
        "id": "LSHI9d5_fEJW",
        "outputId": "26b66216-28d3-409f-97fa-52154035e666"
      },
      "source": [
        "dbutils.fs.mkdirs(imdb_dir)\n",
        "dbutils.fs.cp(\"file:/temp/csvfiles_sample001\", imdb_dir, recurse=True)"
      ],
      "execution_count": null,
      "outputs": [
        {
          "output_type": "display_data",
          "metadata": {
            "application/vnd.databricks.v1+output": {
              "datasetInfos": [],
              "data": "<div class='ansiout'>True</div>",
              "removedWidgets": [],
              "addedWidgets": {},
              "metadata": {},
              "type": "html",
              "arguments": {}
            }
          },
          "data": {
            "text/html": [
              "<style scoped>\n  .ansiout {\n    display: block;\n    unicode-bidi: embed;\n    white-space: pre-wrap;\n    word-wrap: break-word;\n    word-break: break-all;\n    font-family: \"Source Code Pro\", \"Menlo\", monospace;;\n    font-size: 13px;\n    color: #555;\n    margin-left: 4px;\n    line-height: 19px;\n  }\n</style>\n<div class='ansiout'>True</div>"
            ]
          }
        }
      ]
    },
    {
      "cell_type": "markdown",
      "metadata": {
        "application/vnd.databricks.v1+cell": {
          "title": "",
          "showTitle": false,
          "inputWidgets": {},
          "nuid": "6700d2e5-958d-4c04-8072-c6f261668755"
        },
        "id": "PPA8J8YsfEJW"
      },
      "source": [
        "Liste des fichiers IMDB :"
      ]
    },
    {
      "cell_type": "code",
      "metadata": {
        "application/vnd.databricks.v1+cell": {
          "title": "",
          "showTitle": false,
          "inputWidgets": {},
          "nuid": "0f81a426-374f-49cd-b1e3-cb111c30f88b"
        },
        "id": "tHTKbuiqfEJX"
      },
      "source": [
        "display(dbutils.fs.ls(imdb_dir))"
      ],
      "execution_count": null,
      "outputs": []
    },
    {
      "cell_type": "markdown",
      "metadata": {
        "application/vnd.databricks.v1+cell": {
          "title": "",
          "showTitle": false,
          "inputWidgets": {},
          "nuid": "c82a9838-8c1d-40a3-8497-4c31a5afa5ec"
        },
        "id": "pK8HoP0zfEJX"
      },
      "source": [
        "Cette étape est **FACULTATIVE**\n",
        "\n",
        "Ne **pas** faire cette étape si vous avez déjà importé les données du TP dans votre espace de stockage Databricks.\n",
        "\n",
        "Télécharger l'archive contenant les fichiers IMDB.\n",
        "Dans PUBLIC_DATASET https://nuage.lip6.fr/s/H3bpyRGgnCq2NR4\n",
        "aller dans le dossier imdb/vldb2015 et télécharger le fichier csvfiles_sample001.tgz\n",
        "\n",
        "Lien direct :\n",
        "https://nuage.lip6.fr/s/H3bpyRGgnCq2NR4/download?path=/imdb/vldb2015&files=csvfiles_sample001.tgz\n",
        "\n",
        "Extraire les fichiers csv de l'archive\n",
        "\n",
        "Menu Data -> Add Data\n",
        "Sélectionner un nouveau dossier pour _DBFS target directory_  /FileStore/tables/**imdb**\n",
        "puis uploader tous les fichiers csv dans ce directory."
      ]
    },
    {
      "cell_type": "markdown",
      "metadata": {
        "application/vnd.databricks.v1+cell": {
          "title": "",
          "showTitle": false,
          "inputWidgets": {},
          "nuid": "1577055d-6909-4db2-b18b-5bf31e2a812f"
        },
        "id": "Dzflx-P0fEJX"
      },
      "source": [
        "## Définir les tables de la base IMDB"
      ]
    },
    {
      "cell_type": "markdown",
      "metadata": {
        "application/vnd.databricks.v1+cell": {
          "title": "",
          "showTitle": false,
          "inputWidgets": {},
          "nuid": "4916b307-fb50-46f6-a51b-d5496ba229a5"
        },
        "id": "r2eF0hRPfEJX"
      },
      "source": [
        "La table Title affecte un identifiant id à un film"
      ]
    },
    {
      "cell_type": "code",
      "metadata": {
        "application/vnd.databricks.v1+cell": {
          "title": "",
          "showTitle": false,
          "inputWidgets": {},
          "nuid": "9a7b7b61-6f71-4ba2-984a-09b552985d29"
        },
        "id": "L6jvoJY1fEJX"
      },
      "source": [
        "dir = \"/FileStore/tables/imdb/\"\n",
        "\n",
        "schema_title = \"\"\"\n",
        "          id INT, \n",
        "          title STRING, \n",
        "          imdb_index STRING, \n",
        "          kind_id INT, \n",
        "          production_year INT, \n",
        "          imdb_id INT, \n",
        "          phonetic_code STRING, \n",
        "          episode_id STRING,\n",
        "          season_nr INT, \n",
        "          episode_nr INT, \n",
        "          series_years STRING, \n",
        "          md5sum STRING\n",
        "        \"\"\"\n",
        "\n",
        "title = spark.read.csv(path = dir + \"title.csv\", schema = schema_title).persist()\n",
        "title.createOrReplaceTempView(\"Title\")\n",
        "display(title)"
      ],
      "execution_count": null,
      "outputs": []
    },
    {
      "cell_type": "markdown",
      "metadata": {
        "application/vnd.databricks.v1+cell": {
          "title": "",
          "showTitle": false,
          "inputWidgets": {},
          "nuid": "70ffeca1-0c87-4ba9-922d-ccd0e58e150e"
        },
        "id": "Vcl-tMeQfEJY"
      },
      "source": [
        "La table Kind_type"
      ]
    },
    {
      "cell_type": "code",
      "metadata": {
        "application/vnd.databricks.v1+cell": {
          "title": "",
          "showTitle": false,
          "inputWidgets": {},
          "nuid": "9625d00a-4c35-41ba-affe-524bac845126"
        },
        "id": "ZPuItYm4fEJY",
        "outputId": "e38764ce-928e-4027-ed37-29fdbd24a915"
      },
      "source": [
        "#============\n",
        "# Kind_Type\n",
        "#============\n",
        "schema_kind_type = \"id INT, kind STRING\"\n",
        "\n",
        "kind_type = spark.read.csv(path = dir + \"kind_type.csv\", schema = schema_kind_type).persist()\n",
        "\n",
        "kind_type.createOrReplaceTempView(\"Kind_Type\")\n",
        "#kind_type.printSchema()\n",
        "display(kind_type)"
      ],
      "execution_count": null,
      "outputs": [
        {
          "output_type": "display_data",
          "metadata": {
            "application/vnd.databricks.v1+output": {
              "overflow": false,
              "datasetInfos": [],
              "data": [
                [
                  1,
                  "movie"
                ],
                [
                  2,
                  "tv series"
                ],
                [
                  3,
                  "tv movie"
                ],
                [
                  4,
                  "video movie"
                ],
                [
                  5,
                  "tv mini series"
                ],
                [
                  6,
                  "video game"
                ],
                [
                  7,
                  "episode"
                ]
              ],
              "plotOptions": {
                "displayType": "table",
                "customPlotOptions": {},
                "pivotColumns": [],
                "pivotAggregation": null,
                "xColumns": [],
                "yColumns": []
              },
              "columnCustomDisplayInfos": {},
              "aggType": "",
              "isJsonSchema": true,
              "removedWidgets": [],
              "aggSchema": [],
              "schema": [
                {
                  "name": "id",
                  "type": "\"integer\"",
                  "metadata": "{}"
                },
                {
                  "name": "kind",
                  "type": "\"string\"",
                  "metadata": "{}"
                }
              ],
              "aggError": "",
              "aggData": [],
              "addedWidgets": {},
              "metadata": {},
              "dbfsResultPath": null,
              "type": "table",
              "aggOverflow": false,
              "aggSeriesLimitReached": false,
              "arguments": {}
            }
          },
          "data": {
            "text/html": [
              "<style scoped>\n  .table-result-container {\n    max-height: 300px;\n    overflow: auto;\n  }\n  table, th, td {\n    border: 1px solid black;\n    border-collapse: collapse;\n  }\n  th, td {\n    padding: 5px;\n  }\n  th {\n    text-align: left;\n  }\n</style><div class='table-result-container'><table class='table-result'><thead style='background-color: white'><tr><th>id</th><th>kind</th></tr></thead><tbody><tr><td>1</td><td>movie</td></tr><tr><td>2</td><td>tv series</td></tr><tr><td>3</td><td>tv movie</td></tr><tr><td>4</td><td>video movie</td></tr><tr><td>5</td><td>tv mini series</td></tr><tr><td>6</td><td>video game</td></tr><tr><td>7</td><td>episode</td></tr></tbody></table></div>"
            ]
          }
        }
      ]
    },
    {
      "cell_type": "markdown",
      "metadata": {
        "application/vnd.databricks.v1+cell": {
          "title": "",
          "showTitle": false,
          "inputWidgets": {},
          "nuid": "0b6b45b2-632b-43dd-a8e2-4ef427ebce3d"
        },
        "id": "bnwYsHh1fEJY"
      },
      "source": [
        "La table Info_type indique la nature d'un attribut d'information. \n",
        "Sert dans Movie_Info, Person_Info"
      ]
    },
    {
      "cell_type": "code",
      "metadata": {
        "application/vnd.databricks.v1+cell": {
          "title": "",
          "showTitle": false,
          "inputWidgets": {},
          "nuid": "047d52a6-482e-46d9-82c8-d3d85dc7f3ed"
        },
        "id": "o-7f9Jo8fEJY"
      },
      "source": [
        "#==============\n",
        "# Info_Type\n",
        "#==============\n",
        "schema_info_type = \"id INT, info STRING\"\n",
        "\n",
        "info_type = spark.read.csv(path = dir + \"info_type.csv\", schema = schema_info_type).persist()\n",
        "\n",
        "info_type.createOrReplaceTempView(\"Info_Type\")\n",
        "#info_type.printSchema()\n",
        "\n",
        "display(info_type)"
      ],
      "execution_count": null,
      "outputs": []
    },
    {
      "cell_type": "markdown",
      "metadata": {
        "application/vnd.databricks.v1+cell": {
          "title": "",
          "showTitle": false,
          "inputWidgets": {},
          "nuid": "416e4ed6-56f4-44b6-97bc-95d31da350fe"
        },
        "id": "-YvCXi6ufEJY"
      },
      "source": [
        "La table Movie_info"
      ]
    },
    {
      "cell_type": "code",
      "metadata": {
        "application/vnd.databricks.v1+cell": {
          "title": "",
          "showTitle": false,
          "inputWidgets": {},
          "nuid": "51093e36-41d7-45bc-9ac9-538d0ad06cdf"
        },
        "id": "Ygtc3SCXfEJY"
      },
      "source": [
        "#==============\n",
        "# Movie_Info\n",
        "#==============\n",
        "schema_movie_info = \"\"\"\n",
        "    id int,\n",
        "    movie_id int,\n",
        "    info_type_id int,\n",
        "    info string,\n",
        "    note string\n",
        "\"\"\"\n",
        "\n",
        "movie_info = spark.read.csv(path = dir + \"movie_info.csv\", schema = schema_movie_info).persist()\n",
        "\n",
        "movie_info.createOrReplaceTempView(\"Movie_Info\")\n",
        "#movie_info.printSchema()\n",
        "\n",
        "display(movie_info)"
      ],
      "execution_count": null,
      "outputs": []
    },
    {
      "cell_type": "markdown",
      "metadata": {
        "application/vnd.databricks.v1+cell": {
          "title": "",
          "showTitle": false,
          "inputWidgets": {},
          "nuid": "9582d65f-6ff6-4001-aae8-6d354db1567b"
        },
        "id": "vKi29EoPfEJZ"
      },
      "source": [
        "La table Cast_Info"
      ]
    },
    {
      "cell_type": "code",
      "metadata": {
        "application/vnd.databricks.v1+cell": {
          "title": "",
          "showTitle": false,
          "inputWidgets": {},
          "nuid": "aafa7653-49a3-4915-b212-94bf433f313b"
        },
        "id": "FyWNnMiBfEJZ"
      },
      "source": [
        "#==============\n",
        "# Cast_Info\n",
        "#==============\n",
        "schema_cast_info = \"\"\"\n",
        "  id int,\n",
        "  person_id int,\n",
        "  movie_id int,\n",
        "  person_role_id int,\n",
        "  note string,\n",
        "  nr_order int,\n",
        "  role_id int\n",
        "\"\"\"\n",
        "\n",
        "cast_info = spark.read.csv(path = dir + \"cast_info.csv\", schema = schema_cast_info).persist()\n",
        "\n",
        "cast_info.createOrReplaceTempView(\"Cast_Info\")\n",
        "#cast_info.printSchema()\n",
        "\n",
        "display(cast_info)"
      ],
      "execution_count": null,
      "outputs": []
    },
    {
      "cell_type": "markdown",
      "metadata": {
        "application/vnd.databricks.v1+cell": {
          "title": "",
          "showTitle": false,
          "inputWidgets": {},
          "nuid": "8181fc8d-066d-4ca3-88d7-a97614dca3f4"
        },
        "id": "_tXd85HgfEJb"
      },
      "source": [
        "La table Role_type"
      ]
    },
    {
      "cell_type": "code",
      "metadata": {
        "application/vnd.databricks.v1+cell": {
          "title": "",
          "showTitle": false,
          "inputWidgets": {},
          "nuid": "d1701bbd-c69b-48d6-bb57-0d05a7268ffe"
        },
        "id": "hIE6MLqDfEJb",
        "outputId": "bda8b717-6c78-444c-f9da-dd66a9b4d7ec"
      },
      "source": [
        "#=============\n",
        "# Role_Type\n",
        "#=============\n",
        "schema_role_type = \"id INT, role STRING\"\n",
        "\n",
        "role_type = spark.read.csv(path = dir + \"role_type.csv\", schema = schema_role_type).persist()\n",
        "\n",
        "role_type.createOrReplaceTempView(\"Role_Type\")\n",
        "#role_type.printSchema()\n",
        "\n",
        "display(role_type)"
      ],
      "execution_count": null,
      "outputs": [
        {
          "output_type": "display_data",
          "metadata": {
            "application/vnd.databricks.v1+output": {
              "overflow": false,
              "datasetInfos": [],
              "data": [
                [
                  1,
                  "actor"
                ],
                [
                  2,
                  "actress"
                ],
                [
                  3,
                  "producer"
                ],
                [
                  4,
                  "writer"
                ],
                [
                  5,
                  "cinematographer"
                ],
                [
                  6,
                  "composer"
                ],
                [
                  7,
                  "costume designer"
                ],
                [
                  8,
                  "director"
                ],
                [
                  9,
                  "editor"
                ],
                [
                  10,
                  "miscellaneous crew"
                ],
                [
                  11,
                  "production designer"
                ],
                [
                  12,
                  "guest"
                ]
              ],
              "plotOptions": {
                "displayType": "table",
                "customPlotOptions": {},
                "pivotColumns": [],
                "pivotAggregation": null,
                "xColumns": [],
                "yColumns": []
              },
              "columnCustomDisplayInfos": {},
              "aggType": "",
              "isJsonSchema": true,
              "removedWidgets": [],
              "aggSchema": [],
              "schema": [
                {
                  "name": "id",
                  "type": "\"integer\"",
                  "metadata": "{}"
                },
                {
                  "name": "role",
                  "type": "\"string\"",
                  "metadata": "{}"
                }
              ],
              "aggError": "",
              "aggData": [],
              "addedWidgets": {},
              "metadata": {},
              "dbfsResultPath": null,
              "type": "table",
              "aggOverflow": false,
              "aggSeriesLimitReached": false,
              "arguments": {}
            }
          },
          "data": {
            "text/html": [
              "<style scoped>\n  .table-result-container {\n    max-height: 300px;\n    overflow: auto;\n  }\n  table, th, td {\n    border: 1px solid black;\n    border-collapse: collapse;\n  }\n  th, td {\n    padding: 5px;\n  }\n  th {\n    text-align: left;\n  }\n</style><div class='table-result-container'><table class='table-result'><thead style='background-color: white'><tr><th>id</th><th>role</th></tr></thead><tbody><tr><td>1</td><td>actor</td></tr><tr><td>2</td><td>actress</td></tr><tr><td>3</td><td>producer</td></tr><tr><td>4</td><td>writer</td></tr><tr><td>5</td><td>cinematographer</td></tr><tr><td>6</td><td>composer</td></tr><tr><td>7</td><td>costume designer</td></tr><tr><td>8</td><td>director</td></tr><tr><td>9</td><td>editor</td></tr><tr><td>10</td><td>miscellaneous crew</td></tr><tr><td>11</td><td>production designer</td></tr><tr><td>12</td><td>guest</td></tr></tbody></table></div>"
            ]
          }
        }
      ]
    },
    {
      "cell_type": "markdown",
      "metadata": {
        "application/vnd.databricks.v1+cell": {
          "title": "",
          "showTitle": false,
          "inputWidgets": {},
          "nuid": "93fd1b8c-937f-41f1-88b8-704a5225af12"
        },
        "id": "kglrqniofEJb"
      },
      "source": [
        "La table Name affecte un identifiant id à une personne"
      ]
    },
    {
      "cell_type": "code",
      "metadata": {
        "application/vnd.databricks.v1+cell": {
          "title": "",
          "showTitle": false,
          "inputWidgets": {},
          "nuid": "84263fb8-5965-4a60-82bd-f761270691ca"
        },
        "id": "eK3N4A5RfEJb"
      },
      "source": [
        "#==============\n",
        "# Name \n",
        "#==============\n",
        "schema_name = \"\"\"\n",
        "  id int,\n",
        "  name string,\n",
        "  imdb_index string,\n",
        "  imdb_id int,\n",
        "  gender string,\n",
        "  name_pcode_cf string,\n",
        "  name_pcode_nf string,\n",
        "  surname_pcode string,\n",
        "  md5sum string\n",
        "\"\"\"\n",
        "\n",
        "name = spark.read.csv(path = dir + \"name.csv\", schema = schema_name).persist()\n",
        "\n",
        "name.createOrReplaceTempView(\"Name\")\n",
        "#name.printSchema()\n",
        "\n",
        "display(name)"
      ],
      "execution_count": null,
      "outputs": []
    },
    {
      "cell_type": "markdown",
      "metadata": {
        "application/vnd.databricks.v1+cell": {
          "title": "",
          "showTitle": false,
          "inputWidgets": {},
          "nuid": "1d712ef6-68d6-4f23-a1dd-3cf94b8813c4"
        },
        "id": "mJ-4GxFpfEJb"
      },
      "source": [
        "La table Person_Info"
      ]
    },
    {
      "cell_type": "code",
      "metadata": {
        "application/vnd.databricks.v1+cell": {
          "title": "",
          "showTitle": false,
          "inputWidgets": {},
          "nuid": "686a3ab5-5331-4f16-b8cc-be1c36a60384"
        },
        "id": "bqW-SiVQfEJb"
      },
      "source": [
        "#==============\n",
        "# Person_Info\n",
        "#==============\n",
        "schema_person_info = \"\"\"\n",
        "  id int,\n",
        "  person_id int,\n",
        "  info_type_id int,\n",
        "  info string,\n",
        "  note string\n",
        "\"\"\"\n",
        "\n",
        "person_info = spark.read.csv(path = dir + \"person_info.csv\", schema = schema_person_info).persist()\n",
        "person_info.createOrReplaceTempView(\"Person_Info\")\n",
        "\n",
        "display(person_info)"
      ],
      "execution_count": null,
      "outputs": []
    },
    {
      "cell_type": "markdown",
      "metadata": {
        "application/vnd.databricks.v1+cell": {
          "title": "",
          "showTitle": false,
          "inputWidgets": {},
          "nuid": "bad34653-26b5-4d31-ace9-736d13a63c06"
        },
        "id": "uaU0JmVcfEJb"
      },
      "source": [
        "La table Movie_Companies"
      ]
    },
    {
      "cell_type": "code",
      "metadata": {
        "application/vnd.databricks.v1+cell": {
          "title": "",
          "showTitle": false,
          "inputWidgets": {},
          "nuid": "c37903e0-d9bc-49f9-9e1d-6756419344f1"
        },
        "id": "09QYwRmAfEJb"
      },
      "source": [
        "#==============\n",
        "# Movie_Companies\n",
        "#==============\n",
        "schema_movie_companies = \"\"\"\n",
        "    id int,\n",
        "    movie_id int,\n",
        "    company_id int,\n",
        "    company_type_id int,\n",
        "    note string\n",
        "\"\"\"\n",
        "\n",
        "movie_companies = spark.read.csv(path = dir + \"movie_companies.csv\", schema = schema_movie_companies).persist()\n",
        "\n",
        "movie_companies.createOrReplaceTempView(\"Movie_Companies\")\n",
        "#movie_companies.printSchema()\n",
        "\n",
        "display(movie_companies)"
      ],
      "execution_count": null,
      "outputs": []
    },
    {
      "cell_type": "markdown",
      "metadata": {
        "application/vnd.databricks.v1+cell": {
          "title": "",
          "showTitle": false,
          "inputWidgets": {},
          "nuid": "6f215790-9cd6-4489-b334-1da39461919c"
        },
        "id": "M2oAdvFBfEJb"
      },
      "source": [
        "La table Company_Name"
      ]
    },
    {
      "cell_type": "code",
      "metadata": {
        "application/vnd.databricks.v1+cell": {
          "title": "",
          "showTitle": false,
          "inputWidgets": {},
          "nuid": "23f49fe8-1c71-4689-9678-58f7b45f0e94"
        },
        "id": "nn5nL7dLfEJb"
      },
      "source": [
        "schema_company_name = \"\"\"\n",
        "    id int,\n",
        "    name string,\n",
        "    country_code string,\n",
        "    imdb_id int,\n",
        "    name_pcode_nf string,\n",
        "    name_pcode_sf string,\n",
        "    md5sum string\n",
        "\"\"\"\n",
        "\n",
        "company_name = spark.read.csv(path = dir + \"company_name.csv\", schema = schema_company_name)\n",
        "company_name.createOrReplaceTempView(\"Company_Name\")\n",
        "#company_name.printSchema()\n",
        "\n",
        "display(company_name)"
      ],
      "execution_count": null,
      "outputs": []
    },
    {
      "cell_type": "markdown",
      "metadata": {
        "application/vnd.databricks.v1+cell": {
          "title": "",
          "showTitle": false,
          "inputWidgets": {},
          "nuid": "19fa455b-45a4-4a48-9ddb-c5a641bbd817"
        },
        "id": "9QQUODevfEJc"
      },
      "source": [
        "La table Company_type"
      ]
    },
    {
      "cell_type": "code",
      "metadata": {
        "application/vnd.databricks.v1+cell": {
          "title": "",
          "showTitle": false,
          "inputWidgets": {},
          "nuid": "23530f5e-191f-4476-a042-89462af08bf0"
        },
        "id": "JcgvrL3sfEJc",
        "outputId": "a8d08b2a-e3b8-41dd-cad8-9e9a07cf35d2"
      },
      "source": [
        "#==============\n",
        "# Company_Type\n",
        "#==============\n",
        "schema_company_type = \"id INT, kind STRING\"\n",
        "\n",
        "company_type = spark.read.csv(path = dir + \"company_type.csv\", schema = schema_company_type).persist()\n",
        "company_type.createOrReplaceTempView(\"Company_Type\")\n",
        "#company_type.printSchema()\n",
        "\n",
        "display(company_type)"
      ],
      "execution_count": null,
      "outputs": [
        {
          "output_type": "display_data",
          "metadata": {
            "application/vnd.databricks.v1+output": {
              "overflow": false,
              "datasetInfos": [],
              "data": [
                [
                  1,
                  "distributors"
                ],
                [
                  2,
                  "production companies"
                ],
                [
                  3,
                  "special effects companies"
                ],
                [
                  4,
                  "miscellaneous companies"
                ]
              ],
              "plotOptions": {
                "displayType": "table",
                "customPlotOptions": {},
                "pivotColumns": [],
                "pivotAggregation": null,
                "xColumns": [],
                "yColumns": []
              },
              "columnCustomDisplayInfos": {},
              "aggType": "",
              "isJsonSchema": true,
              "removedWidgets": [],
              "aggSchema": [],
              "schema": [
                {
                  "name": "id",
                  "type": "\"integer\"",
                  "metadata": "{}"
                },
                {
                  "name": "kind",
                  "type": "\"string\"",
                  "metadata": "{}"
                }
              ],
              "aggError": "",
              "aggData": [],
              "addedWidgets": {},
              "metadata": {},
              "dbfsResultPath": null,
              "type": "table",
              "aggOverflow": false,
              "aggSeriesLimitReached": false,
              "arguments": {}
            }
          },
          "data": {
            "text/html": [
              "<style scoped>\n  .table-result-container {\n    max-height: 300px;\n    overflow: auto;\n  }\n  table, th, td {\n    border: 1px solid black;\n    border-collapse: collapse;\n  }\n  th, td {\n    padding: 5px;\n  }\n  th {\n    text-align: left;\n  }\n</style><div class='table-result-container'><table class='table-result'><thead style='background-color: white'><tr><th>id</th><th>kind</th></tr></thead><tbody><tr><td>1</td><td>distributors</td></tr><tr><td>2</td><td>production companies</td></tr><tr><td>3</td><td>special effects companies</td></tr><tr><td>4</td><td>miscellaneous companies</td></tr></tbody></table></div>"
            ]
          }
        }
      ]
    },
    {
      "cell_type": "markdown",
      "metadata": {
        "application/vnd.databricks.v1+cell": {
          "title": "",
          "showTitle": false,
          "inputWidgets": {},
          "nuid": "6fc95d51-5cac-46df-9184-c0a154f0f38c"
        },
        "id": "1QkGBe6bfEJc"
      },
      "source": [
        "## Exemples de requêtes"
      ]
    },
    {
      "cell_type": "markdown",
      "metadata": {
        "application/vnd.databricks.v1+cell": {
          "title": "",
          "showTitle": false,
          "inputWidgets": {},
          "nuid": "e76ce44d-cc60-47b2-a2a7-9f8e22245371"
        },
        "id": "3bKm71t4fEJc"
      },
      "source": [
        "Rmq : dans une cellule de code, possibilité de faire _Run All Above_ pour traiter toutes les cellules précédentes."
      ]
    },
    {
      "cell_type": "markdown",
      "metadata": {
        "application/vnd.databricks.v1+cell": {
          "title": "",
          "showTitle": false,
          "inputWidgets": {},
          "nuid": "1cc544c1-2901-41f7-ae80-c2b5eea55acd"
        },
        "id": "i1xvGSlNfEJc"
      },
      "source": [
        "### Requêtes sur les films : fichier title"
      ]
    },
    {
      "cell_type": "code",
      "metadata": {
        "application/vnd.databricks.v1+cell": {
          "title": "",
          "showTitle": false,
          "inputWidgets": {},
          "nuid": "61e0e693-a9a0-4e2e-8d51-45ca38e142c3"
        },
        "id": "oTXVtcnwfEJc"
      },
      "source": [
        "%sql\n",
        "select *\n",
        "from title"
      ],
      "execution_count": null,
      "outputs": []
    },
    {
      "cell_type": "markdown",
      "metadata": {
        "application/vnd.databricks.v1+cell": {
          "title": "",
          "showTitle": false,
          "inputWidgets": {},
          "nuid": "cbc65fee-82aa-40ee-994f-fc6a7490d190"
        },
        "id": "08O-EwIRfEJc"
      },
      "source": [
        "#### Nombre de films"
      ]
    },
    {
      "cell_type": "code",
      "metadata": {
        "application/vnd.databricks.v1+cell": {
          "title": "",
          "showTitle": false,
          "inputWidgets": {},
          "nuid": "93fe4676-aaca-4b98-80a8-69d857c4057d"
        },
        "id": "PoyGfF64fEJc",
        "outputId": "827dc79e-d240-4f04-eef8-cb4e4919c00b"
      },
      "source": [
        "%sql\n",
        "select count(*) as nbFilms \n",
        "from Title"
      ],
      "execution_count": null,
      "outputs": [
        {
          "output_type": "display_data",
          "metadata": {
            "application/vnd.databricks.v1+output": {
              "overflow": false,
              "datasetInfos": [],
              "data": [
                [
                  25084
                ]
              ],
              "plotOptions": {
                "displayType": "table",
                "customPlotOptions": {},
                "pivotColumns": [],
                "pivotAggregation": null,
                "xColumns": [],
                "yColumns": []
              },
              "columnCustomDisplayInfos": {},
              "aggType": "",
              "isJsonSchema": true,
              "removedWidgets": [],
              "aggSchema": [],
              "schema": [
                {
                  "name": "nbFilms",
                  "type": "\"long\"",
                  "metadata": "{}"
                }
              ],
              "aggError": "",
              "aggData": [],
              "addedWidgets": {},
              "metadata": {},
              "dbfsResultPath": null,
              "type": "table",
              "aggOverflow": false,
              "aggSeriesLimitReached": false,
              "arguments": {}
            }
          },
          "data": {
            "text/html": [
              "<style scoped>\n  .table-result-container {\n    max-height: 300px;\n    overflow: auto;\n  }\n  table, th, td {\n    border: 1px solid black;\n    border-collapse: collapse;\n  }\n  th, td {\n    padding: 5px;\n  }\n  th {\n    text-align: left;\n  }\n</style><div class='table-result-container'><table class='table-result'><thead style='background-color: white'><tr><th>nbFilms</th></tr></thead><tbody><tr><td>25084</td></tr></tbody></table></div>"
            ]
          }
        }
      ]
    },
    {
      "cell_type": "markdown",
      "metadata": {
        "application/vnd.databricks.v1+cell": {
          "title": "",
          "showTitle": false,
          "inputWidgets": {},
          "nuid": "e68d6366-136e-4044-a5e7-49bf05c8cd95"
        },
        "id": "D3piu7ysfEJc"
      },
      "source": [
        "#### Les types de films"
      ]
    },
    {
      "cell_type": "code",
      "metadata": {
        "application/vnd.databricks.v1+cell": {
          "title": "",
          "showTitle": false,
          "inputWidgets": {},
          "nuid": "4cd74178-8e1b-451f-b3a2-de19ac2e9e08"
        },
        "id": "EpdnCiRbfEJc",
        "outputId": "61ee4e92-7b5b-4b0c-ae23-30e86509b043"
      },
      "source": [
        "%sql\n",
        "select distinct kind_id \n",
        "from Title \n",
        "order by kind_id"
      ],
      "execution_count": null,
      "outputs": [
        {
          "output_type": "display_data",
          "metadata": {
            "application/vnd.databricks.v1+output": {
              "overflow": false,
              "datasetInfos": [],
              "data": [
                [
                  1
                ],
                [
                  2
                ],
                [
                  3
                ],
                [
                  4
                ],
                [
                  6
                ],
                [
                  7
                ]
              ],
              "plotOptions": {
                "displayType": "table",
                "customPlotOptions": {},
                "pivotColumns": [],
                "pivotAggregation": null,
                "xColumns": [],
                "yColumns": []
              },
              "columnCustomDisplayInfos": {},
              "aggType": "",
              "isJsonSchema": true,
              "removedWidgets": [],
              "aggSchema": [],
              "schema": [
                {
                  "name": "kind_id",
                  "type": "\"integer\"",
                  "metadata": "{}"
                }
              ],
              "aggError": "",
              "aggData": [],
              "addedWidgets": {},
              "metadata": {},
              "dbfsResultPath": null,
              "type": "table",
              "aggOverflow": false,
              "aggSeriesLimitReached": false,
              "arguments": {}
            }
          },
          "data": {
            "text/html": [
              "<style scoped>\n  .table-result-container {\n    max-height: 300px;\n    overflow: auto;\n  }\n  table, th, td {\n    border: 1px solid black;\n    border-collapse: collapse;\n  }\n  th, td {\n    padding: 5px;\n  }\n  th {\n    text-align: left;\n  }\n</style><div class='table-result-container'><table class='table-result'><thead style='background-color: white'><tr><th>kind_id</th></tr></thead><tbody><tr><td>1</td></tr><tr><td>2</td></tr><tr><td>3</td></tr><tr><td>4</td></tr><tr><td>6</td></tr><tr><td>7</td></tr></tbody></table></div>"
            ]
          }
        }
      ]
    },
    {
      "cell_type": "markdown",
      "metadata": {
        "application/vnd.databricks.v1+cell": {
          "title": "",
          "showTitle": false,
          "inputWidgets": {},
          "nuid": "b13422e4-e662-4ff0-a0c6-b2c65f4d18b6"
        },
        "id": "JChl3saDfEJc"
      },
      "source": [
        "#### Nombre de films par type de film"
      ]
    },
    {
      "cell_type": "code",
      "metadata": {
        "application/vnd.databricks.v1+cell": {
          "title": "",
          "showTitle": false,
          "inputWidgets": {},
          "nuid": "a36d08d1-1c4a-4cf9-bfc8-734c9673f261"
        },
        "id": "c3mBMdSNfEJc",
        "outputId": "2b0d6319-4bce-499d-f7ae-738e36700ff3"
      },
      "source": [
        "%sql\n",
        "select kind_id, count(*) as nb \n",
        "from Title \n",
        "group by kind_id \n",
        "order by nb desc"
      ],
      "execution_count": null,
      "outputs": [
        {
          "output_type": "display_data",
          "metadata": {
            "application/vnd.databricks.v1+output": {
              "overflow": false,
              "datasetInfos": [],
              "data": [
                [
                  7,
                  15274
                ],
                [
                  1,
                  6602
                ],
                [
                  4,
                  1175
                ],
                [
                  3,
                  979
                ],
                [
                  2,
                  925
                ],
                [
                  6,
                  129
                ]
              ],
              "plotOptions": {
                "displayType": "table",
                "customPlotOptions": {},
                "pivotColumns": [],
                "pivotAggregation": null,
                "xColumns": [],
                "yColumns": []
              },
              "columnCustomDisplayInfos": {},
              "aggType": "",
              "isJsonSchema": true,
              "removedWidgets": [],
              "aggSchema": [],
              "schema": [
                {
                  "name": "kind_id",
                  "type": "\"integer\"",
                  "metadata": "{}"
                },
                {
                  "name": "nb",
                  "type": "\"long\"",
                  "metadata": "{}"
                }
              ],
              "aggError": "",
              "aggData": [],
              "addedWidgets": {},
              "metadata": {},
              "dbfsResultPath": null,
              "type": "table",
              "aggOverflow": false,
              "aggSeriesLimitReached": false,
              "arguments": {}
            }
          },
          "data": {
            "text/html": [
              "<style scoped>\n  .table-result-container {\n    max-height: 300px;\n    overflow: auto;\n  }\n  table, th, td {\n    border: 1px solid black;\n    border-collapse: collapse;\n  }\n  th, td {\n    padding: 5px;\n  }\n  th {\n    text-align: left;\n  }\n</style><div class='table-result-container'><table class='table-result'><thead style='background-color: white'><tr><th>kind_id</th><th>nb</th></tr></thead><tbody><tr><td>7</td><td>15274</td></tr><tr><td>1</td><td>6602</td></tr><tr><td>4</td><td>1175</td></tr><tr><td>3</td><td>979</td></tr><tr><td>2</td><td>925</td></tr><tr><td>6</td><td>129</td></tr></tbody></table></div>"
            ]
          }
        }
      ]
    },
    {
      "cell_type": "markdown",
      "metadata": {
        "application/vnd.databricks.v1+cell": {
          "title": "",
          "showTitle": false,
          "inputWidgets": {},
          "nuid": "17329df0-7b1a-4219-bd1f-e2f35e23fa57"
        },
        "id": "5fLbLlgQfEJc"
      },
      "source": [
        "#### Nombre de film par années"
      ]
    },
    {
      "cell_type": "code",
      "metadata": {
        "application/vnd.databricks.v1+cell": {
          "title": "",
          "showTitle": false,
          "inputWidgets": {},
          "nuid": "cb74393f-1f6e-44c8-bcea-6ee0c475270a"
        },
        "id": "sv69JFQmfEJc",
        "outputId": "3fa29823-b3fd-469c-8e9e-a2e9ec766430"
      },
      "source": [
        "%sql\n",
        "select production_year, count(*) as nbFilms\n",
        "from Title\n",
        "where production_year is not null\n",
        "group by production_year\n",
        "order by nbFilms desc"
      ],
      "execution_count": null,
      "outputs": [
        {
          "output_type": "display_data",
          "metadata": {
            "application/vnd.databricks.v1+output": {
              "overflow": false,
              "datasetInfos": [],
              "data": [
                [
                  2012,
                  1605
                ],
                [
                  2011,
                  1517
                ],
                [
                  2010,
                  1467
                ],
                [
                  2009,
                  1301
                ],
                [
                  2008,
                  1192
                ],
                [
                  2007,
                  1186
                ],
                [
                  2006,
                  1033
                ],
                [
                  2005,
                  948
                ],
                [
                  2004,
                  854
                ],
                [
                  2003,
                  676
                ],
                [
                  2013,
                  658
                ],
                [
                  2002,
                  581
                ],
                [
                  2001,
                  573
                ],
                [
                  2000,
                  543
                ],
                [
                  1999,
                  506
                ],
                [
                  1998,
                  452
                ],
                [
                  1997,
                  395
                ],
                [
                  1995,
                  358
                ],
                [
                  1996,
                  354
                ],
                [
                  1994,
                  305
                ],
                [
                  1993,
                  275
                ],
                [
                  1992,
                  265
                ],
                [
                  1990,
                  259
                ],
                [
                  1991,
                  231
                ],
                [
                  1987,
                  222
                ],
                [
                  1988,
                  206
                ],
                [
                  1989,
                  189
                ],
                [
                  1986,
                  182
                ],
                [
                  1985,
                  163
                ],
                [
                  1969,
                  160
                ],
                [
                  1970,
                  158
                ],
                [
                  1979,
                  158
                ],
                [
                  1976,
                  154
                ],
                [
                  1978,
                  153
                ],
                [
                  1968,
                  153
                ],
                [
                  1971,
                  150
                ],
                [
                  1973,
                  149
                ],
                [
                  1972,
                  148
                ],
                [
                  1975,
                  145
                ],
                [
                  1980,
                  145
                ],
                [
                  1984,
                  144
                ],
                [
                  1983,
                  142
                ],
                [
                  1977,
                  141
                ],
                [
                  1981,
                  140
                ],
                [
                  1974,
                  140
                ],
                [
                  1982,
                  137
                ],
                [
                  1967,
                  137
                ],
                [
                  1966,
                  130
                ],
                [
                  1965,
                  128
                ],
                [
                  1962,
                  122
                ],
                [
                  1960,
                  120
                ],
                [
                  1959,
                  118
                ],
                [
                  1964,
                  114
                ],
                [
                  1961,
                  103
                ],
                [
                  1963,
                  98
                ],
                [
                  1957,
                  97
                ],
                [
                  1958,
                  84
                ],
                [
                  1913,
                  83
                ],
                [
                  1955,
                  78
                ],
                [
                  1912,
                  76
                ],
                [
                  1915,
                  75
                ],
                [
                  1952,
                  74
                ],
                [
                  1956,
                  73
                ],
                [
                  1914,
                  72
                ],
                [
                  1916,
                  68
                ],
                [
                  1954,
                  65
                ],
                [
                  1953,
                  58
                ],
                [
                  1950,
                  52
                ],
                [
                  1911,
                  52
                ],
                [
                  1910,
                  47
                ],
                [
                  1918,
                  45
                ],
                [
                  1949,
                  42
                ],
                [
                  1917,
                  42
                ],
                [
                  1938,
                  40
                ],
                [
                  1919,
                  40
                ],
                [
                  1951,
                  39
                ],
                [
                  1937,
                  37
                ],
                [
                  1929,
                  36
                ],
                [
                  1920,
                  36
                ],
                [
                  1922,
                  35
                ],
                [
                  1940,
                  33
                ],
                [
                  1936,
                  32
                ],
                [
                  1921,
                  31
                ],
                [
                  1935,
                  28
                ],
                [
                  1923,
                  28
                ],
                [
                  1928,
                  27
                ],
                [
                  1933,
                  27
                ],
                [
                  1926,
                  26
                ],
                [
                  1939,
                  26
                ],
                [
                  1931,
                  26
                ],
                [
                  1948,
                  26
                ],
                [
                  2014,
                  26
                ],
                [
                  1909,
                  25
                ],
                [
                  1941,
                  25
                ],
                [
                  1899,
                  24
                ],
                [
                  1944,
                  22
                ],
                [
                  1901,
                  22
                ],
                [
                  1942,
                  22
                ],
                [
                  1934,
                  21
                ],
                [
                  1927,
                  21
                ],
                [
                  1932,
                  21
                ],
                [
                  1930,
                  21
                ],
                [
                  1925,
                  21
                ],
                [
                  1908,
                  20
                ],
                [
                  1907,
                  20
                ],
                [
                  1946,
                  19
                ],
                [
                  1947,
                  19
                ],
                [
                  1898,
                  19
                ],
                [
                  1924,
                  18
                ],
                [
                  1943,
                  18
                ],
                [
                  1903,
                  18
                ],
                [
                  1897,
                  17
                ],
                [
                  1902,
                  15
                ],
                [
                  1900,
                  14
                ],
                [
                  1896,
                  13
                ],
                [
                  1945,
                  13
                ],
                [
                  1905,
                  11
                ],
                [
                  1906,
                  9
                ],
                [
                  1904,
                  9
                ],
                [
                  2015,
                  4
                ],
                [
                  1895,
                  1
                ],
                [
                  2016,
                  1
                ]
              ],
              "plotOptions": {
                "displayType": "table",
                "customPlotOptions": {},
                "pivotColumns": [],
                "pivotAggregation": null,
                "xColumns": [],
                "yColumns": []
              },
              "columnCustomDisplayInfos": {},
              "aggType": "",
              "isJsonSchema": true,
              "removedWidgets": [],
              "aggSchema": [],
              "schema": [
                {
                  "name": "production_year",
                  "type": "\"integer\"",
                  "metadata": "{}"
                },
                {
                  "name": "nbFilms",
                  "type": "\"long\"",
                  "metadata": "{}"
                }
              ],
              "aggError": "",
              "aggData": [],
              "addedWidgets": {},
              "metadata": {},
              "dbfsResultPath": null,
              "type": "table",
              "aggOverflow": false,
              "aggSeriesLimitReached": false,
              "arguments": {}
            }
          },
          "data": {
            "text/html": [
              "<style scoped>\n  .table-result-container {\n    max-height: 300px;\n    overflow: auto;\n  }\n  table, th, td {\n    border: 1px solid black;\n    border-collapse: collapse;\n  }\n  th, td {\n    padding: 5px;\n  }\n  th {\n    text-align: left;\n  }\n</style><div class='table-result-container'><table class='table-result'><thead style='background-color: white'><tr><th>production_year</th><th>nbFilms</th></tr></thead><tbody><tr><td>2012</td><td>1605</td></tr><tr><td>2011</td><td>1517</td></tr><tr><td>2010</td><td>1467</td></tr><tr><td>2009</td><td>1301</td></tr><tr><td>2008</td><td>1192</td></tr><tr><td>2007</td><td>1186</td></tr><tr><td>2006</td><td>1033</td></tr><tr><td>2005</td><td>948</td></tr><tr><td>2004</td><td>854</td></tr><tr><td>2003</td><td>676</td></tr><tr><td>2013</td><td>658</td></tr><tr><td>2002</td><td>581</td></tr><tr><td>2001</td><td>573</td></tr><tr><td>2000</td><td>543</td></tr><tr><td>1999</td><td>506</td></tr><tr><td>1998</td><td>452</td></tr><tr><td>1997</td><td>395</td></tr><tr><td>1995</td><td>358</td></tr><tr><td>1996</td><td>354</td></tr><tr><td>1994</td><td>305</td></tr><tr><td>1993</td><td>275</td></tr><tr><td>1992</td><td>265</td></tr><tr><td>1990</td><td>259</td></tr><tr><td>1991</td><td>231</td></tr><tr><td>1987</td><td>222</td></tr><tr><td>1988</td><td>206</td></tr><tr><td>1989</td><td>189</td></tr><tr><td>1986</td><td>182</td></tr><tr><td>1985</td><td>163</td></tr><tr><td>1969</td><td>160</td></tr><tr><td>1970</td><td>158</td></tr><tr><td>1979</td><td>158</td></tr><tr><td>1976</td><td>154</td></tr><tr><td>1978</td><td>153</td></tr><tr><td>1968</td><td>153</td></tr><tr><td>1971</td><td>150</td></tr><tr><td>1973</td><td>149</td></tr><tr><td>1972</td><td>148</td></tr><tr><td>1975</td><td>145</td></tr><tr><td>1980</td><td>145</td></tr><tr><td>1984</td><td>144</td></tr><tr><td>1983</td><td>142</td></tr><tr><td>1977</td><td>141</td></tr><tr><td>1981</td><td>140</td></tr><tr><td>1974</td><td>140</td></tr><tr><td>1982</td><td>137</td></tr><tr><td>1967</td><td>137</td></tr><tr><td>1966</td><td>130</td></tr><tr><td>1965</td><td>128</td></tr><tr><td>1962</td><td>122</td></tr><tr><td>1960</td><td>120</td></tr><tr><td>1959</td><td>118</td></tr><tr><td>1964</td><td>114</td></tr><tr><td>1961</td><td>103</td></tr><tr><td>1963</td><td>98</td></tr><tr><td>1957</td><td>97</td></tr><tr><td>1958</td><td>84</td></tr><tr><td>1913</td><td>83</td></tr><tr><td>1955</td><td>78</td></tr><tr><td>1912</td><td>76</td></tr><tr><td>1915</td><td>75</td></tr><tr><td>1952</td><td>74</td></tr><tr><td>1956</td><td>73</td></tr><tr><td>1914</td><td>72</td></tr><tr><td>1916</td><td>68</td></tr><tr><td>1954</td><td>65</td></tr><tr><td>1953</td><td>58</td></tr><tr><td>1950</td><td>52</td></tr><tr><td>1911</td><td>52</td></tr><tr><td>1910</td><td>47</td></tr><tr><td>1918</td><td>45</td></tr><tr><td>1949</td><td>42</td></tr><tr><td>1917</td><td>42</td></tr><tr><td>1938</td><td>40</td></tr><tr><td>1919</td><td>40</td></tr><tr><td>1951</td><td>39</td></tr><tr><td>1937</td><td>37</td></tr><tr><td>1929</td><td>36</td></tr><tr><td>1920</td><td>36</td></tr><tr><td>1922</td><td>35</td></tr><tr><td>1940</td><td>33</td></tr><tr><td>1936</td><td>32</td></tr><tr><td>1921</td><td>31</td></tr><tr><td>1935</td><td>28</td></tr><tr><td>1923</td><td>28</td></tr><tr><td>1928</td><td>27</td></tr><tr><td>1933</td><td>27</td></tr><tr><td>1926</td><td>26</td></tr><tr><td>1939</td><td>26</td></tr><tr><td>1931</td><td>26</td></tr><tr><td>1948</td><td>26</td></tr><tr><td>2014</td><td>26</td></tr><tr><td>1909</td><td>25</td></tr><tr><td>1941</td><td>25</td></tr><tr><td>1899</td><td>24</td></tr><tr><td>1944</td><td>22</td></tr><tr><td>1901</td><td>22</td></tr><tr><td>1942</td><td>22</td></tr><tr><td>1934</td><td>21</td></tr><tr><td>1927</td><td>21</td></tr><tr><td>1932</td><td>21</td></tr><tr><td>1930</td><td>21</td></tr><tr><td>1925</td><td>21</td></tr><tr><td>1908</td><td>20</td></tr><tr><td>1907</td><td>20</td></tr><tr><td>1946</td><td>19</td></tr><tr><td>1947</td><td>19</td></tr><tr><td>1898</td><td>19</td></tr><tr><td>1924</td><td>18</td></tr><tr><td>1943</td><td>18</td></tr><tr><td>1903</td><td>18</td></tr><tr><td>1897</td><td>17</td></tr><tr><td>1902</td><td>15</td></tr><tr><td>1900</td><td>14</td></tr><tr><td>1896</td><td>13</td></tr><tr><td>1945</td><td>13</td></tr><tr><td>1905</td><td>11</td></tr><tr><td>1906</td><td>9</td></tr><tr><td>1904</td><td>9</td></tr><tr><td>2015</td><td>4</td></tr><tr><td>1895</td><td>1</td></tr><tr><td>2016</td><td>1</td></tr></tbody></table></div>"
            ]
          }
        }
      ]
    },
    {
      "cell_type": "markdown",
      "metadata": {
        "application/vnd.databricks.v1+cell": {
          "title": "",
          "showTitle": false,
          "inputWidgets": {},
          "nuid": "9550ce97-88f0-485d-b307-b831ace3ee23"
        },
        "id": "HjElDVBsfEJc"
      },
      "source": [
        "#### Distribution d'un attribut avec describe()"
      ]
    },
    {
      "cell_type": "code",
      "metadata": {
        "application/vnd.databricks.v1+cell": {
          "title": "",
          "showTitle": false,
          "inputWidgets": {},
          "nuid": "af6fd680-6e8c-4edd-a62a-e1d003cad366"
        },
        "id": "Z7z6wkGTfEJc",
        "outputId": "b3d857aa-be04-4552-df54-9f2575e51dbe"
      },
      "source": [
        "filmPerYear = spark.sql(\"\"\"\n",
        "select production_year, count(*) as nb\n",
        "from Title\n",
        "where production_year is not null\n",
        "group by production_year\n",
        "order by nb desc\n",
        "\"\"\")\n",
        "\n",
        "description = filmPerYear.describe('nb')\n",
        "display(description)"
      ],
      "execution_count": null,
      "outputs": [
        {
          "output_type": "display_data",
          "metadata": {
            "application/vnd.databricks.v1+output": {
              "overflow": false,
              "datasetInfos": [],
              "data": [
                [
                  "count",
                  "122"
                ],
                [
                  "mean",
                  "199.7377049180328"
                ],
                [
                  "stddev",
                  "331.00849663956"
                ],
                [
                  "min",
                  "1"
                ],
                [
                  "max",
                  "1605"
                ]
              ],
              "plotOptions": {
                "displayType": "table",
                "customPlotOptions": {},
                "pivotColumns": [],
                "pivotAggregation": null,
                "xColumns": [],
                "yColumns": []
              },
              "columnCustomDisplayInfos": {},
              "aggType": "",
              "isJsonSchema": true,
              "removedWidgets": [],
              "aggSchema": [],
              "schema": [
                {
                  "name": "summary",
                  "type": "\"string\"",
                  "metadata": "{}"
                },
                {
                  "name": "nb",
                  "type": "\"string\"",
                  "metadata": "{}"
                }
              ],
              "aggError": "",
              "aggData": [],
              "addedWidgets": {},
              "metadata": {},
              "dbfsResultPath": null,
              "type": "table",
              "aggOverflow": false,
              "aggSeriesLimitReached": false,
              "arguments": {}
            }
          },
          "data": {
            "text/html": [
              "<style scoped>\n  .table-result-container {\n    max-height: 300px;\n    overflow: auto;\n  }\n  table, th, td {\n    border: 1px solid black;\n    border-collapse: collapse;\n  }\n  th, td {\n    padding: 5px;\n  }\n  th {\n    text-align: left;\n  }\n</style><div class='table-result-container'><table class='table-result'><thead style='background-color: white'><tr><th>summary</th><th>nb</th></tr></thead><tbody><tr><td>count</td><td>122</td></tr><tr><td>mean</td><td>199.7377049180328</td></tr><tr><td>stddev</td><td>331.00849663956</td></tr><tr><td>min</td><td>1</td></tr><tr><td>max</td><td>1605</td></tr></tbody></table></div>"
            ]
          }
        }
      ]
    },
    {
      "cell_type": "markdown",
      "metadata": {
        "application/vnd.databricks.v1+cell": {
          "title": "",
          "showTitle": false,
          "inputWidgets": {},
          "nuid": "7684ab9b-a0b6-4ea3-80eb-b2179c7c861c"
        },
        "id": "jE7P-VbgfEJc"
      },
      "source": [
        "#### Visualiser le nombre de films par années"
      ]
    },
    {
      "cell_type": "markdown",
      "metadata": {
        "application/vnd.databricks.v1+cell": {
          "title": "",
          "showTitle": false,
          "inputWidgets": {},
          "nuid": "1609862f-59b6-4e63-8a5f-2c4e524b9280"
        },
        "id": "w-Wd53zrfEJd"
      },
      "source": [
        "[Documentation MatplotLib](https://matplotlib.org/3.1.1/api/_as_gen/matplotlib.pyplot.html#module-matplotlib.pyplot)"
      ]
    },
    {
      "cell_type": "code",
      "metadata": {
        "application/vnd.databricks.v1+cell": {
          "title": "",
          "showTitle": false,
          "inputWidgets": {},
          "nuid": "f514374f-0cbd-476a-bede-de3e3bc6910a"
        },
        "id": "ZCrdlyHafEJd",
        "outputId": "a4e4bbc3-e726-44c2-ff98-f81bbd16cb80"
      },
      "source": [
        "import matplotlib.pyplot as plt\n",
        "\n",
        "t = filmPerYear.collect()\n",
        "\n",
        "tabYear = [x.production_year for x in t]\n",
        "tabNb = [x.nb for x in t]\n",
        "\n",
        "plt.bar(tabYear, tabNb)\n",
        "plt.xlabel('year')\n",
        "plt.ylabel('nb films')\n",
        "plt.title('films per year')\n",
        "plt.show()"
      ],
      "execution_count": null,
      "outputs": [
        {
          "output_type": "display_data",
          "metadata": {
            "application/vnd.databricks.v1+output": {
              "datasetInfos": [],
              "data": "data:image/png;base64,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\n",
              "removedWidgets": [],
              "addedWidgets": {},
              "metadata": {},
              "type": "image",
              "arguments": {}
            }
          },
          "data": {
            "image/png": "[encoded data removed]"
          }
        }
      ]
    },
    {
      "cell_type": "markdown",
      "metadata": {
        "application/vnd.databricks.v1+cell": {
          "title": "",
          "showTitle": false,
          "inputWidgets": {},
          "nuid": "c83482f0-a072-4bf5-8c61-55ed37021a5a"
        },
        "id": "ZSfT1hTafEJd"
      },
      "source": [
        "### Requêtes sur les types de films : kind_type"
      ]
    },
    {
      "cell_type": "code",
      "metadata": {
        "application/vnd.databricks.v1+cell": {
          "title": "",
          "showTitle": false,
          "inputWidgets": {},
          "nuid": "7a5123a9-6922-43bf-adf2-3ca09a00345a"
        },
        "id": "r6TJmsZefEJd",
        "outputId": "7dcccdc6-011e-421b-962c-1ec7f7f672af"
      },
      "source": [
        "%sql\n",
        "SELECT * \n",
        "FROM Kind_type"
      ],
      "execution_count": null,
      "outputs": [
        {
          "output_type": "display_data",
          "metadata": {
            "application/vnd.databricks.v1+output": {
              "overflow": false,
              "datasetInfos": [],
              "data": [
                [
                  1,
                  "movie"
                ],
                [
                  2,
                  "tv series"
                ],
                [
                  3,
                  "tv movie"
                ],
                [
                  4,
                  "video movie"
                ],
                [
                  5,
                  "tv mini series"
                ],
                [
                  6,
                  "video game"
                ],
                [
                  7,
                  "episode"
                ]
              ],
              "plotOptions": {
                "displayType": "table",
                "customPlotOptions": {},
                "pivotColumns": [],
                "pivotAggregation": null,
                "xColumns": [],
                "yColumns": []
              },
              "columnCustomDisplayInfos": {},
              "aggType": "",
              "isJsonSchema": true,
              "removedWidgets": [],
              "aggSchema": [],
              "schema": [
                {
                  "name": "id",
                  "type": "\"integer\"",
                  "metadata": "{}"
                },
                {
                  "name": "kind",
                  "type": "\"string\"",
                  "metadata": "{}"
                }
              ],
              "aggError": "",
              "aggData": [],
              "addedWidgets": {},
              "metadata": {},
              "dbfsResultPath": null,
              "type": "table",
              "aggOverflow": false,
              "aggSeriesLimitReached": false,
              "arguments": {}
            }
          },
          "data": {
            "text/html": [
              "<style scoped>\n  .table-result-container {\n    max-height: 300px;\n    overflow: auto;\n  }\n  table, th, td {\n    border: 1px solid black;\n    border-collapse: collapse;\n  }\n  th, td {\n    padding: 5px;\n  }\n  th {\n    text-align: left;\n  }\n</style><div class='table-result-container'><table class='table-result'><thead style='background-color: white'><tr><th>id</th><th>kind</th></tr></thead><tbody><tr><td>1</td><td>movie</td></tr><tr><td>2</td><td>tv series</td></tr><tr><td>3</td><td>tv movie</td></tr><tr><td>4</td><td>video movie</td></tr><tr><td>5</td><td>tv mini series</td></tr><tr><td>6</td><td>video game</td></tr><tr><td>7</td><td>episode</td></tr></tbody></table></div>"
            ]
          }
        }
      ]
    },
    {
      "cell_type": "markdown",
      "metadata": {
        "application/vnd.databricks.v1+cell": {
          "title": "",
          "showTitle": false,
          "inputWidgets": {},
          "nuid": "c1e0948d-9941-4bae-bf10-e6ec96b230ae"
        },
        "id": "t-C0RhOxfEJd"
      },
      "source": [
        "#### Jointure entre Title et Kind_Type"
      ]
    },
    {
      "cell_type": "code",
      "metadata": {
        "application/vnd.databricks.v1+cell": {
          "title": "",
          "showTitle": false,
          "inputWidgets": {},
          "nuid": "8ad1e040-6e60-4069-9a84-c802b2de9a55"
        },
        "id": "1VzEJaBKfEJd",
        "outputId": "62573059-46f7-4093-b28a-9937fd814f25"
      },
      "source": [
        "title.printSchema()"
      ],
      "execution_count": null,
      "outputs": [
        {
          "output_type": "display_data",
          "metadata": {
            "application/vnd.databricks.v1+output": {
              "datasetInfos": [],
              "data": "<div class='ansiout'>root\n |-- id: integer (nullable = true)\n |-- title: string (nullable = true)\n |-- imdb_index: string (nullable = true)\n |-- kind_id: integer (nullable = true)\n |-- production_year: integer (nullable = true)\n |-- imdb_id: integer (nullable = true)\n |-- phonetic_code: string (nullable = true)\n |-- episode_id: string (nullable = true)\n |-- season_nr: integer (nullable = true)\n |-- episode_nr: integer (nullable = true)\n |-- series_years: string (nullable = true)\n |-- md5sum: string (nullable = true)\n\n</div>",
              "removedWidgets": [],
              "addedWidgets": {},
              "metadata": {},
              "type": "html",
              "arguments": {}
            }
          },
          "data": {
            "text/html": [
              "<style scoped>\n  .ansiout {\n    display: block;\n    unicode-bidi: embed;\n    white-space: pre-wrap;\n    word-wrap: break-word;\n    word-break: break-all;\n    font-family: \"Source Code Pro\", \"Menlo\", monospace;;\n    font-size: 13px;\n    color: #555;\n    margin-left: 4px;\n    line-height: 19px;\n  }\n</style>\n<div class='ansiout'>root\n-- id: integer (nullable = true)\n-- title: string (nullable = true)\n-- imdb_index: string (nullable = true)\n-- kind_id: integer (nullable = true)\n-- production_year: integer (nullable = true)\n-- imdb_id: integer (nullable = true)\n-- phonetic_code: string (nullable = true)\n-- episode_id: string (nullable = true)\n-- season_nr: integer (nullable = true)\n-- episode_nr: integer (nullable = true)\n-- series_years: string (nullable = true)\n-- md5sum: string (nullable = true)\n\n</div>"
            ]
          }
        }
      ]
    },
    {
      "cell_type": "code",
      "metadata": {
        "application/vnd.databricks.v1+cell": {
          "title": "",
          "showTitle": false,
          "inputWidgets": {},
          "nuid": "1513a5b3-5262-4d55-ada9-9afbcc902218"
        },
        "id": "Yv5xYUp2fEJd"
      },
      "source": [
        "%sql\n",
        "SELECT k.kind, t.title, t.production_year \n",
        "FROM Title t, Kind_Type k \n",
        "WHERE t.kind_id = k.id\n",
        "ORDER BY t.production_year DESC"
      ],
      "execution_count": null,
      "outputs": []
    },
    {
      "cell_type": "markdown",
      "metadata": {
        "application/vnd.databricks.v1+cell": {
          "title": "",
          "showTitle": false,
          "inputWidgets": {},
          "nuid": "23b7e0bf-ab19-4ddf-b7db-6769f54a0cdd"
        },
        "id": "UcOeL_FgfEJd"
      },
      "source": [
        "#### Nombre de films par type"
      ]
    },
    {
      "cell_type": "code",
      "metadata": {
        "application/vnd.databricks.v1+cell": {
          "title": "",
          "showTitle": false,
          "inputWidgets": {},
          "nuid": "ab0d0a97-cb9d-44b4-ad6c-e0c0fbcdf47f"
        },
        "id": "5vJC9rf1fEJd",
        "outputId": "70c005d5-d169-45ee-b5fb-78dbea9b4c56"
      },
      "source": [
        "%sql\n",
        "SELECT k.kind, count(*) as nb\n",
        "FROM Title t, Kind_Type k \n",
        "WHERE t.kind_id = k.id\n",
        "GROUP BY k.kind\n",
        "ORDER BY count(*) DESC"
      ],
      "execution_count": null,
      "outputs": [
        {
          "output_type": "display_data",
          "metadata": {
            "application/vnd.databricks.v1+output": {
              "overflow": false,
              "datasetInfos": [],
              "data": [
                [
                  "episode",
                  15274
                ],
                [
                  "movie",
                  6602
                ],
                [
                  "video movie",
                  1175
                ],
                [
                  "tv movie",
                  979
                ],
                [
                  "tv series",
                  925
                ],
                [
                  "video game",
                  129
                ]
              ],
              "plotOptions": {
                "displayType": "table",
                "customPlotOptions": {},
                "pivotColumns": [],
                "pivotAggregation": null,
                "xColumns": [],
                "yColumns": []
              },
              "columnCustomDisplayInfos": {},
              "aggType": "",
              "isJsonSchema": true,
              "removedWidgets": [],
              "aggSchema": [],
              "schema": [
                {
                  "name": "kind",
                  "type": "\"string\"",
                  "metadata": "{}"
                },
                {
                  "name": "nb",
                  "type": "\"long\"",
                  "metadata": "{}"
                }
              ],
              "aggError": "",
              "aggData": [],
              "addedWidgets": {},
              "metadata": {},
              "dbfsResultPath": null,
              "type": "table",
              "aggOverflow": false,
              "aggSeriesLimitReached": false,
              "arguments": {}
            }
          },
          "data": {
            "text/html": [
              "<style scoped>\n  .table-result-container {\n    max-height: 300px;\n    overflow: auto;\n  }\n  table, th, td {\n    border: 1px solid black;\n    border-collapse: collapse;\n  }\n  th, td {\n    padding: 5px;\n  }\n  th {\n    text-align: left;\n  }\n</style><div class='table-result-container'><table class='table-result'><thead style='background-color: white'><tr><th>kind</th><th>nb</th></tr></thead><tbody><tr><td>episode</td><td>15274</td></tr><tr><td>movie</td><td>6602</td></tr><tr><td>video movie</td><td>1175</td></tr><tr><td>tv movie</td><td>979</td></tr><tr><td>tv series</td><td>925</td></tr><tr><td>video game</td><td>129</td></tr></tbody></table></div>"
            ]
          }
        }
      ]
    },
    {
      "cell_type": "markdown",
      "metadata": {
        "application/vnd.databricks.v1+cell": {
          "title": "",
          "showTitle": false,
          "inputWidgets": {},
          "nuid": "af61c09e-8cd4-43f0-9a5e-bd8705817bc4"
        },
        "id": "PSqs35Z5fEJd"
      },
      "source": [
        "### Requêtes sur les rôles : cast_info"
      ]
    },
    {
      "cell_type": "markdown",
      "metadata": {
        "application/vnd.databricks.v1+cell": {
          "title": "",
          "showTitle": false,
          "inputWidgets": {},
          "nuid": "ec1708ce-f953-4bf2-accb-d7fc838ac24f"
        },
        "id": "PaBpmlpGfEJd"
      },
      "source": [
        "#### Une personne a un ou plusieurs roles dans un film"
      ]
    },
    {
      "cell_type": "code",
      "metadata": {
        "application/vnd.databricks.v1+cell": {
          "title": "",
          "showTitle": false,
          "inputWidgets": {},
          "nuid": "cd9611bd-88b4-402e-b0b5-ea0fcbbc03b0"
        },
        "id": "_v8b_wZufEJd",
        "outputId": "635441a9-b61e-4a27-c221-8129a7a4d453"
      },
      "source": [
        "cast_info.printSchema()"
      ],
      "execution_count": null,
      "outputs": [
        {
          "output_type": "display_data",
          "metadata": {
            "application/vnd.databricks.v1+output": {
              "datasetInfos": [],
              "data": "<div class='ansiout'>root\n |-- id: integer (nullable = true)\n |-- person_id: integer (nullable = true)\n |-- movie_id: integer (nullable = true)\n |-- person_role_id: integer (nullable = true)\n |-- note: string (nullable = true)\n |-- nr_order: integer (nullable = true)\n |-- role_id: integer (nullable = true)\n\n</div>",
              "removedWidgets": [],
              "addedWidgets": {},
              "metadata": {},
              "type": "html",
              "arguments": {}
            }
          },
          "data": {
            "text/html": [
              "<style scoped>\n  .ansiout {\n    display: block;\n    unicode-bidi: embed;\n    white-space: pre-wrap;\n    word-wrap: break-word;\n    word-break: break-all;\n    font-family: \"Source Code Pro\", \"Menlo\", monospace;;\n    font-size: 13px;\n    color: #555;\n    margin-left: 4px;\n    line-height: 19px;\n  }\n</style>\n<div class='ansiout'>root\n-- id: integer (nullable = true)\n-- person_id: integer (nullable = true)\n-- movie_id: integer (nullable = true)\n-- person_role_id: integer (nullable = true)\n-- note: string (nullable = true)\n-- nr_order: integer (nullable = true)\n-- role_id: integer (nullable = true)\n\n</div>"
            ]
          }
        }
      ]
    },
    {
      "cell_type": "code",
      "metadata": {
        "application/vnd.databricks.v1+cell": {
          "title": "",
          "showTitle": false,
          "inputWidgets": {},
          "nuid": "11a5fa21-fdfb-4f4a-ae5f-a651cd86198c"
        },
        "id": "R2Zzk0NtfEJd",
        "outputId": "184eff54-1680-4461-a1c2-06b0de819224"
      },
      "source": [
        "cast_info.count()"
      ],
      "execution_count": null,
      "outputs": [
        {
          "output_type": "display_data",
          "metadata": {
            "application/vnd.databricks.v1+output": {
              "datasetInfos": [],
              "data": "<div class='ansiout'>360035</div>",
              "removedWidgets": [],
              "addedWidgets": {},
              "metadata": {},
              "type": "html",
              "arguments": {}
            }
          },
          "data": {
            "text/html": [
              "<style scoped>\n  .ansiout {\n    display: block;\n    unicode-bidi: embed;\n    white-space: pre-wrap;\n    word-wrap: break-word;\n    word-break: break-all;\n    font-family: \"Source Code Pro\", \"Menlo\", monospace;;\n    font-size: 13px;\n    color: #555;\n    margin-left: 4px;\n    line-height: 19px;\n  }\n</style>\n<div class='ansiout'>360035</div>"
            ]
          }
        }
      ]
    },
    {
      "cell_type": "markdown",
      "metadata": {
        "application/vnd.databricks.v1+cell": {
          "title": "",
          "showTitle": false,
          "inputWidgets": {},
          "nuid": "6fadb6ae-0d2c-4916-8e7f-1d4cc7846268"
        },
        "id": "gLjgAvGhfEJd"
      },
      "source": [
        "#### Nombre de roles par personne"
      ]
    },
    {
      "cell_type": "code",
      "metadata": {
        "application/vnd.databricks.v1+cell": {
          "title": "",
          "showTitle": false,
          "inputWidgets": {},
          "nuid": "2cf1013b-a839-44ba-b763-6b49543b4df1"
        },
        "id": "RjwTYJ3YfEJd",
        "outputId": "d122d5d2-6738-4705-8690-871a92d28e06"
      },
      "source": [
        "res2 = spark.sql(\"\"\"\n",
        "\n",
        "select person_id, count(*) as nbRoles\n",
        "from Cast_Info\n",
        "group by person_id\n",
        "order by nbRoles desc\n",
        "\n",
        "\"\"\")\n",
        "res2.persist()\n",
        "res2.show(5)"
      ],
      "execution_count": null,
      "outputs": [
        {
          "output_type": "display_data",
          "metadata": {
            "application/vnd.databricks.v1+output": {
              "datasetInfos": [],
              "data": "<div class='ansiout'>+---------+-------+\n|person_id|nbRoles|\n+---------+-------+\n|   175411|    120|\n|    95397|    118|\n|   515315|    108|\n|  1495180|    105|\n|   677696|     90|\n+---------+-------+\nonly showing top 5 rows\n\n</div>",
              "removedWidgets": [],
              "addedWidgets": {},
              "metadata": {},
              "type": "html",
              "arguments": {}
            }
          },
          "data": {
            "text/html": [
              "<style scoped>\n  .ansiout {\n    display: block;\n    unicode-bidi: embed;\n    white-space: pre-wrap;\n    word-wrap: break-word;\n    word-break: break-all;\n    font-family: \"Source Code Pro\", \"Menlo\", monospace;;\n    font-size: 13px;\n    color: #555;\n    margin-left: 4px;\n    line-height: 19px;\n  }\n</style>\n<div class='ansiout'>+---------+-------+\nperson_id|nbRoles|\n+---------+-------+\n   175411|    120|\n    95397|    118|\n   515315|    108|\n  1495180|    105|\n   677696|     90|\n+---------+-------+\nonly showing top 5 rows\n\n</div>"
            ]
          }
        }
      ]
    },
    {
      "cell_type": "markdown",
      "metadata": {
        "application/vnd.databricks.v1+cell": {
          "title": "",
          "showTitle": false,
          "inputWidgets": {},
          "nuid": "d46e99d0-004d-458c-bd7f-4dffa77df5f1"
        },
        "id": "MjJtxbjHfEJd"
      },
      "source": [
        "descrire la distribution de l'attribut nbRoles"
      ]
    },
    {
      "cell_type": "code",
      "metadata": {
        "application/vnd.databricks.v1+cell": {
          "title": "",
          "showTitle": false,
          "inputWidgets": {},
          "nuid": "26b827e0-960f-4d5c-8fa5-4e0dccb48b2a"
        },
        "id": "Sr_cIK5ufEJd",
        "outputId": "bf3331f7-dde8-4cc1-8c14-341e37f01315"
      },
      "source": [
        "d = res2.describe('nbRoles')\n",
        "d.show()"
      ],
      "execution_count": null,
      "outputs": [
        {
          "output_type": "display_data",
          "metadata": {
            "application/vnd.databricks.v1+output": {
              "datasetInfos": [],
              "data": "<div class='ansiout'>+-------+------------------+\n|summary|           nbRoles|\n+-------+------------------+\n|  count|            214749|\n|   mean|1.6765386567574239|\n| stddev|1.9565121381308854|\n|    min|                 1|\n|    max|               120|\n+-------+------------------+\n\n</div>",
              "removedWidgets": [],
              "addedWidgets": {},
              "metadata": {},
              "type": "html",
              "arguments": {}
            }
          },
          "data": {
            "text/html": [
              "<style scoped>\n  .ansiout {\n    display: block;\n    unicode-bidi: embed;\n    white-space: pre-wrap;\n    word-wrap: break-word;\n    word-break: break-all;\n    font-family: \"Source Code Pro\", \"Menlo\", monospace;;\n    font-size: 13px;\n    color: #555;\n    margin-left: 4px;\n    line-height: 19px;\n  }\n</style>\n<div class='ansiout'>+-------+------------------+\nsummary|           nbRoles|\n+-------+------------------+\n  count|            214749|\n   mean|1.6765386567574239|\n stddev|1.9565121381308854|\n    min|                 1|\n    max|               120|\n+-------+------------------+\n\n</div>"
            ]
          }
        }
      ]
    },
    {
      "cell_type": "code",
      "metadata": {
        "application/vnd.databricks.v1+cell": {
          "title": "",
          "showTitle": false,
          "inputWidgets": {},
          "nuid": "847f2150-a537-4105-9603-eddefce522da"
        },
        "id": "CKqcQ4yAfEJd",
        "outputId": "fbd4040f-b735-437b-e97e-4dcf003b11c8"
      },
      "source": [
        "#t2 = res2.sample(0.01).collect()\n",
        "t2 = res2.collect()\n",
        "\n",
        "tabNb = [x.nbRoles for x in t2]\n",
        "\n",
        "plt.yscale('log')\n",
        "plt.plot(tabNb) \n",
        "plt.xlabel('actor')\n",
        "plt.ylabel('nb roles')\n",
        "\n",
        "#plt.hist(tabNb)\n",
        "plt.show()\n",
        "\n",
        "plt.yscale('linear')\n",
        "plt.plot(tabNb) \n",
        "plt.xlabel('actor')\n",
        "plt.ylabel('nb roles')\n",
        "\n",
        "plt.show()"
      ],
      "execution_count": null,
      "outputs": [
        {
          "output_type": "display_data",
          "metadata": {
            "application/vnd.databricks.v1+output": {
              "datasetInfos": [],
              "data": "data:image/png;base64,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\n",
              "removedWidgets": [],
              "addedWidgets": {},
              "metadata": {},
              "type": "image",
              "arguments": {}
            }
          },
          "data": {
            "image/png": "[encoded data removed]"
          }
        },
        {
          "output_type": "display_data",
          "metadata": {
            "application/vnd.databricks.v1+output": {
              "datasetInfos": [],
              "data": "data:image/png;base64,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\n",
              "removedWidgets": [],
              "addedWidgets": {},
              "metadata": {},
              "type": "image",
              "arguments": {}
            }
          },
          "data": {
            "image/png": "[encoded data removed]"
          }
        }
      ]
    },
    {
      "cell_type": "markdown",
      "metadata": {
        "application/vnd.databricks.v1+cell": {
          "title": "",
          "showTitle": false,
          "inputWidgets": {},
          "nuid": "6f7d7262-8f0f-4b10-a152-9fbeeb05a8c8"
        },
        "id": "Jia5oempfEJe"
      },
      "source": [
        "#### Le nombre de rôles par type de film depuis 2010"
      ]
    },
    {
      "cell_type": "code",
      "metadata": {
        "application/vnd.databricks.v1+cell": {
          "title": "",
          "showTitle": false,
          "inputWidgets": {},
          "nuid": "b4dc64a6-7538-424a-a347-d42f0526be99"
        },
        "id": "NEVC14iKfEJe",
        "outputId": "f9449c21-352e-4e78-9fd4-89ae37e8a37d"
      },
      "source": [
        "res3 = spark.sql(\"\"\"\n",
        "SELECT g.kind, count(*) as nb_roles\n",
        "FROM Cast_Info c, Title f, Kind_type g\n",
        "WHERE c.movie_id = f.id AND f.kind_id = g.id\n",
        "AND f.production_year > 2010\n",
        "GROUP BY g.kind\n",
        "ORDER BY nb_roles desc\n",
        "\"\"\")\n",
        "res3.show(5)"
      ],
      "execution_count": null,
      "outputs": [
        {
          "output_type": "display_data",
          "metadata": {
            "application/vnd.databricks.v1+output": {
              "datasetInfos": [],
              "data": "<div class='ansiout'>+-----------+--------+\n|       kind|nb_roles|\n+-----------+--------+\n|    episode|   36527|\n|      movie|   15897|\n|   tv movie|    1842|\n|video movie|    1421|\n|  tv series|     943|\n+-----------+--------+\nonly showing top 5 rows\n\n</div>",
              "removedWidgets": [],
              "addedWidgets": {},
              "metadata": {},
              "type": "html",
              "arguments": {}
            }
          },
          "data": {
            "text/html": [
              "<style scoped>\n  .ansiout {\n    display: block;\n    unicode-bidi: embed;\n    white-space: pre-wrap;\n    word-wrap: break-word;\n    word-break: break-all;\n    font-family: \"Source Code Pro\", \"Menlo\", monospace;;\n    font-size: 13px;\n    color: #555;\n    margin-left: 4px;\n    line-height: 19px;\n  }\n</style>\n<div class='ansiout'>+-----------+--------+\n       kind|nb_roles|\n+-----------+--------+\n    episode|   36527|\n      movie|   15897|\n   tv movie|    1842|\nvideo movie|    1421|\n  tv series|     943|\n+-----------+--------+\nonly showing top 5 rows\n\n</div>"
            ]
          }
        }
      ]
    },
    {
      "cell_type": "code",
      "metadata": {
        "application/vnd.databricks.v1+cell": {
          "title": "",
          "showTitle": false,
          "inputWidgets": {},
          "nuid": "fdf47c65-8320-430e-bf47-db9759bad8aa"
        },
        "id": "aDm94Cd-fEJe",
        "outputId": "2069145b-3f62-426c-dc2c-f1e1ce69bb50"
      },
      "source": [
        "t3 = res3.collect()\n",
        "\n",
        "tabNb = [x.nb_roles for x in t3]\n",
        "tabKind = [x.kind for x in t3]\n",
        "\n",
        "plt.yscale('log')\n",
        "plt.bar(tabKind,tabNb) \n",
        "plt.xlabel('kind')\n",
        "plt.ylabel('nb roles')\n",
        "\n",
        "#plt.hist(tabNb)\n",
        "\n",
        "plt.show()"
      ],
      "execution_count": null,
      "outputs": [
        {
          "output_type": "display_data",
          "metadata": {
            "application/vnd.databricks.v1+output": {
              "datasetInfos": [],
              "data": "data:image/png;base64,iVBORw0KGgoAAAANSUhEUgAAAYUAAAEGCAYAAACKB4k+AAAABHNCSVQICAgIfAhkiAAAAAlwSFlzAAALEgAACxIB0t1+/AAAADh0RVh0U29mdHdhcmUAbWF0cGxvdGxpYiB2ZXJzaW9uMy4yLjIsIGh0dHA6Ly9tYXRwbG90bGliLm9yZy+WH4yJAAATkUlEQVR4nO3de5Skd13n8fcnkxBgJgyrGV0MhEZCwMhtYQiGa1AWwwkjLobdxHDnmEVBYBHXcPCCHI4b1l0F1CgDxmS9kAAmkJsmCCQTIOrM5D6JUTaXTaJHEldGgwKb5Lt/PL9+qDTd0zU9/XR19bxf58yZp55L1fdXv6r+1HOpX6WqkCQJ4IBJFyBJWj0MBUlSz1CQJPUMBUlSz1CQJPUOnHQB++LQQw+tmZmZSZchSVNl586d91TVpvmWTXUozMzMsGPHjkmXIUlTJcntCy3z8JEkqWcoSJJ6hoIkqWcoSJJ6hoIkqTeVoZBkS5Ktu3fvnnQpkrSmTGUoVNUFVXXKxo0bJ12KJK0pUxkKkqRhTPWX1/bFzKkXTbqEsdx22vGTLkHSfsQ9BUlSz1CQJPUMBUlSz1CQJPUMBUlSz1CQJPUMBUlSbypDwWEuJGkYUxkKDnMhScOYylCQJA3DUJAk9QwFSVLPUJAk9QwFSVLPUJAk9QwFSVLPUJAk9QwFSVLPUJAk9QwFSVLPUJAk9QwFSVJvKkPBobMlaRhTGQoOnS1Jw5jKUJAkDcNQkCT1DAVJUs9QkCT1DAVJUs9QkCT1DAVJUu/ASReg5TNz6kWTLmEst512/KRLkLQA9xQkST1DQZLUMxQkST1DQZLUMxQkST1DQZLUMxQkST1DQZLUMxQkST1DQZLUMxQkST1DQZLUMxQkSb1VFQpJ1ifZkeRlk65FkvZHg4ZCkjOSfCXJDXPmH5fk5iRfTnLqyKKfAz4+ZE2SpIUNvadwJnDc6Iwk64DfAl4KHAWclOSoJP8euBH4ysA1SZIWMOiP7FTVtiQzc2YfDXy5qm4BSHI28HJgA7CeLij+NcnFVfXAkPVJkh5sEr+8dhhwx8jtO4FnV9VbAJK8DrhnoUBIcgpwCsDhhx8+bKWStJ9ZVSeaAarqzKq6cA/Lt1bV5qravGnTppUsTZLWvEmEwl3AY0ZuP7rNkyRN2CRCYTvwhCSPS/IQ4ETg/AnUIUmaY+hLUj8GXAk8McmdSd5YVfcBbwEuAW4CPl5Vu/byfrck2bp79+7lL1qS9mNDX3100gLzLwYu3of7vQC4YPPmzT+x1PuQJH27VXeiWZI0OYaCJKk3laHgOQVJGsZUhkJVXVBVp2zcuHHSpUjSmjKVoSBJGoahIEnqGQqSpN5UhoInmiVpGFMZCp5olqRhTGUoSJKGYShIknqGgiSpZyhIknpTGQpefSRJw5jKUPDqI0kaxlSGgiRpGIaCJKlnKEiSeoaCJKlnKEiSelMZCl6SKknDmMpQ8JJUSRrGVIaCJGkYhoIkqWcoSJJ6i4ZCkvVJDmjTRyb5kSQHDV+aJGmljbOnsA14aJLDgEuBVwNnDlmUJGkyxgmFVNW/AK8ATq+qVwLfP2xZkqRJGCsUkhwDnAxc1OatG66kxfk9BUkaxjih8HbgXcB5VbUryfcCnx+2rD3zewqSNIwDF1uhqi4HLk/y8Hb7FuCtQxcmSVp541x9dEySG4G/arefluT0wSuTJK24cQ4ffQD4YeAfAKrqWuAFQxYlSZqMsb68VlV3zJl1/wC1SJImbNFzCsAdSZ4DVPvS2tuAm4YtS5I0CePsKbwJeDNwGHAX8PR2W5K0xoxz9dE9dN9RkCStcQuGQpLfAGqh5VXlZamStMbsaU9hx4pVIUlaFRYMhao6a/R2kg1t/r1DF7WYJFuALUccccSkS5GkNWWcL689OcnVwC7gxiQ7k0x0QDyHuZCkYYxz9dFW4B1V9diqOhz4GeAjw5YlSZqEcUJhfVX1A+BV1WXA+sEqkiRNzDhfXrslyS8Av99uvwq4ZbiSJEmTMs6ewhuATcC5wB8Dh7Z5kqQ1Zo97CknWAedW1YtWqB5J0gTtcU+hqu4HHkjiZT6StB8Y55zCvcD1ST4DfG12pt9olqS1Z5xQOLf9kyStceMMiHfWYutIktaGsX5kR5K0fzAUJEm9sUMhySOSHDJkMZKkyRpnQLxnJbkeuA64Icm1SZ45fGmSpJU2ztVHvwv8VFVdAZDkecDvAU8dsjBJ0sob5/DR/bOBAFBVXwDuG66kxSXZkmTr7t27J1mGJK05C4ZCkmckeQZweZIPJzk2yQuTnA5ctmIVzsPfU5CkYezp8NH/nHP7l0amF/ztZknS9NrTz3E6CJ4maubUiyZdwlhuO+34SZcgLZtFTzQnORj4MWBmdP2qeu9wZUmSJmGcq48+DewGdgLfGLYcSdIkjRMKj66q4wavRJI0ceNckvqlJE8ZvBJJ0sSNs6fwPOB1SW6lO3wUoKrKL69J0hozTii8dPAqJEmrwji/p3D7ShQiSZo8h86WJPUMBUlSb5xzCpKWid/S1mrnnoIkqWcoSJJ6hoIkqWcoSJJ6hoIkqWcoSJJ6hoIkqWcoSJJ6hoIkqbdqQiHJ9yX5nSSfTPKTk65HkvZHg4ZCkjOSfCXJDXPmH5fk5iRfTnIqQFXdVFVvAv4j8Nwh65IkzW/oPYUzgQf9lGeSdcBv0f1Ow1HASUmOast+BLgIuHjguiRJ8xg0FKpqG/B/58w+GvhyVd1SVd8EzgZe3tY/v6peCpy80H0mOSXJjiQ77r777qFKl6T90iRGST0MuGPk9p3As5McC7wCOJg97ClU1VZgK8DmzZtruDIlaf+zaobOrqrLgMsmXIakveBQ4GvPJK4+ugt4zMjtR7d5kqQJm0QobAeekORxSR4CnAicvzd3kGRLkq27d+8epEBJ2l8NfUnqx4ArgScmuTPJG6vqPuAtwCXATcDHq2rX3txvVV1QVads3Lhx+YuWpP3YoOcUquqkBeZfjJedStKqs2q+0SxJmjxDQZLUm8pQ8ESzJA1jKkPBE82SNIypDAVJ0jAMBUlSz1CQJPWmMhQ80SxJw5jKUPBEsyQNYypDQZI0DENBktQzFCRJPUNBktSbylDw6iNJGsZUhoJXH0nSMKYyFCRJwzAUJEk9Q0GS1DMUJEm9qQwFrz6SpGFMZSh49ZEkDWMqQ0GSNAxDQZLUMxQkST1DQZLUMxQkST1DQZLUMxQkSb2pDAW/vCZJw5jKUPDLa5I0jKkMBUnSMAwFSVLPUJAk9QwFSVLPUJAk9QwFSVLPUJAk9QwFSVLPUJAk9aYyFBzmQpKGMZWh4DAXkjSMqQwFSdIwDAVJUs9QkCT1DAVJUs9QkCT1DAVJUs9QkCT1DAVJUs9QkCT1DAVJUs9QkCT1DAVJUs9QkCT1Dpx0AUuRZAuw5Ygjjph0KZLWmJlTL5p0CWO57bTjB7nfqdxTcOhsSRrGVIaCJGkYhoIkqWcoSJJ6hoIkqWcoSJJ6hoIkqWcoSJJ6hoIkqZeqmnQNS5bkbuD2Sdcx4lDgnkkXsczWWpvWWntg7bVprbUHVl+bHltVm+ZbMNWhsNok2VFVmyddx3Jaa21aa+2BtdemtdYemK42efhIktQzFCRJPUNheW2ddAEDWGttWmvtgbXXprXWHpiiNnlOQZLUc09BktQzFCRJPUNhLyV5b5IXL8P93Lsc9UxKkjclec3Aj/HIJD815GOMa6n9nuR7knxygWWXJVmVlynuqe456614Hy3Xe3DOfU5lPw3BcwoTkuTeqtow6TpWsyQzwIVV9eQJlzKIJJcB76yqHZOuZalWuo+SrKuq+1fisUYe8zKmvJ/2hnsKQJJXJfnLJNck+XCSdUnuTfLrSXYl+WySTW3dM5Oc0KZPS3JjkuuS/I82bybJ59q8zyY5vM1/XJIrk1yf5H1zHv9nk2xv2/zyAO2bSfJXrfa/TvKHSV6c5ItJ/ibJ0Um+I8mnWg1/nuSpSQ5IcluSR47c198k+e4k70nyzjbv8Un+NMnOJFckedIylX4a8PjWL7+a5Owk/Q/TjvbFyLxjk1ye5NNJbml9dHLr3+uTPH7kOXlQPyXZmOT2JAe0ddYnuSPJQXP6/ZntMXYmuSTJo9rjvHmkjvckeWd7nBvavIe1NtyU5DzgYSPrv6S9Pq5K8okkG9r8H0pydav9jCQHz32S2ifZX0+yo933s5Kc2/rqfSPrvSPJDe3f29u8cepe157/2dfof97HPnpUkm1tmxuSPH+R5+C2JO9PchXwysX6os1/a7713jx75LEn2U/PavXMPlezjzeT7n1zVfv3nDZ/3NfypiR/3Ppne5Lnzn3svVJV+/U/4PuAC4CD2u3TgdcABZzc5v0i8Jtt+kzgBOA7gZv51t7WI9v/FwCvbdNvAD7Vps8HXtOm3wzc26ZfQne5WuhC+kLgBcvcxhngPuAp7TF2Ame0x3w58CngN4Bfauv/IHBNm/4g8Po2/Wzgz9r0e+g+PQF8FnjCyDqfW8a6bxi5/R+As9r0Q4A7gIfN2eZY4KvAo4CDgbuAX27L3gZ8YJF++jTwojb9n4CPzun3g4AvAZtG1jkD+HfA5SN13Ag8ZrQNwDuAM9r0U1ufbKYbAmEbsL4t+7n2mntoa+ORbf7/At4+z/N0GfD+kTb+7Uj776R7rT4TuB5YD2wAdrWax6n7FODn2/TBwA7gcfvQRz8DvLtNrwMOWeg5aNO3Af91ZPs99kWb/lvg4NH3ZpueZD/dABzTpk8bebyHAw9t008Aduzla/mPgOe16cOBm/blfXcg+iG6N8z2JNB9KvgK8ABwTlvnD4Bz52y3G/g68LtJLqT7Yw5wDPCKNv37wH9v088Ffmxk/vvb9Evav6vb7Q10L4xt+9iuuW6tqusBkuwCPltVleR6ujfEY2frq6rPJfnOJI+gew5+Efg94ES+9ZzQ7msD8BzgE+35g+4FPIQ/AT7YPoUdB2yrqn+dZ73tVfV3rb7/DVza5l8PvKhNL9RP59D9cfk8XXtPn3PfTwSeDHymtXcd8HdVdXWS70ryPcAm4B+r6o50h1dmvQD4EEBVXZfkujb/B4CjgC+2+3wIcGV7rFur6q/bemfRfaD4wDxtPn+kjbtG2n8L3R+95wHnVdXX2vxzgedX1YfGqPslwFNHPvFvpHuN3jpPHeP00XbgjCQH0YXxNUleuMBzMOscvt28fdGWXQf8YZJP0X3oAWBS/ZRub/uQqppt0x8BL2vTBwG/meTpwP3AkaPP1Riv5RcDR428/x6RZENVLem8paHQfVo+q6re9aCZyS/MWe9BJ1+q6r4kR9OFygnAW+g+Ye/JfCdwAvy3qvrwXlW9974xMv3AyO0H6F4H/2+B7a4Ejkh3+OxHgffNWX4A8NWqevoy1jqvqvp6uuO7P0z3h/vsBVZdrK17cj7wK0m+g+7DwufmLA/dH91j5tn2E3SvhX/L/H/EFhLgM1V10oNmJk/bi/sYbePc9i/W5sXqDvDTVXXJYkWM00dVtS3JC4DjgTOT/Brwj8zzHIz42gJ1LdQXx9P9cd8CvDvJU6rqvrZskv00n/8C/D3wNLr309dHlo3zWj4A+IGqGt1uyTyn0B36OCHJdwGkO7b+WLrnZvaT0Y8DXxjdqH1C3lhVF9N16uwL40t0nzABTgauaNNfnDN/1iXAG0aOTR42W8sKu2K2riTHAvdU1T9Vt096HvBrdLul/zC6UVX9E3Brkle2bbMMb5JZ/0x3aGHUOcDrgecDf7oP9z1vP7VPV9vpDptdWN9+UvNmYFOSYwDSnW/4/pHaTqR73XxinsfcRvdaIsmT6Q5NAPw58NwkR7Rl65Mc2R5rZnY+8Grg8iW29wrgR5M8PMl6usM8s6/Nxeq+BPjJ9smeJEe2+4Al9FF7f/19VX0E+CjwDBZ+DvZk3r5Id07oMVX1ebpDPBvp9sBH61vRfqqqrwL/nOTZbdaJI4s30u1tPtC2XbdIu+e6FPjp2Rttj2PJ9vtQqKobgZ8HLm27iZ+hO4b3NeDodjLoB4H3ztn0EODCts0X6I5DQtc5r2/zX0137I/2/5vb4ZrDRh7/UrpdySvbsk/y7W+ylfAe4Jmt7tOA144sOwd4FQt/qjoZeGOSa+mOVb98OQpqAfTFdCcjf7XNvhR4Id25jW/uw90v1E+wh/a2xzwBeH9r7zV0h8+oql10fXfX7C7/HL8NbEhyE93raWfb7m7gdcDHWj1XAk9qn/xeT3do7nq6T4e/s5TGVtVVdMfi/xL4C7pzJVePWfdH6Y69X9XeDx+mfUpdYh8dC1yb5Gq6vYkPLvQcLNKmhfpiHfAH7Tm7GvhQ+6M8u92k+umNwEeSXEN3bmd3m3868NrWhicx/17RnrwV2JzuJPaNwJv2cvsH8ZLUBcRLRiUto9Hj/ElOBR5VVW9bZLMV5zkFSVoZxyd5F93f3dvp9jpWHfcUJEm9/f6cgiTpWwwFSVLPUJAk9QwFaS9lZJyckXmbk3xoL++nHz9KWi28+khaBtWNoLlfjKKptc09BWkfJPnedKNj/my6MbBm9wDOSDd66S1J3jqy/rvTjVT7Bboxc6RVxT0FaYmSPJFubJ/XAf+G7lu8s55EN2DZIcDNSX6bbriEE4Gn0733rqJ9W1ZaLdxTkJZmE90w2ydX1bXzLL+oqr5RVffQjbr73XRjAZ1XVf/Sxow6f57tpIkyFKSl2Q38H7ohqeczOrrl/bhXrilhKEhL8026kUZfk+THx9xmG91IpQ9LcgjdsM7SqmIoSEvUfrDmZXRDpz9ijPWvoht59Vq6H6PZPmiB0hI49pEkqeeegiSpZyhIknqGgiSpZyhIknqGgiSpZyhIknqGgiSp9/8BzfH8WiFrAaIAAAAASUVORK5CYII=\n",
              "removedWidgets": [],
              "addedWidgets": {},
              "metadata": {},
              "type": "image",
              "arguments": {}
            }
          },
          "data": {
            "image/png": "[encoded data removed]"
          }
        }
      ]
    },
    {
      "cell_type": "markdown",
      "metadata": {
        "application/vnd.databricks.v1+cell": {
          "title": "",
          "showTitle": false,
          "inputWidgets": {},
          "nuid": "eefcf1a4-e009-4d53-9bbd-62d171e1ff10"
        },
        "id": "i0OgROGKfEJe"
      },
      "source": [
        "## Autres traitements"
      ]
    },
    {
      "cell_type": "markdown",
      "metadata": {
        "application/vnd.databricks.v1+cell": {
          "title": "",
          "showTitle": false,
          "inputWidgets": {},
          "nuid": "72c2cf28-b4c2-4fe6-92ff-7fe781f786e6"
        },
        "id": "Hzu7sMVcfEJe"
      },
      "source": [
        "### Extraction de la date de sortie _release_dates_"
      ]
    },
    {
      "cell_type": "code",
      "metadata": {
        "application/vnd.databricks.v1+cell": {
          "title": "",
          "showTitle": false,
          "inputWidgets": {},
          "nuid": "0eb3ae5c-8ace-4d4d-9230-a1da29508f2d"
        },
        "id": "DlJYzCTDfEJe"
      },
      "source": [
        "%sql\n",
        "create or replace temp view TitleDetail as\n",
        "select t.id, t.title, t.production_year, k.kind, it.info as property, m.info as value\n",
        "from Title t, Movie_Info m, Info_type it, Kind_Type k\n",
        "where t.id = m.movie_id \n",
        "and m.info_type_id = it.id\n",
        "and t.kind_id = k.id\n",
        ";\n",
        "\n",
        "select * \n",
        "from TitleDetail t\n",
        "order by  t.production_year desc, t.title\n",
        "limit 100;"
      ],
      "execution_count": null,
      "outputs": []
    },
    {
      "cell_type": "markdown",
      "metadata": {
        "application/vnd.databricks.v1+cell": {
          "title": "",
          "showTitle": false,
          "inputWidgets": {},
          "nuid": "68183f25-6ae2-4204-a291-cf19f923426f"
        },
        "id": "LJm4bb9PfEJe"
      },
      "source": [
        "Mémoriser le résultat de TitleDetail pour éviter de le calculer plusieurs fois"
      ]
    },
    {
      "cell_type": "code",
      "metadata": {
        "application/vnd.databricks.v1+cell": {
          "title": "",
          "showTitle": false,
          "inputWidgets": {},
          "nuid": "3a609edf-b63a-4462-9331-42773b627d7a"
        },
        "id": "OMCffk20fEJe",
        "outputId": "efd79460-d91f-483f-bc07-79d57a8b8622"
      },
      "source": [
        "%sql\n",
        "cache table TitleDetail"
      ],
      "execution_count": null,
      "outputs": [
        {
          "output_type": "display_data",
          "metadata": {
            "application/vnd.databricks.v1+output": {
              "overflow": false,
              "datasetInfos": [],
              "data": [],
              "plotOptions": {
                "displayType": "table",
                "customPlotOptions": {},
                "pivotColumns": [],
                "pivotAggregation": null,
                "xColumns": [],
                "yColumns": []
              },
              "columnCustomDisplayInfos": {},
              "aggType": "",
              "isJsonSchema": true,
              "removedWidgets": [],
              "aggSchema": [],
              "schema": [],
              "aggError": "",
              "aggData": [],
              "addedWidgets": {},
              "metadata": {},
              "dbfsResultPath": null,
              "type": "table",
              "aggOverflow": false,
              "aggSeriesLimitReached": false,
              "arguments": {}
            }
          },
          "data": {
            "text/html": [
              "<style scoped>\n  .table-result-container {\n    max-height: 300px;\n    overflow: auto;\n  }\n  table, th, td {\n    border: 1px solid black;\n    border-collapse: collapse;\n  }\n  th, td {\n    padding: 5px;\n  }\n  th {\n    text-align: left;\n  }\n</style><div class='table-result-container'><table class='table-result'><thead style='background-color: white'><tr></tr></thead><tbody></tbody></table></div>"
            ]
          }
        }
      ]
    },
    {
      "cell_type": "markdown",
      "metadata": {
        "application/vnd.databricks.v1+cell": {
          "title": "",
          "showTitle": false,
          "inputWidgets": {},
          "nuid": "3e8599a7-5f13-46a5-92c9-bd495f83d685"
        },
        "id": "F4Q4bMNEfEJe"
      },
      "source": [
        "Une oeuvre peut avoir les propriétés suivantes"
      ]
    },
    {
      "cell_type": "markdown",
      "metadata": {
        "application/vnd.databricks.v1+cell": {
          "title": "",
          "showTitle": false,
          "inputWidgets": {},
          "nuid": "b40d0d85-b153-48de-8ed9-c9f067e4ca6f"
        },
        "id": "Z08dcUU5fEJe"
      },
      "source": [
        "#### Informations détaillées sur toutes les propriétés d'une personne"
      ]
    },
    {
      "cell_type": "code",
      "metadata": {
        "application/vnd.databricks.v1+cell": {
          "title": "",
          "showTitle": false,
          "inputWidgets": {},
          "nuid": "7e4c724e-7dfd-4163-94fd-ba7e55448693"
        },
        "id": "VTz2jKQ7fEJe"
      },
      "source": [
        "%sql\n",
        "create or replace temp view NameDetail as\n",
        "select n.id, n.name, n.gender, i.info as property, p.info as value\n",
        "from Name n, Person_Info p, Info_type i\n",
        "where n.id = p.person_id\n",
        "and p.info_type_id = i.id\n",
        ";\n",
        " \n",
        "select * \n",
        "from NameDetail n\n",
        "where n.name like 'Smi%'\n",
        "order by n.name, n.property\n",
        "limit 100;"
      ],
      "execution_count": null,
      "outputs": []
    },
    {
      "cell_type": "markdown",
      "metadata": {
        "application/vnd.databricks.v1+cell": {
          "title": "",
          "showTitle": false,
          "inputWidgets": {},
          "nuid": "5f927ffe-1f92-4804-ab90-a6fcebb43fad"
        },
        "id": "FhJuK8D0fEJe"
      },
      "source": [
        "Mémoriser le résultat de NameDetail pour éviter de le calculer plusieurs fois"
      ]
    },
    {
      "cell_type": "code",
      "metadata": {
        "application/vnd.databricks.v1+cell": {
          "title": "",
          "showTitle": false,
          "inputWidgets": {},
          "nuid": "124515b3-760f-4b92-bd02-22439592d2d4"
        },
        "id": "EzG5mdD6fEJe",
        "outputId": "ec9e12a7-05df-4c36-fb82-5b0b1b257f6b"
      },
      "source": [
        "%sql\n",
        "cache table NameDetail;"
      ],
      "execution_count": null,
      "outputs": [
        {
          "output_type": "display_data",
          "metadata": {
            "application/vnd.databricks.v1+output": {
              "overflow": false,
              "datasetInfos": [],
              "data": [],
              "plotOptions": {
                "displayType": "table",
                "customPlotOptions": {},
                "pivotColumns": [],
                "pivotAggregation": null,
                "xColumns": [],
                "yColumns": []
              },
              "columnCustomDisplayInfos": {},
              "aggType": "",
              "isJsonSchema": true,
              "removedWidgets": [],
              "aggSchema": [],
              "schema": [],
              "aggError": "",
              "aggData": [],
              "addedWidgets": {},
              "metadata": {},
              "dbfsResultPath": null,
              "type": "table",
              "aggOverflow": false,
              "aggSeriesLimitReached": false,
              "arguments": {}
            }
          },
          "data": {
            "text/html": [
              "<style scoped>\n  .table-result-container {\n    max-height: 300px;\n    overflow: auto;\n  }\n  table, th, td {\n    border: 1px solid black;\n    border-collapse: collapse;\n  }\n  th, td {\n    padding: 5px;\n  }\n  th {\n    text-align: left;\n  }\n</style><div class='table-result-container'><table class='table-result'><thead style='background-color: white'><tr></tr></thead><tbody></tbody></table></div>"
            ]
          }
        }
      ]
    },
    {
      "cell_type": "markdown",
      "metadata": {
        "application/vnd.databricks.v1+cell": {
          "title": "",
          "showTitle": false,
          "inputWidgets": {},
          "nuid": "5cf98ec1-be8b-4d62-9dcc-0b609054bdb3"
        },
        "id": "T1rYcUEpfEJe"
      },
      "source": [
        "Une personne peut avoir les propriétés suivantes"
      ]
    },
    {
      "cell_type": "markdown",
      "metadata": {
        "application/vnd.databricks.v1+cell": {
          "title": "",
          "showTitle": false,
          "inputWidgets": {},
          "nuid": "772a308f-5a3e-4012-951a-5a8a6a7bd334"
        },
        "id": "u3M9siF9fEJe"
      },
      "source": [
        "#### Structurer la date de sortie d'un film\n",
        "sélection des infos sur la date de sortie"
      ]
    },
    {
      "cell_type": "code",
      "metadata": {
        "application/vnd.databricks.v1+cell": {
          "title": "",
          "showTitle": false,
          "inputWidgets": {},
          "nuid": "f162537b-8ce1-46f2-9d11-880663d14358"
        },
        "id": "j32PrKwufEJe",
        "outputId": "76f17813-0a4c-4f6b-e5f3-4e16d8c91b53"
      },
      "source": [
        "%sql\n",
        "create or replace temp view Release_Date as\n",
        "select t1.id, t1.title, t1.value as release_date\n",
        "from TitleDetail t1\n",
        "where t1.property = \"release dates\";\n",
        "\n",
        "select * from Release_Date limit 3;"
      ],
      "execution_count": null,
      "outputs": [
        {
          "output_type": "display_data",
          "metadata": {
            "application/vnd.databricks.v1+output": {
              "overflow": false,
              "datasetInfos": [],
              "data": [
                [
                  13,
                  "Intro: By My Side",
                  "Italy:29 March 2012"
                ],
                [
                  434,
                  "Brand in Mokum",
                  "Netherlands:7 January 2013"
                ],
                [
                  1680,
                  "A Tiny Problem in the Kitchen",
                  "USA:11 May 2011"
                ]
              ],
              "plotOptions": {
                "displayType": "table",
                "customPlotOptions": {},
                "pivotColumns": [],
                "pivotAggregation": null,
                "xColumns": [],
                "yColumns": []
              },
              "columnCustomDisplayInfos": {},
              "aggType": "",
              "isJsonSchema": true,
              "removedWidgets": [],
              "aggSchema": [],
              "schema": [
                {
                  "name": "id",
                  "type": "\"integer\"",
                  "metadata": "{}"
                },
                {
                  "name": "title",
                  "type": "\"string\"",
                  "metadata": "{}"
                },
                {
                  "name": "release_date",
                  "type": "\"string\"",
                  "metadata": "{}"
                }
              ],
              "aggError": "",
              "aggData": [],
              "addedWidgets": {},
              "metadata": {},
              "dbfsResultPath": null,
              "type": "table",
              "aggOverflow": false,
              "aggSeriesLimitReached": false,
              "arguments": {}
            }
          },
          "data": {
            "text/html": [
              "<style scoped>\n  .table-result-container {\n    max-height: 300px;\n    overflow: auto;\n  }\n  table, th, td {\n    border: 1px solid black;\n    border-collapse: collapse;\n  }\n  th, td {\n    padding: 5px;\n  }\n  th {\n    text-align: left;\n  }\n</style><div class='table-result-container'><table class='table-result'><thead style='background-color: white'><tr><th>id</th><th>title</th><th>release_date</th></tr></thead><tbody><tr><td>13</td><td>Intro: By My Side</td><td>Italy:29 March 2012</td></tr><tr><td>434</td><td>Brand in Mokum</td><td>Netherlands:7 January 2013</td></tr><tr><td>1680</td><td>A Tiny Problem in the Kitchen</td><td>USA:11 May 2011</td></tr></tbody></table></div>"
            ]
          }
        }
      ]
    },
    {
      "cell_type": "markdown",
      "metadata": {
        "application/vnd.databricks.v1+cell": {
          "title": "",
          "showTitle": false,
          "inputWidgets": {},
          "nuid": "eccbf28b-b94e-4016-b738-56323033fe5d"
        },
        "id": "o2XwhA7CfEJe"
      },
      "source": [
        "découper la chaine _release_date_  pour séparer  le pays et la date"
      ]
    },
    {
      "cell_type": "code",
      "metadata": {
        "application/vnd.databricks.v1+cell": {
          "title": "",
          "showTitle": false,
          "inputWidgets": {},
          "nuid": "8331e364-cc7c-4b06-b4ca-2b8f6f50b2e4"
        },
        "id": "8QN52pNlfEJf",
        "outputId": "725e4fbb-8276-43a1-c89f-bf8c03b14a06"
      },
      "source": [
        "%sql\n",
        "create or replace temp view SplitDate as \n",
        "select r.id, r.title, split(release_date, ':') as splitDate\n",
        "from Release_Date r;\n",
        "\n",
        "select *  from SplitDate s limit 3;"
      ],
      "execution_count": null,
      "outputs": [
        {
          "output_type": "display_data",
          "metadata": {
            "application/vnd.databricks.v1+output": {
              "overflow": false,
              "datasetInfos": [],
              "data": [
                [
                  13,
                  "Intro: By My Side",
                  [
                    "Italy",
                    "29 March 2012"
                  ]
                ],
                [
                  434,
                  "Brand in Mokum",
                  [
                    "Netherlands",
                    "7 January 2013"
                  ]
                ],
                [
                  1680,
                  "A Tiny Problem in the Kitchen",
                  [
                    "USA",
                    "11 May 2011"
                  ]
                ]
              ],
              "plotOptions": {
                "displayType": "table",
                "customPlotOptions": {},
                "pivotColumns": [],
                "pivotAggregation": null,
                "xColumns": [],
                "yColumns": []
              },
              "columnCustomDisplayInfos": {},
              "aggType": "",
              "isJsonSchema": true,
              "removedWidgets": [],
              "aggSchema": [],
              "schema": [
                {
                  "name": "id",
                  "type": "\"integer\"",
                  "metadata": "{}"
                },
                {
                  "name": "title",
                  "type": "\"string\"",
                  "metadata": "{}"
                },
                {
                  "name": "splitDate",
                  "type": "{\"type\":\"array\",\"elementType\":\"string\",\"containsNull\":true}",
                  "metadata": "{}"
                }
              ],
              "aggError": "",
              "aggData": [],
              "addedWidgets": {},
              "metadata": {},
              "dbfsResultPath": null,
              "type": "table",
              "aggOverflow": false,
              "aggSeriesLimitReached": false,
              "arguments": {}
            }
          },
          "data": {
            "text/html": [
              "<style scoped>\n  .table-result-container {\n    max-height: 300px;\n    overflow: auto;\n  }\n  table, th, td {\n    border: 1px solid black;\n    border-collapse: collapse;\n  }\n  th, td {\n    padding: 5px;\n  }\n  th {\n    text-align: left;\n  }\n</style><div class='table-result-container'><table class='table-result'><thead style='background-color: white'><tr><th>id</th><th>title</th><th>splitDate</th></tr></thead><tbody><tr><td>13</td><td>Intro: By My Side</td><td>List(Italy, 29 March 2012)</td></tr><tr><td>434</td><td>Brand in Mokum</td><td>List(Netherlands, 7 January 2013)</td></tr><tr><td>1680</td><td>A Tiny Problem in the Kitchen</td><td>List(USA, 11 May 2011)</td></tr></tbody></table></div>"
            ]
          }
        }
      ]
    },
    {
      "cell_type": "code",
      "metadata": {
        "application/vnd.databricks.v1+cell": {
          "title": "",
          "showTitle": false,
          "inputWidgets": {},
          "nuid": "b70403f8-3110-4e75-a150-16e931139279"
        },
        "id": "XK7-8eCVfEJf",
        "outputId": "37d57f88-94f3-4ca5-8575-58dcd986b86d"
      },
      "source": [
        "%sql\n",
        "create or replace temp view CountryDMY as \n",
        "select s.id, s.title, element_at(s.splitDate, 1) as country, split(element_at(s.splitDate, 2),' ') as DMY\n",
        "from SplitDate s\n",
        ";\n",
        "\n",
        "select * from  CountryDMY limit 3;"
      ],
      "execution_count": null,
      "outputs": [
        {
          "output_type": "display_data",
          "metadata": {
            "application/vnd.databricks.v1+output": {
              "overflow": false,
              "datasetInfos": [],
              "data": [
                [
                  13,
                  "Intro: By My Side",
                  "Italy",
                  [
                    "29",
                    "March",
                    "2012"
                  ]
                ],
                [
                  434,
                  "Brand in Mokum",
                  "Netherlands",
                  [
                    "7",
                    "January",
                    "2013"
                  ]
                ],
                [
                  1680,
                  "A Tiny Problem in the Kitchen",
                  "USA",
                  [
                    "11",
                    "May",
                    "2011"
                  ]
                ]
              ],
              "plotOptions": {
                "displayType": "table",
                "customPlotOptions": {},
                "pivotColumns": [],
                "pivotAggregation": null,
                "xColumns": [],
                "yColumns": []
              },
              "columnCustomDisplayInfos": {},
              "aggType": "",
              "isJsonSchema": true,
              "removedWidgets": [],
              "aggSchema": [],
              "schema": [
                {
                  "name": "id",
                  "type": "\"integer\"",
                  "metadata": "{}"
                },
                {
                  "name": "title",
                  "type": "\"string\"",
                  "metadata": "{}"
                },
                {
                  "name": "country",
                  "type": "\"string\"",
                  "metadata": "{}"
                },
                {
                  "name": "DMY",
                  "type": "{\"type\":\"array\",\"elementType\":\"string\",\"containsNull\":true}",
                  "metadata": "{}"
                }
              ],
              "aggError": "",
              "aggData": [],
              "addedWidgets": {},
              "metadata": {},
              "dbfsResultPath": null,
              "type": "table",
              "aggOverflow": false,
              "aggSeriesLimitReached": false,
              "arguments": {}
            }
          },
          "data": {
            "text/html": [
              "<style scoped>\n  .table-result-container {\n    max-height: 300px;\n    overflow: auto;\n  }\n  table, th, td {\n    border: 1px solid black;\n    border-collapse: collapse;\n  }\n  th, td {\n    padding: 5px;\n  }\n  th {\n    text-align: left;\n  }\n</style><div class='table-result-container'><table class='table-result'><thead style='background-color: white'><tr><th>id</th><th>title</th><th>country</th><th>DMY</th></tr></thead><tbody><tr><td>13</td><td>Intro: By My Side</td><td>Italy</td><td>List(29, March, 2012)</td></tr><tr><td>434</td><td>Brand in Mokum</td><td>Netherlands</td><td>List(7, January, 2013)</td></tr><tr><td>1680</td><td>A Tiny Problem in the Kitchen</td><td>USA</td><td>List(11, May, 2011)</td></tr></tbody></table></div>"
            ]
          }
        }
      ]
    },
    {
      "cell_type": "markdown",
      "metadata": {
        "application/vnd.databricks.v1+cell": {
          "title": "",
          "showTitle": false,
          "inputWidgets": {},
          "nuid": "f95f5de7-630b-4a56-817c-13b4497dfea4"
        },
        "id": "ympTqJJ2fEJf"
      },
      "source": [
        "extraire les attributs : day, month, year"
      ]
    },
    {
      "cell_type": "code",
      "metadata": {
        "application/vnd.databricks.v1+cell": {
          "title": "",
          "showTitle": false,
          "inputWidgets": {},
          "nuid": "47c1b6a9-9d81-452f-acc2-8a3dab2fcfc0"
        },
        "id": "Do9juElmfEJf",
        "outputId": "8e2874ce-5af6-4cd8-c4e3-c6b8e6e30e0c"
      },
      "source": [
        "%sql\n",
        "-- à compléter\n",
        "create or replace temp view ExtractDate as\n",
        "select c.id, c.title, c.country, element_at(c.DMY, 1) as Day, element_at(c.DMY, 2) as Month, element_at(c.DMY, 3) as Year\n",
        "from CountryDMY c\n",
        ";\n",
        "\n",
        "select * from ExtractDate limit 3;"
      ],
      "execution_count": null,
      "outputs": [
        {
          "output_type": "display_data",
          "metadata": {
            "application/vnd.databricks.v1+output": {
              "overflow": false,
              "datasetInfos": [],
              "data": [
                [
                  13,
                  "Intro: By My Side",
                  "Italy",
                  "29",
                  "March",
                  "2012"
                ],
                [
                  434,
                  "Brand in Mokum",
                  "Netherlands",
                  "7",
                  "January",
                  "2013"
                ],
                [
                  1680,
                  "A Tiny Problem in the Kitchen",
                  "USA",
                  "11",
                  "May",
                  "2011"
                ]
              ],
              "plotOptions": {
                "displayType": "table",
                "customPlotOptions": {},
                "pivotColumns": [],
                "pivotAggregation": null,
                "xColumns": [],
                "yColumns": []
              },
              "columnCustomDisplayInfos": {},
              "aggType": "",
              "isJsonSchema": true,
              "removedWidgets": [],
              "aggSchema": [],
              "schema": [
                {
                  "name": "id",
                  "type": "\"integer\"",
                  "metadata": "{}"
                },
                {
                  "name": "title",
                  "type": "\"string\"",
                  "metadata": "{}"
                },
                {
                  "name": "country",
                  "type": "\"string\"",
                  "metadata": "{}"
                },
                {
                  "name": "Day",
                  "type": "\"string\"",
                  "metadata": "{}"
                },
                {
                  "name": "Month",
                  "type": "\"string\"",
                  "metadata": "{}"
                },
                {
                  "name": "Year",
                  "type": "\"string\"",
                  "metadata": "{}"
                }
              ],
              "aggError": "",
              "aggData": [],
              "addedWidgets": {},
              "metadata": {},
              "dbfsResultPath": null,
              "type": "table",
              "aggOverflow": false,
              "aggSeriesLimitReached": false,
              "arguments": {}
            }
          },
          "data": {
            "text/html": [
              "<style scoped>\n  .table-result-container {\n    max-height: 300px;\n    overflow: auto;\n  }\n  table, th, td {\n    border: 1px solid black;\n    border-collapse: collapse;\n  }\n  th, td {\n    padding: 5px;\n  }\n  th {\n    text-align: left;\n  }\n</style><div class='table-result-container'><table class='table-result'><thead style='background-color: white'><tr><th>id</th><th>title</th><th>country</th><th>Day</th><th>Month</th><th>Year</th></tr></thead><tbody><tr><td>13</td><td>Intro: By My Side</td><td>Italy</td><td>29</td><td>March</td><td>2012</td></tr><tr><td>434</td><td>Brand in Mokum</td><td>Netherlands</td><td>7</td><td>January</td><td>2013</td></tr><tr><td>1680</td><td>A Tiny Problem in the Kitchen</td><td>USA</td><td>11</td><td>May</td><td>2011</td></tr></tbody></table></div>"
            ]
          }
        }
      ]
    },
    {
      "cell_type": "markdown",
      "metadata": {
        "application/vnd.databricks.v1+cell": {
          "title": "",
          "showTitle": false,
          "inputWidgets": {},
          "nuid": "3bad672c-617a-432b-8b22-10927e4a5bfe"
        },
        "id": "EFjyO-HvfEJf"
      },
      "source": [
        "### Diverses requêtes"
      ]
    },
    {
      "cell_type": "markdown",
      "metadata": {
        "application/vnd.databricks.v1+cell": {
          "title": "",
          "showTitle": false,
          "inputWidgets": {},
          "nuid": "1f9bf4b6-63d3-4496-90e4-46a1be77d2a6"
        },
        "id": "MYFYK4U3fEJf"
      },
      "source": [
        "#### Exemple de jointure naturelle vs. jointure externe"
      ]
    },
    {
      "cell_type": "markdown",
      "metadata": {
        "application/vnd.databricks.v1+cell": {
          "title": "",
          "showTitle": false,
          "inputWidgets": {},
          "nuid": "09fe21b9-8a6d-4237-8b41-c35c3a1ea329"
        },
        "id": "O7KKaTV1fEJf"
      },
      "source": [
        "Jointure naturelle: Seulement les films possédant la propriété _color info_"
      ]
    },
    {
      "cell_type": "code",
      "metadata": {
        "application/vnd.databricks.v1+cell": {
          "title": "",
          "showTitle": false,
          "inputWidgets": {},
          "nuid": "f4c0ca05-89cb-43e1-a3f8-6dd69b075103"
        },
        "id": "2woopa4ufEJf",
        "outputId": "d8219f69-7058-4073-cddb-d9aff04a427f"
      },
      "source": [
        "%sql\n",
        "-- on sait que la référence info_type_id vaut 2 pour 'color info' dans Movie_Info\n",
        "\n",
        "select t.id, t.title, m.info as color_info\n",
        "from Title t, Movie_Info m\n",
        "where t.id = m.movie_id \n",
        "and m.info_type_id = 2\n",
        "order by id\n",
        "limit 5;"
      ],
      "execution_count": null,
      "outputs": [
        {
          "output_type": "display_data",
          "metadata": {
            "application/vnd.databricks.v1+output": {
              "overflow": false,
              "datasetInfos": [],
              "data": [
                [
                  54,
                  "Easy, Writer",
                  "Color"
                ],
                [
                  160,
                  "Mystic, CT",
                  "Color"
                ],
                [
                  296,
                  "Camp Dance",
                  "Color"
                ],
                [
                  358,
                  "The Great Un-Escape",
                  "Color"
                ],
                [
                  614,
                  "Dream Weaver",
                  "Color"
                ]
              ],
              "plotOptions": {
                "displayType": "table",
                "customPlotOptions": {},
                "pivotColumns": [],
                "pivotAggregation": null,
                "xColumns": [],
                "yColumns": []
              },
              "columnCustomDisplayInfos": {},
              "aggType": "",
              "isJsonSchema": true,
              "removedWidgets": [],
              "aggSchema": [],
              "schema": [
                {
                  "name": "id",
                  "type": "\"integer\"",
                  "metadata": "{}"
                },
                {
                  "name": "title",
                  "type": "\"string\"",
                  "metadata": "{}"
                },
                {
                  "name": "color_info",
                  "type": "\"string\"",
                  "metadata": "{}"
                }
              ],
              "aggError": "",
              "aggData": [],
              "addedWidgets": {},
              "metadata": {},
              "dbfsResultPath": null,
              "type": "table",
              "aggOverflow": false,
              "aggSeriesLimitReached": false,
              "arguments": {}
            }
          },
          "data": {
            "text/html": [
              "<style scoped>\n  .table-result-container {\n    max-height: 300px;\n    overflow: auto;\n  }\n  table, th, td {\n    border: 1px solid black;\n    border-collapse: collapse;\n  }\n  th, td {\n    padding: 5px;\n  }\n  th {\n    text-align: left;\n  }\n</style><div class='table-result-container'><table class='table-result'><thead style='background-color: white'><tr><th>id</th><th>title</th><th>color_info</th></tr></thead><tbody><tr><td>54</td><td>Easy, Writer</td><td>Color</td></tr><tr><td>160</td><td>Mystic, CT</td><td>Color</td></tr><tr><td>296</td><td>Camp Dance</td><td>Color</td></tr><tr><td>358</td><td>The Great Un-Escape</td><td>Color</td></tr><tr><td>614</td><td>Dream Weaver</td><td>Color</td></tr></tbody></table></div>"
            ]
          }
        }
      ]
    },
    {
      "cell_type": "markdown",
      "metadata": {
        "application/vnd.databricks.v1+cell": {
          "title": "",
          "showTitle": false,
          "inputWidgets": {},
          "nuid": "9bdd49a4-b641-4954-8089-02590a445068"
        },
        "id": "qoC1eCNbfEJf"
      },
      "source": [
        "#### Questions diverses\n",
        "Quels sont tous les noms d'attributs en rapport avec une date ?"
      ]
    },
    {
      "cell_type": "code",
      "metadata": {
        "application/vnd.databricks.v1+cell": {
          "title": "",
          "showTitle": false,
          "inputWidgets": {},
          "nuid": "2504026a-d60a-4b50-9021-126fdd75cf90"
        },
        "id": "S3oRSm4MfEJf",
        "outputId": "f65ad096-dbbc-470c-a37a-851138503824"
      },
      "source": [
        "%sql\n",
        "select *\n",
        "from Info_type t\n",
        "where t.info like '%date%'"
      ],
      "execution_count": null,
      "outputs": [
        {
          "output_type": "display_data",
          "metadata": {
            "application/vnd.databricks.v1+output": {
              "overflow": false,
              "datasetInfos": [],
              "data": [
                [
                  16,
                  "release dates"
                ],
                [
                  21,
                  "birth date"
                ],
                [
                  23,
                  "death date"
                ],
                [
                  50,
                  "LD release date"
                ],
                [
                  102,
                  "production dates"
                ],
                [
                  104,
                  "filming dates"
                ]
              ],
              "plotOptions": {
                "displayType": "table",
                "customPlotOptions": {},
                "pivotColumns": [],
                "pivotAggregation": null,
                "xColumns": [],
                "yColumns": []
              },
              "columnCustomDisplayInfos": {},
              "aggType": "",
              "isJsonSchema": true,
              "removedWidgets": [],
              "aggSchema": [],
              "schema": [
                {
                  "name": "id",
                  "type": "\"integer\"",
                  "metadata": "{}"
                },
                {
                  "name": "info",
                  "type": "\"string\"",
                  "metadata": "{}"
                }
              ],
              "aggError": "",
              "aggData": [],
              "addedWidgets": {},
              "metadata": {},
              "dbfsResultPath": null,
              "type": "table",
              "aggOverflow": false,
              "aggSeriesLimitReached": false,
              "arguments": {}
            }
          },
          "data": {
            "text/html": [
              "<style scoped>\n  .table-result-container {\n    max-height: 300px;\n    overflow: auto;\n  }\n  table, th, td {\n    border: 1px solid black;\n    border-collapse: collapse;\n  }\n  th, td {\n    padding: 5px;\n  }\n  th {\n    text-align: left;\n  }\n</style><div class='table-result-container'><table class='table-result'><thead style='background-color: white'><tr><th>id</th><th>info</th></tr></thead><tbody><tr><td>16</td><td>release dates</td></tr><tr><td>21</td><td>birth date</td></tr><tr><td>23</td><td>death date</td></tr><tr><td>50</td><td>LD release date</td></tr><tr><td>102</td><td>production dates</td></tr><tr><td>104</td><td>filming dates</td></tr></tbody></table></div>"
            ]
          }
        }
      ]
    },
    {
      "cell_type": "markdown",
      "metadata": {
        "application/vnd.databricks.v1+cell": {
          "title": "",
          "showTitle": false,
          "inputWidgets": {},
          "nuid": "e702d416-7f20-4201-afa8-6aac53f19898"
        },
        "id": "FYms6um3fEJf"
      },
      "source": [
        "Quelle est la syntaxe de la fonction **if** dans la clause select ?"
      ]
    },
    {
      "cell_type": "code",
      "metadata": {
        "application/vnd.databricks.v1+cell": {
          "title": "",
          "showTitle": false,
          "inputWidgets": {},
          "nuid": "a9dfc93d-c658-495b-85d0-26a4ad3d7eda"
        },
        "id": "16fiI9vwfEJf"
      },
      "source": [
        "%sql\n",
        "select n.name, n.gender, if(gender='m', 'Mr' , if(gender='f', 'Mme', 'Inconnue' )) as civilite\n",
        "from Name n\n",
        "where name like '%isa';"
      ],
      "execution_count": null,
      "outputs": []
    },
    {
      "cell_type": "markdown",
      "metadata": {
        "application/vnd.databricks.v1+cell": {
          "title": "",
          "showTitle": false,
          "inputWidgets": {},
          "nuid": "b664e6a3-b2f0-48dd-866a-afab7b0b65d2"
        },
        "id": "Jcf7rgClfEJf"
      },
      "source": [
        "# QUESTIONS"
      ]
    },
    {
      "cell_type": "markdown",
      "metadata": {
        "application/vnd.databricks.v1+cell": {
          "title": "",
          "showTitle": false,
          "inputWidgets": {},
          "nuid": "d86f20c4-381a-4039-9322-bf2e519c7a57"
        },
        "id": "ksMnTBpcfEJf"
      },
      "source": [
        "## Restructuration depuis la table NameDetail"
      ]
    },
    {
      "cell_type": "markdown",
      "metadata": {
        "application/vnd.databricks.v1+cell": {
          "title": "",
          "showTitle": false,
          "inputWidgets": {},
          "nuid": "0bbf4bac-8e70-43be-903b-b5804a7d99a5"
        },
        "id": "H-AVAETwfEJf"
      },
      "source": [
        "Définir ces relations apportant des informations structurées sur les personnes : \n",
        " - une table Nickname assez simple qui redéfini la propriété nick names en un nouvel attribut de personne\n",
        " - une table Birth_actor qui inclut la date, le lieu et le nom de naissance des personnes\n",
        " - une table Death avec le lieu et la cause du décès des personnes\n",
        " - une table SplitMagCover avec le nom du magazine dans lequel une personne a fait la couverture, le pays et la date de ladite couverture\n",
        " - une table Heights qui recense la taille des personnes de manière exploitable, en les reconvertissant en tailles en cm, alors que les entrées de la base sont très diverses (en plusieurs unités également)"
      ]
    },
    {
      "cell_type": "markdown",
      "metadata": {
        "application/vnd.databricks.v1+cell": {
          "title": "",
          "showTitle": false,
          "inputWidgets": {},
          "nuid": "e94ac7ac-7a7e-434b-ba68-e31f8b245720"
        },
        "id": "uiZ4xrmffEJf"
      },
      "source": [
        "Regardons d'abord la table NameDetail"
      ]
    },
    {
      "cell_type": "code",
      "metadata": {
        "application/vnd.databricks.v1+cell": {
          "title": "",
          "showTitle": false,
          "inputWidgets": {},
          "nuid": "fe39606f-d751-4c3b-84f7-c50ed73bff72"
        },
        "id": "zQylEZC2fEJf"
      },
      "source": [
        "%sql\n",
        "select *\n",
        "from NameDetail;"
      ],
      "execution_count": null,
      "outputs": []
    },
    {
      "cell_type": "markdown",
      "metadata": {
        "application/vnd.databricks.v1+cell": {
          "title": "",
          "showTitle": false,
          "inputWidgets": {},
          "nuid": "a965bb82-ea75-4828-bd5a-f77e12dfb7fa"
        },
        "id": "rUqpQ8XPfEJf"
      },
      "source": [
        "Commençons par passer en revue les différentes propriétés des acteurs.\n",
        "Afficher les valeurs distinctes de l'apptribut property"
      ]
    },
    {
      "cell_type": "code",
      "metadata": {
        "application/vnd.databricks.v1+cell": {
          "title": "",
          "showTitle": false,
          "inputWidgets": {},
          "nuid": "a626784c-7643-47c2-b5f6-e7a89f250184"
        },
        "id": "t7rU4VK6fEJf",
        "outputId": "3285f440-f782-4144-f7f1-68a0ebd98228"
      },
      "source": [
        "%sql\n",
        "-- COMPLETER : \n",
        "select distinct property\n",
        "from NameDetail;"
      ],
      "execution_count": null,
      "outputs": [
        {
          "output_type": "display_data",
          "metadata": {
            "application/vnd.databricks.v1+output": {
              "overflow": false,
              "datasetInfos": [],
              "data": [
                [
                  "where now"
                ],
                [
                  "nick names"
                ],
                [
                  "interviews"
                ],
                [
                  "birth date"
                ],
                [
                  "salary history"
                ],
                [
                  "height"
                ],
                [
                  "magazine cover photo"
                ],
                [
                  "birth name"
                ],
                [
                  "mini biography"
                ],
                [
                  "other works"
                ],
                [
                  "books"
                ],
                [
                  "death date"
                ],
                [
                  "trade mark"
                ],
                [
                  "trivia"
                ],
                [
                  "article"
                ],
                [
                  "pictorial"
                ],
                [
                  "death notes"
                ],
                [
                  "birth notes"
                ],
                [
                  "spouse"
                ],
                [
                  "biographical movies"
                ],
                [
                  "quotes"
                ],
                [
                  "portrayed in"
                ]
              ],
              "plotOptions": {
                "displayType": "table",
                "customPlotOptions": {},
                "pivotColumns": [],
                "pivotAggregation": null,
                "xColumns": [],
                "yColumns": []
              },
              "columnCustomDisplayInfos": {},
              "aggType": "",
              "isJsonSchema": true,
              "removedWidgets": [],
              "aggSchema": [],
              "schema": [
                {
                  "name": "property",
                  "type": "\"string\"",
                  "metadata": "{}"
                }
              ],
              "aggError": "",
              "aggData": [],
              "addedWidgets": {},
              "metadata": {},
              "dbfsResultPath": null,
              "type": "table",
              "aggOverflow": false,
              "aggSeriesLimitReached": false,
              "arguments": {}
            }
          },
          "data": {
            "text/html": [
              "<style scoped>\n  .table-result-container {\n    max-height: 300px;\n    overflow: auto;\n  }\n  table, th, td {\n    border: 1px solid black;\n    border-collapse: collapse;\n  }\n  th, td {\n    padding: 5px;\n  }\n  th {\n    text-align: left;\n  }\n</style><div class='table-result-container'><table class='table-result'><thead style='background-color: white'><tr><th>property</th></tr></thead><tbody><tr><td>where now</td></tr><tr><td>nick names</td></tr><tr><td>interviews</td></tr><tr><td>birth date</td></tr><tr><td>salary history</td></tr><tr><td>height</td></tr><tr><td>magazine cover photo</td></tr><tr><td>birth name</td></tr><tr><td>mini biography</td></tr><tr><td>other works</td></tr><tr><td>books</td></tr><tr><td>death date</td></tr><tr><td>trade mark</td></tr><tr><td>trivia</td></tr><tr><td>article</td></tr><tr><td>pictorial</td></tr><tr><td>death notes</td></tr><tr><td>birth notes</td></tr><tr><td>spouse</td></tr><tr><td>biographical movies</td></tr><tr><td>quotes</td></tr><tr><td>portrayed in</td></tr></tbody></table></div>"
            ]
          }
        }
      ]
    },
    {
      "cell_type": "markdown",
      "metadata": {
        "application/vnd.databricks.v1+cell": {
          "title": "",
          "showTitle": false,
          "inputWidgets": {},
          "nuid": "6faa20be-9ff4-4807-94f0-3ada4e62662e"
        },
        "id": "CwnPSrsifEJf"
      },
      "source": [
        "#### Nicknames\n",
        "Penser à transformer la valeur nick names en nouvel attribut, et à supprimer quelques caractères superflus\n",
        "\n",
        "définir Nicknames(id, Name, Gender, Nickname)"
      ]
    },
    {
      "cell_type": "code",
      "metadata": {
        "application/vnd.databricks.v1+cell": {
          "title": "",
          "showTitle": false,
          "inputWidgets": {},
          "nuid": "ced0fc29-4db4-4c9e-b317-a70871339755"
        },
        "id": "co9pc50nfEJg"
      },
      "source": [
        "%sql \n",
        "create or replace temp view Nicknames as\n",
        "select id, name, gender, trim(regexp_replace(value, '[\\\\\"\\\\.]*', '' )) as Nickname\n",
        "from NameDetail\n",
        "where property = 'nick names'\n",
        ";\n",
        "\n",
        "select *\n",
        "from Nicknames\n",
        "order by Nickname;"
      ],
      "execution_count": null,
      "outputs": []
    },
    {
      "cell_type": "markdown",
      "metadata": {
        "application/vnd.databricks.v1+cell": {
          "title": "",
          "showTitle": false,
          "inputWidgets": {},
          "nuid": "471391e1-4268-4706-aee4-adeba4055266"
        },
        "id": "6hrjCuDxfEJg"
      },
      "source": [
        "#### Birth_Actor \n",
        "avec nom, date et lieu de naissance\n",
        "\n",
        "Birth_Actor (id, name, birth date, birth_name, birth_place, day, month, year)"
      ]
    },
    {
      "cell_type": "code",
      "metadata": {
        "application/vnd.databricks.v1+cell": {
          "title": "",
          "showTitle": false,
          "inputWidgets": {},
          "nuid": "1eba5ee0-ffaa-4bae-b06b-6688cd7c131d"
        },
        "id": "gpn0HMfUfEJg"
      },
      "source": [
        "%sql\n",
        "\n",
        "create or replace temp view Birth_Actor as\n",
        "select n.id, n.name, d.value as Birth_date,\n",
        "n.Birth_name as Birth_Name, \n",
        "note.Birth_place as Birth_Place, \n",
        "element_at(d.Birth_date, 1) as Day_of_birth, \n",
        "element_at(d.Birth_date, 2) as Month_of_birth, \n",
        "element_at(d.Birth_date, 3) as Year_of_birth \n",
        "\n",
        "from ( select id, name, value as Birth_name\n",
        "       from NameDetail\n",
        "       where property = 'birth name'\n",
        "     ) as n,\n",
        "     \n",
        "     ( select id, value, split(value,' ') as Birth_date\n",
        "       from NameDetail \n",
        "       where property = 'birth date'\n",
        "     ) as d,\n",
        "     \n",
        "     ( select id, value as Birth_place\n",
        "       from NameDetail\n",
        "       where property = 'birth notes'\n",
        "     ) as note\n",
        "     \n",
        "where n.id = d.id\n",
        "  and n.id = note.id\n",
        ";\n",
        "\n",
        "select *\n",
        "from Birth_Actor;"
      ],
      "execution_count": null,
      "outputs": []
    },
    {
      "cell_type": "markdown",
      "metadata": {
        "application/vnd.databricks.v1+cell": {
          "title": "",
          "showTitle": false,
          "inputWidgets": {},
          "nuid": "3918c7c9-a7aa-469c-bfcf-d56335a7a507"
        },
        "id": "4Omok3ZCfEJg"
      },
      "source": [
        "#### Death\n",
        "La table Death avec lieu et cause de la mort en séparant le champ *death note* \n",
        "\n",
        "Death(id, name, location_of_death, cause_of_death)"
      ]
    },
    {
      "cell_type": "code",
      "metadata": {
        "application/vnd.databricks.v1+cell": {
          "title": "",
          "showTitle": false,
          "inputWidgets": {},
          "nuid": "17ab5dbf-e2da-4364-938d-bd8e6f9ffc22"
        },
        "id": "mfG1jgGCfEJg"
      },
      "source": [
        "%sql\n",
        "create or replace temp view Death as\n",
        "select id, name, \n",
        "       regexp_extract(value, '([^\\\\(]*)(\\\\((.+)\\\\))*', 1) as Location_of_death,\n",
        "       regexp_extract(value, '([^\\\\(]*)(\\\\((.+)\\\\))*', 3) as Cause_of_death\n",
        "        \n",
        "from NameDetail\n",
        "where property = 'death notes'\n",
        ";\n",
        "\n",
        "--.....\n",
        "\n",
        "\n",
        "select *\n",
        "from Death;"
      ],
      "execution_count": null,
      "outputs": []
    },
    {
      "cell_type": "markdown",
      "metadata": {
        "application/vnd.databricks.v1+cell": {
          "title": "",
          "showTitle": false,
          "inputWidgets": {},
          "nuid": "cba15388-c248-48fa-8634-0c3ab2a206f1"
        },
        "id": "rQWqxVK5fEJg"
      },
      "source": [
        "#### SplitMagCover \n",
        "Definir tout d'abord *Magazine cover photo*\n",
        "\n",
        "Magazine_cover_photo(id, name, Cover_from_Magazine, Country, Date)"
      ]
    },
    {
      "cell_type": "code",
      "metadata": {
        "application/vnd.databricks.v1+cell": {
          "title": "",
          "showTitle": false,
          "inputWidgets": {},
          "nuid": "e912edce-38df-4398-84c0-e101014f67b8"
        },
        "id": "jYtVMYHPfEJg"
      },
      "source": [
        "%sql \n",
        "create or replace temp view Magazine_Cover_Photo as\n",
        "select id, name,\n",
        "regexp_extract(value, '\\\\\"(.+)\\\\\" \\\\(([^\\\\)]+)\\\\), ([^,]*)', 1) as Cover_from_Magazine,\n",
        "regexp_extract(value, '\\\\\"(.+)\\\\\" \\\\(([^\\\\)]+)\\\\), ([^,]*)', 2) as Country,\n",
        "regexp_extract(value, '\\\\\"(.+)\\\\\" \\\\(([^\\\\)]+)\\\\), ([^,]*)', 3) as Date\n",
        "\n",
        "from NameDetail\n",
        "where property = 'magazine cover photo'\n",
        ";\n",
        "\n",
        "select *\n",
        "from Magazine_Cover_Photo"
      ],
      "execution_count": null,
      "outputs": []
    },
    {
      "cell_type": "markdown",
      "metadata": {
        "application/vnd.databricks.v1+cell": {
          "title": "",
          "showTitle": false,
          "inputWidgets": {},
          "nuid": "b0c7481d-538d-415a-9455-f36cb8c7e339"
        },
        "id": "e7F5jONGfEJg"
      },
      "source": [
        "puis definir la relation SplitMagCover avec nom du magazine, pays et date de couverture\n",
        "\n",
        "SplitMagCover(id, name, cover_from_magazine, date)"
      ]
    },
    {
      "cell_type": "code",
      "metadata": {
        "application/vnd.databricks.v1+cell": {
          "title": "",
          "showTitle": false,
          "inputWidgets": {},
          "nuid": "ac52f3fa-0881-4c1c-9108-7f72680f4783"
        },
        "id": "NjockpoPfEJg"
      },
      "source": [
        "%sql \n",
        "create or replace temp view SplitMagCover as \n",
        "select Cover_from_Magazine as Cover_from_Magazine, \n",
        "Country as Country, Date as Date\n",
        "from Magazine_cover_photo\n",
        ";\n",
        "\n",
        "select *\n",
        "from SplitMagCover"
      ],
      "execution_count": null,
      "outputs": []
    },
    {
      "cell_type": "markdown",
      "metadata": {
        "application/vnd.databricks.v1+cell": {
          "title": "",
          "showTitle": false,
          "inputWidgets": {},
          "nuid": "2b74ba5d-a1bb-48ad-95af-56ecaeade547"
        },
        "id": "S65GiLNUfEJg"
      },
      "source": [
        "#### Height\n",
        "avec la taille des acteurs, la difficulté réside dans le reformatage/conversion des tailles en cm, feet et inches, \n",
        "\n",
        "Height(id, name, height_in_cm)"
      ]
    },
    {
      "cell_type": "code",
      "metadata": {
        "application/vnd.databricks.v1+cell": {
          "title": "",
          "showTitle": false,
          "inputWidgets": {},
          "nuid": "c6350ef6-cfa3-4722-8651-6b01e89c098a"
        },
        "id": "2ia4TAADfEJg",
        "outputId": "b7a4f5aa-87ce-4bbb-8879-fadf6d87292a"
      },
      "source": [
        "%sql \n",
        "create or replace temp view Height as \n",
        "select id, name, \n",
        "if (locate('cm', value)>0, regexp_extract(value, \"(.+) cm\", 1),\n",
        "if (locate('\"', value)=0 , cast(regexp_extract(value, \"(.+)'\", 1) as int)*30.48,\n",
        "if (locate('1/2', value)>0, (cast(regexp_extract(value, \"(.+)' ([0-9]+)\", 1) as int)+ (cast(regexp_extract(value, \"(.+)' ([0-9]+)\", 2) as int)+0.5)/12)*30.48, \n",
        "(cast(regexp_extract(value, \"(.+)' ([0-9]+)\", 1) as int)+ cast(regexp_extract(value, \"(.+)' ([0-9]+)\", 2) as int)/12)*30.48))) as height_in_cm\n",
        "from NameDetail\n",
        "where property = 'height'\n",
        ";\n",
        "\n",
        "select id, name, int(height_in_cm) as height_in_cm\n",
        "from Height\n",
        "order by height_in_cm desc\n",
        "limit 10"
      ],
      "execution_count": null,
      "outputs": [
        {
          "output_type": "display_data",
          "metadata": {
            "application/vnd.databricks.v1+output": {
              "overflow": false,
              "datasetInfos": [],
              "data": [
                [
                  111308,
                  "Bear, Bart the",
                  289
                ],
                [
                  413534,
                  "Douglass, Jack",
                  273
                ],
                [
                  576560,
                  "Gonzáles, Jorge",
                  228
                ],
                [
                  1016803,
                  "McGrory, Matthew",
                  228
                ],
                [
                  1711328,
                  "Yao, Ming",
                  227
                ],
                [
                  1314391,
                  "Robbins, Garry",
                  226
                ],
                [
                  154065,
                  "Bloom, John",
                  223
                ],
                [
                  1369034,
                  "Sampson, Ralph",
                  223
                ],
                [
                  627793,
                  "Hamilton, Mark",
                  220
                ],
                [
                  2748,
                  "Abdul-Jabbar, Kareem",
                  218
                ]
              ],
              "plotOptions": {
                "displayType": "table",
                "customPlotOptions": {},
                "pivotColumns": [],
                "pivotAggregation": null,
                "xColumns": [],
                "yColumns": []
              },
              "columnCustomDisplayInfos": {},
              "aggType": "",
              "isJsonSchema": true,
              "removedWidgets": [],
              "aggSchema": [],
              "schema": [
                {
                  "name": "id",
                  "type": "\"integer\"",
                  "metadata": "{}"
                },
                {
                  "name": "name",
                  "type": "\"string\"",
                  "metadata": "{}"
                },
                {
                  "name": "height_in_cm",
                  "type": "\"integer\"",
                  "metadata": "{}"
                }
              ],
              "aggError": "",
              "aggData": [],
              "addedWidgets": {},
              "metadata": {},
              "dbfsResultPath": null,
              "type": "table",
              "aggOverflow": false,
              "aggSeriesLimitReached": false,
              "arguments": {}
            }
          },
          "data": {
            "text/html": [
              "<style scoped>\n  .table-result-container {\n    max-height: 300px;\n    overflow: auto;\n  }\n  table, th, td {\n    border: 1px solid black;\n    border-collapse: collapse;\n  }\n  th, td {\n    padding: 5px;\n  }\n  th {\n    text-align: left;\n  }\n</style><div class='table-result-container'><table class='table-result'><thead style='background-color: white'><tr><th>id</th><th>name</th><th>height_in_cm</th></tr></thead><tbody><tr><td>111308</td><td>Bear, Bart the</td><td>289</td></tr><tr><td>413534</td><td>Douglass, Jack</td><td>273</td></tr><tr><td>576560</td><td>Gonzáles, Jorge</td><td>228</td></tr><tr><td>1016803</td><td>McGrory, Matthew</td><td>228</td></tr><tr><td>1711328</td><td>Yao, Ming</td><td>227</td></tr><tr><td>1314391</td><td>Robbins, Garry</td><td>226</td></tr><tr><td>154065</td><td>Bloom, John</td><td>223</td></tr><tr><td>1369034</td><td>Sampson, Ralph</td><td>223</td></tr><tr><td>627793</td><td>Hamilton, Mark</td><td>220</td></tr><tr><td>2748</td><td>Abdul-Jabbar, Kareem</td><td>218</td></tr></tbody></table></div>"
            ]
          }
        }
      ]
    },
    {
      "cell_type": "code",
      "metadata": {
        "application/vnd.databricks.v1+cell": {
          "title": "",
          "showTitle": false,
          "inputWidgets": {},
          "nuid": "2ca491f8-efee-4b0f-8b40-64b34402d5d6"
        },
        "id": "tmItFWzafEJg",
        "outputId": "53598ea4-70f1-4392-d35f-1886e8970f95"
      },
      "source": [
        "%sql -- confirmation que la base de données a une valeur bizarre pour Jack Douglass :\n",
        "select id, name, value\n",
        "from NameDetail\n",
        "where property = 'height' and id = 413534"
      ],
      "execution_count": null,
      "outputs": [
        {
          "output_type": "display_data",
          "metadata": {
            "application/vnd.databricks.v1+output": {
              "overflow": false,
              "datasetInfos": [],
              "data": [
                [
                  413534,
                  "Douglass, Jack",
                  "8' 11 1/2\""
                ]
              ],
              "plotOptions": {
                "displayType": "table",
                "customPlotOptions": {},
                "pivotColumns": [],
                "pivotAggregation": null,
                "xColumns": [],
                "yColumns": []
              },
              "columnCustomDisplayInfos": {},
              "aggType": "",
              "isJsonSchema": true,
              "removedWidgets": [],
              "aggSchema": [],
              "schema": [
                {
                  "name": "id",
                  "type": "\"integer\"",
                  "metadata": "{}"
                },
                {
                  "name": "name",
                  "type": "\"string\"",
                  "metadata": "{}"
                },
                {
                  "name": "value",
                  "type": "\"string\"",
                  "metadata": "{}"
                }
              ],
              "aggError": "",
              "aggData": [],
              "addedWidgets": {},
              "metadata": {},
              "dbfsResultPath": null,
              "type": "table",
              "aggOverflow": false,
              "aggSeriesLimitReached": false,
              "arguments": {}
            }
          },
          "data": {
            "text/html": [
              "<style scoped>\n  .table-result-container {\n    max-height: 300px;\n    overflow: auto;\n  }\n  table, th, td {\n    border: 1px solid black;\n    border-collapse: collapse;\n  }\n  th, td {\n    padding: 5px;\n  }\n  th {\n    text-align: left;\n  }\n</style><div class='table-result-container'><table class='table-result'><thead style='background-color: white'><tr><th>id</th><th>name</th><th>value</th></tr></thead><tbody><tr><td>413534</td><td>Douglass, Jack</td><td>8' 11 1/2\"</td></tr></tbody></table></div>"
            ]
          }
        }
      ]
    },
    {
      "cell_type": "markdown",
      "metadata": {
        "application/vnd.databricks.v1+cell": {
          "title": "",
          "showTitle": false,
          "inputWidgets": {},
          "nuid": "99f7832e-29e1-4172-ab94-6acaba0cff60"
        },
        "id": "399PxzfHfEJg"
      },
      "source": [
        "##  Restructuration depuis la table TitleDetail"
      ]
    },
    {
      "cell_type": "markdown",
      "metadata": {
        "application/vnd.databricks.v1+cell": {
          "title": "",
          "showTitle": false,
          "inputWidgets": {},
          "nuid": "6e12009e-fad7-40fc-baf2-3015d0c87ace"
        },
        "id": "ME9V2nxLfEJg"
      },
      "source": [
        "Définir des relations sur les oeuvres : \n",
        " - une table Anecdote assez simple qui redéfini la propriété trivia en un nouvel attribut d'une oeuvre\n",
        " - une table length avec la durée des oeuvres et un rapide histogramme représentant le gros des données\n",
        " - une table title_with_color qui défini le caractère en couleur ou noir et blanc d'une oeuvre\n",
        " - une table movie_rentals avec la valeur et la somme et la devise monétaire correspondante\n",
        " - une table title_filming_date avec les dates de début et de fin de tournage des oeuvres, structurées en jours, mois et années"
      ]
    },
    {
      "cell_type": "code",
      "metadata": {
        "application/vnd.databricks.v1+cell": {
          "title": "",
          "showTitle": false,
          "inputWidgets": {},
          "nuid": "1914fb3f-ccf7-4d69-bbbd-b9b07c2c099c"
        },
        "id": "kSfWxjrzfEJg"
      },
      "source": [
        "%sql -- la table TitleDetail\n",
        "select *\n",
        "from TitleDetail"
      ],
      "execution_count": null,
      "outputs": []
    },
    {
      "cell_type": "markdown",
      "metadata": {
        "application/vnd.databricks.v1+cell": {
          "title": "",
          "showTitle": false,
          "inputWidgets": {},
          "nuid": "c7ead530-ab44-41d3-892b-91b9728506f1"
        },
        "id": "eL6hQw8FfEJg"
      },
      "source": [
        "#### Anecdotes\n",
        "\n",
        "Anecdote(id, title, fun_fact)"
      ]
    },
    {
      "cell_type": "code",
      "metadata": {
        "application/vnd.databricks.v1+cell": {
          "title": "",
          "showTitle": false,
          "inputWidgets": {},
          "nuid": "447b9c7a-1057-453d-abee-2066afa0fcc7"
        },
        "id": "Z2JQBnl9fEJg"
      },
      "source": [
        "%sql -- Une première table avec un fun fact\n",
        "create or replace temp view Anecdote as\n",
        "select id, title, value as fun_fact\n",
        "from TitleDetail\n",
        "where property = 'trivia'\n",
        ";\n",
        "\n",
        "select * from Anecdote;"
      ],
      "execution_count": null,
      "outputs": []
    },
    {
      "cell_type": "markdown",
      "metadata": {
        "application/vnd.databricks.v1+cell": {
          "title": "",
          "showTitle": false,
          "inputWidgets": {},
          "nuid": "1086d967-14d4-4df6-ae31-8fa0a8d95fd4"
        },
        "id": "BsiTP5nkfEJh"
      },
      "source": [
        "#### Durée d'un DVD\n",
        "\n",
        "DVDLength(id, title, length)"
      ]
    },
    {
      "cell_type": "code",
      "metadata": {
        "application/vnd.databricks.v1+cell": {
          "title": "",
          "showTitle": false,
          "inputWidgets": {},
          "nuid": "ef7106fd-f2e7-4c00-8e63-bbaad440c30a"
        },
        "id": "DNNco537fEJh"
      },
      "source": [
        "%sql \n",
        "Create or replace temp view DVDlengths as\n",
        "select distinct id, title, cast(value as int) as length\n",
        "from titledetail\n",
        "where property = 'LD length'\n",
        "order by length desc\n",
        ";\n",
        "\n",
        "select *\n",
        "from DVDlengths"
      ],
      "execution_count": null,
      "outputs": []
    },
    {
      "cell_type": "markdown",
      "metadata": {
        "application/vnd.databricks.v1+cell": {
          "title": "",
          "showTitle": false,
          "inputWidgets": {},
          "nuid": "b307373e-c4ab-4773-a6c5-ca0379ed066f"
        },
        "id": "YTR0KHDrfEJh"
      },
      "source": [
        "Distribution des durées: combien de films dont la durée est inférieur à 50' minutes, supérieure à 150' ?"
      ]
    },
    {
      "cell_type": "code",
      "metadata": {
        "application/vnd.databricks.v1+cell": {
          "title": "",
          "showTitle": false,
          "inputWidgets": {},
          "nuid": "ecff8031-e110-4e37-a5ce-69d0a12d5dd4"
        },
        "id": "yKJNvn8BfEJh",
        "outputId": "84b25cc5-84d3-4da5-d0ba-51239c4fe28c"
      },
      "source": [
        "res3 = spark.sql(\"\"\"\n",
        "SELECT id, cast(value as int) as length\n",
        "FROM titledetail\n",
        "WHERE property = 'LD length'\n",
        "ORDER by length desc\n",
        "\"\"\")\n",
        "res3.show(5)\n",
        "\n",
        "t = res3.collect()\n",
        "tab = [x.length for x in t]\n",
        "plt.hist(tab, bins = [50,75,100,125,150])\n",
        "plt.show()"
      ],
      "execution_count": null,
      "outputs": [
        {
          "output_type": "display_data",
          "metadata": {
            "application/vnd.databricks.v1+output": {
              "datasetInfos": [],
              "data": "<div class='ansiout'>+-------+------+\n|     id|length|\n+-------+------+\n|1762044|   570|\n|2243428|   320|\n|1655163|   300|\n|2219245|   130|\n|1714929|   128|\n+-------+------+\nonly showing top 5 rows\n\n</div>",
              "removedWidgets": [],
              "addedWidgets": {},
              "metadata": {},
              "type": "html",
              "arguments": {}
            }
          },
          "data": {
            "text/html": [
              "<style scoped>\n  .ansiout {\n    display: block;\n    unicode-bidi: embed;\n    white-space: pre-wrap;\n    word-wrap: break-word;\n    word-break: break-all;\n    font-family: \"Source Code Pro\", \"Menlo\", monospace;;\n    font-size: 13px;\n    color: #555;\n    margin-left: 4px;\n    line-height: 19px;\n  }\n</style>\n<div class='ansiout'>+-------+------+\n     id|length|\n+-------+------+\n1762044|   570|\n2243428|   320|\n1655163|   300|\n2219245|   130|\n1714929|   128|\n+-------+------+\nonly showing top 5 rows\n\n</div>"
            ]
          }
        },
        {
          "output_type": "display_data",
          "metadata": {
            "application/vnd.databricks.v1+output": {
              "datasetInfos": [],
              "data": "data:image/png;base64,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\n",
              "removedWidgets": [],
              "addedWidgets": {},
              "metadata": {},
              "type": "image",
              "arguments": {}
            }
          },
          "data": {
            "image/png": "[encoded data removed]"
          }
        }
      ]
    },
    {
      "cell_type": "markdown",
      "metadata": {
        "application/vnd.databricks.v1+cell": {
          "title": "",
          "showTitle": false,
          "inputWidgets": {},
          "nuid": "1455b387-a3ad-4fbc-a2d7-bbe2e289e0d5"
        },
        "id": "-r7zESVVfEJh"
      },
      "source": [
        "#### Titres de films dont on connait l'indication de couleur ou de N&B"
      ]
    },
    {
      "cell_type": "code",
      "metadata": {
        "application/vnd.databricks.v1+cell": {
          "title": "",
          "showTitle": false,
          "inputWidgets": {},
          "nuid": "483b7ae0-fd4f-4cd0-b376-91616fa8c4ac"
        },
        "id": "vKXZ2ItNfEJh"
      },
      "source": [
        "%sql \n",
        "create or replace temp view title_with_color as\n",
        "select id, title, value as Color_or_BW\n",
        "from TitleDetail\n",
        "where property = 'color info'\n",
        ";\n",
        "\n",
        "select * from title_with_color;"
      ],
      "execution_count": null,
      "outputs": []
    },
    {
      "cell_type": "markdown",
      "metadata": {
        "application/vnd.databricks.v1+cell": {
          "title": "",
          "showTitle": false,
          "inputWidgets": {},
          "nuid": "ac4435ce-2d9b-4f14-b3c7-9942475a80ff"
        },
        "id": "-CvrZcAxfEJh"
      },
      "source": [
        "#### Movie Rentals\n",
        "\n",
        "Movie_rentals(id, title, rental_value, currency, country)"
      ]
    },
    {
      "cell_type": "code",
      "metadata": {
        "application/vnd.databricks.v1+cell": {
          "title": "",
          "showTitle": false,
          "inputWidgets": {},
          "nuid": "8d9bd077-3243-4128-a0a9-3b0c70f5ce99"
        },
        "id": "08_hnP70fEJh",
        "outputId": "797fced1-f5bc-4789-bcff-a2861af8d59d"
      },
      "source": [
        "%sql\n",
        "create or replace temp view Movie_rentals as\n",
        "select id, title, \n",
        "regexp_extract(value, '(.)([0-9,]+)( \\\\((.+)\\\\))*', 2) as rental_value,\n",
        "regexp_extract(value, '(.)([0-9,]+)( \\\\((.+)\\\\))*', 1) as currency,\n",
        "regexp_extract(value, '(.)([0-9,]+)( \\\\((.+)\\\\))*', 4) as country\n",
        "from TitleDetail\n",
        "where property = 'rentals'\n",
        ";\n",
        "\n",
        "select *\n",
        "from Movie_rentals;"
      ],
      "execution_count": null,
      "outputs": [
        {
          "output_type": "display_data",
          "metadata": {
            "application/vnd.databricks.v1+output": {
              "overflow": false,
              "datasetInfos": [],
              "data": [
                [
                  1666737,
                  "Adventure",
                  "4,236,000",
                  "$",
                  "USA"
                ],
                [
                  1714929,
                  "Basic Instinct",
                  "53,000,000",
                  "$",
                  "USA"
                ],
                [
                  1714929,
                  "Basic Instinct",
                  "8,500,000",
                  "£",
                  "UK"
                ],
                [
                  1763216,
                  "Catch-22",
                  "12,250,000",
                  "$",
                  "USA"
                ],
                [
                  1776735,
                  "Circle of Iron",
                  "1,000,000",
                  "$",
                  "USA"
                ],
                [
                  1875462,
                  "European Vacation",
                  "25,600,000",
                  "$",
                  "USA"
                ],
                [
                  2351874,
                  "The Bowery",
                  "1,494,294",
                  "$",
                  "USA"
                ],
                [
                  2388912,
                  "The Love Bug",
                  "23,150,000",
                  "$",
                  "USA"
                ],
                [
                  2082136,
                  "Looking for Mr. Goodbar",
                  "16,900,000",
                  "$",
                  ""
                ],
                [
                  1833314,
                  "Diner",
                  "4,000,000",
                  "$",
                  "USA"
                ],
                [
                  2409929,
                  "The Saint",
                  "28,227,120",
                  "$",
                  "USA"
                ],
                [
                  2290713,
                  "Sisters",
                  "1,000,000",
                  "$",
                  "USA"
                ]
              ],
              "plotOptions": {
                "displayType": "table",
                "customPlotOptions": {},
                "pivotColumns": [],
                "pivotAggregation": null,
                "xColumns": [],
                "yColumns": []
              },
              "columnCustomDisplayInfos": {},
              "aggType": "",
              "isJsonSchema": true,
              "removedWidgets": [],
              "aggSchema": [],
              "schema": [
                {
                  "name": "id",
                  "type": "\"integer\"",
                  "metadata": "{}"
                },
                {
                  "name": "title",
                  "type": "\"string\"",
                  "metadata": "{}"
                },
                {
                  "name": "rental_value",
                  "type": "\"string\"",
                  "metadata": "{}"
                },
                {
                  "name": "currency",
                  "type": "\"string\"",
                  "metadata": "{}"
                },
                {
                  "name": "country",
                  "type": "\"string\"",
                  "metadata": "{}"
                }
              ],
              "aggError": "",
              "aggData": [],
              "addedWidgets": {},
              "metadata": {},
              "dbfsResultPath": null,
              "type": "table",
              "aggOverflow": false,
              "aggSeriesLimitReached": false,
              "arguments": {}
            }
          },
          "data": {
            "text/html": [
              "<style scoped>\n  .table-result-container {\n    max-height: 300px;\n    overflow: auto;\n  }\n  table, th, td {\n    border: 1px solid black;\n    border-collapse: collapse;\n  }\n  th, td {\n    padding: 5px;\n  }\n  th {\n    text-align: left;\n  }\n</style><div class='table-result-container'><table class='table-result'><thead style='background-color: white'><tr><th>id</th><th>title</th><th>rental_value</th><th>currency</th><th>country</th></tr></thead><tbody><tr><td>1666737</td><td>Adventure</td><td>4,236,000</td><td>$</td><td>USA</td></tr><tr><td>1714929</td><td>Basic Instinct</td><td>53,000,000</td><td>$</td><td>USA</td></tr><tr><td>1714929</td><td>Basic Instinct</td><td>8,500,000</td><td>£</td><td>UK</td></tr><tr><td>1763216</td><td>Catch-22</td><td>12,250,000</td><td>$</td><td>USA</td></tr><tr><td>1776735</td><td>Circle of Iron</td><td>1,000,000</td><td>$</td><td>USA</td></tr><tr><td>1875462</td><td>European Vacation</td><td>25,600,000</td><td>$</td><td>USA</td></tr><tr><td>2351874</td><td>The Bowery</td><td>1,494,294</td><td>$</td><td>USA</td></tr><tr><td>2388912</td><td>The Love Bug</td><td>23,150,000</td><td>$</td><td>USA</td></tr><tr><td>2082136</td><td>Looking for Mr. Goodbar</td><td>16,900,000</td><td>$</td><td></td></tr><tr><td>1833314</td><td>Diner</td><td>4,000,000</td><td>$</td><td>USA</td></tr><tr><td>2409929</td><td>The Saint</td><td>28,227,120</td><td>$</td><td>USA</td></tr><tr><td>2290713</td><td>Sisters</td><td>1,000,000</td><td>$</td><td>USA</td></tr></tbody></table></div>"
            ]
          }
        }
      ]
    },
    {
      "cell_type": "markdown",
      "metadata": {
        "application/vnd.databricks.v1+cell": {
          "title": "",
          "showTitle": false,
          "inputWidgets": {},
          "nuid": "2b52abd0-6697-4267-8cff-3c85e2c6ea71"
        },
        "id": "CFxsGL8sfEJh"
      },
      "source": [
        "####  date de début et fin de tournage \n",
        "\n",
        "Title_filming_date(id, title, start_date, end_date)"
      ]
    },
    {
      "cell_type": "code",
      "metadata": {
        "application/vnd.databricks.v1+cell": {
          "title": "",
          "showTitle": false,
          "inputWidgets": {},
          "nuid": "5a8b84d0-0c3b-4eab-8b30-7fc1ce42cb7f"
        },
        "id": "od4lD_IDfEJh"
      },
      "source": [
        "%sql -- Cinquième table de\n",
        "create or replace temp view title_filming_date as\n",
        "select id, title,\n",
        "trim(regexp_extract(value, '([^-]*)', 1)) as Start_date,\n",
        "trim(regexp_extract(value, '[^-]*-(.*)', 1)) as Ending_date\n",
        "from titleDetail\n",
        "where property = 'filming dates'\n",
        ";\n",
        "\n",
        "select *\n",
        "from title_filming_date;"
      ],
      "execution_count": null,
      "outputs": []
    },
    {
      "cell_type": "markdown",
      "metadata": {
        "application/vnd.databricks.v1+cell": {
          "title": "",
          "showTitle": false,
          "inputWidgets": {},
          "nuid": "74fc0601-cdca-4a1c-92df-69b0ddfb1a6d"
        },
        "id": "fXR5hEchfEJh"
      },
      "source": [
        "#### réorganiser ces dates par jour, mois et année de début et fin de tournage\n",
        "\n",
        "Title_filming_date (id, title, start_day, start_month, start_year, end_day, end_month, end_year)"
      ]
    },
    {
      "cell_type": "code",
      "metadata": {
        "application/vnd.databricks.v1+cell": {
          "title": "",
          "showTitle": false,
          "inputWidgets": {},
          "nuid": "a0918fe9-d47e-4253-a0ec-c2bc19b3ea86"
        },
        "id": "9Ue2tymYfEJh"
      },
      "source": [
        "%sql \n",
        "--create or replace temp view title_filming_date as\n",
        "select id, title, \n",
        "regexp_extract(Start_date, '^([0-9]{1,2})[^0-9]', 1) as Starting_day,\n",
        "regexp_extract(Start_date, '[^a-zA-Z]*([a-zA-Z]*) [0-9]', 1) as Starting_Month,\n",
        "regexp_extract(Start_date, '[^a-zA-Z]*[a-zA-Z ]*([0-9]{4})', 1) as Starting_Year,\n",
        "regexp_extract(Ending_date, '^([0-9]{1,2})[^0-9]', 1) as Ending_day,\n",
        "regexp_extract(Ending_date, '[^a-zA-Z]*([a-zA-Z]*) [0-9]', 1) as Ending_Month,\n",
        "regexp_extract(Ending_date, '[^a-zA-Z]*[a-zA-Z ]*([0-9]{4})', 1) as Ending_Year\n",
        "\n",
        "from title_filming_date\n",
        ";\n",
        "\n",
        "--select * from title_filming_date;"
      ],
      "execution_count": null,
      "outputs": []
    },
    {
      "cell_type": "markdown",
      "metadata": {
        "application/vnd.databricks.v1+cell": {
          "title": "",
          "showTitle": false,
          "inputWidgets": {},
          "nuid": "b340c87f-ef90-4ed7-bddc-03814373e275"
        },
        "id": "BXywiISqfEJh"
      },
      "source": [
        "#### Role H/F\n",
        "nombre d'H et de F par profession, \n",
        "pourcentage H F par profession\n",
        "\n",
        "RoleHF(role, nbH, nbF, Hpct, Fpct)"
      ]
    }
  ]
}