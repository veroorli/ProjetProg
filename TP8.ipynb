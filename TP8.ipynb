{
  "nbformat": 4,
  "nbformat_minor": 0,
  "metadata": {
    "colab": {
      "provenance": [],
      "toc_visible": true,
      "include_colab_link": true
    },
    "kernelspec": {
      "name": "python3",
      "display_name": "Python 3"
    },
    "language_info": {
      "name": "python"
    }
  },
  "cells": [
    {
      "cell_type": "markdown",
      "metadata": {
        "id": "view-in-github",
        "colab_type": "text"
      },
      "source": [
        "<a href=\"https://colab.research.google.com/github/veroorli/ProjetProg/blob/master/TP8.ipynb\" target=\"_parent\"><img src=\"https://colab.research.google.com/assets/colab-badge.svg\" alt=\"Open In Colab\"/></a>"
      ]
    },
    {
      "cell_type": "markdown",
      "metadata": {
        "application/vnd.databricks.v1+cell": {
          "title": "",
          "showTitle": false,
          "inputWidgets": {},
          "nuid": "2fcea654-56eb-4219-a555-b7635dc8ec23"
        },
        "id": "5T30y-4iGpLZ"
      },
      "source": [
        "BDLE 2021\n",
        "\n",
        "Lina MEZDOUR\n",
        "\n",
        "date du document  :  1/12/2022"
      ]
    },
    {
      "cell_type": "markdown",
      "metadata": {
        "application/vnd.databricks.v1+cell": {
          "title": "",
          "showTitle": false,
          "inputWidgets": {},
          "nuid": "538800ba-6d08-40a7-b6b6-829b40085742"
        },
        "id": "L_q0KahUGpLc"
      },
      "source": [
        "# TP : accès parallèle, traitement sur des partitions (énoncé ETUDIANT)\n",
        "\n",
        "exemple d'accès en parallèle aux données du site Eau de France.\n",
        "[Données de piezométrie](https://hubeau.eaufrance.fr/page/api-piezometrie) "
      ]
    },
    {
      "cell_type": "markdown",
      "metadata": {
        "application/vnd.databricks.v1+cell": {
          "title": "",
          "showTitle": false,
          "inputWidgets": {},
          "nuid": "b15737ae-19bd-4b9f-b9f3-52388cc5e50e"
        },
        "id": "levNDESpS1hT"
      },
      "source": [
        "## Préparation"
      ]
    },
    {
      "cell_type": "markdown",
      "metadata": {
        "id": "CEjerqQ6Ink6"
      },
      "source": [
        "Pour accéder directement aux fichiers stockées sur votre google drive. Renseigner le code d'authentification lorsqu'il est demandé\n",
        "\n",
        "Ajuster le nom de votre dossier : MyDrive/essai"
      ]
    },
    {
      "cell_type": "code",
      "metadata": {
        "id": "g7Dv93rsImuM",
        "colab": {
          "base_uri": "https://localhost:8080/"
        },
        "outputId": "e119fc34-fd44-448f-fc0e-20829335838d"
      },
      "source": [
        "import os\n",
        "from google.colab import drive\n",
        "drive.mount(\"/content/drive\")\n",
        "\n",
        "drive_dir = \"/content/drive/MyDrive/BDLE/TP1\"\n",
        "os.makedirs(drive_dir, exist_ok=True)\n",
        "os.listdir(drive_dir)"
      ],
      "execution_count": null,
      "outputs": [
        {
          "output_type": "stream",
          "name": "stdout",
          "text": [
            "Mounted at /content/drive\n"
          ]
        },
        {
          "output_type": "execute_result",
          "data": {
            "text/plain": [
              "['smallwordcount.txt']"
            ]
          },
          "metadata": {},
          "execution_count": 1
        }
      ]
    },
    {
      "cell_type": "markdown",
      "metadata": {
        "id": "7v9EXMl8aPZC"
      },
      "source": [
        "Installer pyspark et findspark :\n"
      ]
    },
    {
      "cell_type": "code",
      "metadata": {
        "id": "3zlwNHy1S8C2",
        "colab": {
          "base_uri": "https://localhost:8080/"
        },
        "outputId": "8e1474b4-2fa5-42ee-d3b5-2f18e26487dd"
      },
      "source": [
        "!pip install -q pyspark\n",
        "!pip install -q findspark\n",
        "print(\"installé\")"
      ],
      "execution_count": null,
      "outputs": [
        {
          "output_type": "stream",
          "name": "stdout",
          "text": [
            "\u001b[K     |████████████████████████████████| 281.4 MB 43 kB/s \n",
            "\u001b[K     |████████████████████████████████| 199 kB 57.3 MB/s \n",
            "\u001b[?25h  Building wheel for pyspark (setup.py) ... \u001b[?25l\u001b[?25hdone\n",
            "installé\n"
          ]
        }
      ]
    },
    {
      "cell_type": "markdown",
      "metadata": {
        "id": "PnEmOd_zOUo0"
      },
      "source": [
        "Démarrer la session spark"
      ]
    },
    {
      "cell_type": "code",
      "metadata": {
        "id": "W0ADH0J-VW7i"
      },
      "source": [
        "import os\n",
        "# !find /usr/local/lib/ -name \"pyspark\" \n",
        "os.environ[\"SPARK_HOME\"] = \"/usr/local/lib/python3.8/dist-packages/pyspark\"\n",
        "os.environ[\"JAVA_HOME\"] = \"/usr\""
      ],
      "execution_count": null,
      "outputs": []
    },
    {
      "cell_type": "code",
      "metadata": {
        "id": "Q_WxQZB7TaUC",
        "colab": {
          "base_uri": "https://localhost:8080/"
        },
        "outputId": "8a700160-ae7b-4110-cbeb-37c26f0f0eeb"
      },
      "source": [
        "# Principaux import\n",
        "import findspark\n",
        "from pyspark.sql import SparkSession \n",
        "from pyspark import SparkConf  \n",
        "\n",
        "# pour les dataframe et udf\n",
        "from pyspark.sql import *  \n",
        "from pyspark.sql.functions import *\n",
        "from pyspark.sql.types import *\n",
        "from datetime import *\n",
        "\n",
        "# pour le chronomètre\n",
        "import time\n",
        "\n",
        "# initialise les variables d'environnement pour spark\n",
        "findspark.init()\n",
        "\n",
        "# Démarrage session spark \n",
        "# --------------------------\n",
        "def demarrer_spark():\n",
        "  local = \"local[*]\"\n",
        "  appName = \"TP\"\n",
        "  configLocale = SparkConf().setAppName(appName).setMaster(local).\\\n",
        "  set(\"spark.executor.memory\", \"6G\").\\\n",
        "  set(\"spark.driver.memory\",\"3G\").\\\n",
        "  set(\"spark.sql.catalogImplementation\",\"in-memory\")\n",
        "  \n",
        "  spark = SparkSession.builder.config(conf = configLocale).getOrCreate()\n",
        "  sc = spark.sparkContext\n",
        "  sc.setLogLevel(\"ERROR\")\n",
        "  \n",
        "  spark.conf.set(\"spark.sql.autoBroadcastJoinThreshold\",\"-1\")\n",
        "\n",
        "  # On ajuste l'environnement d'exécution des requêtes à la taille du cluster (4 coeurs)\n",
        "  spark.conf.set(\"spark.sql.shuffle.partitions\",\"4\")    \n",
        "  print(\"session démarrée, son id est \", sc.applicationId)\n",
        "  return spark\n",
        "spark = demarrer_spark()"
      ],
      "execution_count": null,
      "outputs": [
        {
          "output_type": "stream",
          "name": "stdout",
          "text": [
            "session démarrée, son id est  local-1669974701277\n"
          ]
        }
      ]
    },
    {
      "cell_type": "markdown",
      "metadata": {
        "id": "6PPivNNpOcBT"
      },
      "source": [
        "Redéfinir la fonction **display** pour afficher le resutltat des requêtes dans un tableau"
      ]
    },
    {
      "cell_type": "code",
      "metadata": {
        "id": "FFu44fW7LRgC"
      },
      "source": [
        "import pandas as pd\n",
        "from google.colab import data_table\n",
        "\n",
        "# alternatives to Databricks display function.\n",
        "\n",
        "def display(df, n=100):\n",
        "  return data_table.DataTable(df.limit(n).toPandas(), include_index=False, num_rows_per_page=10)\n",
        "\n",
        "def display2(df, n=20):\n",
        "  pd.set_option('max_columns', None)\n",
        "  pd.set_option('max_colwidth', None)\n",
        "  return df.limit(n).toPandas().head(n)"
      ],
      "execution_count": null,
      "outputs": []
    },
    {
      "cell_type": "markdown",
      "metadata": {
        "id": "I0-keRafUD5N"
      },
      "source": [
        "Définir le tag **%%sql** pour pouvoir écrire plus simplement des requêtes en SQL dans une cellule"
      ]
    },
    {
      "cell_type": "code",
      "metadata": {
        "id": "eJ7aiRS-gaVF"
      },
      "source": [
        "from IPython.core.magic import (register_line_magic, register_cell_magic, register_line_cell_magic)\n",
        "\n",
        "def removeComments(query):\n",
        "  result = \"\"\n",
        "  for line in query.split('\\n'):\n",
        "    if not(line.strip().startswith(\"--\")):\n",
        "      result += line + \"\\n\"\n",
        "  return result\n",
        "\n",
        "@register_line_cell_magic\n",
        "def sql(line, cell=None):\n",
        "    \"To run a sql query. Use:  %%sql\"\n",
        "    val = cell if cell is not None else line\n",
        "    tabRequetes = removeComments(val).split(\";\")\n",
        "    derniere = None\n",
        "    est_requete = False\n",
        "    for r in tabRequetes:\n",
        "        r = r.strip()\n",
        "        if len(r) > 2:\n",
        "          derniere = spark.sql(r)\n",
        "          est_requete = ( r.lower().startswith('select') or r.lower().startswith('with') )\n",
        "    if(est_requete):\n",
        "      return display(derniere)\n",
        "    else:\n",
        "      return print('ok')"
      ],
      "execution_count": null,
      "outputs": []
    },
    {
      "cell_type": "markdown",
      "metadata": {
        "id": "jOSO0N8paIT1"
      },
      "source": [
        "Utiliaires : Chronomètres"
      ]
    },
    {
      "cell_type": "code",
      "metadata": {
        "application/vnd.databricks.v1+cell": {
          "title": "",
          "showTitle": false,
          "inputWidgets": {},
          "nuid": "a6272df1-b406-40d0-b5df-0df8dacb430b"
        },
        "colab": {
          "base_uri": "https://localhost:8080/"
        },
        "id": "fP14u62aG1_9",
        "outputId": "575c14fe-2a8e-4cf2-c7a6-49034378ae26"
      },
      "source": [
        "#------------------------------\n",
        "# Chronometre : chronoPersist2\n",
        "#------------------------------\n",
        "import time\n",
        "\n",
        "# Ce chronometre garantit que chaque tuple du dataframe est lu entièrement.\n",
        "# En effet il est nécessaire de lire le détail de chaque tuple avant de les 'copier' en mémoire.\n",
        "def chronoPersist(df):\n",
        "    df.unpersist()\n",
        "    t1 = time.perf_counter()\n",
        "    count = df.persist().count()\n",
        "    t2 = time.perf_counter()\n",
        "    df.unpersist()\n",
        "    print('durée: {:.1f} s'.format(t2 - t1), 'pour lire', count , 'elements')\n",
        "\n",
        "def chronoPersist2(df):\n",
        "  dest = df.selectExpr(\"*\", \"1\")\n",
        "  t1 = time.perf_counter()\n",
        "  count = dest.persist().count()\n",
        "  t2 = time.perf_counter()\n",
        "  dest.unpersist()\n",
        "  print('durée: {:.1f} s'.format(t2 - t1), 'pour lire', count , 'elements')\n",
        "        \n",
        "def chronoCount(df):\n",
        "  t1 = time.perf_counter()\n",
        "  count = df.count()\n",
        "  t2 = time.perf_counter()\n",
        "  print('durée: {:.1f} s'.format(t2 - t1), 'pour dénombrer', count , 'elements')\n",
        "    \n",
        "print(\"fonctions définies\")"
      ],
      "execution_count": null,
      "outputs": [
        {
          "output_type": "stream",
          "name": "stdout",
          "text": [
            "fonctions définies\n"
          ]
        }
      ]
    },
    {
      "cell_type": "markdown",
      "metadata": {
        "application/vnd.databricks.v1+cell": {
          "title": "",
          "showTitle": false,
          "inputWidgets": {},
          "nuid": "b15737ae-19bd-4b9f-b9f3-52388cc5e50e"
        },
        "id": "sIeeBKU2GpLc"
      },
      "source": [
        "## Accès aux données"
      ]
    },
    {
      "cell_type": "code",
      "metadata": {
        "application/vnd.databricks.v1+cell": {
          "title": "",
          "showTitle": false,
          "inputWidgets": {},
          "nuid": "5f7082b7-3297-469a-82c3-2e6aaf5acc22"
        },
        "id": "dG-ZrStWvR6N",
        "colab": {
          "base_uri": "https://localhost:8080/"
        },
        "outputId": "509bb8e1-a8fb-46f4-d3ff-444a33f29f88"
      },
      "source": [
        "import os\n",
        "local_dir = \"/local/data\"\n",
        "os.makedirs(local_dir, exist_ok=True)\n",
        "os.listdir(local_dir)"
      ],
      "execution_count": null,
      "outputs": [
        {
          "output_type": "execute_result",
          "data": {
            "text/plain": [
              "[]"
            ]
          },
          "metadata": {},
          "execution_count": 8
        }
      ]
    },
    {
      "cell_type": "markdown",
      "metadata": {
        "application/vnd.databricks.v1+cell": {
          "title": "",
          "showTitle": false,
          "inputWidgets": {},
          "nuid": "9b13d583-eac5-414c-b544-43024c76c144"
        },
        "id": "NqVvf8iLGpLf"
      },
      "source": [
        "URL pour l'accès aux datasets"
      ]
    },
    {
      "cell_type": "code",
      "metadata": {
        "application/vnd.databricks.v1+cell": {
          "title": "",
          "showTitle": false,
          "inputWidgets": {},
          "nuid": "8a1fead0-61e4-4d04-a2c0-7858f767b0a1"
        },
        "id": "8g6iWNvES1hW",
        "colab": {
          "base_uri": "https://localhost:8080/"
        },
        "outputId": "37247c8b-d3cf-4f6b-bcf1-c0d357eba37e"
      },
      "source": [
        "# ---------------------------------------------------------------------------\n",
        "# en cas de problème avec le téléchargement des datasets, aller directement sur l'URL ci-dessous\n",
        "PUBLIC_DATASET_URL = \"https://nuage.lip6.fr/s/H3bpyRGgnCq2NR4\" \n",
        "PUBLIC_DATASET=PUBLIC_DATASET_URL + \"/download?path=\"\n",
        "\n",
        "print(\"URL pour les datasets \", PUBLIC_DATASET_URL)"
      ],
      "execution_count": null,
      "outputs": [
        {
          "output_type": "stream",
          "name": "stdout",
          "text": [
            "URL pour les datasets  https://nuage.lip6.fr/s/H3bpyRGgnCq2NR4\n"
          ]
        }
      ]
    },
    {
      "cell_type": "code",
      "metadata": {
        "id": "4MDvKL2IQTGU",
        "colab": {
          "base_uri": "https://localhost:8080/"
        },
        "outputId": "940845e6-0b25-4369-e464-1cd22380c8e5"
      },
      "source": [
        "import os\n",
        "from urllib import request\n",
        "\n",
        "# download dataset if not already donwloaded\n",
        "def download_file(web_dir, local_dir, file):\n",
        "  local_file = local_dir + \"/\" + file\n",
        "  web_file = web_dir + \"/\" + file\n",
        "  if(os.path.isfile(local_file)):\n",
        "    print(file, \"is already stored\")\n",
        "  else:\n",
        "    print(\"downloading from URL: \", web_file , \"save in : \" + local_file)\n",
        "    request.urlretrieve(web_file , local_file)\n",
        "\n",
        "\n",
        "# acces online aux données\n",
        "# https://www.egc.asso.fr/wp-content/uploads/data_Rostrenen.csv\n",
        "\n",
        "web_dir = PUBLIC_DATASET + \"/defi_EGC_2022\"\n",
        "\n",
        "download_file(web_dir, local_dir, \"points_eau.csv\")\n",
        "download_file(web_dir, local_dir, \"mesures_recentes_2022.json\")\n",
        "\n",
        "# Liste des fichiers\n",
        "os.listdir(local_dir)"
      ],
      "execution_count": null,
      "outputs": [
        {
          "output_type": "stream",
          "name": "stdout",
          "text": [
            "downloading from URL:  https://nuage.lip6.fr/s/H3bpyRGgnCq2NR4/download?path=/defi_EGC_2022/points_eau.csv save in : /local/data/points_eau.csv\n",
            "downloading from URL:  https://nuage.lip6.fr/s/H3bpyRGgnCq2NR4/download?path=/defi_EGC_2022/mesures_recentes_2022.json save in : /local/data/mesures_recentes_2022.json\n"
          ]
        },
        {
          "output_type": "execute_result",
          "data": {
            "text/plain": [
              "['points_eau.csv', 'mesures_recentes_2022.json']"
            ]
          },
          "metadata": {},
          "execution_count": 10
        }
      ]
    },
    {
      "cell_type": "markdown",
      "metadata": {
        "id": "VhfbfMyGTpk1"
      },
      "source": [
        "## Dataframe *Point* : les points d'eau"
      ]
    },
    {
      "cell_type": "code",
      "metadata": {
        "colab": {
          "base_uri": "https://localhost:8080/",
          "height": 335
        },
        "id": "-G94_aiGTtLJ",
        "outputId": "cb61c775-1303-48b5-d30b-7cff9f45ce02"
      },
      "source": [
        "point = spark.read.option(\"delimiter\",\";\").option(\"header\",True).csv(local_dir + '/points_eau.csv').persist()\n",
        "point.createOrReplaceTempView(\"point\")\n",
        "display(point, 3)"
      ],
      "execution_count": null,
      "outputs": [
        {
          "output_type": "execute_result",
          "data": {
            "text/html": [
              "<div>\n",
              "<style scoped>\n",
              "    .dataframe tbody tr th:only-of-type {\n",
              "        vertical-align: middle;\n",
              "    }\n",
              "\n",
              "    .dataframe tbody tr th {\n",
              "        vertical-align: top;\n",
              "    }\n",
              "\n",
              "    .dataframe thead th {\n",
              "        text-align: right;\n",
              "    }\n",
              "</style>\n",
              "<table border=\"1\" class=\"dataframe\">\n",
              "  <thead>\n",
              "    <tr style=\"text-align: right;\">\n",
              "      <th></th>\n",
              "      <th>CODE_BSS</th>\n",
              "      <th>BSS_ID</th>\n",
              "      <th>LONGITUDE</th>\n",
              "      <th>LATITUDE</th>\n",
              "      <th>CODE_INSEE_COMMUNE</th>\n",
              "      <th>NOM_COMMUNE</th>\n",
              "      <th>CODE_STATION_HYDRO</th>\n",
              "      <th>NOM_STATION_HYDRO</th>\n",
              "      <th>CODE_BDLISA</th>\n",
              "      <th>NOM_ENTITE_BDLISA</th>\n",
              "    </tr>\n",
              "  </thead>\n",
              "  <tbody>\n",
              "    <tr>\n",
              "      <th>0</th>\n",
              "      <td>00471X0095/PZ2013</td>\n",
              "      <td>BSS000EBLL</td>\n",
              "      <td>2.578405</td>\n",
              "      <td>50.023705</td>\n",
              "      <td>80733</td>\n",
              "      <td>SENLIS-LE-SEC</td>\n",
              "      <td>E6397010</td>\n",
              "      <td>L'Hallue à Bavelincourt</td>\n",
              "      <td>121BB01</td>\n",
              "      <td>Craie du Séno-Turonien du bassin versant de la...</td>\n",
              "    </tr>\n",
              "    <tr>\n",
              "      <th>1</th>\n",
              "      <td>00487X0015/S1</td>\n",
              "      <td>BSS000EECH</td>\n",
              "      <td>3.07279822338651</td>\n",
              "      <td>49.9035922409316</td>\n",
              "      <td>80413</td>\n",
              "      <td>HANCOURT</td>\n",
              "      <td>E6351408</td>\n",
              "      <td>Haute Somme à Ham</td>\n",
              "      <td>121BB01</td>\n",
              "      <td>Craie du Séno-Turonien du bassin versant de la...</td>\n",
              "    </tr>\n",
              "    <tr>\n",
              "      <th>2</th>\n",
              "      <td>00755X0006/S1</td>\n",
              "      <td>BSS000FHCQ</td>\n",
              "      <td>0.419809838577633</td>\n",
              "      <td>49.5555270637694</td>\n",
              "      <td>76714</td>\n",
              "      <td>LES TROIS-PIERRES</td>\n",
              "      <td>G9103020</td>\n",
              "      <td>Lézarde à Montivilliers</td>\n",
              "      <td>121AU01</td>\n",
              "      <td>Craie du Séno-Turonien du Bassin Parisien de l...</td>\n",
              "    </tr>\n",
              "  </tbody>\n",
              "</table>\n",
              "</div>"
            ],
            "application/vnd.google.colaboratory.module+javascript": "\n      import \"https://ssl.gstatic.com/colaboratory/data_table/a8bd4d5e58f96183/data_table.js\";\n\n      window.createDataTable({\n        data: [[\"00471X0095/PZ2013\",\n\"BSS000EBLL\",\n\"2.578405\",\n\"50.023705\",\n\"80733\",\n\"SENLIS-LE-SEC\",\n\"E6397010\",\n\"L'Hallue \\u00e0 Bavelincourt\",\n\"121BB01\",\n\"Craie du S\\u00e9no-Turonien du bassin versant de la Somme (bassin Artois-Picardie)\"],\n [\"00487X0015/S1\",\n\"BSS000EECH\",\n\"3.07279822338651\",\n\"49.9035922409316\",\n\"80413\",\n\"HANCOURT\",\n\"E6351408\",\n\"Haute Somme \\u00e0 Ham\",\n\"121BB01\",\n\"Craie du S\\u00e9no-Turonien du bassin versant de la Somme (bassin Artois-Picardie)\"],\n [\"00755X0006/S1\",\n\"BSS000FHCQ\",\n\"0.419809838577633\",\n\"49.5555270637694\",\n\"76714\",\n\"LES TROIS-PIERRES\",\n\"G9103020\",\n\"L\\u00e9zarde \\u00e0 Montivilliers\",\n\"121AU01\",\n\"Craie du S\\u00e9no-Turonien du Bassin Parisien de l'estuaire de la Seine (bassin Seine-Normandie)\"]],\n        columns: [[\"string\", \"CODE_BSS\"], [\"string\", \"BSS_ID\"], [\"string\", \"LONGITUDE\"], [\"string\", \"LATITUDE\"], [\"string\", \"CODE_INSEE_COMMUNE\"], [\"string\", \"NOM_COMMUNE\"], [\"string\", \"CODE_STATION_HYDRO\"], [\"string\", \"NOM_STATION_HYDRO\"], [\"string\", \"CODE_BDLISA\"], [\"string\", \"NOM_ENTITE_BDLISA\"]],\n        columnOptions: [],\n        rowsPerPage: 10,\n        helpUrl: \"https://colab.research.google.com/notebooks/data_table.ipynb\",\n        suppressOutputScrolling: true,\n        minimumWidth: undefined,\n      });\n    ",
            "text/plain": [
              "<google.colab.data_table.DataTable object>"
            ]
          },
          "metadata": {},
          "execution_count": 11
        }
      ]
    },
    {
      "cell_type": "markdown",
      "metadata": {
        "id": "bW9MIghwahqo"
      },
      "source": [
        "Nombre de points d'eau"
      ]
    },
    {
      "cell_type": "code",
      "metadata": {
        "colab": {
          "base_uri": "https://localhost:8080/"
        },
        "id": "_U1xTUSDWXsw",
        "outputId": "42c86d67-622f-4ffb-98ca-2a229c0f68e4"
      },
      "source": [
        "point.count()"
      ],
      "execution_count": null,
      "outputs": [
        {
          "output_type": "execute_result",
          "data": {
            "text/plain": [
              "18"
            ]
          },
          "metadata": {},
          "execution_count": 12
        }
      ]
    },
    {
      "cell_type": "markdown",
      "metadata": {
        "id": "tgRnEegaHmG0"
      },
      "source": [
        "## Requetes d'analyse"
      ]
    },
    {
      "cell_type": "code",
      "metadata": {
        "colab": {
          "base_uri": "https://localhost:8080/",
          "height": 193
        },
        "id": "BcNG4N4IXaoG",
        "outputId": "5f66358d-53d5-4738-beaa-8080c19d2f24"
      },
      "source": [
        "%%sql\n",
        "select *\n",
        "from Point\n",
        "where nom_commune like 'R%'"
      ],
      "execution_count": null,
      "outputs": [
        {
          "output_type": "execute_result",
          "data": {
            "text/html": [
              "<div>\n",
              "<style scoped>\n",
              "    .dataframe tbody tr th:only-of-type {\n",
              "        vertical-align: middle;\n",
              "    }\n",
              "\n",
              "    .dataframe tbody tr th {\n",
              "        vertical-align: top;\n",
              "    }\n",
              "\n",
              "    .dataframe thead th {\n",
              "        text-align: right;\n",
              "    }\n",
              "</style>\n",
              "<table border=\"1\" class=\"dataframe\">\n",
              "  <thead>\n",
              "    <tr style=\"text-align: right;\">\n",
              "      <th></th>\n",
              "      <th>CODE_BSS</th>\n",
              "      <th>BSS_ID</th>\n",
              "      <th>LONGITUDE</th>\n",
              "      <th>LATITUDE</th>\n",
              "      <th>CODE_INSEE_COMMUNE</th>\n",
              "      <th>NOM_COMMUNE</th>\n",
              "      <th>CODE_STATION_HYDRO</th>\n",
              "      <th>NOM_STATION_HYDRO</th>\n",
              "      <th>CODE_BDLISA</th>\n",
              "      <th>NOM_ENTITE_BDLISA</th>\n",
              "    </tr>\n",
              "  </thead>\n",
              "  <tbody>\n",
              "    <tr>\n",
              "      <th>0</th>\n",
              "      <td>03124X0088/F</td>\n",
              "      <td>BSS000XFPD</td>\n",
              "      <td>-3.30717741173568</td>\n",
              "      <td>48.2312060880106</td>\n",
              "      <td>22266</td>\n",
              "      <td>ROSTRENEN</td>\n",
              "      <td>J5202110</td>\n",
              "      <td>Le Blavet à Kerien [Kerlouet]</td>\n",
              "      <td>195AA03</td>\n",
              "      <td>Socle plutonique dans le bassin versant du Can...</td>\n",
              "    </tr>\n",
              "  </tbody>\n",
              "</table>\n",
              "</div>"
            ],
            "application/vnd.google.colaboratory.module+javascript": "\n      import \"https://ssl.gstatic.com/colaboratory/data_table/a8bd4d5e58f96183/data_table.js\";\n\n      window.createDataTable({\n        data: [[\"03124X0088/F\",\n\"BSS000XFPD\",\n\"-3.30717741173568\",\n\"48.2312060880106\",\n\"22266\",\n\"ROSTRENEN\",\n\"J5202110\",\n\"Le Blavet \\u00e0 Kerien [Kerlouet]\",\n\"195AA03\",\n\"Socle plutonique dans le bassin versant du Canal de Nantes \\u00e0 Brest jusqu'au Blavet (non inclus)\"]],\n        columns: [[\"string\", \"CODE_BSS\"], [\"string\", \"BSS_ID\"], [\"string\", \"LONGITUDE\"], [\"string\", \"LATITUDE\"], [\"string\", \"CODE_INSEE_COMMUNE\"], [\"string\", \"NOM_COMMUNE\"], [\"string\", \"CODE_STATION_HYDRO\"], [\"string\", \"NOM_STATION_HYDRO\"], [\"string\", \"CODE_BDLISA\"], [\"string\", \"NOM_ENTITE_BDLISA\"]],\n        columnOptions: [],\n        rowsPerPage: 10,\n        helpUrl: \"https://colab.research.google.com/notebooks/data_table.ipynb\",\n        suppressOutputScrolling: true,\n        minimumWidth: undefined,\n      });\n    ",
            "text/plain": [
              "<google.colab.data_table.DataTable object>"
            ]
          },
          "metadata": {},
          "execution_count": 13
        }
      ]
    },
    {
      "cell_type": "markdown",
      "source": [
        "### La liste des codes de station"
      ],
      "metadata": {
        "id": "eS6btpDtLjwu"
      }
    },
    {
      "cell_type": "code",
      "metadata": {
        "colab": {
          "base_uri": "https://localhost:8080/",
          "height": 315
        },
        "id": "uehBOEE4X2ic",
        "outputId": "226ccc66-c29d-4e55-ba21-a39e4a9ee481"
      },
      "source": [
        "%%sql\n",
        "select distinct nom_commune, code_bss\n",
        "from Point\n",
        "order by nom_commune"
      ],
      "execution_count": null,
      "outputs": [
        {
          "output_type": "execute_result",
          "data": {
            "text/html": [
              "<div>\n",
              "<style scoped>\n",
              "    .dataframe tbody tr th:only-of-type {\n",
              "        vertical-align: middle;\n",
              "    }\n",
              "\n",
              "    .dataframe tbody tr th {\n",
              "        vertical-align: top;\n",
              "    }\n",
              "\n",
              "    .dataframe thead th {\n",
              "        text-align: right;\n",
              "    }\n",
              "</style>\n",
              "<table border=\"1\" class=\"dataframe\">\n",
              "  <thead>\n",
              "    <tr style=\"text-align: right;\">\n",
              "      <th></th>\n",
              "      <th>nom_commune</th>\n",
              "      <th>code_bss</th>\n",
              "    </tr>\n",
              "  </thead>\n",
              "  <tbody>\n",
              "    <tr>\n",
              "      <th>0</th>\n",
              "      <td>BEAUCHERY-ST-MARTIN</td>\n",
              "      <td>02603X0009/S1</td>\n",
              "    </tr>\n",
              "    <tr>\n",
              "      <th>1</th>\n",
              "      <td>BLACQUEVILLE</td>\n",
              "      <td>00766X0004/S1</td>\n",
              "    </tr>\n",
              "    <tr>\n",
              "      <th>2</th>\n",
              "      <td>BOURBERAIN</td>\n",
              "      <td>04398X0002/SONDAG</td>\n",
              "    </tr>\n",
              "    <tr>\n",
              "      <th>3</th>\n",
              "      <td>BUHY</td>\n",
              "      <td>01258X0020/S1</td>\n",
              "    </tr>\n",
              "    <tr>\n",
              "      <th>4</th>\n",
              "      <td>CELLES-SUR-PLAINE</td>\n",
              "      <td>02706X0074/S77-20</td>\n",
              "    </tr>\n",
              "    <tr>\n",
              "      <th>5</th>\n",
              "      <td>CORBAS</td>\n",
              "      <td>07223C0113/S</td>\n",
              "    </tr>\n",
              "    <tr>\n",
              "      <th>6</th>\n",
              "      <td>HALLIGNICOURT</td>\n",
              "      <td>02267X0030/S1</td>\n",
              "    </tr>\n",
              "    <tr>\n",
              "      <th>7</th>\n",
              "      <td>HANCOURT</td>\n",
              "      <td>00487X0015/S1</td>\n",
              "    </tr>\n",
              "    <tr>\n",
              "      <th>8</th>\n",
              "      <td>LES GRANDES-LOGES</td>\n",
              "      <td>01584X0023/LV3</td>\n",
              "    </tr>\n",
              "    <tr>\n",
              "      <th>9</th>\n",
              "      <td>LES TROIS-PIERRES</td>\n",
              "      <td>00755X0006/S1</td>\n",
              "    </tr>\n",
              "    <tr>\n",
              "      <th>10</th>\n",
              "      <td>MONTEREAU-SUR-LE-JARD</td>\n",
              "      <td>02206X0022/S1</td>\n",
              "    </tr>\n",
              "    <tr>\n",
              "      <th>11</th>\n",
              "      <td>MOTTEVILLE</td>\n",
              "      <td>00762X0004/S1</td>\n",
              "    </tr>\n",
              "    <tr>\n",
              "      <th>12</th>\n",
              "      <td>PENOL</td>\n",
              "      <td>07476X0029/S</td>\n",
              "    </tr>\n",
              "    <tr>\n",
              "      <th>13</th>\n",
              "      <td>PERDREAUVILLE</td>\n",
              "      <td>01516X0004/S1</td>\n",
              "    </tr>\n",
              "    <tr>\n",
              "      <th>14</th>\n",
              "      <td>ROSTRENEN</td>\n",
              "      <td>03124X0088/F</td>\n",
              "    </tr>\n",
              "    <tr>\n",
              "      <th>15</th>\n",
              "      <td>SENLIS-LE-SEC</td>\n",
              "      <td>00471X0095/PZ2013</td>\n",
              "    </tr>\n",
              "    <tr>\n",
              "      <th>16</th>\n",
              "      <td>TAPONAS</td>\n",
              "      <td>06505X0080/FORC</td>\n",
              "    </tr>\n",
              "    <tr>\n",
              "      <th>17</th>\n",
              "      <td>VAUX-SUR-BLAISE</td>\n",
              "      <td>02648X0020/S1</td>\n",
              "    </tr>\n",
              "  </tbody>\n",
              "</table>\n",
              "</div>"
            ],
            "application/vnd.google.colaboratory.module+javascript": "\n      import \"https://ssl.gstatic.com/colaboratory/data_table/a8bd4d5e58f96183/data_table.js\";\n\n      window.createDataTable({\n        data: [[\"BEAUCHERY-ST-MARTIN\",\n\"02603X0009/S1\"],\n [\"BLACQUEVILLE\",\n\"00766X0004/S1\"],\n [\"BOURBERAIN\",\n\"04398X0002/SONDAG\"],\n [\"BUHY\",\n\"01258X0020/S1\"],\n [\"CELLES-SUR-PLAINE\",\n\"02706X0074/S77-20\"],\n [\"CORBAS\",\n\"07223C0113/S\"],\n [\"HALLIGNICOURT\",\n\"02267X0030/S1\"],\n [\"HANCOURT\",\n\"00487X0015/S1\"],\n [\"LES GRANDES-LOGES\",\n\"01584X0023/LV3\"],\n [\"LES TROIS-PIERRES\",\n\"00755X0006/S1\"],\n [\"MONTEREAU-SUR-LE-JARD\",\n\"02206X0022/S1\"],\n [\"MOTTEVILLE\",\n\"00762X0004/S1\"],\n [\"PENOL\",\n\"07476X0029/S\"],\n [\"PERDREAUVILLE\",\n\"01516X0004/S1\"],\n [\"ROSTRENEN\",\n\"03124X0088/F\"],\n [\"SENLIS-LE-SEC\",\n\"00471X0095/PZ2013\"],\n [\"TAPONAS\",\n\"06505X0080/FORC\"],\n [\"VAUX-SUR-BLAISE\",\n\"02648X0020/S1\"]],\n        columns: [[\"string\", \"nom_commune\"], [\"string\", \"code_bss\"]],\n        columnOptions: [],\n        rowsPerPage: 10,\n        helpUrl: \"https://colab.research.google.com/notebooks/data_table.ipynb\",\n        suppressOutputScrolling: true,\n        minimumWidth: undefined,\n      });\n    ",
            "text/plain": [
              "<google.colab.data_table.DataTable object>"
            ]
          },
          "metadata": {},
          "execution_count": 14
        }
      ]
    },
    {
      "cell_type": "markdown",
      "metadata": {
        "id": "NcyFk0pfbRw4"
      },
      "source": [
        "## Accès Open data online\n",
        "\n",
        "Example d'URL pour obtenir des données depuis le **service en ligne**:\n",
        "https://hubeau.eaufrance.fr/api/v1/niveaux_nappes/chroniques?code_bss=07548X0009/F&sort=desc&size=10\n",
        "\n",
        "Les paramêtres de l'appel sont\n",
        "*   *code_bss* : le code du point d'eau\n",
        "*   *sort* : pour trier les données par date décroissante : sort=desc\n",
        "*   *size* : le nombre de tuples retournés"
      ]
    },
    {
      "cell_type": "code",
      "metadata": {
        "id": "RkXQC1oobV_3",
        "colab": {
          "base_uri": "https://localhost:8080/"
        },
        "outputId": "6bb6056e-9943-435a-ee40-7b623aabccbc"
      },
      "source": [
        "import urllib.request\n",
        "import json\n",
        "\n",
        "# code_bss = \"07548X0009/F\"\n",
        "code_bss = \"01516X0004/S1\"\n",
        "size = 20\n",
        "\n",
        "urlEau = f\"https://hubeau.eaufrance.fr/api/v1/niveaux_nappes/chroniques?code_bss={code_bss}&sort=desc&size={size}\"\n",
        "\n",
        "# télécharger les mesures depuis le service en ligne\n",
        "with urllib.request.urlopen(urlEau) as response:\n",
        "  encoding = response.info().get_content_charset('utf-8')\n",
        "  mesure_json = response.read().decode(encoding)\n",
        "\n",
        "  # stocker les mesures dans un fichier\n",
        "  with open(local_dir + '/mesure.json', 'w') as outfile:\n",
        "    outfile.write(mesure_json)\n",
        "\n",
        "# Lire dans Spark le fichier contenant les mesures.  Spark infère le schéma json s'il n'est pas donné\n",
        "data1 = spark.read.json(local_dir + '/mesure.json')\n",
        "data1.printSchema()"
      ],
      "execution_count": null,
      "outputs": [
        {
          "output_type": "stream",
          "name": "stdout",
          "text": [
            "root\n",
            " |-- api_version: string (nullable = true)\n",
            " |-- count: long (nullable = true)\n",
            " |-- data: array (nullable = true)\n",
            " |    |-- element: struct (containsNull = true)\n",
            " |    |    |-- code_bss: string (nullable = true)\n",
            " |    |    |-- code_continuite: string (nullable = true)\n",
            " |    |    |-- code_nature_mesure: string (nullable = true)\n",
            " |    |    |-- code_producteur: string (nullable = true)\n",
            " |    |    |-- date_mesure: string (nullable = true)\n",
            " |    |    |-- mode_obtention: string (nullable = true)\n",
            " |    |    |-- niveau_nappe_eau: double (nullable = true)\n",
            " |    |    |-- nom_continuite: string (nullable = true)\n",
            " |    |    |-- nom_nature_mesure: string (nullable = true)\n",
            " |    |    |-- nom_producteur: string (nullable = true)\n",
            " |    |    |-- profondeur_nappe: double (nullable = true)\n",
            " |    |    |-- qualification: string (nullable = true)\n",
            " |    |    |-- statut: string (nullable = true)\n",
            " |    |    |-- timestamp_mesure: long (nullable = true)\n",
            " |    |    |-- urn_bss: string (nullable = true)\n",
            " |-- first: string (nullable = true)\n",
            " |-- last: string (nullable = true)\n",
            " |-- next: string (nullable = true)\n",
            " |-- prev: string (nullable = true)\n",
            "\n"
          ]
        }
      ]
    },
    {
      "cell_type": "markdown",
      "source": [
        "### données : les mesures de points d'eau"
      ],
      "metadata": {
        "id": "M03COGSsKhPv"
      }
    },
    {
      "cell_type": "code",
      "source": [
        "data2 = data1.selectExpr(\"explode(data) as item\")\\\n",
        "  .selectExpr(\"item.code_bss as code\",\n",
        "           \"item.date_mesure as jour\",\n",
        "           \"item.profondeur_nappe as profonfeur\",\n",
        "           \"item.niveau_nappe_eau as niveau\",\n",
        "           \"from_unixtime(item.timestamp_mesure/1000, 'hh:mm') as heure\")\\\n",
        "  .orderBy(desc(col('jour')), desc(col('heure')))\n",
        "\n",
        "data2.persist()\n",
        "data2.printSchema()\n",
        "display(data2, 10)"
      ],
      "metadata": {
        "id": "x2QQgqZwKeyg",
        "colab": {
          "base_uri": "https://localhost:8080/",
          "height": 425
        },
        "outputId": "d84eeb55-bbe8-4bdf-f936-a25b55187216"
      },
      "execution_count": null,
      "outputs": [
        {
          "output_type": "stream",
          "name": "stdout",
          "text": [
            "root\n",
            " |-- code: string (nullable = true)\n",
            " |-- jour: string (nullable = true)\n",
            " |-- profonfeur: double (nullable = true)\n",
            " |-- niveau: double (nullable = true)\n",
            " |-- heure: string (nullable = true)\n",
            "\n"
          ]
        },
        {
          "output_type": "execute_result",
          "data": {
            "text/html": [
              "<div>\n",
              "<style scoped>\n",
              "    .dataframe tbody tr th:only-of-type {\n",
              "        vertical-align: middle;\n",
              "    }\n",
              "\n",
              "    .dataframe tbody tr th {\n",
              "        vertical-align: top;\n",
              "    }\n",
              "\n",
              "    .dataframe thead th {\n",
              "        text-align: right;\n",
              "    }\n",
              "</style>\n",
              "<table border=\"1\" class=\"dataframe\">\n",
              "  <thead>\n",
              "    <tr style=\"text-align: right;\">\n",
              "      <th></th>\n",
              "      <th>code</th>\n",
              "      <th>jour</th>\n",
              "      <th>profonfeur</th>\n",
              "      <th>niveau</th>\n",
              "      <th>heure</th>\n",
              "    </tr>\n",
              "  </thead>\n",
              "  <tbody>\n",
              "    <tr>\n",
              "      <th>0</th>\n",
              "      <td>01516X0004/S1</td>\n",
              "      <td>2022-11-28</td>\n",
              "      <td>20.44</td>\n",
              "      <td>35.24</td>\n",
              "      <td>12:00</td>\n",
              "    </tr>\n",
              "    <tr>\n",
              "      <th>1</th>\n",
              "      <td>01516X0004/S1</td>\n",
              "      <td>2022-11-27</td>\n",
              "      <td>20.44</td>\n",
              "      <td>35.24</td>\n",
              "      <td>09:00</td>\n",
              "    </tr>\n",
              "    <tr>\n",
              "      <th>2</th>\n",
              "      <td>01516X0004/S1</td>\n",
              "      <td>2022-11-26</td>\n",
              "      <td>20.45</td>\n",
              "      <td>35.23</td>\n",
              "      <td>07:00</td>\n",
              "    </tr>\n",
              "    <tr>\n",
              "      <th>3</th>\n",
              "      <td>01516X0004/S1</td>\n",
              "      <td>2022-11-25</td>\n",
              "      <td>20.44</td>\n",
              "      <td>35.24</td>\n",
              "      <td>12:00</td>\n",
              "    </tr>\n",
              "    <tr>\n",
              "      <th>4</th>\n",
              "      <td>01516X0004/S1</td>\n",
              "      <td>2022-11-24</td>\n",
              "      <td>20.44</td>\n",
              "      <td>35.24</td>\n",
              "      <td>12:00</td>\n",
              "    </tr>\n",
              "    <tr>\n",
              "      <th>5</th>\n",
              "      <td>01516X0004/S1</td>\n",
              "      <td>2022-11-23</td>\n",
              "      <td>20.42</td>\n",
              "      <td>35.26</td>\n",
              "      <td>08:00</td>\n",
              "    </tr>\n",
              "    <tr>\n",
              "      <th>6</th>\n",
              "      <td>01516X0004/S1</td>\n",
              "      <td>2022-11-22</td>\n",
              "      <td>20.42</td>\n",
              "      <td>35.26</td>\n",
              "      <td>12:00</td>\n",
              "    </tr>\n",
              "    <tr>\n",
              "      <th>7</th>\n",
              "      <td>01516X0004/S1</td>\n",
              "      <td>2022-11-21</td>\n",
              "      <td>20.41</td>\n",
              "      <td>35.27</td>\n",
              "      <td>03:00</td>\n",
              "    </tr>\n",
              "    <tr>\n",
              "      <th>8</th>\n",
              "      <td>01516X0004/S1</td>\n",
              "      <td>2022-11-20</td>\n",
              "      <td>20.43</td>\n",
              "      <td>35.25</td>\n",
              "      <td>05:00</td>\n",
              "    </tr>\n",
              "    <tr>\n",
              "      <th>9</th>\n",
              "      <td>01516X0004/S1</td>\n",
              "      <td>2022-11-19</td>\n",
              "      <td>20.43</td>\n",
              "      <td>35.25</td>\n",
              "      <td>12:00</td>\n",
              "    </tr>\n",
              "  </tbody>\n",
              "</table>\n",
              "</div>"
            ],
            "application/vnd.google.colaboratory.module+javascript": "\n      import \"https://ssl.gstatic.com/colaboratory/data_table/a8bd4d5e58f96183/data_table.js\";\n\n      window.createDataTable({\n        data: [[\"01516X0004/S1\",\n\"2022-11-28\",\n{\n            'v': 20.44,\n            'f': \"20.44\",\n        },\n{\n            'v': 35.24,\n            'f': \"35.24\",\n        },\n\"12:00\"],\n [\"01516X0004/S1\",\n\"2022-11-27\",\n{\n            'v': 20.44,\n            'f': \"20.44\",\n        },\n{\n            'v': 35.24,\n            'f': \"35.24\",\n        },\n\"09:00\"],\n [\"01516X0004/S1\",\n\"2022-11-26\",\n{\n            'v': 20.45,\n            'f': \"20.45\",\n        },\n{\n            'v': 35.23,\n            'f': \"35.23\",\n        },\n\"07:00\"],\n [\"01516X0004/S1\",\n\"2022-11-25\",\n{\n            'v': 20.44,\n            'f': \"20.44\",\n        },\n{\n            'v': 35.24,\n            'f': \"35.24\",\n        },\n\"12:00\"],\n [\"01516X0004/S1\",\n\"2022-11-24\",\n{\n            'v': 20.44,\n            'f': \"20.44\",\n        },\n{\n            'v': 35.24,\n            'f': \"35.24\",\n        },\n\"12:00\"],\n [\"01516X0004/S1\",\n\"2022-11-23\",\n{\n            'v': 20.42,\n            'f': \"20.42\",\n        },\n{\n            'v': 35.26,\n            'f': \"35.26\",\n        },\n\"08:00\"],\n [\"01516X0004/S1\",\n\"2022-11-22\",\n{\n            'v': 20.42,\n            'f': \"20.42\",\n        },\n{\n            'v': 35.26,\n            'f': \"35.26\",\n        },\n\"12:00\"],\n [\"01516X0004/S1\",\n\"2022-11-21\",\n{\n            'v': 20.41,\n            'f': \"20.41\",\n        },\n{\n            'v': 35.27,\n            'f': \"35.27\",\n        },\n\"03:00\"],\n [\"01516X0004/S1\",\n\"2022-11-20\",\n{\n            'v': 20.43,\n            'f': \"20.43\",\n        },\n{\n            'v': 35.25,\n            'f': \"35.25\",\n        },\n\"05:00\"],\n [\"01516X0004/S1\",\n\"2022-11-19\",\n{\n            'v': 20.43,\n            'f': \"20.43\",\n        },\n{\n            'v': 35.25,\n            'f': \"35.25\",\n        },\n\"12:00\"]],\n        columns: [[\"string\", \"code\"], [\"string\", \"jour\"], [\"number\", \"profonfeur\"], [\"number\", \"niveau\"], [\"string\", \"heure\"]],\n        columnOptions: [],\n        rowsPerPage: 10,\n        helpUrl: \"https://colab.research.google.com/notebooks/data_table.ipynb\",\n        suppressOutputScrolling: true,\n        minimumWidth: undefined,\n      });\n    ",
            "text/plain": [
              "<google.colab.data_table.DataTable object>"
            ]
          },
          "metadata": {},
          "execution_count": 16
        }
      ]
    },
    {
      "cell_type": "markdown",
      "metadata": {
        "id": "JFI5RDCqWhwS"
      },
      "source": [
        "# Exercice 1 : Accès en parallèle aux mesures de tous les points d'eau"
      ]
    },
    {
      "cell_type": "markdown",
      "metadata": {
        "id": "R2a3UBenX0km"
      },
      "source": [
        "## Question 1 : Accès parallèle"
      ]
    },
    {
      "cell_type": "markdown",
      "metadata": {
        "id": "RRWpDO30Wkwr"
      },
      "source": [
        "Pour toutes les stations (code_bss) de la table Point. Accéder en parallèle au site pour récupérer les **10 dernières mesures de niveau d'eau**.\n",
        "Le résultat est un seul dataframe Mesure(code,niveau,date,time) contenant toutes les mesures de tous les points d'eau. Rendre persistant le dataframe Mesure."
      ]
    },
    {
      "cell_type": "markdown",
      "source": [
        "### 1a)  get_mesure\n",
        "Définir la fonction get_mesure(code, nb_valeurs) avec code étant un code de station et nb_valeurs étant le nombre de mesures à récupérer.\n",
        "\n",
        "Le type de la valeur retournée est un tableau de tuples. Un tuple contient la date, la profondeur de la nappe, le niveau d'eau et l'estampille (timestamp) de la mesure.\n"
      ],
      "metadata": {
        "id": "OCUFnOgbb-u-"
      }
    },
    {
      "cell_type": "code",
      "source": [
        "def get_mesure(code, nb_valeurs):\n",
        "  print(code, nb_valeurs)\n",
        "  urlEau = f\"https://hubeau.eaufrance.fr/api/v1/niveaux_nappes/chroniques?code_bss={code}&sort=desc&size={nb_valeurs}\"\n",
        "\n",
        "  with urllib.request.urlopen(urlEau) as response:\n",
        "    encoding = response.info().get_content_charset('utf-8')\n",
        "    texte = response.read().decode(encoding)\n",
        "    obj = json.loads(texte)\n",
        "    data = obj['data'] #a list\n",
        "    tab = [ (i[\"date_mesure\"], i[\"profondeur_nappe\"], i[\"niveau_nappe_eau\"], i[\"timestamp_mesure\"]) for i in data]\n",
        "    return tab #an array of tuples\n",
        "\n",
        "# Exemple d'invocation de la fonction\n",
        "code = '01516X0004/S1'\n",
        "print(\"Les 5 dernières mesures de la station\", code)\n",
        "print(get_mesure(code, 5))"
      ],
      "metadata": {
        "colab": {
          "base_uri": "https://localhost:8080/"
        },
        "id": "OxhX1TpkS9wN",
        "outputId": "b251d493-66cb-4ebc-c610-4fbfc6aaa794"
      },
      "execution_count": null,
      "outputs": [
        {
          "output_type": "stream",
          "name": "stdout",
          "text": [
            "Les 5 dernières mesures de la station 01516X0004/S1\n",
            "01516X0004/S1 5\n",
            "[('2022-11-28', 20.44, 35.24, 1669593600000), ('2022-11-27', 20.44, 35.24, 1669539600000), ('2022-11-26', 20.45, 35.23, 1669446000000), ('2022-11-25', 20.44, 35.24, 1669334400000), ('2022-11-24', 20.44, 35.24, 1669248000000)]\n"
          ]
        }
      ]
    },
    {
      "cell_type": "markdown",
      "source": [
        "\n",
        "Déclarer la fonction comme étant une fonction UDF pour spark"
      ],
      "metadata": {
        "id": "0YE8d2-AlLoJ"
      }
    },
    {
      "cell_type": "code",
      "source": [
        "# syntaxe simplifiée, sans accent dans les noms de champs\n",
        "# tableau de tuples(date, profondeur, niveau, estampille)\n",
        "type_resultat = \"array< struct<date:string, profondeur:float, niveau:float, estampille:long> >\"\n",
        "\n",
        "spark.udf.register(\"get_mesure\", get_mesure, type_resultat)\n",
        "\n",
        "print(\"fonction get_mesure déclarée\")\n",
        "\n",
        "# Rmq, la syntaxe complète est :\n",
        "# type_resultat = ArrayType(StructType([\n",
        "#                             StructField('date', DateType(), False),\n",
        "#                             StructField('profondeur', FloatType(), True),\n",
        "#                             StructField('niveau', FloatType(), True),\n",
        "#                             StructField('estampille', IntegerType(), True)]))\n",
        "get_mesure_udf = udf(get_mesure, returnType=type_resultat)"
      ],
      "metadata": {
        "colab": {
          "base_uri": "https://localhost:8080/"
        },
        "id": "OOBnnaPblGzi",
        "outputId": "d6f56336-c2fa-473c-defb-29eec926b7db"
      },
      "execution_count": null,
      "outputs": [
        {
          "output_type": "stream",
          "name": "stdout",
          "text": [
            "fonction get_mesure déclarée\n"
          ]
        }
      ]
    },
    {
      "cell_type": "markdown",
      "source": [
        "### 1b) Invoquer get_mesure en parallèle"
      ],
      "metadata": {
        "id": "KYZGSgvWdjgM"
      }
    },
    {
      "cell_type": "code",
      "source": [
        "mesure = point.select(col(\"CODE_BSS\").alias(\"code\"), explode(get_mesure_udf(col(\"CODE_BSS\"), lit(10))).alias(\"item\"))\\\n",
        "  .selectExpr(\"code\", \"item.niveau as niveau\", \"item.date as date\", \"item.estampille as time\")\n",
        "\n",
        "#select ==> Spark, with col, and @udf/udf(fun, return_type)\n",
        "#selectExpr ==> SQL (les args sans des str), avec normal SQL syntax et udf.register\n",
        "#C'est qui le meilleur ?\n",
        "mesure.printSchema()\n",
        "display(mesure,10)"
      ],
      "metadata": {
        "colab": {
          "base_uri": "https://localhost:8080/",
          "height": 408
        },
        "id": "EffXuVMidqCs",
        "outputId": "42196d43-a82a-4b88-9a6d-8df9875ba179"
      },
      "execution_count": null,
      "outputs": [
        {
          "output_type": "stream",
          "name": "stdout",
          "text": [
            "root\n",
            " |-- code: string (nullable = true)\n",
            " |-- niveau: float (nullable = true)\n",
            " |-- date: string (nullable = true)\n",
            " |-- time: long (nullable = true)\n",
            "\n"
          ]
        },
        {
          "output_type": "execute_result",
          "data": {
            "text/html": [
              "<div>\n",
              "<style scoped>\n",
              "    .dataframe tbody tr th:only-of-type {\n",
              "        vertical-align: middle;\n",
              "    }\n",
              "\n",
              "    .dataframe tbody tr th {\n",
              "        vertical-align: top;\n",
              "    }\n",
              "\n",
              "    .dataframe thead th {\n",
              "        text-align: right;\n",
              "    }\n",
              "</style>\n",
              "<table border=\"1\" class=\"dataframe\">\n",
              "  <thead>\n",
              "    <tr style=\"text-align: right;\">\n",
              "      <th></th>\n",
              "      <th>code</th>\n",
              "      <th>niveau</th>\n",
              "      <th>date</th>\n",
              "      <th>time</th>\n",
              "    </tr>\n",
              "  </thead>\n",
              "  <tbody>\n",
              "    <tr>\n",
              "      <th>0</th>\n",
              "      <td>00471X0095/PZ2013</td>\n",
              "      <td>62.880001</td>\n",
              "      <td>2022-11-28</td>\n",
              "      <td>1669658400000</td>\n",
              "    </tr>\n",
              "    <tr>\n",
              "      <th>1</th>\n",
              "      <td>00471X0095/PZ2013</td>\n",
              "      <td>62.880001</td>\n",
              "      <td>2022-11-27</td>\n",
              "      <td>1669557600000</td>\n",
              "    </tr>\n",
              "    <tr>\n",
              "      <th>2</th>\n",
              "      <td>00471X0095/PZ2013</td>\n",
              "      <td>62.889999</td>\n",
              "      <td>2022-11-26</td>\n",
              "      <td>1669428000000</td>\n",
              "    </tr>\n",
              "    <tr>\n",
              "      <th>3</th>\n",
              "      <td>00471X0095/PZ2013</td>\n",
              "      <td>62.900002</td>\n",
              "      <td>2022-11-25</td>\n",
              "      <td>1669363200000</td>\n",
              "    </tr>\n",
              "    <tr>\n",
              "      <th>4</th>\n",
              "      <td>00471X0095/PZ2013</td>\n",
              "      <td>62.910000</td>\n",
              "      <td>2022-11-24</td>\n",
              "      <td>1669251600000</td>\n",
              "    </tr>\n",
              "    <tr>\n",
              "      <th>5</th>\n",
              "      <td>00471X0095/PZ2013</td>\n",
              "      <td>62.910000</td>\n",
              "      <td>2022-11-23</td>\n",
              "      <td>1669240800000</td>\n",
              "    </tr>\n",
              "    <tr>\n",
              "      <th>6</th>\n",
              "      <td>00471X0095/PZ2013</td>\n",
              "      <td>62.919998</td>\n",
              "      <td>2022-11-22</td>\n",
              "      <td>1669114800000</td>\n",
              "    </tr>\n",
              "    <tr>\n",
              "      <th>7</th>\n",
              "      <td>00471X0095/PZ2013</td>\n",
              "      <td>62.930000</td>\n",
              "      <td>2022-11-21</td>\n",
              "      <td>1668988800000</td>\n",
              "    </tr>\n",
              "    <tr>\n",
              "      <th>8</th>\n",
              "      <td>00471X0095/PZ2013</td>\n",
              "      <td>62.939999</td>\n",
              "      <td>2022-11-20</td>\n",
              "      <td>1668909600000</td>\n",
              "    </tr>\n",
              "    <tr>\n",
              "      <th>9</th>\n",
              "      <td>00471X0095/PZ2013</td>\n",
              "      <td>62.950001</td>\n",
              "      <td>2022-11-19</td>\n",
              "      <td>1668816000000</td>\n",
              "    </tr>\n",
              "  </tbody>\n",
              "</table>\n",
              "</div>"
            ],
            "application/vnd.google.colaboratory.module+javascript": "\n      import \"https://ssl.gstatic.com/colaboratory/data_table/a8bd4d5e58f96183/data_table.js\";\n\n      window.createDataTable({\n        data: [[\"00471X0095/PZ2013\",\n{\n            'v': 62.880001068115234,\n            'f': \"62.880001068115234\",\n        },\n\"2022-11-28\",\n{\n            'v': 1669658400000,\n            'f': \"1669658400000\",\n        }],\n [\"00471X0095/PZ2013\",\n{\n            'v': 62.880001068115234,\n            'f': \"62.880001068115234\",\n        },\n\"2022-11-27\",\n{\n            'v': 1669557600000,\n            'f': \"1669557600000\",\n        }],\n [\"00471X0095/PZ2013\",\n{\n            'v': 62.88999938964844,\n            'f': \"62.88999938964844\",\n        },\n\"2022-11-26\",\n{\n            'v': 1669428000000,\n            'f': \"1669428000000\",\n        }],\n [\"00471X0095/PZ2013\",\n{\n            'v': 62.900001525878906,\n            'f': \"62.900001525878906\",\n        },\n\"2022-11-25\",\n{\n            'v': 1669363200000,\n            'f': \"1669363200000\",\n        }],\n [\"00471X0095/PZ2013\",\n{\n            'v': 62.90999984741211,\n            'f': \"62.90999984741211\",\n        },\n\"2022-11-24\",\n{\n            'v': 1669251600000,\n            'f': \"1669251600000\",\n        }],\n [\"00471X0095/PZ2013\",\n{\n            'v': 62.90999984741211,\n            'f': \"62.90999984741211\",\n        },\n\"2022-11-23\",\n{\n            'v': 1669240800000,\n            'f': \"1669240800000\",\n        }],\n [\"00471X0095/PZ2013\",\n{\n            'v': 62.91999816894531,\n            'f': \"62.91999816894531\",\n        },\n\"2022-11-22\",\n{\n            'v': 1669114800000,\n            'f': \"1669114800000\",\n        }],\n [\"00471X0095/PZ2013\",\n{\n            'v': 62.93000030517578,\n            'f': \"62.93000030517578\",\n        },\n\"2022-11-21\",\n{\n            'v': 1668988800000,\n            'f': \"1668988800000\",\n        }],\n [\"00471X0095/PZ2013\",\n{\n            'v': 62.939998626708984,\n            'f': \"62.939998626708984\",\n        },\n\"2022-11-20\",\n{\n            'v': 1668909600000,\n            'f': \"1668909600000\",\n        }],\n [\"00471X0095/PZ2013\",\n{\n            'v': 62.95000076293945,\n            'f': \"62.95000076293945\",\n        },\n\"2022-11-19\",\n{\n            'v': 1668816000000,\n            'f': \"1668816000000\",\n        }]],\n        columns: [[\"string\", \"code\"], [\"number\", \"niveau\"], [\"string\", \"date\"], [\"number\", \"time\"]],\n        columnOptions: [],\n        rowsPerPage: 10,\n        helpUrl: \"https://colab.research.google.com/notebooks/data_table.ipynb\",\n        suppressOutputScrolling: true,\n        minimumWidth: undefined,\n      });\n    ",
            "text/plain": [
              "<google.colab.data_table.DataTable object>"
            ]
          },
          "metadata": {},
          "execution_count": 61
        }
      ]
    },
    {
      "cell_type": "markdown",
      "metadata": {
        "id": "aWxnTckFX4EC"
      },
      "source": [
        "## Question 2 : degré de parallélisme"
      ]
    },
    {
      "cell_type": "markdown",
      "metadata": {
        "id": "riRxHIsYX_FQ"
      },
      "source": [
        "L'objectif est de mesurer le bénéfice aporté par le parallélisme pour accélérer le traitement d'une requête.\n",
        "\n",
        "On considère la requête ci-dessus qui lit les mesures d'eau à partir d'une liste de points d'eau."
      ]
    },
    {
      "cell_type": "markdown",
      "source": [
        "### 2a) 1 seule partition\n",
        "\n",
        "Rendre persistant la liste des points d'eau dans **une seule** partition\n",
        "\n"
      ],
      "metadata": {
        "id": "vS76RNMohFQD"
      }
    },
    {
      "cell_type": "code",
      "metadata": {
        "id": "as5gI9mRm_At",
        "colab": {
          "base_uri": "https://localhost:8080/"
        },
        "outputId": "14a669d7-363e-461d-8dc4-f1d0e84965f9"
      },
      "source": [
        "point1Partition = point.repartition(1).persist()\n",
        "point1Partition.count()"
      ],
      "execution_count": null,
      "outputs": [
        {
          "output_type": "execute_result",
          "data": {
            "text/plain": [
              "18"
            ]
          },
          "metadata": {},
          "execution_count": 62
        }
      ]
    },
    {
      "cell_type": "markdown",
      "source": [
        "Mesurer la durée de la requête à l'aide du chronomètre chronoPersist()"
      ],
      "metadata": {
        "id": "yFYL3txYmXbk"
      }
    },
    {
      "cell_type": "code",
      "source": [
        "# m1partition = point1Partition.select(col(\"CODE_BSS\").alias(\"code\"), explode(get_mesure_udf(col(\"CODE_BSS\"), lit(10))).alias(\"item\"))\n",
        "m1partition = point1Partition.selectExpr(\"code_bss\", \"explode(get_mesure(code_bss, 10)) as item\")\n",
        "\n",
        "chronoPersist(m1partition)"
      ],
      "metadata": {
        "colab": {
          "base_uri": "https://localhost:8080/"
        },
        "id": "iP7lPep2bsFc",
        "outputId": "c1742d1b-0074-47e9-a87f-8526c5d5b04c"
      },
      "execution_count": null,
      "outputs": [
        {
          "output_type": "stream",
          "name": "stdout",
          "text": [
            "durée: 11.1 s pour lire 180 elements\n"
          ]
        }
      ]
    },
    {
      "cell_type": "markdown",
      "source": [
        "### 2b) Deux partitions\n",
        "Rendre persistant la liste des points d'eau dans **deux** partitions, puis mesurer la durée de la requête."
      ],
      "metadata": {
        "id": "Dq-GZIBFj8Sx"
      }
    },
    {
      "cell_type": "code",
      "metadata": {
        "id": "B0GGJIIzb-EW",
        "colab": {
          "base_uri": "https://localhost:8080/"
        },
        "outputId": "6d101df7-7e22-4004-9c2e-ba75c2049fa6"
      },
      "source": [
        "point2Partitions = point.repartition(2).persist()\n",
        "point2Partitions.count()"
      ],
      "execution_count": null,
      "outputs": [
        {
          "output_type": "execute_result",
          "data": {
            "text/plain": [
              "18"
            ]
          },
          "metadata": {},
          "execution_count": 66
        }
      ]
    },
    {
      "cell_type": "markdown",
      "source": [
        "Mesurer la durée de la requête "
      ],
      "metadata": {
        "id": "-lGPT-0qmlzw"
      }
    },
    {
      "cell_type": "code",
      "source": [
        "m2partition = point2Partitions.selectExpr(\"code_bss\", \"explode(get_mesure(code_bss, 10)) as item\")\n",
        "\n",
        "chronoPersist(m2partition)"
      ],
      "metadata": {
        "colab": {
          "base_uri": "https://localhost:8080/"
        },
        "id": "WEOobi3PcdNX",
        "outputId": "59f12f1a-1cfa-431c-b6d2-3afd7d45f4f9"
      },
      "execution_count": null,
      "outputs": [
        {
          "output_type": "stream",
          "name": "stdout",
          "text": [
            "durée: 5.7 s pour lire 180 elements\n"
          ]
        }
      ]
    },
    {
      "cell_type": "markdown",
      "source": [
        "### 2b) 4 partitions"
      ],
      "metadata": {
        "id": "nz8pi5bfe_Ht"
      }
    },
    {
      "cell_type": "code",
      "source": [
        "point4Partitions = point.repartition(4).persist()\n",
        "print(point2Partitions.count())\n",
        "\n",
        "m4partition = point4Partitions.selectExpr(\"code_bss\", \"explode(get_mesure(code_bss, 10)) as item\")\n",
        "\n",
        "chronoPersist(m4partition)\n",
        "\n",
        "#Justification: We only have 2 cores"
      ],
      "metadata": {
        "colab": {
          "base_uri": "https://localhost:8080/"
        },
        "id": "ecbPPk02fB3-",
        "outputId": "28feb56f-0d9e-4c38-97fa-c16742b0234f"
      },
      "execution_count": null,
      "outputs": [
        {
          "output_type": "stream",
          "name": "stdout",
          "text": [
            "18\n",
            "durée: 6.0 s pour lire 180 elements\n"
          ]
        }
      ]
    },
    {
      "cell_type": "markdown",
      "metadata": {
        "id": "6fBrIwKAXsYi"
      },
      "source": [
        "# Exercice 2 : Traitement avec des partitions"
      ]
    },
    {
      "cell_type": "markdown",
      "source": [
        "On considère les mesures récentes"
      ],
      "metadata": {
        "id": "BC5USknN5CaL"
      }
    },
    {
      "cell_type": "code",
      "source": [
        "mesures = spark.read.format(\"json\").load(local_dir + '/mesures_recentes_2022.json').repartition(3).persist()\n",
        "print(mesures.count())\n",
        "display(mesures,5)"
      ],
      "metadata": {
        "colab": {
          "base_uri": "https://localhost:8080/",
          "height": 214
        },
        "id": "SLsOEjcP6fGe",
        "outputId": "01225762-d168-4d90-8f6e-cfa002ae619e"
      },
      "execution_count": null,
      "outputs": [
        {
          "output_type": "stream",
          "name": "stdout",
          "text": [
            "900\n"
          ]
        },
        {
          "output_type": "execute_result",
          "data": {
            "text/html": [
              "<div>\n",
              "<style scoped>\n",
              "    .dataframe tbody tr th:only-of-type {\n",
              "        vertical-align: middle;\n",
              "    }\n",
              "\n",
              "    .dataframe tbody tr th {\n",
              "        vertical-align: top;\n",
              "    }\n",
              "\n",
              "    .dataframe thead th {\n",
              "        text-align: right;\n",
              "    }\n",
              "</style>\n",
              "<table border=\"1\" class=\"dataframe\">\n",
              "  <thead>\n",
              "    <tr style=\"text-align: right;\">\n",
              "      <th></th>\n",
              "      <th>code</th>\n",
              "      <th>date</th>\n",
              "      <th>estampille</th>\n",
              "      <th>niveau</th>\n",
              "      <th>profondeur</th>\n",
              "    </tr>\n",
              "  </thead>\n",
              "  <tbody>\n",
              "    <tr>\n",
              "      <th>0</th>\n",
              "      <td>07476X0029/S</td>\n",
              "      <td>2022-11-24</td>\n",
              "      <td>1669273200</td>\n",
              "      <td>297.16</td>\n",
              "      <td>31.27</td>\n",
              "    </tr>\n",
              "    <tr>\n",
              "      <th>1</th>\n",
              "      <td>02603X0009/S1</td>\n",
              "      <td>2022-11-12</td>\n",
              "      <td>1668211200</td>\n",
              "      <td>128.66</td>\n",
              "      <td>15.49</td>\n",
              "    </tr>\n",
              "    <tr>\n",
              "      <th>2</th>\n",
              "      <td>03124X0088/F</td>\n",
              "      <td>2022-11-11</td>\n",
              "      <td>1668207600</td>\n",
              "      <td>236.45</td>\n",
              "      <td>18.70</td>\n",
              "    </tr>\n",
              "    <tr>\n",
              "      <th>3</th>\n",
              "      <td>00487X0015/S1</td>\n",
              "      <td>2022-11-12</td>\n",
              "      <td>1668261600</td>\n",
              "      <td>69.93</td>\n",
              "      <td>32.22</td>\n",
              "    </tr>\n",
              "    <tr>\n",
              "      <th>4</th>\n",
              "      <td>01584X0023/LV3</td>\n",
              "      <td>2022-11-11</td>\n",
              "      <td>1668204000</td>\n",
              "      <td>83.71</td>\n",
              "      <td>23.69</td>\n",
              "    </tr>\n",
              "  </tbody>\n",
              "</table>\n",
              "</div>"
            ],
            "application/vnd.google.colaboratory.module+javascript": "\n      import \"https://ssl.gstatic.com/colaboratory/data_table/a8bd4d5e58f96183/data_table.js\";\n\n      window.createDataTable({\n        data: [[\"07476X0029/S\",\n\"2022-11-24\",\n{\n            'v': 1669273200,\n            'f': \"1669273200\",\n        },\n{\n            'v': 297.16,\n            'f': \"297.16\",\n        },\n{\n            'v': 31.27,\n            'f': \"31.27\",\n        }],\n [\"02603X0009/S1\",\n\"2022-11-12\",\n{\n            'v': 1668211200,\n            'f': \"1668211200\",\n        },\n{\n            'v': 128.66,\n            'f': \"128.66\",\n        },\n{\n            'v': 15.49,\n            'f': \"15.49\",\n        }],\n [\"03124X0088/F\",\n\"2022-11-11\",\n{\n            'v': 1668207600,\n            'f': \"1668207600\",\n        },\n{\n            'v': 236.45,\n            'f': \"236.45\",\n        },\n{\n            'v': 18.7,\n            'f': \"18.7\",\n        }],\n [\"00487X0015/S1\",\n\"2022-11-12\",\n{\n            'v': 1668261600,\n            'f': \"1668261600\",\n        },\n{\n            'v': 69.93,\n            'f': \"69.93\",\n        },\n{\n            'v': 32.22,\n            'f': \"32.22\",\n        }],\n [\"01584X0023/LV3\",\n\"2022-11-11\",\n{\n            'v': 1668204000,\n            'f': \"1668204000\",\n        },\n{\n            'v': 83.71,\n            'f': \"83.71\",\n        },\n{\n            'v': 23.69,\n            'f': \"23.69\",\n        }]],\n        columns: [[\"string\", \"code\"], [\"string\", \"date\"], [\"number\", \"estampille\"], [\"number\", \"niveau\"], [\"number\", \"profondeur\"]],\n        columnOptions: [],\n        rowsPerPage: 10,\n        helpUrl: \"https://colab.research.google.com/notebooks/data_table.ipynb\",\n        suppressOutputScrolling: true,\n        minimumWidth: undefined,\n      });\n    ",
            "text/plain": [
              "<google.colab.data_table.DataTable object>"
            ]
          },
          "metadata": {},
          "execution_count": 68
        }
      ]
    },
    {
      "cell_type": "markdown",
      "metadata": {
        "id": "3cSOQIuuZ_PD"
      },
      "source": [
        "On fournit des fonctions pour afficher le contenu des partitions d'un dataframe\n"
      ]
    },
    {
      "cell_type": "markdown",
      "source": [
        "## Question 1 : Taille et contenu d'une partition"
      ],
      "metadata": {
        "id": "g2MDOPcb84Fs"
      }
    },
    {
      "cell_type": "markdown",
      "source": [
        "Expliquer le fonctionnement de showPartitions et showPartitionSize"
      ],
      "metadata": {
        "id": "6etUL8mU89ak"
      }
    },
    {
      "cell_type": "markdown",
      "metadata": {
        "application/vnd.databricks.v1+cell": {
          "title": "",
          "showTitle": false,
          "inputWidgets": {},
          "nuid": "52fd9538-28a9-4974-92ea-8a7be60563c3"
        },
        "id": "0LPYBvh0G1_-"
      },
      "source": [
        "#### Fonctions showPartitions et showPartitionSize\n",
        " \n",
        "* showPartitions : affiche les _n_ premiers éléments de chaque partition\n",
        "* showPartitionSize : affiche le nombre d'éléments dans chaque partition"
      ]
    },
    {
      "cell_type": "code",
      "metadata": {
        "application/vnd.databricks.v1+cell": {
          "title": "",
          "showTitle": false,
          "inputWidgets": {},
          "nuid": "f626210f-dce5-457b-a05b-1dd3e6af87a2"
        },
        "colab": {
          "base_uri": "https://localhost:8080/"
        },
        "id": "cIfA0oZaG1_-",
        "outputId": "e695daa4-e899-4152-fae4-4d1b7beda337"
      },
      "source": [
        "# fonction auxilliaire\n",
        "def partSize(partID, iterateur):\n",
        "  c=0\n",
        "  suivant = next(iterateur, None)\n",
        "  while suivant is not None :\n",
        "    c+=1\n",
        "    suivant = next(iterateur, None)\n",
        "  yield (partID, c)\n",
        "\n",
        "\n",
        "def showPartitionSize(df):  \n",
        "  t = df.selectExpr(\"1\").rdd.mapPartitionsWithIndex(partSize)\n",
        "  for (partID, nbElt) in t.collect():\n",
        "    print(\"partition\", partID, \":\", nbElt, \"éléments\")\n",
        "  print()\n",
        "\n",
        "\n",
        "def showPartitions(df, N=5):\n",
        "  size = df.selectExpr(\"1\").rdd.mapPartitionsWithIndex(partSize).collectAsMap()\n",
        "  \n",
        "  def topN(partID, iterateur):\n",
        "    c=0\n",
        "    head=[]\n",
        "    suivant = next(iterateur, None)\n",
        "    while suivant is not None and c < N :\n",
        "      c+=1\n",
        "      head.append(suivant)\n",
        "      suivant = next(iterateur, None)\n",
        "    yield (partID, head)\n",
        "    \n",
        "  t = df.rdd.mapPartitionsWithIndex(topN)\n",
        "  for (partID, head) in t.collect():\n",
        "    print(\"Partition\", partID, \",\", size[partID], \"éléments\")\n",
        "    for row in head:\n",
        "        print(row)\n",
        "    print()\n",
        "    \n",
        "print('showPartitions et showPartitionSize définies')"
      ],
      "execution_count": null,
      "outputs": [
        {
          "output_type": "stream",
          "name": "stdout",
          "text": [
            "showPartitions et showPartitionSize définies\n"
          ]
        }
      ]
    },
    {
      "cell_type": "markdown",
      "metadata": {
        "id": "BOlul5ehQCXU"
      },
      "source": [
        "Afficher la taille de chaque partition"
      ]
    },
    {
      "cell_type": "code",
      "metadata": {
        "colab": {
          "base_uri": "https://localhost:8080/"
        },
        "id": "kw3S7FblajL2",
        "outputId": "4646591f-0210-4c78-bfbe-d8102ce57451"
      },
      "source": [
        "showPartitionSize(mesures)"
      ],
      "execution_count": null,
      "outputs": [
        {
          "output_type": "stream",
          "name": "stdout",
          "text": [
            "partition 0 : 300 éléments\n",
            "partition 1 : 300 éléments\n",
            "partition 2 : 300 éléments\n",
            "\n"
          ]
        }
      ]
    },
    {
      "cell_type": "markdown",
      "metadata": {
        "id": "EwESmBw_P8-1"
      },
      "source": [
        "Afficher les premiers éléments de chaque partition"
      ]
    },
    {
      "cell_type": "code",
      "metadata": {
        "colab": {
          "base_uri": "https://localhost:8080/"
        },
        "id": "ClAHmDeVblxw",
        "outputId": "b7c8606c-d66a-4ed8-aff9-02b8259e594c"
      },
      "source": [
        "showPartitions(mesures)"
      ],
      "execution_count": null,
      "outputs": [
        {
          "output_type": "stream",
          "name": "stdout",
          "text": [
            "Partition 0 , 300 éléments\n",
            "Row(code='07476X0029/S', date='2022-11-24', estampille=1669273200, niveau=297.16, profondeur=31.27)\n",
            "Row(code='02603X0009/S1', date='2022-11-12', estampille=1668211200, niveau=128.66, profondeur=15.49)\n",
            "Row(code='03124X0088/F', date='2022-11-11', estampille=1668207600, niveau=236.45, profondeur=18.7)\n",
            "Row(code='00487X0015/S1', date='2022-11-12', estampille=1668261600, niveau=69.93, profondeur=32.22)\n",
            "Row(code='01584X0023/LV3', date='2022-11-11', estampille=1668204000, niveau=83.71, profondeur=23.69)\n",
            "\n",
            "Partition 1 , 300 éléments\n",
            "Row(code='00471X0095/PZ2013', date='2022-11-08', estampille=1667890800, niveau=63.06, profondeur=15.02)\n",
            "Row(code='01584X0023/LV3', date='2022-10-24', estampille=1666641600, niveau=83.51, profondeur=23.89)\n",
            "Row(code='01584X0023/LV3', date='2022-11-01', estampille=1667343600, niveau=83.18, profondeur=24.22)\n",
            "Row(code='02267X0030/S1', date='2022-10-10', estampille=1665421200, niveau=133.22, profondeur=2.87)\n",
            "Row(code='07476X0029/S', date='2022-10-15', estampille=1665802800, niveau=297.48, profondeur=30.95)\n",
            "\n",
            "Partition 2 , 300 éléments\n",
            "Row(code='06505X0080/FORC', date='2022-10-26', estampille=1666749600, niveau=168.33, profondeur=11.77)\n",
            "Row(code='02648X0020/S1', date='2022-11-28', estampille=1669597200, niveau=173.39, profondeur=7.26)\n",
            "Row(code='07476X0029/S', date='2022-10-26', estampille=1666764000, niveau=297.38, profondeur=31.05)\n",
            "Row(code='01258X0020/S1', date='2022-10-16', estampille=1665957600, niveau=45.26, profondeur=17.74)\n",
            "Row(code='06505X0080/FORC', date='2022-11-22', estampille=1669096800, niveau=168.48, profondeur=11.62)\n",
            "\n"
          ]
        }
      ]
    },
    {
      "cell_type": "markdown",
      "metadata": {
        "id": "rMHvhFWXbRfX"
      },
      "source": [
        "## Question 2 : Nombre de mesures par point d'eau"
      ]
    },
    {
      "cell_type": "markdown",
      "metadata": {
        "id": "YUw-ILsYbbdZ"
      },
      "source": [
        "En vous inspirant des fonctions topN et showPartitions définir une fonction qui détermine le nombre de mesures de chaque point d'eau dans chaque partition. Le résultat est (numP, code, nbMesure) avec numP étant le numéro de partition."
      ]
    },
    {
      "cell_type": "code",
      "metadata": {
        "id": "f4ggZjG5cPJ_"
      },
      "source": [
        "#iterateur sur les rows de la partition\n",
        "#Using a python dict is possible as well (and faster)\n",
        "def nbMesure(partID, iterateur):\n",
        "    c=0\n",
        "    suivant = next(iterateur, None)\n",
        "    codes=[]\n",
        "    nbMesures=[]\n",
        "    while suivant is not None :\n",
        "      c+=1\n",
        "      if suivant.code in codes:\n",
        "        for i, code in enumerate(codes):\n",
        "          if code == suivant.code:\n",
        "            nbMesures[i] +=1\n",
        "            break\n",
        "      else:\n",
        "        codes.append(suivant.code)\n",
        "        nbMesures.append(1)\n",
        "      \n",
        "      suivant = next(iterateur, None)\n",
        "    \n",
        "    for i in range(len(codes)):\n",
        "      yield (partID, codes[i], nbMesures[i])"
      ],
      "execution_count": null,
      "outputs": []
    },
    {
      "cell_type": "markdown",
      "metadata": {
        "id": "9K5CMfMccQVG"
      },
      "source": [
        "Invoquez la fonction que vous aurez définie"
      ]
    },
    {
      "cell_type": "code",
      "metadata": {
        "id": "S0xtdpoP3XGy",
        "colab": {
          "base_uri": "https://localhost:8080/",
          "height": 315
        },
        "outputId": "9afa0478-3c4a-4115-9733-d13bc6254e0d"
      },
      "source": [
        "# exemple d'invocation de la fonction nbMesure définie ci-dessus\n",
        "nb_mesures_par_point = mesures.rdd.mapPartitionsWithIndex(nbMesure).toDF([\"numP\", \"code\", \"nb\"])\n",
        "display(nb_mesures_par_point)"
      ],
      "execution_count": null,
      "outputs": [
        {
          "output_type": "execute_result",
          "data": {
            "text/html": [
              "<div>\n",
              "<style scoped>\n",
              "    .dataframe tbody tr th:only-of-type {\n",
              "        vertical-align: middle;\n",
              "    }\n",
              "\n",
              "    .dataframe tbody tr th {\n",
              "        vertical-align: top;\n",
              "    }\n",
              "\n",
              "    .dataframe thead th {\n",
              "        text-align: right;\n",
              "    }\n",
              "</style>\n",
              "<table border=\"1\" class=\"dataframe\">\n",
              "  <thead>\n",
              "    <tr style=\"text-align: right;\">\n",
              "      <th></th>\n",
              "      <th>numP</th>\n",
              "      <th>code</th>\n",
              "      <th>nb</th>\n",
              "    </tr>\n",
              "  </thead>\n",
              "  <tbody>\n",
              "    <tr>\n",
              "      <th>0</th>\n",
              "      <td>0</td>\n",
              "      <td>07476X0029/S</td>\n",
              "      <td>16</td>\n",
              "    </tr>\n",
              "    <tr>\n",
              "      <th>1</th>\n",
              "      <td>0</td>\n",
              "      <td>02603X0009/S1</td>\n",
              "      <td>18</td>\n",
              "    </tr>\n",
              "    <tr>\n",
              "      <th>2</th>\n",
              "      <td>0</td>\n",
              "      <td>03124X0088/F</td>\n",
              "      <td>19</td>\n",
              "    </tr>\n",
              "    <tr>\n",
              "      <th>3</th>\n",
              "      <td>0</td>\n",
              "      <td>00487X0015/S1</td>\n",
              "      <td>20</td>\n",
              "    </tr>\n",
              "    <tr>\n",
              "      <th>4</th>\n",
              "      <td>0</td>\n",
              "      <td>01584X0023/LV3</td>\n",
              "      <td>15</td>\n",
              "    </tr>\n",
              "    <tr>\n",
              "      <th>5</th>\n",
              "      <td>0</td>\n",
              "      <td>04398X0002/SONDAG</td>\n",
              "      <td>15</td>\n",
              "    </tr>\n",
              "    <tr>\n",
              "      <th>6</th>\n",
              "      <td>0</td>\n",
              "      <td>02267X0030/S1</td>\n",
              "      <td>14</td>\n",
              "    </tr>\n",
              "    <tr>\n",
              "      <th>7</th>\n",
              "      <td>0</td>\n",
              "      <td>06505X0080/FORC</td>\n",
              "      <td>18</td>\n",
              "    </tr>\n",
              "    <tr>\n",
              "      <th>8</th>\n",
              "      <td>0</td>\n",
              "      <td>02706X0074/S77-20</td>\n",
              "      <td>17</td>\n",
              "    </tr>\n",
              "    <tr>\n",
              "      <th>9</th>\n",
              "      <td>0</td>\n",
              "      <td>01516X0004/S1</td>\n",
              "      <td>21</td>\n",
              "    </tr>\n",
              "    <tr>\n",
              "      <th>10</th>\n",
              "      <td>0</td>\n",
              "      <td>00766X0004/S1</td>\n",
              "      <td>17</td>\n",
              "    </tr>\n",
              "    <tr>\n",
              "      <th>11</th>\n",
              "      <td>0</td>\n",
              "      <td>02648X0020/S1</td>\n",
              "      <td>15</td>\n",
              "    </tr>\n",
              "    <tr>\n",
              "      <th>12</th>\n",
              "      <td>0</td>\n",
              "      <td>00755X0006/S1</td>\n",
              "      <td>17</td>\n",
              "    </tr>\n",
              "    <tr>\n",
              "      <th>13</th>\n",
              "      <td>0</td>\n",
              "      <td>00762X0004/S1</td>\n",
              "      <td>12</td>\n",
              "    </tr>\n",
              "    <tr>\n",
              "      <th>14</th>\n",
              "      <td>0</td>\n",
              "      <td>07223C0113/S</td>\n",
              "      <td>17</td>\n",
              "    </tr>\n",
              "    <tr>\n",
              "      <th>15</th>\n",
              "      <td>0</td>\n",
              "      <td>00471X0095/PZ2013</td>\n",
              "      <td>18</td>\n",
              "    </tr>\n",
              "    <tr>\n",
              "      <th>16</th>\n",
              "      <td>0</td>\n",
              "      <td>02206X0022/S1</td>\n",
              "      <td>19</td>\n",
              "    </tr>\n",
              "    <tr>\n",
              "      <th>17</th>\n",
              "      <td>0</td>\n",
              "      <td>01258X0020/S1</td>\n",
              "      <td>12</td>\n",
              "    </tr>\n",
              "    <tr>\n",
              "      <th>18</th>\n",
              "      <td>1</td>\n",
              "      <td>00471X0095/PZ2013</td>\n",
              "      <td>14</td>\n",
              "    </tr>\n",
              "    <tr>\n",
              "      <th>19</th>\n",
              "      <td>1</td>\n",
              "      <td>01584X0023/LV3</td>\n",
              "      <td>20</td>\n",
              "    </tr>\n",
              "    <tr>\n",
              "      <th>20</th>\n",
              "      <td>1</td>\n",
              "      <td>02267X0030/S1</td>\n",
              "      <td>19</td>\n",
              "    </tr>\n",
              "    <tr>\n",
              "      <th>21</th>\n",
              "      <td>1</td>\n",
              "      <td>07476X0029/S</td>\n",
              "      <td>20</td>\n",
              "    </tr>\n",
              "    <tr>\n",
              "      <th>22</th>\n",
              "      <td>1</td>\n",
              "      <td>00766X0004/S1</td>\n",
              "      <td>16</td>\n",
              "    </tr>\n",
              "    <tr>\n",
              "      <th>23</th>\n",
              "      <td>1</td>\n",
              "      <td>03124X0088/F</td>\n",
              "      <td>15</td>\n",
              "    </tr>\n",
              "    <tr>\n",
              "      <th>24</th>\n",
              "      <td>1</td>\n",
              "      <td>04398X0002/SONDAG</td>\n",
              "      <td>22</td>\n",
              "    </tr>\n",
              "    <tr>\n",
              "      <th>25</th>\n",
              "      <td>1</td>\n",
              "      <td>01516X0004/S1</td>\n",
              "      <td>21</td>\n",
              "    </tr>\n",
              "    <tr>\n",
              "      <th>26</th>\n",
              "      <td>1</td>\n",
              "      <td>02706X0074/S77-20</td>\n",
              "      <td>14</td>\n",
              "    </tr>\n",
              "    <tr>\n",
              "      <th>27</th>\n",
              "      <td>1</td>\n",
              "      <td>02648X0020/S1</td>\n",
              "      <td>15</td>\n",
              "    </tr>\n",
              "    <tr>\n",
              "      <th>28</th>\n",
              "      <td>1</td>\n",
              "      <td>00755X0006/S1</td>\n",
              "      <td>19</td>\n",
              "    </tr>\n",
              "    <tr>\n",
              "      <th>29</th>\n",
              "      <td>1</td>\n",
              "      <td>06505X0080/FORC</td>\n",
              "      <td>18</td>\n",
              "    </tr>\n",
              "    <tr>\n",
              "      <th>30</th>\n",
              "      <td>1</td>\n",
              "      <td>02206X0022/S1</td>\n",
              "      <td>12</td>\n",
              "    </tr>\n",
              "    <tr>\n",
              "      <th>31</th>\n",
              "      <td>1</td>\n",
              "      <td>01258X0020/S1</td>\n",
              "      <td>17</td>\n",
              "    </tr>\n",
              "    <tr>\n",
              "      <th>32</th>\n",
              "      <td>1</td>\n",
              "      <td>02603X0009/S1</td>\n",
              "      <td>16</td>\n",
              "    </tr>\n",
              "    <tr>\n",
              "      <th>33</th>\n",
              "      <td>1</td>\n",
              "      <td>00487X0015/S1</td>\n",
              "      <td>13</td>\n",
              "    </tr>\n",
              "    <tr>\n",
              "      <th>34</th>\n",
              "      <td>1</td>\n",
              "      <td>07223C0113/S</td>\n",
              "      <td>11</td>\n",
              "    </tr>\n",
              "    <tr>\n",
              "      <th>35</th>\n",
              "      <td>1</td>\n",
              "      <td>00762X0004/S1</td>\n",
              "      <td>18</td>\n",
              "    </tr>\n",
              "    <tr>\n",
              "      <th>36</th>\n",
              "      <td>2</td>\n",
              "      <td>06505X0080/FORC</td>\n",
              "      <td>14</td>\n",
              "    </tr>\n",
              "    <tr>\n",
              "      <th>37</th>\n",
              "      <td>2</td>\n",
              "      <td>02648X0020/S1</td>\n",
              "      <td>20</td>\n",
              "    </tr>\n",
              "    <tr>\n",
              "      <th>38</th>\n",
              "      <td>2</td>\n",
              "      <td>07476X0029/S</td>\n",
              "      <td>14</td>\n",
              "    </tr>\n",
              "    <tr>\n",
              "      <th>39</th>\n",
              "      <td>2</td>\n",
              "      <td>01258X0020/S1</td>\n",
              "      <td>21</td>\n",
              "    </tr>\n",
              "    <tr>\n",
              "      <th>40</th>\n",
              "      <td>2</td>\n",
              "      <td>02603X0009/S1</td>\n",
              "      <td>16</td>\n",
              "    </tr>\n",
              "    <tr>\n",
              "      <th>41</th>\n",
              "      <td>2</td>\n",
              "      <td>07223C0113/S</td>\n",
              "      <td>22</td>\n",
              "    </tr>\n",
              "    <tr>\n",
              "      <th>42</th>\n",
              "      <td>2</td>\n",
              "      <td>01584X0023/LV3</td>\n",
              "      <td>15</td>\n",
              "    </tr>\n",
              "    <tr>\n",
              "      <th>43</th>\n",
              "      <td>2</td>\n",
              "      <td>00766X0004/S1</td>\n",
              "      <td>17</td>\n",
              "    </tr>\n",
              "    <tr>\n",
              "      <th>44</th>\n",
              "      <td>2</td>\n",
              "      <td>02267X0030/S1</td>\n",
              "      <td>17</td>\n",
              "    </tr>\n",
              "    <tr>\n",
              "      <th>45</th>\n",
              "      <td>2</td>\n",
              "      <td>04398X0002/SONDAG</td>\n",
              "      <td>13</td>\n",
              "    </tr>\n",
              "    <tr>\n",
              "      <th>46</th>\n",
              "      <td>2</td>\n",
              "      <td>00755X0006/S1</td>\n",
              "      <td>14</td>\n",
              "    </tr>\n",
              "    <tr>\n",
              "      <th>47</th>\n",
              "      <td>2</td>\n",
              "      <td>00471X0095/PZ2013</td>\n",
              "      <td>18</td>\n",
              "    </tr>\n",
              "    <tr>\n",
              "      <th>48</th>\n",
              "      <td>2</td>\n",
              "      <td>02206X0022/S1</td>\n",
              "      <td>19</td>\n",
              "    </tr>\n",
              "    <tr>\n",
              "      <th>49</th>\n",
              "      <td>2</td>\n",
              "      <td>01516X0004/S1</td>\n",
              "      <td>8</td>\n",
              "    </tr>\n",
              "    <tr>\n",
              "      <th>50</th>\n",
              "      <td>2</td>\n",
              "      <td>00762X0004/S1</td>\n",
              "      <td>20</td>\n",
              "    </tr>\n",
              "    <tr>\n",
              "      <th>51</th>\n",
              "      <td>2</td>\n",
              "      <td>00487X0015/S1</td>\n",
              "      <td>17</td>\n",
              "    </tr>\n",
              "    <tr>\n",
              "      <th>52</th>\n",
              "      <td>2</td>\n",
              "      <td>03124X0088/F</td>\n",
              "      <td>16</td>\n",
              "    </tr>\n",
              "    <tr>\n",
              "      <th>53</th>\n",
              "      <td>2</td>\n",
              "      <td>02706X0074/S77-20</td>\n",
              "      <td>19</td>\n",
              "    </tr>\n",
              "  </tbody>\n",
              "</table>\n",
              "</div>"
            ],
            "application/vnd.google.colaboratory.module+javascript": "\n      import \"https://ssl.gstatic.com/colaboratory/data_table/a8bd4d5e58f96183/data_table.js\";\n\n      window.createDataTable({\n        data: [[{\n            'v': 0,\n            'f': \"0\",\n        },\n\"07476X0029/S\",\n{\n            'v': 16,\n            'f': \"16\",\n        }],\n [{\n            'v': 0,\n            'f': \"0\",\n        },\n\"02603X0009/S1\",\n{\n            'v': 18,\n            'f': \"18\",\n        }],\n [{\n            'v': 0,\n            'f': \"0\",\n        },\n\"03124X0088/F\",\n{\n            'v': 19,\n            'f': \"19\",\n        }],\n [{\n            'v': 0,\n            'f': \"0\",\n        },\n\"00487X0015/S1\",\n{\n            'v': 20,\n            'f': \"20\",\n        }],\n [{\n            'v': 0,\n            'f': \"0\",\n        },\n\"01584X0023/LV3\",\n{\n            'v': 15,\n            'f': \"15\",\n        }],\n [{\n            'v': 0,\n            'f': \"0\",\n        },\n\"04398X0002/SONDAG\",\n{\n            'v': 15,\n            'f': \"15\",\n        }],\n [{\n            'v': 0,\n            'f': \"0\",\n        },\n\"02267X0030/S1\",\n{\n            'v': 14,\n            'f': \"14\",\n        }],\n [{\n            'v': 0,\n            'f': \"0\",\n        },\n\"06505X0080/FORC\",\n{\n            'v': 18,\n            'f': \"18\",\n        }],\n [{\n            'v': 0,\n            'f': \"0\",\n        },\n\"02706X0074/S77-20\",\n{\n            'v': 17,\n            'f': \"17\",\n        }],\n [{\n            'v': 0,\n            'f': \"0\",\n        },\n\"01516X0004/S1\",\n{\n            'v': 21,\n            'f': \"21\",\n        }],\n [{\n            'v': 0,\n            'f': \"0\",\n        },\n\"00766X0004/S1\",\n{\n            'v': 17,\n            'f': \"17\",\n        }],\n [{\n            'v': 0,\n            'f': \"0\",\n        },\n\"02648X0020/S1\",\n{\n            'v': 15,\n            'f': \"15\",\n        }],\n [{\n            'v': 0,\n            'f': \"0\",\n        },\n\"00755X0006/S1\",\n{\n            'v': 17,\n            'f': \"17\",\n        }],\n [{\n            'v': 0,\n            'f': \"0\",\n        },\n\"00762X0004/S1\",\n{\n            'v': 12,\n            'f': \"12\",\n        }],\n [{\n            'v': 0,\n            'f': \"0\",\n        },\n\"07223C0113/S\",\n{\n            'v': 17,\n            'f': \"17\",\n        }],\n [{\n            'v': 0,\n            'f': \"0\",\n        },\n\"00471X0095/PZ2013\",\n{\n            'v': 18,\n            'f': \"18\",\n        }],\n [{\n            'v': 0,\n            'f': \"0\",\n        },\n\"02206X0022/S1\",\n{\n            'v': 19,\n            'f': \"19\",\n        }],\n [{\n            'v': 0,\n            'f': \"0\",\n        },\n\"01258X0020/S1\",\n{\n            'v': 12,\n            'f': \"12\",\n        }],\n [{\n            'v': 1,\n            'f': \"1\",\n        },\n\"00471X0095/PZ2013\",\n{\n            'v': 14,\n            'f': \"14\",\n        }],\n [{\n            'v': 1,\n            'f': \"1\",\n        },\n\"01584X0023/LV3\",\n{\n            'v': 20,\n            'f': \"20\",\n        }],\n [{\n            'v': 1,\n            'f': \"1\",\n        },\n\"02267X0030/S1\",\n{\n            'v': 19,\n            'f': \"19\",\n        }],\n [{\n            'v': 1,\n            'f': \"1\",\n        },\n\"07476X0029/S\",\n{\n            'v': 20,\n            'f': \"20\",\n        }],\n [{\n            'v': 1,\n            'f': \"1\",\n        },\n\"00766X0004/S1\",\n{\n            'v': 16,\n            'f': \"16\",\n        }],\n [{\n            'v': 1,\n            'f': \"1\",\n        },\n\"03124X0088/F\",\n{\n            'v': 15,\n            'f': \"15\",\n        }],\n [{\n            'v': 1,\n            'f': \"1\",\n        },\n\"04398X0002/SONDAG\",\n{\n            'v': 22,\n            'f': \"22\",\n        }],\n [{\n            'v': 1,\n            'f': \"1\",\n        },\n\"01516X0004/S1\",\n{\n            'v': 21,\n            'f': \"21\",\n        }],\n [{\n            'v': 1,\n            'f': \"1\",\n        },\n\"02706X0074/S77-20\",\n{\n            'v': 14,\n            'f': \"14\",\n        }],\n [{\n            'v': 1,\n            'f': \"1\",\n        },\n\"02648X0020/S1\",\n{\n            'v': 15,\n            'f': \"15\",\n        }],\n [{\n            'v': 1,\n            'f': \"1\",\n        },\n\"00755X0006/S1\",\n{\n            'v': 19,\n            'f': \"19\",\n        }],\n [{\n            'v': 1,\n            'f': \"1\",\n        },\n\"06505X0080/FORC\",\n{\n            'v': 18,\n            'f': \"18\",\n        }],\n [{\n            'v': 1,\n            'f': \"1\",\n        },\n\"02206X0022/S1\",\n{\n            'v': 12,\n            'f': \"12\",\n        }],\n [{\n            'v': 1,\n            'f': \"1\",\n        },\n\"01258X0020/S1\",\n{\n            'v': 17,\n            'f': \"17\",\n        }],\n [{\n            'v': 1,\n            'f': \"1\",\n        },\n\"02603X0009/S1\",\n{\n            'v': 16,\n            'f': \"16\",\n        }],\n [{\n            'v': 1,\n            'f': \"1\",\n        },\n\"00487X0015/S1\",\n{\n            'v': 13,\n            'f': \"13\",\n        }],\n [{\n            'v': 1,\n            'f': \"1\",\n        },\n\"07223C0113/S\",\n{\n            'v': 11,\n            'f': \"11\",\n        }],\n [{\n            'v': 1,\n            'f': \"1\",\n        },\n\"00762X0004/S1\",\n{\n            'v': 18,\n            'f': \"18\",\n        }],\n [{\n            'v': 2,\n            'f': \"2\",\n        },\n\"06505X0080/FORC\",\n{\n            'v': 14,\n            'f': \"14\",\n        }],\n [{\n            'v': 2,\n            'f': \"2\",\n        },\n\"02648X0020/S1\",\n{\n            'v': 20,\n            'f': \"20\",\n        }],\n [{\n            'v': 2,\n            'f': \"2\",\n        },\n\"07476X0029/S\",\n{\n            'v': 14,\n            'f': \"14\",\n        }],\n [{\n            'v': 2,\n            'f': \"2\",\n        },\n\"01258X0020/S1\",\n{\n            'v': 21,\n            'f': \"21\",\n        }],\n [{\n            'v': 2,\n            'f': \"2\",\n        },\n\"02603X0009/S1\",\n{\n            'v': 16,\n            'f': \"16\",\n        }],\n [{\n            'v': 2,\n            'f': \"2\",\n        },\n\"07223C0113/S\",\n{\n            'v': 22,\n            'f': \"22\",\n        }],\n [{\n            'v': 2,\n            'f': \"2\",\n        },\n\"01584X0023/LV3\",\n{\n            'v': 15,\n            'f': \"15\",\n        }],\n [{\n            'v': 2,\n            'f': \"2\",\n        },\n\"00766X0004/S1\",\n{\n            'v': 17,\n            'f': \"17\",\n        }],\n [{\n            'v': 2,\n            'f': \"2\",\n        },\n\"02267X0030/S1\",\n{\n            'v': 17,\n            'f': \"17\",\n        }],\n [{\n            'v': 2,\n            'f': \"2\",\n        },\n\"04398X0002/SONDAG\",\n{\n            'v': 13,\n            'f': \"13\",\n        }],\n [{\n            'v': 2,\n            'f': \"2\",\n        },\n\"00755X0006/S1\",\n{\n            'v': 14,\n            'f': \"14\",\n        }],\n [{\n            'v': 2,\n            'f': \"2\",\n        },\n\"00471X0095/PZ2013\",\n{\n            'v': 18,\n            'f': \"18\",\n        }],\n [{\n            'v': 2,\n            'f': \"2\",\n        },\n\"02206X0022/S1\",\n{\n            'v': 19,\n            'f': \"19\",\n        }],\n [{\n            'v': 2,\n            'f': \"2\",\n        },\n\"01516X0004/S1\",\n{\n            'v': 8,\n            'f': \"8\",\n        }],\n [{\n            'v': 2,\n            'f': \"2\",\n        },\n\"00762X0004/S1\",\n{\n            'v': 20,\n            'f': \"20\",\n        }],\n [{\n            'v': 2,\n            'f': \"2\",\n        },\n\"00487X0015/S1\",\n{\n            'v': 17,\n            'f': \"17\",\n        }],\n [{\n            'v': 2,\n            'f': \"2\",\n        },\n\"03124X0088/F\",\n{\n            'v': 16,\n            'f': \"16\",\n        }],\n [{\n            'v': 2,\n            'f': \"2\",\n        },\n\"02706X0074/S77-20\",\n{\n            'v': 19,\n            'f': \"19\",\n        }]],\n        columns: [[\"number\", \"numP\"], [\"string\", \"code\"], [\"number\", \"nb\"]],\n        columnOptions: [],\n        rowsPerPage: 10,\n        helpUrl: \"https://colab.research.google.com/notebooks/data_table.ipynb\",\n        suppressOutputScrolling: true,\n        minimumWidth: undefined,\n      });\n    ",
            "text/plain": [
              "<google.colab.data_table.DataTable object>"
            ]
          },
          "metadata": {},
          "execution_count": 133
        }
      ]
    },
    {
      "cell_type": "markdown",
      "metadata": {
        "id": "YvTKJysqc0CX"
      },
      "source": [
        "## Question 3 : Niveau d'eau maximal quotidien d'un point d'eau"
      ]
    },
    {
      "cell_type": "markdown",
      "metadata": {
        "id": "1VOf3bWxc7XH"
      },
      "source": [
        "Definir niveau_max_jour qui est un partitionnement de Mesure par date. \n",
        "En vous inspirant de la fonctions showPartitions,\n",
        "définir une fonction qui détermine le niveau max d'un jour dans chaque partition. Le résultat est (numP, code, date, niveauMax) "
      ]
    },
    {
      "cell_type": "code",
      "source": [
        "! python -V"
      ],
      "metadata": {
        "colab": {
          "base_uri": "https://localhost:8080/"
        },
        "id": "d43GOeRr7OcF",
        "outputId": "550a7b54-c5c6-4c44-d3c5-145b9f11dcd5"
      },
      "execution_count": null,
      "outputs": [
        {
          "output_type": "stream",
          "name": "stdout",
          "text": [
            "Python 3.8.15\n"
          ]
        }
      ]
    },
    {
      "cell_type": "code",
      "metadata": {
        "id": "yYjpNWMgQV0t"
      },
      "source": [
        "\n",
        "def niveau_max_jour(partID, iterateur):\n",
        "  suivant = next(iterateur, None)\n",
        "  codes=dict()\n",
        "  while suivant is not None :\n",
        "    if suivant.code in codes:\n",
        "      if suivant.date in codes[suivant.code]:\n",
        "        codes[suivant.code][suivant.date] = max(codes[suivant.code][suivant.date], suivant.niveau)\n",
        "      else:\n",
        "        codes[suivant.code][suivant.date] = suivant.niveau \n",
        "    else:\n",
        "      x = dict()  \n",
        "      x[suivant.date] = suivant.niveau\n",
        "      codes[suivant.code]= x\n",
        "    suivant = next(iterateur, None)\n",
        "  \n",
        "  for code, dates in codes.items():\n",
        "    for date, niv in dates.items():\n",
        "      yield (partID, code, date, niv)  "
      ],
      "execution_count": null,
      "outputs": []
    },
    {
      "cell_type": "code",
      "source": [
        "niv_max_quotidien_par_point = mesures.rdd.mapPartitionsWithIndex(niveau_max_jour).toDF([\"numP\", \"code\", \"date\", \"niveauMax\"])\n",
        "display(niv_max_quotidien_par_point)"
      ],
      "metadata": {
        "colab": {
          "base_uri": "https://localhost:8080/",
          "height": 315
        },
        "id": "g0ugohPO9Bwm",
        "outputId": "0b280eb4-dc47-4401-ceda-fab49e492394"
      },
      "execution_count": null,
      "outputs": [
        {
          "output_type": "execute_result",
          "data": {
            "text/html": [
              "<div>\n",
              "<style scoped>\n",
              "    .dataframe tbody tr th:only-of-type {\n",
              "        vertical-align: middle;\n",
              "    }\n",
              "\n",
              "    .dataframe tbody tr th {\n",
              "        vertical-align: top;\n",
              "    }\n",
              "\n",
              "    .dataframe thead th {\n",
              "        text-align: right;\n",
              "    }\n",
              "</style>\n",
              "<table border=\"1\" class=\"dataframe\">\n",
              "  <thead>\n",
              "    <tr style=\"text-align: right;\">\n",
              "      <th></th>\n",
              "      <th>numP</th>\n",
              "      <th>code</th>\n",
              "      <th>date</th>\n",
              "      <th>niveauMax</th>\n",
              "    </tr>\n",
              "  </thead>\n",
              "  <tbody>\n",
              "    <tr>\n",
              "      <th>0</th>\n",
              "      <td>0</td>\n",
              "      <td>07476X0029/S</td>\n",
              "      <td>2022-11-24</td>\n",
              "      <td>297.16</td>\n",
              "    </tr>\n",
              "    <tr>\n",
              "      <th>1</th>\n",
              "      <td>0</td>\n",
              "      <td>07476X0029/S</td>\n",
              "      <td>2022-10-13</td>\n",
              "      <td>297.49</td>\n",
              "    </tr>\n",
              "    <tr>\n",
              "      <th>2</th>\n",
              "      <td>0</td>\n",
              "      <td>07476X0029/S</td>\n",
              "      <td>2022-11-19</td>\n",
              "      <td>297.19</td>\n",
              "    </tr>\n",
              "    <tr>\n",
              "      <th>3</th>\n",
              "      <td>0</td>\n",
              "      <td>07476X0029/S</td>\n",
              "      <td>2022-10-11</td>\n",
              "      <td>297.51</td>\n",
              "    </tr>\n",
              "    <tr>\n",
              "      <th>4</th>\n",
              "      <td>0</td>\n",
              "      <td>07476X0029/S</td>\n",
              "      <td>2022-11-11</td>\n",
              "      <td>297.25</td>\n",
              "    </tr>\n",
              "    <tr>\n",
              "      <th>...</th>\n",
              "      <td>...</td>\n",
              "      <td>...</td>\n",
              "      <td>...</td>\n",
              "      <td>...</td>\n",
              "    </tr>\n",
              "    <tr>\n",
              "      <th>95</th>\n",
              "      <td>0</td>\n",
              "      <td>04398X0002/SONDAG</td>\n",
              "      <td>2022-11-23</td>\n",
              "      <td>226.76</td>\n",
              "    </tr>\n",
              "    <tr>\n",
              "      <th>96</th>\n",
              "      <td>0</td>\n",
              "      <td>04398X0002/SONDAG</td>\n",
              "      <td>2022-11-21</td>\n",
              "      <td>226.56</td>\n",
              "    </tr>\n",
              "    <tr>\n",
              "      <th>97</th>\n",
              "      <td>0</td>\n",
              "      <td>04398X0002/SONDAG</td>\n",
              "      <td>2022-10-12</td>\n",
              "      <td>224.46</td>\n",
              "    </tr>\n",
              "    <tr>\n",
              "      <th>98</th>\n",
              "      <td>0</td>\n",
              "      <td>04398X0002/SONDAG</td>\n",
              "      <td>2022-10-24</td>\n",
              "      <td>225.34</td>\n",
              "    </tr>\n",
              "    <tr>\n",
              "      <th>99</th>\n",
              "      <td>0</td>\n",
              "      <td>04398X0002/SONDAG</td>\n",
              "      <td>2022-11-09</td>\n",
              "      <td>225.24</td>\n",
              "    </tr>\n",
              "  </tbody>\n",
              "</table>\n",
              "<p>100 rows × 4 columns</p>\n",
              "</div>"
            ],
            "application/vnd.google.colaboratory.module+javascript": "\n      import \"https://ssl.gstatic.com/colaboratory/data_table/a8bd4d5e58f96183/data_table.js\";\n\n      window.createDataTable({\n        data: [[{\n            'v': 0,\n            'f': \"0\",\n        },\n\"07476X0029/S\",\n\"2022-11-24\",\n{\n            'v': 297.16,\n            'f': \"297.16\",\n        }],\n [{\n            'v': 0,\n            'f': \"0\",\n        },\n\"07476X0029/S\",\n\"2022-10-13\",\n{\n            'v': 297.49,\n            'f': \"297.49\",\n        }],\n [{\n            'v': 0,\n            'f': \"0\",\n        },\n\"07476X0029/S\",\n\"2022-11-19\",\n{\n            'v': 297.19,\n            'f': \"297.19\",\n        }],\n [{\n            'v': 0,\n            'f': \"0\",\n        },\n\"07476X0029/S\",\n\"2022-10-11\",\n{\n            'v': 297.51,\n            'f': \"297.51\",\n        }],\n [{\n            'v': 0,\n            'f': \"0\",\n        },\n\"07476X0029/S\",\n\"2022-11-11\",\n{\n            'v': 297.25,\n            'f': \"297.25\",\n        }],\n [{\n            'v': 0,\n            'f': \"0\",\n        },\n\"07476X0029/S\",\n\"2022-11-10\",\n{\n            'v': 297.25,\n            'f': \"297.25\",\n        }],\n [{\n            'v': 0,\n            'f': \"0\",\n        },\n\"07476X0029/S\",\n\"2022-11-28\",\n{\n            'v': 297.14,\n            'f': \"297.14\",\n        }],\n [{\n            'v': 0,\n            'f': \"0\",\n        },\n\"07476X0029/S\",\n\"2022-11-07\",\n{\n            'v': 297.28,\n            'f': \"297.28\",\n        }],\n [{\n            'v': 0,\n            'f': \"0\",\n        },\n\"07476X0029/S\",\n\"2022-10-17\",\n{\n            'v': 297.46,\n            'f': \"297.46\",\n        }],\n [{\n            'v': 0,\n            'f': \"0\",\n        },\n\"07476X0029/S\",\n\"2022-10-18\",\n{\n            'v': 297.45,\n            'f': \"297.45\",\n        }],\n [{\n            'v': 0,\n            'f': \"0\",\n        },\n\"07476X0029/S\",\n\"2022-11-13\",\n{\n            'v': 297.24,\n            'f': \"297.24\",\n        }],\n [{\n            'v': 0,\n            'f': \"0\",\n        },\n\"07476X0029/S\",\n\"2022-11-14\",\n{\n            'v': 297.23,\n            'f': \"297.23\",\n        }],\n [{\n            'v': 0,\n            'f': \"0\",\n        },\n\"07476X0029/S\",\n\"2022-10-19\",\n{\n            'v': 297.43,\n            'f': \"297.43\",\n        }],\n [{\n            'v': 0,\n            'f': \"0\",\n        },\n\"07476X0029/S\",\n\"2022-11-21\",\n{\n            'v': 297.19,\n            'f': \"297.19\",\n        }],\n [{\n            'v': 0,\n            'f': \"0\",\n        },\n\"07476X0029/S\",\n\"2022-11-03\",\n{\n            'v': 297.31,\n            'f': \"297.31\",\n        }],\n [{\n            'v': 0,\n            'f': \"0\",\n        },\n\"07476X0029/S\",\n\"2022-11-01\",\n{\n            'v': 297.32,\n            'f': \"297.32\",\n        }],\n [{\n            'v': 0,\n            'f': \"0\",\n        },\n\"02603X0009/S1\",\n\"2022-11-12\",\n{\n            'v': 128.66,\n            'f': \"128.66\",\n        }],\n [{\n            'v': 0,\n            'f': \"0\",\n        },\n\"02603X0009/S1\",\n\"2022-11-10\",\n{\n            'v': 128.72,\n            'f': \"128.72\",\n        }],\n [{\n            'v': 0,\n            'f': \"0\",\n        },\n\"02603X0009/S1\",\n\"2022-11-11\",\n{\n            'v': 128.69,\n            'f': \"128.69\",\n        }],\n [{\n            'v': 0,\n            'f': \"0\",\n        },\n\"02603X0009/S1\",\n\"2022-11-06\",\n{\n            'v': 128.85,\n            'f': \"128.85\",\n        }],\n [{\n            'v': 0,\n            'f': \"0\",\n        },\n\"02603X0009/S1\",\n\"2022-11-23\",\n{\n            'v': 128.39,\n            'f': \"128.39\",\n        }],\n [{\n            'v': 0,\n            'f': \"0\",\n        },\n\"02603X0009/S1\",\n\"2022-10-16\",\n{\n            'v': 129.4,\n            'f': \"129.4\",\n        }],\n [{\n            'v': 0,\n            'f': \"0\",\n        },\n\"02603X0009/S1\",\n\"2022-10-31\",\n{\n            'v': 129.01,\n            'f': \"129.01\",\n        }],\n [{\n            'v': 0,\n            'f': \"0\",\n        },\n\"02603X0009/S1\",\n\"2022-11-21\",\n{\n            'v': 128.46,\n            'f': \"128.46\",\n        }],\n [{\n            'v': 0,\n            'f': \"0\",\n        },\n\"02603X0009/S1\",\n\"2022-10-30\",\n{\n            'v': 129.04,\n            'f': \"129.04\",\n        }],\n [{\n            'v': 0,\n            'f': \"0\",\n        },\n\"02603X0009/S1\",\n\"2022-11-18\",\n{\n            'v': 128.53,\n            'f': \"128.53\",\n        }],\n [{\n            'v': 0,\n            'f': \"0\",\n        },\n\"02603X0009/S1\",\n\"2022-11-26\",\n{\n            'v': 128.26,\n            'f': \"128.26\",\n        }],\n [{\n            'v': 0,\n            'f': \"0\",\n        },\n\"02603X0009/S1\",\n\"2022-10-25\",\n{\n            'v': 129.17,\n            'f': \"129.17\",\n        }],\n [{\n            'v': 0,\n            'f': \"0\",\n        },\n\"02603X0009/S1\",\n\"2022-10-10\",\n{\n            'v': 129.56,\n            'f': \"129.56\",\n        }],\n [{\n            'v': 0,\n            'f': \"0\",\n        },\n\"02603X0009/S1\",\n\"2022-10-18\",\n{\n            'v': 129.34,\n            'f': \"129.34\",\n        }],\n [{\n            'v': 0,\n            'f': \"0\",\n        },\n\"02603X0009/S1\",\n\"2022-10-21\",\n{\n            'v': 129.28,\n            'f': \"129.28\",\n        }],\n [{\n            'v': 0,\n            'f': \"0\",\n        },\n\"02603X0009/S1\",\n\"2022-11-05\",\n{\n            'v': 128.86,\n            'f': \"128.86\",\n        }],\n [{\n            'v': 0,\n            'f': \"0\",\n        },\n\"02603X0009/S1\",\n\"2022-10-29\",\n{\n            'v': 129.06,\n            'f': \"129.06\",\n        }],\n [{\n            'v': 0,\n            'f': \"0\",\n        },\n\"02603X0009/S1\",\n\"2022-10-23\",\n{\n            'v': 129.24,\n            'f': \"129.24\",\n        }],\n [{\n            'v': 0,\n            'f': \"0\",\n        },\n\"03124X0088/F\",\n\"2022-11-11\",\n{\n            'v': 236.45,\n            'f': \"236.45\",\n        }],\n [{\n            'v': 0,\n            'f': \"0\",\n        },\n\"03124X0088/F\",\n\"2022-10-05\",\n{\n            'v': 235.72,\n            'f': \"235.72\",\n        }],\n [{\n            'v': 0,\n            'f': \"0\",\n        },\n\"03124X0088/F\",\n\"2022-11-12\",\n{\n            'v': 236.67,\n            'f': \"236.67\",\n        }],\n [{\n            'v': 0,\n            'f': \"0\",\n        },\n\"03124X0088/F\",\n\"2022-11-05\",\n{\n            'v': 235.71,\n            'f': \"235.71\",\n        }],\n [{\n            'v': 0,\n            'f': \"0\",\n        },\n\"03124X0088/F\",\n\"2022-10-20\",\n{\n            'v': 235.67,\n            'f': \"235.67\",\n        }],\n [{\n            'v': 0,\n            'f': \"0\",\n        },\n\"03124X0088/F\",\n\"2022-10-01\",\n{\n            'v': 235.76,\n            'f': \"235.76\",\n        }],\n [{\n            'v': 0,\n            'f': \"0\",\n        },\n\"03124X0088/F\",\n\"2022-11-09\",\n{\n            'v': 236.03,\n            'f': \"236.03\",\n        }],\n [{\n            'v': 0,\n            'f': \"0\",\n        },\n\"03124X0088/F\",\n\"2022-10-16\",\n{\n            'v': 235.65,\n            'f': \"235.65\",\n        }],\n [{\n            'v': 0,\n            'f': \"0\",\n        },\n\"03124X0088/F\",\n\"2022-10-30\",\n{\n            'v': 235.62,\n            'f': \"235.62\",\n        }],\n [{\n            'v': 0,\n            'f': \"0\",\n        },\n\"03124X0088/F\",\n\"2022-11-03\",\n{\n            'v': 235.71,\n            'f': \"235.71\",\n        }],\n [{\n            'v': 0,\n            'f': \"0\",\n        },\n\"03124X0088/F\",\n\"2022-11-01\",\n{\n            'v': 235.65,\n            'f': \"235.65\",\n        }],\n [{\n            'v': 0,\n            'f': \"0\",\n        },\n\"03124X0088/F\",\n\"2022-10-04\",\n{\n            'v': 235.7,\n            'f': \"235.7\",\n        }],\n [{\n            'v': 0,\n            'f': \"0\",\n        },\n\"03124X0088/F\",\n\"2022-10-27\",\n{\n            'v': 235.59,\n            'f': \"235.59\",\n        }],\n [{\n            'v': 0,\n            'f': \"0\",\n        },\n\"03124X0088/F\",\n\"2022-10-13\",\n{\n            'v': 235.69,\n            'f': \"235.69\",\n        }],\n [{\n            'v': 0,\n            'f': \"0\",\n        },\n\"03124X0088/F\",\n\"2022-10-23\",\n{\n            'v': 235.66,\n            'f': \"235.66\",\n        }],\n [{\n            'v': 0,\n            'f': \"0\",\n        },\n\"03124X0088/F\",\n\"2022-09-27\",\n{\n            'v': 235.87,\n            'f': \"235.87\",\n        }],\n [{\n            'v': 0,\n            'f': \"0\",\n        },\n\"03124X0088/F\",\n\"2022-10-28\",\n{\n            'v': 235.61,\n            'f': \"235.61\",\n        }],\n [{\n            'v': 0,\n            'f': \"0\",\n        },\n\"03124X0088/F\",\n\"2022-09-28\",\n{\n            'v': 235.88,\n            'f': \"235.88\",\n        }],\n [{\n            'v': 0,\n            'f': \"0\",\n        },\n\"03124X0088/F\",\n\"2022-10-02\",\n{\n            'v': 235.67,\n            'f': \"235.67\",\n        }],\n [{\n            'v': 0,\n            'f': \"0\",\n        },\n\"00487X0015/S1\",\n\"2022-11-12\",\n{\n            'v': 69.93,\n            'f': \"69.93\",\n        }],\n [{\n            'v': 0,\n            'f': \"0\",\n        },\n\"00487X0015/S1\",\n\"2022-11-06\",\n{\n            'v': 69.97,\n            'f': \"69.97\",\n        }],\n [{\n            'v': 0,\n            'f': \"0\",\n        },\n\"00487X0015/S1\",\n\"2022-11-20\",\n{\n            'v': 69.91,\n            'f': \"69.91\",\n        }],\n [{\n            'v': 0,\n            'f': \"0\",\n        },\n\"00487X0015/S1\",\n\"2022-11-22\",\n{\n            'v': 69.91,\n            'f': \"69.91\",\n        }],\n [{\n            'v': 0,\n            'f': \"0\",\n        },\n\"00487X0015/S1\",\n\"2022-11-10\",\n{\n            'v': 69.96,\n            'f': \"69.96\",\n        }],\n [{\n            'v': 0,\n            'f': \"0\",\n        },\n\"00487X0015/S1\",\n\"2022-11-21\",\n{\n            'v': 69.91,\n            'f': \"69.91\",\n        }],\n [{\n            'v': 0,\n            'f': \"0\",\n        },\n\"00487X0015/S1\",\n\"2022-11-23\",\n{\n            'v': 69.91,\n            'f': \"69.91\",\n        }],\n [{\n            'v': 0,\n            'f': \"0\",\n        },\n\"00487X0015/S1\",\n\"2022-10-19\",\n{\n            'v': 70.12,\n            'f': \"70.12\",\n        }],\n [{\n            'v': 0,\n            'f': \"0\",\n        },\n\"00487X0015/S1\",\n\"2022-11-15\",\n{\n            'v': 69.92,\n            'f': \"69.92\",\n        }],\n [{\n            'v': 0,\n            'f': \"0\",\n        },\n\"00487X0015/S1\",\n\"2022-11-07\",\n{\n            'v': 69.98,\n            'f': \"69.98\",\n        }],\n [{\n            'v': 0,\n            'f': \"0\",\n        },\n\"00487X0015/S1\",\n\"2022-11-16\",\n{\n            'v': 69.93,\n            'f': \"69.93\",\n        }],\n [{\n            'v': 0,\n            'f': \"0\",\n        },\n\"00487X0015/S1\",\n\"2022-10-29\",\n{\n            'v': 70.03,\n            'f': \"70.03\",\n        }],\n [{\n            'v': 0,\n            'f': \"0\",\n        },\n\"00487X0015/S1\",\n\"2022-10-22\",\n{\n            'v': 70.11,\n            'f': \"70.11\",\n        }],\n [{\n            'v': 0,\n            'f': \"0\",\n        },\n\"00487X0015/S1\",\n\"2022-11-13\",\n{\n            'v': 69.93,\n            'f': \"69.93\",\n        }],\n [{\n            'v': 0,\n            'f': \"0\",\n        },\n\"00487X0015/S1\",\n\"2022-10-27\",\n{\n            'v': 70.05,\n            'f': \"70.05\",\n        }],\n [{\n            'v': 0,\n            'f': \"0\",\n        },\n\"00487X0015/S1\",\n\"2022-10-28\",\n{\n            'v': 70.04,\n            'f': \"70.04\",\n        }],\n [{\n            'v': 0,\n            'f': \"0\",\n        },\n\"00487X0015/S1\",\n\"2022-11-27\",\n{\n            'v': 69.91,\n            'f': \"69.91\",\n        }],\n [{\n            'v': 0,\n            'f': \"0\",\n        },\n\"00487X0015/S1\",\n\"2022-10-11\",\n{\n            'v': 70.21,\n            'f': \"70.21\",\n        }],\n [{\n            'v': 0,\n            'f': \"0\",\n        },\n\"00487X0015/S1\",\n\"2022-10-16\",\n{\n            'v': 70.16,\n            'f': \"70.16\",\n        }],\n [{\n            'v': 0,\n            'f': \"0\",\n        },\n\"00487X0015/S1\",\n\"2022-11-24\",\n{\n            'v': 69.92,\n            'f': \"69.92\",\n        }],\n [{\n            'v': 0,\n            'f': \"0\",\n        },\n\"01584X0023/LV3\",\n\"2022-11-11\",\n{\n            'v': 83.71,\n            'f': \"83.71\",\n        }],\n [{\n            'v': 0,\n            'f': \"0\",\n        },\n\"01584X0023/LV3\",\n\"2022-11-25\",\n{\n            'v': 84.52,\n            'f': \"84.52\",\n        }],\n [{\n            'v': 0,\n            'f': \"0\",\n        },\n\"01584X0023/LV3\",\n\"2022-10-28\",\n{\n            'v': 83.51,\n            'f': \"83.51\",\n        }],\n [{\n            'v': 0,\n            'f': \"0\",\n        },\n\"01584X0023/LV3\",\n\"2022-10-27\",\n{\n            'v': 83.53,\n            'f': \"83.53\",\n        }],\n [{\n            'v': 0,\n            'f': \"0\",\n        },\n\"01584X0023/LV3\",\n\"2022-11-08\",\n{\n            'v': 83.72,\n            'f': \"83.72\",\n        }],\n [{\n            'v': 0,\n            'f': \"0\",\n        },\n\"01584X0023/LV3\",\n\"2022-10-29\",\n{\n            'v': 83.49,\n            'f': \"83.49\",\n        }],\n [{\n            'v': 0,\n            'f': \"0\",\n        },\n\"01584X0023/LV3\",\n\"2022-10-23\",\n{\n            'v': 83.46,\n            'f': \"83.46\",\n        }],\n [{\n            'v': 0,\n            'f': \"0\",\n        },\n\"01584X0023/LV3\",\n\"2022-11-27\",\n{\n            'v': 84.66,\n            'f': \"84.66\",\n        }],\n [{\n            'v': 0,\n            'f': \"0\",\n        },\n\"01584X0023/LV3\",\n\"2022-11-23\",\n{\n            'v': 84.43,\n            'f': \"84.43\",\n        }],\n [{\n            'v': 0,\n            'f': \"0\",\n        },\n\"01584X0023/LV3\",\n\"2022-11-16\",\n{\n            'v': 83.89,\n            'f': \"83.89\",\n        }],\n [{\n            'v': 0,\n            'f': \"0\",\n        },\n\"01584X0023/LV3\",\n\"2022-10-18\",\n{\n            'v': 82.64,\n            'f': \"82.64\",\n        }],\n [{\n            'v': 0,\n            'f': \"0\",\n        },\n\"01584X0023/LV3\",\n\"2022-10-26\",\n{\n            'v': 83.55,\n            'f': \"83.55\",\n        }],\n [{\n            'v': 0,\n            'f': \"0\",\n        },\n\"01584X0023/LV3\",\n\"2022-10-15\",\n{\n            'v': 82.32,\n            'f': \"82.32\",\n        }],\n [{\n            'v': 0,\n            'f': \"0\",\n        },\n\"01584X0023/LV3\",\n\"2022-11-17\",\n{\n            'v': 83.96,\n            'f': \"83.96\",\n        }],\n [{\n            'v': 0,\n            'f': \"0\",\n        },\n\"01584X0023/LV3\",\n\"2022-11-14\",\n{\n            'v': 83.76,\n            'f': \"83.76\",\n        }],\n [{\n            'v': 0,\n            'f': \"0\",\n        },\n\"04398X0002/SONDAG\",\n\"2022-10-14\",\n{\n            'v': 224.43,\n            'f': \"224.43\",\n        }],\n [{\n            'v': 0,\n            'f': \"0\",\n        },\n\"04398X0002/SONDAG\",\n\"2022-11-20\",\n{\n            'v': 226.36,\n            'f': \"226.36\",\n        }],\n [{\n            'v': 0,\n            'f': \"0\",\n        },\n\"04398X0002/SONDAG\",\n\"2022-10-31\",\n{\n            'v': 225.49,\n            'f': \"225.49\",\n        }],\n [{\n            'v': 0,\n            'f': \"0\",\n        },\n\"04398X0002/SONDAG\",\n\"2022-10-11\",\n{\n            'v': 224.51,\n            'f': \"224.51\",\n        }],\n [{\n            'v': 0,\n            'f': \"0\",\n        },\n\"04398X0002/SONDAG\",\n\"2022-11-03\",\n{\n            'v': 225.43,\n            'f': \"225.43\",\n        }],\n [{\n            'v': 0,\n            'f': \"0\",\n        },\n\"04398X0002/SONDAG\",\n\"2022-10-22\",\n{\n            'v': 225.06,\n            'f': \"225.06\",\n        }],\n [{\n            'v': 0,\n            'f': \"0\",\n        },\n\"04398X0002/SONDAG\",\n\"2022-10-15\",\n{\n            'v': 224.51,\n            'f': \"224.51\",\n        }],\n [{\n            'v': 0,\n            'f': \"0\",\n        },\n\"04398X0002/SONDAG\",\n\"2022-11-23\",\n{\n            'v': 226.76,\n            'f': \"226.76\",\n        }],\n [{\n            'v': 0,\n            'f': \"0\",\n        },\n\"04398X0002/SONDAG\",\n\"2022-11-21\",\n{\n            'v': 226.56,\n            'f': \"226.56\",\n        }],\n [{\n            'v': 0,\n            'f': \"0\",\n        },\n\"04398X0002/SONDAG\",\n\"2022-10-12\",\n{\n            'v': 224.46,\n            'f': \"224.46\",\n        }],\n [{\n            'v': 0,\n            'f': \"0\",\n        },\n\"04398X0002/SONDAG\",\n\"2022-10-24\",\n{\n            'v': 225.34,\n            'f': \"225.34\",\n        }],\n [{\n            'v': 0,\n            'f': \"0\",\n        },\n\"04398X0002/SONDAG\",\n\"2022-11-09\",\n{\n            'v': 225.24,\n            'f': \"225.24\",\n        }]],\n        columns: [[\"number\", \"numP\"], [\"string\", \"code\"], [\"string\", \"date\"], [\"number\", \"niveauMax\"]],\n        columnOptions: [],\n        rowsPerPage: 10,\n        helpUrl: \"https://colab.research.google.com/notebooks/data_table.ipynb\",\n        suppressOutputScrolling: true,\n        minimumWidth: undefined,\n      });\n    ",
            "text/plain": [
              "<google.colab.data_table.DataTable object>"
            ]
          },
          "metadata": {},
          "execution_count": 155
        }
      ]
    },
    {
      "cell_type": "markdown",
      "source": [
        "## Question 4 : Niveau moyen d'un point d'eau\n",
        "\n",
        "En vous inspirant des fonctions topN et showPartitions définir une fonction qui détermine le niveau moyen de chaque point d'eau dans chaque partition. Le résultat est (numP, code, niveauMoyen) avec numP étant le numéro de partition."
      ],
      "metadata": {
        "id": "VwNn5lfe8tGn"
      }
    },
    {
      "cell_type": "code",
      "source": [
        "#sum has been overloaded by spark sum function ##To ask!\n",
        "def niveau_moyen(partID, iterateur):\n",
        "  suivant = next(iterateur, None)\n",
        "  codes=dict()\n",
        "  while suivant is not None :\n",
        "    if suivant.code in codes:\n",
        "      codes[suivant.code].append(suivant.niveau)\n",
        "    else:\n",
        "      codes[suivant.code]= [suivant.niveau]\n",
        "    suivant = next(iterateur, None)\n",
        "  \n",
        "  for code, niveaux in codes.items():\n",
        "      S = 0\n",
        "      for n in niveaux:\n",
        "        S +=n\n",
        "      yield (partID, code, S/len(niveaux))"
      ],
      "metadata": {
        "id": "wkIvUhlL_kAj"
      },
      "execution_count": null,
      "outputs": []
    },
    {
      "cell_type": "code",
      "source": [
        "niv_moyen_par_point = mesures.rdd.mapPartitionsWithIndex(niveau_moyen).toDF([\"numP\", \"code\", \"niveauMoyen\"])\n",
        "display(niv_moyen_par_point)"
      ],
      "metadata": {
        "colab": {
          "base_uri": "https://localhost:8080/",
          "height": 315
        },
        "id": "hgZNDtal-qHw",
        "outputId": "265e18f1-0ac4-4951-e204-b83eed0e3a0c"
      },
      "execution_count": null,
      "outputs": [
        {
          "output_type": "execute_result",
          "data": {
            "text/html": [
              "<div>\n",
              "<style scoped>\n",
              "    .dataframe tbody tr th:only-of-type {\n",
              "        vertical-align: middle;\n",
              "    }\n",
              "\n",
              "    .dataframe tbody tr th {\n",
              "        vertical-align: top;\n",
              "    }\n",
              "\n",
              "    .dataframe thead th {\n",
              "        text-align: right;\n",
              "    }\n",
              "</style>\n",
              "<table border=\"1\" class=\"dataframe\">\n",
              "  <thead>\n",
              "    <tr style=\"text-align: right;\">\n",
              "      <th></th>\n",
              "      <th>numP</th>\n",
              "      <th>code</th>\n",
              "      <th>niveauMoyen</th>\n",
              "    </tr>\n",
              "  </thead>\n",
              "  <tbody>\n",
              "    <tr>\n",
              "      <th>0</th>\n",
              "      <td>0</td>\n",
              "      <td>07476X0029/S</td>\n",
              "      <td>297.306250</td>\n",
              "    </tr>\n",
              "    <tr>\n",
              "      <th>1</th>\n",
              "      <td>0</td>\n",
              "      <td>02603X0009/S1</td>\n",
              "      <td>128.917778</td>\n",
              "    </tr>\n",
              "    <tr>\n",
              "      <th>2</th>\n",
              "      <td>0</td>\n",
              "      <td>03124X0088/F</td>\n",
              "      <td>235.805789</td>\n",
              "    </tr>\n",
              "    <tr>\n",
              "      <th>3</th>\n",
              "      <td>0</td>\n",
              "      <td>00487X0015/S1</td>\n",
              "      <td>69.990500</td>\n",
              "    </tr>\n",
              "    <tr>\n",
              "      <th>4</th>\n",
              "      <td>0</td>\n",
              "      <td>01584X0023/LV3</td>\n",
              "      <td>83.676667</td>\n",
              "    </tr>\n",
              "    <tr>\n",
              "      <th>5</th>\n",
              "      <td>0</td>\n",
              "      <td>04398X0002/SONDAG</td>\n",
              "      <td>225.269333</td>\n",
              "    </tr>\n",
              "    <tr>\n",
              "      <th>6</th>\n",
              "      <td>0</td>\n",
              "      <td>02267X0030/S1</td>\n",
              "      <td>133.309286</td>\n",
              "    </tr>\n",
              "    <tr>\n",
              "      <th>7</th>\n",
              "      <td>0</td>\n",
              "      <td>06505X0080/FORC</td>\n",
              "      <td>168.353333</td>\n",
              "    </tr>\n",
              "    <tr>\n",
              "      <th>8</th>\n",
              "      <td>0</td>\n",
              "      <td>02706X0074/S77-20</td>\n",
              "      <td>310.121765</td>\n",
              "    </tr>\n",
              "    <tr>\n",
              "      <th>9</th>\n",
              "      <td>0</td>\n",
              "      <td>01516X0004/S1</td>\n",
              "      <td>35.264762</td>\n",
              "    </tr>\n",
              "    <tr>\n",
              "      <th>10</th>\n",
              "      <td>0</td>\n",
              "      <td>00766X0004/S1</td>\n",
              "      <td>53.600000</td>\n",
              "    </tr>\n",
              "    <tr>\n",
              "      <th>11</th>\n",
              "      <td>0</td>\n",
              "      <td>02648X0020/S1</td>\n",
              "      <td>173.172667</td>\n",
              "    </tr>\n",
              "    <tr>\n",
              "      <th>12</th>\n",
              "      <td>0</td>\n",
              "      <td>00755X0006/S1</td>\n",
              "      <td>29.050588</td>\n",
              "    </tr>\n",
              "    <tr>\n",
              "      <th>13</th>\n",
              "      <td>0</td>\n",
              "      <td>00762X0004/S1</td>\n",
              "      <td>121.889167</td>\n",
              "    </tr>\n",
              "    <tr>\n",
              "      <th>14</th>\n",
              "      <td>0</td>\n",
              "      <td>07223C0113/S</td>\n",
              "      <td>184.881176</td>\n",
              "    </tr>\n",
              "    <tr>\n",
              "      <th>15</th>\n",
              "      <td>0</td>\n",
              "      <td>00471X0095/PZ2013</td>\n",
              "      <td>63.063333</td>\n",
              "    </tr>\n",
              "    <tr>\n",
              "      <th>16</th>\n",
              "      <td>0</td>\n",
              "      <td>02206X0022/S1</td>\n",
              "      <td>50.322632</td>\n",
              "    </tr>\n",
              "    <tr>\n",
              "      <th>17</th>\n",
              "      <td>0</td>\n",
              "      <td>01258X0020/S1</td>\n",
              "      <td>46.923333</td>\n",
              "    </tr>\n",
              "    <tr>\n",
              "      <th>18</th>\n",
              "      <td>1</td>\n",
              "      <td>00471X0095/PZ2013</td>\n",
              "      <td>63.149286</td>\n",
              "    </tr>\n",
              "    <tr>\n",
              "      <th>19</th>\n",
              "      <td>1</td>\n",
              "      <td>01584X0023/LV3</td>\n",
              "      <td>83.330500</td>\n",
              "    </tr>\n",
              "    <tr>\n",
              "      <th>20</th>\n",
              "      <td>1</td>\n",
              "      <td>02267X0030/S1</td>\n",
              "      <td>133.248947</td>\n",
              "    </tr>\n",
              "    <tr>\n",
              "      <th>21</th>\n",
              "      <td>1</td>\n",
              "      <td>07476X0029/S</td>\n",
              "      <td>297.319500</td>\n",
              "    </tr>\n",
              "    <tr>\n",
              "      <th>22</th>\n",
              "      <td>1</td>\n",
              "      <td>00766X0004/S1</td>\n",
              "      <td>53.566250</td>\n",
              "    </tr>\n",
              "    <tr>\n",
              "      <th>23</th>\n",
              "      <td>1</td>\n",
              "      <td>03124X0088/F</td>\n",
              "      <td>235.846667</td>\n",
              "    </tr>\n",
              "    <tr>\n",
              "      <th>24</th>\n",
              "      <td>1</td>\n",
              "      <td>04398X0002/SONDAG</td>\n",
              "      <td>225.381818</td>\n",
              "    </tr>\n",
              "    <tr>\n",
              "      <th>25</th>\n",
              "      <td>1</td>\n",
              "      <td>01516X0004/S1</td>\n",
              "      <td>35.268571</td>\n",
              "    </tr>\n",
              "    <tr>\n",
              "      <th>26</th>\n",
              "      <td>1</td>\n",
              "      <td>02706X0074/S77-20</td>\n",
              "      <td>310.122857</td>\n",
              "    </tr>\n",
              "    <tr>\n",
              "      <th>27</th>\n",
              "      <td>1</td>\n",
              "      <td>02648X0020/S1</td>\n",
              "      <td>173.277333</td>\n",
              "    </tr>\n",
              "    <tr>\n",
              "      <th>28</th>\n",
              "      <td>1</td>\n",
              "      <td>00755X0006/S1</td>\n",
              "      <td>29.042632</td>\n",
              "    </tr>\n",
              "    <tr>\n",
              "      <th>29</th>\n",
              "      <td>1</td>\n",
              "      <td>06505X0080/FORC</td>\n",
              "      <td>168.325000</td>\n",
              "    </tr>\n",
              "    <tr>\n",
              "      <th>30</th>\n",
              "      <td>1</td>\n",
              "      <td>02206X0022/S1</td>\n",
              "      <td>50.298333</td>\n",
              "    </tr>\n",
              "    <tr>\n",
              "      <th>31</th>\n",
              "      <td>1</td>\n",
              "      <td>01258X0020/S1</td>\n",
              "      <td>46.898235</td>\n",
              "    </tr>\n",
              "    <tr>\n",
              "      <th>32</th>\n",
              "      <td>1</td>\n",
              "      <td>02603X0009/S1</td>\n",
              "      <td>128.974375</td>\n",
              "    </tr>\n",
              "    <tr>\n",
              "      <th>33</th>\n",
              "      <td>1</td>\n",
              "      <td>00487X0015/S1</td>\n",
              "      <td>70.010000</td>\n",
              "    </tr>\n",
              "    <tr>\n",
              "      <th>34</th>\n",
              "      <td>1</td>\n",
              "      <td>07223C0113/S</td>\n",
              "      <td>184.882727</td>\n",
              "    </tr>\n",
              "    <tr>\n",
              "      <th>35</th>\n",
              "      <td>1</td>\n",
              "      <td>00762X0004/S1</td>\n",
              "      <td>121.885000</td>\n",
              "    </tr>\n",
              "    <tr>\n",
              "      <th>36</th>\n",
              "      <td>2</td>\n",
              "      <td>06505X0080/FORC</td>\n",
              "      <td>168.336429</td>\n",
              "    </tr>\n",
              "    <tr>\n",
              "      <th>37</th>\n",
              "      <td>2</td>\n",
              "      <td>02648X0020/S1</td>\n",
              "      <td>173.285000</td>\n",
              "    </tr>\n",
              "    <tr>\n",
              "      <th>38</th>\n",
              "      <td>2</td>\n",
              "      <td>07476X0029/S</td>\n",
              "      <td>297.321429</td>\n",
              "    </tr>\n",
              "    <tr>\n",
              "      <th>39</th>\n",
              "      <td>2</td>\n",
              "      <td>01258X0020/S1</td>\n",
              "      <td>46.787143</td>\n",
              "    </tr>\n",
              "    <tr>\n",
              "      <th>40</th>\n",
              "      <td>2</td>\n",
              "      <td>02603X0009/S1</td>\n",
              "      <td>128.841875</td>\n",
              "    </tr>\n",
              "    <tr>\n",
              "      <th>41</th>\n",
              "      <td>2</td>\n",
              "      <td>07223C0113/S</td>\n",
              "      <td>184.877273</td>\n",
              "    </tr>\n",
              "    <tr>\n",
              "      <th>42</th>\n",
              "      <td>2</td>\n",
              "      <td>01584X0023/LV3</td>\n",
              "      <td>83.538667</td>\n",
              "    </tr>\n",
              "    <tr>\n",
              "      <th>43</th>\n",
              "      <td>2</td>\n",
              "      <td>00766X0004/S1</td>\n",
              "      <td>53.438235</td>\n",
              "    </tr>\n",
              "    <tr>\n",
              "      <th>44</th>\n",
              "      <td>2</td>\n",
              "      <td>02267X0030/S1</td>\n",
              "      <td>133.268824</td>\n",
              "    </tr>\n",
              "    <tr>\n",
              "      <th>45</th>\n",
              "      <td>2</td>\n",
              "      <td>04398X0002/SONDAG</td>\n",
              "      <td>225.358462</td>\n",
              "    </tr>\n",
              "    <tr>\n",
              "      <th>46</th>\n",
              "      <td>2</td>\n",
              "      <td>00755X0006/S1</td>\n",
              "      <td>29.042143</td>\n",
              "    </tr>\n",
              "    <tr>\n",
              "      <th>47</th>\n",
              "      <td>2</td>\n",
              "      <td>00471X0095/PZ2013</td>\n",
              "      <td>63.142778</td>\n",
              "    </tr>\n",
              "    <tr>\n",
              "      <th>48</th>\n",
              "      <td>2</td>\n",
              "      <td>02206X0022/S1</td>\n",
              "      <td>50.312105</td>\n",
              "    </tr>\n",
              "    <tr>\n",
              "      <th>49</th>\n",
              "      <td>2</td>\n",
              "      <td>01516X0004/S1</td>\n",
              "      <td>35.275000</td>\n",
              "    </tr>\n",
              "    <tr>\n",
              "      <th>50</th>\n",
              "      <td>2</td>\n",
              "      <td>00762X0004/S1</td>\n",
              "      <td>121.931000</td>\n",
              "    </tr>\n",
              "    <tr>\n",
              "      <th>51</th>\n",
              "      <td>2</td>\n",
              "      <td>00487X0015/S1</td>\n",
              "      <td>70.047059</td>\n",
              "    </tr>\n",
              "    <tr>\n",
              "      <th>52</th>\n",
              "      <td>2</td>\n",
              "      <td>03124X0088/F</td>\n",
              "      <td>235.750000</td>\n",
              "    </tr>\n",
              "    <tr>\n",
              "      <th>53</th>\n",
              "      <td>2</td>\n",
              "      <td>02706X0074/S77-20</td>\n",
              "      <td>310.116842</td>\n",
              "    </tr>\n",
              "  </tbody>\n",
              "</table>\n",
              "</div>"
            ],
            "application/vnd.google.colaboratory.module+javascript": "\n      import \"https://ssl.gstatic.com/colaboratory/data_table/a8bd4d5e58f96183/data_table.js\";\n\n      window.createDataTable({\n        data: [[{\n            'v': 0,\n            'f': \"0\",\n        },\n\"07476X0029/S\",\n{\n            'v': 297.30625,\n            'f': \"297.30625\",\n        }],\n [{\n            'v': 0,\n            'f': \"0\",\n        },\n\"02603X0009/S1\",\n{\n            'v': 128.91777777777776,\n            'f': \"128.91777777777776\",\n        }],\n [{\n            'v': 0,\n            'f': \"0\",\n        },\n\"03124X0088/F\",\n{\n            'v': 235.80578947368423,\n            'f': \"235.80578947368423\",\n        }],\n [{\n            'v': 0,\n            'f': \"0\",\n        },\n\"00487X0015/S1\",\n{\n            'v': 69.99050000000001,\n            'f': \"69.99050000000001\",\n        }],\n [{\n            'v': 0,\n            'f': \"0\",\n        },\n\"01584X0023/LV3\",\n{\n            'v': 83.67666666666666,\n            'f': \"83.67666666666666\",\n        }],\n [{\n            'v': 0,\n            'f': \"0\",\n        },\n\"04398X0002/SONDAG\",\n{\n            'v': 225.2693333333333,\n            'f': \"225.2693333333333\",\n        }],\n [{\n            'v': 0,\n            'f': \"0\",\n        },\n\"02267X0030/S1\",\n{\n            'v': 133.30928571428575,\n            'f': \"133.30928571428575\",\n        }],\n [{\n            'v': 0,\n            'f': \"0\",\n        },\n\"06505X0080/FORC\",\n{\n            'v': 168.35333333333335,\n            'f': \"168.35333333333335\",\n        }],\n [{\n            'v': 0,\n            'f': \"0\",\n        },\n\"02706X0074/S77-20\",\n{\n            'v': 310.1217647058824,\n            'f': \"310.1217647058824\",\n        }],\n [{\n            'v': 0,\n            'f': \"0\",\n        },\n\"01516X0004/S1\",\n{\n            'v': 35.2647619047619,\n            'f': \"35.2647619047619\",\n        }],\n [{\n            'v': 0,\n            'f': \"0\",\n        },\n\"00766X0004/S1\",\n{\n            'v': 53.599999999999994,\n            'f': \"53.599999999999994\",\n        }],\n [{\n            'v': 0,\n            'f': \"0\",\n        },\n\"02648X0020/S1\",\n{\n            'v': 173.17266666666666,\n            'f': \"173.17266666666666\",\n        }],\n [{\n            'v': 0,\n            'f': \"0\",\n        },\n\"00755X0006/S1\",\n{\n            'v': 29.05058823529412,\n            'f': \"29.05058823529412\",\n        }],\n [{\n            'v': 0,\n            'f': \"0\",\n        },\n\"00762X0004/S1\",\n{\n            'v': 121.88916666666665,\n            'f': \"121.88916666666665\",\n        }],\n [{\n            'v': 0,\n            'f': \"0\",\n        },\n\"07223C0113/S\",\n{\n            'v': 184.88117647058823,\n            'f': \"184.88117647058823\",\n        }],\n [{\n            'v': 0,\n            'f': \"0\",\n        },\n\"00471X0095/PZ2013\",\n{\n            'v': 63.063333333333325,\n            'f': \"63.063333333333325\",\n        }],\n [{\n            'v': 0,\n            'f': \"0\",\n        },\n\"02206X0022/S1\",\n{\n            'v': 50.32263157894736,\n            'f': \"50.32263157894736\",\n        }],\n [{\n            'v': 0,\n            'f': \"0\",\n        },\n\"01258X0020/S1\",\n{\n            'v': 46.92333333333334,\n            'f': \"46.92333333333334\",\n        }],\n [{\n            'v': 1,\n            'f': \"1\",\n        },\n\"00471X0095/PZ2013\",\n{\n            'v': 63.14928571428571,\n            'f': \"63.14928571428571\",\n        }],\n [{\n            'v': 1,\n            'f': \"1\",\n        },\n\"01584X0023/LV3\",\n{\n            'v': 83.33050000000001,\n            'f': \"83.33050000000001\",\n        }],\n [{\n            'v': 1,\n            'f': \"1\",\n        },\n\"02267X0030/S1\",\n{\n            'v': 133.24894736842106,\n            'f': \"133.24894736842106\",\n        }],\n [{\n            'v': 1,\n            'f': \"1\",\n        },\n\"07476X0029/S\",\n{\n            'v': 297.3195,\n            'f': \"297.3195\",\n        }],\n [{\n            'v': 1,\n            'f': \"1\",\n        },\n\"00766X0004/S1\",\n{\n            'v': 53.56625000000001,\n            'f': \"53.56625000000001\",\n        }],\n [{\n            'v': 1,\n            'f': \"1\",\n        },\n\"03124X0088/F\",\n{\n            'v': 235.8466666666667,\n            'f': \"235.8466666666667\",\n        }],\n [{\n            'v': 1,\n            'f': \"1\",\n        },\n\"04398X0002/SONDAG\",\n{\n            'v': 225.38181818181818,\n            'f': \"225.38181818181818\",\n        }],\n [{\n            'v': 1,\n            'f': \"1\",\n        },\n\"01516X0004/S1\",\n{\n            'v': 35.26857142857142,\n            'f': \"35.26857142857142\",\n        }],\n [{\n            'v': 1,\n            'f': \"1\",\n        },\n\"02706X0074/S77-20\",\n{\n            'v': 310.1228571428572,\n            'f': \"310.1228571428572\",\n        }],\n [{\n            'v': 1,\n            'f': \"1\",\n        },\n\"02648X0020/S1\",\n{\n            'v': 173.27733333333333,\n            'f': \"173.27733333333333\",\n        }],\n [{\n            'v': 1,\n            'f': \"1\",\n        },\n\"00755X0006/S1\",\n{\n            'v': 29.042631578947372,\n            'f': \"29.042631578947372\",\n        }],\n [{\n            'v': 1,\n            'f': \"1\",\n        },\n\"06505X0080/FORC\",\n{\n            'v': 168.325,\n            'f': \"168.325\",\n        }],\n [{\n            'v': 1,\n            'f': \"1\",\n        },\n\"02206X0022/S1\",\n{\n            'v': 50.298333333333325,\n            'f': \"50.298333333333325\",\n        }],\n [{\n            'v': 1,\n            'f': \"1\",\n        },\n\"01258X0020/S1\",\n{\n            'v': 46.89823529411764,\n            'f': \"46.89823529411764\",\n        }],\n [{\n            'v': 1,\n            'f': \"1\",\n        },\n\"02603X0009/S1\",\n{\n            'v': 128.974375,\n            'f': \"128.974375\",\n        }],\n [{\n            'v': 1,\n            'f': \"1\",\n        },\n\"00487X0015/S1\",\n{\n            'v': 70.01,\n            'f': \"70.01\",\n        }],\n [{\n            'v': 1,\n            'f': \"1\",\n        },\n\"07223C0113/S\",\n{\n            'v': 184.88272727272727,\n            'f': \"184.88272727272727\",\n        }],\n [{\n            'v': 1,\n            'f': \"1\",\n        },\n\"00762X0004/S1\",\n{\n            'v': 121.88499999999999,\n            'f': \"121.88499999999999\",\n        }],\n [{\n            'v': 2,\n            'f': \"2\",\n        },\n\"06505X0080/FORC\",\n{\n            'v': 168.33642857142857,\n            'f': \"168.33642857142857\",\n        }],\n [{\n            'v': 2,\n            'f': \"2\",\n        },\n\"02648X0020/S1\",\n{\n            'v': 173.285,\n            'f': \"173.285\",\n        }],\n [{\n            'v': 2,\n            'f': \"2\",\n        },\n\"07476X0029/S\",\n{\n            'v': 297.32142857142856,\n            'f': \"297.32142857142856\",\n        }],\n [{\n            'v': 2,\n            'f': \"2\",\n        },\n\"01258X0020/S1\",\n{\n            'v': 46.78714285714286,\n            'f': \"46.78714285714286\",\n        }],\n [{\n            'v': 2,\n            'f': \"2\",\n        },\n\"02603X0009/S1\",\n{\n            'v': 128.84187500000002,\n            'f': \"128.84187500000002\",\n        }],\n [{\n            'v': 2,\n            'f': \"2\",\n        },\n\"07223C0113/S\",\n{\n            'v': 184.8772727272727,\n            'f': \"184.8772727272727\",\n        }],\n [{\n            'v': 2,\n            'f': \"2\",\n        },\n\"01584X0023/LV3\",\n{\n            'v': 83.53866666666666,\n            'f': \"83.53866666666666\",\n        }],\n [{\n            'v': 2,\n            'f': \"2\",\n        },\n\"00766X0004/S1\",\n{\n            'v': 53.43823529411763,\n            'f': \"53.43823529411763\",\n        }],\n [{\n            'v': 2,\n            'f': \"2\",\n        },\n\"02267X0030/S1\",\n{\n            'v': 133.26882352941178,\n            'f': \"133.26882352941178\",\n        }],\n [{\n            'v': 2,\n            'f': \"2\",\n        },\n\"04398X0002/SONDAG\",\n{\n            'v': 225.35846153846157,\n            'f': \"225.35846153846157\",\n        }],\n [{\n            'v': 2,\n            'f': \"2\",\n        },\n\"00755X0006/S1\",\n{\n            'v': 29.042142857142856,\n            'f': \"29.042142857142856\",\n        }],\n [{\n            'v': 2,\n            'f': \"2\",\n        },\n\"00471X0095/PZ2013\",\n{\n            'v': 63.14277777777777,\n            'f': \"63.14277777777777\",\n        }],\n [{\n            'v': 2,\n            'f': \"2\",\n        },\n\"02206X0022/S1\",\n{\n            'v': 50.31210526315789,\n            'f': \"50.31210526315789\",\n        }],\n [{\n            'v': 2,\n            'f': \"2\",\n        },\n\"01516X0004/S1\",\n{\n            'v': 35.275,\n            'f': \"35.275\",\n        }],\n [{\n            'v': 2,\n            'f': \"2\",\n        },\n\"00762X0004/S1\",\n{\n            'v': 121.93099999999997,\n            'f': \"121.93099999999997\",\n        }],\n [{\n            'v': 2,\n            'f': \"2\",\n        },\n\"00487X0015/S1\",\n{\n            'v': 70.04705882352941,\n            'f': \"70.04705882352941\",\n        }],\n [{\n            'v': 2,\n            'f': \"2\",\n        },\n\"03124X0088/F\",\n{\n            'v': 235.74999999999997,\n            'f': \"235.74999999999997\",\n        }],\n [{\n            'v': 2,\n            'f': \"2\",\n        },\n\"02706X0074/S77-20\",\n{\n            'v': 310.1168421052632,\n            'f': \"310.1168421052632\",\n        }]],\n        columns: [[\"number\", \"numP\"], [\"string\", \"code\"], [\"number\", \"niveauMoyen\"]],\n        columnOptions: [],\n        rowsPerPage: 10,\n        helpUrl: \"https://colab.research.google.com/notebooks/data_table.ipynb\",\n        suppressOutputScrolling: true,\n        minimumWidth: undefined,\n      });\n    ",
            "text/plain": [
              "<google.colab.data_table.DataTable object>"
            ]
          },
          "metadata": {},
          "execution_count": 169
        }
      ]
    },
    {
      "cell_type": "code",
      "source": [
        "##END"
      ],
      "metadata": {
        "id": "_zlVvJCc-3PS"
      },
      "execution_count": null,
      "outputs": []
    }
  ]
}