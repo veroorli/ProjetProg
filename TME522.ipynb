{
  "nbformat": 4,
  "nbformat_minor": 0,
  "metadata": {
    "application/vnd.databricks.v1+notebook": {
      "notebookName": "SparkDataframe-CSV-solution",
      "dashboards": [],
      "notebookMetadata": {
        "pythonIndentUnit": 2
      },
      "language": "python",
      "widgets": {},
      "notebookOrigID": 620345572627578
    },
    "colab": {
      "provenance": [],
      "toc_visible": true,
      "include_colab_link": true
    },
    "language_info": {
      "name": "python"
    },
    "kernelspec": {
      "name": "python3",
      "display_name": "Python 3"
    }
  },
  "cells": [
    {
      "cell_type": "markdown",
      "metadata": {
        "id": "view-in-github",
        "colab_type": "text"
      },
      "source": [
        "<a href=\"https://colab.research.google.com/github/veroorli/ProjetProg/blob/master/TME522.ipynb\" target=\"_parent\"><img src=\"https://colab.research.google.com/assets/colab-badge.svg\" alt=\"Open In Colab\"/></a>"
      ]
    },
    {
      "cell_type": "markdown",
      "metadata": {
        "id": "cbLl2vqUjBf7"
      },
      "source": [
        "## Data description"
      ]
    },
    {
      "cell_type": "markdown",
      "metadata": {
        "application/vnd.databricks.v1+cell": {
          "title": "",
          "showTitle": false,
          "inputWidgets": {},
          "nuid": "ec582505-b110-44f0-b9b3-d300d6165d89"
        },
        "id": "9foKjTFmgpj3"
      },
      "source": [
        "We consider the Books dataset which describes books and users rating these books. The schema of this dataset is given as follows:\n",
        "\n",
        "* `Users (userid: Number, country: Text, age: Number)` \n",
        "* `Books (bookid: Number, titlewords: Number, authorwords: Number, year: Number, publisher: Number)`\n",
        "* `Ratings (userid: Number, bookid: Number, rating: Number)`\n",
        "\n",
        "In the Ratings table, userid and bookid refer to Users and Books, respectively."
      ]
    },
    {
      "cell_type": "code",
      "metadata": {
        "application/vnd.databricks.v1+cell": {
          "title": "",
          "showTitle": false,
          "inputWidgets": {},
          "nuid": "ed945e02-8e8f-402c-96f9-c15a0b840769"
        },
        "colab": {
          "base_uri": "https://localhost:8080/"
        },
        "id": "VxhGQFUZgpkC",
        "outputId": "2f91a59c-28dd-4293-e58b-419ca3c340c6"
      },
      "source": [
        "users.printSchema()\n",
        "books.printSchema()\n",
        "ratings.printSchema()"
      ],
      "execution_count": null,
      "outputs": [
        {
          "output_type": "stream",
          "name": "stdout",
          "text": [
            "root\n",
            " |-- userid: integer (nullable = true)\n",
            " |-- country: string (nullable = true)\n",
            " |-- age: integer (nullable = true)\n",
            "\n",
            "root\n",
            " |-- bookid: integer (nullable = true)\n",
            " |-- titlewords: integer (nullable = true)\n",
            " |-- authorwords: integer (nullable = true)\n",
            " |-- year: integer (nullable = true)\n",
            " |-- publisher: integer (nullable = true)\n",
            "\n",
            "root\n",
            " |-- userid: integer (nullable = true)\n",
            " |-- bookid: integer (nullable = true)\n",
            " |-- rating: integer (nullable = true)\n",
            "\n"
          ]
        }
      ]
    },
    {
      "cell_type": "markdown",
      "metadata": {
        "application/vnd.databricks.v1+cell": {
          "title": "",
          "showTitle": false,
          "inputWidgets": {},
          "nuid": "d5fc90eb-d679-4370-86e8-ccc5d96bcd38"
        },
        "id": "veWT9lXjgpkD"
      },
      "source": [
        "### Simple queries"
      ]
    },
    {
      "cell_type": "markdown",
      "metadata": {
        "application/vnd.databricks.v1+cell": {
          "title": "",
          "showTitle": false,
          "inputWidgets": {},
          "nuid": "d15540ae-f2e9-4047-9af6-d5ef82c9cedd"
        },
        "id": "dUugAxALgpkE"
      },
      "source": [
        "#### s0) Ids of users (column userid) from France. Note that country names are in lower case"
      ]
    },
    {
      "cell_type": "code",
      "metadata": {
        "application/vnd.databricks.v1+cell": {
          "title": "",
          "showTitle": false,
          "inputWidgets": {},
          "nuid": "438faaef-f85e-4aa6-acb1-b3246af80212"
        },
        "id": "OL5GuXvZgpkE"
      },
      "source": [
        "s0 = users.select('userid').where(users.country == 'france')\n",
        "s0.count()"
      ],
      "execution_count": null,
      "outputs": []
    },
    {
      "cell_type": "markdown",
      "metadata": {
        "application/vnd.databricks.v1+cell": {
          "title": "",
          "showTitle": false,
          "inputWidgets": {},
          "nuid": "3e71430b-3f25-4ae9-bd1c-6aecb7710cf8"
        },
        "id": "E6POqZ5NgpkF"
      },
      "source": [
        "#### s1) Ids of books (column bookid) whose publication year is 2000"
      ]
    },
    {
      "cell_type": "code",
      "metadata": {
        "application/vnd.databricks.v1+cell": {
          "title": "",
          "showTitle": false,
          "inputWidgets": {},
          "nuid": "c29152cd-346d-42ae-b45f-5b6d9375f0a7"
        },
        "id": "zhsdGjNGgpkF"
      },
      "source": [
        "s1 = books.select('bookid').where(books.year>2000)\n",
        "s1.count()"
      ],
      "execution_count": null,
      "outputs": []
    },
    {
      "cell_type": "markdown",
      "metadata": {
        "application/vnd.databricks.v1+cell": {
          "title": "",
          "showTitle": false,
          "inputWidgets": {},
          "nuid": "87ba9e4a-1805-4043-9bbf-4b8c5354a62a"
        },
        "id": "IC_LRFFIgpkG"
      },
      "source": [
        "#### s2) Ids of books rated above 3 (>3)"
      ]
    },
    {
      "cell_type": "code",
      "metadata": {
        "application/vnd.databricks.v1+cell": {
          "title": "",
          "showTitle": false,
          "inputWidgets": {},
          "nuid": "e07ca099-9216-4582-98a3-edcf87910754"
        },
        "id": "Hg2fP-y-gpkG"
      },
      "source": [
        "s2 =  ratings.select('bookid').where(ratings.rating>3)\n",
        "s2.count()"
      ],
      "execution_count": null,
      "outputs": []
    },
    {
      "cell_type": "markdown",
      "metadata": {
        "application/vnd.databricks.v1+cell": {
          "title": "",
          "showTitle": false,
          "inputWidgets": {},
          "nuid": "f1fac549-8efa-45b9-b670-b193607beefb"
        },
        "id": "CYjccJXigpkG"
      },
      "source": [
        "### Collecting basic statistics"
      ]
    },
    {
      "cell_type": "markdown",
      "metadata": {
        "application/vnd.databricks.v1+cell": {
          "title": "",
          "showTitle": false,
          "inputWidgets": {},
          "nuid": "86c38015-579b-4404-8f86-0eee72fe28fa"
        },
        "id": "qHH1k_vZgpkH"
      },
      "source": [
        "#### Total number of distinct users"
      ]
    },
    {
      "cell_type": "code",
      "metadata": {
        "application/vnd.databricks.v1+cell": {
          "title": "",
          "showTitle": false,
          "inputWidgets": {},
          "nuid": "10338614-e398-4513-b3dc-085f87ff8899"
        },
        "id": "Wc-ZO1RvgpkH"
      },
      "source": [
        "users.select('userid').distinct().count()"
      ],
      "execution_count": null,
      "outputs": []
    },
    {
      "cell_type": "markdown",
      "metadata": {
        "application/vnd.databricks.v1+cell": {
          "title": "",
          "showTitle": false,
          "inputWidgets": {},
          "nuid": "edb67201-fd56-4ccf-aad3-b79223d1e45e"
        },
        "id": "C_LaPNWDgpkH"
      },
      "source": [
        "#### Total number of distinct  books"
      ]
    },
    {
      "cell_type": "code",
      "metadata": {
        "application/vnd.databricks.v1+cell": {
          "title": "",
          "showTitle": false,
          "inputWidgets": {},
          "nuid": "e74f806c-e725-439e-8c99-5f1853fce15f"
        },
        "id": "Sqrt0jakgpkJ"
      },
      "source": [
        "books.select('bookid').distinct().count()"
      ],
      "execution_count": null,
      "outputs": []
    },
    {
      "cell_type": "markdown",
      "metadata": {
        "application/vnd.databricks.v1+cell": {
          "title": "",
          "showTitle": false,
          "inputWidgets": {},
          "nuid": "698dea62-962f-49b4-a6ed-f75e4fe97158"
        },
        "id": "Wg8yX16kgpkJ"
      },
      "source": [
        "### Aggregation queries"
      ]
    },
    {
      "cell_type": "markdown",
      "metadata": {
        "application/vnd.databricks.v1+cell": {
          "title": "",
          "showTitle": false,
          "inputWidgets": {},
          "nuid": "8bb282e9-63fd-4966-a2f9-be82f826c201"
        },
        "id": "_NG7JZTagpkK"
      },
      "source": [
        "#### q1) Number of users per country, sorted in descending order of this number"
      ]
    },
    {
      "cell_type": "code",
      "metadata": {
        "application/vnd.databricks.v1+cell": {
          "title": "",
          "showTitle": false,
          "inputWidgets": {},
          "nuid": "740f4232-265b-40c6-ba62-860973aa9bb1"
        },
        "id": "oWExJRbhgpkM"
      },
      "source": [
        "q1 = users.groupBy('country').count().orderBy(col('count').desc())\n",
        "q1.show()"
      ],
      "execution_count": null,
      "outputs": []
    },
    {
      "cell_type": "markdown",
      "metadata": {
        "application/vnd.databricks.v1+cell": {
          "title": "",
          "showTitle": false,
          "inputWidgets": {},
          "nuid": "0d16d3ba-dd23-4b61-b2af-7473fca3c23d"
        },
        "id": "cYYkzA4JgpkN"
      },
      "source": [
        "##### Country who has the highest number of users, together with this number. Assume that only one country has this number."
      ]
    },
    {
      "cell_type": "code",
      "metadata": {
        "application/vnd.databricks.v1+cell": {
          "title": "",
          "showTitle": false,
          "inputWidgets": {},
          "nuid": "a02d35ff-25aa-40f0-a694-3b02157acf65"
        },
        "id": "v8xxKW6ugpkO"
      },
      "source": [
        "q11 = q1.limit(1).select(\"country\")\n",
        "q11.show()"
      ],
      "execution_count": null,
      "outputs": []
    },
    {
      "cell_type": "markdown",
      "metadata": {
        "application/vnd.databricks.v1+cell": {
          "title": "",
          "showTitle": false,
          "inputWidgets": {},
          "nuid": "a2516bb5-2513-4ff5-a942-29fc9f6f6ba1"
        },
        "id": "eOuVlZVDgpkP"
      },
      "source": [
        "##### Year with the highest number of edited books, together with this number. Assume that only one year has this number."
      ]
    },
    {
      "cell_type": "code",
      "metadata": {
        "application/vnd.databricks.v1+cell": {
          "title": "",
          "showTitle": false,
          "inputWidgets": {},
          "nuid": "be8f7908-ebf8-46cf-9f18-c7c1d72feeda"
        },
        "id": "IEFqWuz4gpkP"
      },
      "source": [
        "q12 = books.groupBy('year').count().orderBy(col('count').desc()).limit(1).select('year')\n",
        "q12.show()\n"
      ],
      "execution_count": null,
      "outputs": []
    },
    {
      "cell_type": "markdown",
      "metadata": {
        "application/vnd.databricks.v1+cell": {
          "title": "",
          "showTitle": false,
          "inputWidgets": {},
          "nuid": "00c7051d-beb2-44e5-bb10-2271c6fbb549"
        },
        "id": "Mkh0B6gOgpkQ"
      },
      "source": [
        "#### q2) Publishers with more than ten (10) edited books, in total"
      ]
    },
    {
      "cell_type": "code",
      "metadata": {
        "application/vnd.databricks.v1+cell": {
          "title": "",
          "showTitle": false,
          "inputWidgets": {},
          "nuid": "ee653ae1-172e-4d9c-9732-f997aed74794"
        },
        "id": "j9BO1NHigpkQ"
      },
      "source": [
        "q2 = books.groupby('publisher').count().orderBy(col('count').desc()).where(col('count')>10)\n",
        "q2.count()"
      ],
      "execution_count": null,
      "outputs": []
    },
    {
      "cell_type": "markdown",
      "metadata": {
        "application/vnd.databricks.v1+cell": {
          "title": "",
          "showTitle": false,
          "inputWidgets": {},
          "nuid": "51df47c0-998c-4077-b0e6-0e6fb14fc017"
        },
        "id": "9c4iMlI9gpkR"
      },
      "source": [
        "#### q3) Publishers with more than five (5) edited books for each year in which they have published a book"
      ]
    },
    {
      "cell_type": "code",
      "metadata": {
        "application/vnd.databricks.v1+cell": {
          "title": "",
          "showTitle": false,
          "inputWidgets": {},
          "nuid": "fbca491c-03df-4efb-b9c2-93ea9076ca33"
        },
        "id": "CF59lNEPgpkR"
      },
      "source": [
        "q3 = books.select('publisher')\\\n",
        "    .subtract(books.groupBy(col('publisher'), col(\"year\"))\\\n",
        "    .count().where(col(\"count\")<5)\\\n",
        "    .select('publisher'))\n",
        "q3.count()"
      ],
      "execution_count": null,
      "outputs": []
    },
    {
      "cell_type": "markdown",
      "metadata": {
        "application/vnd.databricks.v1+cell": {
          "title": "",
          "showTitle": false,
          "inputWidgets": {},
          "nuid": "f901adfc-4aaf-41a3-8ab6-c21395fad4e5"
        },
        "id": "u5dBxG7PgpkS"
      },
      "source": [
        "#### q4) The average rating per book\n",
        "pour faire une aggrégation il faut forcement faire un groupby avant"
      ]
    },
    {
      "cell_type": "code",
      "metadata": {
        "application/vnd.databricks.v1+cell": {
          "title": "",
          "showTitle": false,
          "inputWidgets": {},
          "nuid": "ac407669-1340-44d9-94b6-cc234998a907"
        },
        "id": "B4k4-LD2gpkT"
      },
      "source": [
        "q4 = ratings.groupBy('bookid').avg('rating')\n",
        "q4.show()"
      ],
      "execution_count": null,
      "outputs": []
    },
    {
      "cell_type": "markdown",
      "metadata": {
        "application/vnd.databricks.v1+cell": {
          "title": "",
          "showTitle": false,
          "inputWidgets": {},
          "nuid": "414dd23b-0af5-4675-beb7-6a7eb05455ca"
        },
        "id": "vMJTqCy8gpkT"
      },
      "source": [
        "### Join queries"
      ]
    },
    {
      "cell_type": "markdown",
      "metadata": {
        "application/vnd.databricks.v1+cell": {
          "title": "",
          "showTitle": false,
          "inputWidgets": {},
          "nuid": "81656482-354d-4c95-8699-743b4bc74829"
        },
        "id": "jpqq7AKfgpkT"
      },
      "source": [
        "#### q5) The publishers of books rated by users living in France\n",
        "1)jointure entre user et rating sur userid living in france\n",
        "2) jointure avec book sur bookid \n",
        "3)selectionne publisher "
      ]
    },
    {
      "cell_type": "code",
      "metadata": {
        "application/vnd.databricks.v1+cell": {
          "title": "",
          "showTitle": false,
          "inputWidgets": {},
          "nuid": "a88ee3ab-92ab-4378-80be-c75fa14edaf3"
        },
        "id": "ZsSn-8QxgpkU"
      },
      "source": [
        "q5 = users.join(ratings, 'userid').where(col('country') == 'france')\\\n",
        "     .join(books, 'bookid')\\\n",
        "     .select('publisher').distinct()\n",
        "q5.count()"
      ],
      "execution_count": null,
      "outputs": []
    },
    {
      "cell_type": "markdown",
      "metadata": {
        "application/vnd.databricks.v1+cell": {
          "title": "",
          "showTitle": false,
          "inputWidgets": {},
          "nuid": "6c57761f-6395-492b-ab4b-4ef64a8fda6a"
        },
        "id": "pHmyULZPgpkU"
      },
      "source": [
        "#### q6) The publishers of books which were never rated by users living in France"
      ]
    },
    {
      "cell_type": "code",
      "metadata": {
        "application/vnd.databricks.v1+cell": {
          "title": "",
          "showTitle": false,
          "inputWidgets": {},
          "nuid": "1efda86b-397b-4ad5-8ebc-3244e14b5d96"
        },
        "id": "ZhYNFfAogpkU"
      },
      "source": [
        "q6=books.select('publisher').subtract(q5)\n",
        "q6.count()\n"
      ],
      "execution_count": null,
      "outputs": []
    },
    {
      "cell_type": "markdown",
      "metadata": {
        "application/vnd.databricks.v1+cell": {
          "title": "",
          "showTitle": false,
          "inputWidgets": {},
          "nuid": "4c0d19bd-069a-4165-9071-0b5de264969c"
        },
        "id": "aM3wdMxugpkV"
      },
      "source": [
        "### Queries using built-in functions"
      ]
    },
    {
      "cell_type": "markdown",
      "metadata": {
        "application/vnd.databricks.v1+cell": {
          "title": "",
          "showTitle": false,
          "inputWidgets": {},
          "nuid": "7ef47781-b20a-4002-b367-3ce098e129b1"
        },
        "id": "6WYWxoStgpkV"
      },
      "source": [
        "The Spark API contains many useful built-in functions that can be directly invoked on a dataframe. These are documented:\n",
        "* https://spark.apache.org/docs/latest/api/python/reference/pyspark.sql.html#functions\n",
        "\n",
        "The goal of this section is two use some of these functions to compute the Jaccard Similarity between users based on the books they rated.\n",
        "To do so, we need to collect, for each pair of users (u1,u2), the sets of books they have rated, eg. [b1, ..., bn] for u1 and [b'1, ...,b'm] for u2, than apply the similarity formulae explained in https://en.wikipedia.org/wiki/Jaccard_index, that is, dividing the intersection of the sets of books by the union of these sets.\n",
        "\n",
        "$$sim(u1,u2) = |([b_1, ..., b_n] \\cap [b'_1, ...,b'_m]) /  ([b_1, ..., b_n] \\cup [b'_1, ...,b'_m])|$$\n",
        "\n",
        "**Note. Due to the potential high cost for computing the cross-product between all users, we restrict to users of France.**"
      ]
    },
    {
      "cell_type": "markdown",
      "metadata": {
        "application/vnd.databricks.v1+cell": {
          "title": "",
          "showTitle": false,
          "inputWidgets": {},
          "nuid": "e102d560-ec9f-47ef-8fe2-2cf5b9ff2690"
        },
        "id": "Y3a3XqofgpkV"
      },
      "source": [
        "#### create a df with ratings restricted to users of 'france' ."
      ]
    },
    {
      "cell_type": "code",
      "metadata": {
        "application/vnd.databricks.v1+cell": {
          "title": "",
          "showTitle": false,
          "inputWidgets": {},
          "nuid": "6f93fcd9-ae77-426c-91fb-4afb221195ab"
        },
        "id": "-Fl-K1a2gpkV"
      },
      "source": [
        "users_fr = users.where(\"country = 'france'\")\n",
        "users_fr.count()"
      ],
      "execution_count": null,
      "outputs": []
    },
    {
      "cell_type": "code",
      "metadata": {
        "application/vnd.databricks.v1+cell": {
          "title": "",
          "showTitle": false,
          "inputWidgets": {},
          "nuid": "f13dc53a-0bd7-4857-a687-0f27da72a62d"
        },
        "id": "q4J6zGhzgpkW"
      },
      "source": [
        "ratings_fr = ratings.join(users_fr,\"userid\")\n",
        "ratings_fr.count()"
      ],
      "execution_count": null,
      "outputs": []
    },
    {
      "cell_type": "markdown",
      "metadata": {
        "application/vnd.databricks.v1+cell": {
          "title": "",
          "showTitle": false,
          "inputWidgets": {},
          "nuid": "fd2c2a51-86fa-4dcd-9031-c34f229afa7e"
        },
        "id": "NycL5PvegpkW"
      },
      "source": [
        "**In this part, users always refer to users of France **"
      ]
    },
    {
      "cell_type": "markdown",
      "metadata": {
        "application/vnd.databricks.v1+cell": {
          "title": "",
          "showTitle": false,
          "inputWidgets": {},
          "nuid": "5c70c665-c8f7-47fa-b5d8-4eb7d9924856"
        },
        "id": "3_LWCeNfgpkW"
      },
      "source": [
        "#### create a dataframe obtained by collecting, for each user, the set of rated books. \n",
        "Hint. group bookids per user than use a built-in function that creates an array from the grouped bookids (examine the schema)"
      ]
    },
    {
      "cell_type": "code",
      "metadata": {
        "application/vnd.databricks.v1+cell": {
          "title": "",
          "showTitle": false,
          "inputWidgets": {},
          "nuid": "28e91bc4-bb9e-4ea1-8cdd-7ec56b557c42"
        },
        "id": "CMlWke-kgpkX"
      },
      "source": [
        "users_books = ratings_fr.groupBy('userid')\\\n",
        "              .agg(collect_list('bookid')\\\n",
        "              .alias('set_bookid'))\n",
        "users_books.show()"
      ],
      "execution_count": null,
      "outputs": []
    },
    {
      "cell_type": "markdown",
      "metadata": {
        "application/vnd.databricks.v1+cell": {
          "title": "",
          "showTitle": false,
          "inputWidgets": {},
          "nuid": "fbca6f28-b675-45db-91bf-502bd38ed629"
        },
        "id": "izfXutvJgpkX"
      },
      "source": [
        "#### create a dataframe containing pairs of distinct users with their rated books.\n",
        "Hint. You need to rename the dataframe columns."
      ]
    },
    {
      "cell_type": "code",
      "metadata": {
        "application/vnd.databricks.v1+cell": {
          "title": "",
          "showTitle": false,
          "inputWidgets": {},
          "nuid": "194551fd-05e9-417a-bc1c-bcdc2ba4a1a5"
        },
        "id": "pUAboFkdgpkX"
      },
      "source": [
        "pair_users_books = users_books.crossJoin(users_books.select(col('userid').alias('userid2'), col('set_bookid').alias('set_bookid2')))\\\n",
        "                  .where((col('userid') != col('userid2')) & (col('userid') < col('userid2')))\\\n",
        "                  .select(struct(col('userid'), col('userid2')).alias('usersid'), col('set_bookid'), col('set_bookid2'))\n",
        "\n",
        "pair_users_books.show()"
      ],
      "execution_count": null,
      "outputs": []
    },
    {
      "cell_type": "markdown",
      "metadata": {
        "application/vnd.databricks.v1+cell": {
          "title": "",
          "showTitle": false,
          "inputWidgets": {},
          "nuid": "39964457-c634-4122-a528-08c164c19c7b"
        },
        "id": "HoWOEuRHgpkX"
      },
      "source": [
        "#### compute the Jaccard similarity and leave only pairs of books with a non-zero similarity"
      ]
    },
    {
      "cell_type": "code",
      "metadata": {
        "application/vnd.databricks.v1+cell": {
          "title": "",
          "showTitle": false,
          "inputWidgets": {},
          "nuid": "d78be2f7-616d-492b-b01b-9ef1482a0660"
        },
        "id": "s0SPGJKDgpkY"
      },
      "source": [
        "from pyspark.sql.functions import array_intersect, array_union, size"
      ],
      "execution_count": null,
      "outputs": []
    },
    {
      "cell_type": "code",
      "metadata": {
        "application/vnd.databricks.v1+cell": {
          "title": "",
          "showTitle": false,
          "inputWidgets": {},
          "nuid": "5d41e837-626e-4859-b549-73701667bc40"
        },
        "id": "671OCCjXgpkY"
      },
      "source": [
        "jaccard_sim = pair_users_books\\\n",
        "              .withColumn('sim', size(array_intersect(col('set_bookid'),col('set_bookid2')))/size(array_union(col('set_bookid'), col('set_bookid2'))))\\\n",
        "              .where(col('sim') > 0)\\\n",
        "              .select('usersid.userid', 'usersid.userid2', 'sim')\\\n",
        "              .orderBy(col('sim').desc())\n",
        "\n"
      ],
      "execution_count": null,
      "outputs": []
    },
    {
      "cell_type": "code",
      "metadata": {
        "application/vnd.databricks.v1+cell": {
          "title": "",
          "showTitle": false,
          "inputWidgets": {},
          "nuid": "df1d44a6-3066-457c-a737-dc14b0852660"
        },
        "id": "nWvwxEdHgpkY"
      },
      "source": [
        "jaccard_sim.show()"
      ],
      "execution_count": null,
      "outputs": []
    },
    {
      "cell_type": "code",
      "metadata": {
        "application/vnd.databricks.v1+cell": {
          "title": "",
          "showTitle": false,
          "inputWidgets": {},
          "nuid": "610ca5b1-c7ee-492a-9780-4cf6bccaebe7"
        },
        "id": "IgDPCTQcgpkY"
      },
      "source": [
        "jaccard_sim.count()"
      ],
      "execution_count": null,
      "outputs": []
    },
    {
      "cell_type": "markdown",
      "metadata": {
        "application/vnd.databricks.v1+cell": {
          "title": "",
          "showTitle": false,
          "inputWidgets": {},
          "nuid": "d0084307-fb8a-409f-bda3-d05647c0e23a"
        },
        "id": "1lBtuiQugpkZ"
      },
      "source": [
        "### Queries with User-defined functions"
      ]
    },
    {
      "cell_type": "markdown",
      "metadata": {
        "application/vnd.databricks.v1+cell": {
          "title": "",
          "showTitle": false,
          "inputWidgets": {},
          "nuid": "801f2d7c-95d9-4378-a911-7611c026193a"
        },
        "id": "XR6dsVMVgpkZ"
      },
      "source": [
        "Spark allows users to define specific functions called `User-Defined Functions`. \n",
        "We illustrate this concept with the following example: \n",
        "\n",
        "consider that we need to return the number of characters of the `country` column. To do so, we define a function called `slen` which, given a string `s` as  input returns its length computed by the string function `len(s)`.\n",
        "The `udf` will be invoked on a dataframe by specifying the column(s) on which it is applied.\n",
        "\n",
        "There are different ways to define a `udf`:\n",
        "* using the `udf` class and registering it using the `register` method of the `udf` class, or\n",
        "* by preceding the function siganture with `@udf('type')` where `type` is the return type of the function\n",
        "\n",
        "We will use the second option which is syntactically simpler."
      ]
    },
    {
      "cell_type": "code",
      "metadata": {
        "application/vnd.databricks.v1+cell": {
          "title": "",
          "showTitle": false,
          "inputWidgets": {},
          "nuid": "4d9afe10-5854-49eb-b0a3-efdc63ffb658"
        },
        "id": "aNpo2qnzgpkZ"
      },
      "source": [
        "from pyspark.sql.functions import udf"
      ],
      "execution_count": null,
      "outputs": []
    },
    {
      "cell_type": "code",
      "metadata": {
        "application/vnd.databricks.v1+cell": {
          "title": "",
          "showTitle": false,
          "inputWidgets": {},
          "nuid": "90335e69-b1a1-4c6d-b941-cbf49514c283"
        },
        "id": "N_F3nIPvgpka"
      },
      "source": [
        "@udf('integer')\n",
        "def slen(s):\n",
        "  return len(s)"
      ],
      "execution_count": null,
      "outputs": []
    },
    {
      "cell_type": "code",
      "metadata": {
        "application/vnd.databricks.v1+cell": {
          "title": "",
          "showTitle": false,
          "inputWidgets": {},
          "nuid": "43b34996-900f-4ac9-a47b-864828b104bc"
        },
        "id": "PlJx7wvPgpkb"
      },
      "source": [
        "len_country = users.withColumn(\"length\",slen(\"country\"))\n",
        "len_country.show()"
      ],
      "execution_count": null,
      "outputs": []
    },
    {
      "cell_type": "markdown",
      "metadata": {
        "application/vnd.databricks.v1+cell": {
          "title": "",
          "showTitle": false,
          "inputWidgets": {},
          "nuid": "03dc5568-a5cc-4638-b8aa-ccc693e0d7fe"
        },
        "id": "qlLA6a3Lgpkc"
      },
      "source": [
        "#### Mapping ratings to categories"
      ]
    },
    {
      "cell_type": "markdown",
      "metadata": {
        "application/vnd.databricks.v1+cell": {
          "title": "",
          "showTitle": false,
          "inputWidgets": {},
          "nuid": "12803dab-65b8-409e-99ab-5feedc718fd4"
        },
        "id": "8FFEuwAXgpkd"
      },
      "source": [
        "We would like to add a textual representation of ratings such that:\n",
        "* rating <1 is converted to 'bad'\n",
        "* 1 <= rating <2 is converted to 'average'\n",
        "* 2 <= rating <3 is converted to 'good'\n",
        "* 3 <= rating is converted to 'excellent'"
      ]
    },
    {
      "cell_type": "markdown",
      "metadata": {
        "application/vnd.databricks.v1+cell": {
          "title": "",
          "showTitle": false,
          "inputWidgets": {},
          "nuid": "9e6c69be-271e-4719-8305-65984d92f678"
        },
        "id": "5cqRU9z9gpkd"
      },
      "source": [
        "#### Complete the stub of `convert_rating(note)` which maps an integer to a string based on the previous rules."
      ]
    },
    {
      "cell_type": "code",
      "metadata": {
        "application/vnd.databricks.v1+cell": {
          "title": "",
          "showTitle": false,
          "inputWidgets": {},
          "nuid": "63a6fae7-6629-40b9-bcf1-5caa8c6d16c0"
        },
        "id": "pZR8xdnWgpkd"
      },
      "source": [
        "@udf('string')\n",
        "def convert_rating(note):\n",
        "   if note<=1:\n",
        "    return \"bad\"\n",
        "   elif note <=2:\n",
        "        return \"average\"\n",
        "   elif note <=3:\n",
        "         return \"good\"\n",
        "   else:\n",
        "         return \"excellent\""
      ],
      "execution_count": null,
      "outputs": []
    },
    {
      "cell_type": "markdown",
      "metadata": {
        "application/vnd.databricks.v1+cell": {
          "title": "",
          "showTitle": false,
          "inputWidgets": {},
          "nuid": "355482e7-248f-4be2-bc01-8483cf5ad70d"
        },
        "id": "5rVVV-eGgpkd"
      },
      "source": [
        "#### Using  `convert_rating` map each `rating` to its associated category\n",
        "remplace colomne rating par convert(rating)"
      ]
    },
    {
      "cell_type": "code",
      "metadata": {
        "application/vnd.databricks.v1+cell": {
          "title": "",
          "showTitle": false,
          "inputWidgets": {},
          "nuid": "317bd996-959c-4b6d-9b73-47db95efdca8"
        },
        "id": "SV1C5IPRgpkd"
      },
      "source": [
        "text_ratings = ratings.withColumn('rating', convert_rating(col('rating')))\n",
        "text_ratings.show()"
      ],
      "execution_count": null,
      "outputs": []
    },
    {
      "cell_type": "markdown",
      "metadata": {
        "id": "Fx2MGapMRncj"
      },
      "source": [
        "### Queries with vectorized User-defined functions"
      ]
    },
    {
      "cell_type": "markdown",
      "metadata": {
        "id": "yTOhNy7sRu4q"
      },
      "source": [
        "Adopt another strategy by defining a Panda UDF for mapping rating to categories"
      ]
    },
    {
      "cell_type": "code",
      "source": [
        "@pandas_udf('string')\n",
        "def convert_rating2(notes):\n",
        "    return notes.map(lambda note: \"bad\" if note<=1 else \n",
        "                                  \"average\" if note <=2 else \n",
        "                                  \"good\" if note <=3 else \"excellent\")\n",
        "\n",
        "text_ratings = ratings.withColumn('rating', convert_rating2(\"rating\"))\n",
        "text_ratings.show()"
      ],
      "metadata": {
        "id": "wG1Wm088Ev8m"
      },
      "execution_count": null,
      "outputs": []
    },
    {
      "cell_type": "markdown",
      "metadata": {
        "application/vnd.databricks.v1+cell": {
          "title": "",
          "showTitle": false,
          "inputWidgets": {},
          "nuid": "e1638b53-4e5c-4c1f-a9ae-1ec61def1391"
        },
        "id": "lYg6Sa9ygpkd"
      },
      "source": [
        "## END"
      ]
    },
    {
      "cell_type": "code",
      "metadata": {
        "application/vnd.databricks.v1+cell": {
          "title": "",
          "showTitle": false,
          "inputWidgets": {},
          "nuid": "9a866371-f6ae-4d6c-ac38-2f67c9b68fbd"
        },
        "id": "JJ5JQqCmgpkd"
      },
      "source": [],
      "execution_count": null,
      "outputs": []
    }
  ]
}