{
  "nbformat": 4,
  "nbformat_minor": 0,
  "metadata": {
    "application/vnd.databricks.v1+notebook": {
      "notebookName": "SparkDataframe-CSV-solution",
      "dashboards": [],
      "notebookMetadata": {
        "pythonIndentUnit": 2
      },
      "language": "python",
      "widgets": {},
      "notebookOrigID": 620345572627578
    },
    "colab": {
      "name": "SparkDataframe.ipynb",
      "provenance": [],
      "collapsed_sections": [],
      "include_colab_link": true
    },
    "language_info": {
      "name": "python"
    },
    "kernelspec": {
      "name": "python3",
      "display_name": "Python 3"
    }
  },
  "cells": [
    {
      "cell_type": "markdown",
      "metadata": {
        "id": "view-in-github",
        "colab_type": "text"
      },
      "source": [
        "<a href=\"https://colab.research.google.com/github/veroorli/ProjetProg/blob/master/SparkDataframe.ipynb\" target=\"_parent\"><img src=\"https://colab.research.google.com/assets/colab-badge.svg\" alt=\"Open In Colab\"/></a>"
      ]
    },
    {
      "cell_type": "markdown",
      "metadata": {
        "application/vnd.databricks.v1+cell": {
          "title": "",
          "showTitle": false,
          "inputWidgets": {},
          "nuid": "710d6dff-49b3-4ff2-8082-441223d45842"
        },
        "id": "OyxZGhX_gpjy"
      },
      "source": [
        "* Master DAC, BDLE, 2021 \n",
        "* Author: Mohamed-Amine Baazizi\n",
        "* Affiliation: LIP6 - Faculté des Sciences - Sorbonne Université\n",
        "* Email: mohamed-amine.baazizi@lip6.fr"
      ]
    },
    {
      "cell_type": "markdown",
      "metadata": {
        "id": "IIjfFN4WiSnO"
      },
      "source": [
        "# Querying tabular  data\n",
        "\n",
        "The goal of the lab session is to formulate SQL queries in Spark.\n",
        "\n",
        "Documentation about expressing SQL using Dataframe\n",
        "* https://spark.apache.org/docs/latest/sql-programming-guide.html\n",
        "\n",
        "Documentation about the Dataframe python API:\n",
        "* https://spark.apache.org/docs/latest/api/python/reference/pyspark.sql.html\n"
      ]
    },
    {
      "cell_type": "markdown",
      "metadata": {
        "application/vnd.databricks.v1+cell": {
          "title": "",
          "showTitle": false,
          "inputWidgets": {},
          "nuid": "b15737ae-19bd-4b9f-b9f3-52388cc5e50e"
        },
        "id": "3Nuee92cjR0z"
      },
      "source": [
        "\n",
        "## Préparation"
      ]
    },
    {
      "cell_type": "markdown",
      "metadata": {
        "application/vnd.databricks.v1+cell": {
          "title": "",
          "showTitle": false,
          "inputWidgets": {},
          "nuid": "b6afe82e-35d6-4358-9b79-8f56074e0908"
        },
        "id": "hf6Ux_HLjR01"
      },
      "source": [
        "Vérifier que des ressources de calcul sont allouées à votre notebook est connecté (cf RAM  de disque indiqués en haut à droite) . Sinon cliquer sur le bouton connecter pour obtenir des ressources.\n",
        "\n",
        "\n"
      ]
    },
    {
      "cell_type": "markdown",
      "metadata": {
        "id": "NAxhSsQ7jR02"
      },
      "source": [
        "Pour accéder directement aux fichiers stockées sur votre google drive. Renseigner le code d'authentification lorsqu'il est demandé\n",
        "\n",
        "Ajuster le nom de votre dossier : MyDrive/ens/bdle/SparkDF. "
      ]
    },
    {
      "cell_type": "code",
      "metadata": {
        "colab": {
          "base_uri": "https://localhost:8080/"
        },
        "id": "c016DDPjjR02",
        "outputId": "05e13cd1-a2aa-428f-9d6a-c49c582cb571"
      },
      "source": [
        "import os\n",
        "from google.colab import drive\n",
        "drive.mount(\"/content/drive\", force_remount=True)\n",
        "\n",
        "drive_dir = \"/content/drive/MyDrive/ens/bdle/SparkDF/\"\n",
        "os.makedirs(drive_dir, exist_ok=True)\n",
        "os.listdir(drive_dir)"
      ],
      "execution_count": null,
      "outputs": [
        {
          "output_type": "stream",
          "name": "stdout",
          "text": [
            "Mounted at /content/drive\n"
          ]
        },
        {
          "output_type": "execute_result",
          "data": {
            "text/plain": [
              "['books.csv', 'ratings.csv', 'users.csv']"
            ]
          },
          "metadata": {},
          "execution_count": 182
        }
      ]
    },
    {
      "cell_type": "markdown",
      "metadata": {
        "id": "_1fRX5GwjR03"
      },
      "source": [
        "Installer pyspark et findspark :\n"
      ]
    },
    {
      "cell_type": "code",
      "metadata": {
        "id": "GKn4z6E_jR03"
      },
      "source": [
        "!pip install -q pyspark\n",
        "!pip install -q findspark"
      ],
      "execution_count": null,
      "outputs": []
    },
    {
      "cell_type": "markdown",
      "metadata": {
        "id": "PnEmOd_zOUo0"
      },
      "source": [
        "Démarrer la session spark"
      ]
    },
    {
      "cell_type": "code",
      "metadata": {
        "id": "W0ADH0J-VW7i"
      },
      "source": [
        "import os\n",
        "# !find /usr/local -name \"pyspark\"\n",
        "os.environ[\"SPARK_HOME\"] = \"/usr/local/lib/python3.7/dist-packages/pyspark\"\n",
        "os.environ[\"JAVA_HOME\"] = \"/usr\""
      ],
      "execution_count": null,
      "outputs": []
    },
    {
      "cell_type": "code",
      "metadata": {
        "id": "Q_WxQZB7TaUC",
        "colab": {
          "base_uri": "https://localhost:8080/"
        },
        "outputId": "343b0ae1-338f-4c8e-9ada-f4245bd7cc8b"
      },
      "source": [
        "# Principaux import\n",
        "import findspark\n",
        "from pyspark.sql import SparkSession \n",
        "from pyspark import SparkConf  \n",
        "\n",
        "# pour les dataframe et udf\n",
        "from pyspark.sql import *  \n",
        "from pyspark.sql.functions import *\n",
        "from pyspark.sql.types import *\n",
        "from datetime import *\n",
        "\n",
        "# pour le chronomètre\n",
        "import time\n",
        "\n",
        "# initialise les variables d'environnement pour spark\n",
        "findspark.init()\n",
        "\n",
        "# Démarrage session spark \n",
        "# --------------------------\n",
        "def demarrer_spark():\n",
        "  local = \"local[*]\"\n",
        "  appName = \"TP\"\n",
        "  configLocale = SparkConf().setAppName(appName).setMaster(local).\\\n",
        "  set(\"spark.executor.memory\", \"6G\").\\\n",
        "  set(\"spark.driver.memory\",\"6G\").\\\n",
        "  set(\"spark.sql.catalogImplementation\",\"in-memory\")\n",
        "  \n",
        "  spark = SparkSession.builder.config(conf = configLocale).getOrCreate()\n",
        "  sc = spark.sparkContext\n",
        "  sc.setLogLevel(\"ERROR\")\n",
        "  \n",
        "  spark.conf.set(\"spark.sql.autoBroadcastJoinThreshold\",\"-1\")\n",
        "\n",
        "  # On ajuste l'environnement d'exécution des requêtes à la taille du cluster (4 coeurs)\n",
        "  spark.conf.set(\"spark.sql.shuffle.partitions\",\"4\")    \n",
        "  print(\"session démarrée, son id est \", sc.applicationId)\n",
        "  return spark\n",
        "spark = demarrer_spark()"
      ],
      "execution_count": null,
      "outputs": [
        {
          "output_type": "stream",
          "name": "stdout",
          "text": [
            "session démarrée, son id est  local-1634892379491\n"
          ]
        }
      ]
    },
    {
      "cell_type": "code",
      "metadata": {
        "application/vnd.databricks.v1+cell": {
          "title": "",
          "showTitle": false,
          "inputWidgets": {},
          "nuid": "852847c4-bd45-4f9c-ae8b-2c704f389cf9"
        },
        "id": "fj9pUgrmGpLe",
        "colab": {
          "base_uri": "https://localhost:8080/"
        },
        "outputId": "3db72f62-531b-4973-8dbd-5c21d12ca6c0"
      },
      "source": [
        "# on utilise 8 partitions au lieu de 200 par défaut\n",
        "spark.conf.set(\"spark.sql.shuffle.partitions\", \"8\")\n",
        "print(\"Nombre de partitions utilisées : \", spark.conf.get(\"spark.sql.shuffle.partitions\"))"
      ],
      "execution_count": null,
      "outputs": [
        {
          "output_type": "stream",
          "name": "stdout",
          "text": [
            "Nombre de partitions utilisées :  8\n"
          ]
        }
      ]
    },
    {
      "cell_type": "markdown",
      "metadata": {
        "application/vnd.databricks.v1+cell": {
          "title": "",
          "showTitle": false,
          "inputWidgets": {},
          "nuid": "41dd8b8e-d697-4efb-a1d2-cd34a08b3e7e"
        },
        "id": "NtjUaom1_2bC"
      },
      "source": [
        "## Data loading"
      ]
    },
    {
      "cell_type": "code",
      "metadata": {
        "colab": {
          "base_uri": "https://localhost:8080/"
        },
        "id": "NnpzRKcuA9Yi",
        "outputId": "986db475-1257-4973-816a-0718e5798ccf"
      },
      "source": [
        "# URL du dossier PUBLIC_DATASET contenant des fichiers de données pour les TP\n",
        "# ---------------------------------------------------------------------------\n",
        "# en cas de problème avec le téléchargement des datasets, aller directement sur l'URL ci-dessous\n",
        "PUBLIC_DATASET_URL = \"https://nuage.lip6.fr/s/H3bpyRGgnCq2NR4\" \n",
        "PUBLIC_DATASET=PUBLIC_DATASET_URL + \"/download?path=\"\n",
        "\n",
        "print(\"URL pour les datasets \", PUBLIC_DATASET_URL)"
      ],
      "execution_count": null,
      "outputs": [
        {
          "output_type": "stream",
          "name": "stdout",
          "text": [
            "URL pour les datasets  https://nuage.lip6.fr/s/H3bpyRGgnCq2NR4\n"
          ]
        }
      ]
    },
    {
      "cell_type": "code",
      "metadata": {
        "id": "PecIszauBHx7",
        "colab": {
          "base_uri": "https://localhost:8080/"
        },
        "outputId": "f8cff1ae-3c90-4b8f-a36f-217beeb6252f"
      },
      "source": [
        "import os\n",
        "from urllib import request\n",
        "\n",
        "def load_file(file,dir):\n",
        "  if(os.path.isfile(file)):\n",
        "    print(file, \"is already stored\")\n",
        "  else:\n",
        "    url = PUBLIC_DATASET + \"/\"+ dir + \"/\" + file\n",
        "    print(\"downloading from URL: \", url, \"save in : \" + drive_dir   + file)\n",
        "    request.urlretrieve(url , drive_dir + file)\n",
        "\n",
        "load_file(\"books.csv\", \"Books\")\n",
        "load_file(\"ratings.csv\", \"Books\")\n",
        "load_file(\"users.csv\", \"Books\")\n",
        "# load_file(\"vk_001.json\", \"VKRU18\")\n",
        "\n",
        "# Liste des fichiers de IMDB\n",
        "os.listdir(drive_dir)"
      ],
      "execution_count": null,
      "outputs": [
        {
          "output_type": "stream",
          "name": "stdout",
          "text": [
            "downloading from URL:  https://nuage.lip6.fr/s/H3bpyRGgnCq2NR4/download?path=/Books/books.csv save in : /content/drive/MyDrive/ens/bdle/SparkDF/books.csv\n",
            "downloading from URL:  https://nuage.lip6.fr/s/H3bpyRGgnCq2NR4/download?path=/Books/ratings.csv save in : /content/drive/MyDrive/ens/bdle/SparkDF/ratings.csv\n",
            "downloading from URL:  https://nuage.lip6.fr/s/H3bpyRGgnCq2NR4/download?path=/Books/users.csv save in : /content/drive/MyDrive/ens/bdle/SparkDF/users.csv\n"
          ]
        },
        {
          "output_type": "execute_result",
          "data": {
            "text/plain": [
              "['books.csv', 'ratings.csv', 'users.csv']"
            ]
          },
          "metadata": {},
          "execution_count": 188
        }
      ]
    },
    {
      "cell_type": "markdown",
      "metadata": {
        "id": "cbLl2vqUjBf7"
      },
      "source": [
        "## Data description"
      ]
    },
    {
      "cell_type": "markdown",
      "metadata": {
        "application/vnd.databricks.v1+cell": {
          "title": "",
          "showTitle": false,
          "inputWidgets": {},
          "nuid": "ec582505-b110-44f0-b9b3-d300d6165d89"
        },
        "id": "9foKjTFmgpj3"
      },
      "source": [
        "We consider the Books dataset which describes books and users rating these books. The schema of this dataset is given as follows:\n",
        "\n",
        "* `Users (userid: Number, country: Text, age: Number)` \n",
        "* `Books (bookid: Number, titlewords: Number, authorwords: Number, year: Number, publisher: Number)`\n",
        "* `Ratings (userid: Number, bookid: Number, rating: Number)`\n",
        "\n",
        "In the Ratings table, userid and bookid refer to Users and Books, respectively."
      ]
    },
    {
      "cell_type": "code",
      "metadata": {
        "application/vnd.databricks.v1+cell": {
          "title": "",
          "showTitle": false,
          "inputWidgets": {},
          "nuid": "964d34b4-edbb-4e27-8a7d-b576a5c54dfe"
        },
        "id": "ABaDcJOkgpkB"
      },
      "source": [
        "#load \n",
        "users =  spark.read\\\n",
        "            .format(\"csv\").option(\"header\", \"true\")\\\n",
        "            .option(\"inferSchema\", \"true\")\\\n",
        "            .load(drive_dir +\"users.csv\")\n",
        "\n",
        "books =  spark.read\\\n",
        "            .format(\"csv\").option(\"header\", \"true\")\\\n",
        "            .option(\"inferSchema\", \"true\")\\\n",
        "            .load(drive_dir +\"books.csv\")\n",
        "\n",
        "ratings =  spark.read\\\n",
        "            .format(\"csv\").option(\"header\", \"true\")\\\n",
        "            .option(\"inferSchema\", \"true\")\\\n",
        "            .load(drive_dir +\"ratings.csv\")\n"
      ],
      "execution_count": null,
      "outputs": []
    },
    {
      "cell_type": "markdown",
      "metadata": {
        "application/vnd.databricks.v1+cell": {
          "title": "",
          "showTitle": false,
          "inputWidgets": {},
          "nuid": "2d5f3c0d-a89b-4c25-99c2-e08e15e32b27"
        },
        "id": "J3qR_5oMgpkB"
      },
      "source": [
        "Upon loading the three datasets, examine their respective schemas using these instructions:"
      ]
    },
    {
      "cell_type": "code",
      "metadata": {
        "application/vnd.databricks.v1+cell": {
          "title": "",
          "showTitle": false,
          "inputWidgets": {},
          "nuid": "ed945e02-8e8f-402c-96f9-c15a0b840769"
        },
        "colab": {
          "base_uri": "https://localhost:8080/"
        },
        "id": "VxhGQFUZgpkC",
        "outputId": "bf2e7acd-0918-4f23-f52e-0e196c39f46f"
      },
      "source": [
        "users.printSchema()\n",
        "books.printSchema()\n",
        "ratings.printSchema()"
      ],
      "execution_count": null,
      "outputs": [
        {
          "output_type": "stream",
          "name": "stdout",
          "text": [
            "root\n",
            " |-- userid: integer (nullable = true)\n",
            " |-- country: string (nullable = true)\n",
            " |-- age: integer (nullable = true)\n",
            "\n",
            "root\n",
            " |-- bookid: integer (nullable = true)\n",
            " |-- titlewords: integer (nullable = true)\n",
            " |-- authorwords: integer (nullable = true)\n",
            " |-- year: integer (nullable = true)\n",
            " |-- publisher: integer (nullable = true)\n",
            "\n",
            "root\n",
            " |-- userid: integer (nullable = true)\n",
            " |-- bookid: integer (nullable = true)\n",
            " |-- rating: integer (nullable = true)\n",
            "\n"
          ]
        }
      ]
    },
    {
      "cell_type": "markdown",
      "metadata": {
        "application/vnd.databricks.v1+cell": {
          "title": "",
          "showTitle": false,
          "inputWidgets": {},
          "nuid": "d5fc90eb-d679-4370-86e8-ccc5d96bcd38"
        },
        "id": "veWT9lXjgpkD"
      },
      "source": [
        "### Simple queries"
      ]
    },
    {
      "cell_type": "markdown",
      "metadata": {
        "application/vnd.databricks.v1+cell": {
          "title": "",
          "showTitle": false,
          "inputWidgets": {},
          "nuid": "d15540ae-f2e9-4047-9af6-d5ef82c9cedd"
        },
        "id": "dUugAxALgpkE"
      },
      "source": [
        "#### s0) Ids of users (column userid) from France. Note that country names are in lower case"
      ]
    },
    {
      "cell_type": "code",
      "metadata": {
        "application/vnd.databricks.v1+cell": {
          "title": "",
          "showTitle": false,
          "inputWidgets": {},
          "nuid": "438faaef-f85e-4aa6-acb1-b3246af80212"
        },
        "colab": {
          "base_uri": "https://localhost:8080/"
        },
        "id": "OL5GuXvZgpkE",
        "outputId": "013bd1c0-f673-4740-ee7b-af9d2c8ed901"
      },
      "source": [
        "s0 = users.select('userid').where(users.country == 'france')\n",
        "s0.count()"
      ],
      "execution_count": null,
      "outputs": [
        {
          "output_type": "execute_result",
          "data": {
            "text/plain": [
              "309"
            ]
          },
          "metadata": {},
          "execution_count": 191
        }
      ]
    },
    {
      "cell_type": "markdown",
      "metadata": {
        "application/vnd.databricks.v1+cell": {
          "title": "",
          "showTitle": false,
          "inputWidgets": {},
          "nuid": "3e71430b-3f25-4ae9-bd1c-6aecb7710cf8"
        },
        "id": "E6POqZ5NgpkF"
      },
      "source": [
        "#### s1) Ids of books (column bookid) whose publication year is 2000"
      ]
    },
    {
      "cell_type": "code",
      "metadata": {
        "application/vnd.databricks.v1+cell": {
          "title": "",
          "showTitle": false,
          "inputWidgets": {},
          "nuid": "c29152cd-346d-42ae-b45f-5b6d9375f0a7"
        },
        "colab": {
          "base_uri": "https://localhost:8080/"
        },
        "id": "zhsdGjNGgpkF",
        "outputId": "fa9f764a-5061-4f93-e5f7-5848dd7c1fc6"
      },
      "source": [
        "s1 = books.select(books.bookid).where(col('year') == 2000)\n",
        "s1.count()"
      ],
      "execution_count": null,
      "outputs": [
        {
          "output_type": "execute_result",
          "data": {
            "text/plain": [
              "3692"
            ]
          },
          "metadata": {},
          "execution_count": 192
        }
      ]
    },
    {
      "cell_type": "markdown",
      "metadata": {
        "application/vnd.databricks.v1+cell": {
          "title": "",
          "showTitle": false,
          "inputWidgets": {},
          "nuid": "87ba9e4a-1805-4043-9bbf-4b8c5354a62a"
        },
        "id": "IC_LRFFIgpkG"
      },
      "source": [
        "#### s2) Ids of books rated above 3 (>3)"
      ]
    },
    {
      "cell_type": "code",
      "metadata": {
        "application/vnd.databricks.v1+cell": {
          "title": "",
          "showTitle": false,
          "inputWidgets": {},
          "nuid": "e07ca099-9216-4582-98a3-edcf87910754"
        },
        "colab": {
          "base_uri": "https://localhost:8080/"
        },
        "id": "Hg2fP-y-gpkG",
        "outputId": "08377be7-725e-4608-aa82-29cb54da326d"
      },
      "source": [
        "s2 = ratings.select('bookid').where(col('rating') > 3).distinct()\n",
        "s2.count()"
      ],
      "execution_count": null,
      "outputs": [
        {
          "output_type": "execute_result",
          "data": {
            "text/plain": [
              "32623"
            ]
          },
          "metadata": {},
          "execution_count": 193
        }
      ]
    },
    {
      "cell_type": "markdown",
      "metadata": {
        "application/vnd.databricks.v1+cell": {
          "title": "",
          "showTitle": false,
          "inputWidgets": {},
          "nuid": "f1fac549-8efa-45b9-b670-b193607beefb"
        },
        "id": "CYjccJXigpkG"
      },
      "source": [
        "### Collecting basic statistics"
      ]
    },
    {
      "cell_type": "markdown",
      "metadata": {
        "application/vnd.databricks.v1+cell": {
          "title": "",
          "showTitle": false,
          "inputWidgets": {},
          "nuid": "86c38015-579b-4404-8f86-0eee72fe28fa"
        },
        "id": "qHH1k_vZgpkH"
      },
      "source": [
        "#### Total number of distinct users"
      ]
    },
    {
      "cell_type": "code",
      "metadata": {
        "application/vnd.databricks.v1+cell": {
          "title": "",
          "showTitle": false,
          "inputWidgets": {},
          "nuid": "10338614-e398-4513-b3dc-085f87ff8899"
        },
        "colab": {
          "base_uri": "https://localhost:8080/"
        },
        "id": "Wc-ZO1RvgpkH",
        "outputId": "9940cd22-1b53-4b94-a66b-132f8cb8eee9"
      },
      "source": [
        "users.select('userid').distinct().count()"
      ],
      "execution_count": null,
      "outputs": [
        {
          "output_type": "execute_result",
          "data": {
            "text/plain": [
              "27876"
            ]
          },
          "metadata": {},
          "execution_count": 194
        }
      ]
    },
    {
      "cell_type": "markdown",
      "metadata": {
        "application/vnd.databricks.v1+cell": {
          "title": "",
          "showTitle": false,
          "inputWidgets": {},
          "nuid": "edb67201-fd56-4ccf-aad3-b79223d1e45e"
        },
        "id": "C_LaPNWDgpkH"
      },
      "source": [
        "#### Total number of distinct  books"
      ]
    },
    {
      "cell_type": "code",
      "metadata": {
        "colab": {
          "base_uri": "https://localhost:8080/"
        },
        "id": "cvYmYP_4O48s",
        "outputId": "8de3085b-0111-4c37-c211-d86e314cc948"
      },
      "source": [
        "books.select('bookid').distinct().count()"
      ],
      "execution_count": null,
      "outputs": [
        {
          "output_type": "execute_result",
          "data": {
            "text/plain": [
              "49972"
            ]
          },
          "metadata": {},
          "execution_count": 195
        }
      ]
    },
    {
      "cell_type": "markdown",
      "metadata": {
        "application/vnd.databricks.v1+cell": {
          "title": "",
          "showTitle": false,
          "inputWidgets": {},
          "nuid": "698dea62-962f-49b4-a6ed-f75e4fe97158"
        },
        "id": "Wg8yX16kgpkJ"
      },
      "source": [
        "### Aggregation queries"
      ]
    },
    {
      "cell_type": "markdown",
      "metadata": {
        "application/vnd.databricks.v1+cell": {
          "title": "",
          "showTitle": false,
          "inputWidgets": {},
          "nuid": "8bb282e9-63fd-4966-a2f9-be82f826c201"
        },
        "id": "_NG7JZTagpkK"
      },
      "source": [
        "#### q1) Number of users per country, sorted in descending order of this number"
      ]
    },
    {
      "cell_type": "code",
      "metadata": {
        "colab": {
          "base_uri": "https://localhost:8080/"
        },
        "id": "eLnoxz1JPKNf",
        "outputId": "694c5299-e098-464c-b715-3d9b5c1d0c49"
      },
      "source": [
        "q1 = users.groupBy('country').count().orderBy(col('count').desc())\n",
        "q1.show()"
      ],
      "execution_count": null,
      "outputs": [
        {
          "output_type": "stream",
          "name": "stdout",
          "text": [
            "+--------------+-----+\n",
            "|       country|count|\n",
            "+--------------+-----+\n",
            "|           usa|18935|\n",
            "|        canada| 2505|\n",
            "|       germany| 1254|\n",
            "|       unknown| 1069|\n",
            "|united kingdom| 1019|\n",
            "|     australia|  581|\n",
            "|         spain|  518|\n",
            "|        france|  309|\n",
            "|         italy|  211|\n",
            "|      portugal|  184|\n",
            "|   switzerland|  176|\n",
            "|   netherlands|  147|\n",
            "|   new zealand|  113|\n",
            "|      malaysia|   99|\n",
            "|       austria|   97|\n",
            "|     singapore|   52|\n",
            "|        brazil|   39|\n",
            "|       finland|   38|\n",
            "|       ireland|   36|\n",
            "|   philippines|   32|\n",
            "+--------------+-----+\n",
            "only showing top 20 rows\n",
            "\n"
          ]
        }
      ]
    },
    {
      "cell_type": "markdown",
      "metadata": {
        "application/vnd.databricks.v1+cell": {
          "title": "",
          "showTitle": false,
          "inputWidgets": {},
          "nuid": "0d16d3ba-dd23-4b61-b2af-7473fca3c23d"
        },
        "id": "cYYkzA4JgpkN"
      },
      "source": [
        "##### Country who has the highest number of users, together with this number. Assume that only one country has this number."
      ]
    },
    {
      "cell_type": "code",
      "metadata": {
        "application/vnd.databricks.v1+cell": {
          "title": "",
          "showTitle": false,
          "inputWidgets": {},
          "nuid": "a02d35ff-25aa-40f0-a694-3b02157acf65"
        },
        "colab": {
          "base_uri": "https://localhost:8080/"
        },
        "id": "v8xxKW6ugpkO",
        "outputId": "834ff3a7-a5f4-4104-8c67-df22a8e18062"
      },
      "source": [
        "q11 = q1.limit(1).select(\"country\")\n",
        "q11.show()"
      ],
      "execution_count": null,
      "outputs": [
        {
          "output_type": "stream",
          "name": "stdout",
          "text": [
            "+-------+\n",
            "|country|\n",
            "+-------+\n",
            "|    usa|\n",
            "+-------+\n",
            "\n"
          ]
        }
      ]
    },
    {
      "cell_type": "markdown",
      "metadata": {
        "application/vnd.databricks.v1+cell": {
          "title": "",
          "showTitle": false,
          "inputWidgets": {},
          "nuid": "a2516bb5-2513-4ff5-a942-29fc9f6f6ba1"
        },
        "id": "eOuVlZVDgpkP"
      },
      "source": [
        "##### Year with the highest number of edited books, together with this number. Assume that only one year has this number."
      ]
    },
    {
      "cell_type": "code",
      "metadata": {
        "colab": {
          "base_uri": "https://localhost:8080/"
        },
        "id": "nQ9o1d2KQph4",
        "outputId": "68247d6c-b8aa-4631-d52e-b54d6c55d2a0"
      },
      "source": [
        "q12 = books.groupBy('year').count().orderBy(col('count').desc()).limit(1).select('year')\n",
        "q12.show()"
      ],
      "execution_count": null,
      "outputs": [
        {
          "output_type": "stream",
          "name": "stdout",
          "text": [
            "+----+\n",
            "|year|\n",
            "+----+\n",
            "|2002|\n",
            "+----+\n",
            "\n"
          ]
        }
      ]
    },
    {
      "cell_type": "markdown",
      "metadata": {
        "application/vnd.databricks.v1+cell": {
          "title": "",
          "showTitle": false,
          "inputWidgets": {},
          "nuid": "00c7051d-beb2-44e5-bb10-2271c6fbb549"
        },
        "id": "Mkh0B6gOgpkQ"
      },
      "source": [
        "#### q2) Publishers with more than ten (10) edited books, in total"
      ]
    },
    {
      "cell_type": "code",
      "metadata": {
        "application/vnd.databricks.v1+cell": {
          "title": "",
          "showTitle": false,
          "inputWidgets": {},
          "nuid": "ee653ae1-172e-4d9c-9732-f997aed74794"
        },
        "colab": {
          "base_uri": "https://localhost:8080/"
        },
        "id": "j9BO1NHigpkQ",
        "outputId": "e749a35c-5dec-43c5-e62c-c848484e9da9"
      },
      "source": [
        "q2 = books.groupBy('publisher').count().where(col('count')>10).select('publisher')\n",
        "q2.count()"
      ],
      "execution_count": null,
      "outputs": [
        {
          "output_type": "execute_result",
          "data": {
            "text/plain": [
              "501"
            ]
          },
          "metadata": {},
          "execution_count": 199
        }
      ]
    },
    {
      "cell_type": "markdown",
      "metadata": {
        "application/vnd.databricks.v1+cell": {
          "title": "",
          "showTitle": false,
          "inputWidgets": {},
          "nuid": "51df47c0-998c-4077-b0e6-0e6fb14fc017"
        },
        "id": "9c4iMlI9gpkR"
      },
      "source": [
        "#### q3) Publishers with more than five (5) edited books for each year in which they have published a book"
      ]
    },
    {
      "cell_type": "code",
      "metadata": {
        "application/vnd.databricks.v1+cell": {
          "title": "",
          "showTitle": false,
          "inputWidgets": {},
          "nuid": "fbca491c-03df-4efb-b9c2-93ea9076ca33"
        },
        "colab": {
          "base_uri": "https://localhost:8080/"
        },
        "id": "CF59lNEPgpkR",
        "outputId": "a626f0a3-f6a2-4784-ce0a-e1ed7be0d922"
      },
      "source": [
        "q3 = books.select('publisher').subtract(books.groupBy(col('publisher'), col(\"year\")).count().where(col(\"count\")<5).select('publisher'))\n",
        "q3.count()"
      ],
      "execution_count": null,
      "outputs": [
        {
          "output_type": "execute_result",
          "data": {
            "text/plain": [
              "14"
            ]
          },
          "metadata": {},
          "execution_count": 200
        }
      ]
    },
    {
      "cell_type": "markdown",
      "metadata": {
        "application/vnd.databricks.v1+cell": {
          "title": "",
          "showTitle": false,
          "inputWidgets": {},
          "nuid": "f901adfc-4aaf-41a3-8ab6-c21395fad4e5"
        },
        "id": "u5dBxG7PgpkS"
      },
      "source": [
        "#### q4) The average rating per book"
      ]
    },
    {
      "cell_type": "code",
      "metadata": {
        "colab": {
          "base_uri": "https://localhost:8080/"
        },
        "id": "qE402qgEa4wN",
        "outputId": "7fe9622f-7be1-4d7f-df58-e5b91cb29d8c"
      },
      "source": [
        "q4 = ratings.groupBy('bookid').avg('rating')\n",
        "q4.show()"
      ],
      "execution_count": null,
      "outputs": [
        {
          "output_type": "stream",
          "name": "stdout",
          "text": [
            "+------+------------------+\n",
            "|bookid|       avg(rating)|\n",
            "+------+------------------+\n",
            "|  1837|               2.5|\n",
            "|  4885|               3.0|\n",
            "| 27222|               2.0|\n",
            "| 28598|               3.0|\n",
            "| 27517|               4.0|\n",
            "|  5042|               3.0|\n",
            "|114615|              4.25|\n",
            "| 32211|2.8333333333333335|\n",
            "| 55585|               2.0|\n",
            "| 25083|3.3333333333333335|\n",
            "|225454|               5.0|\n",
            "| 66472|              2.25|\n",
            "|  3740|3.0273972602739727|\n",
            "| 66563|               3.0|\n",
            "|  7295|               5.0|\n",
            "| 39829|2.8333333333333335|\n",
            "| 21943|2.3333333333333335|\n",
            "|   820| 3.235294117647059|\n",
            "|    38| 4.043478260869565|\n",
            "|  7084|2.6206896551724137|\n",
            "+------+------------------+\n",
            "only showing top 20 rows\n",
            "\n"
          ]
        }
      ]
    },
    {
      "cell_type": "markdown",
      "metadata": {
        "application/vnd.databricks.v1+cell": {
          "title": "",
          "showTitle": false,
          "inputWidgets": {},
          "nuid": "414dd23b-0af5-4675-beb7-6a7eb05455ca"
        },
        "id": "vMJTqCy8gpkT"
      },
      "source": [
        "### Join queries"
      ]
    },
    {
      "cell_type": "markdown",
      "metadata": {
        "application/vnd.databricks.v1+cell": {
          "title": "",
          "showTitle": false,
          "inputWidgets": {},
          "nuid": "81656482-354d-4c95-8699-743b4bc74829"
        },
        "id": "jpqq7AKfgpkT"
      },
      "source": [
        "#### q5) The publishers of books rated by users living in France"
      ]
    },
    {
      "cell_type": "code",
      "metadata": {
        "application/vnd.databricks.v1+cell": {
          "title": "",
          "showTitle": false,
          "inputWidgets": {},
          "nuid": "a88ee3ab-92ab-4378-80be-c75fa14edaf3"
        },
        "colab": {
          "base_uri": "https://localhost:8080/"
        },
        "id": "ZsSn-8QxgpkU",
        "outputId": "8de4fd0e-552c-42d0-9561-b48e658949df"
      },
      "source": [
        "q5 = users.join(ratings, 'userid').where(col('country') == 'france').join(books, 'bookid').select('publisher').distinct()\n",
        "q5.count()"
      ],
      "execution_count": null,
      "outputs": [
        {
          "output_type": "execute_result",
          "data": {
            "text/plain": [
              "339"
            ]
          },
          "metadata": {},
          "execution_count": 202
        }
      ]
    },
    {
      "cell_type": "markdown",
      "metadata": {
        "application/vnd.databricks.v1+cell": {
          "title": "",
          "showTitle": false,
          "inputWidgets": {},
          "nuid": "6c57761f-6395-492b-ab4b-4ef64a8fda6a"
        },
        "id": "pHmyULZPgpkU"
      },
      "source": [
        "#### q6) The publishers of books which were never rated by users living in France"
      ]
    },
    {
      "cell_type": "code",
      "metadata": {
        "colab": {
          "base_uri": "https://localhost:8080/"
        },
        "id": "jvwCxPAldwal",
        "outputId": "e38ac46f-25fb-4d30-9cb9-93c1035dd16a"
      },
      "source": [
        "q6 = books.select('publisher').subtract(q5)\n",
        "q6.count()"
      ],
      "execution_count": null,
      "outputs": [
        {
          "output_type": "execute_result",
          "data": {
            "text/plain": [
              "3236"
            ]
          },
          "metadata": {},
          "execution_count": 203
        }
      ]
    },
    {
      "cell_type": "markdown",
      "metadata": {
        "application/vnd.databricks.v1+cell": {
          "title": "",
          "showTitle": false,
          "inputWidgets": {},
          "nuid": "4c0d19bd-069a-4165-9071-0b5de264969c"
        },
        "id": "aM3wdMxugpkV"
      },
      "source": [
        "### Queries using built-in functions"
      ]
    },
    {
      "cell_type": "markdown",
      "metadata": {
        "application/vnd.databricks.v1+cell": {
          "title": "",
          "showTitle": false,
          "inputWidgets": {},
          "nuid": "7ef47781-b20a-4002-b367-3ce098e129b1"
        },
        "id": "6WYWxoStgpkV"
      },
      "source": [
        "The Spark API contains many useful built-in functions that can be directly invoked on a dataframe. These are documented:\n",
        "* https://spark.apache.org/docs/latest/api/python/reference/pyspark.sql.html#functions\n",
        "\n",
        "The goal of this section is two use some of these functions to compute the Jaccard Similarity between users based on the books they rated.\n",
        "To do so, we need to collect, for each pair of users (u1,u2), the sets of books they have rated, eg. [b1, ..., bn] for u1 and [b'1, ...,b'm] for u2, than apply the similarity formulae explained in https://en.wikipedia.org/wiki/Jaccard_index, that is, dividing the intersection of the sets of books by the union of these sets.\n",
        "\n",
        "$$sim(u1,u2) = |([b_1, ..., b_n] \\cap [b'_1, ...,b'_m]) /  ([b_1, ..., b_n] \\cup [b'_1, ...,b'_m])|$$\n",
        "\n",
        "**Note. Due to the potential high cost for computing the cross-product between all users, we restrict to users of France.**"
      ]
    },
    {
      "cell_type": "markdown",
      "metadata": {
        "application/vnd.databricks.v1+cell": {
          "title": "",
          "showTitle": false,
          "inputWidgets": {},
          "nuid": "e102d560-ec9f-47ef-8fe2-2cf5b9ff2690"
        },
        "id": "Y3a3XqofgpkV"
      },
      "source": [
        "#### create a df with ratings restricted to users of 'france' ."
      ]
    },
    {
      "cell_type": "code",
      "metadata": {
        "application/vnd.databricks.v1+cell": {
          "title": "",
          "showTitle": false,
          "inputWidgets": {},
          "nuid": "6f93fcd9-ae77-426c-91fb-4afb221195ab"
        },
        "colab": {
          "base_uri": "https://localhost:8080/"
        },
        "id": "-Fl-K1a2gpkV",
        "outputId": "5b0a6ec4-6269-4335-bff1-928b71f16679"
      },
      "source": [
        "users_fr = users.where(\"country = 'france'\")\n",
        "users_fr.count()"
      ],
      "execution_count": null,
      "outputs": [
        {
          "output_type": "execute_result",
          "data": {
            "text/plain": [
              "309"
            ]
          },
          "metadata": {},
          "execution_count": 204
        }
      ]
    },
    {
      "cell_type": "code",
      "metadata": {
        "application/vnd.databricks.v1+cell": {
          "title": "",
          "showTitle": false,
          "inputWidgets": {},
          "nuid": "f13dc53a-0bd7-4857-a687-0f27da72a62d"
        },
        "colab": {
          "base_uri": "https://localhost:8080/"
        },
        "id": "q4J6zGhzgpkW",
        "outputId": "5eb0915c-ebc1-4b96-a749-dbb82c69a3b7"
      },
      "source": [
        "ratings_fr = ratings.join(users_fr,\"userid\")\n",
        "ratings_fr.count()"
      ],
      "execution_count": null,
      "outputs": [
        {
          "output_type": "execute_result",
          "data": {
            "text/plain": [
              "2423"
            ]
          },
          "metadata": {},
          "execution_count": 205
        }
      ]
    },
    {
      "cell_type": "markdown",
      "metadata": {
        "application/vnd.databricks.v1+cell": {
          "title": "",
          "showTitle": false,
          "inputWidgets": {},
          "nuid": "fd2c2a51-86fa-4dcd-9031-c34f229afa7e"
        },
        "id": "NycL5PvegpkW"
      },
      "source": [
        "**In this part, users always refers to users of France **"
      ]
    },
    {
      "cell_type": "markdown",
      "metadata": {
        "application/vnd.databricks.v1+cell": {
          "title": "",
          "showTitle": false,
          "inputWidgets": {},
          "nuid": "5c70c665-c8f7-47fa-b5d8-4eb7d9924856"
        },
        "id": "3_LWCeNfgpkW"
      },
      "source": [
        "#### create a dataframe obtained by collecting, for each user, the set of rated books. \n",
        "Hint. group bookids per user than use a built-in function that creates an array from the grouped bookids (examine the schema)"
      ]
    },
    {
      "cell_type": "code",
      "metadata": {
        "application/vnd.databricks.v1+cell": {
          "title": "",
          "showTitle": false,
          "inputWidgets": {},
          "nuid": "1f4a35c4-614d-49e6-b1e3-4dc5a09afcf7"
        },
        "id": "U7vbsI_igpkW"
      },
      "source": [
        "from pyspark.sql.functions import collect_list "
      ],
      "execution_count": null,
      "outputs": []
    },
    {
      "cell_type": "code",
      "metadata": {
        "application/vnd.databricks.v1+cell": {
          "title": "",
          "showTitle": false,
          "inputWidgets": {},
          "nuid": "28e91bc4-bb9e-4ea1-8cdd-7ec56b557c42"
        },
        "id": "CMlWke-kgpkX",
        "colab": {
          "base_uri": "https://localhost:8080/"
        },
        "outputId": "1c47bf3c-10f0-4f1e-f9e9-66097d499a4b"
      },
      "source": [
        "users_books = ratings_fr.groupBy('userid').agg(collect_list('bookid').alias('set_bookid'))\n",
        "users_books.show()"
      ],
      "execution_count": null,
      "outputs": [
        {
          "output_type": "stream",
          "name": "stdout",
          "text": [
            "+------+--------------------+\n",
            "|userid|          set_bookid|\n",
            "+------+--------------------+\n",
            "|   643|[802, 15659, 814,...|\n",
            "|  2549|        [3220, 3219]|\n",
            "|  2906|        [3522, 3523]|\n",
            "|  3088|        [3664, 3663]|\n",
            "|  5158|   [5645, 5643, 728]|\n",
            "|  5208|        [5681, 5687]|\n",
            "|  5644|        [6270, 6271]|\n",
            "|  6445|              [7219]|\n",
            "|  7720|        [8757, 8758]|\n",
            "|  8890|[21845, 10130, 15...|\n",
            "| 11881|             [12729]|\n",
            "| 13735| [1384, 5431, 14447]|\n",
            "| 13867|[7768, 14549, 145...|\n",
            "| 14638|[27033, 7190, 270...|\n",
            "| 15922|[28704, 28711, 28...|\n",
            "| 16989|              [6101]|\n",
            "| 17054|[33325, 1639, 33326]|\n",
            "| 17789|[33891, 33915, 21...|\n",
            "| 18309|[208, 8197, 1633,...|\n",
            "| 20656|             [37557]|\n",
            "+------+--------------------+\n",
            "only showing top 20 rows\n",
            "\n"
          ]
        }
      ]
    },
    {
      "cell_type": "markdown",
      "metadata": {
        "application/vnd.databricks.v1+cell": {
          "title": "",
          "showTitle": false,
          "inputWidgets": {},
          "nuid": "fbca6f28-b675-45db-91bf-502bd38ed629"
        },
        "id": "izfXutvJgpkX"
      },
      "source": [
        "#### create a dataframe containing pairs of distinct users with their rated books.\n",
        "Hint. You need to rename the dataframe columns."
      ]
    },
    {
      "cell_type": "code",
      "metadata": {
        "application/vnd.databricks.v1+cell": {
          "title": "",
          "showTitle": false,
          "inputWidgets": {},
          "nuid": "194551fd-05e9-417a-bc1c-bcdc2ba4a1a5"
        },
        "id": "pUAboFkdgpkX",
        "colab": {
          "base_uri": "https://localhost:8080/"
        },
        "outputId": "ec9a777a-c6e2-4391-dac8-8414d0ae3f8c"
      },
      "source": [
        "pair_users_books = users_books.crossJoin(users_books.select(col('userid').alias('userid2'), col('set_bookid').alias('set_bookid2'))).where((col('userid') != col('userid2')) & (col('userid') < col('userid2')))\\\n",
        ".select(struct(col('userid'), col('userid2')).alias('usersid'), col('set_bookid'), col('set_bookid2'))\n",
        "\n",
        "pair_users_books.show()"
      ],
      "execution_count": null,
      "outputs": [
        {
          "output_type": "stream",
          "name": "stdout",
          "text": [
            "+------------+--------------------+--------------------+\n",
            "|     usersid|          set_bookid|         set_bookid2|\n",
            "+------------+--------------------+--------------------+\n",
            "| {643, 2906}|[802, 15659, 814,...|        [3522, 3523]|\n",
            "| {643, 5158}|[802, 15659, 814,...|   [5645, 5643, 728]|\n",
            "| {643, 5208}|[802, 15659, 814,...|        [5681, 5687]|\n",
            "| {643, 5644}|[802, 15659, 814,...|        [6270, 6271]|\n",
            "|{643, 11881}|[802, 15659, 814,...|             [12729]|\n",
            "|{643, 13735}|[802, 15659, 814,...| [1384, 5431, 14447]|\n",
            "|{643, 13867}|[802, 15659, 814,...|[7768, 14549, 145...|\n",
            "|{643, 16989}|[802, 15659, 814,...|              [6101]|\n",
            "|{643, 17054}|[802, 15659, 814,...|[33325, 1639, 33326]|\n",
            "|{643, 17789}|[802, 15659, 814,...|[33891, 33915, 21...|\n",
            "|{643, 18309}|[802, 15659, 814,...|[208, 8197, 1633,...|\n",
            "|{643, 22296}|[802, 15659, 814,...|[39500, 33912, 39...|\n",
            "|{643, 24717}|[802, 15659, 814,...|      [43571, 44088]|\n",
            "|{643, 25466}|[802, 15659, 814,...|[21642, 45349, 56...|\n",
            "|{643, 26443}|[802, 15659, 814,...|[1622, 46810, 187...|\n",
            "|{643, 27762}|[802, 15659, 814,...|              [5687]|\n",
            "|{643, 29372}|[802, 15659, 814,...|     [55610, 242508]|\n",
            "|{643, 35179}|[802, 15659, 814,...|[67119, 37369, 3782]|\n",
            "|{643, 37527}|[802, 15659, 814,...|[1228, 7292, 7352...|\n",
            "|{643, 40620}|[802, 15659, 814,...|             [80797]|\n",
            "+------------+--------------------+--------------------+\n",
            "only showing top 20 rows\n",
            "\n"
          ]
        }
      ]
    },
    {
      "cell_type": "code",
      "metadata": {
        "colab": {
          "base_uri": "https://localhost:8080/"
        },
        "id": "PtFQ9C4JHsOG",
        "outputId": "63f9fb72-f6e1-4330-de74-4a69bdb3bfc9"
      },
      "source": [
        "pair_users_books.printSchema()"
      ],
      "execution_count": null,
      "outputs": [
        {
          "output_type": "stream",
          "name": "stdout",
          "text": [
            "root\n",
            " |-- usersid: struct (nullable = false)\n",
            " |    |-- userid: integer (nullable = true)\n",
            " |    |-- userid2: integer (nullable = true)\n",
            " |-- set_bookid: array (nullable = false)\n",
            " |    |-- element: integer (containsNull = false)\n",
            " |-- set_bookid2: array (nullable = false)\n",
            " |    |-- element: integer (containsNull = false)\n",
            "\n"
          ]
        }
      ]
    },
    {
      "cell_type": "markdown",
      "metadata": {
        "application/vnd.databricks.v1+cell": {
          "title": "",
          "showTitle": false,
          "inputWidgets": {},
          "nuid": "39964457-c634-4122-a528-08c164c19c7b"
        },
        "id": "HoWOEuRHgpkX"
      },
      "source": [
        "#### compute the Jaccard similarity and leave only pairs of books with a non-zero similarity"
      ]
    },
    {
      "cell_type": "code",
      "metadata": {
        "application/vnd.databricks.v1+cell": {
          "title": "",
          "showTitle": false,
          "inputWidgets": {},
          "nuid": "d78be2f7-616d-492b-b01b-9ef1482a0660"
        },
        "id": "s0SPGJKDgpkY"
      },
      "source": [
        "from pyspark.sql.functions import array_intersect, array_union, size"
      ],
      "execution_count": null,
      "outputs": []
    },
    {
      "cell_type": "code",
      "metadata": {
        "colab": {
          "base_uri": "https://localhost:8080/"
        },
        "id": "XaIRjOdtG2G5",
        "outputId": "811fa0fe-2551-4762-97da-ee9d67ae3e3c"
      },
      "source": [
        "jaccard_sim = pair_users_books.withColumn('sim', size(array_intersect(col('set_bookid'),col('set_bookid2')))/size(array_union(col('set_bookid'), col('set_bookid2')))).where(col('sim') > 0).select('usersid.userid', 'usersid.userid2', 'sim').orderBy(col('sim').desc())\n",
        "jaccard_sim.show()"
      ],
      "execution_count": null,
      "outputs": [
        {
          "output_type": "stream",
          "name": "stdout",
          "text": [
            "+------+-------+------------------+\n",
            "|userid|userid2|               sim|\n",
            "+------+-------+------------------+\n",
            "| 72211| 268945|               1.0|\n",
            "|223612| 277660|               0.5|\n",
            "|155585| 187587|               0.5|\n",
            "|  2549|  95895|               0.5|\n",
            "|  2549| 115259|               0.5|\n",
            "|  7720| 223612|               0.5|\n",
            "|115259| 225340|               0.5|\n",
            "|  5644| 187754|               0.5|\n",
            "|252405| 274882|               0.5|\n",
            "| 93263| 133057|               0.5|\n",
            "| 48698| 159394|               0.5|\n",
            "|  5208|  27762|               0.5|\n",
            "| 48698| 252405|               0.5|\n",
            "| 13867| 263926|               0.5|\n",
            "|  6445| 188133|               0.5|\n",
            "|170158| 255405|               0.4|\n",
            "| 34908| 271681|             0.375|\n",
            "|  4260| 197685|0.3333333333333333|\n",
            "| 24717|  93263|0.3333333333333333|\n",
            "|159394| 252405|0.3333333333333333|\n",
            "+------+-------+------------------+\n",
            "only showing top 20 rows\n",
            "\n"
          ]
        }
      ]
    },
    {
      "cell_type": "code",
      "metadata": {
        "application/vnd.databricks.v1+cell": {
          "title": "",
          "showTitle": false,
          "inputWidgets": {},
          "nuid": "610ca5b1-c7ee-492a-9780-4cf6bccaebe7"
        },
        "colab": {
          "base_uri": "https://localhost:8080/"
        },
        "id": "IgDPCTQcgpkY",
        "outputId": "eed878eb-d871-495a-f9ec-d360ca817975"
      },
      "source": [
        "jaccard_sim.count()"
      ],
      "execution_count": null,
      "outputs": [
        {
          "output_type": "execute_result",
          "data": {
            "text/plain": [
              "2023"
            ]
          },
          "metadata": {},
          "execution_count": 259
        }
      ]
    },
    {
      "cell_type": "markdown",
      "metadata": {
        "application/vnd.databricks.v1+cell": {
          "title": "",
          "showTitle": false,
          "inputWidgets": {},
          "nuid": "d0084307-fb8a-409f-bda3-d05647c0e23a"
        },
        "id": "1lBtuiQugpkZ"
      },
      "source": [
        "### Queries with User-defined functions"
      ]
    },
    {
      "cell_type": "markdown",
      "metadata": {
        "application/vnd.databricks.v1+cell": {
          "title": "",
          "showTitle": false,
          "inputWidgets": {},
          "nuid": "801f2d7c-95d9-4378-a911-7611c026193a"
        },
        "id": "XR6dsVMVgpkZ"
      },
      "source": [
        "Spark allows users to define specific functions called `User-Defined Functions`. \n",
        "We illustrate this concept with the following example: \n",
        "\n",
        "consider that we need to return the number of characters of the `country` column. To do so, we define a function called `slen` which, given a string `s` as  input returns its length computed by the string function `len(s)`.\n",
        "The `udf` will be invoked on a dataframe by specifying the column(s) on which it is applied.\n",
        "\n",
        "There are different ways to define a `udf`:\n",
        "* using the `udf` class and registering it using the `register` method of the `udf` class, or\n",
        "* by preceding the function siganture with `@udf('type')` where `type` is the return type of the function\n",
        "\n",
        "We will use the second option which is syntactically simpler."
      ]
    },
    {
      "cell_type": "code",
      "metadata": {
        "application/vnd.databricks.v1+cell": {
          "title": "",
          "showTitle": false,
          "inputWidgets": {},
          "nuid": "4d9afe10-5854-49eb-b0a3-efdc63ffb658"
        },
        "id": "aNpo2qnzgpkZ"
      },
      "source": [
        "from pyspark.sql.functions import udf"
      ],
      "execution_count": null,
      "outputs": []
    },
    {
      "cell_type": "code",
      "metadata": {
        "application/vnd.databricks.v1+cell": {
          "title": "",
          "showTitle": false,
          "inputWidgets": {},
          "nuid": "90335e69-b1a1-4c6d-b941-cbf49514c283"
        },
        "id": "N_F3nIPvgpka"
      },
      "source": [
        "@udf('integer')\n",
        "def slen(s):\n",
        "  return len(s)"
      ],
      "execution_count": null,
      "outputs": []
    },
    {
      "cell_type": "code",
      "metadata": {
        "application/vnd.databricks.v1+cell": {
          "title": "",
          "showTitle": false,
          "inputWidgets": {},
          "nuid": "43b34996-900f-4ac9-a47b-864828b104bc"
        },
        "colab": {
          "base_uri": "https://localhost:8080/"
        },
        "id": "PlJx7wvPgpkb",
        "outputId": "9432904a-347d-403c-b8c2-bd4408b2333a"
      },
      "source": [
        "len_country = users.withColumn(\"length\",slen(\"country\"))\n",
        "len_country.show()"
      ],
      "execution_count": null,
      "outputs": [
        {
          "output_type": "stream",
          "name": "stdout",
          "text": [
            "+------+--------------+---+------+\n",
            "|userid|       country|age|length|\n",
            "+------+--------------+---+------+\n",
            "|100004|           usa|  0|     3|\n",
            "|100009|        canada| 49|     6|\n",
            "| 10001|           usa| 47|     3|\n",
            "|100029|       germany|  0|     7|\n",
            "| 10003|           usa| 20|     3|\n",
            "|100035|        canada|  0|     6|\n",
            "|100043|           usa| 36|     3|\n",
            "|100046|           usa| 14|     3|\n",
            "|100053|           usa| 31|     3|\n",
            "|100066|           usa| 26|     3|\n",
            "|100088|united kingdom| 26|    14|\n",
            "|100094|        canada|  0|     6|\n",
            "|100098|           usa|  0|     3|\n",
            "|100115|           usa| 42|     3|\n",
            "|100119|           usa| 27|     3|\n",
            "|100121|           usa| 47|     3|\n",
            "|100131|           usa| 16|     3|\n",
            "|100164|       germany|  0|     7|\n",
            "|100167|           usa| 28|     3|\n",
            "|100176|     australia|  0|     9|\n",
            "+------+--------------+---+------+\n",
            "only showing top 20 rows\n",
            "\n"
          ]
        }
      ]
    },
    {
      "cell_type": "markdown",
      "metadata": {
        "application/vnd.databricks.v1+cell": {
          "title": "",
          "showTitle": false,
          "inputWidgets": {},
          "nuid": "03dc5568-a5cc-4638-b8aa-ccc693e0d7fe"
        },
        "id": "qlLA6a3Lgpkc"
      },
      "source": [
        "#### Mapping ratings to categories"
      ]
    },
    {
      "cell_type": "markdown",
      "metadata": {
        "application/vnd.databricks.v1+cell": {
          "title": "",
          "showTitle": false,
          "inputWidgets": {},
          "nuid": "12803dab-65b8-409e-99ab-5feedc718fd4"
        },
        "id": "8FFEuwAXgpkd"
      },
      "source": [
        "We would like to add a textual representation of ratings such that:\n",
        "* rating <1 is converted to 'bad'\n",
        "* 1 <= rating <2 is converted to 'average'\n",
        "* 2 <= rating <3 is converted to 'good'\n",
        "* 3 <= rating is converted to 'excellent'"
      ]
    },
    {
      "cell_type": "markdown",
      "metadata": {
        "application/vnd.databricks.v1+cell": {
          "title": "",
          "showTitle": false,
          "inputWidgets": {},
          "nuid": "9e6c69be-271e-4719-8305-65984d92f678"
        },
        "id": "5cqRU9z9gpkd"
      },
      "source": [
        "#### Complete the stub of `convert_rating(note)` which maps an integer to a string based on the previous rules."
      ]
    },
    {
      "cell_type": "code",
      "metadata": {
        "application/vnd.databricks.v1+cell": {
          "title": "",
          "showTitle": false,
          "inputWidgets": {},
          "nuid": "63a6fae7-6629-40b9-bcf1-5caa8c6d16c0"
        },
        "id": "pZR8xdnWgpkd"
      },
      "source": [
        "@udf('string')\n",
        "def convert_rating(note):\n",
        "   if note<=1:\n",
        "    return \"bad\"\n",
        "   elif note <=2:\n",
        "        return \"average\"\n",
        "   elif note <=3:\n",
        "         return \"good\"\n",
        "   else:\n",
        "         return \"excellent\""
      ],
      "execution_count": null,
      "outputs": []
    },
    {
      "cell_type": "markdown",
      "metadata": {
        "application/vnd.databricks.v1+cell": {
          "title": "",
          "showTitle": false,
          "inputWidgets": {},
          "nuid": "355482e7-248f-4be2-bc01-8483cf5ad70d"
        },
        "id": "5rVVV-eGgpkd"
      },
      "source": [
        "#### Using  `convert_rating` map each `rating` to its associated category"
      ]
    },
    {
      "cell_type": "code",
      "metadata": {
        "application/vnd.databricks.v1+cell": {
          "title": "",
          "showTitle": false,
          "inputWidgets": {},
          "nuid": "317bd996-959c-4b6d-9b73-47db95efdca8"
        },
        "colab": {
          "base_uri": "https://localhost:8080/"
        },
        "id": "SV1C5IPRgpkd",
        "outputId": "7356455f-636a-4816-a6ea-626301f45b90"
      },
      "source": [
        "text_ratings = ratings.withColumn('rating', convert_rating(col('rating')))\n",
        "text_ratings.show()"
      ],
      "execution_count": null,
      "outputs": [
        {
          "output_type": "stream",
          "name": "stdout",
          "text": [
            "+------+------+---------+\n",
            "|userid|bookid|   rating|\n",
            "+------+------+---------+\n",
            "|276747|  4780|excellent|\n",
            "|276747|  1837|excellent|\n",
            "|276747|  6277|     good|\n",
            "|276762|  7819|      bad|\n",
            "|276762|  4885|     good|\n",
            "|276772| 27222|  average|\n",
            "|276772| 33829|excellent|\n",
            "|276772| 83629|excellent|\n",
            "|276786|246867|     good|\n",
            "|276786|117697|  average|\n",
            "|276788|  2239|     good|\n",
            "|276788|  5507|  average|\n",
            "|276788| 19993|excellent|\n",
            "|276798|118271|      bad|\n",
            "|276798| 82229|  average|\n",
            "|276798|  3218|  average|\n",
            "|276813| 28598|     good|\n",
            "|276813| 76828|     good|\n",
            "|276813|164425|  average|\n",
            "|276813| 95317|  average|\n",
            "+------+------+---------+\n",
            "only showing top 20 rows\n",
            "\n"
          ]
        }
      ]
    },
    {
      "cell_type": "markdown",
      "metadata": {
        "id": "Fx2MGapMRncj"
      },
      "source": [
        "### Queries with vectorized User-defined functions"
      ]
    },
    {
      "cell_type": "markdown",
      "metadata": {
        "id": "yTOhNy7sRu4q"
      },
      "source": [
        "Adopt another strategy by defining a Panda UDF for mapping rating to categories"
      ]
    },
    {
      "cell_type": "code",
      "metadata": {
        "colab": {
          "base_uri": "https://localhost:8080/"
        },
        "id": "NNM_7v8ZKemt",
        "outputId": "89417afb-7e40-405a-fa12-cba2b2772d4e"
      },
      "source": [
        "@pandas_udf('string')\n",
        "def convert_rating2(notes):\n",
        "    return notes.map(lambda note: \"bad\" if note<=1 else \n",
        "                                  \"average\" if note <=2 else \n",
        "                                  \"good\" if note <=3 else \"excellent\")\n",
        "\n",
        "text_ratings = ratings.withColumn('rating', convert_rating2(\"rating\"))\n",
        "text_ratings.show()"
      ],
      "execution_count": null,
      "outputs": [
        {
          "output_type": "stream",
          "name": "stdout",
          "text": [
            "+------+------+---------+\n",
            "|userid|bookid|   rating|\n",
            "+------+------+---------+\n",
            "|276747|  4780|excellent|\n",
            "|276747|  1837|excellent|\n",
            "|276747|  6277|     good|\n",
            "|276762|  7819|      bad|\n",
            "|276762|  4885|     good|\n",
            "|276772| 27222|  average|\n",
            "|276772| 33829|excellent|\n",
            "|276772| 83629|excellent|\n",
            "|276786|246867|     good|\n",
            "|276786|117697|  average|\n",
            "|276788|  2239|     good|\n",
            "|276788|  5507|  average|\n",
            "|276788| 19993|excellent|\n",
            "|276798|118271|      bad|\n",
            "|276798| 82229|  average|\n",
            "|276798|  3218|  average|\n",
            "|276813| 28598|     good|\n",
            "|276813| 76828|     good|\n",
            "|276813|164425|  average|\n",
            "|276813| 95317|  average|\n",
            "+------+------+---------+\n",
            "only showing top 20 rows\n",
            "\n"
          ]
        }
      ]
    },
    {
      "cell_type": "markdown",
      "metadata": {
        "application/vnd.databricks.v1+cell": {
          "title": "",
          "showTitle": false,
          "inputWidgets": {},
          "nuid": "e1638b53-4e5c-4c1f-a9ae-1ec61def1391"
        },
        "id": "lYg6Sa9ygpkd"
      },
      "source": [
        "## END"
      ]
    },
    {
      "cell_type": "code",
      "metadata": {
        "application/vnd.databricks.v1+cell": {
          "title": "",
          "showTitle": false,
          "inputWidgets": {},
          "nuid": "9a866371-f6ae-4d6c-ac38-2f67c9b68fbd"
        },
        "id": "JJ5JQqCmgpkd"
      },
      "source": [
        ""
      ],
      "execution_count": null,
      "outputs": []
    }
  ]
}