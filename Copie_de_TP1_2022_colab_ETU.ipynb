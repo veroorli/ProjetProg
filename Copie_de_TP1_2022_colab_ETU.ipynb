{
  "nbformat": 4,
  "nbformat_minor": 0,
  "metadata": {
    "application/vnd.databricks.v1+notebook": {
      "notebookName": "PROJET 2021 SUJET SEUL",
      "dashboards": [
        {
          "elements": [
            {
              "elementNUID": "4916b307-fb50-46f6-a51b-d5496ba229a5",
              "guid": "0544755f-8046-413c-8de2-96b5ba9cde0a",
              "options": null,
              "position": {
                "x": 0,
                "y": 30,
                "height": 1,
                "width": 12,
                "z": null
              },
              "elementType": "command"
            },
            {
              "elementNUID": "93fd1b8c-937f-41f1-88b8-704a5225af12",
              "guid": "1e2aacd3-80ac-42fc-858a-aa6ccf4d1aa1",
              "options": null,
              "position": {
                "x": 0,
                "y": 73,
                "height": 1,
                "width": 12,
                "z": null
              },
              "elementType": "command"
            },
            {
              "elementNUID": "047d52a6-482e-46d9-82c8-d3d85dc7f3ed",
              "guid": "205f0675-4075-4f6d-9ed5-dbe9f2adc9ab",
              "options": null,
              "position": {
                "x": 0,
                "y": 46,
                "height": 6,
                "width": 12,
                "z": null
              },
              "elementType": "command"
            },
            {
              "elementNUID": "51093e36-41d7-45bc-9ac9-538d0ad06cdf",
              "guid": "2f4a2f92-9f7e-463a-853d-28c94fba80e0",
              "options": null,
              "position": {
                "x": 0,
                "y": 53,
                "height": 6,
                "width": 12,
                "z": null
              },
              "elementType": "command"
            },
            {
              "elementNUID": "6fc95d51-5cac-46df-9184-c0a154f0f38c",
              "guid": "4dd6a8a2-ddd5-4d2b-ae85-ba590ba4055c",
              "options": null,
              "position": {
                "x": 0,
                "y": 111,
                "height": 2,
                "width": 12,
                "z": null
              },
              "elementType": "command"
            },
            {
              "elementNUID": "9582d65f-6ff6-4001-aae8-6d354db1567b",
              "guid": "641778b4-ec91-481c-bdc2-d3f6b2e48066",
              "options": null,
              "position": {
                "x": 0,
                "y": 59,
                "height": 1,
                "width": 12,
                "z": null
              },
              "elementType": "command"
            },
            {
              "elementNUID": "aafa7653-49a3-4915-b212-94bf433f313b",
              "guid": "669a6cbd-94f8-444d-bb5a-ddd090c622a7",
              "options": null,
              "position": {
                "x": 0,
                "y": 60,
                "height": 6,
                "width": 12,
                "z": null
              },
              "elementType": "command"
            },
            {
              "elementNUID": "23530f5e-191f-4476-a042-89462af08bf0",
              "guid": "66eaa8c3-2337-45ad-ab9b-64116af586b8",
              "options": null,
              "position": {
                "x": 0,
                "y": 105,
                "height": 6,
                "width": 12,
                "z": null
              },
              "elementType": "command"
            },
            {
              "elementNUID": "cb9b4b91-d7a4-4d6f-b8fd-4f81069ee9bb",
              "guid": "715e0bbb-14c1-4aa9-9894-0e894c449882",
              "options": null,
              "position": {
                "x": 0,
                "y": 7,
                "height": 1,
                "width": 12,
                "z": null
              },
              "elementType": "command"
            },
            {
              "elementNUID": "416e4ed6-56f4-44b6-97bc-95d31da350fe",
              "guid": "75067b7c-9df9-4554-99ca-19999c84ef2f",
              "options": null,
              "position": {
                "x": 0,
                "y": 52,
                "height": 1,
                "width": 12,
                "z": null
              },
              "elementType": "command"
            },
            {
              "elementNUID": "b15737ae-19bd-4b9f-b9f3-52388cc5e50e",
              "guid": "846b7c1d-f1d1-4aa6-b3aa-94cb6d065d1a",
              "options": null,
              "position": {
                "x": 0,
                "y": 3,
                "height": 2,
                "width": 12,
                "z": null
              },
              "elementType": "command"
            },
            {
              "elementNUID": "79374715-17c6-42ea-80b5-f34359f79709",
              "guid": "867fb6bf-585e-4c58-b51c-8495ea2785f2",
              "options": null,
              "position": {
                "x": 0,
                "y": 29,
                "height": 1,
                "width": 12,
                "z": null
              },
              "elementType": "command"
            },
            {
              "elementNUID": "1d712ef6-68d6-4f23-a1dd-3cf94b8813c4",
              "guid": "8ef2f82e-9863-4d96-9bb6-bd7aab7dcac5",
              "options": null,
              "position": {
                "x": 0,
                "y": 80,
                "height": 1,
                "width": 12,
                "z": null
              },
              "elementType": "command"
            },
            {
              "elementNUID": "9b13d583-eac5-414c-b544-43024c76c144",
              "guid": "94043a3f-089a-4cde-9ea5-349a745dad4f",
              "options": null,
              "position": {
                "x": 0,
                "y": 8,
                "height": 1,
                "width": 12,
                "z": null
              },
              "elementType": "command"
            },
            {
              "elementNUID": "0b6b45b2-632b-43dd-a8e2-4ef427ebce3d",
              "guid": "940febd0-c519-4b91-9fec-4e960bbe7760",
              "options": null,
              "position": {
                "x": 0,
                "y": 44,
                "height": 2,
                "width": 12,
                "z": null
              },
              "elementType": "command"
            },
            {
              "elementNUID": "84263fb8-5965-4a60-82bd-f761270691ca",
              "guid": "9fe86fff-0ae7-4ef0-b862-91ae43be4101",
              "options": null,
              "position": {
                "x": 0,
                "y": 74,
                "height": 6,
                "width": 12,
                "z": null
              },
              "elementType": "command"
            },
            {
              "elementNUID": "b6afe82e-35d6-4358-9b79-8f56074e0908",
              "guid": "a1426d76-3fbd-47f7-b011-b24ac7b93fd6",
              "options": null,
              "position": {
                "x": 0,
                "y": 5,
                "height": 2,
                "width": 12,
                "z": null
              },
              "elementType": "command"
            },
            {
              "elementNUID": "1577055d-6909-4db2-b18b-5bf31e2a812f",
              "guid": "a1ca8228-f29e-465e-a4be-b40aefc6bc7a",
              "options": null,
              "position": {
                "x": 0,
                "y": 27,
                "height": 2,
                "width": 12,
                "z": null
              },
              "elementType": "command"
            },
            {
              "elementNUID": "d1701bbd-c69b-48d6-bb57-0d05a7268ffe",
              "guid": "a7aff5ac-f510-4d82-95db-77f034192d44",
              "options": null,
              "position": {
                "x": 0,
                "y": 67,
                "height": 6,
                "width": 12,
                "z": null
              },
              "elementType": "command"
            },
            {
              "elementNUID": "c37903e0-d9bc-49f9-9e1d-6756419344f1",
              "guid": "bd859d00-a580-47f6-b662-f97b3239a821",
              "options": null,
              "position": {
                "x": 0,
                "y": 88,
                "height": 6,
                "width": 12,
                "z": null
              },
              "elementType": "command"
            },
            {
              "elementNUID": "538800ba-6d08-40a7-b6b6-829b40085742",
              "guid": "c23995ca-72a7-4427-a6d1-afa688939e7c",
              "options": null,
              "position": {
                "x": 0,
                "y": 0,
                "height": 3,
                "width": 12,
                "z": null
              },
              "elementType": "command"
            },
            {
              "elementNUID": "19fa455b-45a4-4a48-9ddb-c5a641bbd817",
              "guid": "c2471e6c-252b-4bd0-a71a-770ae09eeb78",
              "options": null,
              "position": {
                "x": 0,
                "y": 104,
                "height": 1,
                "width": 12,
                "z": null
              },
              "elementType": "command"
            },
            {
              "elementNUID": "8181fc8d-066d-4ca3-88d7-a97614dca3f4",
              "guid": "d1918135-6c0e-44df-a1ce-2357f133b00c",
              "options": null,
              "position": {
                "x": 0,
                "y": 66,
                "height": 1,
                "width": 12,
                "z": null
              },
              "elementType": "command"
            },
            {
              "elementNUID": "23f49fe8-1c71-4689-9678-58f7b45f0e94",
              "guid": "de126761-7a12-40b4-af6f-d0ea53591d9c",
              "options": null,
              "position": {
                "x": 0,
                "y": 98,
                "height": 6,
                "width": 12,
                "z": null
              },
              "elementType": "command"
            },
            {
              "elementNUID": "686a3ab5-5331-4f16-b8cc-be1c36a60384",
              "guid": "e5671d03-e164-48d9-a504-7348746454df",
              "options": null,
              "position": {
                "x": 0,
                "y": 81,
                "height": 6,
                "width": 12,
                "z": null
              },
              "elementType": "command"
            },
            {
              "elementNUID": "6f215790-9cd6-4489-b334-1da39461919c",
              "guid": "eafa8853-29da-4eeb-8126-55474014d7f4",
              "options": null,
              "position": {
                "x": 0,
                "y": 94,
                "height": 4,
                "width": 15,
                "z": null
              },
              "elementType": "command"
            },
            {
              "elementNUID": "9a7b7b61-6f71-4ba2-984a-09b552985d29",
              "guid": "f8a42128-0efd-4fe3-9ab6-6af7a1c907fd",
              "options": null,
              "position": {
                "x": 0,
                "y": 31,
                "height": 6,
                "width": 12,
                "z": null
              },
              "elementType": "command"
            },
            {
              "elementNUID": "bad34653-26b5-4d31-ace9-736d13a63c06",
              "guid": "fd691b0e-0bb5-4d6b-8ae9-1dea859886a7",
              "options": null,
              "position": {
                "x": 0,
                "y": 87,
                "height": 1,
                "width": 12,
                "z": null
              },
              "elementType": "command"
            }
          ],
          "guid": "56cffcd7-cc55-4002-b6dd-fbd5d66a50a6",
          "layoutOption": {
            "stack": true,
            "grid": true
          },
          "version": "DashboardViewV1",
          "nuid": "7f52f4e5-dbf1-4115-ad63-488830d101c0",
          "origId": 2643140879502792,
          "title": "Untitled",
          "width": 1024,
          "globalVars": {}
        }
      ],
      "notebookMetadata": {
        "pythonIndentUnit": 2
      },
      "language": "python",
      "widgets": {},
      "notebookOrigID": 2643140879502686
    },
    "colab": {
      "provenance": [],
      "collapsed_sections": [],
      "toc_visible": true,
      "include_colab_link": true
    },
    "language_info": {
      "name": "python"
    },
    "kernelspec": {
      "name": "python3",
      "display_name": "Python 3"
    }
  },
  "cells": [
    {
      "cell_type": "markdown",
      "metadata": {
        "id": "view-in-github",
        "colab_type": "text"
      },
      "source": [
        "<a href=\"https://colab.research.google.com/github/veroorli/ProjetProg/blob/master/Copie_de_TP1_2022_colab_ETU.ipynb\" target=\"_parent\"><img src=\"https://colab.research.google.com/assets/colab-badge.svg\" alt=\"Open In Colab\"/></a>"
      ]
    },
    {
      "cell_type": "markdown",
      "metadata": {
        "application/vnd.databricks.v1+cell": {
          "title": "",
          "showTitle": false,
          "inputWidgets": {},
          "nuid": "2fcea654-56eb-4219-a555-b7635dc8ec23"
        },
        "id": "5T30y-4iGpLZ"
      },
      "source": [
        "BDLE 2022\n",
        "\n",
        "date du document  :  22/09/2022"
      ]
    },
    {
      "cell_type": "markdown",
      "metadata": {
        "application/vnd.databricks.v1+cell": {
          "title": "",
          "showTitle": false,
          "inputWidgets": {},
          "nuid": "538800ba-6d08-40a7-b6b6-829b40085742"
        },
        "id": "L_q0KahUGpLc"
      },
      "source": [
        "# TP1 Préparation de données\n",
        "\n",
        "\n",
        "Restructuration de données et analyse de données.\n"
      ]
    },
    {
      "cell_type": "markdown",
      "metadata": {
        "application/vnd.databricks.v1+cell": {
          "title": "",
          "showTitle": false,
          "inputWidgets": {},
          "nuid": "b15737ae-19bd-4b9f-b9f3-52388cc5e50e"
        },
        "id": "levNDESpS1hT"
      },
      "source": [
        "## Préparation"
      ]
    },
    {
      "cell_type": "markdown",
      "metadata": {
        "application/vnd.databricks.v1+cell": {
          "title": "",
          "showTitle": false,
          "inputWidgets": {},
          "nuid": "b6afe82e-35d6-4358-9b79-8f56074e0908"
        },
        "id": "4pZBsez9S1hT"
      },
      "source": [
        "Vérifier que des ressources de calcul sont allouées à votre notebook est connecté (cf RAM  de disque indiqués en haut à droite) . Sinon cliquer sur le bouton connecter pour obtenir des ressources.\n",
        "\n",
        "\n"
      ]
    },
    {
      "cell_type": "markdown",
      "metadata": {
        "id": "CEjerqQ6Ink6"
      },
      "source": [
        "Pour accéder directement aux fichiers stockées sur votre google drive. Renseigner le code d'authentification lorsqu'il est demandé\n",
        "\n",
        "Ajuster le nom de votre dossier : MyDrive/ens/bdle/DM1"
      ]
    },
    {
      "cell_type": "code",
      "metadata": {
        "id": "g7Dv93rsImuM",
        "colab": {
          "base_uri": "https://localhost:8080/"
        },
        "outputId": "885afaaa-ff61-4100-8fb6-7df73bf62baf"
      },
      "source": [
        "import os\n",
        "from google.colab import drive\n",
        "drive.mount(\"/content/drive\")\n",
        "\n",
        "drive_dir = \"/content/drive/MyDrive/ens/bdle/TP1\"\n",
        "os.makedirs(drive_dir, exist_ok=True)\n",
        "os.listdir(drive_dir)"
      ],
      "execution_count": null,
      "outputs": [
        {
          "output_type": "stream",
          "name": "stdout",
          "text": [
            "Mounted at /content/drive\n"
          ]
        },
        {
          "output_type": "execute_result",
          "data": {
            "text/plain": [
              "[]"
            ]
          },
          "metadata": {},
          "execution_count": 1
        }
      ]
    },
    {
      "cell_type": "markdown",
      "metadata": {
        "id": "7v9EXMl8aPZC"
      },
      "source": [
        "Installer pyspark et findspark :\n"
      ]
    },
    {
      "cell_type": "code",
      "metadata": {
        "id": "3zlwNHy1S8C2",
        "colab": {
          "base_uri": "https://localhost:8080/"
        },
        "outputId": "f06c11bc-8975-471f-b1ad-02858f2e5d40"
      },
      "source": [
        "!pip install -q pyspark\n",
        "!pip install -q findspark"
      ],
      "execution_count": null,
      "outputs": [
        {
          "output_type": "stream",
          "name": "stdout",
          "text": [
            "\u001b[K     |████████████████████████████████| 281.3 MB 48 kB/s \n",
            "\u001b[K     |████████████████████████████████| 199 kB 67.5 MB/s \n",
            "\u001b[?25h  Building wheel for pyspark (setup.py) ... \u001b[?25l\u001b[?25hdone\n"
          ]
        }
      ]
    },
    {
      "cell_type": "markdown",
      "metadata": {
        "id": "PnEmOd_zOUo0"
      },
      "source": [
        "Démarrer la session spark"
      ]
    },
    {
      "cell_type": "code",
      "metadata": {
        "id": "W0ADH0J-VW7i"
      },
      "source": [
        "import os\n",
        "\n",
        "# !find /usr/local/lib -name \"pyspark\"\n",
        "os.environ[\"SPARK_HOME\"] = \"/usr/local/lib/python3.7/dist-packages/pyspark\"\n",
        "os.environ[\"JAVA_HOME\"] = \"/usr\""
      ],
      "execution_count": null,
      "outputs": []
    },
    {
      "cell_type": "code",
      "metadata": {
        "id": "Q_WxQZB7TaUC",
        "colab": {
          "base_uri": "https://localhost:8080/"
        },
        "outputId": "3c0fad6a-1224-45d8-ef78-4ad79f1400f5"
      },
      "source": [
        "# Principaux import\n",
        "import findspark\n",
        "from pyspark.sql import SparkSession \n",
        "from pyspark import SparkConf  \n",
        "\n",
        "# pour les dataframe et udf\n",
        "from pyspark.sql import *  \n",
        "from pyspark.sql.functions import *\n",
        "from pyspark.sql.types import *\n",
        "from datetime import *\n",
        "\n",
        "# pour le chronomètre\n",
        "import time\n",
        "\n",
        "# initialise les variables d'environnement pour spark\n",
        "findspark.init()\n",
        "\n",
        "# Démarrage session spark \n",
        "# --------------------------\n",
        "def demarrer_spark():\n",
        "  local = \"local[*]\"\n",
        "  appName = \"TP\"\n",
        "  configLocale = SparkConf().setAppName(appName).setMaster(local).\\\n",
        "  set(\"spark.executor.memory\", \"6G\").\\\n",
        "  set(\"spark.driver.memory\",\"6G\").\\\n",
        "  set(\"spark.sql.catalogImplementation\",\"in-memory\")\n",
        "  \n",
        "  spark = SparkSession.builder.config(conf = configLocale).getOrCreate()\n",
        "  sc = spark.sparkContext\n",
        "  sc.setLogLevel(\"ERROR\")\n",
        "  \n",
        "  spark.conf.set(\"spark.sql.autoBroadcastJoinThreshold\",\"-1\")\n",
        "\n",
        "  # On ajuste l'environnement d'exécution des requêtes à la taille du cluster (4 coeurs)\n",
        "  spark.conf.set(\"spark.sql.shuffle.partitions\",\"4\")    \n",
        "  print(\"session démarrée, son id est \", sc.applicationId)\n",
        "  return spark\n",
        "spark = demarrer_spark()"
      ],
      "execution_count": null,
      "outputs": [
        {
          "output_type": "stream",
          "name": "stdout",
          "text": [
            "session démarrée, son id est  local-1664898638590\n"
          ]
        }
      ]
    },
    {
      "cell_type": "code",
      "metadata": {
        "application/vnd.databricks.v1+cell": {
          "title": "",
          "showTitle": false,
          "inputWidgets": {},
          "nuid": "852847c4-bd45-4f9c-ae8b-2c704f389cf9"
        },
        "id": "fj9pUgrmGpLe",
        "colab": {
          "base_uri": "https://localhost:8080/"
        },
        "outputId": "9fd96220-67ee-4115-e90f-d22fa82ab877"
      },
      "source": [
        "# on utilise 8 partitions au lieu de 200 par défaut\n",
        "spark.conf.set(\"spark.sql.shuffle.partitions\", \"8\")\n",
        "print(\"Nombre de partitions utilisées : \", spark.conf.get(\"spark.sql.shuffle.partitions\"))"
      ],
      "execution_count": null,
      "outputs": [
        {
          "output_type": "stream",
          "name": "stdout",
          "text": [
            "Nombre de partitions utilisées :  8\n"
          ]
        }
      ]
    },
    {
      "cell_type": "code",
      "metadata": {
        "id": "wDs-7bQnatJ4"
      },
      "source": [
        "# Optionnel :\n",
        "# pour l'accès à spark UI : voir https://www.analyticsvidhya.com/blog/2020/11/a-must-read-guide-on-how-to-work-with-pyspark-on-google-colab-for-data-scientists/\n",
        "# !wget https://bin.equinox.io/c/4VmDzA7iaHb/ngrok-stable-linux-amd64.zip\n",
        "# !unzip ngrok-stable-linux-amd64.zip\n",
        "# get_ipython().system_raw('./ngrok http 4050 &')\n",
        "# !curl -s http://localhost:4040/api/tunnels"
      ],
      "execution_count": null,
      "outputs": []
    },
    {
      "cell_type": "markdown",
      "metadata": {
        "id": "6PPivNNpOcBT"
      },
      "source": [
        "Redéfinir la fonction **display** pour afficher le resutltat des requêtes dans un tableau"
      ]
    },
    {
      "cell_type": "code",
      "metadata": {
        "id": "FFu44fW7LRgC"
      },
      "source": [
        "import pandas as pd\n",
        "from google.colab import data_table\n",
        "\n",
        "# alternatives to Databricks display function.\n",
        "\n",
        "def display(df, n=100):\n",
        "  return data_table.DataTable(df.limit(n).toPandas(), include_index=False, num_rows_per_page=10)\n",
        "\n",
        "def display2(df, n=20):\n",
        "  pd.set_option('max_columns', None)\n",
        "  pd.set_option('max_colwidth', None)\n",
        "  return df.limit(n).toPandas()\n"
      ],
      "execution_count": null,
      "outputs": []
    },
    {
      "cell_type": "markdown",
      "metadata": {
        "id": "I0-keRafUD5N"
      },
      "source": [
        "Définir le tag **%%sql** pour pouvoir écrire plus simplement des requêtes en SQL dans une cellule"
      ]
    },
    {
      "cell_type": "code",
      "metadata": {
        "id": "eJ7aiRS-gaVF"
      },
      "source": [
        "from IPython.core.magic import (register_line_magic, register_cell_magic, register_line_cell_magic)\n",
        "\n",
        "def removeComments(query):\n",
        "  result = \"\"\n",
        "  for line in query.split('\\n'):\n",
        "    if not(line.strip().startswith(\"--\")):\n",
        "      result += line + \" \"\n",
        "  return result\n",
        "\n",
        "@register_line_cell_magic\n",
        "def sql(line, cell=None):\n",
        "    \"To run a sql query. Use:  %%sql\"\n",
        "    val = cell if cell is not None else line\n",
        "    tabRequetes = removeComments(val).split(\";\")\n",
        "    for r in tabRequetes:\n",
        "        if len(r.strip()) > 2:\n",
        "          derniere = spark.sql(r)\n",
        "    return display(derniere)"
      ],
      "execution_count": null,
      "outputs": []
    },
    {
      "cell_type": "code",
      "metadata": {
        "id": "6jfVOKdrKTDG"
      },
      "source": [
        "# facultatif (à ne pas utiliser)\n",
        "# %load_ext google.colab.data_table\n",
        "# %unload_ext google.colab.data_table"
      ],
      "execution_count": null,
      "outputs": []
    },
    {
      "cell_type": "markdown",
      "metadata": {
        "application/vnd.databricks.v1+cell": {
          "title": "",
          "showTitle": false,
          "inputWidgets": {},
          "nuid": "b15737ae-19bd-4b9f-b9f3-52388cc5e50e"
        },
        "id": "sIeeBKU2GpLc"
      },
      "source": [
        "## Accès aux données"
      ]
    },
    {
      "cell_type": "markdown",
      "metadata": {
        "application/vnd.databricks.v1+cell": {
          "title": "",
          "showTitle": false,
          "inputWidgets": {},
          "nuid": "9b13d583-eac5-414c-b544-43024c76c144"
        },
        "id": "NqVvf8iLGpLf"
      },
      "source": [
        "### URL pour l'accès aux datasets"
      ]
    },
    {
      "cell_type": "code",
      "metadata": {
        "application/vnd.databricks.v1+cell": {
          "title": "",
          "showTitle": false,
          "inputWidgets": {},
          "nuid": "8a1fead0-61e4-4d04-a2c0-7858f767b0a1"
        },
        "id": "8g6iWNvES1hW",
        "colab": {
          "base_uri": "https://localhost:8080/"
        },
        "outputId": "c11de919-9580-4f1b-d00a-d2f4d300983c"
      },
      "source": [
        "# URL du dossier PUBLIC_DATASET contenant des fichiers de données pour les TP\n",
        "# ---------------------------------------------------------------------------\n",
        "# en cas de problème avec le téléchargement des datasets, aller directement sur l'URL ci-dessous\n",
        "PUBLIC_DATASET_URL = \"https://nuage.lip6.fr/s/H3bpyRGgnCq2NR4\" \n",
        "PUBLIC_DATASET=PUBLIC_DATASET_URL + \"/download?path=\"\n",
        "\n",
        "print(\"URL du dossier contenant les datasets \", PUBLIC_DATASET_URL)"
      ],
      "execution_count": null,
      "outputs": [
        {
          "output_type": "stream",
          "name": "stdout",
          "text": [
            "URL du dossier contenant les datasets  https://nuage.lip6.fr/s/H3bpyRGgnCq2NR4\n"
          ]
        }
      ]
    },
    {
      "cell_type": "markdown",
      "source": [
        "### Données de mobilité"
      ],
      "metadata": {
        "id": "IIZzFLxu7d-z"
      }
    },
    {
      "cell_type": "markdown",
      "source": [
        "Données issues du dataset YFCC"
      ],
      "metadata": {
        "id": "D7O1KY6QBSsN"
      }
    },
    {
      "cell_type": "code",
      "source": [
        "local_dir = \"/local/data\"\n",
        "os.makedirs(local_dir, exist_ok=True)\n",
        "os.listdir(local_dir)"
      ],
      "metadata": {
        "id": "9sPqSsqS5Vjq",
        "colab": {
          "base_uri": "https://localhost:8080/"
        },
        "outputId": "4fb0d170-5ac6-44bc-96c4-80fdeaaf0105"
      },
      "execution_count": null,
      "outputs": [
        {
          "output_type": "execute_result",
          "data": {
            "text/plain": [
              "[]"
            ]
          },
          "metadata": {},
          "execution_count": 9
        }
      ]
    },
    {
      "cell_type": "code",
      "source": [
        "from urllib import request\n",
        "\n",
        "# download dataset if not already donwloaded\n",
        "def download_file(web_dir, local_dir, file):\n",
        "  local_file = local_dir + \"/\" + file\n",
        "  web_file = web_dir + \"/\" + file\n",
        "  if(os.path.isfile(local_file)):\n",
        "    print(file, \"is already stored\")\n",
        "  else:\n",
        "    print(\"downloading from URL: \", web_file , \"save in : \" + local_file)\n",
        "    request.urlretrieve(web_file , local_file)\n",
        "\n",
        "# user visits\n",
        "web_dir = PUBLIC_DATASET + \"YFCC_POI_dataset_K_H_LIM/dataset_IJCAI_2015/data-ijcai15/userVisits-ijcai15\"\n",
        "download_file(web_dir, local_dir, \"userVisits-Toro.csv\")\n",
        "\n",
        "# poi \n",
        "web_dir = PUBLIC_DATASET + \"YFCC_POI_dataset_K_H_LIM/dataset_IJCAI_2015/data-ijcai15/poiList-ijcai15\"\n",
        "download_file(web_dir, local_dir, \"POI-Toro.csv\")\n",
        "\n",
        "\n",
        "\n",
        "os.listdir(local_dir)"
      ],
      "metadata": {
        "id": "gzNZ7fIO8L-y",
        "colab": {
          "base_uri": "https://localhost:8080/"
        },
        "outputId": "a13eb4ac-3b11-4560-daa3-b08bc7aac3ed"
      },
      "execution_count": null,
      "outputs": [
        {
          "output_type": "stream",
          "name": "stdout",
          "text": [
            "downloading from URL:  https://nuage.lip6.fr/s/H3bpyRGgnCq2NR4/download?path=YFCC_POI_dataset_K_H_LIM/dataset_IJCAI_2015/data-ijcai15/userVisits-ijcai15/userVisits-Toro.csv save in : /local/data/userVisits-Toro.csv\n",
            "downloading from URL:  https://nuage.lip6.fr/s/H3bpyRGgnCq2NR4/download?path=YFCC_POI_dataset_K_H_LIM/dataset_IJCAI_2015/data-ijcai15/poiList-ijcai15/POI-Toro.csv save in : /local/data/POI-Toro.csv\n"
          ]
        },
        {
          "output_type": "execute_result",
          "data": {
            "text/plain": [
              "['POI-Toro.csv', 'userVisits-Toro.csv']"
            ]
          },
          "metadata": {},
          "execution_count": 10
        }
      ]
    },
    {
      "cell_type": "markdown",
      "source": [
        "### Les visites"
      ],
      "metadata": {
        "id": "tkjftQnIDx8u"
      }
    },
    {
      "cell_type": "markdown",
      "source": [
        "Lire le fichier des visites *sans* préciser le type des attributs.\n",
        "Par défaut, tous les attributs sont considérés comme étant de type string."
      ],
      "metadata": {
        "id": "-yuRfs1cBvCG"
      }
    },
    {
      "cell_type": "code",
      "source": [
        "user_visits = spark.read.option(\"header\", \"True\").option(\"delimiter\", \";\").format(\"csv\").load(local_dir + \"/\" + \"userVisits-Toro.csv\")\n",
        "user_visits.show(3)\n",
        "user_visits.printSchema()"
      ],
      "metadata": {
        "id": "EnEfpcDwBa3m",
        "colab": {
          "base_uri": "https://localhost:8080/"
        },
        "outputId": "bbc94a41-d0b7-4cf8-fc43-3581aea8e1bf"
      },
      "execution_count": null,
      "outputs": [
        {
          "output_type": "stream",
          "name": "stdout",
          "text": [
            "+----------+------------+----------+-----+---------+-------+-----+\n",
            "|   photoID|      userID| dateTaken|poiID| poiTheme|poiFreq|seqID|\n",
            "+----------+------------+----------+-----+---------+-------+-----+\n",
            "|7941504100|10007579@N00|1346844688|   30|Structure|   1538|    1|\n",
            "|4886005532|10012675@N05|1142731848|    6| Cultural|    986|    2|\n",
            "|4886006468|10012675@N05|1142732248|    6| Cultural|    986|    2|\n",
            "+----------+------------+----------+-----+---------+-------+-----+\n",
            "only showing top 3 rows\n",
            "\n",
            "root\n",
            " |-- photoID: string (nullable = true)\n",
            " |-- userID: string (nullable = true)\n",
            " |-- dateTaken: string (nullable = true)\n",
            " |-- poiID: string (nullable = true)\n",
            " |-- poiTheme: string (nullable = true)\n",
            " |-- poiFreq: string (nullable = true)\n",
            " |-- seqID: string (nullable = true)\n",
            "\n"
          ]
        }
      ]
    },
    {
      "cell_type": "markdown",
      "source": [
        "Lire le fichier en précisant le schéma : nom et type des attributs"
      ],
      "metadata": {
        "id": "tOKVS5T2B5xd"
      }
    },
    {
      "cell_type": "code",
      "source": [
        "schema = \"photoID long, userID String, date Long, poiID int, poiTheme String, poiFreq int, seqID int\"\n",
        "\n",
        "user_visits = spark.read.option(\"header\", \"True\").option(\"delimiter\", \";\").csv(local_dir + \"/\" + \"userVisits-Toro.csv\", schema = schema)\n",
        "user_visits.persist()\n",
        "user_visits.createOrReplaceTempView(\"user_visits\")\n",
        "user_visits.show(10)\n",
        "user_visits.printSchema()"
      ],
      "metadata": {
        "id": "7KFQLcGpFySS",
        "colab": {
          "base_uri": "https://localhost:8080/"
        },
        "outputId": "f06f172c-e093-4134-a28d-632b387f4dc8"
      },
      "execution_count": null,
      "outputs": [
        {
          "output_type": "stream",
          "name": "stdout",
          "text": [
            "+----------+------------+----------+-----+---------+-------+-----+\n",
            "|   photoID|      userID|      date|poiID| poiTheme|poiFreq|seqID|\n",
            "+----------+------------+----------+-----+---------+-------+-----+\n",
            "|7941504100|10007579@N00|1346844688|   30|Structure|   1538|    1|\n",
            "|4886005532|10012675@N05|1142731848|    6| Cultural|    986|    2|\n",
            "|4886006468|10012675@N05|1142732248|    6| Cultural|    986|    2|\n",
            "|4885404441|10012675@N05|1142732373|    6| Cultural|    986|    2|\n",
            "|4886008334|10012675@N05|1142732445|    6| Cultural|    986|    2|\n",
            "|4886009150|10012675@N05|1142916492|    6| Cultural|    986|    3|\n",
            "|7054481539|10012675@N05|1319327174|   13| Cultural|    964|    4|\n",
            "|6908387594|10012675@N05|1319328255|   13| Cultural|    964|    4|\n",
            "|6908381912|10012675@N05|1319331463|   13| Cultural|    964|    4|\n",
            "|6908398496|10012675@N05|1319331886|   13| Cultural|    964|    4|\n",
            "+----------+------------+----------+-----+---------+-------+-----+\n",
            "only showing top 10 rows\n",
            "\n",
            "root\n",
            " |-- photoID: long (nullable = true)\n",
            " |-- userID: string (nullable = true)\n",
            " |-- date: long (nullable = true)\n",
            " |-- poiID: integer (nullable = true)\n",
            " |-- poiTheme: string (nullable = true)\n",
            " |-- poiFreq: integer (nullable = true)\n",
            " |-- seqID: integer (nullable = true)\n",
            "\n"
          ]
        }
      ]
    },
    {
      "cell_type": "markdown",
      "source": [
        "Vérifier qu'il n'y a pas de date nulle"
      ],
      "metadata": {
        "id": "kpCZV_kezFPD"
      }
    },
    {
      "cell_type": "code",
      "source": [
        "%%sql\n",
        "select count(1) as nb_dates_nulles\n",
        "from user_visits\n",
        "where date is null\n",
        "\n",
        "-- autre solution avec \"case\"\n",
        "--select count(case when isnull(date) then date end) as nb_date_nulles\n",
        "--from user_visits\n"
      ],
      "metadata": {
        "id": "g4Xs3emr90fU",
        "colab": {
          "base_uri": "https://localhost:8080/",
          "height": 114
        },
        "outputId": "5090051e-0c20-487a-fedb-94a35ef11277"
      },
      "execution_count": null,
      "outputs": [
        {
          "output_type": "execute_result",
          "data": {
            "text/html": [
              "<div>\n",
              "<style scoped>\n",
              "    .dataframe tbody tr th:only-of-type {\n",
              "        vertical-align: middle;\n",
              "    }\n",
              "\n",
              "    .dataframe tbody tr th {\n",
              "        vertical-align: top;\n",
              "    }\n",
              "\n",
              "    .dataframe thead th {\n",
              "        text-align: right;\n",
              "    }\n",
              "</style>\n",
              "<table border=\"1\" class=\"dataframe\">\n",
              "  <thead>\n",
              "    <tr style=\"text-align: right;\">\n",
              "      <th></th>\n",
              "      <th>nb_dates_nulles</th>\n",
              "    </tr>\n",
              "  </thead>\n",
              "  <tbody>\n",
              "    <tr>\n",
              "      <th>0</th>\n",
              "      <td>0</td>\n",
              "    </tr>\n",
              "  </tbody>\n",
              "</table>\n",
              "</div>"
            ],
            "application/vnd.google.colaboratory.module+javascript": "\n      import \"https://ssl.gstatic.com/colaboratory/data_table/a8bd4d5e58f96183/data_table.js\";\n\n      window.createDataTable({\n        data: [[{\n            'v': 0,\n            'f': \"0\",\n        }]],\n        columns: [[\"number\", \"nb_dates_nulles\"]],\n        columnOptions: [],\n        rowsPerPage: 10,\n        helpUrl: \"https://colab.research.google.com/notebooks/data_table.ipynb\",\n        suppressOutputScrolling: true,\n        minimumWidth: undefined,\n      });\n    ",
            "text/plain": [
              "<google.colab.data_table.DataTable object>"
            ]
          },
          "metadata": {},
          "execution_count": 13
        }
      ]
    },
    {
      "cell_type": "markdown",
      "source": [
        "\n",
        "Vérifier qu'il n'y a aucune séquence associée à plusieurs utilisateurs"
      ],
      "metadata": {
        "id": "SsuPFy54S1x_"
      }
    },
    {
      "cell_type": "code",
      "source": [
        "%%sql\n",
        "\n",
        "select seqID\n",
        "from user_visits\n",
        "group by seqID\n",
        "having count(distinct userID) > 1"
      ],
      "metadata": {
        "id": "Etb5c2LzRy3S",
        "colab": {
          "base_uri": "https://localhost:8080/",
          "height": 92
        },
        "outputId": "1f098ac8-74e4-49c7-a9a7-26a9f3851630"
      },
      "execution_count": null,
      "outputs": [
        {
          "output_type": "execute_result",
          "data": {
            "text/html": [
              "<div>\n",
              "<style scoped>\n",
              "    .dataframe tbody tr th:only-of-type {\n",
              "        vertical-align: middle;\n",
              "    }\n",
              "\n",
              "    .dataframe tbody tr th {\n",
              "        vertical-align: top;\n",
              "    }\n",
              "\n",
              "    .dataframe thead th {\n",
              "        text-align: right;\n",
              "    }\n",
              "</style>\n",
              "<table border=\"1\" class=\"dataframe\">\n",
              "  <thead>\n",
              "    <tr style=\"text-align: right;\">\n",
              "      <th></th>\n",
              "      <th>seqID</th>\n",
              "    </tr>\n",
              "  </thead>\n",
              "  <tbody>\n",
              "  </tbody>\n",
              "</table>\n",
              "</div>"
            ],
            "application/vnd.google.colaboratory.module+javascript": "\n      import \"https://ssl.gstatic.com/colaboratory/data_table/a8bd4d5e58f96183/data_table.js\";\n\n      window.createDataTable({\n        data: [],\n        columns: [[\"number\", \"seqID\"]],\n        columnOptions: [],\n        rowsPerPage: 10,\n        helpUrl: \"https://colab.research.google.com/notebooks/data_table.ipynb\",\n        suppressOutputScrolling: true,\n        minimumWidth: undefined,\n      });\n    ",
            "text/plain": [
              "<google.colab.data_table.DataTable object>"
            ]
          },
          "metadata": {},
          "execution_count": 13
        }
      ]
    },
    {
      "cell_type": "markdown",
      "source": [
        "\n",
        "#### POI_sequence\n",
        "\n",
        "**POI_sequence**(seqID, userID, poiID). La liste des POI d'une séquence.\n",
        "Pour simplifier on compte chaque POI une seule fois par séquence et on ne considère pas l'ordre de visite des POI."
      ],
      "metadata": {
        "id": "6yN_LHZo1TtA"
      }
    },
    {
      "cell_type": "code",
      "source": [
        "%%sql\n",
        "create or replace temp view POI_sequence as \n",
        "select distinct seqID, userID, poiID\n",
        "from user_visits;\n",
        "\n",
        "select * from POI_sequence"
      ],
      "metadata": {
        "id": "7XDLgVgqPayh",
        "colab": {
          "base_uri": "https://localhost:8080/",
          "height": 314
        },
        "outputId": "2e3a241a-75d6-4552-b238-d9b5815f1593"
      },
      "execution_count": null,
      "outputs": [
        {
          "output_type": "execute_result",
          "data": {
            "text/html": [
              "<div>\n",
              "<style scoped>\n",
              "    .dataframe tbody tr th:only-of-type {\n",
              "        vertical-align: middle;\n",
              "    }\n",
              "\n",
              "    .dataframe tbody tr th {\n",
              "        vertical-align: top;\n",
              "    }\n",
              "\n",
              "    .dataframe thead th {\n",
              "        text-align: right;\n",
              "    }\n",
              "</style>\n",
              "<table border=\"1\" class=\"dataframe\">\n",
              "  <thead>\n",
              "    <tr style=\"text-align: right;\">\n",
              "      <th></th>\n",
              "      <th>seqID</th>\n",
              "      <th>userID</th>\n",
              "      <th>poiID</th>\n",
              "    </tr>\n",
              "  </thead>\n",
              "  <tbody>\n",
              "    <tr>\n",
              "      <th>0</th>\n",
              "      <td>3</td>\n",
              "      <td>10012675@N05</td>\n",
              "      <td>6</td>\n",
              "    </tr>\n",
              "    <tr>\n",
              "      <th>1</th>\n",
              "      <td>4</td>\n",
              "      <td>10012675@N05</td>\n",
              "      <td>13</td>\n",
              "    </tr>\n",
              "    <tr>\n",
              "      <th>2</th>\n",
              "      <td>9</td>\n",
              "      <td>10014440@N06</td>\n",
              "      <td>24</td>\n",
              "    </tr>\n",
              "    <tr>\n",
              "      <th>3</th>\n",
              "      <td>14</td>\n",
              "      <td>10014440@N06</td>\n",
              "      <td>24</td>\n",
              "    </tr>\n",
              "    <tr>\n",
              "      <th>4</th>\n",
              "      <td>46</td>\n",
              "      <td>10316646@N07</td>\n",
              "      <td>3</td>\n",
              "    </tr>\n",
              "    <tr>\n",
              "      <th>...</th>\n",
              "      <td>...</td>\n",
              "      <td>...</td>\n",
              "      <td>...</td>\n",
              "    </tr>\n",
              "    <tr>\n",
              "      <th>95</th>\n",
              "      <td>619</td>\n",
              "      <td>18412989@N00</td>\n",
              "      <td>22</td>\n",
              "    </tr>\n",
              "    <tr>\n",
              "      <th>96</th>\n",
              "      <td>619</td>\n",
              "      <td>18412989@N00</td>\n",
              "      <td>16</td>\n",
              "    </tr>\n",
              "    <tr>\n",
              "      <th>97</th>\n",
              "      <td>620</td>\n",
              "      <td>18412989@N00</td>\n",
              "      <td>22</td>\n",
              "    </tr>\n",
              "    <tr>\n",
              "      <th>98</th>\n",
              "      <td>622</td>\n",
              "      <td>18412989@N00</td>\n",
              "      <td>16</td>\n",
              "    </tr>\n",
              "    <tr>\n",
              "      <th>99</th>\n",
              "      <td>623</td>\n",
              "      <td>18412989@N00</td>\n",
              "      <td>21</td>\n",
              "    </tr>\n",
              "  </tbody>\n",
              "</table>\n",
              "<p>100 rows × 3 columns</p>\n",
              "</div>"
            ],
            "application/vnd.google.colaboratory.module+javascript": "\n      import \"https://ssl.gstatic.com/colaboratory/data_table/a8bd4d5e58f96183/data_table.js\";\n\n      window.createDataTable({\n        data: [[{\n            'v': 3,\n            'f': \"3\",\n        },\n\"10012675@N05\",\n{\n            'v': 6,\n            'f': \"6\",\n        }],\n [{\n            'v': 4,\n            'f': \"4\",\n        },\n\"10012675@N05\",\n{\n            'v': 13,\n            'f': \"13\",\n        }],\n [{\n            'v': 9,\n            'f': \"9\",\n        },\n\"10014440@N06\",\n{\n            'v': 24,\n            'f': \"24\",\n        }],\n [{\n            'v': 14,\n            'f': \"14\",\n        },\n\"10014440@N06\",\n{\n            'v': 24,\n            'f': \"24\",\n        }],\n [{\n            'v': 46,\n            'f': \"46\",\n        },\n\"10316646@N07\",\n{\n            'v': 3,\n            'f': \"3\",\n        }],\n [{\n            'v': 48,\n            'f': \"48\",\n        },\n\"10438912@N07\",\n{\n            'v': 13,\n            'f': \"13\",\n        }],\n [{\n            'v': 51,\n            'f': \"51\",\n        },\n\"10442345@N07\",\n{\n            'v': 6,\n            'f': \"6\",\n        }],\n [{\n            'v': 53,\n            'f': \"53\",\n        },\n\"10488448@N00\",\n{\n            'v': 25,\n            'f': \"25\",\n        }],\n [{\n            'v': 60,\n            'f': \"60\",\n        },\n\"10502709@N05\",\n{\n            'v': 7,\n            'f': \"7\",\n        }],\n [{\n            'v': 67,\n            'f': \"67\",\n        },\n\"10502709@N05\",\n{\n            'v': 23,\n            'f': \"23\",\n        }],\n [{\n            'v': 86,\n            'f': \"86\",\n        },\n\"10575698@N02\",\n{\n            'v': 27,\n            'f': \"27\",\n        }],\n [{\n            'v': 99,\n            'f': \"99\",\n        },\n\"10627620@N06\",\n{\n            'v': 3,\n            'f': \"3\",\n        }],\n [{\n            'v': 105,\n            'f': \"105\",\n        },\n\"10627620@N06\",\n{\n            'v': 30,\n            'f': \"30\",\n        }],\n [{\n            'v': 118,\n            'f': \"118\",\n        },\n\"10789562@N08\",\n{\n            'v': 30,\n            'f': \"30\",\n        }],\n [{\n            'v': 122,\n            'f': \"122\",\n        },\n\"10789562@N08\",\n{\n            'v': 4,\n            'f': \"4\",\n        }],\n [{\n            'v': 132,\n            'f': \"132\",\n        },\n\"11036650@N00\",\n{\n            'v': 13,\n            'f': \"13\",\n        }],\n [{\n            'v': 134,\n            'f': \"134\",\n        },\n\"11090433@N05\",\n{\n            'v': 3,\n            'f': \"3\",\n        }],\n [{\n            'v': 141,\n            'f': \"141\",\n        },\n\"11090433@N05\",\n{\n            'v': 10,\n            'f': \"10\",\n        }],\n [{\n            'v': 143,\n            'f': \"143\",\n        },\n\"11090433@N05\",\n{\n            'v': 3,\n            'f': \"3\",\n        }],\n [{\n            'v': 151,\n            'f': \"151\",\n        },\n\"11191102@N07\",\n{\n            'v': 13,\n            'f': \"13\",\n        }],\n [{\n            'v': 155,\n            'f': \"155\",\n        },\n\"11191102@N07\",\n{\n            'v': 22,\n            'f': \"22\",\n        }],\n [{\n            'v': 161,\n            'f': \"161\",\n        },\n\"11191102@N07\",\n{\n            'v': 16,\n            'f': \"16\",\n        }],\n [{\n            'v': 169,\n            'f': \"169\",\n        },\n\"11349639@N00\",\n{\n            'v': 16,\n            'f': \"16\",\n        }],\n [{\n            'v': 175,\n            'f': \"175\",\n        },\n\"11349639@N00\",\n{\n            'v': 30,\n            'f': \"30\",\n        }],\n [{\n            'v': 177,\n            'f': \"177\",\n        },\n\"11405645@N04\",\n{\n            'v': 20,\n            'f': \"20\",\n        }],\n [{\n            'v': 194,\n            'f': \"194\",\n        },\n\"11531843@N07\",\n{\n            'v': 21,\n            'f': \"21\",\n        }],\n [{\n            'v': 196,\n            'f': \"196\",\n        },\n\"11956371@N07\",\n{\n            'v': 6,\n            'f': \"6\",\n        }],\n [{\n            'v': 198,\n            'f': \"198\",\n        },\n\"12072678@N00\",\n{\n            'v': 28,\n            'f': \"28\",\n        }],\n [{\n            'v': 203,\n            'f': \"203\",\n        },\n\"12072678@N00\",\n{\n            'v': 21,\n            'f': \"21\",\n        }],\n [{\n            'v': 215,\n            'f': \"215\",\n        },\n\"12072678@N00\",\n{\n            'v': 21,\n            'f': \"21\",\n        }],\n [{\n            'v': 221,\n            'f': \"221\",\n        },\n\"12172493@N07\",\n{\n            'v': 23,\n            'f': \"23\",\n        }],\n [{\n            'v': 227,\n            'f': \"227\",\n        },\n\"12313953@N03\",\n{\n            'v': 7,\n            'f': \"7\",\n        }],\n [{\n            'v': 230,\n            'f': \"230\",\n        },\n\"12316147@N05\",\n{\n            'v': 8,\n            'f': \"8\",\n        }],\n [{\n            'v': 232,\n            'f': \"232\",\n        },\n\"12316147@N05\",\n{\n            'v': 2,\n            'f': \"2\",\n        }],\n [{\n            'v': 255,\n            'f': \"255\",\n        },\n\"12693197@N06\",\n{\n            'v': 16,\n            'f': \"16\",\n        }],\n [{\n            'v': 263,\n            'f': \"263\",\n        },\n\"12859363@N04\",\n{\n            'v': 16,\n            'f': \"16\",\n        }],\n [{\n            'v': 270,\n            'f': \"270\",\n        },\n\"12925338@N07\",\n{\n            'v': 28,\n            'f': \"28\",\n        }],\n [{\n            'v': 275,\n            'f': \"275\",\n        },\n\"13113559@N00\",\n{\n            'v': 21,\n            'f': \"21\",\n        }],\n [{\n            'v': 287,\n            'f': \"287\",\n        },\n\"13237887@N02\",\n{\n            'v': 7,\n            'f': \"7\",\n        }],\n [{\n            'v': 292,\n            'f': \"292\",\n        },\n\"13511601@N00\",\n{\n            'v': 25,\n            'f': \"25\",\n        }],\n [{\n            'v': 298,\n            'f': \"298\",\n        },\n\"13644648@N03\",\n{\n            'v': 29,\n            'f': \"29\",\n        }],\n [{\n            'v': 300,\n            'f': \"300\",\n        },\n\"13668544@N03\",\n{\n            'v': 11,\n            'f': \"11\",\n        }],\n [{\n            'v': 301,\n            'f': \"301\",\n        },\n\"13672753@N00\",\n{\n            'v': 14,\n            'f': \"14\",\n        }],\n [{\n            'v': 301,\n            'f': \"301\",\n        },\n\"13672753@N00\",\n{\n            'v': 17,\n            'f': \"17\",\n        }],\n [{\n            'v': 310,\n            'f': \"310\",\n        },\n\"13833167@N00\",\n{\n            'v': 28,\n            'f': \"28\",\n        }],\n [{\n            'v': 316,\n            'f': \"316\",\n        },\n\"13907834@N00\",\n{\n            'v': 11,\n            'f': \"11\",\n        }],\n [{\n            'v': 325,\n            'f': \"325\",\n        },\n\"13907834@N00\",\n{\n            'v': 20,\n            'f': \"20\",\n        }],\n [{\n            'v': 334,\n            'f': \"334\",\n        },\n\"14036428@N00\",\n{\n            'v': 8,\n            'f': \"8\",\n        }],\n [{\n            'v': 335,\n            'f': \"335\",\n        },\n\"14036428@N00\",\n{\n            'v': 6,\n            'f': \"6\",\n        }],\n [{\n            'v': 336,\n            'f': \"336\",\n        },\n\"14036428@N00\",\n{\n            'v': 15,\n            'f': \"15\",\n        }],\n [{\n            'v': 362,\n            'f': \"362\",\n        },\n\"14036428@N00\",\n{\n            'v': 10,\n            'f': \"10\",\n        }],\n [{\n            'v': 365,\n            'f': \"365\",\n        },\n\"14112399@N00\",\n{\n            'v': 27,\n            'f': \"27\",\n        }],\n [{\n            'v': 367,\n            'f': \"367\",\n        },\n\"14146962@N07\",\n{\n            'v': 16,\n            'f': \"16\",\n        }],\n [{\n            'v': 380,\n            'f': \"380\",\n        },\n\"14391210@N00\",\n{\n            'v': 22,\n            'f': \"22\",\n        }],\n [{\n            'v': 380,\n            'f': \"380\",\n        },\n\"14391210@N00\",\n{\n            'v': 23,\n            'f': \"23\",\n        }],\n [{\n            'v': 388,\n            'f': \"388\",\n        },\n\"14718163@N08\",\n{\n            'v': 13,\n            'f': \"13\",\n        }],\n [{\n            'v': 392,\n            'f': \"392\",\n        },\n\"14718163@N08\",\n{\n            'v': 27,\n            'f': \"27\",\n        }],\n [{\n            'v': 394,\n            'f': \"394\",\n        },\n\"14718163@N08\",\n{\n            'v': 4,\n            'f': \"4\",\n        }],\n [{\n            'v': 405,\n            'f': \"405\",\n        },\n\"14718163@N08\",\n{\n            'v': 24,\n            'f': \"24\",\n        }],\n [{\n            'v': 435,\n            'f': \"435\",\n        },\n\"14816925@N00\",\n{\n            'v': 21,\n            'f': \"21\",\n        }],\n [{\n            'v': 436,\n            'f': \"436\",\n        },\n\"14816925@N00\",\n{\n            'v': 22,\n            'f': \"22\",\n        }],\n [{\n            'v': 438,\n            'f': \"438\",\n        },\n\"14816925@N00\",\n{\n            'v': 22,\n            'f': \"22\",\n        }],\n [{\n            'v': 439,\n            'f': \"439\",\n        },\n\"14816925@N00\",\n{\n            'v': 23,\n            'f': \"23\",\n        }],\n [{\n            'v': 441,\n            'f': \"441\",\n        },\n\"14816925@N00\",\n{\n            'v': 1,\n            'f': \"1\",\n        }],\n [{\n            'v': 447,\n            'f': \"447\",\n        },\n\"14853721@N00\",\n{\n            'v': 29,\n            'f': \"29\",\n        }],\n [{\n            'v': 452,\n            'f': \"452\",\n        },\n\"14878709@N00\",\n{\n            'v': 16,\n            'f': \"16\",\n        }],\n [{\n            'v': 454,\n            'f': \"454\",\n        },\n\"14878709@N00\",\n{\n            'v': 22,\n            'f': \"22\",\n        }],\n [{\n            'v': 458,\n            'f': \"458\",\n        },\n\"14954127@N00\",\n{\n            'v': 25,\n            'f': \"25\",\n        }],\n [{\n            'v': 465,\n            'f': \"465\",\n        },\n\"14972286@N00\",\n{\n            'v': 3,\n            'f': \"3\",\n        }],\n [{\n            'v': 466,\n            'f': \"466\",\n        },\n\"14972286@N00\",\n{\n            'v': 3,\n            'f': \"3\",\n        }],\n [{\n            'v': 480,\n            'f': \"480\",\n        },\n\"15345244@N00\",\n{\n            'v': 25,\n            'f': \"25\",\n        }],\n [{\n            'v': 486,\n            'f': \"486\",\n        },\n\"15511507@N00\",\n{\n            'v': 23,\n            'f': \"23\",\n        }],\n [{\n            'v': 488,\n            'f': \"488\",\n        },\n\"15563028@N05\",\n{\n            'v': 4,\n            'f': \"4\",\n        }],\n [{\n            'v': 506,\n            'f': \"506\",\n        },\n\"15925704@N00\",\n{\n            'v': 24,\n            'f': \"24\",\n        }],\n [{\n            'v': 512,\n            'f': \"512\",\n        },\n\"16125685@N04\",\n{\n            'v': 7,\n            'f': \"7\",\n        }],\n [{\n            'v': 514,\n            'f': \"514\",\n        },\n\"16326397@N02\",\n{\n            'v': 4,\n            'f': \"4\",\n        }],\n [{\n            'v': 515,\n            'f': \"515\",\n        },\n\"16326397@N02\",\n{\n            'v': 16,\n            'f': \"16\",\n        }],\n [{\n            'v': 516,\n            'f': \"516\",\n        },\n\"16326397@N02\",\n{\n            'v': 21,\n            'f': \"21\",\n        }],\n [{\n            'v': 521,\n            'f': \"521\",\n        },\n\"16503481@N04\",\n{\n            'v': 21,\n            'f': \"21\",\n        }],\n [{\n            'v': 525,\n            'f': \"525\",\n        },\n\"16693950@N00\",\n{\n            'v': 22,\n            'f': \"22\",\n        }],\n [{\n            'v': 525,\n            'f': \"525\",\n        },\n\"16693950@N00\",\n{\n            'v': 28,\n            'f': \"28\",\n        }],\n [{\n            'v': 525,\n            'f': \"525\",\n        },\n\"16693950@N00\",\n{\n            'v': 23,\n            'f': \"23\",\n        }],\n [{\n            'v': 530,\n            'f': \"530\",\n        },\n\"16846345@N07\",\n{\n            'v': 8,\n            'f': \"8\",\n        }],\n [{\n            'v': 543,\n            'f': \"543\",\n        },\n\"16926694@N06\",\n{\n            'v': 13,\n            'f': \"13\",\n        }],\n [{\n            'v': 550,\n            'f': \"550\",\n        },\n\"17373191@N00\",\n{\n            'v': 21,\n            'f': \"21\",\n        }],\n [{\n            'v': 561,\n            'f': \"561\",\n        },\n\"17643382@N00\",\n{\n            'v': 22,\n            'f': \"22\",\n        }],\n [{\n            'v': 562,\n            'f': \"562\",\n        },\n\"17643382@N00\",\n{\n            'v': 22,\n            'f': \"22\",\n        }],\n [{\n            'v': 564,\n            'f': \"564\",\n        },\n\"17643382@N00\",\n{\n            'v': 23,\n            'f': \"23\",\n        }],\n [{\n            'v': 575,\n            'f': \"575\",\n        },\n\"17759914@N00\",\n{\n            'v': 25,\n            'f': \"25\",\n        }],\n [{\n            'v': 578,\n            'f': \"578\",\n        },\n\"17759914@N00\",\n{\n            'v': 21,\n            'f': \"21\",\n        }],\n [{\n            'v': 583,\n            'f': \"583\",\n        },\n\"17759914@N00\",\n{\n            'v': 11,\n            'f': \"11\",\n        }],\n [{\n            'v': 608,\n            'f': \"608\",\n        },\n\"18222776@N00\",\n{\n            'v': 16,\n            'f': \"16\",\n        }],\n [{\n            'v': 611,\n            'f': \"611\",\n        },\n\"18378305@N00\",\n{\n            'v': 23,\n            'f': \"23\",\n        }],\n [{\n            'v': 613,\n            'f': \"613\",\n        },\n\"18378305@N00\",\n{\n            'v': 11,\n            'f': \"11\",\n        }],\n [{\n            'v': 614,\n            'f': \"614\",\n        },\n\"18378305@N00\",\n{\n            'v': 24,\n            'f': \"24\",\n        }],\n [{\n            'v': 619,\n            'f': \"619\",\n        },\n\"18412989@N00\",\n{\n            'v': 22,\n            'f': \"22\",\n        }],\n [{\n            'v': 619,\n            'f': \"619\",\n        },\n\"18412989@N00\",\n{\n            'v': 16,\n            'f': \"16\",\n        }],\n [{\n            'v': 620,\n            'f': \"620\",\n        },\n\"18412989@N00\",\n{\n            'v': 22,\n            'f': \"22\",\n        }],\n [{\n            'v': 622,\n            'f': \"622\",\n        },\n\"18412989@N00\",\n{\n            'v': 16,\n            'f': \"16\",\n        }],\n [{\n            'v': 623,\n            'f': \"623\",\n        },\n\"18412989@N00\",\n{\n            'v': 21,\n            'f': \"21\",\n        }]],\n        columns: [[\"number\", \"seqID\"], [\"string\", \"userID\"], [\"number\", \"poiID\"]],\n        columnOptions: [],\n        rowsPerPage: 10,\n        helpUrl: \"https://colab.research.google.com/notebooks/data_table.ipynb\",\n        suppressOutputScrolling: true,\n        minimumWidth: undefined,\n      });\n    ",
            "text/plain": [
              "<google.colab.data_table.DataTable object>"
            ]
          },
          "metadata": {},
          "execution_count": 14
        }
      ]
    },
    {
      "cell_type": "markdown",
      "source": [
        "### Les POI"
      ],
      "metadata": {
        "id": "ZWSe1Q_KCH4T"
      }
    },
    {
      "cell_type": "code",
      "source": [
        "poi_schema = \"poiID long, poiName String, latitude double, longitude double, theme String\"\n",
        "\n",
        "poi = spark.read.option(\"header\", \"True\").option(\"delimiter\", \";\").csv(local_dir + \"/\" + \"POI-Toro.csv\", schema = poi_schema)\n",
        "poi.show(3)\n",
        "poi.printSchema()\n",
        "poi.createOrReplaceTempView(\"POI\")"
      ],
      "metadata": {
        "id": "e-9XGdbAA5Qq",
        "colab": {
          "base_uri": "https://localhost:8080/"
        },
        "outputId": "69c7943d-8935-404d-e375-a05e1b4305dd"
      },
      "execution_count": null,
      "outputs": [
        {
          "output_type": "stream",
          "name": "stdout",
          "text": [
            "+-----+------------------+--------+---------+-----+\n",
            "|poiID|           poiName|latitude|longitude|theme|\n",
            "+-----+------------------+--------+---------+-----+\n",
            "|    1| Air_Canada_Centre|43.64333|-79.37917|Sport|\n",
            "|    2|         BMO_Field|43.63278|-79.41861|Sport|\n",
            "|    3|Maple_Leaf_Gardens|43.66222|-79.38028|Sport|\n",
            "+-----+------------------+--------+---------+-----+\n",
            "only showing top 3 rows\n",
            "\n",
            "root\n",
            " |-- poiID: long (nullable = true)\n",
            " |-- poiName: string (nullable = true)\n",
            " |-- latitude: double (nullable = true)\n",
            " |-- longitude: double (nullable = true)\n",
            " |-- theme: string (nullable = true)\n",
            "\n"
          ]
        }
      ]
    },
    {
      "cell_type": "code",
      "source": [
        "%%sql\n",
        "cache table POI;\n",
        "\n",
        "SELECT * \n",
        "From POI"
      ],
      "metadata": {
        "id": "bGeoQ73VeylD",
        "colab": {
          "base_uri": "https://localhost:8080/",
          "height": 314
        },
        "outputId": "0868fc82-d3bf-4a74-a133-f92a0cf9f92c"
      },
      "execution_count": null,
      "outputs": [
        {
          "output_type": "execute_result",
          "data": {
            "text/html": [
              "<div>\n",
              "<style scoped>\n",
              "    .dataframe tbody tr th:only-of-type {\n",
              "        vertical-align: middle;\n",
              "    }\n",
              "\n",
              "    .dataframe tbody tr th {\n",
              "        vertical-align: top;\n",
              "    }\n",
              "\n",
              "    .dataframe thead th {\n",
              "        text-align: right;\n",
              "    }\n",
              "</style>\n",
              "<table border=\"1\" class=\"dataframe\">\n",
              "  <thead>\n",
              "    <tr style=\"text-align: right;\">\n",
              "      <th></th>\n",
              "      <th>poiID</th>\n",
              "      <th>poiName</th>\n",
              "      <th>latitude</th>\n",
              "      <th>longitude</th>\n",
              "      <th>theme</th>\n",
              "    </tr>\n",
              "  </thead>\n",
              "  <tbody>\n",
              "    <tr>\n",
              "      <th>0</th>\n",
              "      <td>1</td>\n",
              "      <td>Air_Canada_Centre</td>\n",
              "      <td>43.643330</td>\n",
              "      <td>-79.379170</td>\n",
              "      <td>Sport</td>\n",
              "    </tr>\n",
              "    <tr>\n",
              "      <th>1</th>\n",
              "      <td>2</td>\n",
              "      <td>BMO_Field</td>\n",
              "      <td>43.632780</td>\n",
              "      <td>-79.418610</td>\n",
              "      <td>Sport</td>\n",
              "    </tr>\n",
              "    <tr>\n",
              "      <th>2</th>\n",
              "      <td>3</td>\n",
              "      <td>Maple_Leaf_Gardens</td>\n",
              "      <td>43.662220</td>\n",
              "      <td>-79.380280</td>\n",
              "      <td>Sport</td>\n",
              "    </tr>\n",
              "    <tr>\n",
              "      <th>3</th>\n",
              "      <td>4</td>\n",
              "      <td>Rogers_Centre</td>\n",
              "      <td>43.641390</td>\n",
              "      <td>-79.389170</td>\n",
              "      <td>Sport</td>\n",
              "    </tr>\n",
              "    <tr>\n",
              "      <th>4</th>\n",
              "      <td>5</td>\n",
              "      <td>Woodbine_Racetrack</td>\n",
              "      <td>43.712525</td>\n",
              "      <td>-79.602042</td>\n",
              "      <td>Sport</td>\n",
              "    </tr>\n",
              "    <tr>\n",
              "      <th>5</th>\n",
              "      <td>6</td>\n",
              "      <td>Art_Gallery_of_Ontario</td>\n",
              "      <td>43.653890</td>\n",
              "      <td>-79.392780</td>\n",
              "      <td>Cultural</td>\n",
              "    </tr>\n",
              "    <tr>\n",
              "      <th>6</th>\n",
              "      <td>7</td>\n",
              "      <td>Hockey_Hall_of_Fame</td>\n",
              "      <td>43.646976</td>\n",
              "      <td>-79.377253</td>\n",
              "      <td>Cultural</td>\n",
              "    </tr>\n",
              "    <tr>\n",
              "      <th>7</th>\n",
              "      <td>8</td>\n",
              "      <td>Ripley%27s_Aquarium_of_Canada</td>\n",
              "      <td>43.642481</td>\n",
              "      <td>-79.386050</td>\n",
              "      <td>Cultural</td>\n",
              "    </tr>\n",
              "    <tr>\n",
              "      <th>8</th>\n",
              "      <td>9</td>\n",
              "      <td>Ontario_Science_Centre</td>\n",
              "      <td>43.716670</td>\n",
              "      <td>-79.338330</td>\n",
              "      <td>Cultural</td>\n",
              "    </tr>\n",
              "    <tr>\n",
              "      <th>9</th>\n",
              "      <td>10</td>\n",
              "      <td>Riverdale_Farm</td>\n",
              "      <td>43.667111</td>\n",
              "      <td>-79.361294</td>\n",
              "      <td>Cultural</td>\n",
              "    </tr>\n",
              "    <tr>\n",
              "      <th>10</th>\n",
              "      <td>11</td>\n",
              "      <td>Royal_Ontario_Museum</td>\n",
              "      <td>43.667500</td>\n",
              "      <td>-79.394170</td>\n",
              "      <td>Cultural</td>\n",
              "    </tr>\n",
              "    <tr>\n",
              "      <th>11</th>\n",
              "      <td>12</td>\n",
              "      <td>Toronto_Zoo</td>\n",
              "      <td>43.820278</td>\n",
              "      <td>-79.182778</td>\n",
              "      <td>Cultural</td>\n",
              "    </tr>\n",
              "    <tr>\n",
              "      <th>12</th>\n",
              "      <td>13</td>\n",
              "      <td>Casa_Loma</td>\n",
              "      <td>43.678100</td>\n",
              "      <td>-79.409500</td>\n",
              "      <td>Cultural</td>\n",
              "    </tr>\n",
              "    <tr>\n",
              "      <th>13</th>\n",
              "      <td>14</td>\n",
              "      <td>Canadian_National_Exhibition</td>\n",
              "      <td>43.633330</td>\n",
              "      <td>-79.416670</td>\n",
              "      <td>Amusement</td>\n",
              "    </tr>\n",
              "    <tr>\n",
              "      <th>14</th>\n",
              "      <td>15</td>\n",
              "      <td>Centreville_Amusement_Park</td>\n",
              "      <td>43.620308</td>\n",
              "      <td>-79.373678</td>\n",
              "      <td>Amusement</td>\n",
              "    </tr>\n",
              "    <tr>\n",
              "      <th>15</th>\n",
              "      <td>16</td>\n",
              "      <td>CN_Tower</td>\n",
              "      <td>43.642600</td>\n",
              "      <td>-79.387100</td>\n",
              "      <td>Amusement</td>\n",
              "    </tr>\n",
              "    <tr>\n",
              "      <th>16</th>\n",
              "      <td>17</td>\n",
              "      <td>Exhibition_Place</td>\n",
              "      <td>43.632780</td>\n",
              "      <td>-79.416110</td>\n",
              "      <td>Amusement</td>\n",
              "    </tr>\n",
              "    <tr>\n",
              "      <th>17</th>\n",
              "      <td>18</td>\n",
              "      <td>Sunnyside_Amusement_Park</td>\n",
              "      <td>43.637923</td>\n",
              "      <td>-79.450786</td>\n",
              "      <td>Amusement</td>\n",
              "    </tr>\n",
              "    <tr>\n",
              "      <th>18</th>\n",
              "      <td>19</td>\n",
              "      <td>Toronto_Islands</td>\n",
              "      <td>43.620830</td>\n",
              "      <td>-79.378610</td>\n",
              "      <td>Beach</td>\n",
              "    </tr>\n",
              "    <tr>\n",
              "      <th>19</th>\n",
              "      <td>20</td>\n",
              "      <td>High_Park</td>\n",
              "      <td>43.646821</td>\n",
              "      <td>-79.462996</td>\n",
              "      <td>Beach</td>\n",
              "    </tr>\n",
              "    <tr>\n",
              "      <th>20</th>\n",
              "      <td>21</td>\n",
              "      <td>Yonge-Dundas_Square</td>\n",
              "      <td>43.656110</td>\n",
              "      <td>-79.380280</td>\n",
              "      <td>Beach</td>\n",
              "    </tr>\n",
              "    <tr>\n",
              "      <th>21</th>\n",
              "      <td>22</td>\n",
              "      <td>Nathan_Phillips_Square</td>\n",
              "      <td>43.652500</td>\n",
              "      <td>-79.383610</td>\n",
              "      <td>Beach</td>\n",
              "    </tr>\n",
              "    <tr>\n",
              "      <th>22</th>\n",
              "      <td>23</td>\n",
              "      <td>Toronto_Eaton_Centre</td>\n",
              "      <td>43.653982</td>\n",
              "      <td>-79.380319</td>\n",
              "      <td>Shopping</td>\n",
              "    </tr>\n",
              "    <tr>\n",
              "      <th>23</th>\n",
              "      <td>24</td>\n",
              "      <td>Harbourfront_Centre</td>\n",
              "      <td>43.638490</td>\n",
              "      <td>-79.382068</td>\n",
              "      <td>Shopping</td>\n",
              "    </tr>\n",
              "    <tr>\n",
              "      <th>24</th>\n",
              "      <td>25</td>\n",
              "      <td>Kensington_Market</td>\n",
              "      <td>43.654772</td>\n",
              "      <td>-79.400678</td>\n",
              "      <td>Shopping</td>\n",
              "    </tr>\n",
              "    <tr>\n",
              "      <th>25</th>\n",
              "      <td>26</td>\n",
              "      <td>Yorkdale_Shopping_Centre</td>\n",
              "      <td>43.725599</td>\n",
              "      <td>-79.452696</td>\n",
              "      <td>Shopping</td>\n",
              "    </tr>\n",
              "    <tr>\n",
              "      <th>26</th>\n",
              "      <td>27</td>\n",
              "      <td>Yorkville,_Toronto</td>\n",
              "      <td>43.670280</td>\n",
              "      <td>-79.391110</td>\n",
              "      <td>Shopping</td>\n",
              "    </tr>\n",
              "    <tr>\n",
              "      <th>27</th>\n",
              "      <td>28</td>\n",
              "      <td>Old_City_Hall_(Toronto)</td>\n",
              "      <td>43.652500</td>\n",
              "      <td>-79.381670</td>\n",
              "      <td>Structure</td>\n",
              "    </tr>\n",
              "    <tr>\n",
              "      <th>28</th>\n",
              "      <td>29</td>\n",
              "      <td>Ontario_Legislative_Building</td>\n",
              "      <td>43.662447</td>\n",
              "      <td>-79.391708</td>\n",
              "      <td>Structure</td>\n",
              "    </tr>\n",
              "    <tr>\n",
              "      <th>29</th>\n",
              "      <td>30</td>\n",
              "      <td>Union_Station_(Toronto)</td>\n",
              "      <td>43.645280</td>\n",
              "      <td>-79.380560</td>\n",
              "      <td>Structure</td>\n",
              "    </tr>\n",
              "  </tbody>\n",
              "</table>\n",
              "</div>"
            ],
            "application/vnd.google.colaboratory.module+javascript": "\n      import \"https://ssl.gstatic.com/colaboratory/data_table/a8bd4d5e58f96183/data_table.js\";\n\n      window.createDataTable({\n        data: [[{\n            'v': 1,\n            'f': \"1\",\n        },\n\"Air_Canada_Centre\",\n{\n            'v': 43.64333,\n            'f': \"43.64333\",\n        },\n{\n            'v': -79.37917,\n            'f': \"-79.37917\",\n        },\n\"Sport\"],\n [{\n            'v': 2,\n            'f': \"2\",\n        },\n\"BMO_Field\",\n{\n            'v': 43.63278,\n            'f': \"43.63278\",\n        },\n{\n            'v': -79.41861,\n            'f': \"-79.41861\",\n        },\n\"Sport\"],\n [{\n            'v': 3,\n            'f': \"3\",\n        },\n\"Maple_Leaf_Gardens\",\n{\n            'v': 43.66222,\n            'f': \"43.66222\",\n        },\n{\n            'v': -79.38028,\n            'f': \"-79.38028\",\n        },\n\"Sport\"],\n [{\n            'v': 4,\n            'f': \"4\",\n        },\n\"Rogers_Centre\",\n{\n            'v': 43.64139,\n            'f': \"43.64139\",\n        },\n{\n            'v': -79.38917,\n            'f': \"-79.38917\",\n        },\n\"Sport\"],\n [{\n            'v': 5,\n            'f': \"5\",\n        },\n\"Woodbine_Racetrack\",\n{\n            'v': 43.712525,\n            'f': \"43.712525\",\n        },\n{\n            'v': -79.6020417,\n            'f': \"-79.6020417\",\n        },\n\"Sport\"],\n [{\n            'v': 6,\n            'f': \"6\",\n        },\n\"Art_Gallery_of_Ontario\",\n{\n            'v': 43.65389,\n            'f': \"43.65389\",\n        },\n{\n            'v': -79.39278,\n            'f': \"-79.39278\",\n        },\n\"Cultural\"],\n [{\n            'v': 7,\n            'f': \"7\",\n        },\n\"Hockey_Hall_of_Fame\",\n{\n            'v': 43.646976,\n            'f': \"43.646976\",\n        },\n{\n            'v': -79.377253,\n            'f': \"-79.377253\",\n        },\n\"Cultural\"],\n [{\n            'v': 8,\n            'f': \"8\",\n        },\n\"Ripley%27s_Aquarium_of_Canada\",\n{\n            'v': 43.642481,\n            'f': \"43.642481\",\n        },\n{\n            'v': -79.38605,\n            'f': \"-79.38605\",\n        },\n\"Cultural\"],\n [{\n            'v': 9,\n            'f': \"9\",\n        },\n\"Ontario_Science_Centre\",\n{\n            'v': 43.71667,\n            'f': \"43.71667\",\n        },\n{\n            'v': -79.33833,\n            'f': \"-79.33833\",\n        },\n\"Cultural\"],\n [{\n            'v': 10,\n            'f': \"10\",\n        },\n\"Riverdale_Farm\",\n{\n            'v': 43.667111,\n            'f': \"43.667111\",\n        },\n{\n            'v': -79.361294,\n            'f': \"-79.361294\",\n        },\n\"Cultural\"],\n [{\n            'v': 11,\n            'f': \"11\",\n        },\n\"Royal_Ontario_Museum\",\n{\n            'v': 43.6675,\n            'f': \"43.6675\",\n        },\n{\n            'v': -79.39417,\n            'f': \"-79.39417\",\n        },\n\"Cultural\"],\n [{\n            'v': 12,\n            'f': \"12\",\n        },\n\"Toronto_Zoo\",\n{\n            'v': 43.8202778,\n            'f': \"43.8202778\",\n        },\n{\n            'v': -79.1827778,\n            'f': \"-79.1827778\",\n        },\n\"Cultural\"],\n [{\n            'v': 13,\n            'f': \"13\",\n        },\n\"Casa_Loma\",\n{\n            'v': 43.6781,\n            'f': \"43.6781\",\n        },\n{\n            'v': -79.4095,\n            'f': \"-79.4095\",\n        },\n\"Cultural\"],\n [{\n            'v': 14,\n            'f': \"14\",\n        },\n\"Canadian_National_Exhibition\",\n{\n            'v': 43.63333,\n            'f': \"43.63333\",\n        },\n{\n            'v': -79.41667,\n            'f': \"-79.41667\",\n        },\n\"Amusement\"],\n [{\n            'v': 15,\n            'f': \"15\",\n        },\n\"Centreville_Amusement_Park\",\n{\n            'v': 43.6203083,\n            'f': \"43.6203083\",\n        },\n{\n            'v': -79.3736778,\n            'f': \"-79.3736778\",\n        },\n\"Amusement\"],\n [{\n            'v': 16,\n            'f': \"16\",\n        },\n\"CN_Tower\",\n{\n            'v': 43.6426,\n            'f': \"43.6426\",\n        },\n{\n            'v': -79.3871,\n            'f': \"-79.3871\",\n        },\n\"Amusement\"],\n [{\n            'v': 17,\n            'f': \"17\",\n        },\n\"Exhibition_Place\",\n{\n            'v': 43.63278,\n            'f': \"43.63278\",\n        },\n{\n            'v': -79.41611,\n            'f': \"-79.41611\",\n        },\n\"Amusement\"],\n [{\n            'v': 18,\n            'f': \"18\",\n        },\n\"Sunnyside_Amusement_Park\",\n{\n            'v': 43.637923,\n            'f': \"43.637923\",\n        },\n{\n            'v': -79.450786,\n            'f': \"-79.450786\",\n        },\n\"Amusement\"],\n [{\n            'v': 19,\n            'f': \"19\",\n        },\n\"Toronto_Islands\",\n{\n            'v': 43.62083,\n            'f': \"43.62083\",\n        },\n{\n            'v': -79.37861,\n            'f': \"-79.37861\",\n        },\n\"Beach\"],\n [{\n            'v': 20,\n            'f': \"20\",\n        },\n\"High_Park\",\n{\n            'v': 43.646821,\n            'f': \"43.646821\",\n        },\n{\n            'v': -79.462996,\n            'f': \"-79.462996\",\n        },\n\"Beach\"],\n [{\n            'v': 21,\n            'f': \"21\",\n        },\n\"Yonge-Dundas_Square\",\n{\n            'v': 43.65611,\n            'f': \"43.65611\",\n        },\n{\n            'v': -79.38028,\n            'f': \"-79.38028\",\n        },\n\"Beach\"],\n [{\n            'v': 22,\n            'f': \"22\",\n        },\n\"Nathan_Phillips_Square\",\n{\n            'v': 43.6525,\n            'f': \"43.6525\",\n        },\n{\n            'v': -79.38361,\n            'f': \"-79.38361\",\n        },\n\"Beach\"],\n [{\n            'v': 23,\n            'f': \"23\",\n        },\n\"Toronto_Eaton_Centre\",\n{\n            'v': 43.653982,\n            'f': \"43.653982\",\n        },\n{\n            'v': -79.380319,\n            'f': \"-79.380319\",\n        },\n\"Shopping\"],\n [{\n            'v': 24,\n            'f': \"24\",\n        },\n\"Harbourfront_Centre\",\n{\n            'v': 43.63849,\n            'f': \"43.63849\",\n        },\n{\n            'v': -79.382068,\n            'f': \"-79.382068\",\n        },\n\"Shopping\"],\n [{\n            'v': 25,\n            'f': \"25\",\n        },\n\"Kensington_Market\",\n{\n            'v': 43.6547722,\n            'f': \"43.6547722\",\n        },\n{\n            'v': -79.4006778,\n            'f': \"-79.4006778\",\n        },\n\"Shopping\"],\n [{\n            'v': 26,\n            'f': \"26\",\n        },\n\"Yorkdale_Shopping_Centre\",\n{\n            'v': 43.725599,\n            'f': \"43.725599\",\n        },\n{\n            'v': -79.452696,\n            'f': \"-79.452696\",\n        },\n\"Shopping\"],\n [{\n            'v': 27,\n            'f': \"27\",\n        },\n\"Yorkville,_Toronto\",\n{\n            'v': 43.67028,\n            'f': \"43.67028\",\n        },\n{\n            'v': -79.39111,\n            'f': \"-79.39111\",\n        },\n\"Shopping\"],\n [{\n            'v': 28,\n            'f': \"28\",\n        },\n\"Old_City_Hall_(Toronto)\",\n{\n            'v': 43.6525,\n            'f': \"43.6525\",\n        },\n{\n            'v': -79.38167,\n            'f': \"-79.38167\",\n        },\n\"Structure\"],\n [{\n            'v': 29,\n            'f': \"29\",\n        },\n\"Ontario_Legislative_Building\",\n{\n            'v': 43.662447,\n            'f': \"43.662447\",\n        },\n{\n            'v': -79.391708,\n            'f': \"-79.391708\",\n        },\n\"Structure\"],\n [{\n            'v': 30,\n            'f': \"30\",\n        },\n\"Union_Station_(Toronto)\",\n{\n            'v': 43.64528,\n            'f': \"43.64528\",\n        },\n{\n            'v': -79.38056,\n            'f': \"-79.38056\",\n        },\n\"Structure\"]],\n        columns: [[\"number\", \"poiID\"], [\"string\", \"poiName\"], [\"number\", \"latitude\"], [\"number\", \"longitude\"], [\"string\", \"theme\"]],\n        columnOptions: [],\n        rowsPerPage: 10,\n        helpUrl: \"https://colab.research.google.com/notebooks/data_table.ipynb\",\n        suppressOutputScrolling: true,\n        minimumWidth: undefined,\n      });\n    ",
            "text/plain": [
              "<google.colab.data_table.DataTable object>"
            ]
          },
          "metadata": {},
          "execution_count": 16
        }
      ]
    },
    {
      "cell_type": "markdown",
      "source": [
        "la liste des thèmes"
      ],
      "metadata": {
        "id": "yTyTy_DVd_Ld"
      }
    },
    {
      "cell_type": "code",
      "source": [
        "%%sql\n",
        "--create or replace temp view themes as\n",
        "-- .............\n",
        "--cache table themes;\n",
        "\n",
        "--select * from themes"
      ],
      "metadata": {
        "id": "DhBjBGf5IUer"
      },
      "execution_count": null,
      "outputs": []
    },
    {
      "cell_type": "markdown",
      "metadata": {
        "application/vnd.databricks.v1+cell": {
          "title": "",
          "showTitle": false,
          "inputWidgets": {},
          "nuid": "2df59fb1-4bd6-4d74-9ca4-d4959934dd9d"
        },
        "id": "qkCz6l14GpLo"
      },
      "source": [
        "## Exercice 1"
      ]
    },
    {
      "cell_type": "markdown",
      "source": [
        "#### 1) Les 10 POI les plus visités"
      ],
      "metadata": {
        "id": "TCXIej13EfHx"
      }
    },
    {
      "cell_type": "code",
      "source": [
        "%%sql\n",
        "\n",
        "SELECT DISTINCT poiName, poiFreq \n",
        "from \n",
        "user_visits INNER JOIN POI ON user_visits.poiID==POI.poiID \n",
        "ORDER BY poiFreq DESC\n",
        "Limit 10"
      ],
      "metadata": {
        "id": "1RZRrj0TIHAB",
        "colab": {
          "base_uri": "https://localhost:8080/",
          "height": 308
        },
        "outputId": "d504d0f0-2def-401f-c71c-1e56ca56ca11"
      },
      "execution_count": null,
      "outputs": [
        {
          "output_type": "execute_result",
          "data": {
            "text/html": [
              "<div>\n",
              "<style scoped>\n",
              "    .dataframe tbody tr th:only-of-type {\n",
              "        vertical-align: middle;\n",
              "    }\n",
              "\n",
              "    .dataframe tbody tr th {\n",
              "        vertical-align: top;\n",
              "    }\n",
              "\n",
              "    .dataframe thead th {\n",
              "        text-align: right;\n",
              "    }\n",
              "</style>\n",
              "<table border=\"1\" class=\"dataframe\">\n",
              "  <thead>\n",
              "    <tr style=\"text-align: right;\">\n",
              "      <th></th>\n",
              "      <th>poiName</th>\n",
              "      <th>poiFreq</th>\n",
              "    </tr>\n",
              "  </thead>\n",
              "  <tbody>\n",
              "    <tr>\n",
              "      <th>0</th>\n",
              "      <td>Royal_Ontario_Museum</td>\n",
              "      <td>4142</td>\n",
              "    </tr>\n",
              "    <tr>\n",
              "      <th>1</th>\n",
              "      <td>Nathan_Phillips_Square</td>\n",
              "      <td>3619</td>\n",
              "    </tr>\n",
              "    <tr>\n",
              "      <th>2</th>\n",
              "      <td>Yonge-Dundas_Square</td>\n",
              "      <td>3594</td>\n",
              "    </tr>\n",
              "    <tr>\n",
              "      <th>3</th>\n",
              "      <td>CN_Tower</td>\n",
              "      <td>3553</td>\n",
              "    </tr>\n",
              "    <tr>\n",
              "      <th>4</th>\n",
              "      <td>Air_Canada_Centre</td>\n",
              "      <td>3506</td>\n",
              "    </tr>\n",
              "    <tr>\n",
              "      <th>5</th>\n",
              "      <td>Rogers_Centre</td>\n",
              "      <td>3056</td>\n",
              "    </tr>\n",
              "    <tr>\n",
              "      <th>6</th>\n",
              "      <td>Hockey_Hall_of_Fame</td>\n",
              "      <td>2064</td>\n",
              "    </tr>\n",
              "    <tr>\n",
              "      <th>7</th>\n",
              "      <td>Toronto_Eaton_Centre</td>\n",
              "      <td>1874</td>\n",
              "    </tr>\n",
              "    <tr>\n",
              "      <th>8</th>\n",
              "      <td>Ripley%27s_Aquarium_of_Canada</td>\n",
              "      <td>1736</td>\n",
              "    </tr>\n",
              "    <tr>\n",
              "      <th>9</th>\n",
              "      <td>Kensington_Market</td>\n",
              "      <td>1701</td>\n",
              "    </tr>\n",
              "  </tbody>\n",
              "</table>\n",
              "</div>"
            ],
            "application/vnd.google.colaboratory.module+javascript": "\n      import \"https://ssl.gstatic.com/colaboratory/data_table/a8bd4d5e58f96183/data_table.js\";\n\n      window.createDataTable({\n        data: [[\"Royal_Ontario_Museum\",\n{\n            'v': 4142,\n            'f': \"4142\",\n        }],\n [\"Nathan_Phillips_Square\",\n{\n            'v': 3619,\n            'f': \"3619\",\n        }],\n [\"Yonge-Dundas_Square\",\n{\n            'v': 3594,\n            'f': \"3594\",\n        }],\n [\"CN_Tower\",\n{\n            'v': 3553,\n            'f': \"3553\",\n        }],\n [\"Air_Canada_Centre\",\n{\n            'v': 3506,\n            'f': \"3506\",\n        }],\n [\"Rogers_Centre\",\n{\n            'v': 3056,\n            'f': \"3056\",\n        }],\n [\"Hockey_Hall_of_Fame\",\n{\n            'v': 2064,\n            'f': \"2064\",\n        }],\n [\"Toronto_Eaton_Centre\",\n{\n            'v': 1874,\n            'f': \"1874\",\n        }],\n [\"Ripley%27s_Aquarium_of_Canada\",\n{\n            'v': 1736,\n            'f': \"1736\",\n        }],\n [\"Kensington_Market\",\n{\n            'v': 1701,\n            'f': \"1701\",\n        }]],\n        columns: [[\"string\", \"poiName\"], [\"number\", \"poiFreq\"]],\n        columnOptions: [],\n        rowsPerPage: 10,\n        helpUrl: \"https://colab.research.google.com/notebooks/data_table.ipynb\",\n        suppressOutputScrolling: true,\n        minimumWidth: undefined,\n      });\n    ",
            "text/plain": [
              "<google.colab.data_table.DataTable object>"
            ]
          },
          "metadata": {},
          "execution_count": 17
        }
      ]
    },
    {
      "cell_type": "markdown",
      "source": [
        "#### 2) POI avec date\n",
        "POI_date(...) Les POI avec la date détaillée composée des attributs : année, mois, jour, heure."
      ],
      "metadata": {
        "id": "IIEN0viEFl2A"
      }
    },
    {
      "cell_type": "code",
      "source": [
        "%%sql\n",
        "\n",
        "SELECT FROM_UNIXTIME(date,\"y-m-d h'h'\"), v.*\n",
        "from user_visits v \n"
      ],
      "metadata": {
        "id": "NXPLRlC4IGOz",
        "colab": {
          "base_uri": "https://localhost:8080/",
          "height": 314
        },
        "outputId": "f4f30e69-5108-418f-f7d1-185ddfd1359b"
      },
      "execution_count": null,
      "outputs": [
        {
          "output_type": "execute_result",
          "data": {
            "text/html": [
              "<div>\n",
              "<style scoped>\n",
              "    .dataframe tbody tr th:only-of-type {\n",
              "        vertical-align: middle;\n",
              "    }\n",
              "\n",
              "    .dataframe tbody tr th {\n",
              "        vertical-align: top;\n",
              "    }\n",
              "\n",
              "    .dataframe thead th {\n",
              "        text-align: right;\n",
              "    }\n",
              "</style>\n",
              "<table border=\"1\" class=\"dataframe\">\n",
              "  <thead>\n",
              "    <tr style=\"text-align: right;\">\n",
              "      <th></th>\n",
              "      <th>from_unixtime(date, y-m-d h'h')</th>\n",
              "      <th>photoID</th>\n",
              "      <th>userID</th>\n",
              "      <th>date</th>\n",
              "      <th>poiID</th>\n",
              "      <th>poiTheme</th>\n",
              "      <th>poiFreq</th>\n",
              "      <th>seqID</th>\n",
              "    </tr>\n",
              "  </thead>\n",
              "  <tbody>\n",
              "    <tr>\n",
              "      <th>0</th>\n",
              "      <td>2012-31-5 11h</td>\n",
              "      <td>7941504100</td>\n",
              "      <td>10007579@N00</td>\n",
              "      <td>1346844688</td>\n",
              "      <td>30</td>\n",
              "      <td>Structure</td>\n",
              "      <td>1538</td>\n",
              "      <td>1</td>\n",
              "    </tr>\n",
              "    <tr>\n",
              "      <th>1</th>\n",
              "      <td>2006-30-19 1h</td>\n",
              "      <td>4886005532</td>\n",
              "      <td>10012675@N05</td>\n",
              "      <td>1142731848</td>\n",
              "      <td>6</td>\n",
              "      <td>Cultural</td>\n",
              "      <td>986</td>\n",
              "      <td>2</td>\n",
              "    </tr>\n",
              "    <tr>\n",
              "      <th>2</th>\n",
              "      <td>2006-37-19 1h</td>\n",
              "      <td>4886006468</td>\n",
              "      <td>10012675@N05</td>\n",
              "      <td>1142732248</td>\n",
              "      <td>6</td>\n",
              "      <td>Cultural</td>\n",
              "      <td>986</td>\n",
              "      <td>2</td>\n",
              "    </tr>\n",
              "    <tr>\n",
              "      <th>3</th>\n",
              "      <td>2006-39-19 1h</td>\n",
              "      <td>4885404441</td>\n",
              "      <td>10012675@N05</td>\n",
              "      <td>1142732373</td>\n",
              "      <td>6</td>\n",
              "      <td>Cultural</td>\n",
              "      <td>986</td>\n",
              "      <td>2</td>\n",
              "    </tr>\n",
              "    <tr>\n",
              "      <th>4</th>\n",
              "      <td>2006-40-19 1h</td>\n",
              "      <td>4886008334</td>\n",
              "      <td>10012675@N05</td>\n",
              "      <td>1142732445</td>\n",
              "      <td>6</td>\n",
              "      <td>Cultural</td>\n",
              "      <td>986</td>\n",
              "      <td>2</td>\n",
              "    </tr>\n",
              "    <tr>\n",
              "      <th>...</th>\n",
              "      <td>...</td>\n",
              "      <td>...</td>\n",
              "      <td>...</td>\n",
              "      <td>...</td>\n",
              "      <td>...</td>\n",
              "      <td>...</td>\n",
              "      <td>...</td>\n",
              "      <td>...</td>\n",
              "    </tr>\n",
              "    <tr>\n",
              "      <th>95</th>\n",
              "      <td>2008-53-9 8h</td>\n",
              "      <td>2654929774</td>\n",
              "      <td>10014440@N06</td>\n",
              "      <td>1215593613</td>\n",
              "      <td>25</td>\n",
              "      <td>Shopping</td>\n",
              "      <td>1701</td>\n",
              "      <td>10</td>\n",
              "    </tr>\n",
              "    <tr>\n",
              "      <th>96</th>\n",
              "      <td>2008-53-9 8h</td>\n",
              "      <td>2654104231</td>\n",
              "      <td>10014440@N06</td>\n",
              "      <td>1215593634</td>\n",
              "      <td>25</td>\n",
              "      <td>Shopping</td>\n",
              "      <td>1701</td>\n",
              "      <td>10</td>\n",
              "    </tr>\n",
              "    <tr>\n",
              "      <th>97</th>\n",
              "      <td>2008-54-9 8h</td>\n",
              "      <td>2654930912</td>\n",
              "      <td>10014440@N06</td>\n",
              "      <td>1215593650</td>\n",
              "      <td>25</td>\n",
              "      <td>Shopping</td>\n",
              "      <td>1701</td>\n",
              "      <td>10</td>\n",
              "    </tr>\n",
              "    <tr>\n",
              "      <th>98</th>\n",
              "      <td>2008-54-9 8h</td>\n",
              "      <td>2654105249</td>\n",
              "      <td>10014440@N06</td>\n",
              "      <td>1215593655</td>\n",
              "      <td>25</td>\n",
              "      <td>Shopping</td>\n",
              "      <td>1701</td>\n",
              "      <td>10</td>\n",
              "    </tr>\n",
              "    <tr>\n",
              "      <th>99</th>\n",
              "      <td>2008-54-9 8h</td>\n",
              "      <td>2654931868</td>\n",
              "      <td>10014440@N06</td>\n",
              "      <td>1215593674</td>\n",
              "      <td>25</td>\n",
              "      <td>Shopping</td>\n",
              "      <td>1701</td>\n",
              "      <td>10</td>\n",
              "    </tr>\n",
              "  </tbody>\n",
              "</table>\n",
              "<p>100 rows × 8 columns</p>\n",
              "</div>"
            ],
            "application/vnd.google.colaboratory.module+javascript": "\n      import \"https://ssl.gstatic.com/colaboratory/data_table/a8bd4d5e58f96183/data_table.js\";\n\n      window.createDataTable({\n        data: [[\"2012-31-5 11h\",\n{\n            'v': 7941504100,\n            'f': \"7941504100\",\n        },\n\"10007579@N00\",\n{\n            'v': 1346844688,\n            'f': \"1346844688\",\n        },\n{\n            'v': 30,\n            'f': \"30\",\n        },\n\"Structure\",\n{\n            'v': 1538,\n            'f': \"1538\",\n        },\n{\n            'v': 1,\n            'f': \"1\",\n        }],\n [\"2006-30-19 1h\",\n{\n            'v': 4886005532,\n            'f': \"4886005532\",\n        },\n\"10012675@N05\",\n{\n            'v': 1142731848,\n            'f': \"1142731848\",\n        },\n{\n            'v': 6,\n            'f': \"6\",\n        },\n\"Cultural\",\n{\n            'v': 986,\n            'f': \"986\",\n        },\n{\n            'v': 2,\n            'f': \"2\",\n        }],\n [\"2006-37-19 1h\",\n{\n            'v': 4886006468,\n            'f': \"4886006468\",\n        },\n\"10012675@N05\",\n{\n            'v': 1142732248,\n            'f': \"1142732248\",\n        },\n{\n            'v': 6,\n            'f': \"6\",\n        },\n\"Cultural\",\n{\n            'v': 986,\n            'f': \"986\",\n        },\n{\n            'v': 2,\n            'f': \"2\",\n        }],\n [\"2006-39-19 1h\",\n{\n            'v': 4885404441,\n            'f': \"4885404441\",\n        },\n\"10012675@N05\",\n{\n            'v': 1142732373,\n            'f': \"1142732373\",\n        },\n{\n            'v': 6,\n            'f': \"6\",\n        },\n\"Cultural\",\n{\n            'v': 986,\n            'f': \"986\",\n        },\n{\n            'v': 2,\n            'f': \"2\",\n        }],\n [\"2006-40-19 1h\",\n{\n            'v': 4886008334,\n            'f': \"4886008334\",\n        },\n\"10012675@N05\",\n{\n            'v': 1142732445,\n            'f': \"1142732445\",\n        },\n{\n            'v': 6,\n            'f': \"6\",\n        },\n\"Cultural\",\n{\n            'v': 986,\n            'f': \"986\",\n        },\n{\n            'v': 2,\n            'f': \"2\",\n        }],\n [\"2006-48-21 4h\",\n{\n            'v': 4886009150,\n            'f': \"4886009150\",\n        },\n\"10012675@N05\",\n{\n            'v': 1142916492,\n            'f': \"1142916492\",\n        },\n{\n            'v': 6,\n            'f': \"6\",\n        },\n\"Cultural\",\n{\n            'v': 986,\n            'f': \"986\",\n        },\n{\n            'v': 3,\n            'f': \"3\",\n        }],\n [\"2011-46-22 11h\",\n{\n            'v': 7054481539,\n            'f': \"7054481539\",\n        },\n\"10012675@N05\",\n{\n            'v': 1319327174,\n            'f': \"1319327174\",\n        },\n{\n            'v': 13,\n            'f': \"13\",\n        },\n\"Cultural\",\n{\n            'v': 964,\n            'f': \"964\",\n        },\n{\n            'v': 4,\n            'f': \"4\",\n        }],\n [\"2011-4-23 12h\",\n{\n            'v': 6908387594,\n            'f': \"6908387594\",\n        },\n\"10012675@N05\",\n{\n            'v': 1319328255,\n            'f': \"1319328255\",\n        },\n{\n            'v': 13,\n            'f': \"13\",\n        },\n\"Cultural\",\n{\n            'v': 964,\n            'f': \"964\",\n        },\n{\n            'v': 4,\n            'f': \"4\",\n        }],\n [\"2011-57-23 12h\",\n{\n            'v': 6908381912,\n            'f': \"6908381912\",\n        },\n\"10012675@N05\",\n{\n            'v': 1319331463,\n            'f': \"1319331463\",\n        },\n{\n            'v': 13,\n            'f': \"13\",\n        },\n\"Cultural\",\n{\n            'v': 964,\n            'f': \"964\",\n        },\n{\n            'v': 4,\n            'f': \"4\",\n        }],\n [\"2011-4-23 1h\",\n{\n            'v': 6908398496,\n            'f': \"6908398496\",\n        },\n\"10012675@N05\",\n{\n            'v': 1319331886,\n            'f': \"1319331886\",\n        },\n{\n            'v': 13,\n            'f': \"13\",\n        },\n\"Cultural\",\n{\n            'v': 964,\n            'f': \"964\",\n        },\n{\n            'v': 4,\n            'f': \"4\",\n        }],\n [\"2011-6-23 1h\",\n{\n            'v': 7054462485,\n            'f': \"7054462485\",\n        },\n\"10012675@N05\",\n{\n            'v': 1319331985,\n            'f': \"1319331985\",\n        },\n{\n            'v': 13,\n            'f': \"13\",\n        },\n\"Cultural\",\n{\n            'v': 964,\n            'f': \"964\",\n        },\n{\n            'v': 4,\n            'f': \"4\",\n        }],\n [\"2011-10-23 1h\",\n{\n            'v': 6908401428,\n            'f': \"6908401428\",\n        },\n\"10012675@N05\",\n{\n            'v': 1319332200,\n            'f': \"1319332200\",\n        },\n{\n            'v': 13,\n            'f': \"13\",\n        },\n\"Cultural\",\n{\n            'v': 964,\n            'f': \"964\",\n        },\n{\n            'v': 4,\n            'f': \"4\",\n        }],\n [\"2011-16-23 1h\",\n{\n            'v': 7054463311,\n            'f': \"7054463311\",\n        },\n\"10012675@N05\",\n{\n            'v': 1319332609,\n            'f': \"1319332609\",\n        },\n{\n            'v': 13,\n            'f': \"13\",\n        },\n\"Cultural\",\n{\n            'v': 964,\n            'f': \"964\",\n        },\n{\n            'v': 4,\n            'f': \"4\",\n        }],\n [\"2011-19-23 1h\",\n{\n            'v': 6908372508,\n            'f': \"6908372508\",\n        },\n\"10012675@N05\",\n{\n            'v': 1319332778,\n            'f': \"1319332778\",\n        },\n{\n            'v': 13,\n            'f': \"13\",\n        },\n\"Cultural\",\n{\n            'v': 964,\n            'f': \"964\",\n        },\n{\n            'v': 4,\n            'f': \"4\",\n        }],\n [\"2011-20-23 1h\",\n{\n            'v': 6908373156,\n            'f': \"6908373156\",\n        },\n\"10012675@N05\",\n{\n            'v': 1319332848,\n            'f': \"1319332848\",\n        },\n{\n            'v': 13,\n            'f': \"13\",\n        },\n\"Cultural\",\n{\n            'v': 964,\n            'f': \"964\",\n        },\n{\n            'v': 4,\n            'f': \"4\",\n        }],\n [\"2007-57-27 1h\",\n{\n            'v': 2069962164,\n            'f': \"2069962164\",\n        },\n\"10014440@N06\",\n{\n            'v': 1196128621,\n            'f': \"1196128621\",\n        },\n{\n            'v': 24,\n            'f': \"24\",\n        },\n\"Shopping\",\n{\n            'v': 1028,\n            'f': \"1028\",\n        },\n{\n            'v': 5,\n            'f': \"5\",\n        }],\n [\"2007-58-27 1h\",\n{\n            'v': 2069167913,\n            'f': \"2069167913\",\n        },\n\"10014440@N06\",\n{\n            'v': 1196128737,\n            'f': \"1196128737\",\n        },\n{\n            'v': 24,\n            'f': \"24\",\n        },\n\"Shopping\",\n{\n            'v': 1028,\n            'f': \"1028\",\n        },\n{\n            'v': 5,\n            'f': \"5\",\n        }],\n [\"2007-1-27 2h\",\n{\n            'v': 2069963052,\n            'f': \"2069963052\",\n        },\n\"10014440@N06\",\n{\n            'v': 1196128878,\n            'f': \"1196128878\",\n        },\n{\n            'v': 24,\n            'f': \"24\",\n        },\n\"Shopping\",\n{\n            'v': 1028,\n            'f': \"1028\",\n        },\n{\n            'v': 5,\n            'f': \"5\",\n        }],\n [\"2007-9-19 8h\",\n{\n            'v': 2124161426,\n            'f': \"2124161426\",\n        },\n\"10014440@N06\",\n{\n            'v': 1198051767,\n            'f': \"1198051767\",\n        },\n{\n            'v': 23,\n            'f': \"23\",\n        },\n\"Shopping\",\n{\n            'v': 1874,\n            'f': \"1874\",\n        },\n{\n            'v': 6,\n            'f': \"6\",\n        }],\n [\"2007-10-19 8h\",\n{\n            'v': 2124161696,\n            'f': \"2124161696\",\n        },\n\"10014440@N06\",\n{\n            'v': 1198051839,\n            'f': \"1198051839\",\n        },\n{\n            'v': 23,\n            'f': \"23\",\n        },\n\"Shopping\",\n{\n            'v': 1874,\n            'f': \"1874\",\n        },\n{\n            'v': 6,\n            'f': \"6\",\n        }],\n [\"2007-15-19 8h\",\n{\n            'v': 2124162018,\n            'f': \"2124162018\",\n        },\n\"10014440@N06\",\n{\n            'v': 1198052142,\n            'f': \"1198052142\",\n        },\n{\n            'v': 23,\n            'f': \"23\",\n        },\n\"Shopping\",\n{\n            'v': 1874,\n            'f': \"1874\",\n        },\n{\n            'v': 6,\n            'f': \"6\",\n        }],\n [\"2007-15-19 8h\",\n{\n            'v': 2124162310,\n            'f': \"2124162310\",\n        },\n\"10014440@N06\",\n{\n            'v': 1198052157,\n            'f': \"1198052157\",\n        },\n{\n            'v': 23,\n            'f': \"23\",\n        },\n\"Shopping\",\n{\n            'v': 1874,\n            'f': \"1874\",\n        },\n{\n            'v': 6,\n            'f': \"6\",\n        }],\n [\"2007-16-19 8h\",\n{\n            'v': 2124162642,\n            'f': \"2124162642\",\n        },\n\"10014440@N06\",\n{\n            'v': 1198052207,\n            'f': \"1198052207\",\n        },\n{\n            'v': 23,\n            'f': \"23\",\n        },\n\"Shopping\",\n{\n            'v': 1874,\n            'f': \"1874\",\n        },\n{\n            'v': 6,\n            'f': \"6\",\n        }],\n [\"2007-17-19 8h\",\n{\n            'v': 2123388775,\n            'f': \"2123388775\",\n        },\n\"10014440@N06\",\n{\n            'v': 1198052244,\n            'f': \"1198052244\",\n        },\n{\n            'v': 23,\n            'f': \"23\",\n        },\n\"Shopping\",\n{\n            'v': 1874,\n            'f': \"1874\",\n        },\n{\n            'v': 6,\n            'f': \"6\",\n        }],\n [\"2007-19-19 8h\",\n{\n            'v': 2123389177,\n            'f': \"2123389177\",\n        },\n\"10014440@N06\",\n{\n            'v': 1198052354,\n            'f': \"1198052354\",\n        },\n{\n            'v': 23,\n            'f': \"23\",\n        },\n\"Shopping\",\n{\n            'v': 1874,\n            'f': \"1874\",\n        },\n{\n            'v': 6,\n            'f': \"6\",\n        }],\n [\"2007-21-19 8h\",\n{\n            'v': 2123389517,\n            'f': \"2123389517\",\n        },\n\"10014440@N06\",\n{\n            'v': 1198052504,\n            'f': \"1198052504\",\n        },\n{\n            'v': 23,\n            'f': \"23\",\n        },\n\"Shopping\",\n{\n            'v': 1874,\n            'f': \"1874\",\n        },\n{\n            'v': 6,\n            'f': \"6\",\n        }],\n [\"2007-22-19 8h\",\n{\n            'v': 2124164318,\n            'f': \"2124164318\",\n        },\n\"10014440@N06\",\n{\n            'v': 1198052526,\n            'f': \"1198052526\",\n        },\n{\n            'v': 23,\n            'f': \"23\",\n        },\n\"Shopping\",\n{\n            'v': 1874,\n            'f': \"1874\",\n        },\n{\n            'v': 6,\n            'f': \"6\",\n        }],\n [\"2007-22-19 8h\",\n{\n            'v': 2123390287,\n            'f': \"2123390287\",\n        },\n\"10014440@N06\",\n{\n            'v': 1198052538,\n            'f': \"1198052538\",\n        },\n{\n            'v': 23,\n            'f': \"23\",\n        },\n\"Shopping\",\n{\n            'v': 1874,\n            'f': \"1874\",\n        },\n{\n            'v': 6,\n            'f': \"6\",\n        }],\n [\"2007-25-19 8h\",\n{\n            'v': 2123390709,\n            'f': \"2123390709\",\n        },\n\"10014440@N06\",\n{\n            'v': 1198052754,\n            'f': \"1198052754\",\n        },\n{\n            'v': 23,\n            'f': \"23\",\n        },\n\"Shopping\",\n{\n            'v': 1874,\n            'f': \"1874\",\n        },\n{\n            'v': 6,\n            'f': \"6\",\n        }],\n [\"2007-27-19 8h\",\n{\n            'v': 2124165632,\n            'f': \"2124165632\",\n        },\n\"10014440@N06\",\n{\n            'v': 1198052832,\n            'f': \"1198052832\",\n        },\n{\n            'v': 23,\n            'f': \"23\",\n        },\n\"Shopping\",\n{\n            'v': 1874,\n            'f': \"1874\",\n        },\n{\n            'v': 6,\n            'f': \"6\",\n        }],\n [\"2007-57-25 11h\",\n{\n            'v': 2138835345,\n            'f': \"2138835345\",\n        },\n\"10014440@N06\",\n{\n            'v': 1198627025,\n            'f': \"1198627025\",\n        },\n{\n            'v': 23,\n            'f': \"23\",\n        },\n\"Shopping\",\n{\n            'v': 1874,\n            'f': \"1874\",\n        },\n{\n            'v': 7,\n            'f': \"7\",\n        }],\n [\"2007-0-26 12h\",\n{\n            'v': 2139617434,\n            'f': \"2139617434\",\n        },\n\"10014440@N06\",\n{\n            'v': 1198627229,\n            'f': \"1198627229\",\n        },\n{\n            'v': 23,\n            'f': \"23\",\n        },\n\"Shopping\",\n{\n            'v': 1874,\n            'f': \"1874\",\n        },\n{\n            'v': 7,\n            'f': \"7\",\n        }],\n [\"2007-2-26 12h\",\n{\n            'v': 2138837303,\n            'f': \"2138837303\",\n        },\n\"10014440@N06\",\n{\n            'v': 1198627361,\n            'f': \"1198627361\",\n        },\n{\n            'v': 23,\n            'f': \"23\",\n        },\n\"Shopping\",\n{\n            'v': 1874,\n            'f': \"1874\",\n        },\n{\n            'v': 7,\n            'f': \"7\",\n        }],\n [\"2007-6-26 12h\",\n{\n            'v': 2139620076,\n            'f': \"2139620076\",\n        },\n\"10014440@N06\",\n{\n            'v': 1198627590,\n            'f': \"1198627590\",\n        },\n{\n            'v': 23,\n            'f': \"23\",\n        },\n\"Shopping\",\n{\n            'v': 1874,\n            'f': \"1874\",\n        },\n{\n            'v': 7,\n            'f': \"7\",\n        }],\n [\"2007-6-26 12h\",\n{\n            'v': 2138839359,\n            'f': \"2138839359\",\n        },\n\"10014440@N06\",\n{\n            'v': 1198627598,\n            'f': \"1198627598\",\n        },\n{\n            'v': 23,\n            'f': \"23\",\n        },\n\"Shopping\",\n{\n            'v': 1874,\n            'f': \"1874\",\n        },\n{\n            'v': 7,\n            'f': \"7\",\n        }],\n [\"2008-34-22 5h\",\n{\n            'v': 2353261609,\n            'f': \"2353261609\",\n        },\n\"10014440@N06\",\n{\n            'v': 1206164087,\n            'f': \"1206164087\",\n        },\n{\n            'v': 23,\n            'f': \"23\",\n        },\n\"Shopping\",\n{\n            'v': 1874,\n            'f': \"1874\",\n        },\n{\n            'v': 8,\n            'f': \"8\",\n        }],\n [\"2008-39-22 5h\",\n{\n            'v': 2353261849,\n            'f': \"2353261849\",\n        },\n\"10014440@N06\",\n{\n            'v': 1206164345,\n            'f': \"1206164345\",\n        },\n{\n            'v': 23,\n            'f': \"23\",\n        },\n\"Shopping\",\n{\n            'v': 1874,\n            'f': \"1874\",\n        },\n{\n            'v': 8,\n            'f': \"8\",\n        }],\n [\"2008-39-22 5h\",\n{\n            'v': 2353262119,\n            'f': \"2353262119\",\n        },\n\"10014440@N06\",\n{\n            'v': 1206164359,\n            'f': \"1206164359\",\n        },\n{\n            'v': 23,\n            'f': \"23\",\n        },\n\"Shopping\",\n{\n            'v': 1874,\n            'f': \"1874\",\n        },\n{\n            'v': 8,\n            'f': \"8\",\n        }],\n [\"2008-40-22 5h\",\n{\n            'v': 2354094742,\n            'f': \"2354094742\",\n        },\n\"10014440@N06\",\n{\n            'v': 1206164441,\n            'f': \"1206164441\",\n        },\n{\n            'v': 23,\n            'f': \"23\",\n        },\n\"Shopping\",\n{\n            'v': 1874,\n            'f': \"1874\",\n        },\n{\n            'v': 8,\n            'f': \"8\",\n        }],\n [\"2008-44-22 5h\",\n{\n            'v': 2354094948,\n            'f': \"2354094948\",\n        },\n\"10014440@N06\",\n{\n            'v': 1206164682,\n            'f': \"1206164682\",\n        },\n{\n            'v': 23,\n            'f': \"23\",\n        },\n\"Shopping\",\n{\n            'v': 1874,\n            'f': \"1874\",\n        },\n{\n            'v': 8,\n            'f': \"8\",\n        }],\n [\"2008-45-22 5h\",\n{\n            'v': 2353262749,\n            'f': \"2353262749\",\n        },\n\"10014440@N06\",\n{\n            'v': 1206164752,\n            'f': \"1206164752\",\n        },\n{\n            'v': 23,\n            'f': \"23\",\n        },\n\"Shopping\",\n{\n            'v': 1874,\n            'f': \"1874\",\n        },\n{\n            'v': 8,\n            'f': \"8\",\n        }],\n [\"2008-46-22 5h\",\n{\n            'v': 2354095498,\n            'f': \"2354095498\",\n        },\n\"10014440@N06\",\n{\n            'v': 1206164813,\n            'f': \"1206164813\",\n        },\n{\n            'v': 23,\n            'f': \"23\",\n        },\n\"Shopping\",\n{\n            'v': 1874,\n            'f': \"1874\",\n        },\n{\n            'v': 8,\n            'f': \"8\",\n        }],\n [\"2008-54-22 5h\",\n{\n            'v': 2353263415,\n            'f': \"2353263415\",\n        },\n\"10014440@N06\",\n{\n            'v': 1206165275,\n            'f': \"1206165275\",\n        },\n{\n            'v': 23,\n            'f': \"23\",\n        },\n\"Shopping\",\n{\n            'v': 1874,\n            'f': \"1874\",\n        },\n{\n            'v': 8,\n            'f': \"8\",\n        }],\n [\"2008-54-22 5h\",\n{\n            'v': 2354096154,\n            'f': \"2354096154\",\n        },\n\"10014440@N06\",\n{\n            'v': 1206165278,\n            'f': \"1206165278\",\n        },\n{\n            'v': 23,\n            'f': \"23\",\n        },\n\"Shopping\",\n{\n            'v': 1874,\n            'f': \"1874\",\n        },\n{\n            'v': 8,\n            'f': \"8\",\n        }],\n [\"2008-1-22 6h\",\n{\n            'v': 2353264057,\n            'f': \"2353264057\",\n        },\n\"10014440@N06\",\n{\n            'v': 1206165702,\n            'f': \"1206165702\",\n        },\n{\n            'v': 23,\n            'f': \"23\",\n        },\n\"Shopping\",\n{\n            'v': 1874,\n            'f': \"1874\",\n        },\n{\n            'v': 8,\n            'f': \"8\",\n        }],\n [\"2008-51-22 6h\",\n{\n            'v': 2353265815,\n            'f': \"2353265815\",\n        },\n\"10014440@N06\",\n{\n            'v': 1206168673,\n            'f': \"1206168673\",\n        },\n{\n            'v': 24,\n            'f': \"24\",\n        },\n\"Shopping\",\n{\n            'v': 1028,\n            'f': \"1028\",\n        },\n{\n            'v': 8,\n            'f': \"8\",\n        }],\n [\"2008-57-22 6h\",\n{\n            'v': 2354098306,\n            'f': \"2354098306\",\n        },\n\"10014440@N06\",\n{\n            'v': 1206169035,\n            'f': \"1206169035\",\n        },\n{\n            'v': 24,\n            'f': \"24\",\n        },\n\"Shopping\",\n{\n            'v': 1028,\n            'f': \"1028\",\n        },\n{\n            'v': 8,\n            'f': \"8\",\n        }],\n [\"2008-57-22 6h\",\n{\n            'v': 2353266225,\n            'f': \"2353266225\",\n        },\n\"10014440@N06\",\n{\n            'v': 1206169058,\n            'f': \"1206169058\",\n        },\n{\n            'v': 24,\n            'f': \"24\",\n        },\n\"Shopping\",\n{\n            'v': 1028,\n            'f': \"1028\",\n        },\n{\n            'v': 8,\n            'f': \"8\",\n        }],\n [\"2008-1-22 7h\",\n{\n            'v': 2354098696,\n            'f': \"2354098696\",\n        },\n\"10014440@N06\",\n{\n            'v': 1206169260,\n            'f': \"1206169260\",\n        },\n{\n            'v': 24,\n            'f': \"24\",\n        },\n\"Shopping\",\n{\n            'v': 1028,\n            'f': \"1028\",\n        },\n{\n            'v': 8,\n            'f': \"8\",\n        }],\n [\"2008-1-22 7h\",\n{\n            'v': 2353266567,\n            'f': \"2353266567\",\n        },\n\"10014440@N06\",\n{\n            'v': 1206169291,\n            'f': \"1206169291\",\n        },\n{\n            'v': 24,\n            'f': \"24\",\n        },\n\"Shopping\",\n{\n            'v': 1028,\n            'f': \"1028\",\n        },\n{\n            'v': 8,\n            'f': \"8\",\n        }],\n [\"2008-2-22 7h\",\n{\n            'v': 2354099032,\n            'f': \"2354099032\",\n        },\n\"10014440@N06\",\n{\n            'v': 1206169364,\n            'f': \"1206169364\",\n        },\n{\n            'v': 24,\n            'f': \"24\",\n        },\n\"Shopping\",\n{\n            'v': 1028,\n            'f': \"1028\",\n        },\n{\n            'v': 8,\n            'f': \"8\",\n        }],\n [\"2008-3-22 7h\",\n{\n            'v': 2353266951,\n            'f': \"2353266951\",\n        },\n\"10014440@N06\",\n{\n            'v': 1206169380,\n            'f': \"1206169380\",\n        },\n{\n            'v': 24,\n            'f': \"24\",\n        },\n\"Shopping\",\n{\n            'v': 1028,\n            'f': \"1028\",\n        },\n{\n            'v': 8,\n            'f': \"8\",\n        }],\n [\"2008-3-22 7h\",\n{\n            'v': 2353267141,\n            'f': \"2353267141\",\n        },\n\"10014440@N06\",\n{\n            'v': 1206169405,\n            'f': \"1206169405\",\n        },\n{\n            'v': 24,\n            'f': \"24\",\n        },\n\"Shopping\",\n{\n            'v': 1028,\n            'f': \"1028\",\n        },\n{\n            'v': 8,\n            'f': \"8\",\n        }],\n [\"2008-4-22 7h\",\n{\n            'v': 2353267351,\n            'f': \"2353267351\",\n        },\n\"10014440@N06\",\n{\n            'v': 1206169450,\n            'f': \"1206169450\",\n        },\n{\n            'v': 24,\n            'f': \"24\",\n        },\n\"Shopping\",\n{\n            'v': 1028,\n            'f': \"1028\",\n        },\n{\n            'v': 8,\n            'f': \"8\",\n        }],\n [\"2008-5-22 7h\",\n{\n            'v': 2353267553,\n            'f': \"2353267553\",\n        },\n\"10014440@N06\",\n{\n            'v': 1206169518,\n            'f': \"1206169518\",\n        },\n{\n            'v': 24,\n            'f': \"24\",\n        },\n\"Shopping\",\n{\n            'v': 1028,\n            'f': \"1028\",\n        },\n{\n            'v': 8,\n            'f': \"8\",\n        }],\n [\"2008-6-22 7h\",\n{\n            'v': 2354100206,\n            'f': \"2354100206\",\n        },\n\"10014440@N06\",\n{\n            'v': 1206169617,\n            'f': \"1206169617\",\n        },\n{\n            'v': 24,\n            'f': \"24\",\n        },\n\"Shopping\",\n{\n            'v': 1028,\n            'f': \"1028\",\n        },\n{\n            'v': 8,\n            'f': \"8\",\n        }],\n [\"2008-8-22 7h\",\n{\n            'v': 2354100382,\n            'f': \"2354100382\",\n        },\n\"10014440@N06\",\n{\n            'v': 1206169712,\n            'f': \"1206169712\",\n        },\n{\n            'v': 24,\n            'f': \"24\",\n        },\n\"Shopping\",\n{\n            'v': 1028,\n            'f': \"1028\",\n        },\n{\n            'v': 8,\n            'f': \"8\",\n        }],\n [\"2008-11-22 7h\",\n{\n            'v': 2354100586,\n            'f': \"2354100586\",\n        },\n\"10014440@N06\",\n{\n            'v': 1206169887,\n            'f': \"1206169887\",\n        },\n{\n            'v': 24,\n            'f': \"24\",\n        },\n\"Shopping\",\n{\n            'v': 1028,\n            'f': \"1028\",\n        },\n{\n            'v': 8,\n            'f': \"8\",\n        }],\n [\"2008-12-22 7h\",\n{\n            'v': 2354100820,\n            'f': \"2354100820\",\n        },\n\"10014440@N06\",\n{\n            'v': 1206169920,\n            'f': \"1206169920\",\n        },\n{\n            'v': 24,\n            'f': \"24\",\n        },\n\"Shopping\",\n{\n            'v': 1028,\n            'f': \"1028\",\n        },\n{\n            'v': 8,\n            'f': \"8\",\n        }],\n [\"2008-12-22 7h\",\n{\n            'v': 2353268809,\n            'f': \"2353268809\",\n        },\n\"10014440@N06\",\n{\n            'v': 1206169946,\n            'f': \"1206169946\",\n        },\n{\n            'v': 24,\n            'f': \"24\",\n        },\n\"Shopping\",\n{\n            'v': 1028,\n            'f': \"1028\",\n        },\n{\n            'v': 8,\n            'f': \"8\",\n        }],\n [\"2008-13-22 7h\",\n{\n            'v': 2353269009,\n            'f': \"2353269009\",\n        },\n\"10014440@N06\",\n{\n            'v': 1206170032,\n            'f': \"1206170032\",\n        },\n{\n            'v': 24,\n            'f': \"24\",\n        },\n\"Shopping\",\n{\n            'v': 1028,\n            'f': \"1028\",\n        },\n{\n            'v': 8,\n            'f': \"8\",\n        }],\n [\"2008-29-1 5h\",\n{\n            'v': 2629849156,\n            'f': \"2629849156\",\n        },\n\"10014440@N06\",\n{\n            'v': 1214890166,\n            'f': \"1214890166\",\n        },\n{\n            'v': 24,\n            'f': \"24\",\n        },\n\"Shopping\",\n{\n            'v': 1028,\n            'f': \"1028\",\n        },\n{\n            'v': 9,\n            'f': \"9\",\n        }],\n [\"2008-29-1 5h\",\n{\n            'v': 2629028825,\n            'f': \"2629028825\",\n        },\n\"10014440@N06\",\n{\n            'v': 1214890184,\n            'f': \"1214890184\",\n        },\n{\n            'v': 24,\n            'f': \"24\",\n        },\n\"Shopping\",\n{\n            'v': 1028,\n            'f': \"1028\",\n        },\n{\n            'v': 9,\n            'f': \"9\",\n        }],\n [\"2008-30-1 5h\",\n{\n            'v': 2629850544,\n            'f': \"2629850544\",\n        },\n\"10014440@N06\",\n{\n            'v': 1214890203,\n            'f': \"1214890203\",\n        },\n{\n            'v': 24,\n            'f': \"24\",\n        },\n\"Shopping\",\n{\n            'v': 1028,\n            'f': \"1028\",\n        },\n{\n            'v': 9,\n            'f': \"9\",\n        }],\n [\"2008-31-1 5h\",\n{\n            'v': 2629851134,\n            'f': \"2629851134\",\n        },\n\"10014440@N06\",\n{\n            'v': 1214890270,\n            'f': \"1214890270\",\n        },\n{\n            'v': 24,\n            'f': \"24\",\n        },\n\"Shopping\",\n{\n            'v': 1028,\n            'f': \"1028\",\n        },\n{\n            'v': 9,\n            'f': \"9\",\n        }],\n [\"2008-31-1 5h\",\n{\n            'v': 2629851788,\n            'f': \"2629851788\",\n        },\n\"10014440@N06\",\n{\n            'v': 1214890277,\n            'f': \"1214890277\",\n        },\n{\n            'v': 24,\n            'f': \"24\",\n        },\n\"Shopping\",\n{\n            'v': 1028,\n            'f': \"1028\",\n        },\n{\n            'v': 9,\n            'f': \"9\",\n        }],\n [\"2008-34-1 5h\",\n{\n            'v': 2629031535,\n            'f': \"2629031535\",\n        },\n\"10014440@N06\",\n{\n            'v': 1214890462,\n            'f': \"1214890462\",\n        },\n{\n            'v': 24,\n            'f': \"24\",\n        },\n\"Shopping\",\n{\n            'v': 1028,\n            'f': \"1028\",\n        },\n{\n            'v': 9,\n            'f': \"9\",\n        }],\n [\"2008-29-9 8h\",\n{\n            'v': 2654090637,\n            'f': \"2654090637\",\n        },\n\"10014440@N06\",\n{\n            'v': 1215592158,\n            'f': \"1215592158\",\n        },\n{\n            'v': 25,\n            'f': \"25\",\n        },\n\"Shopping\",\n{\n            'v': 1701,\n            'f': \"1701\",\n        },\n{\n            'v': 10,\n            'f': \"10\",\n        }],\n [\"2008-29-9 8h\",\n{\n            'v': 2654091227,\n            'f': \"2654091227\",\n        },\n\"10014440@N06\",\n{\n            'v': 1215592171,\n            'f': \"1215592171\",\n        },\n{\n            'v': 25,\n            'f': \"25\",\n        },\n\"Shopping\",\n{\n            'v': 1701,\n            'f': \"1701\",\n        },\n{\n            'v': 10,\n            'f': \"10\",\n        }],\n [\"2008-29-9 8h\",\n{\n            'v': 2654918128,\n            'f': \"2654918128\",\n        },\n\"10014440@N06\",\n{\n            'v': 1215592179,\n            'f': \"1215592179\",\n        },\n{\n            'v': 25,\n            'f': \"25\",\n        },\n\"Shopping\",\n{\n            'v': 1701,\n            'f': \"1701\",\n        },\n{\n            'v': 10,\n            'f': \"10\",\n        }],\n [\"2008-29-9 8h\",\n{\n            'v': 2654918484,\n            'f': \"2654918484\",\n        },\n\"10014440@N06\",\n{\n            'v': 1215592191,\n            'f': \"1215592191\",\n        },\n{\n            'v': 25,\n            'f': \"25\",\n        },\n\"Shopping\",\n{\n            'v': 1701,\n            'f': \"1701\",\n        },\n{\n            'v': 10,\n            'f': \"10\",\n        }],\n [\"2008-30-9 8h\",\n{\n            'v': 2654092585,\n            'f': \"2654092585\",\n        },\n\"10014440@N06\",\n{\n            'v': 1215592201,\n            'f': \"1215592201\",\n        },\n{\n            'v': 25,\n            'f': \"25\",\n        },\n\"Shopping\",\n{\n            'v': 1701,\n            'f': \"1701\",\n        },\n{\n            'v': 10,\n            'f': \"10\",\n        }],\n [\"2008-30-9 8h\",\n{\n            'v': 2654919504,\n            'f': \"2654919504\",\n        },\n\"10014440@N06\",\n{\n            'v': 1215592207,\n            'f': \"1215592207\",\n        },\n{\n            'v': 25,\n            'f': \"25\",\n        },\n\"Shopping\",\n{\n            'v': 1701,\n            'f': \"1701\",\n        },\n{\n            'v': 10,\n            'f': \"10\",\n        }],\n [\"2008-30-9 8h\",\n{\n            'v': 2654920052,\n            'f': \"2654920052\",\n        },\n\"10014440@N06\",\n{\n            'v': 1215592220,\n            'f': \"1215592220\",\n        },\n{\n            'v': 25,\n            'f': \"25\",\n        },\n\"Shopping\",\n{\n            'v': 1701,\n            'f': \"1701\",\n        },\n{\n            'v': 10,\n            'f': \"10\",\n        }],\n [\"2008-30-9 8h\",\n{\n            'v': 2654920584,\n            'f': \"2654920584\",\n        },\n\"10014440@N06\",\n{\n            'v': 1215592244,\n            'f': \"1215592244\",\n        },\n{\n            'v': 25,\n            'f': \"25\",\n        },\n\"Shopping\",\n{\n            'v': 1701,\n            'f': \"1701\",\n        },\n{\n            'v': 10,\n            'f': \"10\",\n        }],\n [\"2008-30-9 8h\",\n{\n            'v': 2654920870,\n            'f': \"2654920870\",\n        },\n\"10014440@N06\",\n{\n            'v': 1215592247,\n            'f': \"1215592247\",\n        },\n{\n            'v': 25,\n            'f': \"25\",\n        },\n\"Shopping\",\n{\n            'v': 1701,\n            'f': \"1701\",\n        },\n{\n            'v': 10,\n            'f': \"10\",\n        }],\n [\"2008-30-9 8h\",\n{\n            'v': 2654094827,\n            'f': \"2654094827\",\n        },\n\"10014440@N06\",\n{\n            'v': 1215592248,\n            'f': \"1215592248\",\n        },\n{\n            'v': 25,\n            'f': \"25\",\n        },\n\"Shopping\",\n{\n            'v': 1701,\n            'f': \"1701\",\n        },\n{\n            'v': 10,\n            'f': \"10\",\n        }],\n [\"2008-46-9 8h\",\n{\n            'v': 2654921514,\n            'f': \"2654921514\",\n        },\n\"10014440@N06\",\n{\n            'v': 1215593210,\n            'f': \"1215593210\",\n        },\n{\n            'v': 25,\n            'f': \"25\",\n        },\n\"Shopping\",\n{\n            'v': 1701,\n            'f': \"1701\",\n        },\n{\n            'v': 10,\n            'f': \"10\",\n        }],\n [\"2008-47-9 8h\",\n{\n            'v': 2654921896,\n            'f': \"2654921896\",\n        },\n\"10014440@N06\",\n{\n            'v': 1215593257,\n            'f': \"1215593257\",\n        },\n{\n            'v': 25,\n            'f': \"25\",\n        },\n\"Shopping\",\n{\n            'v': 1701,\n            'f': \"1701\",\n        },\n{\n            'v': 10,\n            'f': \"10\",\n        }],\n [\"2008-47-9 8h\",\n{\n            'v': 2654096149,\n            'f': \"2654096149\",\n        },\n\"10014440@N06\",\n{\n            'v': 1215593261,\n            'f': \"1215593261\",\n        },\n{\n            'v': 25,\n            'f': \"25\",\n        },\n\"Shopping\",\n{\n            'v': 1701,\n            'f': \"1701\",\n        },\n{\n            'v': 10,\n            'f': \"10\",\n        }],\n [\"2008-48-9 8h\",\n{\n            'v': 2654922686,\n            'f': \"2654922686\",\n        },\n\"10014440@N06\",\n{\n            'v': 1215593305,\n            'f': \"1215593305\",\n        },\n{\n            'v': 25,\n            'f': \"25\",\n        },\n\"Shopping\",\n{\n            'v': 1701,\n            'f': \"1701\",\n        },\n{\n            'v': 10,\n            'f': \"10\",\n        }],\n [\"2008-48-9 8h\",\n{\n            'v': 2654923010,\n            'f': \"2654923010\",\n        },\n\"10014440@N06\",\n{\n            'v': 1215593308,\n            'f': \"1215593308\",\n        },\n{\n            'v': 25,\n            'f': \"25\",\n        },\n\"Shopping\",\n{\n            'v': 1701,\n            'f': \"1701\",\n        },\n{\n            'v': 10,\n            'f': \"10\",\n        }],\n [\"2008-48-9 8h\",\n{\n            'v': 2654097207,\n            'f': \"2654097207\",\n        },\n\"10014440@N06\",\n{\n            'v': 1215593329,\n            'f': \"1215593329\",\n        },\n{\n            'v': 25,\n            'f': \"25\",\n        },\n\"Shopping\",\n{\n            'v': 1701,\n            'f': \"1701\",\n        },\n{\n            'v': 10,\n            'f': \"10\",\n        }],\n [\"2008-49-9 8h\",\n{\n            'v': 2654923786,\n            'f': \"2654923786\",\n        },\n\"10014440@N06\",\n{\n            'v': 1215593365,\n            'f': \"1215593365\",\n        },\n{\n            'v': 25,\n            'f': \"25\",\n        },\n\"Shopping\",\n{\n            'v': 1701,\n            'f': \"1701\",\n        },\n{\n            'v': 10,\n            'f': \"10\",\n        }],\n [\"2008-49-9 8h\",\n{\n            'v': 2654098119,\n            'f': \"2654098119\",\n        },\n\"10014440@N06\",\n{\n            'v': 1215593396,\n            'f': \"1215593396\",\n        },\n{\n            'v': 25,\n            'f': \"25\",\n        },\n\"Shopping\",\n{\n            'v': 1701,\n            'f': \"1701\",\n        },\n{\n            'v': 10,\n            'f': \"10\",\n        }],\n [\"2008-50-9 8h\",\n{\n            'v': 2654924940,\n            'f': \"2654924940\",\n        },\n\"10014440@N06\",\n{\n            'v': 1215593402,\n            'f': \"1215593402\",\n        },\n{\n            'v': 25,\n            'f': \"25\",\n        },\n\"Shopping\",\n{\n            'v': 1701,\n            'f': \"1701\",\n        },\n{\n            'v': 10,\n            'f': \"10\",\n        }],\n [\"2008-50-9 8h\",\n{\n            'v': 2654099157,\n            'f': \"2654099157\",\n        },\n\"10014440@N06\",\n{\n            'v': 1215593435,\n            'f': \"1215593435\",\n        },\n{\n            'v': 25,\n            'f': \"25\",\n        },\n\"Shopping\",\n{\n            'v': 1701,\n            'f': \"1701\",\n        },\n{\n            'v': 10,\n            'f': \"10\",\n        }],\n [\"2008-50-9 8h\",\n{\n            'v': 2654925932,\n            'f': \"2654925932\",\n        },\n\"10014440@N06\",\n{\n            'v': 1215593441,\n            'f': \"1215593441\",\n        },\n{\n            'v': 25,\n            'f': \"25\",\n        },\n\"Shopping\",\n{\n            'v': 1701,\n            'f': \"1701\",\n        },\n{\n            'v': 10,\n            'f': \"10\",\n        }],\n [\"2008-51-9 8h\",\n{\n            'v': 2654926470,\n            'f': \"2654926470\",\n        },\n\"10014440@N06\",\n{\n            'v': 1215593463,\n            'f': \"1215593463\",\n        },\n{\n            'v': 25,\n            'f': \"25\",\n        },\n\"Shopping\",\n{\n            'v': 1701,\n            'f': \"1701\",\n        },\n{\n            'v': 10,\n            'f': \"10\",\n        }],\n [\"2008-51-9 8h\",\n{\n            'v': 2654100619,\n            'f': \"2654100619\",\n        },\n\"10014440@N06\",\n{\n            'v': 1215593493,\n            'f': \"1215593493\",\n        },\n{\n            'v': 25,\n            'f': \"25\",\n        },\n\"Shopping\",\n{\n            'v': 1701,\n            'f': \"1701\",\n        },\n{\n            'v': 10,\n            'f': \"10\",\n        }],\n [\"2008-51-9 8h\",\n{\n            'v': 2654927046,\n            'f': \"2654927046\",\n        },\n\"10014440@N06\",\n{\n            'v': 1215593499,\n            'f': \"1215593499\",\n        },\n{\n            'v': 25,\n            'f': \"25\",\n        },\n\"Shopping\",\n{\n            'v': 1701,\n            'f': \"1701\",\n        },\n{\n            'v': 10,\n            'f': \"10\",\n        }],\n [\"2008-52-9 8h\",\n{\n            'v': 2654101509,\n            'f': \"2654101509\",\n        },\n\"10014440@N06\",\n{\n            'v': 1215593542,\n            'f': \"1215593542\",\n        },\n{\n            'v': 25,\n            'f': \"25\",\n        },\n\"Shopping\",\n{\n            'v': 1701,\n            'f': \"1701\",\n        },\n{\n            'v': 10,\n            'f': \"10\",\n        }],\n [\"2008-52-9 8h\",\n{\n            'v': 2654102085,\n            'f': \"2654102085\",\n        },\n\"10014440@N06\",\n{\n            'v': 1215593542,\n            'f': \"1215593542\",\n        },\n{\n            'v': 25,\n            'f': \"25\",\n        },\n\"Shopping\",\n{\n            'v': 1701,\n            'f': \"1701\",\n        },\n{\n            'v': 10,\n            'f': \"10\",\n        }],\n [\"2008-52-9 8h\",\n{\n            'v': 2654102509,\n            'f': \"2654102509\",\n        },\n\"10014440@N06\",\n{\n            'v': 1215593577,\n            'f': \"1215593577\",\n        },\n{\n            'v': 25,\n            'f': \"25\",\n        },\n\"Shopping\",\n{\n            'v': 1701,\n            'f': \"1701\",\n        },\n{\n            'v': 10,\n            'f': \"10\",\n        }],\n [\"2008-53-9 8h\",\n{\n            'v': 2654103197,\n            'f': \"2654103197\",\n        },\n\"10014440@N06\",\n{\n            'v': 1215593581,\n            'f': \"1215593581\",\n        },\n{\n            'v': 25,\n            'f': \"25\",\n        },\n\"Shopping\",\n{\n            'v': 1701,\n            'f': \"1701\",\n        },\n{\n            'v': 10,\n            'f': \"10\",\n        }],\n [\"2008-53-9 8h\",\n{\n            'v': 2654929774,\n            'f': \"2654929774\",\n        },\n\"10014440@N06\",\n{\n            'v': 1215593613,\n            'f': \"1215593613\",\n        },\n{\n            'v': 25,\n            'f': \"25\",\n        },\n\"Shopping\",\n{\n            'v': 1701,\n            'f': \"1701\",\n        },\n{\n            'v': 10,\n            'f': \"10\",\n        }],\n [\"2008-53-9 8h\",\n{\n            'v': 2654104231,\n            'f': \"2654104231\",\n        },\n\"10014440@N06\",\n{\n            'v': 1215593634,\n            'f': \"1215593634\",\n        },\n{\n            'v': 25,\n            'f': \"25\",\n        },\n\"Shopping\",\n{\n            'v': 1701,\n            'f': \"1701\",\n        },\n{\n            'v': 10,\n            'f': \"10\",\n        }],\n [\"2008-54-9 8h\",\n{\n            'v': 2654930912,\n            'f': \"2654930912\",\n        },\n\"10014440@N06\",\n{\n            'v': 1215593650,\n            'f': \"1215593650\",\n        },\n{\n            'v': 25,\n            'f': \"25\",\n        },\n\"Shopping\",\n{\n            'v': 1701,\n            'f': \"1701\",\n        },\n{\n            'v': 10,\n            'f': \"10\",\n        }],\n [\"2008-54-9 8h\",\n{\n            'v': 2654105249,\n            'f': \"2654105249\",\n        },\n\"10014440@N06\",\n{\n            'v': 1215593655,\n            'f': \"1215593655\",\n        },\n{\n            'v': 25,\n            'f': \"25\",\n        },\n\"Shopping\",\n{\n            'v': 1701,\n            'f': \"1701\",\n        },\n{\n            'v': 10,\n            'f': \"10\",\n        }],\n [\"2008-54-9 8h\",\n{\n            'v': 2654931868,\n            'f': \"2654931868\",\n        },\n\"10014440@N06\",\n{\n            'v': 1215593674,\n            'f': \"1215593674\",\n        },\n{\n            'v': 25,\n            'f': \"25\",\n        },\n\"Shopping\",\n{\n            'v': 1701,\n            'f': \"1701\",\n        },\n{\n            'v': 10,\n            'f': \"10\",\n        }]],\n        columns: [[\"string\", \"from_unixtime(date, y-m-d h'h')\"], [\"number\", \"photoID\"], [\"string\", \"userID\"], [\"number\", \"date\"], [\"number\", \"poiID\"], [\"string\", \"poiTheme\"], [\"number\", \"poiFreq\"], [\"number\", \"seqID\"]],\n        columnOptions: [],\n        rowsPerPage: 10,\n        helpUrl: \"https://colab.research.google.com/notebooks/data_table.ipynb\",\n        suppressOutputScrolling: true,\n        minimumWidth: undefined,\n      });\n    ",
            "text/plain": [
              "<google.colab.data_table.DataTable object>"
            ]
          },
          "metadata": {},
          "execution_count": 18
        }
      ]
    },
    {
      "cell_type": "markdown",
      "source": [
        "#### 3) Le nombre de POI par utilisateur"
      ],
      "metadata": {
        "id": "2e9OrOG1FLJI"
      }
    },
    {
      "cell_type": "code",
      "source": [
        "%%sql \n",
        "\n",
        "select  userID, count(distinct poiID)\n",
        "from user_visits\n",
        "GROUP BY userID"
      ],
      "metadata": {
        "id": "vMal57aBGjd7",
        "colab": {
          "base_uri": "https://localhost:8080/",
          "height": 314
        },
        "outputId": "5302ca64-b1e6-4367-8ad0-ee2060df1374"
      },
      "execution_count": null,
      "outputs": [
        {
          "output_type": "execute_result",
          "data": {
            "text/html": [
              "<div>\n",
              "<style scoped>\n",
              "    .dataframe tbody tr th:only-of-type {\n",
              "        vertical-align: middle;\n",
              "    }\n",
              "\n",
              "    .dataframe tbody tr th {\n",
              "        vertical-align: top;\n",
              "    }\n",
              "\n",
              "    .dataframe thead th {\n",
              "        text-align: right;\n",
              "    }\n",
              "</style>\n",
              "<table border=\"1\" class=\"dataframe\">\n",
              "  <thead>\n",
              "    <tr style=\"text-align: right;\">\n",
              "      <th></th>\n",
              "      <th>userID</th>\n",
              "      <th>count(DISTINCT poiID)</th>\n",
              "    </tr>\n",
              "  </thead>\n",
              "  <tbody>\n",
              "    <tr>\n",
              "      <th>0</th>\n",
              "      <td>11090433@N05</td>\n",
              "      <td>12</td>\n",
              "    </tr>\n",
              "    <tr>\n",
              "      <th>1</th>\n",
              "      <td>12641532@N00</td>\n",
              "      <td>2</td>\n",
              "    </tr>\n",
              "    <tr>\n",
              "      <th>2</th>\n",
              "      <td>16693950@N00</td>\n",
              "      <td>11</td>\n",
              "    </tr>\n",
              "    <tr>\n",
              "      <th>3</th>\n",
              "      <td>19761391@N06</td>\n",
              "      <td>6</td>\n",
              "    </tr>\n",
              "    <tr>\n",
              "      <th>4</th>\n",
              "      <td>20605823@N00</td>\n",
              "      <td>2</td>\n",
              "    </tr>\n",
              "    <tr>\n",
              "      <th>...</th>\n",
              "      <td>...</td>\n",
              "      <td>...</td>\n",
              "    </tr>\n",
              "    <tr>\n",
              "      <th>95</th>\n",
              "      <td>27008470@N00</td>\n",
              "      <td>3</td>\n",
              "    </tr>\n",
              "    <tr>\n",
              "      <th>96</th>\n",
              "      <td>33739230@N02</td>\n",
              "      <td>2</td>\n",
              "    </tr>\n",
              "    <tr>\n",
              "      <th>97</th>\n",
              "      <td>51260381@N05</td>\n",
              "      <td>6</td>\n",
              "    </tr>\n",
              "    <tr>\n",
              "      <th>98</th>\n",
              "      <td>53400644@N05</td>\n",
              "      <td>2</td>\n",
              "    </tr>\n",
              "    <tr>\n",
              "      <th>99</th>\n",
              "      <td>54329815@N00</td>\n",
              "      <td>8</td>\n",
              "    </tr>\n",
              "  </tbody>\n",
              "</table>\n",
              "<p>100 rows × 2 columns</p>\n",
              "</div>"
            ],
            "application/vnd.google.colaboratory.module+javascript": "\n      import \"https://ssl.gstatic.com/colaboratory/data_table/a8bd4d5e58f96183/data_table.js\";\n\n      window.createDataTable({\n        data: [[\"11090433@N05\",\n{\n            'v': 12,\n            'f': \"12\",\n        }],\n [\"12641532@N00\",\n{\n            'v': 2,\n            'f': \"2\",\n        }],\n [\"16693950@N00\",\n{\n            'v': 11,\n            'f': \"11\",\n        }],\n [\"19761391@N06\",\n{\n            'v': 6,\n            'f': \"6\",\n        }],\n [\"20605823@N00\",\n{\n            'v': 2,\n            'f': \"2\",\n        }],\n [\"22991234@N04\",\n{\n            'v': 1,\n            'f': \"1\",\n        }],\n [\"24128704@N08\",\n{\n            'v': 4,\n            'f': \"4\",\n        }],\n [\"24741597@N00\",\n{\n            'v': 5,\n            'f': \"5\",\n        }],\n [\"25133522@N00\",\n{\n            'v': 4,\n            'f': \"4\",\n        }],\n [\"27369554@N06\",\n{\n            'v': 3,\n            'f': \"3\",\n        }],\n [\"27663349@N07\",\n{\n            'v': 1,\n            'f': \"1\",\n        }],\n [\"27895744@N00\",\n{\n            'v': 3,\n            'f': \"3\",\n        }],\n [\"27937533@N08\",\n{\n            'v': 1,\n            'f': \"1\",\n        }],\n [\"30129139@N04\",\n{\n            'v': 4,\n            'f': \"4\",\n        }],\n [\"31349854@N00\",\n{\n            'v': 8,\n            'f': \"8\",\n        }],\n [\"33956295@N04\",\n{\n            'v': 7,\n            'f': \"7\",\n        }],\n [\"37663331@N00\",\n{\n            'v': 13,\n            'f': \"13\",\n        }],\n [\"40563877@N00\",\n{\n            'v': 6,\n            'f': \"6\",\n        }],\n [\"41721440@N00\",\n{\n            'v': 5,\n            'f': \"5\",\n        }],\n [\"41757196@N00\",\n{\n            'v': 2,\n            'f': \"2\",\n        }],\n [\"44045475@N00\",\n{\n            'v': 1,\n            'f': \"1\",\n        }],\n [\"45583066@N03\",\n{\n            'v': 5,\n            'f': \"5\",\n        }],\n [\"47672266@N00\",\n{\n            'v': 2,\n            'f': \"2\",\n        }],\n [\"47868018@N00\",\n{\n            'v': 5,\n            'f': \"5\",\n        }],\n [\"49576181@N00\",\n{\n            'v': 9,\n            'f': \"9\",\n        }],\n [\"53346833@N00\",\n{\n            'v': 7,\n            'f': \"7\",\n        }],\n [\"57756296@N06\",\n{\n            'v': 7,\n            'f': \"7\",\n        }],\n [\"58246681@N03\",\n{\n            'v': 6,\n            'f': \"6\",\n        }],\n [\"60261913@N00\",\n{\n            'v': 2,\n            'f': \"2\",\n        }],\n [\"62077150@N06\",\n{\n            'v': 7,\n            'f': \"7\",\n        }],\n [\"63327475@N02\",\n{\n            'v': 2,\n            'f': \"2\",\n        }],\n [\"63390929@N07\",\n{\n            'v': 3,\n            'f': \"3\",\n        }],\n [\"64395337@N00\",\n{\n            'v': 2,\n            'f': \"2\",\n        }],\n [\"66762373@N04\",\n{\n            'v': 8,\n            'f': \"8\",\n        }],\n [\"69739859@N06\",\n{\n            'v': 1,\n            'f': \"1\",\n        }],\n [\"7715680@N06\",\n{\n            'v': 4,\n            'f': \"4\",\n        }],\n [\"78436447@N00\",\n{\n            'v': 14,\n            'f': \"14\",\n        }],\n [\"79844697@N07\",\n{\n            'v': 1,\n            'f': \"1\",\n        }],\n [\"82646093@N00\",\n{\n            'v': 4,\n            'f': \"4\",\n        }],\n [\"82845843@N04\",\n{\n            'v': 4,\n            'f': \"4\",\n        }],\n [\"96416581@N00\",\n{\n            'v': 4,\n            'f': \"4\",\n        }],\n [\"99771506@N00\",\n{\n            'v': 12,\n            'f': \"12\",\n        }],\n [\"12693966@N07\",\n{\n            'v': 4,\n            'f': \"4\",\n        }],\n [\"12874594@N08\",\n{\n            'v': 4,\n            'f': \"4\",\n        }],\n [\"14125170@N02\",\n{\n            'v': 1,\n            'f': \"1\",\n        }],\n [\"24694793@N05\",\n{\n            'v': 1,\n            'f': \"1\",\n        }],\n [\"30855862@N07\",\n{\n            'v': 3,\n            'f': \"3\",\n        }],\n [\"32044903@N04\",\n{\n            'v': 3,\n            'f': \"3\",\n        }],\n [\"32944866@N04\",\n{\n            'v': 3,\n            'f': \"3\",\n        }],\n [\"35322156@N00\",\n{\n            'v': 9,\n            'f': \"9\",\n        }],\n [\"36085412@N06\",\n{\n            'v': 4,\n            'f': \"4\",\n        }],\n [\"41634302@N08\",\n{\n            'v': 1,\n            'f': \"1\",\n        }],\n [\"42776905@N00\",\n{\n            'v': 5,\n            'f': \"5\",\n        }],\n [\"45426479@N00\",\n{\n            'v': 3,\n            'f': \"3\",\n        }],\n [\"47466679@N06\",\n{\n            'v': 5,\n            'f': \"5\",\n        }],\n [\"48600103384@N01\",\n{\n            'v': 4,\n            'f': \"4\",\n        }],\n [\"48889054224@N01\",\n{\n            'v': 1,\n            'f': \"1\",\n        }],\n [\"49351889@N03\",\n{\n            'v': 1,\n            'f': \"1\",\n        }],\n [\"53088812@N00\",\n{\n            'v': 4,\n            'f': \"4\",\n        }],\n [\"53319639@N00\",\n{\n            'v': 4,\n            'f': \"4\",\n        }],\n [\"56020405@N08\",\n{\n            'v': 8,\n            'f': \"8\",\n        }],\n [\"69216242@N00\",\n{\n            'v': 1,\n            'f': \"1\",\n        }],\n [\"69488141@N00\",\n{\n            'v': 1,\n            'f': \"1\",\n        }],\n [\"70289230@N00\",\n{\n            'v': 8,\n            'f': \"8\",\n        }],\n [\"77483134@N00\",\n{\n            'v': 8,\n            'f': \"8\",\n        }],\n [\"77547214@N00\",\n{\n            'v': 1,\n            'f': \"1\",\n        }],\n [\"81685848@N00\",\n{\n            'v': 1,\n            'f': \"1\",\n        }],\n [\"85213921@N04\",\n{\n            'v': 3,\n            'f': \"3\",\n        }],\n [\"85397023@N00\",\n{\n            'v': 4,\n            'f': \"4\",\n        }],\n [\"86814251@N00\",\n{\n            'v': 2,\n            'f': \"2\",\n        }],\n [\"89461633@N00\",\n{\n            'v': 2,\n            'f': \"2\",\n        }],\n [\"91032493@N00\",\n{\n            'v': 12,\n            'f': \"12\",\n        }],\n [\"9341347@N06\",\n{\n            'v': 1,\n            'f': \"1\",\n        }],\n [\"93645046@N00\",\n{\n            'v': 8,\n            'f': \"8\",\n        }],\n [\"93851844@N00\",\n{\n            'v': 1,\n            'f': \"1\",\n        }],\n [\"94725783@N00\",\n{\n            'v': 6,\n            'f': \"6\",\n        }],\n [\"94894823@N00\",\n{\n            'v': 1,\n            'f': \"1\",\n        }],\n [\"13941015@N02\",\n{\n            'v': 2,\n            'f': \"2\",\n        }],\n [\"14421071@N00\",\n{\n            'v': 1,\n            'f': \"1\",\n        }],\n [\"15588970@N02\",\n{\n            'v': 1,\n            'f': \"1\",\n        }],\n [\"23775118@N06\",\n{\n            'v': 1,\n            'f': \"1\",\n        }],\n [\"32155291@N05\",\n{\n            'v': 3,\n            'f': \"3\",\n        }],\n [\"36176156@N00\",\n{\n            'v': 1,\n            'f': \"1\",\n        }],\n [\"37368868@N05\",\n{\n            'v': 1,\n            'f': \"1\",\n        }],\n [\"38030421@N08\",\n{\n            'v': 1,\n            'f': \"1\",\n        }],\n [\"41348910@N05\",\n{\n            'v': 1,\n            'f': \"1\",\n        }],\n [\"45136299@N00\",\n{\n            'v': 3,\n            'f': \"3\",\n        }],\n [\"53909299@N00\",\n{\n            'v': 1,\n            'f': \"1\",\n        }],\n [\"57767818@N00\",\n{\n            'v': 2,\n            'f': \"2\",\n        }],\n [\"65077953@N08\",\n{\n            'v': 1,\n            'f': \"1\",\n        }],\n [\"65327964@N00\",\n{\n            'v': 3,\n            'f': \"3\",\n        }],\n [\"67794534@N00\",\n{\n            'v': 1,\n            'f': \"1\",\n        }],\n [\"75395187@N00\",\n{\n            'v': 1,\n            'f': \"1\",\n        }],\n [\"96545415@N00\",\n{\n            'v': 2,\n            'f': \"2\",\n        }],\n [\"25377075@N07\",\n{\n            'v': 1,\n            'f': \"1\",\n        }],\n [\"27008470@N00\",\n{\n            'v': 3,\n            'f': \"3\",\n        }],\n [\"33739230@N02\",\n{\n            'v': 2,\n            'f': \"2\",\n        }],\n [\"51260381@N05\",\n{\n            'v': 6,\n            'f': \"6\",\n        }],\n [\"53400644@N05\",\n{\n            'v': 2,\n            'f': \"2\",\n        }],\n [\"54329815@N00\",\n{\n            'v': 8,\n            'f': \"8\",\n        }]],\n        columns: [[\"string\", \"userID\"], [\"number\", \"count(DISTINCT poiID)\"]],\n        columnOptions: [],\n        rowsPerPage: 10,\n        helpUrl: \"https://colab.research.google.com/notebooks/data_table.ipynb\",\n        suppressOutputScrolling: true,\n        minimumWidth: undefined,\n      });\n    ",
            "text/plain": [
              "<google.colab.data_table.DataTable object>"
            ]
          },
          "metadata": {},
          "execution_count": 19
        }
      ]
    },
    {
      "cell_type": "markdown",
      "source": [
        "#### 4) Trajectoire\n",
        "Trajectoire(userID, seqID, listPOI)\n",
        "Pour chaque séquence, la liste ORDONNEE des POI visités"
      ],
      "metadata": {
        "id": "Ji392nLBGmL-"
      }
    },
    {
      "cell_type": "code",
      "source": [
        "from pyspark.sql.functions import udf\n",
        "\n",
        "def order_by_poi_by_date(c):\n",
        "  c=sorted(c,key=lambda x:x[1])\n",
        "  l=[]\n",
        "  for i in c:\n",
        "    if i[0] not in l :\n",
        "      l.append(i[0])\n",
        "  return l\n",
        "\n",
        "f1ud=udf(lambda x:order_by_poi_by_date(x), ArrayType(IntegerType()))\n",
        "\n",
        "user_visits.groupBy(\"userID\",\"seqID\").\\\n",
        "agg(collect_list(array(\"poiID\",\"date\")).\\\n",
        "    alias(\"poi and date\")).\\\n",
        "    select(\"userID\",\"seqID\", f1ud(col(\"poi and date\")).alias(\"poiID_visited\")).\\\n",
        "    createOrReplaceTempView(\"H\")"
      ],
      "metadata": {
        "id": "UMMshnwmf0_Z"
      },
      "execution_count": null,
      "outputs": []
    },
    {
      "cell_type": "code",
      "source": [
        "%%sql\n",
        "\n",
        "select * from H"
      ],
      "metadata": {
        "colab": {
          "base_uri": "https://localhost:8080/",
          "height": 314
        },
        "id": "mtDt1Tsv5JgI",
        "outputId": "95c96cca-01c7-4556-96d8-242a3024bd4d"
      },
      "execution_count": null,
      "outputs": [
        {
          "output_type": "execute_result",
          "data": {
            "text/html": [
              "<div>\n",
              "<style scoped>\n",
              "    .dataframe tbody tr th:only-of-type {\n",
              "        vertical-align: middle;\n",
              "    }\n",
              "\n",
              "    .dataframe tbody tr th {\n",
              "        vertical-align: top;\n",
              "    }\n",
              "\n",
              "    .dataframe thead th {\n",
              "        text-align: right;\n",
              "    }\n",
              "</style>\n",
              "<table border=\"1\" class=\"dataframe\">\n",
              "  <thead>\n",
              "    <tr style=\"text-align: right;\">\n",
              "      <th></th>\n",
              "      <th>userID</th>\n",
              "      <th>seqID</th>\n",
              "      <th>poiID_visited</th>\n",
              "    </tr>\n",
              "  </thead>\n",
              "  <tbody>\n",
              "    <tr>\n",
              "      <th>0</th>\n",
              "      <td>10007579@N00</td>\n",
              "      <td>1</td>\n",
              "      <td>[30]</td>\n",
              "    </tr>\n",
              "    <tr>\n",
              "      <th>1</th>\n",
              "      <td>10012675@N05</td>\n",
              "      <td>2</td>\n",
              "      <td>[6]</td>\n",
              "    </tr>\n",
              "    <tr>\n",
              "      <th>2</th>\n",
              "      <td>10012675@N05</td>\n",
              "      <td>3</td>\n",
              "      <td>[6]</td>\n",
              "    </tr>\n",
              "    <tr>\n",
              "      <th>3</th>\n",
              "      <td>10012675@N05</td>\n",
              "      <td>4</td>\n",
              "      <td>[13]</td>\n",
              "    </tr>\n",
              "    <tr>\n",
              "      <th>4</th>\n",
              "      <td>10014440@N06</td>\n",
              "      <td>5</td>\n",
              "      <td>[24]</td>\n",
              "    </tr>\n",
              "    <tr>\n",
              "      <th>...</th>\n",
              "      <td>...</td>\n",
              "      <td>...</td>\n",
              "      <td>...</td>\n",
              "    </tr>\n",
              "    <tr>\n",
              "      <th>95</th>\n",
              "      <td>10627620@N06</td>\n",
              "      <td>96</td>\n",
              "      <td>[21]</td>\n",
              "    </tr>\n",
              "    <tr>\n",
              "      <th>96</th>\n",
              "      <td>10627620@N06</td>\n",
              "      <td>97</td>\n",
              "      <td>[8]</td>\n",
              "    </tr>\n",
              "    <tr>\n",
              "      <th>97</th>\n",
              "      <td>10627620@N06</td>\n",
              "      <td>98</td>\n",
              "      <td>[3]</td>\n",
              "    </tr>\n",
              "    <tr>\n",
              "      <th>98</th>\n",
              "      <td>10627620@N06</td>\n",
              "      <td>99</td>\n",
              "      <td>[3, 23, 27]</td>\n",
              "    </tr>\n",
              "    <tr>\n",
              "      <th>99</th>\n",
              "      <td>10627620@N06</td>\n",
              "      <td>100</td>\n",
              "      <td>[21, 23, 30]</td>\n",
              "    </tr>\n",
              "  </tbody>\n",
              "</table>\n",
              "<p>100 rows × 3 columns</p>\n",
              "</div>"
            ],
            "application/vnd.google.colaboratory.module+javascript": "\n      import \"https://ssl.gstatic.com/colaboratory/data_table/a8bd4d5e58f96183/data_table.js\";\n\n      window.createDataTable({\n        data: [[\"10007579@N00\",\n{\n            'v': 1,\n            'f': \"1\",\n        },\n[30]],\n [\"10012675@N05\",\n{\n            'v': 2,\n            'f': \"2\",\n        },\n[6]],\n [\"10012675@N05\",\n{\n            'v': 3,\n            'f': \"3\",\n        },\n[6]],\n [\"10012675@N05\",\n{\n            'v': 4,\n            'f': \"4\",\n        },\n[13]],\n [\"10014440@N06\",\n{\n            'v': 5,\n            'f': \"5\",\n        },\n[24]],\n [\"10014440@N06\",\n{\n            'v': 6,\n            'f': \"6\",\n        },\n[23]],\n [\"10014440@N06\",\n{\n            'v': 7,\n            'f': \"7\",\n        },\n[23]],\n [\"10014440@N06\",\n{\n            'v': 8,\n            'f': \"8\",\n        },\n[23, 24]],\n [\"10014440@N06\",\n{\n            'v': 9,\n            'f': \"9\",\n        },\n[24]],\n [\"10014440@N06\",\n{\n            'v': 10,\n            'f': \"10\",\n        },\n[25]],\n [\"10014440@N06\",\n{\n            'v': 11,\n            'f': \"11\",\n        },\n[17]],\n [\"10014440@N06\",\n{\n            'v': 12,\n            'f': \"12\",\n        },\n[24]],\n [\"10014440@N06\",\n{\n            'v': 13,\n            'f': \"13\",\n        },\n[23]],\n [\"10014440@N06\",\n{\n            'v': 14,\n            'f': \"14\",\n        },\n[24]],\n [\"10014440@N06\",\n{\n            'v': 15,\n            'f': \"15\",\n        },\n[4]],\n [\"10014440@N06\",\n{\n            'v': 16,\n            'f': \"16\",\n        },\n[24]],\n [\"10031363@N00\",\n{\n            'v': 17,\n            'f': \"17\",\n        },\n[7]],\n [\"10031363@N00\",\n{\n            'v': 18,\n            'f': \"18\",\n        },\n[22]],\n [\"10031363@N00\",\n{\n            'v': 19,\n            'f': \"19\",\n        },\n[21]],\n [\"10031363@N00\",\n{\n            'v': 20,\n            'f': \"20\",\n        },\n[25]],\n [\"10031363@N00\",\n{\n            'v': 21,\n            'f': \"21\",\n        },\n[3]],\n [\"10031363@N00\",\n{\n            'v': 22,\n            'f': \"22\",\n        },\n[21]],\n [\"10031363@N00\",\n{\n            'v': 23,\n            'f': \"23\",\n        },\n[25]],\n [\"10116041@N02\",\n{\n            'v': 24,\n            'f': \"24\",\n        },\n[22]],\n [\"10116041@N02\",\n{\n            'v': 25,\n            'f': \"25\",\n        },\n[22]],\n [\"10116041@N02\",\n{\n            'v': 26,\n            'f': \"26\",\n        },\n[22]],\n [\"10125851@N06\",\n{\n            'v': 27,\n            'f': \"27\",\n        },\n[11]],\n [\"10125851@N06\",\n{\n            'v': 28,\n            'f': \"28\",\n        },\n[21]],\n [\"101330524@N02\",\n{\n            'v': 29,\n            'f': \"29\",\n        },\n[25]],\n [\"101607720@N06\",\n{\n            'v': 30,\n            'f': \"30\",\n        },\n[30]],\n [\"10218635@N06\",\n{\n            'v': 31,\n            'f': \"31\",\n        },\n[26]],\n [\"10218635@N06\",\n{\n            'v': 32,\n            'f': \"32\",\n        },\n[23]],\n [\"10218635@N06\",\n{\n            'v': 33,\n            'f': \"33\",\n        },\n[21, 25]],\n [\"10282509@N00\",\n{\n            'v': 34,\n            'f': \"34\",\n        },\n[30]],\n [\"10282509@N00\",\n{\n            'v': 35,\n            'f': \"35\",\n        },\n[11]],\n [\"10285309@N08\",\n{\n            'v': 36,\n            'f': \"36\",\n        },\n[1]],\n [\"10297518@N00\",\n{\n            'v': 37,\n            'f': \"37\",\n        },\n[11]],\n [\"10316646@N07\",\n{\n            'v': 38,\n            'f': \"38\",\n        },\n[6]],\n [\"10316646@N07\",\n{\n            'v': 39,\n            'f': \"39\",\n        },\n[22]],\n [\"10316646@N07\",\n{\n            'v': 40,\n            'f': \"40\",\n        },\n[6]],\n [\"10316646@N07\",\n{\n            'v': 41,\n            'f': \"41\",\n        },\n[6]],\n [\"10316646@N07\",\n{\n            'v': 42,\n            'f': \"42\",\n        },\n[6]],\n [\"10316646@N07\",\n{\n            'v': 43,\n            'f': \"43\",\n        },\n[23]],\n [\"10316646@N07\",\n{\n            'v': 44,\n            'f': \"44\",\n        },\n[6]],\n [\"10316646@N07\",\n{\n            'v': 45,\n            'f': \"45\",\n        },\n[6]],\n [\"10316646@N07\",\n{\n            'v': 46,\n            'f': \"46\",\n        },\n[3]],\n [\"10397950@N05\",\n{\n            'v': 47,\n            'f': \"47\",\n        },\n[16]],\n [\"10438912@N07\",\n{\n            'v': 48,\n            'f': \"48\",\n        },\n[13]],\n [\"10438912@N07\",\n{\n            'v': 49,\n            'f': \"49\",\n        },\n[22]],\n [\"10438912@N07\",\n{\n            'v': 50,\n            'f': \"50\",\n        },\n[11]],\n [\"10442345@N07\",\n{\n            'v': 51,\n            'f': \"51\",\n        },\n[6]],\n [\"10483331@N00\",\n{\n            'v': 52,\n            'f': \"52\",\n        },\n[7]],\n [\"10488448@N00\",\n{\n            'v': 53,\n            'f': \"53\",\n        },\n[25]],\n [\"10488448@N00\",\n{\n            'v': 54,\n            'f': \"54\",\n        },\n[25]],\n [\"10488448@N00\",\n{\n            'v': 55,\n            'f': \"55\",\n        },\n[25]],\n [\"10488855@N00\",\n{\n            'v': 56,\n            'f': \"56\",\n        },\n[28]],\n [\"10502709@N05\",\n{\n            'v': 57,\n            'f': \"57\",\n        },\n[7]],\n [\"10502709@N05\",\n{\n            'v': 58,\n            'f': \"58\",\n        },\n[7, 11, 27]],\n [\"10502709@N05\",\n{\n            'v': 59,\n            'f': \"59\",\n        },\n[11, 27]],\n [\"10502709@N05\",\n{\n            'v': 60,\n            'f': \"60\",\n        },\n[7]],\n [\"10502709@N05\",\n{\n            'v': 61,\n            'f': \"61\",\n        },\n[7]],\n [\"10502709@N05\",\n{\n            'v': 62,\n            'f': \"62\",\n        },\n[11]],\n [\"10502709@N05\",\n{\n            'v': 63,\n            'f': \"63\",\n        },\n[21]],\n [\"10502709@N05\",\n{\n            'v': 64,\n            'f': \"64\",\n        },\n[25]],\n [\"10502709@N05\",\n{\n            'v': 65,\n            'f': \"65\",\n        },\n[25]],\n [\"10502709@N05\",\n{\n            'v': 66,\n            'f': \"66\",\n        },\n[21]],\n [\"10502709@N05\",\n{\n            'v': 67,\n            'f': \"67\",\n        },\n[28, 23, 22]],\n [\"10502709@N05\",\n{\n            'v': 68,\n            'f': \"68\",\n        },\n[21]],\n [\"10502709@N05\",\n{\n            'v': 69,\n            'f': \"69\",\n        },\n[7]],\n [\"10502709@N05\",\n{\n            'v': 70,\n            'f': \"70\",\n        },\n[21]],\n [\"10502709@N05\",\n{\n            'v': 71,\n            'f': \"71\",\n        },\n[22, 28, 23, 21]],\n [\"10502709@N05\",\n{\n            'v': 72,\n            'f': \"72\",\n        },\n[27]],\n [\"10502709@N05\",\n{\n            'v': 73,\n            'f': \"73\",\n        },\n[25]],\n [\"10502709@N05\",\n{\n            'v': 74,\n            'f': \"74\",\n        },\n[27]],\n [\"10502709@N05\",\n{\n            'v': 75,\n            'f': \"75\",\n        },\n[25, 6]],\n [\"10504927@N08\",\n{\n            'v': 76,\n            'f': \"76\",\n        },\n[23]],\n [\"10517457@N04\",\n{\n            'v': 77,\n            'f': \"77\",\n        },\n[12]],\n [\"10563628@N04\",\n{\n            'v': 78,\n            'f': \"78\",\n        },\n[16]],\n [\"10575698@N02\",\n{\n            'v': 79,\n            'f': \"79\",\n        },\n[25]],\n [\"10575698@N02\",\n{\n            'v': 80,\n            'f': \"80\",\n        },\n[13]],\n [\"10575698@N02\",\n{\n            'v': 81,\n            'f': \"81\",\n        },\n[13]],\n [\"10575698@N02\",\n{\n            'v': 82,\n            'f': \"82\",\n        },\n[21]],\n [\"10575698@N02\",\n{\n            'v': 83,\n            'f': \"83\",\n        },\n[13]],\n [\"10575698@N02\",\n{\n            'v': 84,\n            'f': \"84\",\n        },\n[30]],\n [\"10575698@N02\",\n{\n            'v': 85,\n            'f': \"85\",\n        },\n[28]],\n [\"10575698@N02\",\n{\n            'v': 86,\n            'f': \"86\",\n        },\n[27]],\n [\"10575698@N02\",\n{\n            'v': 87,\n            'f': \"87\",\n        },\n[28]],\n [\"10575698@N02\",\n{\n            'v': 88,\n            'f': \"88\",\n        },\n[24]],\n [\"10602166@N06\",\n{\n            'v': 89,\n            'f': \"89\",\n        },\n[11]],\n [\"10602166@N06\",\n{\n            'v': 90,\n            'f': \"90\",\n        },\n[30]],\n [\"10627620@N06\",\n{\n            'v': 91,\n            'f': \"91\",\n        },\n[27]],\n [\"10627620@N06\",\n{\n            'v': 92,\n            'f': \"92\",\n        },\n[21]],\n [\"10627620@N06\",\n{\n            'v': 93,\n            'f': \"93\",\n        },\n[28]],\n [\"10627620@N06\",\n{\n            'v': 94,\n            'f': \"94\",\n        },\n[11]],\n [\"10627620@N06\",\n{\n            'v': 95,\n            'f': \"95\",\n        },\n[21]],\n [\"10627620@N06\",\n{\n            'v': 96,\n            'f': \"96\",\n        },\n[21]],\n [\"10627620@N06\",\n{\n            'v': 97,\n            'f': \"97\",\n        },\n[8]],\n [\"10627620@N06\",\n{\n            'v': 98,\n            'f': \"98\",\n        },\n[3]],\n [\"10627620@N06\",\n{\n            'v': 99,\n            'f': \"99\",\n        },\n[3, 23, 27]],\n [\"10627620@N06\",\n{\n            'v': 100,\n            'f': \"100\",\n        },\n[21, 23, 30]]],\n        columns: [[\"string\", \"userID\"], [\"number\", \"seqID\"], [\"string\", \"poiID_visited\"]],\n        columnOptions: [],\n        rowsPerPage: 10,\n        helpUrl: \"https://colab.research.google.com/notebooks/data_table.ipynb\",\n        suppressOutputScrolling: true,\n        minimumWidth: undefined,\n      });\n    ",
            "text/plain": [
              "<google.colab.data_table.DataTable object>"
            ]
          },
          "metadata": {},
          "execution_count": 104
        }
      ]
    },
    {
      "cell_type": "markdown",
      "source": [
        "#### 5) Transitions\n",
        "Transitions(poi1, poi2, transitions) avec nb étant le nombre de déplacements directs de poi1 à poi2"
      ],
      "metadata": {
        "id": "dVy-SWDmHDYU"
      }
    },
    {
      "cell_type": "code",
      "source": [
        "from pyspark.sql.types import StructType\n",
        "\n",
        "def transition_poi(x):\n",
        "  return [(x[i],x[i+1]) for i in range(0,len(x)-1)]\n",
        "\n",
        "#ftr1=udf(lambda x:transition_poi(x), ArrayType(StructType([Struct(\"poi1\",IntegerType()),StructField(\"poi2\",IntegerType())])))\n",
        "ftr1=udf(lambda x:transition_poi(x), ArrayType(StructType(\n",
        "    [\n",
        "        StructField(\"poi1\",IntegerType(),False),\\\n",
        "        StructField(\"poi2\",IntegerType(),False)\n",
        "    ]\n",
        "    )\n",
        ")\n",
        ")\n",
        "spark.udf.register(\"transition_poi\",ftr1)"
      ],
      "metadata": {
        "id": "YmvXq9pzIFGw",
        "colab": {
          "base_uri": "https://localhost:8080/"
        },
        "outputId": "1ad13921-af7d-4b69-e4cd-0e38e0193ddf"
      },
      "execution_count": null,
      "outputs": [
        {
          "output_type": "execute_result",
          "data": {
            "text/plain": [
              "<function __main__.<lambda>(x)>"
            ]
          },
          "metadata": {},
          "execution_count": 105
        }
      ]
    },
    {
      "cell_type": "code",
      "source": [
        "%%sql\n",
        "\n",
        "select userID, seqID, explode(transition_poi(poiID_visited)) as start_end\n",
        "from H\n",
        "where size(transition_poi(poiID_visited))>1"
      ],
      "metadata": {
        "colab": {
          "base_uri": "https://localhost:8080/",
          "height": 314
        },
        "id": "5osyl8h6734E",
        "outputId": "beae12f6-6fe9-4b50-f231-93cb0fa4e84b"
      },
      "execution_count": null,
      "outputs": [
        {
          "output_type": "execute_result",
          "data": {
            "text/html": [
              "<div>\n",
              "<style scoped>\n",
              "    .dataframe tbody tr th:only-of-type {\n",
              "        vertical-align: middle;\n",
              "    }\n",
              "\n",
              "    .dataframe tbody tr th {\n",
              "        vertical-align: top;\n",
              "    }\n",
              "\n",
              "    .dataframe thead th {\n",
              "        text-align: right;\n",
              "    }\n",
              "</style>\n",
              "<table border=\"1\" class=\"dataframe\">\n",
              "  <thead>\n",
              "    <tr style=\"text-align: right;\">\n",
              "      <th></th>\n",
              "      <th>userID</th>\n",
              "      <th>seqID</th>\n",
              "      <th>start_end</th>\n",
              "    </tr>\n",
              "  </thead>\n",
              "  <tbody>\n",
              "    <tr>\n",
              "      <th>0</th>\n",
              "      <td>10502709@N05</td>\n",
              "      <td>58</td>\n",
              "      <td>(7, 11)</td>\n",
              "    </tr>\n",
              "    <tr>\n",
              "      <th>1</th>\n",
              "      <td>10502709@N05</td>\n",
              "      <td>58</td>\n",
              "      <td>(11, 27)</td>\n",
              "    </tr>\n",
              "    <tr>\n",
              "      <th>2</th>\n",
              "      <td>10502709@N05</td>\n",
              "      <td>67</td>\n",
              "      <td>(28, 23)</td>\n",
              "    </tr>\n",
              "    <tr>\n",
              "      <th>3</th>\n",
              "      <td>10502709@N05</td>\n",
              "      <td>67</td>\n",
              "      <td>(23, 22)</td>\n",
              "    </tr>\n",
              "    <tr>\n",
              "      <th>4</th>\n",
              "      <td>10502709@N05</td>\n",
              "      <td>71</td>\n",
              "      <td>(22, 28)</td>\n",
              "    </tr>\n",
              "    <tr>\n",
              "      <th>...</th>\n",
              "      <td>...</td>\n",
              "      <td>...</td>\n",
              "      <td>...</td>\n",
              "    </tr>\n",
              "    <tr>\n",
              "      <th>95</th>\n",
              "      <td>18948547@N00</td>\n",
              "      <td>634</td>\n",
              "      <td>(28, 23)</td>\n",
              "    </tr>\n",
              "    <tr>\n",
              "      <th>96</th>\n",
              "      <td>20075574@N00</td>\n",
              "      <td>675</td>\n",
              "      <td>(22, 6)</td>\n",
              "    </tr>\n",
              "    <tr>\n",
              "      <th>97</th>\n",
              "      <td>20075574@N00</td>\n",
              "      <td>675</td>\n",
              "      <td>(6, 25)</td>\n",
              "    </tr>\n",
              "    <tr>\n",
              "      <th>98</th>\n",
              "      <td>20342758@N00</td>\n",
              "      <td>681</td>\n",
              "      <td>(23, 28)</td>\n",
              "    </tr>\n",
              "    <tr>\n",
              "      <th>99</th>\n",
              "      <td>20342758@N00</td>\n",
              "      <td>681</td>\n",
              "      <td>(28, 16)</td>\n",
              "    </tr>\n",
              "  </tbody>\n",
              "</table>\n",
              "<p>100 rows × 3 columns</p>\n",
              "</div>"
            ],
            "application/vnd.google.colaboratory.module+javascript": "\n      import \"https://ssl.gstatic.com/colaboratory/data_table/a8bd4d5e58f96183/data_table.js\";\n\n      window.createDataTable({\n        data: [[\"10502709@N05\",\n{\n            'v': 58,\n            'f': \"58\",\n        },\n[7, 11]],\n [\"10502709@N05\",\n{\n            'v': 58,\n            'f': \"58\",\n        },\n[11, 27]],\n [\"10502709@N05\",\n{\n            'v': 67,\n            'f': \"67\",\n        },\n[28, 23]],\n [\"10502709@N05\",\n{\n            'v': 67,\n            'f': \"67\",\n        },\n[23, 22]],\n [\"10502709@N05\",\n{\n            'v': 71,\n            'f': \"71\",\n        },\n[22, 28]],\n [\"10502709@N05\",\n{\n            'v': 71,\n            'f': \"71\",\n        },\n[28, 23]],\n [\"10502709@N05\",\n{\n            'v': 71,\n            'f': \"71\",\n        },\n[23, 21]],\n [\"10627620@N06\",\n{\n            'v': 99,\n            'f': \"99\",\n        },\n[3, 23]],\n [\"10627620@N06\",\n{\n            'v': 99,\n            'f': \"99\",\n        },\n[23, 27]],\n [\"10627620@N06\",\n{\n            'v': 100,\n            'f': \"100\",\n        },\n[21, 23]],\n [\"10627620@N06\",\n{\n            'v': 100,\n            'f': \"100\",\n        },\n[23, 30]],\n [\"11090433@N05\",\n{\n            'v': 139,\n            'f': \"139\",\n        },\n[3, 23]],\n [\"11090433@N05\",\n{\n            'v': 139,\n            'f': \"139\",\n        },\n[23, 22]],\n [\"11090433@N05\",\n{\n            'v': 139,\n            'f': \"139\",\n        },\n[22, 30]],\n [\"11191102@N07\",\n{\n            'v': 155,\n            'f': \"155\",\n        },\n[16, 4]],\n [\"11191102@N07\",\n{\n            'v': 155,\n            'f': \"155\",\n        },\n[4, 22]],\n [\"11191102@N07\",\n{\n            'v': 157,\n            'f': \"157\",\n        },\n[27, 23]],\n [\"11191102@N07\",\n{\n            'v': 157,\n            'f': \"157\",\n        },\n[23, 11]],\n [\"11191102@N07\",\n{\n            'v': 162,\n            'f': \"162\",\n        },\n[7, 30]],\n [\"11191102@N07\",\n{\n            'v': 162,\n            'f': \"162\",\n        },\n[30, 22]],\n [\"11241023@N03\",\n{\n            'v': 166,\n            'f': \"166\",\n        },\n[7, 22]],\n [\"11241023@N03\",\n{\n            'v': 166,\n            'f': \"166\",\n        },\n[22, 28]],\n [\"11349639@N00\",\n{\n            'v': 169,\n            'f': \"169\",\n        },\n[16, 4]],\n [\"11349639@N00\",\n{\n            'v': 169,\n            'f': \"169\",\n        },\n[4, 30]],\n [\"13273343@N00\",\n{\n            'v': 288,\n            'f': \"288\",\n        },\n[30, 16]],\n [\"13273343@N00\",\n{\n            'v': 288,\n            'f': \"288\",\n        },\n[16, 8]],\n [\"13528098@N00\",\n{\n            'v': 294,\n            'f': \"294\",\n        },\n[16, 8]],\n [\"13528098@N00\",\n{\n            'v': 294,\n            'f': \"294\",\n        },\n[8, 30]],\n [\"13644648@N03\",\n{\n            'v': 298,\n            'f': \"298\",\n        },\n[22, 7]],\n [\"13644648@N03\",\n{\n            'v': 298,\n            'f': \"298\",\n        },\n[7, 23]],\n [\"13644648@N03\",\n{\n            'v': 298,\n            'f': \"298\",\n        },\n[23, 28]],\n [\"13644648@N03\",\n{\n            'v': 298,\n            'f': \"298\",\n        },\n[28, 1]],\n [\"13644648@N03\",\n{\n            'v': 298,\n            'f': \"298\",\n        },\n[1, 29]],\n [\"13644648@N03\",\n{\n            'v': 298,\n            'f': \"298\",\n        },\n[29, 30]],\n [\"13644648@N03\",\n{\n            'v': 298,\n            'f': \"298\",\n        },\n[30, 8]],\n [\"13644648@N03\",\n{\n            'v': 298,\n            'f': \"298\",\n        },\n[8, 6]],\n [\"13644648@N03\",\n{\n            'v': 298,\n            'f': \"298\",\n        },\n[6, 11]],\n [\"13644648@N03\",\n{\n            'v': 298,\n            'f': \"298\",\n        },\n[11, 24]],\n [\"13644648@N03\",\n{\n            'v': 298,\n            'f': \"298\",\n        },\n[24, 4]],\n [\"13644648@N03\",\n{\n            'v': 298,\n            'f': \"298\",\n        },\n[4, 16]],\n [\"13672753@N00\",\n{\n            'v': 302,\n            'f': \"302\",\n        },\n[8, 16]],\n [\"13672753@N00\",\n{\n            'v': 302,\n            'f': \"302\",\n        },\n[16, 4]],\n [\"13672753@N00\",\n{\n            'v': 302,\n            'f': \"302\",\n        },\n[4, 22]],\n [\"13907834@N00\",\n{\n            'v': 315,\n            'f': \"315\",\n        },\n[16, 4]],\n [\"13907834@N00\",\n{\n            'v': 315,\n            'f': \"315\",\n        },\n[4, 8]],\n [\"13907834@N00\",\n{\n            'v': 316,\n            'f': \"316\",\n        },\n[21, 27]],\n [\"13907834@N00\",\n{\n            'v': 316,\n            'f': \"316\",\n        },\n[27, 11]],\n [\"14391210@N00\",\n{\n            'v': 379,\n            'f': \"379\",\n        },\n[30, 22]],\n [\"14391210@N00\",\n{\n            'v': 379,\n            'f': \"379\",\n        },\n[22, 6]],\n [\"14391210@N00\",\n{\n            'v': 380,\n            'f': \"380\",\n        },\n[30, 22]],\n [\"14391210@N00\",\n{\n            'v': 380,\n            'f': \"380\",\n        },\n[22, 28]],\n [\"14391210@N00\",\n{\n            'v': 380,\n            'f': \"380\",\n        },\n[28, 23]],\n [\"14878709@N00\",\n{\n            'v': 453,\n            'f': \"453\",\n        },\n[23, 28]],\n [\"14878709@N00\",\n{\n            'v': 453,\n            'f': \"453\",\n        },\n[28, 16]],\n [\"14878709@N00\",\n{\n            'v': 454,\n            'f': \"454\",\n        },\n[16, 21]],\n [\"14878709@N00\",\n{\n            'v': 454,\n            'f': \"454\",\n        },\n[21, 23]],\n [\"14878709@N00\",\n{\n            'v': 454,\n            'f': \"454\",\n        },\n[23, 8]],\n [\"14878709@N00\",\n{\n            'v': 454,\n            'f': \"454\",\n        },\n[8, 28]],\n [\"14878709@N00\",\n{\n            'v': 454,\n            'f': \"454\",\n        },\n[28, 22]],\n [\"14878709@N00\",\n{\n            'v': 454,\n            'f': \"454\",\n        },\n[22, 27]],\n [\"15205252@N00\",\n{\n            'v': 472,\n            'f': \"472\",\n        },\n[17, 2]],\n [\"15205252@N00\",\n{\n            'v': 472,\n            'f': \"472\",\n        },\n[2, 14]],\n [\"16048448@N00\",\n{\n            'v': 510,\n            'f': \"510\",\n        },\n[28, 22]],\n [\"16048448@N00\",\n{\n            'v': 510,\n            'f': \"510\",\n        },\n[22, 23]],\n [\"16048448@N00\",\n{\n            'v': 510,\n            'f': \"510\",\n        },\n[23, 29]],\n [\"16048448@N00\",\n{\n            'v': 510,\n            'f': \"510\",\n        },\n[29, 7]],\n [\"16048448@N00\",\n{\n            'v': 510,\n            'f': \"510\",\n        },\n[7, 30]],\n [\"16048448@N00\",\n{\n            'v': 510,\n            'f': \"510\",\n        },\n[30, 16]],\n [\"16048448@N00\",\n{\n            'v': 510,\n            'f': \"510\",\n        },\n[16, 21]],\n [\"16326397@N02\",\n{\n            'v': 515,\n            'f': \"515\",\n        },\n[16, 11]],\n [\"16326397@N02\",\n{\n            'v': 515,\n            'f': \"515\",\n        },\n[11, 23]],\n [\"16693950@N00\",\n{\n            'v': 523,\n            'f': \"523\",\n        },\n[16, 22]],\n [\"16693950@N00\",\n{\n            'v': 523,\n            'f': \"523\",\n        },\n[22, 23]],\n [\"16693950@N00\",\n{\n            'v': 524,\n            'f': \"524\",\n        },\n[25, 19]],\n [\"16693950@N00\",\n{\n            'v': 524,\n            'f': \"524\",\n        },\n[19, 15]],\n [\"16693950@N00\",\n{\n            'v': 525,\n            'f': \"525\",\n        },\n[22, 8]],\n [\"16693950@N00\",\n{\n            'v': 525,\n            'f': \"525\",\n        },\n[8, 30]],\n [\"16693950@N00\",\n{\n            'v': 525,\n            'f': \"525\",\n        },\n[30, 7]],\n [\"16693950@N00\",\n{\n            'v': 525,\n            'f': \"525\",\n        },\n[7, 28]],\n [\"16693950@N00\",\n{\n            'v': 525,\n            'f': \"525\",\n        },\n[28, 23]],\n [\"16693950@N00\",\n{\n            'v': 525,\n            'f': \"525\",\n        },\n[23, 21]],\n [\"16693950@N00\",\n{\n            'v': 525,\n            'f': \"525\",\n        },\n[21, 16]],\n [\"16926694@N06\",\n{\n            'v': 544,\n            'f': \"544\",\n        },\n[7, 30]],\n [\"16926694@N06\",\n{\n            'v': 544,\n            'f': \"544\",\n        },\n[30, 8]],\n [\"17373191@N00\",\n{\n            'v': 549,\n            'f': \"549\",\n        },\n[22, 1]],\n [\"17373191@N00\",\n{\n            'v': 549,\n            'f': \"549\",\n        },\n[1, 8]],\n [\"17373191@N00\",\n{\n            'v': 549,\n            'f': \"549\",\n        },\n[8, 21]],\n [\"17373191@N00\",\n{\n            'v': 549,\n            'f': \"549\",\n        },\n[21, 28]],\n [\"18412989@N00\",\n{\n            'v': 619,\n            'f': \"619\",\n        },\n[23, 22]],\n [\"18412989@N00\",\n{\n            'v': 619,\n            'f': \"619\",\n        },\n[22, 16]],\n [\"18412989@N00\",\n{\n            'v': 623,\n            'f': \"623\",\n        },\n[21, 23]],\n [\"18412989@N00\",\n{\n            'v': 623,\n            'f': \"623\",\n        },\n[23, 24]],\n [\"18412989@N00\",\n{\n            'v': 624,\n            'f': \"624\",\n        },\n[7, 23]],\n [\"18412989@N00\",\n{\n            'v': 624,\n            'f': \"624\",\n        },\n[23, 1]],\n [\"18948547@N00\",\n{\n            'v': 634,\n            'f': \"634\",\n        },\n[22, 28]],\n [\"18948547@N00\",\n{\n            'v': 634,\n            'f': \"634\",\n        },\n[28, 23]],\n [\"20075574@N00\",\n{\n            'v': 675,\n            'f': \"675\",\n        },\n[22, 6]],\n [\"20075574@N00\",\n{\n            'v': 675,\n            'f': \"675\",\n        },\n[6, 25]],\n [\"20342758@N00\",\n{\n            'v': 681,\n            'f': \"681\",\n        },\n[23, 28]],\n [\"20342758@N00\",\n{\n            'v': 681,\n            'f': \"681\",\n        },\n[28, 16]]],\n        columns: [[\"string\", \"userID\"], [\"number\", \"seqID\"], [\"string\", \"start_end\"]],\n        columnOptions: [],\n        rowsPerPage: 10,\n        helpUrl: \"https://colab.research.google.com/notebooks/data_table.ipynb\",\n        suppressOutputScrolling: true,\n        minimumWidth: undefined,\n      });\n    ",
            "text/plain": [
              "<google.colab.data_table.DataTable object>"
            ]
          },
          "metadata": {},
          "execution_count": 106
        }
      ]
    },
    {
      "cell_type": "code",
      "source": [
        "%%sql\n",
        "\n",
        "select start_end,count(*) as nb_transition from\n",
        "(\n",
        "select explode(transition_poi(poiID_visited)) as start_end\n",
        "from H\n",
        "where size(transition_poi(poiID_visited))>1\n",
        ")\n",
        "group by start_end\n",
        "\n"
      ],
      "metadata": {
        "id": "qZyH_zicfO3P",
        "colab": {
          "base_uri": "https://localhost:8080/",
          "height": 314
        },
        "outputId": "b64075fb-eb23-4fe7-ec22-fb2a61850ba5"
      },
      "execution_count": null,
      "outputs": [
        {
          "output_type": "execute_result",
          "data": {
            "text/html": [
              "<div>\n",
              "<style scoped>\n",
              "    .dataframe tbody tr th:only-of-type {\n",
              "        vertical-align: middle;\n",
              "    }\n",
              "\n",
              "    .dataframe tbody tr th {\n",
              "        vertical-align: top;\n",
              "    }\n",
              "\n",
              "    .dataframe thead th {\n",
              "        text-align: right;\n",
              "    }\n",
              "</style>\n",
              "<table border=\"1\" class=\"dataframe\">\n",
              "  <thead>\n",
              "    <tr style=\"text-align: right;\">\n",
              "      <th></th>\n",
              "      <th>start_end</th>\n",
              "      <th>nb_transition</th>\n",
              "    </tr>\n",
              "  </thead>\n",
              "  <tbody>\n",
              "    <tr>\n",
              "      <th>0</th>\n",
              "      <td>(11, 27)</td>\n",
              "      <td>3</td>\n",
              "    </tr>\n",
              "    <tr>\n",
              "      <th>1</th>\n",
              "      <td>(28, 23)</td>\n",
              "      <td>26</td>\n",
              "    </tr>\n",
              "    <tr>\n",
              "      <th>2</th>\n",
              "      <td>(4, 16)</td>\n",
              "      <td>12</td>\n",
              "    </tr>\n",
              "    <tr>\n",
              "      <th>3</th>\n",
              "      <td>(4, 8)</td>\n",
              "      <td>6</td>\n",
              "    </tr>\n",
              "    <tr>\n",
              "      <th>4</th>\n",
              "      <td>(28, 16)</td>\n",
              "      <td>4</td>\n",
              "    </tr>\n",
              "    <tr>\n",
              "      <th>...</th>\n",
              "      <td>...</td>\n",
              "      <td>...</td>\n",
              "    </tr>\n",
              "    <tr>\n",
              "      <th>95</th>\n",
              "      <td>(11, 24)</td>\n",
              "      <td>2</td>\n",
              "    </tr>\n",
              "    <tr>\n",
              "      <th>96</th>\n",
              "      <td>(22, 27)</td>\n",
              "      <td>2</td>\n",
              "    </tr>\n",
              "    <tr>\n",
              "      <th>97</th>\n",
              "      <td>(25, 19)</td>\n",
              "      <td>1</td>\n",
              "    </tr>\n",
              "    <tr>\n",
              "      <th>98</th>\n",
              "      <td>(21, 16)</td>\n",
              "      <td>2</td>\n",
              "    </tr>\n",
              "    <tr>\n",
              "      <th>99</th>\n",
              "      <td>(3, 29)</td>\n",
              "      <td>2</td>\n",
              "    </tr>\n",
              "  </tbody>\n",
              "</table>\n",
              "<p>100 rows × 2 columns</p>\n",
              "</div>"
            ],
            "application/vnd.google.colaboratory.module+javascript": "\n      import \"https://ssl.gstatic.com/colaboratory/data_table/a8bd4d5e58f96183/data_table.js\";\n\n      window.createDataTable({\n        data: [[[11, 27],\n{\n            'v': 3,\n            'f': \"3\",\n        }],\n [[28, 23],\n{\n            'v': 26,\n            'f': \"26\",\n        }],\n [[4, 16],\n{\n            'v': 12,\n            'f': \"12\",\n        }],\n [[4, 8],\n{\n            'v': 6,\n            'f': \"6\",\n        }],\n [[28, 16],\n{\n            'v': 4,\n            'f': \"4\",\n        }],\n [[2, 14],\n{\n            'v': 4,\n            'f': \"4\",\n        }],\n [[23, 29],\n{\n            'v': 3,\n            'f': \"3\",\n        }],\n [[22, 8],\n{\n            'v': 3,\n            'f': \"3\",\n        }],\n [[23, 24],\n{\n            'v': 1,\n            'f': \"1\",\n        }],\n [[16, 24],\n{\n            'v': 4,\n            'f': \"4\",\n        }],\n [[30, 24],\n{\n            'v': 4,\n            'f': \"4\",\n        }],\n [[19, 1],\n{\n            'v': 1,\n            'f': \"1\",\n        }],\n [[22, 25],\n{\n            'v': 5,\n            'f': \"5\",\n        }],\n [[22, 29],\n{\n            'v': 8,\n            'f': \"8\",\n        }],\n [[19, 7],\n{\n            'v': 1,\n            'f': \"1\",\n        }],\n [[25, 6],\n{\n            'v': 2,\n            'f': \"2\",\n        }],\n [[28, 4],\n{\n            'v': 3,\n            'f': \"3\",\n        }],\n [[11, 19],\n{\n            'v': 1,\n            'f': \"1\",\n        }],\n [[6, 27],\n{\n            'v': 1,\n            'f': \"1\",\n        }],\n [[24, 11],\n{\n            'v': 1,\n            'f': \"1\",\n        }],\n [[29, 13],\n{\n            'v': 1,\n            'f': \"1\",\n        }],\n [[23, 30],\n{\n            'v': 7,\n            'f': \"7\",\n        }],\n [[4, 22],\n{\n            'v': 3,\n            'f': \"3\",\n        }],\n [[7, 30],\n{\n            'v': 19,\n            'f': \"19\",\n        }],\n [[7, 23],\n{\n            'v': 10,\n            'f': \"10\",\n        }],\n [[28, 1],\n{\n            'v': 2,\n            'f': \"2\",\n        }],\n [[30, 8],\n{\n            'v': 7,\n            'f': \"7\",\n        }],\n [[28, 22],\n{\n            'v': 24,\n            'f': \"24\",\n        }],\n [[28, 21],\n{\n            'v': 15,\n            'f': \"15\",\n        }],\n [[29, 27],\n{\n            'v': 1,\n            'f': \"1\",\n        }],\n [[25, 23],\n{\n            'v': 2,\n            'f': \"2\",\n        }],\n [[8, 24],\n{\n            'v': 3,\n            'f': \"3\",\n        }],\n [[29, 8],\n{\n            'v': 2,\n            'f': \"2\",\n        }],\n [[16, 17],\n{\n            'v': 1,\n            'f': \"1\",\n        }],\n [[24, 25],\n{\n            'v': 1,\n            'f': \"1\",\n        }],\n [[25, 16],\n{\n            'v': 1,\n            'f': \"1\",\n        }],\n [[1, 7],\n{\n            'v': 4,\n            'f': \"4\",\n        }],\n [[28, 7],\n{\n            'v': 6,\n            'f': \"6\",\n        }],\n [[24, 8],\n{\n            'v': 2,\n            'f': \"2\",\n        }],\n [[28, 29],\n{\n            'v': 2,\n            'f': \"2\",\n        }],\n [[11, 7],\n{\n            'v': 1,\n            'f': \"1\",\n        }],\n [[7, 6],\n{\n            'v': 1,\n            'f': \"1\",\n        }],\n [[25, 21],\n{\n            'v': 1,\n            'f': \"1\",\n        }],\n [[4, 25],\n{\n            'v': 1,\n            'f': \"1\",\n        }],\n [[21, 8],\n{\n            'v': 1,\n            'f': \"1\",\n        }],\n [[3, 30],\n{\n            'v': 3,\n            'f': \"3\",\n        }],\n [[11, 8],\n{\n            'v': 1,\n            'f': \"1\",\n        }],\n [[25, 4],\n{\n            'v': 1,\n            'f': \"1\",\n        }],\n [[23, 6],\n{\n            'v': 1,\n            'f': \"1\",\n        }],\n [[1, 4],\n{\n            'v': 1,\n            'f': \"1\",\n        }],\n [[7, 19],\n{\n            'v': 1,\n            'f': \"1\",\n        }],\n [[24, 15],\n{\n            'v': 1,\n            'f': \"1\",\n        }],\n [[7, 24],\n{\n            'v': 2,\n            'f': \"2\",\n        }],\n [[14, 2],\n{\n            'v': 1,\n            'f': \"1\",\n        }],\n [[25, 22],\n{\n            'v': 1,\n            'f': \"1\",\n        }],\n [[25, 29],\n{\n            'v': 1,\n            'f': \"1\",\n        }],\n [[2, 23],\n{\n            'v': 1,\n            'f': \"1\",\n        }],\n [[22, 28],\n{\n            'v': 33,\n            'f': \"33\",\n        }],\n [[16, 8],\n{\n            'v': 16,\n            'f': \"16\",\n        }],\n [[29, 30],\n{\n            'v': 2,\n            'f': \"2\",\n        }],\n [[21, 27],\n{\n            'v': 2,\n            'f': \"2\",\n        }],\n [[22, 6],\n{\n            'v': 8,\n            'f': \"8\",\n        }],\n [[23, 8],\n{\n            'v': 1,\n            'f': \"1\",\n        }],\n [[17, 2],\n{\n            'v': 2,\n            'f': \"2\",\n        }],\n [[11, 23],\n{\n            'v': 2,\n            'f': \"2\",\n        }],\n [[16, 22],\n{\n            'v': 4,\n            'f': \"4\",\n        }],\n [[8, 21],\n{\n            'v': 2,\n            'f': \"2\",\n        }],\n [[22, 16],\n{\n            'v': 7,\n            'f': \"7\",\n        }],\n [[13, 16],\n{\n            'v': 1,\n            'f': \"1\",\n        }],\n [[7, 1],\n{\n            'v': 4,\n            'f': \"4\",\n        }],\n [[30, 28],\n{\n            'v': 6,\n            'f': \"6\",\n        }],\n [[28, 30],\n{\n            'v': 7,\n            'f': \"7\",\n        }],\n [[23, 16],\n{\n            'v': 1,\n            'f': \"1\",\n        }],\n [[3, 21],\n{\n            'v': 5,\n            'f': \"5\",\n        }],\n [[6, 30],\n{\n            'v': 2,\n            'f': \"2\",\n        }],\n [[11, 26],\n{\n            'v': 1,\n            'f': \"1\",\n        }],\n [[25, 11],\n{\n            'v': 3,\n            'f': \"3\",\n        }],\n [[27, 6],\n{\n            'v': 1,\n            'f': \"1\",\n        }],\n [[4, 1],\n{\n            'v': 3,\n            'f': \"3\",\n        }],\n [[2, 17],\n{\n            'v': 5,\n            'f': \"5\",\n        }],\n [[16, 7],\n{\n            'v': 5,\n            'f': \"5\",\n        }],\n [[13, 21],\n{\n            'v': 1,\n            'f': \"1\",\n        }],\n [[21, 1],\n{\n            'v': 1,\n            'f': \"1\",\n        }],\n [[1, 22],\n{\n            'v': 1,\n            'f': \"1\",\n        }],\n [[28, 25],\n{\n            'v': 1,\n            'f': \"1\",\n        }],\n [[24, 22],\n{\n            'v': 1,\n            'f': \"1\",\n        }],\n [[13, 4],\n{\n            'v': 1,\n            'f': \"1\",\n        }],\n [[30, 11],\n{\n            'v': 1,\n            'f': \"1\",\n        }],\n [[6, 13],\n{\n            'v': 1,\n            'f': \"1\",\n        }],\n [[7, 11],\n{\n            'v': 2,\n            'f': \"2\",\n        }],\n [[3, 23],\n{\n            'v': 3,\n            'f': \"3\",\n        }],\n [[8, 30],\n{\n            'v': 11,\n            'f': \"11\",\n        }],\n [[22, 7],\n{\n            'v': 5,\n            'f': \"5\",\n        }],\n [[23, 28],\n{\n            'v': 29,\n            'f': \"29\",\n        }],\n [[8, 6],\n{\n            'v': 1,\n            'f': \"1\",\n        }],\n [[11, 24],\n{\n            'v': 2,\n            'f': \"2\",\n        }],\n [[22, 27],\n{\n            'v': 2,\n            'f': \"2\",\n        }],\n [[25, 19],\n{\n            'v': 1,\n            'f': \"1\",\n        }],\n [[21, 16],\n{\n            'v': 2,\n            'f': \"2\",\n        }],\n [[3, 29],\n{\n            'v': 2,\n            'f': \"2\",\n        }]],\n        columns: [[\"string\", \"start_end\"], [\"number\", \"nb_transition\"]],\n        columnOptions: [],\n        rowsPerPage: 10,\n        helpUrl: \"https://colab.research.google.com/notebooks/data_table.ipynb\",\n        suppressOutputScrolling: true,\n        minimumWidth: undefined,\n      });\n    ",
            "text/plain": [
              "<google.colab.data_table.DataTable object>"
            ]
          },
          "metadata": {},
          "execution_count": 107
        }
      ]
    },
    {
      "cell_type": "markdown",
      "source": [
        "#### 6) Distances entre POIs\n",
        "Distance(poi1, poi2, distance)"
      ],
      "metadata": {
        "id": "Zr3JfNuCIKRS"
      }
    },
    {
      "cell_type": "code",
      "source": [
        "#a = sin(dlat / 2)**2 + cos(lat1) * cos(lat2) * sin(dlon / 2)**2"
      ],
      "metadata": {
        "id": "JfK6Ks7IDLid"
      },
      "execution_count": null,
      "outputs": []
    },
    {
      "cell_type": "code",
      "source": [
        "%%sql\n",
        "\n",
        "\n",
        "select p1.poiName,p2.poiName, pow(sin((p1.latitude-p2.latitude)/2),2)+cos(p1.latitude)*cos(p2.latitude)*pow(sin((p1.longitude-p2.longitude)/2),2)\n",
        "from POI p1,POI p2\n",
        "where not p1.poiID=p2.poiID"
      ],
      "metadata": {
        "id": "GEDBaLVw-scw",
        "colab": {
          "base_uri": "https://localhost:8080/",
          "height": 314
        },
        "outputId": "4655cb91-1bf4-43ba-eb2e-bb663505b1c0"
      },
      "execution_count": null,
      "outputs": [
        {
          "output_type": "execute_result",
          "data": {
            "text/html": [
              "<div>\n",
              "<style scoped>\n",
              "    .dataframe tbody tr th:only-of-type {\n",
              "        vertical-align: middle;\n",
              "    }\n",
              "\n",
              "    .dataframe tbody tr th {\n",
              "        vertical-align: top;\n",
              "    }\n",
              "\n",
              "    .dataframe thead th {\n",
              "        text-align: right;\n",
              "    }\n",
              "</style>\n",
              "<table border=\"1\" class=\"dataframe\">\n",
              "  <thead>\n",
              "    <tr style=\"text-align: right;\">\n",
              "      <th></th>\n",
              "      <th>poiName</th>\n",
              "      <th>poiName</th>\n",
              "      <th>(pow(SIN(((latitude - latitude) / 2)), 2) + ((COS(latitude) * COS(latitude)) * pow(SIN(((longitude - longitude) / 2)), 2)))</th>\n",
              "    </tr>\n",
              "  </thead>\n",
              "  <tbody>\n",
              "    <tr>\n",
              "      <th>0</th>\n",
              "      <td>Air_Canada_Centre</td>\n",
              "      <td>BMO_Field</td>\n",
              "      <td>0.000372</td>\n",
              "    </tr>\n",
              "    <tr>\n",
              "      <th>1</th>\n",
              "      <td>Air_Canada_Centre</td>\n",
              "      <td>Maple_Leaf_Gardens</td>\n",
              "      <td>0.000089</td>\n",
              "    </tr>\n",
              "    <tr>\n",
              "      <th>2</th>\n",
              "      <td>Air_Canada_Centre</td>\n",
              "      <td>Rogers_Centre</td>\n",
              "      <td>0.000023</td>\n",
              "    </tr>\n",
              "    <tr>\n",
              "      <th>3</th>\n",
              "      <td>Air_Canada_Centre</td>\n",
              "      <td>Woodbine_Racetrack</td>\n",
              "      <td>0.012438</td>\n",
              "    </tr>\n",
              "    <tr>\n",
              "      <th>4</th>\n",
              "      <td>Air_Canada_Centre</td>\n",
              "      <td>Art_Gallery_of_Ontario</td>\n",
              "      <td>0.000069</td>\n",
              "    </tr>\n",
              "    <tr>\n",
              "      <th>...</th>\n",
              "      <td>...</td>\n",
              "      <td>...</td>\n",
              "      <td>...</td>\n",
              "    </tr>\n",
              "    <tr>\n",
              "      <th>95</th>\n",
              "      <td>Rogers_Centre</td>\n",
              "      <td>Riverdale_Farm</td>\n",
              "      <td>0.000339</td>\n",
              "    </tr>\n",
              "    <tr>\n",
              "      <th>96</th>\n",
              "      <td>Rogers_Centre</td>\n",
              "      <td>Royal_Ontario_Museum</td>\n",
              "      <td>0.000176</td>\n",
              "    </tr>\n",
              "    <tr>\n",
              "      <th>97</th>\n",
              "      <td>Rogers_Centre</td>\n",
              "      <td>Toronto_Zoo</td>\n",
              "      <td>0.017849</td>\n",
              "    </tr>\n",
              "    <tr>\n",
              "      <th>98</th>\n",
              "      <td>Rogers_Centre</td>\n",
              "      <td>Casa_Loma</td>\n",
              "      <td>0.000430</td>\n",
              "    </tr>\n",
              "    <tr>\n",
              "      <th>99</th>\n",
              "      <td>Rogers_Centre</td>\n",
              "      <td>Canadian_National_Exhibition</td>\n",
              "      <td>0.000184</td>\n",
              "    </tr>\n",
              "  </tbody>\n",
              "</table>\n",
              "<p>100 rows × 3 columns</p>\n",
              "</div>"
            ],
            "application/vnd.google.colaboratory.module+javascript": "\n      import \"https://ssl.gstatic.com/colaboratory/data_table/a8bd4d5e58f96183/data_table.js\";\n\n      window.createDataTable({\n        data: [[\"Air_Canada_Centre\",\n\"BMO_Field\",\n{\n            'v': 0.0003723569630492138,\n            'f': \"0.0003723569630492138\",\n        }],\n [\"Air_Canada_Centre\",\n\"Maple_Leaf_Gardens\",\n{\n            'v': 8.948111620261043e-05,\n            'f': \"8.948111620261043e-05\",\n        }],\n [\"Air_Canada_Centre\",\n\"Rogers_Centre\",\n{\n            'v': 2.316133790571715e-05,\n            'f': \"2.316133790571715e-05\",\n        }],\n [\"Air_Canada_Centre\",\n\"Woodbine_Racetrack\",\n{\n            'v': 0.012437632938886792,\n            'f': \"0.012437632938886792\",\n        }],\n [\"Air_Canada_Centre\",\n\"Art_Gallery_of_Ontario\",\n{\n            'v': 6.921653153086324e-05,\n            'f': \"6.921653153086324e-05\",\n        }],\n [\"Air_Canada_Centre\",\n\"Hockey_Hall_of_Fame\",\n{\n            'v': 4.141513768110107e-06,\n            'f': \"4.141513768110107e-06\",\n        }],\n [\"Air_Canada_Centre\",\n\"Ripley%27s_Aquarium_of_Canada\",\n{\n            'v': 1.0702222118553075e-05,\n            'f': \"1.0702222118553075e-05\",\n        }],\n [\"Air_Canada_Centre\",\n\"Ontario_Science_Centre\",\n{\n            'v': 0.0017234913633003154,\n            'f': \"0.0017234913633003154\",\n        }],\n [\"Air_Canada_Centre\",\n\"Riverdale_Farm\",\n{\n            'v': 0.00021300608274297319,\n            'f': \"0.00021300608274297319\",\n        }],\n [\"Air_Canada_Centre\",\n\"Royal_Ontario_Museum\",\n{\n            'v': 0.00019648158135631116,\n            'f': \"0.00019648158135631116\",\n        }],\n [\"Air_Canada_Centre\",\n\"Toronto_Zoo\",\n{\n            'v': 0.016753126576731982,\n            'f': \"0.016753126576731982\",\n        }],\n [\"Air_Canada_Centre\",\n\"Casa_Loma\",\n{\n            'v': 0.0005091251479341502,\n            'f': \"0.0005091251479341502\",\n        }],\n [\"Air_Canada_Centre\",\n\"Canadian_National_Exhibition\",\n{\n            'v': 0.0003365371747897146,\n            'f': \"0.0003365371747897146\",\n        }],\n [\"Air_Canada_Centre\",\n\"Centreville_Amusement_Park\",\n{\n            'v': 0.000139144871433957,\n            'f': \"0.000139144871433957\",\n        }],\n [\"Air_Canada_Centre\",\n\"CN_Tower\",\n{\n            'v': 1.4112556479922231e-05,\n            'f': \"1.4112556479922231e-05\",\n        }],\n [\"Air_Canada_Centre\",\n\"Exhibition_Place\",\n{\n            'v': 0.00033006814795103005,\n            'f': \"0.00033006814795103005\",\n        }],\n [\"Air_Canada_Centre\",\n\"Sunnyside_Amusement_Park\",\n{\n            'v': 0.0011450766785057497,\n            'f': \"0.0011450766785057497\",\n        }],\n [\"Air_Canada_Centre\",\n\"Toronto_Islands\",\n{\n            'v': 0.0001266263216541333,\n            'f': \"0.0001266263216541333\",\n        }],\n [\"Air_Canada_Centre\",\n\"High_Park\",\n{\n            'v': 0.001566514599578149,\n            'f': \"0.001566514599578149\",\n        }],\n [\"Air_Canada_Centre\",\n\"Yonge-Dundas_Square\",\n{\n            'v': 4.110672450017138e-05,\n            'f': \"4.110672450017138e-05\",\n        }],\n [\"Air_Canada_Centre\",\n\"Nathan_Phillips_Square\",\n{\n            'v': 2.541954964263309e-05,\n            'f': \"2.541954964263309e-05\",\n        }],\n [\"Air_Canada_Centre\",\n\"Toronto_Eaton_Centre\",\n{\n            'v': 2.866065181174684e-05,\n            'f': \"2.866065181174684e-05\",\n        }],\n [\"Air_Canada_Centre\",\n\"Harbourfront_Centre\",\n{\n            'v': 7.72063722077595e-06,\n            'f': \"7.72063722077595e-06\",\n        }],\n [\"Air_Canada_Centre\",\n\"Kensington_Market\",\n{\n            'v': 0.00013599478843316865,\n            'f': \"0.00013599478843316865\",\n        }],\n [\"Air_Canada_Centre\",\n\"Yorkdale_Shopping_Centre\",\n{\n            'v': 0.002923387952035208,\n            'f': \"0.002923387952035208\",\n        }],\n [\"Air_Canada_Centre\",\n\"Yorkville,_Toronto\",\n{\n            'v': 0.0002135541834656731,\n            'f': \"0.0002135541834656731\",\n        }],\n [\"Air_Canada_Centre\",\n\"Old_City_Hall_(Toronto)\",\n{\n            'v': 2.2416253818581154e-05,\n            'f': \"2.2416253818581154e-05\",\n        }],\n [\"Air_Canada_Centre\",\n\"Ontario_Legislative_Building\",\n{\n            'v': 0.00012654599686236163,\n            'f': \"0.00012654599686236163\",\n        }],\n [\"Air_Canada_Centre\",\n\"Union_Station_(Toronto)\",\n{\n            'v': 1.380538515458992e-06,\n            'f': \"1.380538515458992e-06\",\n        }],\n [\"BMO_Field\",\n\"Air_Canada_Centre\",\n{\n            'v': 0.0003723569630492138,\n            'f': \"0.0003723569630492138\",\n        }],\n [\"BMO_Field\",\n\"Maple_Leaf_Gardens\",\n{\n            'v': 0.0005441856979255268,\n            'f': \"0.0005441856979255268\",\n        }],\n [\"BMO_Field\",\n\"Rogers_Centre\",\n{\n            'v': 0.00021038114593680468,\n            'f': \"0.00021038114593680468\",\n        }],\n [\"BMO_Field\",\n\"Woodbine_Racetrack\",\n{\n            'v': 0.009184997918665762,\n            'f': \"0.009184997918665762\",\n        }],\n [\"BMO_Field\",\n\"Art_Gallery_of_Ontario\",\n{\n            'v': 0.0002597328679541423,\n            'f': \"0.0002597328679541423\",\n        }],\n [\"BMO_Field\",\n\"Hockey_Hall_of_Fame\",\n{\n            'v': 0.0004296981289083286,\n            'f': \"0.0004296981289083286\",\n        }],\n [\"BMO_Field\",\n\"Ripley%27s_Aquarium_of_Canada\",\n{\n            'v': 0.00025828051004571676,\n            'f': \"0.00025828051004571676\",\n        }],\n [\"BMO_Field\",\n\"Ontario_Science_Centre\",\n{\n            'v': 0.003218277442266323,\n            'f': \"0.003218277442266323\",\n        }],\n [\"BMO_Field\",\n\"Riverdale_Farm\",\n{\n            'v': 0.001028038204651925,\n            'f': \"0.001028038204651925\",\n        }],\n [\"BMO_Field\",\n\"Royal_Ontario_Museum\",\n{\n            'v': 0.0004347379779993419,\n            'f': \"0.0004347379779993419\",\n        }],\n [\"BMO_Field\",\n\"Toronto_Zoo\",\n{\n            'v': 0.02159594298607274,\n            'f': \"0.02159594298607274\",\n        }],\n [\"BMO_Field\",\n\"Casa_Loma\",\n{\n            'v': 0.0005319861595769563,\n            'f': \"0.0005319861595769563\",\n        }],\n [\"BMO_Field\",\n\"Canadian_National_Exhibition\",\n{\n            'v': 9.063536263101275e-07,\n            'f': \"9.063536263101275e-07\",\n        }],\n [\"BMO_Field\",\n\"Centreville_Amusement_Park\",\n{\n            'v': 0.0004822883060578147,\n            'f': \"0.0004822883060578147\",\n        }],\n [\"BMO_Field\",\n\"CN_Tower\",\n{\n            'v': 0.00024397513575340874,\n            'f': \"0.00024397513575340874\",\n        }],\n [\"BMO_Field\",\n\"Exhibition_Place\",\n{\n            'v': 1.3792679935352201e-06,\n            'f': \"1.3792679935352201e-06\",\n        }],\n [\"BMO_Field\",\n\"Sunnyside_Amusement_Park\",\n{\n            'v': 0.00023549009886488954,\n            'f': \"0.00023549009886488954\",\n        }],\n [\"BMO_Field\",\n\"Toronto_Islands\",\n{\n            'v': 0.0003871830336319292,\n            'f': \"0.0003871830336319292\",\n        }],\n [\"BMO_Field\",\n\"High_Park\",\n{\n            'v': 0.00048616828682102606,\n            'f': \"0.00048616828682102606\",\n        }],\n [\"BMO_Field\",\n\"Yonge-Dundas_Square\",\n{\n            'v': 0.00046291955483365526,\n            'f': \"0.00046291955483365526\",\n        }],\n [\"BMO_Field\",\n\"Nathan_Phillips_Square\",\n{\n            'v': 0.0003694157046483331,\n            'f': \"0.0003694157046483331\",\n        }],\n [\"BMO_Field\",\n\"Toronto_Eaton_Centre\",\n{\n            'v': 0.0004383302369792774,\n            'f': \"0.0004383302369792774\",\n        }],\n [\"BMO_Field\",\n\"Harbourfront_Centre\",\n{\n            'v': 0.0003034085488946465,\n            'f': \"0.0003034085488946465\",\n        }],\n [\"BMO_Field\",\n\"Kensington_Market\",\n{\n            'v': 0.00019242270754871166,\n            'f': \"0.00019242270754871166\",\n        }],\n [\"BMO_Field\",\n\"Yorkdale_Shopping_Centre\",\n{\n            'v': 0.002416230081626281,\n            'f': \"0.002416230081626281\",\n        }],\n [\"BMO_Field\",\n\"Yorkville,_Toronto\",\n{\n            'v': 0.0005205653792046594,\n            'f': \"0.0005205653792046594\",\n        }],\n [\"BMO_Field\",\n\"Old_City_Hall_(Toronto)\",\n{\n            'v': 0.0004004236948684311,\n            'f': \"0.0004004236948684311\",\n        }],\n [\"BMO_Field\",\n\"Ontario_Legislative_Building\",\n{\n            'v': 0.0003813754671579873,\n            'f': \"0.0003813754671579873\",\n        }],\n [\"BMO_Field\",\n\"Union_Station_(Toronto)\",\n{\n            'v': 0.00035995933574839363,\n            'f': \"0.00035995933574839363\",\n        }],\n [\"Maple_Leaf_Gardens\",\n\"Air_Canada_Centre\",\n{\n            'v': 8.948111620261043e-05,\n            'f': \"8.948111620261043e-05\",\n        }],\n [\"Maple_Leaf_Gardens\",\n\"BMO_Field\",\n{\n            'v': 0.0005441856979255268,\n            'f': \"0.0005441856979255268\",\n        }],\n [\"Maple_Leaf_Gardens\",\n\"Rogers_Centre\",\n{\n            'v': 0.0001261434334064618,\n            'f': \"0.0001261434334064618\",\n        }],\n [\"Maple_Leaf_Gardens\",\n\"Woodbine_Racetrack\",\n{\n            'v': 0.011834540272949485,\n            'f': \"0.011834540272949485\",\n        }],\n [\"Maple_Leaf_Gardens\",\n\"Art_Gallery_of_Ontario\",\n{\n            'v': 5.2443649542431756e-05,\n            'f': \"5.2443649542431756e-05\",\n        }],\n [\"Maple_Leaf_Gardens\",\n\"Hockey_Hall_of_Fame\",\n{\n            'v': 6.0146997928165724e-05,\n            'f': \"6.0146997928165724e-05\",\n        }],\n [\"Maple_Leaf_Gardens\",\n\"Ripley%27s_Aquarium_of_Canada\",\n{\n            'v': 0.00010485256247754285,\n            'f': \"0.00010485256247754285\",\n        }],\n [\"Maple_Leaf_Gardens\",\n\"Ontario_Science_Centre\",\n{\n            'v': 0.0011439182072881457,\n            'f': \"0.0011439182072881457\",\n        }],\n [\"Maple_Leaf_Gardens\",\n\"Riverdale_Farm\",\n{\n            'v': 8.730430503870376e-05,\n            'f': \"8.730430503870376e-05\",\n        }],\n [\"Maple_Leaf_Gardens\",\n\"Royal_Ontario_Museum\",\n{\n            'v': 5.0502379887280906e-05,\n            'f': \"5.0502379887280906e-05\",\n        }],\n [\"Maple_Leaf_Gardens\",\n\"Toronto_Zoo\",\n{\n            'v': 0.01533818980979281,\n            'f': \"0.01533818980979281\",\n        }],\n [\"Maple_Leaf_Gardens\",\n\"Casa_Loma\",\n{\n            'v': 0.00025633729904781855,\n            'f': \"0.00025633729904781855\",\n        }],\n [\"Maple_Leaf_Gardens\",\n\"Canadian_National_Exhibition\",\n{\n            'v': 0.000503914270551684,\n            'f': \"0.000503914270551684\",\n        }],\n [\"Maple_Leaf_Gardens\",\n\"Centreville_Amusement_Park\",\n{\n            'v': 0.0004487567993271069,\n            'f': \"0.0004487567993271069\",\n        }],\n [\"Maple_Leaf_Gardens\",\n\"CN_Tower\",\n{\n            'v': 0.00010663976233221289,\n            'f': \"0.00010663976233221289\",\n        }],\n [\"Maple_Leaf_Gardens\",\n\"Exhibition_Place\",\n{\n            'v': 0.0005028593184744782,\n            'f': \"0.0005028593184744782\",\n        }],\n [\"Maple_Leaf_Gardens\",\n\"Sunnyside_Amusement_Park\",\n{\n            'v': 0.0012575126554768808,\n            'f': \"0.0012575126554768808\",\n        }],\n [\"Maple_Leaf_Gardens\",\n\"Toronto_Islands\",\n{\n            'v': 0.00042884093289175386,\n            'f': \"0.00042884093289175386\",\n        }],\n [\"Maple_Leaf_Gardens\",\n\"High_Park\",\n{\n            'v': 0.0015915074957212037,\n            'f': \"0.0015915074957212037\",\n        }],\n [\"Maple_Leaf_Gardens\",\n\"Yonge-Dundas_Square\",\n{\n            'v': 9.332995964916406e-06,\n            'f': \"9.332995964916406e-06\",\n        }],\n [\"Maple_Leaf_Gardens\",\n\"Nathan_Phillips_Square\",\n{\n            'v': 2.6109025899134217e-05,\n            'f': \"2.6109025899134217e-05\",\n        }],\n [\"Maple_Leaf_Gardens\",\n\"Toronto_Eaton_Centre\",\n{\n            'v': 1.696640670877383e-05,\n            'f': \"1.696640670877383e-05\",\n        }],\n [\"Maple_Leaf_Gardens\",\n\"Harbourfront_Centre\",\n{\n            'v': 0.00014148586528852955,\n            'f': \"0.00014148586528852955\",\n        }],\n [\"Maple_Leaf_Gardens\",\n\"Kensington_Market\",\n{\n            'v': 0.00010735016633157499,\n            'f': \"0.00010735016633157499\",\n        }],\n [\"Maple_Leaf_Gardens\",\n\"Yorkdale_Shopping_Centre\",\n{\n            'v': 0.002207020796080184,\n            'f': \"0.002207020796080184\",\n        }],\n [\"Maple_Leaf_Gardens\",\n\"Yorkville,_Toronto\",\n{\n            'v': 4.272965613377285e-05,\n            'f': \"4.272965613377285e-05\",\n        }],\n [\"Maple_Leaf_Gardens\",\n\"Old_City_Hall_(Toronto)\",\n{\n            'v': 2.405319761923912e-05,\n            'f': \"2.405319761923912e-05\",\n        }],\n [\"Maple_Leaf_Gardens\",\n\"Ontario_Legislative_Building\",\n{\n            'v': 2.9432299805520564e-05,\n            'f': \"2.9432299805520564e-05\",\n        }],\n [\"Maple_Leaf_Gardens\",\n\"Union_Station_(Toronto)\",\n{\n            'v': 7.175674237480278e-05,\n            'f': \"7.175674237480278e-05\",\n        }],\n [\"Rogers_Centre\",\n\"Air_Canada_Centre\",\n{\n            'v': 2.316133790571715e-05,\n            'f': \"2.316133790571715e-05\",\n        }],\n [\"Rogers_Centre\",\n\"BMO_Field\",\n{\n            'v': 0.00021038114593680468,\n            'f': \"0.00021038114593680468\",\n        }],\n [\"Rogers_Centre\",\n\"Maple_Leaf_Gardens\",\n{\n            'v': 0.0001261434334064618,\n            'f': \"0.0001261434334064618\",\n        }],\n [\"Rogers_Centre\",\n\"Woodbine_Racetrack\",\n{\n            'v': 0.011516206256422844,\n            'f': \"0.011516206256422844\",\n        }],\n [\"Rogers_Centre\",\n\"Art_Gallery_of_Ontario\",\n{\n            'v': 4.19684220956796e-05,\n            'f': \"4.19684220956796e-05\",\n        }],\n [\"Rogers_Centre\",\n\"Hockey_Hall_of_Fame\",\n{\n            'v': 3.939740422340615e-05,\n            'f': \"3.939740422340615e-05\",\n        }],\n [\"Rogers_Centre\",\n\"Ripley%27s_Aquarium_of_Canada\",\n{\n            'v': 2.4599645705746036e-06,\n            'f': \"2.4599645705746036e-06\",\n        }],\n [\"Rogers_Centre\",\n\"Ontario_Science_Centre\",\n{\n            'v': 0.0020036057025339094,\n            'f': \"0.0020036057025339094\",\n        }],\n [\"Rogers_Centre\",\n\"Riverdale_Farm\",\n{\n            'v': 0.00033944098280291966,\n            'f': \"0.00033944098280291966\",\n        }],\n [\"Rogers_Centre\",\n\"Royal_Ontario_Museum\",\n{\n            'v': 0.00017602419937199563,\n            'f': \"0.00017602419937199563\",\n        }],\n [\"Rogers_Centre\",\n\"Toronto_Zoo\",\n{\n            'v': 0.01784892327346076,\n            'f': \"0.01784892327346076\",\n        }],\n [\"Rogers_Centre\",\n\"Casa_Loma\",\n{\n            'v': 0.00042977493722368495,\n            'f': \"0.00042977493722368495\",\n        }],\n [\"Rogers_Centre\",\n\"Canadian_National_Exhibition\",\n{\n            'v': 0.00018367285239477053,\n            'f': \"0.00018367285239477053\",\n        }]],\n        columns: [[\"string\", \"poiName\"], [\"string\", \"poiName\"], [\"number\", \"(pow(SIN(((latitude - latitude) / 2)), 2) + ((COS(latitude) * COS(latitude)) * pow(SIN(((longitude - longitude) / 2)), 2)))\"]],\n        columnOptions: [],\n        rowsPerPage: 10,\n        helpUrl: \"https://colab.research.google.com/notebooks/data_table.ipynb\",\n        suppressOutputScrolling: true,\n        minimumWidth: undefined,\n      });\n    ",
            "text/plain": [
              "<google.colab.data_table.DataTable object>"
            ]
          },
          "metadata": {},
          "execution_count": 23
        }
      ]
    },
    {
      "cell_type": "markdown",
      "source": [
        "#### 7) DuréeVisitePOI\n",
        "La durée moyenne de visite d'un POI."
      ],
      "metadata": {
        "id": "6kCIQcFHHdsE"
      }
    },
    {
      "cell_type": "code",
      "source": [
        "%%sql \n",
        "with user_visits_time_poi as(\n",
        "select  v1.poiID as poiID, max(v2.date)-min(v1.date) as time\n",
        "from user_visits v1, user_visits v2\n",
        "where  \n",
        "v1.userID=v2.userID and\n",
        "v1.poiID=v2.poiID and \n",
        "v1.seqID=v2.seqID\n",
        "group by v1.userID , v1.poiID)\n",
        "\n",
        "\n",
        "\n",
        "select poiID,avg(time) \n",
        "from user_visits_time_poi\n",
        "group by poiID"
      ],
      "metadata": {
        "id": "I8Nqb0yJ-uo_",
        "colab": {
          "base_uri": "https://localhost:8080/",
          "height": 314
        },
        "outputId": "9a6c96b9-9979-4f29-eae6-92fdc1a752a9"
      },
      "execution_count": null,
      "outputs": [
        {
          "output_type": "execute_result",
          "data": {
            "text/html": [
              "<div>\n",
              "<style scoped>\n",
              "    .dataframe tbody tr th:only-of-type {\n",
              "        vertical-align: middle;\n",
              "    }\n",
              "\n",
              "    .dataframe tbody tr th {\n",
              "        vertical-align: top;\n",
              "    }\n",
              "\n",
              "    .dataframe thead th {\n",
              "        text-align: right;\n",
              "    }\n",
              "</style>\n",
              "<table border=\"1\" class=\"dataframe\">\n",
              "  <thead>\n",
              "    <tr style=\"text-align: right;\">\n",
              "      <th></th>\n",
              "      <th>poiID</th>\n",
              "      <th>avg(time)</th>\n",
              "    </tr>\n",
              "  </thead>\n",
              "  <tbody>\n",
              "    <tr>\n",
              "      <th>0</th>\n",
              "      <td>14</td>\n",
              "      <td>2.647538e+05</td>\n",
              "    </tr>\n",
              "    <tr>\n",
              "      <th>1</th>\n",
              "      <td>13</td>\n",
              "      <td>1.063678e+07</td>\n",
              "    </tr>\n",
              "    <tr>\n",
              "      <th>2</th>\n",
              "      <td>12</td>\n",
              "      <td>1.634405e+07</td>\n",
              "    </tr>\n",
              "    <tr>\n",
              "      <th>3</th>\n",
              "      <td>18</td>\n",
              "      <td>1.037400e+03</td>\n",
              "    </tr>\n",
              "    <tr>\n",
              "      <th>4</th>\n",
              "      <td>6</td>\n",
              "      <td>1.286278e+07</td>\n",
              "    </tr>\n",
              "    <tr>\n",
              "      <th>5</th>\n",
              "      <td>16</td>\n",
              "      <td>1.411887e+07</td>\n",
              "    </tr>\n",
              "    <tr>\n",
              "      <th>6</th>\n",
              "      <td>23</td>\n",
              "      <td>2.229325e+07</td>\n",
              "    </tr>\n",
              "    <tr>\n",
              "      <th>7</th>\n",
              "      <td>9</td>\n",
              "      <td>8.010834e+06</td>\n",
              "    </tr>\n",
              "    <tr>\n",
              "      <th>8</th>\n",
              "      <td>17</td>\n",
              "      <td>3.430786e+07</td>\n",
              "    </tr>\n",
              "    <tr>\n",
              "      <th>9</th>\n",
              "      <td>10</td>\n",
              "      <td>1.615131e+07</td>\n",
              "    </tr>\n",
              "    <tr>\n",
              "      <th>10</th>\n",
              "      <td>3</td>\n",
              "      <td>3.738521e+07</td>\n",
              "    </tr>\n",
              "    <tr>\n",
              "      <th>11</th>\n",
              "      <td>11</td>\n",
              "      <td>1.741829e+07</td>\n",
              "    </tr>\n",
              "    <tr>\n",
              "      <th>12</th>\n",
              "      <td>1</td>\n",
              "      <td>2.241969e+07</td>\n",
              "    </tr>\n",
              "    <tr>\n",
              "      <th>13</th>\n",
              "      <td>7</td>\n",
              "      <td>1.644984e+07</td>\n",
              "    </tr>\n",
              "    <tr>\n",
              "      <th>14</th>\n",
              "      <td>27</td>\n",
              "      <td>2.598386e+07</td>\n",
              "    </tr>\n",
              "    <tr>\n",
              "      <th>15</th>\n",
              "      <td>26</td>\n",
              "      <td>5.636427e+05</td>\n",
              "    </tr>\n",
              "    <tr>\n",
              "      <th>16</th>\n",
              "      <td>25</td>\n",
              "      <td>1.729740e+07</td>\n",
              "    </tr>\n",
              "    <tr>\n",
              "      <th>17</th>\n",
              "      <td>30</td>\n",
              "      <td>1.606774e+07</td>\n",
              "    </tr>\n",
              "    <tr>\n",
              "      <th>18</th>\n",
              "      <td>20</td>\n",
              "      <td>7.441669e+06</td>\n",
              "    </tr>\n",
              "    <tr>\n",
              "      <th>19</th>\n",
              "      <td>15</td>\n",
              "      <td>1.240477e+06</td>\n",
              "    </tr>\n",
              "    <tr>\n",
              "      <th>20</th>\n",
              "      <td>29</td>\n",
              "      <td>8.989205e+06</td>\n",
              "    </tr>\n",
              "    <tr>\n",
              "      <th>21</th>\n",
              "      <td>19</td>\n",
              "      <td>1.598968e+07</td>\n",
              "    </tr>\n",
              "    <tr>\n",
              "      <th>22</th>\n",
              "      <td>22</td>\n",
              "      <td>2.635243e+07</td>\n",
              "    </tr>\n",
              "    <tr>\n",
              "      <th>23</th>\n",
              "      <td>4</td>\n",
              "      <td>1.226829e+07</td>\n",
              "    </tr>\n",
              "    <tr>\n",
              "      <th>24</th>\n",
              "      <td>2</td>\n",
              "      <td>1.993313e+07</td>\n",
              "    </tr>\n",
              "    <tr>\n",
              "      <th>25</th>\n",
              "      <td>28</td>\n",
              "      <td>1.810067e+07</td>\n",
              "    </tr>\n",
              "    <tr>\n",
              "      <th>26</th>\n",
              "      <td>21</td>\n",
              "      <td>1.997126e+07</td>\n",
              "    </tr>\n",
              "    <tr>\n",
              "      <th>27</th>\n",
              "      <td>8</td>\n",
              "      <td>8.957962e+06</td>\n",
              "    </tr>\n",
              "    <tr>\n",
              "      <th>28</th>\n",
              "      <td>24</td>\n",
              "      <td>2.207088e+07</td>\n",
              "    </tr>\n",
              "  </tbody>\n",
              "</table>\n",
              "</div>"
            ],
            "application/vnd.google.colaboratory.module+javascript": "\n      import \"https://ssl.gstatic.com/colaboratory/data_table/a8bd4d5e58f96183/data_table.js\";\n\n      window.createDataTable({\n        data: [[{\n            'v': 14,\n            'f': \"14\",\n        },\n{\n            'v': 264753.7931034483,\n            'f': \"264753.7931034483\",\n        }],\n [{\n            'v': 13,\n            'f': \"13\",\n        },\n{\n            'v': 10636784.45882353,\n            'f': \"10636784.45882353\",\n        }],\n [{\n            'v': 12,\n            'f': \"12\",\n        },\n{\n            'v': 16344048.525,\n            'f': \"16344048.525\",\n        }],\n [{\n            'v': 18,\n            'f': \"18\",\n        },\n{\n            'v': 1037.4,\n            'f': \"1037.4\",\n        }],\n [{\n            'v': 6,\n            'f': \"6\",\n        },\n{\n            'v': 12862779.937799044,\n            'f': \"12862779.937799044\",\n        }],\n [{\n            'v': 16,\n            'f': \"16\",\n        },\n{\n            'v': 14118874.437665783,\n            'f': \"14118874.437665783\",\n        }],\n [{\n            'v': 23,\n            'f': \"23\",\n        },\n{\n            'v': 22293248.462450594,\n            'f': \"22293248.462450594\",\n        }],\n [{\n            'v': 9,\n            'f': \"9\",\n        },\n{\n            'v': 8010834.384615385,\n            'f': \"8010834.384615385\",\n        }],\n [{\n            'v': 17,\n            'f': \"17\",\n        },\n{\n            'v': 34307864.10810811,\n            'f': \"34307864.10810811\",\n        }],\n [{\n            'v': 10,\n            'f': \"10\",\n        },\n{\n            'v': 16151306.375,\n            'f': \"16151306.375\",\n        }],\n [{\n            'v': 3,\n            'f': \"3\",\n        },\n{\n            'v': 37385208.27710843,\n            'f': \"37385208.27710843\",\n        }],\n [{\n            'v': 11,\n            'f': \"11\",\n        },\n{\n            'v': 17418289.237918217,\n            'f': \"17418289.237918217\",\n        }],\n [{\n            'v': 1,\n            'f': \"1\",\n        },\n{\n            'v': 22419691.100775193,\n            'f': \"22419691.100775193\",\n        }],\n [{\n            'v': 7,\n            'f': \"7\",\n        },\n{\n            'v': 16449835.73015873,\n            'f': \"16449835.73015873\",\n        }],\n [{\n            'v': 27,\n            'f': \"27\",\n        },\n{\n            'v': 25983856.353448275,\n            'f': \"25983856.353448275\",\n        }],\n [{\n            'v': 26,\n            'f': \"26\",\n        },\n{\n            'v': 563642.6551724138,\n            'f': \"563642.6551724138\",\n        }],\n [{\n            'v': 25,\n            'f': \"25\",\n        },\n{\n            'v': 17297401.71226415,\n            'f': \"17297401.71226415\",\n        }],\n [{\n            'v': 30,\n            'f': \"30\",\n        },\n{\n            'v': 16067736.384313725,\n            'f': \"16067736.384313725\",\n        }],\n [{\n            'v': 20,\n            'f': \"20\",\n        },\n{\n            'v': 7441669.166666667,\n            'f': \"7441669.166666667\",\n        }],\n [{\n            'v': 15,\n            'f': \"15\",\n        },\n{\n            'v': 1240477.024390244,\n            'f': \"1240477.024390244\",\n        }],\n [{\n            'v': 29,\n            'f': \"29\",\n        },\n{\n            'v': 8989204.55670103,\n            'f': \"8989204.55670103\",\n        }],\n [{\n            'v': 19,\n            'f': \"19\",\n        },\n{\n            'v': 15989678.268292682,\n            'f': \"15989678.268292682\",\n        }],\n [{\n            'v': 22,\n            'f': \"22\",\n        },\n{\n            'v': 26352428.875722542,\n            'f': \"26352428.875722542\",\n        }],\n [{\n            'v': 4,\n            'f': \"4\",\n        },\n{\n            'v': 12268288.729032258,\n            'f': \"12268288.729032258\",\n        }],\n [{\n            'v': 2,\n            'f': \"2\",\n        },\n{\n            'v': 19933125.272727273,\n            'f': \"19933125.272727273\",\n        }],\n [{\n            'v': 28,\n            'f': \"28\",\n        },\n{\n            'v': 18100671.414529916,\n            'f': \"18100671.414529916\",\n        }],\n [{\n            'v': 21,\n            'f': \"21\",\n        },\n{\n            'v': 19971263.45631068,\n            'f': \"19971263.45631068\",\n        }],\n [{\n            'v': 8,\n            'f': \"8\",\n        },\n{\n            'v': 8957961.974522293,\n            'f': \"8957961.974522293\",\n        }],\n [{\n            'v': 24,\n            'f': \"24\",\n        },\n{\n            'v': 22070883.56375839,\n            'f': \"22070883.56375839\",\n        }]],\n        columns: [[\"number\", \"poiID\"], [\"number\", \"avg(time)\"]],\n        columnOptions: [],\n        rowsPerPage: 10,\n        helpUrl: \"https://colab.research.google.com/notebooks/data_table.ipynb\",\n        suppressOutputScrolling: true,\n        minimumWidth: undefined,\n      });\n    ",
            "text/plain": [
              "<google.colab.data_table.DataTable object>"
            ]
          },
          "metadata": {},
          "execution_count": 96
        }
      ]
    },
    {
      "cell_type": "markdown",
      "source": [
        "## Exercice 2"
      ],
      "metadata": {
        "id": "E01R85iD2JYd"
      }
    },
    {
      "cell_type": "markdown",
      "source": [
        "Charger les données de Geonames"
      ],
      "metadata": {
        "id": "tBoK2TbByOVE"
      }
    },
    {
      "cell_type": "code",
      "source": [
        "from google.colab import drive\n",
        "drive.mount('/content/drive')"
      ],
      "metadata": {
        "colab": {
          "base_uri": "https://localhost:8080/"
        },
        "id": "2UIxhKLParri",
        "outputId": "1621cc49-a8f6-499f-93a8-5694ea68fdc2"
      },
      "execution_count": null,
      "outputs": [
        {
          "output_type": "stream",
          "name": "stdout",
          "text": [
            "Drive already mounted at /content/drive; to attempt to forcibly remount, call drive.mount(\"/content/drive\", force_remount=True).\n"
          ]
        }
      ]
    },
    {
      "cell_type": "code",
      "source": [
        "import zipfile\n",
        "\n",
        "#geonames\n",
        "web_dir = PUBLIC_DATASET + \"geonames_ALL\"\n",
        "\n",
        "download_file(web_dir, local_dir, \"allCountries.zip\")\n",
        "\n",
        "#unzip\n",
        "local_file = local_dir + \"/\" + \"allCountries.zip\"\n",
        "if(os.path.isfile(local_file)):\n",
        "    print(local_file, \"is already stored\")\n",
        "else:\n",
        "  with zipfile.ZipFile(local_file, 'r') as zip_ref:\n",
        "    zip_ref.extractall(local_dir)\n",
        "\n",
        "os.listdir(local_dir)"
      ],
      "metadata": {
        "id": "IxutWT04wnCU",
        "colab": {
          "base_uri": "https://localhost:8080/"
        },
        "outputId": "4000456b-948a-48b5-91a7-c866274468c7"
      },
      "execution_count": null,
      "outputs": [
        {
          "output_type": "stream",
          "name": "stdout",
          "text": [
            "downloading from URL:  https://nuage.lip6.fr/s/H3bpyRGgnCq2NR4/download?path=geonames_ALL/allCountries.zip save in : /local/data/allCountries.zip\n",
            "/local/data/allCountries.zip is already stored\n"
          ]
        },
        {
          "output_type": "execute_result",
          "data": {
            "text/plain": [
              "['POI-Toro.csv', 'userVisits-Toro.csv', 'allCountries.zip']"
            ]
          },
          "metadata": {},
          "execution_count": 26
        }
      ]
    },
    {
      "cell_type": "code",
      "source": [
        "with zipfile.ZipFile(\"/local/data/allCountries.zip\", 'r') as zip_ref:\n",
        "  zip_ref.extractall(local_dir)"
      ],
      "metadata": {
        "id": "vqdsTuMObqCe"
      },
      "execution_count": null,
      "outputs": []
    },
    {
      "cell_type": "code",
      "source": [
        "geonames =  spark.read.option(\"header\", \"False\").option(\"delimiter\", \"\\t\").format(\"csv\").load(local_dir + \"/\" + \"allCountries.txt\")\n",
        "\n",
        "geonames.show(3)\n"
      ],
      "metadata": {
        "id": "dHEt5Snqy84t",
        "colab": {
          "base_uri": "https://localhost:8080/"
        },
        "outputId": "31df9b35-9a66-4275-f678-f973551ca931"
      },
      "execution_count": null,
      "outputs": [
        {
          "output_type": "stream",
          "name": "stdout",
          "text": [
            "+-------+--------------------+--------------------+--------------------+--------+-------+---+---+---+-----+----+----+----+----+----+----+----+--------------+----------+\n",
            "|    _c0|                 _c1|                 _c2|                 _c3|     _c4|    _c5|_c6|_c7|_c8|  _c9|_c10|_c11|_c12|_c13|_c14|_c15|_c16|          _c17|      _c18|\n",
            "+-------+--------------------+--------------------+--------------------+--------+-------+---+---+---+-----+----+----+----+----+----+----+----+--------------+----------+\n",
            "|2986043|  Pic de Font Blanca|  Pic de Font Blanca|Pic de Font Blanc...|42.64991|1.53335|  T| PK| AD| null|  00|null|null|null|   0|null|2860|Europe/Andorra|2014-11-05|\n",
            "|2994701|            Roc Mélé|            Roc Mele|Roc Mele,Roc Mele...|42.58765|1.74028|  T| MT| AD|AD,FR|  00|null|null|null|   0|null|2803|Europe/Andorra|2014-11-05|\n",
            "|3007683|Pic des Langounelles|Pic des Langounelles|Pic des Langounelles|42.61203|1.47364|  T| PK| AD|AD,FR|  00|null|null|null|   0|null|2685|Europe/Andorra|2014-11-05|\n",
            "+-------+--------------------+--------------------+--------------------+--------+-------+---+---+---+-----+----+----+----+----+----+----+----+--------------+----------+\n",
            "only showing top 3 rows\n",
            "\n"
          ]
        }
      ]
    },
    {
      "cell_type": "markdown",
      "source": [
        "#### 1) Geonames\n",
        "Définir le schéma, limité au 9 premiers attributs, d'après le document [readme.txt](https://nuage.lip6.fr/s/kaBX3sF3YEzMZHK) dans le dossier [geonames_ALL](https://nuage.lip6.fr/s/H3bpyRGgnCq2NR4?path=%2Fgeonames_ALL)"
      ],
      "metadata": {
        "id": "PLsxr-912g0Q"
      }
    },
    {
      "cell_type": "code",
      "source": [
        "for i in range(9,19):\n",
        "  s=\"_c\"+str(i)\n",
        "  geonames=geonames.drop(s)"
      ],
      "metadata": {
        "id": "M8Jo1w-g6pbO"
      },
      "execution_count": null,
      "outputs": []
    },
    {
      "cell_type": "code",
      "source": [
        "schema = StructType([\n",
        "    StructField(\"geoname\", StringType(),False),\n",
        "    StructField(\"name\", StringType(),False),\n",
        "    StructField(\"ascii_name\", StringType(),False),\n",
        "    StructField(\"alternatename\", StringType(),False),\n",
        "    StructField(\"latitude\", StringType(),False),\n",
        "    StructField(\"longitude\", StringType(),False),\n",
        "    StructField(\"feature class\", StringType(),False),\n",
        "    StructField(\"feature code\", StringType(),False),\n",
        "    StructField(\"country code\", StringType(),False)\n",
        "])"
      ],
      "metadata": {
        "id": "X3JLNOFH2ed4"
      },
      "execution_count": null,
      "outputs": []
    },
    {
      "cell_type": "code",
      "source": [
        "geoname=spark.createDataFrame(geonames.collect(), schema=schema)"
      ],
      "metadata": {
        "id": "DOir3ASl-iNW"
      },
      "execution_count": null,
      "outputs": []
    },
    {
      "cell_type": "code",
      "source": [
        "geoname=geoname.withColumn(\"latitude\",col(\"latitude\").cast(DoubleType()))\n",
        "geoname=geoname.withColumn(\"longitude\",col(\"longitude\").cast(DoubleType()))\n",
        "geoname=geoname.withColumn(\"geoname\",col(\"geoname\").cast(IntegerType()))"
      ],
      "metadata": {
        "id": "9SfNVX-a0AlK"
      },
      "execution_count": null,
      "outputs": []
    },
    {
      "cell_type": "code",
      "source": [
        "%%sql\n",
        "\n",
        "\n",
        "select * from geoname"
      ],
      "metadata": {
        "id": "2iLMb-gq2XEg"
      },
      "execution_count": null,
      "outputs": []
    },
    {
      "cell_type": "markdown",
      "source": [
        "#### 2) Association entre les POI et Geonames\n",
        "Compléter les POI avec des attributs de geonames (par exemple name et feature code)"
      ],
      "metadata": {
        "id": "OpYWBi8Z45kV"
      }
    },
    {
      "cell_type": "code",
      "source": [
        "geonames=geonames.withColumn(\"_c4\",col(\"_c4\").cast(DoubleType()))\n",
        "geonames=geonames.withColumn(\"_c5\",col(\"_c5\").cast(DoubleType()))"
      ],
      "metadata": {
        "id": "nalhXW-auWZ5"
      },
      "execution_count": null,
      "outputs": []
    },
    {
      "cell_type": "code",
      "source": [
        "poi2=poi.join(geonames,(geonames._c4==poi.latitude) & (geonames._c5==poi.longitude), \"inner\")\n",
        "poi2.createOrReplaceTempView(\"POI2\")"
      ],
      "metadata": {
        "id": "I4N_ZMmEtRxp"
      },
      "execution_count": null,
      "outputs": []
    },
    {
      "cell_type": "code",
      "source": [
        "%%sql\n",
        "\n",
        "\n",
        "select * from POI2"
      ],
      "metadata": {
        "colab": {
          "base_uri": "https://localhost:8080/",
          "height": 114
        },
        "id": "2H438xxA0tJP",
        "outputId": "047e3a5b-e019-4981-bd2a-2534a55fc9bb"
      },
      "execution_count": null,
      "outputs": [
        {
          "output_type": "execute_result",
          "data": {
            "text/html": [
              "<div>\n",
              "<style scoped>\n",
              "    .dataframe tbody tr th:only-of-type {\n",
              "        vertical-align: middle;\n",
              "    }\n",
              "\n",
              "    .dataframe tbody tr th {\n",
              "        vertical-align: top;\n",
              "    }\n",
              "\n",
              "    .dataframe thead th {\n",
              "        text-align: right;\n",
              "    }\n",
              "</style>\n",
              "<table border=\"1\" class=\"dataframe\">\n",
              "  <thead>\n",
              "    <tr style=\"text-align: right;\">\n",
              "      <th></th>\n",
              "      <th>poiID</th>\n",
              "      <th>poiName</th>\n",
              "      <th>latitude</th>\n",
              "      <th>longitude</th>\n",
              "      <th>theme</th>\n",
              "      <th>_c0</th>\n",
              "      <th>_c1</th>\n",
              "      <th>_c2</th>\n",
              "      <th>_c3</th>\n",
              "      <th>_c4</th>\n",
              "      <th>_c5</th>\n",
              "      <th>_c6</th>\n",
              "      <th>_c7</th>\n",
              "      <th>_c8</th>\n",
              "    </tr>\n",
              "  </thead>\n",
              "  <tbody>\n",
              "    <tr>\n",
              "      <th>0</th>\n",
              "      <td>14</td>\n",
              "      <td>Canadian_National_Exhibition</td>\n",
              "      <td>43.63333</td>\n",
              "      <td>-79.41667</td>\n",
              "      <td>Amusement</td>\n",
              "      <td>6301425</td>\n",
              "      <td>Toronto Island</td>\n",
              "      <td>Toronto Island</td>\n",
              "      <td>CWTZ</td>\n",
              "      <td>43.63333</td>\n",
              "      <td>-79.41667</td>\n",
              "      <td>S</td>\n",
              "      <td>STNM</td>\n",
              "      <td>CA</td>\n",
              "    </tr>\n",
              "  </tbody>\n",
              "</table>\n",
              "</div>"
            ],
            "application/vnd.google.colaboratory.module+javascript": "\n      import \"https://ssl.gstatic.com/colaboratory/data_table/a8bd4d5e58f96183/data_table.js\";\n\n      window.createDataTable({\n        data: [[{\n            'v': 14,\n            'f': \"14\",\n        },\n\"Canadian_National_Exhibition\",\n{\n            'v': 43.63333,\n            'f': \"43.63333\",\n        },\n{\n            'v': -79.41667,\n            'f': \"-79.41667\",\n        },\n\"Amusement\",\n\"6301425\",\n\"Toronto Island\",\n\"Toronto Island\",\n\"CWTZ\",\n{\n            'v': 43.63333,\n            'f': \"43.63333\",\n        },\n{\n            'v': -79.41667,\n            'f': \"-79.41667\",\n        },\n\"S\",\n\"STNM\",\n\"CA\"]],\n        columns: [[\"number\", \"poiID\"], [\"string\", \"poiName\"], [\"number\", \"latitude\"], [\"number\", \"longitude\"], [\"string\", \"theme\"], [\"string\", \"_c0\"], [\"string\", \"_c1\"], [\"string\", \"_c2\"], [\"string\", \"_c3\"], [\"number\", \"_c4\"], [\"number\", \"_c5\"], [\"string\", \"_c6\"], [\"string\", \"_c7\"], [\"string\", \"_c8\"]],\n        columnOptions: [],\n        rowsPerPage: 10,\n        helpUrl: \"https://colab.research.google.com/notebooks/data_table.ipynb\",\n        suppressOutputScrolling: true,\n        minimumWidth: undefined,\n      });\n    ",
            "text/plain": [
              "<google.colab.data_table.DataTable object>"
            ]
          },
          "metadata": {},
          "execution_count": 77
        }
      ]
    }
  ]
}