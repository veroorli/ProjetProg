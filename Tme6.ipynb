{
  "nbformat": 4,
  "nbformat_minor": 0,
  "metadata": {
    "application/vnd.databricks.v1+notebook": {
      "notebookName": "Spark-RDD-2021_solutions",
      "dashboards": [],
      "notebookMetadata": {
        "pythonIndentUnit": 2
      },
      "language": "python",
      "widgets": {},
      "notebookOrigID": 2832703719774903
    },
    "colab": {
      "name": "Copie de Projet2_Zakari_Jehanne.ipynb",
      "provenance": [],
      "collapsed_sections": [],
      "include_colab_link": true
    },
    "language_info": {
      "name": "python"
    },
    "kernelspec": {
      "name": "python3",
      "display_name": "Python 3"
    }
  },
  "cells": [
    {
      "cell_type": "markdown",
      "metadata": {
        "id": "view-in-github",
        "colab_type": "text"
      },
      "source": [
        "<a href=\"https://colab.research.google.com/github/veroorli/ProjetProg/blob/master/Tme6.ipynb\" target=\"_parent\"><img src=\"https://colab.research.google.com/assets/colab-badge.svg\" alt=\"Open In Colab\"/></a>"
      ]
    },
    {
      "cell_type": "markdown",
      "metadata": {
        "application/vnd.databricks.v1+cell": {
          "title": "",
          "showTitle": false,
          "inputWidgets": {},
          "nuid": "59ad38d8-fb28-470f-a038-842f83d07a09"
        },
        "id": "kCaImCHx_2a_"
      },
      "source": [
        "* Master DAC, BDLE, 2021 \n",
        "* Author: Mohamed-Amine Baazizi\n",
        "* Affiliation: LIP6 - Faculté des Sciences - Sorbonne Université\n",
        "* Email: mohamed-amine.baazizi@lip6.fr\n"
      ]
    },
    {
      "cell_type": "markdown",
      "metadata": {
        "id": "XzEVmTXWQq-n"
      },
      "source": [
        ""
      ]
    },
    {
      "cell_type": "markdown",
      "metadata": {
        "application/vnd.databricks.v1+cell": {
          "title": "",
          "showTitle": false,
          "inputWidgets": {},
          "nuid": "b15737ae-19bd-4b9f-b9f3-52388cc5e50e"
        },
        "id": "levNDESpS1hT"
      },
      "source": [
        "\n",
        "\n",
        "```\n",
        "# This is formatted as code\n",
        "```\n",
        "\n",
        "## Préparation"
      ]
    },
    {
      "cell_type": "markdown",
      "metadata": {
        "application/vnd.databricks.v1+cell": {
          "title": "",
          "showTitle": false,
          "inputWidgets": {},
          "nuid": "b6afe82e-35d6-4358-9b79-8f56074e0908"
        },
        "id": "4pZBsez9S1hT"
      },
      "source": [
        "Vérifier que des ressources de calcul sont allouées à votre notebook est connecté (cf RAM  de disque indiqués en haut à droite) . Sinon cliquer sur le bouton connecter pour obtenir des ressources.\n",
        "\n",
        "\n"
      ]
    },
    {
      "cell_type": "markdown",
      "metadata": {
        "id": "CEjerqQ6Ink6"
      },
      "source": [
        "Pour accéder directement aux fichiers stockées sur votre google drive. Renseigner le code d'authentification lorsqu'il est demandé\n",
        "\n",
        "Ajuster le nom de votre dossier : MyDrive/ens/bdle/dir. **Remplacer dir **"
      ]
    },
    {
      "cell_type": "code",
      "metadata": {
        "id": "g7Dv93rsImuM",
        "colab": {
          "base_uri": "https://localhost:8080/"
        },
        "outputId": "c3b76c89-cbb8-4aab-a617-62a9edb0db8c"
      },
      "source": [
        "import os\n",
        "from google.colab import drive\n",
        "drive.mount(\"/content/drive\", force_remount=True)\n",
        "\n",
        "drive_dir = \"/content/drive/MyDrive/bdle/dir\"\n",
        "os.makedirs(drive_dir, exist_ok=True)\n",
        "os.listdir(drive_dir)"
      ],
      "execution_count": null,
      "outputs": [
        {
          "output_type": "stream",
          "name": "stdout",
          "text": [
            "Mounted at /content/drive\n"
          ]
        },
        {
          "output_type": "execute_result",
          "data": {
            "text/plain": [
              "[]"
            ]
          },
          "metadata": {},
          "execution_count": 1
        }
      ]
    },
    {
      "cell_type": "markdown",
      "metadata": {
        "id": "7v9EXMl8aPZC"
      },
      "source": [
        "Installer pyspark et findspark :\n"
      ]
    },
    {
      "cell_type": "code",
      "metadata": {
        "id": "3zlwNHy1S8C2"
      },
      "source": [
        "!pip install -q pyspark\n",
        "!pip install -q findspark"
      ],
      "execution_count": null,
      "outputs": []
    },
    {
      "cell_type": "markdown",
      "metadata": {
        "id": "PnEmOd_zOUo0"
      },
      "source": [
        "Démarrer la session spark"
      ]
    },
    {
      "cell_type": "code",
      "metadata": {
        "id": "W0ADH0J-VW7i"
      },
      "source": [
        "import os\n",
        "# !find /usr/local -name \"pyspark\"\n",
        "os.environ[\"SPARK_HOME\"] = \"/usr/local/lib/python3.7/dist-packages/pyspark\"\n",
        "os.environ[\"JAVA_HOME\"] = \"/usr\""
      ],
      "execution_count": null,
      "outputs": []
    },
    {
      "cell_type": "code",
      "metadata": {
        "id": "Q_WxQZB7TaUC",
        "colab": {
          "base_uri": "https://localhost:8080/"
        },
        "outputId": "f5a5b93d-8d5e-4bd4-fafc-2bce1ff0ed47"
      },
      "source": [
        "# Principaux import\n",
        "import findspark\n",
        "from pyspark.sql import SparkSession \n",
        "from pyspark import SparkConf  \n",
        "\n",
        "# pour les dataframe et udf\n",
        "from pyspark.sql import *  \n",
        "from pyspark.sql.functions import *\n",
        "from pyspark.sql.types import *\n",
        "from datetime import *\n",
        "\n",
        "# pour le chronomètre\n",
        "import time\n",
        "\n",
        "# initialise les variables d'environnement pour spark\n",
        "findspark.init()\n",
        "\n",
        "# Démarrage session spark \n",
        "# --------------------------\n",
        "def demarrer_spark():\n",
        "  local = \"local[*]\"\n",
        "  appName = \"TP\"\n",
        "  configLocale = SparkConf().setAppName(appName).setMaster(local).\\\n",
        "  set(\"spark.executor.memory\", \"6G\").\\\n",
        "  set(\"spark.driver.memory\",\"6G\").\\\n",
        "  set(\"spark.sql.catalogImplementation\",\"in-memory\")\n",
        "  \n",
        "  spark = SparkSession.builder.config(conf = configLocale).getOrCreate()\n",
        "  sc = spark.sparkContext\n",
        "  sc.setLogLevel(\"ERROR\")\n",
        "  \n",
        "  spark.conf.set(\"spark.sql.autoBroadcastJoinThreshold\",\"-1\")\n",
        "\n",
        "  # On ajuste l'environnement d'exécution des requêtes à la taille du cluster (4 coeurs)\n",
        "  spark.conf.set(\"spark.sql.shuffle.partitions\",\"4\")    \n",
        "  print(\"session démarrée, son id est \", sc.applicationId)\n",
        "  return spark\n",
        "spark = demarrer_spark()"
      ],
      "execution_count": null,
      "outputs": [
        {
          "output_type": "stream",
          "name": "stdout",
          "text": [
            "session démarrée, son id est  local-1637518604335\n"
          ]
        }
      ]
    },
    {
      "cell_type": "code",
      "metadata": {
        "application/vnd.databricks.v1+cell": {
          "title": "",
          "showTitle": false,
          "inputWidgets": {},
          "nuid": "852847c4-bd45-4f9c-ae8b-2c704f389cf9"
        },
        "id": "fj9pUgrmGpLe",
        "colab": {
          "base_uri": "https://localhost:8080/"
        },
        "outputId": "d602b0be-c83e-448b-9c92-dd6346222b6d"
      },
      "source": [
        "# on utilise 8 partitions au lieu de 200 par défaut\n",
        "spark.conf.set(\"spark.sql.shuffle.partitions\", \"8\")\n",
        "print(\"Nombre de partitions utilisées : \",\n",
        "      spark.conf.get(\"spark.sql.shuffle.partitions\"))"
      ],
      "execution_count": null,
      "outputs": [
        {
          "output_type": "stream",
          "name": "stdout",
          "text": [
            "Nombre de partitions utilisées :  8\n"
          ]
        }
      ]
    },
    {
      "cell_type": "markdown",
      "metadata": {
        "id": "mdRPVW1HiWA4"
      },
      "source": [
        "## Import des fonctions ML:"
      ]
    },
    {
      "cell_type": "code",
      "metadata": {
        "id": "ocWWiYVLo51Z"
      },
      "source": [
        "from pyspark.ml import Pipeline\n",
        "from pyspark.ml.regression import DecisionTreeRegressor\n",
        "from pyspark.ml.feature import VectorIndexer, StringIndexer, VectorAssembler\n",
        "from pyspark.ml.evaluation import RegressionEvaluator\n",
        "from pyspark.ml.tuning import ParamGridBuilder, CrossValidator"
      ],
      "execution_count": null,
      "outputs": []
    },
    {
      "cell_type": "markdown",
      "metadata": {
        "application/vnd.databricks.v1+cell": {
          "title": "",
          "showTitle": false,
          "inputWidgets": {},
          "nuid": "41dd8b8e-d697-4efb-a1d2-cd34a08b3e7e"
        },
        "id": "NtjUaom1_2bC"
      },
      "source": [
        "## Data loading et préparation du Dataset\n"
      ]
    },
    {
      "cell_type": "markdown",
      "metadata": {
        "id": "7Ux08JMBieWA"
      },
      "source": [
        "Il s'agit ici de données trouvées sur Kaggle qui sont issues de l'API de spotify. Nous avons ici des informations concernant **232725** chansons, et un label de popularité (int allant de 0 à 100, 100 étant le plus populaire). Nous essaieront ici de trouver la popularité de la chanson en partant des autres features pertinents."
      ]
    },
    {
      "cell_type": "markdown",
      "metadata": {
        "id": "EcIUI5P2jOVX"
      },
      "source": [
        "### Définition du schema"
      ]
    },
    {
      "cell_type": "code",
      "metadata": {
        "id": "S80GvFv4Hr3L"
      },
      "source": [
        "path = \"./drive/MyDrive/ens/bdle/projet2/\" \n",
        "customSchema = StructType([StructField('genre', StringType(), nullable=True),\n",
        "                           StructField('artist_name', StringType(), True),\n",
        "                           StructField('track_name', StringType(), nullable=False),\n",
        "                           StructField('track_id', StringType(), nullable=False),\n",
        "                           StructField('popularity', IntegerType(), nullable=False),\n",
        "                           StructField('acousticness', FloatType(), True),\n",
        "                           StructField('danceability', FloatType(), True),\n",
        "                           StructField('duration_ms', FloatType(), True),\n",
        "                           StructField('energy', FloatType(), True),\n",
        "                           StructField('instrumentalness', FloatType(), True),\n",
        "                           StructField('key', StringType(), True),\n",
        "                           StructField('liveness', FloatType(), True),\n",
        "                           StructField('loudness', FloatType(), True),\n",
        "                           StructField('mode', StringType(), True),\n",
        "                           StructField('speechiness', FloatType(), True),\n",
        "                           StructField('tempo', FloatType(), True),\n",
        "                           StructField('time_signature', StringType(), True),\n",
        "                           StructField('valence', FloatType(), True)\n",
        "                           ])\n",
        "ori_df = spark.read.format(\"csv\").option(\"header\", \"true\").schema(customSchema).load(path +\"SpotifyFeatures.csv\")\n",
        "str_df = spark.read.format(\"csv\").option(\"header\", \"true\").option(\"inferSchema\", \"true\").load(path +\"SpotifyFeatures.csv\")"
      ],
      "execution_count": null,
      "outputs": []
    },
    {
      "cell_type": "code",
      "metadata": {
        "colab": {
          "base_uri": "https://localhost:8080/"
        },
        "id": "dpvFQxDCB_wK",
        "outputId": "c4937b7c-7159-42db-c74e-4337a6ebd69c"
      },
      "source": [
        "df = ori_df\n",
        "df.show()"
      ],
      "execution_count": null,
      "outputs": [
        {
          "output_type": "stream",
          "name": "stdout",
          "text": [
            "+-----+--------------------+--------------------+--------------------+----------+------------+------------+-----------+------+----------------+---+--------+--------+-----+-----------+-------+--------------+-------+\n",
            "|genre|         artist_name|          track_name|            track_id|popularity|acousticness|danceability|duration_ms|energy|instrumentalness|key|liveness|loudness| mode|speechiness|  tempo|time_signature|valence|\n",
            "+-----+--------------------+--------------------+--------------------+----------+------------+------------+-----------+------+----------------+---+--------+--------+-----+-----------+-------+--------------+-------+\n",
            "|Movie|      Henri Salvador|C'est beau de fai...|0BRjO6ga9RKCKjfDq...|         0|       0.611|       0.389|    99373.0|  0.91|             0.0| C#|   0.346|  -1.828|Major|     0.0525|166.969|           4/4|  0.814|\n",
            "|Movie|   Martin & les fées|Perdu d'avance (p...|0BjC1NfoEOOusryeh...|         1|       0.246|        0.59|   137373.0| 0.737|             0.0| F#|   0.151|  -5.559|Minor|     0.0868|174.003|           4/4|  0.816|\n",
            "|Movie|     Joseph Williams|Don't Let Me Be L...|0CoSDzoNIKCRs124s...|         3|       0.952|       0.663|   170267.0| 0.131|             0.0|  C|   0.103| -13.879|Minor|     0.0362| 99.488|           5/4|  0.368|\n",
            "|Movie|      Henri Salvador|Dis-moi Monsieur ...|0Gc6TVm52BwZD07Ki...|         0|       0.703|        0.24|   152427.0| 0.326|             0.0| C#|  0.0985| -12.178|Major|     0.0395|171.758|           4/4|  0.227|\n",
            "|Movie|        Fabien Nataf|           Ouverture|0IuslXpMROHdEPvSl...|         4|        0.95|       0.331|    82625.0| 0.225|           0.123|  F|   0.202|  -21.15|Major|     0.0456|140.576|           4/4|   0.39|\n",
            "|Movie|      Henri Salvador|Le petit souper a...|0Mf1jKa8eNAf1a4Pw...|         0|       0.749|       0.578|   160627.0|0.0948|             0.0| C#|   0.107|  -14.97|Major|      0.143| 87.479|           4/4|  0.358|\n",
            "|Movie|   Martin & les fées|Premières recherc...|0NUiKYRd6jt1LKMYG...|         2|       0.344|       0.703|   212293.0|  0.27|             0.0| C#|   0.105| -12.675|Major|      0.953| 82.873|           4/4|  0.533|\n",
            "|Movie|         Laura Mayne|       Let Me Let Go|0PbIF9YVD505Gutwo...|        15|       0.939|       0.416|   240067.0| 0.269|             0.0| F#|   0.113|  -8.949|Major|     0.0286| 96.827|           4/4|  0.274|\n",
            "|Movie|              Chorus|               Helka|0ST6uPfvaPpJLtQwh...|         0|     0.00104|       0.734|   226200.0| 0.481|          8.6E-4|  C|  0.0765|  -7.725|Major|      0.046| 125.08|           4/4|  0.765|\n",
            "|Movie| Le Club des Juniors|Les bisous des bi...|0VSqZ3KStsjcfERGd...|        10|       0.319|       0.598|   152694.0| 0.705|         0.00125|  G|   0.349|   -7.79|Major|     0.0281|137.496|           4/4|  0.718|\n",
            "|Movie|   Leopold Stokowski|Symphony No.4 In ...|0XKgegoxLcIihK3Kl...|         0|       0.921|       0.191|   566960.0| 0.145|           0.529|  E|   0.141| -17.239|Minor|     0.0393| 85.225|           4/4| 0.0849|\n",
            "|Movie|        Randy Newman|The Hanging (Mave...|0hprxsuRM5vVCOfaM...|         2|      0.0383|        0.23|   121333.0| 0.133|           0.887|  C|  0.0872| -19.051|Major|     0.0302| 91.739|           4/4|  0.118|\n",
            "|Movie|Idoles De La Musique|J'ai demandé à la...|0jF6HUm18fg6QQCLH...|         4|       0.215|        0.68|   213589.0|   0.6|          0.0729| F#|   0.111|  -7.702|Minor|     0.0258|110.026|           4/4|  0.433|\n",
            "|Movie|              Chorus|       Mangala Aarti|0jIY0oRAp1T4mezDy...|         3|       0.958|       0.758|   308627.0| 0.264|             0.0| D#|  0.0543| -11.966|Major|     0.0496|110.068|           3/4|  0.742|\n",
            "|Movie|  Richard M. Sherman|        Keys of Love|0pXwl2CRP5awxHsF9...|         0|        0.97|         0.4|   159253.0| 0.174|           0.933|  G|    0.13| -13.869|Major|     0.0458|115.022|           4/4|   0.27|\n",
            "|Movie|         Michel Roux|Les aventures d'A...|0uWUjxM7oDPKpb3T2...|         0|       0.548|       0.588|  2447870.0| 0.405|             0.0| G#|   0.754|  -15.55|Major|      0.938|  83.56|           3/4|   0.48|\n",
            "|Movie|  Jean Claude Corbel|               Diane|0vS7Zid3q0dMyX8uM...|         0|         0.7|       0.625|   523424.0| 0.237|             0.0|  D|   0.319| -16.655|Major|      0.561|108.508|           3/4|  0.298|\n",
            "|Movie|       Bernard Minet|        Ultra Man 80|0x8xSaoSfQkOYUnG1...|         3|       0.488|       0.744|   178107.0| 0.953|             0.0|  E|   0.453|  -4.986|Major|      0.037|129.959|           4/4|  0.926|\n",
            "|Movie|      Henri Salvador|             Veunise|113pHPsGwyeklEjLh...|         1|       0.381|       0.451|   194360.0| 0.491|             0.0|  D|   0.152|   -8.73|Major|     0.0548| 71.633|           3/4|  0.516|\n",
            "|Movie|              Amalya|Ladies And Gentlemen|12ZjoNweObu1k9rK4...|         4|       0.161|       0.522|   207240.0| 0.748|         7.25E-6| C#|   0.111|  -5.203|Major|     0.0824|184.063|           4/4|  0.733|\n",
            "+-----+--------------------+--------------------+--------------------+----------+------------+------------+-----------+------+----------------+---+--------+--------+-----+-----------+-------+--------------+-------+\n",
            "only showing top 20 rows\n",
            "\n"
          ]
        }
      ]
    },
    {
      "cell_type": "code",
      "metadata": {
        "id": "OoM0wAZvJcZm",
        "colab": {
          "base_uri": "https://localhost:8080/"
        },
        "outputId": "ed93c1be-4bb2-46cc-97c7-12463bc974c4"
      },
      "source": [
        "df.printSchema()\n",
        "row_count = df.count()\n",
        "column_count = len(df.columns)\n",
        "print('nb de lignes:', row_count)\n",
        "print('nb de colonnes:', column_count)"
      ],
      "execution_count": null,
      "outputs": [
        {
          "output_type": "stream",
          "name": "stdout",
          "text": [
            "root\n",
            " |-- genre: string (nullable = true)\n",
            " |-- artist_name: string (nullable = true)\n",
            " |-- track_name: string (nullable = true)\n",
            " |-- track_id: string (nullable = true)\n",
            " |-- popularity: integer (nullable = true)\n",
            " |-- acousticness: float (nullable = true)\n",
            " |-- danceability: float (nullable = true)\n",
            " |-- duration_ms: float (nullable = true)\n",
            " |-- energy: float (nullable = true)\n",
            " |-- instrumentalness: float (nullable = true)\n",
            " |-- key: string (nullable = true)\n",
            " |-- liveness: float (nullable = true)\n",
            " |-- loudness: float (nullable = true)\n",
            " |-- mode: string (nullable = true)\n",
            " |-- speechiness: float (nullable = true)\n",
            " |-- tempo: float (nullable = true)\n",
            " |-- time_signature: string (nullable = true)\n",
            " |-- valence: float (nullable = true)\n",
            "\n",
            "nb de lignes: 232725\n",
            "nb de colonnes: 18\n"
          ]
        }
      ]
    },
    {
      "cell_type": "markdown",
      "metadata": {
        "id": "bSc3WgUBBZO-"
      },
      "source": [
        "### Filtre des rows avec décalage:"
      ]
    },
    {
      "cell_type": "markdown",
      "metadata": {
        "id": "eWKDUZvUjkij"
      },
      "source": [
        "On a remarqué que certaines lignes du dataset ont des lignes dont le label n'est pas un int mais des strings (M, H, L), et n'ayant pas trouvé à quoi correspondent ces lignes on a décidé de les enlever car elles ne correspondent à moins de 1% des données. (Les valeurs correspondent probablement à Low, Medium et High mais on n'as pas de valeur ints concrétes à assigner à chaque row)"
      ]
    },
    {
      "cell_type": "code",
      "metadata": {
        "colab": {
          "base_uri": "https://localhost:8080/"
        },
        "id": "0rKQI2DfkvC4",
        "outputId": "316997bb-100b-4fcd-ff8d-7d6c7d0fcd7f"
      },
      "source": [
        "(1-df.filter(df.popularity.cast(\"int\").isNotNull()).count()/row_count)"
      ],
      "execution_count": null,
      "outputs": [
        {
          "output_type": "execute_result",
          "data": {
            "text/plain": [
              "0.004391449135245473"
            ]
          },
          "metadata": {},
          "execution_count": 13
        }
      ]
    },
    {
      "cell_type": "code",
      "metadata": {
        "id": "3XlnOXwT-Jmk"
      },
      "source": [
        "df = df.filter(df.popularity.cast(\"int\").isNotNull())\n",
        ".filter(~df.popularity.contains(\".\"))"
      ],
      "execution_count": null,
      "outputs": []
    },
    {
      "cell_type": "code",
      "metadata": {
        "colab": {
          "base_uri": "https://localhost:8080/"
        },
        "id": "9Qx8KReh7Lwb",
        "outputId": "6ea3c279-9295-4d71-b680-5531f09e1d6e"
      },
      "source": [
        "df.select(\"popularity\").distinct().count()"
      ],
      "execution_count": null,
      "outputs": [
        {
          "output_type": "execute_result",
          "data": {
            "text/plain": [
              "101"
            ]
          },
          "metadata": {},
          "execution_count": 15
        }
      ]
    },
    {
      "cell_type": "markdown",
      "metadata": {
        "id": "CxzybNadBqD2"
      },
      "source": [
        "### Check des Valeurs nulles:"
      ]
    },
    {
      "cell_type": "markdown",
      "metadata": {
        "id": "dyviAthqlE1s"
      },
      "source": [
        "Ici on calcule le pourcentage des valeurs nulles."
      ]
    },
    {
      "cell_type": "code",
      "metadata": {
        "colab": {
          "base_uri": "https://localhost:8080/"
        },
        "id": "VeXp3pftM_DH",
        "outputId": "ae02aea4-c544-4e90-c142-f0908996c300"
      },
      "source": [
        "print(\"Pourcentage des valeurs nulles\")\n",
        "for column in df.columns:\n",
        "  print(column, \": \", \"{:.5%}\"\n",
        "  .format(df.filter(col(column).isNull()).count()/row_count))\n"
      ],
      "execution_count": null,
      "outputs": [
        {
          "output_type": "stream",
          "name": "stdout",
          "text": [
            "Pourcentage des valeurs nulles\n",
            "genre :  0.00000%\n",
            "artist_name :  0.00000%\n",
            "track_name :  0.00000%\n",
            "track_id :  0.00000%\n",
            "popularity :  0.00000%\n",
            "acousticness :  0.00000%\n",
            "danceability :  0.00043%\n",
            "duration_ms :  0.00000%\n",
            "energy :  0.00000%\n",
            "instrumentalness :  0.00000%\n",
            "key :  0.00000%\n",
            "liveness :  0.00043%\n",
            "loudness :  0.00000%\n",
            "mode :  0.00000%\n",
            "speechiness :  0.00043%\n",
            "tempo :  0.00000%\n",
            "time_signature :  0.00000%\n",
            "valence :  0.00043%\n"
          ]
        }
      ]
    },
    {
      "cell_type": "code",
      "metadata": {
        "colab": {
          "base_uri": "https://localhost:8080/"
        },
        "id": "eI0rcMA655O6",
        "outputId": "1e741e2f-1f0f-4164-ed56-e48ab7ca2757"
      },
      "source": [
        "str_df.filter(\"track_id  = '0bvEKvSwtUFIz00'\").show()"
      ],
      "execution_count": null,
      "outputs": [
        {
          "output_type": "stream",
          "name": "stdout",
          "text": [
            "+-------+-----------+----------+---------------+----------+------------+------------+-----------+------+----------------+------+--------+--------+-----+-----------+-----+--------------+-------+\n",
            "|  genre|artist_name|track_name|       track_id|popularity|acousticness|danceability|duration_ms|energy|instrumentalness|   key|liveness|loudness| mode|speechiness|tempo|time_signature|valence|\n",
            "+-------+-----------+----------+---------------+----------+------------+------------+-----------+------+----------------+------+--------+--------+-----+-----------+-----+--------------+-------+\n",
            "|Country|  Jake Owen|Ghost Town|0bvEKvSwtUFIz00|      0.82|           0|           C|     0.0839|-5.825|           Major|0.0674| 112.938|     4/4|0.697|       null| null|          null|   null|\n",
            "+-------+-----------+----------+---------------+----------+------------+------------+-----------+------+----------------+------+--------+--------+-----+-----------+-----+--------------+-------+\n",
            "\n"
          ]
        }
      ]
    },
    {
      "cell_type": "markdown",
      "metadata": {
        "id": "yySDlTzwlQuB"
      },
      "source": [
        "#### Drop des valeurs nulles"
      ]
    },
    {
      "cell_type": "code",
      "metadata": {
        "id": "V0Exh2lQ_JXO"
      },
      "source": [
        "df = df.na.drop(\"any\")"
      ],
      "execution_count": null,
      "outputs": []
    },
    {
      "cell_type": "code",
      "metadata": {
        "colab": {
          "base_uri": "https://localhost:8080/"
        },
        "id": "PIsKZ62S2emo",
        "outputId": "b55987c0-9171-400e-9344-4980188aeeb3"
      },
      "source": [
        "print(\"Pourcentage des valeurs nulles\")\n",
        "for column in df.columns:\n",
        "  print(column, \": \", \"{:.5%}\"\n",
        "  .format(df.filter(col(column).isNull()).count()/row_count))\n"
      ],
      "execution_count": null,
      "outputs": [
        {
          "output_type": "stream",
          "name": "stdout",
          "text": [
            "Pourcentage des valeurs nulles\n",
            "genre :  0.00000%\n",
            "artist_name :  0.00000%\n",
            "track_name :  0.00000%\n",
            "track_id :  0.00000%\n",
            "popularity :  0.00000%\n",
            "acousticness :  0.00000%\n",
            "danceability :  0.00000%\n",
            "duration_ms :  0.00000%\n",
            "energy :  0.00000%\n",
            "instrumentalness :  0.00000%\n",
            "key :  0.00000%\n",
            "liveness :  0.00000%\n",
            "loudness :  0.00000%\n",
            "mode :  0.00000%\n",
            "speechiness :  0.00000%\n",
            "tempo :  0.00000%\n",
            "time_signature :  0.00000%\n",
            "valence :  0.00000%\n"
          ]
        }
      ]
    },
    {
      "cell_type": "markdown",
      "metadata": {
        "id": "vsZukcJKNJsT"
      },
      "source": [
        "## Pourcentages des valeurs distinctes pour chaque feature"
      ]
    },
    {
      "cell_type": "code",
      "metadata": {
        "colab": {
          "base_uri": "https://localhost:8080/"
        },
        "id": "L8pAOyRbD0DW",
        "outputId": "0139e562-1f80-486d-971f-32e5b0a4b2ea"
      },
      "source": [
        "print(\"Pourcentage des valeures dist\")\n",
        "for column in df.columns:\n",
        "  print(column, \": \", \"{:.5%}\"\n",
        "  .format(df.select(column).distinct().count()/row_count))"
      ],
      "execution_count": null,
      "outputs": [
        {
          "output_type": "stream",
          "name": "stdout",
          "text": [
            "Pourcentage des valeures dist\n",
            "genre :  0.01160%\n",
            "artist_name :  6.25502%\n",
            "track_name :  63.43109%\n",
            "track_id :  75.52777%\n",
            "popularity :  0.04340%\n",
            "acousticness :  2.03416%\n",
            "danceability :  0.55645%\n",
            "duration_ms :  30.31346%\n",
            "energy :  1.07939%\n",
            "instrumentalness :  2.32034%\n",
            "key :  0.00516%\n",
            "liveness :  0.74423%\n",
            "loudness :  11.94672%\n",
            "mode :  0.00086%\n",
            "speechiness :  0.70512%\n",
            "tempo :  33.59373%\n",
            "time_signature :  0.00215%\n",
            "valence :  0.72704%\n"
          ]
        }
      ]
    },
    {
      "cell_type": "markdown",
      "metadata": {
        "id": "l00JsIWflXXv"
      },
      "source": [
        "Vu que les colonnes: artist_name, track_name, et track_id ont trop de valeurs distinctes on décide de les enlever plus tard."
      ]
    },
    {
      "cell_type": "markdown",
      "metadata": {
        "id": "-6H7_p2WEXUB"
      },
      "source": [
        "### \"Binning\" values"
      ]
    },
    {
      "cell_type": "markdown",
      "metadata": {
        "id": "hPoxugsXlnVZ"
      },
      "source": [
        "Ici on effectue un binning (ou bucketizing) des colonnes en nous basant sur des informations issus de la théorie musicale"
      ]
    },
    {
      "cell_type": "code",
      "metadata": {
        "id": "7WvO9hCoco4J"
      },
      "source": [
        "df_columns = df.columns"
      ],
      "execution_count": null,
      "outputs": []
    },
    {
      "cell_type": "markdown",
      "metadata": {
        "id": "0o3p5PSdEgYx"
      },
      "source": [
        "#### **Tempo**"
      ]
    },
    {
      "cell_type": "markdown",
      "metadata": {
        "id": "pAdyiZSLmjTR"
      },
      "source": [
        "On divise les chansons en 3 catégories selon le tempo: lentes (moins de 108bpm), moyennes (entre 108 et 120bpm) et rapides (plus de 120bpm).\n",
        "Source: https://en.wikipedia.org/wiki/Tempo"
      ]
    },
    {
      "cell_type": "code",
      "metadata": {
        "id": "-suN2y7_EsYh"
      },
      "source": [
        "def ceil_tempo(row, low=108, high=120):\n",
        "  t = float(row.tempo)\n",
        "  new_row = row.asDict()\n",
        "  if t<=high:\n",
        "    if t<low:\n",
        "      new_row[\"tempo\"] = \"low\"\n",
        "    else:\n",
        "      new_row[\"tempo\"] = 'medium'\n",
        "  else:\n",
        "    new_row[\"tempo\"] = 'high'\n",
        "  return Row(**new_row)"
      ],
      "execution_count": null,
      "outputs": []
    },
    {
      "cell_type": "markdown",
      "metadata": {
        "id": "enwD9y21lL-B"
      },
      "source": [
        "#### **Duration**"
      ]
    },
    {
      "cell_type": "markdown",
      "metadata": {
        "id": "rdZqPjdFm8kd"
      },
      "source": [
        "On divise les chansons en 3 catégories selon leur durées tempo: courtes (moins de 2mins), moyennes (entre 2 et 5mins) et longues (plus de 5mins)."
      ]
    },
    {
      "cell_type": "code",
      "metadata": {
        "id": "oci00OqAw-al"
      },
      "source": [
        "def ceil_duration(row, short=120000, long=300000):\n",
        "  new_row = row.asDict()\n",
        "  t = int(new_row[\"duration_ms\"])\n",
        "  if t<=long:\n",
        "    if t<short:\n",
        "      new_row[\"duration_ms\"] = \"short\"\n",
        "    else:\n",
        "      new_row[\"duration_ms\"] = 'medium'\n",
        "  else:\n",
        "    new_row[\"duration_ms\"] = 'long'\n",
        "  return Row(**new_row)"
      ],
      "execution_count": null,
      "outputs": []
    },
    {
      "cell_type": "code",
      "metadata": {
        "id": "-P2ZvY7XEUh-"
      },
      "source": [
        "rdd = df.rdd.map(lambda r: ceil_duration(ceil_tempo(r)))"
      ],
      "execution_count": null,
      "outputs": []
    },
    {
      "cell_type": "code",
      "metadata": {
        "id": "TZ3d0IXgHe-R"
      },
      "source": [
        "df = rdd.toDF()"
      ],
      "execution_count": null,
      "outputs": []
    },
    {
      "cell_type": "code",
      "metadata": {
        "id": "iLArkFxxKs9d",
        "colab": {
          "base_uri": "https://localhost:8080/"
        },
        "outputId": "65f75f71-589e-4dcc-a44e-30b3506c1bf6"
      },
      "source": [
        "df.show()"
      ],
      "execution_count": null,
      "outputs": [
        {
          "output_type": "stream",
          "name": "stdout",
          "text": [
            "+-----+--------------------+--------------------+--------------------+----------+--------------------+-------------------+-----------+-------------------+--------------------+---+-------------------+-------------------+-----+--------------------+------+--------------+-------------------+\n",
            "|genre|         artist_name|          track_name|            track_id|popularity|        acousticness|       danceability|duration_ms|             energy|    instrumentalness|key|           liveness|           loudness| mode|         speechiness| tempo|time_signature|            valence|\n",
            "+-----+--------------------+--------------------+--------------------+----------+--------------------+-------------------+-----------+-------------------+--------------------+---+-------------------+-------------------+-----+--------------------+------+--------------+-------------------+\n",
            "|Movie|      Henri Salvador|C'est beau de fai...|0BRjO6ga9RKCKjfDq...|         0|  0.6110000014305115| 0.3889999985694885|      short| 0.9100000262260437|                 0.0| C#|0.34599998593330383|-1.8279999494552612|Major| 0.05249999836087227|  high|           4/4| 0.8140000104904175|\n",
            "|Movie|   Martin & les fées|Perdu d'avance (p...|0BjC1NfoEOOusryeh...|         1|  0.2460000067949295| 0.5899999737739563|     medium| 0.7369999885559082|                 0.0| F#| 0.1509999930858612| -5.559000015258789|Minor|  0.0868000015616417|  high|           4/4| 0.8159999847412109|\n",
            "|Movie|     Joseph Williams|Don't Let Me Be L...|0CoSDzoNIKCRs124s...|         3|  0.9520000219345093| 0.6629999876022339|     medium|0.13099999725818634|                 0.0|  C|0.10300000011920929|-13.878999710083008|Minor| 0.03620000183582306|   low|           5/4|0.36800000071525574|\n",
            "|Movie|      Henri Salvador|Dis-moi Monsieur ...|0Gc6TVm52BwZD07Ki...|         0|   0.703000009059906|0.23999999463558197|     medium|0.32600000500679016|                 0.0| C#|0.09849999845027924|-12.178000450134277|Major|0.039500001817941666|  high|           4/4|0.22699999809265137|\n",
            "|Movie|        Fabien Nataf|           Ouverture|0IuslXpMROHdEPvSl...|         4|   0.949999988079071| 0.3310000002384186|      short|0.22499999403953552| 0.12300000339746475|  F|0.20200000703334808|-21.149999618530273|Major| 0.04560000076889992|  high|           4/4|0.38999998569488525|\n",
            "|Movie|      Henri Salvador|Le petit souper a...|0Mf1jKa8eNAf1a4Pw...|         0|  0.7490000128746033|  0.578000009059906|     medium|0.09480000287294388|                 0.0| C#|0.10700000077486038|-14.970000267028809|Major| 0.14300000667572021|   low|           4/4| 0.3580000102519989|\n",
            "|Movie|   Martin & les fées|Premières recherc...|0NUiKYRd6jt1LKMYG...|         2|  0.3440000116825104|  0.703000009059906|     medium|0.27000001072883606|                 0.0| C#|0.10499999672174454|-12.675000190734863|Major|   0.953000009059906|   low|           4/4| 0.5329999923706055|\n",
            "|Movie|         Laura Mayne|       Let Me Let Go|0PbIF9YVD505Gutwo...|        15|  0.9390000104904175|0.41600000858306885|     medium|0.26899999380111694|                 0.0| F#|0.11299999803304672| -8.949000358581543|Major|0.028599999845027924|   low|           4/4|0.27399998903274536|\n",
            "|Movie|              Chorus|               Helka|0ST6uPfvaPpJLtQwh...|         0|0.001040000002831...|  0.734000027179718|     medium|0.48100000619888306| 8.59999970998615E-4|  C|0.07649999856948853| -7.724999904632568|Major| 0.04600000008940697|  high|           4/4| 0.7649999856948853|\n",
            "|Movie| Le Club des Juniors|Les bisous des bi...|0VSqZ3KStsjcfERGd...|        10|  0.3190000057220459| 0.5979999899864197|     medium| 0.7049999833106995|0.001249999972060...|  G| 0.3490000069141388| -7.789999961853027|Major| 0.02810000069439411|  high|           4/4| 0.7179999947547913|\n",
            "|Movie|   Leopold Stokowski|Symphony No.4 In ...|0XKgegoxLcIihK3Kl...|         0|  0.9210000038146973|0.19099999964237213|       long|0.14499999582767487|  0.5289999842643738|  E|0.14100000262260437| -17.23900032043457|Minor| 0.03929999843239784|   low|           4/4|0.08489999920129776|\n",
            "|Movie|        Randy Newman|The Hanging (Mave...|0hprxsuRM5vVCOfaM...|         2| 0.03830000013113022|0.23000000417232513|     medium|0.13300000131130219|  0.8870000243186951|  C|0.08720000088214874|-19.051000595092773|Major| 0.03020000085234642|   low|           4/4|0.11800000071525574|\n",
            "|Movie|Idoles De La Musique|J'ai demandé à la...|0jF6HUm18fg6QQCLH...|         4|  0.2150000035762787| 0.6800000071525574|     medium| 0.6000000238418579| 0.07289999723434448| F#|0.11100000143051147| -7.702000141143799|Minor|0.025800000876188278|medium|           4/4|0.43299999833106995|\n",
            "|Movie|              Chorus|       Mangala Aarti|0jIY0oRAp1T4mezDy...|         3|  0.9580000042915344| 0.7580000162124634|       long| 0.2639999985694885|                 0.0| D#|0.05429999902844429|-11.965999603271484|Major| 0.04960000142455101|medium|           3/4| 0.7419999837875366|\n",
            "|Movie|  Richard M. Sherman|        Keys of Love|0pXwl2CRP5awxHsF9...|         0|  0.9700000286102295| 0.4000000059604645|     medium|0.17399999499320984|  0.9330000281333923|  G|0.12999999523162842|-13.869000434875488|Major| 0.04580000042915344|medium|           4/4|0.27000001072883606|\n",
            "|Movie|         Michel Roux|Les aventures d'A...|0uWUjxM7oDPKpb3T2...|         0|  0.5479999780654907| 0.5879999995231628|       long| 0.4050000011920929|                 0.0| G#| 0.7540000081062317|-15.550000190734863|Major|  0.9380000233650208|   low|           3/4|0.47999998927116394|\n",
            "|Movie|  Jean Claude Corbel|               Diane|0vS7Zid3q0dMyX8uM...|         0|   0.699999988079071|              0.625|       long| 0.2370000034570694|                 0.0|  D| 0.3190000057220459|-16.655000686645508|Major|  0.5609999895095825|medium|           3/4| 0.2980000078678131|\n",
            "|Movie|       Bernard Minet|        Ultra Man 80|0x8xSaoSfQkOYUnG1...|         3|  0.4880000054836273| 0.7440000176429749|     medium|  0.953000009059906|                 0.0|  E|  0.453000009059906| -4.986000061035156|Major| 0.03700000047683716|  high|           4/4| 0.9259999990463257|\n",
            "|Movie|      Henri Salvador|             Veunise|113pHPsGwyeklEjLh...|         1| 0.38100001215934753|0.45100000500679016|     medium| 0.4909999966621399|                 0.0|  D|0.15199999511241913| -8.729999542236328|Major| 0.05480000004172325|   low|           3/4|  0.515999972820282|\n",
            "|Movie|              Amalya|Ladies And Gentlemen|12ZjoNweObu1k9rK4...|         4| 0.16099999845027924| 0.5220000147819519|     medium| 0.7480000257492065|7.250000180647476E-6| C#|0.11100000143051147| -5.203000068664551|Major| 0.08240000158548355|  high|           4/4| 0.7329999804496765|\n",
            "+-----+--------------------+--------------------+--------------------+----------+--------------------+-------------------+-----------+-------------------+--------------------+---+-------------------+-------------------+-----+--------------------+------+--------------+-------------------+\n",
            "only showing top 20 rows\n",
            "\n"
          ]
        }
      ]
    },
    {
      "cell_type": "code",
      "metadata": {
        "colab": {
          "base_uri": "https://localhost:8080/"
        },
        "id": "VL3I9apkeWG2",
        "outputId": "40aa2fd1-c549-4b3d-ca4f-e09176dbfa50"
      },
      "source": [
        "df.filter(\"tempo = 'high'\").count()/row_count"
      ],
      "execution_count": null,
      "outputs": [
        {
          "output_type": "execute_result",
          "data": {
            "text/plain": [
              "0.45136534536470085"
            ]
          },
          "metadata": {},
          "execution_count": 27
        }
      ]
    },
    {
      "cell_type": "code",
      "metadata": {
        "id": "Ti1DWM7NeXy9",
        "colab": {
          "base_uri": "https://localhost:8080/"
        },
        "outputId": "30742bd3-23d9-45b5-a88f-91187a6d0b24"
      },
      "source": [
        "df.filter(\"tempo = 'medium'\").count()/row_count"
      ],
      "execution_count": null,
      "outputs": [
        {
          "output_type": "execute_result",
          "data": {
            "text/plain": [
              "0.1228144806101622"
            ]
          },
          "metadata": {},
          "execution_count": 28
        }
      ]
    },
    {
      "cell_type": "code",
      "metadata": {
        "id": "y4myMoQNdsj5",
        "colab": {
          "base_uri": "https://localhost:8080/"
        },
        "outputId": "e1679534-7ae7-47f1-853b-aa5f797e1201"
      },
      "source": [
        "df.filter(\"tempo = 'low'\").count()/row_count"
      ],
      "execution_count": null,
      "outputs": [
        {
          "output_type": "execute_result",
          "data": {
            "text/plain": [
              "0.4214201310559673"
            ]
          },
          "metadata": {},
          "execution_count": 29
        }
      ]
    },
    {
      "cell_type": "markdown",
      "metadata": {
        "id": "5xByaEdS2oqT"
      },
      "source": [
        "###Sélection de features  pertinents\n"
      ]
    },
    {
      "cell_type": "code",
      "metadata": {
        "id": "QN12NPKbjXZS",
        "colab": {
          "base_uri": "https://localhost:8080/"
        },
        "outputId": "bb85409c-9e66-4e52-f707-11dbd4d7aa88"
      },
      "source": [
        "df = df.drop(\"track_name\", \"track_id\", \"artist_name\")\n",
        "df.show()"
      ],
      "execution_count": null,
      "outputs": [
        {
          "output_type": "stream",
          "name": "stdout",
          "text": [
            "+-----+----------+--------------------+-------------------+-----------+-------------------+--------------------+---+-------------------+-------------------+-----+--------------------+------+--------------+-------------------+\n",
            "|genre|popularity|        acousticness|       danceability|duration_ms|             energy|    instrumentalness|key|           liveness|           loudness| mode|         speechiness| tempo|time_signature|            valence|\n",
            "+-----+----------+--------------------+-------------------+-----------+-------------------+--------------------+---+-------------------+-------------------+-----+--------------------+------+--------------+-------------------+\n",
            "|Movie|         0|  0.6110000014305115| 0.3889999985694885|      short| 0.9100000262260437|                 0.0| C#|0.34599998593330383|-1.8279999494552612|Major| 0.05249999836087227|  high|           4/4| 0.8140000104904175|\n",
            "|Movie|         1|  0.2460000067949295| 0.5899999737739563|     medium| 0.7369999885559082|                 0.0| F#| 0.1509999930858612| -5.559000015258789|Minor|  0.0868000015616417|  high|           4/4| 0.8159999847412109|\n",
            "|Movie|         3|  0.9520000219345093| 0.6629999876022339|     medium|0.13099999725818634|                 0.0|  C|0.10300000011920929|-13.878999710083008|Minor| 0.03620000183582306|   low|           5/4|0.36800000071525574|\n",
            "|Movie|         0|   0.703000009059906|0.23999999463558197|     medium|0.32600000500679016|                 0.0| C#|0.09849999845027924|-12.178000450134277|Major|0.039500001817941666|  high|           4/4|0.22699999809265137|\n",
            "|Movie|         4|   0.949999988079071| 0.3310000002384186|      short|0.22499999403953552| 0.12300000339746475|  F|0.20200000703334808|-21.149999618530273|Major| 0.04560000076889992|  high|           4/4|0.38999998569488525|\n",
            "|Movie|         0|  0.7490000128746033|  0.578000009059906|     medium|0.09480000287294388|                 0.0| C#|0.10700000077486038|-14.970000267028809|Major| 0.14300000667572021|   low|           4/4| 0.3580000102519989|\n",
            "|Movie|         2|  0.3440000116825104|  0.703000009059906|     medium|0.27000001072883606|                 0.0| C#|0.10499999672174454|-12.675000190734863|Major|   0.953000009059906|   low|           4/4| 0.5329999923706055|\n",
            "|Movie|        15|  0.9390000104904175|0.41600000858306885|     medium|0.26899999380111694|                 0.0| F#|0.11299999803304672| -8.949000358581543|Major|0.028599999845027924|   low|           4/4|0.27399998903274536|\n",
            "|Movie|         0|0.001040000002831...|  0.734000027179718|     medium|0.48100000619888306| 8.59999970998615E-4|  C|0.07649999856948853| -7.724999904632568|Major| 0.04600000008940697|  high|           4/4| 0.7649999856948853|\n",
            "|Movie|        10|  0.3190000057220459| 0.5979999899864197|     medium| 0.7049999833106995|0.001249999972060...|  G| 0.3490000069141388| -7.789999961853027|Major| 0.02810000069439411|  high|           4/4| 0.7179999947547913|\n",
            "|Movie|         0|  0.9210000038146973|0.19099999964237213|       long|0.14499999582767487|  0.5289999842643738|  E|0.14100000262260437| -17.23900032043457|Minor| 0.03929999843239784|   low|           4/4|0.08489999920129776|\n",
            "|Movie|         2| 0.03830000013113022|0.23000000417232513|     medium|0.13300000131130219|  0.8870000243186951|  C|0.08720000088214874|-19.051000595092773|Major| 0.03020000085234642|   low|           4/4|0.11800000071525574|\n",
            "|Movie|         4|  0.2150000035762787| 0.6800000071525574|     medium| 0.6000000238418579| 0.07289999723434448| F#|0.11100000143051147| -7.702000141143799|Minor|0.025800000876188278|medium|           4/4|0.43299999833106995|\n",
            "|Movie|         3|  0.9580000042915344| 0.7580000162124634|       long| 0.2639999985694885|                 0.0| D#|0.05429999902844429|-11.965999603271484|Major| 0.04960000142455101|medium|           3/4| 0.7419999837875366|\n",
            "|Movie|         0|  0.9700000286102295| 0.4000000059604645|     medium|0.17399999499320984|  0.9330000281333923|  G|0.12999999523162842|-13.869000434875488|Major| 0.04580000042915344|medium|           4/4|0.27000001072883606|\n",
            "|Movie|         0|  0.5479999780654907| 0.5879999995231628|       long| 0.4050000011920929|                 0.0| G#| 0.7540000081062317|-15.550000190734863|Major|  0.9380000233650208|   low|           3/4|0.47999998927116394|\n",
            "|Movie|         0|   0.699999988079071|              0.625|       long| 0.2370000034570694|                 0.0|  D| 0.3190000057220459|-16.655000686645508|Major|  0.5609999895095825|medium|           3/4| 0.2980000078678131|\n",
            "|Movie|         3|  0.4880000054836273| 0.7440000176429749|     medium|  0.953000009059906|                 0.0|  E|  0.453000009059906| -4.986000061035156|Major| 0.03700000047683716|  high|           4/4| 0.9259999990463257|\n",
            "|Movie|         1| 0.38100001215934753|0.45100000500679016|     medium| 0.4909999966621399|                 0.0|  D|0.15199999511241913| -8.729999542236328|Major| 0.05480000004172325|   low|           3/4|  0.515999972820282|\n",
            "|Movie|         4| 0.16099999845027924| 0.5220000147819519|     medium| 0.7480000257492065|7.250000180647476E-6| C#|0.11100000143051147| -5.203000068664551|Major| 0.08240000158548355|  high|           4/4| 0.7329999804496765|\n",
            "+-----+----------+--------------------+-------------------+-----------+-------------------+--------------------+---+-------------------+-------------------+-----+--------------------+------+--------------+-------------------+\n",
            "only showing top 20 rows\n",
            "\n"
          ]
        }
      ]
    },
    {
      "cell_type": "markdown",
      "metadata": {
        "id": "DFdnQIcJqYVh"
      },
      "source": [
        "## Decision Tree\n"
      ]
    },
    {
      "cell_type": "markdown",
      "metadata": {
        "id": "JZbRolb7nb4b"
      },
      "source": [
        "Ici on prépare les données pour les indexer (pipeline ci dessous)."
      ]
    },
    {
      "cell_type": "code",
      "metadata": {
        "id": "9SUp6foetcRq"
      },
      "source": [
        "label = 'popularity'\n",
        "str_features_col = \n",
        "[\"genre\", \"key\", \"mode\", \"tempo\", \"time_signature\", \"duration_ms\"]\n",
        "prefix = 'indexed_'\n",
        "features_str_col = list(map(lambda c:prefix+c, str_features_col))\n",
        "features_string_indexer =\n",
        " StringIndexer(inputCols=str_features_col, outputCols=features_str_col)\n",
        "features_col = df.columns\n",
        "features_col.remove(label)"
      ],
      "execution_count": null,
      "outputs": []
    },
    {
      "cell_type": "code",
      "metadata": {
        "id": "chilv2REushQ"
      },
      "source": [
        "dec_features_col =\n",
        " [feature for feature in features_col if feature not in str_features_col]"
      ],
      "execution_count": null,
      "outputs": []
    },
    {
      "cell_type": "code",
      "metadata": {
        "id": "sJg8uzgPuOuz"
      },
      "source": [
        "vec_assembler = VectorAssembler(inputCols = dec_features_col \n",
        "                + features_string_indexer.getOutputCols(), outputCol= 'vector')\n",
        "vec_indexer = \n",
        "VectorIndexer(inputCol='vector', outputCol='features', maxCategories=20)\n",
        "dt = DecisionTreeRegressor(featuresCol=\"features\", labelCol=label)"
      ],
      "execution_count": null,
      "outputs": []
    },
    {
      "cell_type": "code",
      "metadata": {
        "id": "qG1klVhxvNzx"
      },
      "source": [
        "stages = [features_string_indexer, vec_assembler, vec_indexer, dt]"
      ],
      "execution_count": null,
      "outputs": []
    },
    {
      "cell_type": "markdown",
      "metadata": {
        "id": "LOB2y0C-nnlf"
      },
      "source": [
        "#### Split des données en train et test"
      ]
    },
    {
      "cell_type": "code",
      "metadata": {
        "id": "ZOTG9YJovcQo"
      },
      "source": [
        "# Split the data into training and test sets (30% held out for testing)\n",
        "(trainingData, testData) = df.randomSplit([0.7, 0.3])"
      ],
      "execution_count": null,
      "outputs": []
    },
    {
      "cell_type": "markdown",
      "metadata": {
        "id": "jUicqx_Sv9Xp"
      },
      "source": [
        "#### Cross validation et gridsearch des meilleurs paramètres:\n",
        "On recherche ici la meilleure profondeur et bins de l'arbre de décision."
      ]
    },
    {
      "cell_type": "code",
      "metadata": {
        "id": "x3Gsr1TAvWnR"
      },
      "source": [
        "pipeline = Pipeline(stages = stages)\n",
        "\n",
        "dtparamGrid = (ParamGridBuilder()\n",
        "             .addGrid(dt.maxDepth, [2, 5, 10, 20, 30])\n",
        "             .addGrid(dt.maxBins, [30, 40, 50])\n",
        "             .build())\n",
        "\n",
        "rmseevaluator = \n",
        "RegressionEvaluator(labelCol=label, predictionCol=\"prediction\", metricName=\"rmse\")\n",
        "maeevaluator = \n",
        "RegressionEvaluator(labelCol=label, predictionCol=\"prediction\", metricName=\"mae\")\n",
        "\n",
        "dtcv = CrossValidator(estimator = pipeline,\n",
        "                      estimatorParamMaps = dtparamGrid,\n",
        "                      evaluator = rmseevaluator,\n",
        "                      numFolds = 3)\n",
        "\n",
        "model = dtcv.fit(trainingData)"
      ],
      "execution_count": null,
      "outputs": []
    },
    {
      "cell_type": "markdown",
      "metadata": {
        "id": "sZIhUj2xqgwt"
      },
      "source": [
        "#### Plot des scores"
      ]
    },
    {
      "cell_type": "code",
      "metadata": {
        "colab": {
          "base_uri": "https://localhost:8080/"
        },
        "id": "q2d95lU2qj6z",
        "outputId": "70757655-6eaa-4524-87f8-071fbef3b2b3"
      },
      "source": [
        "scores = model.avgMetrics\n",
        "maxDepths = []\n",
        "maxBins = []\n",
        "for modelParam in dtparamGrid:\n",
        "  for key in modelParam:\n",
        "    if key.name=='maxDepth':\n",
        "      maxDepths.append(modelParam[key])\n",
        "    else:\n",
        "      maxBins.append(modelParam[key])\n",
        "print(maxDepths)\n"
      ],
      "execution_count": null,
      "outputs": [
        {
          "output_type": "stream",
          "name": "stdout",
          "text": [
            "[2, 2, 2, 5, 5, 5, 10, 10, 10, 20, 20, 20, 30, 30, 30]\n"
          ]
        }
      ]
    },
    {
      "cell_type": "code",
      "metadata": {
        "colab": {
          "base_uri": "https://localhost:8080/",
          "height": 248
        },
        "id": "5eGLsOnciHdH",
        "outputId": "a8e522eb-8cf3-4a94-ae9d-9a27e64927c4"
      },
      "source": [
        "%matplotlib inline\n",
        "import numpy as np\n",
        "import matplotlib.pyplot as plt\n",
        "\n",
        "fig = plt.figure()\n",
        "ax = plt.axes(projection='3d')\n",
        "ax.scatter3D(maxDepths, maxBins, scores, c=scores, cmap='Greens');"
      ],
      "execution_count": null,
      "outputs": [
        {
          "output_type": "display_data",
          "data": {
            "image/png": "[encoded data removed]",
            "text/plain": [
              "<Figure size 432x288 with 1 Axes>"
            ]
          },
          "metadata": {
            "needs_background": "light"
          }
        }
      ]
    },
    {
      "cell_type": "code",
      "metadata": {
        "colab": {
          "base_uri": "https://localhost:8080/"
        },
        "id": "p2JL8bpYoiN0",
        "outputId": "0c549c48-72a5-47b5-9910-0d16e7d84c87"
      },
      "source": [
        "# Make predictions.\n",
        "predictions = model.transform(testData)\n",
        "predictions.prediction = \n",
        "predictions.select(round(\"prediction\").alias(\"prediction\"))\n",
        "# Select example rows to display.\n",
        "predictions.select(\"prediction\", label, \"features\").show(5)\n",
        "\n",
        "# Select (prediction, true label) and compute test error\n",
        "\n",
        "rmse = rmseevaluator.evaluate(predictions)\n",
        "\n",
        "print(\"Root Mean Squared Error (RMSE) on test data = %g\" % rmse)\n",
        "\n",
        "mae = maeevaluator.evaluate(predictions)\n",
        "\n",
        "\n",
        "print(\"Mean Absolute Error (MAE) on test data = %g\" % mae)"
      ],
      "execution_count": null,
      "outputs": [
        {
          "output_type": "stream",
          "name": "stdout",
          "text": [
            "+------------------+----------+--------------------+\n",
            "|        prediction|popularity|            features|\n",
            "+------------------+----------+--------------------+\n",
            "|13.626892147587512|         0|[0.56900000572204...|\n",
            "|13.626892147587512|         0|[0.80000001192092...|\n",
            "|13.626892147587512|         0|[0.90100002288818...|\n",
            "|13.626892147587512|         0|[0.95499998331069...|\n",
            "|13.626892147587512|         1|[0.58200001716613...|\n",
            "+------------------+----------+--------------------+\n",
            "only showing top 5 rows\n",
            "\n",
            "Root Mean Squared Error (RMSE) on test data = 9.57436\n",
            "Mean Absolute Error (MAE) on test data = 7.25118\n"
          ]
        }
      ]
    },
    {
      "cell_type": "markdown",
      "metadata": {
        "id": "Ayrewht7x5lF"
      },
      "source": [
        "### Features catégoriques originales seulement:\n",
        "Ici on supprime toutes les informations qui sont issus de l'API spotify et on ne garde que les infos basiques des chansons, et on utilise donc que des features catégoriques originales de la chanson i.e: **genre, duration, key, tempo, mode, time signature**"
      ]
    },
    {
      "cell_type": "markdown",
      "metadata": {
        "id": "L4SUAPMA3dd4"
      },
      "source": [
        "Ici on prépare les données pour les indexer (pipeline ci dessous)."
      ]
    },
    {
      "cell_type": "code",
      "metadata": {
        "id": "iV_WWHhv3dd5"
      },
      "source": [
        "label = 'popularity'\n",
        "str_features_col = [\"genre\", \"key\", \"mode\", \"tempo\", \"time_signature\",\n",
        "                    \"duration_ms\"]\n",
        "prefix = 'indexed_'\n",
        "features_str_col = list(map(lambda c:prefix+c, str_features_col))\n",
        "features_string_indexer = StringIndexer(inputCols=str_features_col, \n",
        "                                        outputCols=features_str_col)\n",
        "features_col = df.columns\n",
        "features_col.remove(label)"
      ],
      "execution_count": null,
      "outputs": []
    },
    {
      "cell_type": "code",
      "metadata": {
        "id": "li_ZKkI13dd5"
      },
      "source": [
        "dec_features_col = [feature for feature in features_col \n",
        "                    if feature not in str_features_col]"
      ],
      "execution_count": null,
      "outputs": []
    },
    {
      "cell_type": "code",
      "metadata": {
        "id": "vpN5qo793dd5"
      },
      "source": [
        "vec_assembler = VectorAssembler(inputCols = features_string_indexer\n",
        "                                .getOutputCols(), outputCol= 'vector')\n",
        "vec_indexer = VectorIndexer(inputCol='vector', outputCol='features',\n",
        "                            maxCategories=20)\n",
        "dt = DecisionTreeRegressor(featuresCol=\"features\", labelCol=label)"
      ],
      "execution_count": null,
      "outputs": []
    },
    {
      "cell_type": "code",
      "metadata": {
        "id": "a9g8u-7n3dd5"
      },
      "source": [
        "stages = [features_string_indexer, vec_assembler, vec_indexer, dt]"
      ],
      "execution_count": null,
      "outputs": []
    },
    {
      "cell_type": "markdown",
      "metadata": {
        "id": "H09TEQXj3Lhx"
      },
      "source": [
        "#### Split des données en train et test"
      ]
    },
    {
      "cell_type": "code",
      "metadata": {
        "id": "S_v15LQE3wtp"
      },
      "source": [
        "df_cat = df.drop(\"acousticness\", \"danceability\", \"energy\", \"instrumentalness\",\n",
        "                 \"liveness\", \"loudness\", \"speechiness\", \"valence\")"
      ],
      "execution_count": null,
      "outputs": []
    },
    {
      "cell_type": "code",
      "metadata": {
        "id": "Tg7gFLek3Lhx"
      },
      "source": [
        "# Split the data into training and test sets (30% held out for testing)\n",
        "(trainingData, testData) = df_cat.randomSplit([0.7, 0.3])"
      ],
      "execution_count": null,
      "outputs": []
    },
    {
      "cell_type": "markdown",
      "metadata": {
        "id": "z6T4gsWI3Lhy"
      },
      "source": [
        "#### Cross validation et gridsearch des meilleurs paramètres:\n",
        "On recherche ici la meilleure profondeur et bins de l'arbre de décision."
      ]
    },
    {
      "cell_type": "code",
      "metadata": {
        "id": "xSsqSGZ-3Lhy"
      },
      "source": [
        "pipeline = Pipeline(stages = stages)\n",
        "\n",
        "dtparamGrid = (ParamGridBuilder()\n",
        "             .addGrid(dt.maxDepth, [2, 5, 10, 20, 30])\n",
        "             .addGrid(dt.maxBins, [30, 40, 50])\n",
        "             .build())\n",
        "\n",
        "rmseevaluator = RegressionEvaluator(labelCol=label,\n",
        "                                    predictionCol=\"prediction\", metricName=\"rmse\")\n",
        "maeevaluator = RegressionEvaluator(labelCol=label, \n",
        "                                   predictionCol=\"prediction\", metricName=\"mae\")\n",
        "\n",
        "dtcv = CrossValidator(estimator = pipeline,\n",
        "                      estimatorParamMaps = dtparamGrid,\n",
        "                      evaluator = rmseevaluator,\n",
        "                      numFolds = 3)\n",
        "\n",
        "model = dtcv.fit(trainingData)"
      ],
      "execution_count": null,
      "outputs": []
    },
    {
      "cell_type": "markdown",
      "metadata": {
        "id": "v4IN1y9Q3Lhy"
      },
      "source": [
        "#### Plot des scores"
      ]
    },
    {
      "cell_type": "code",
      "metadata": {
        "colab": {
          "base_uri": "https://localhost:8080/"
        },
        "id": "QdNHrA0l3Lhy",
        "outputId": "8cf22145-f368-49a2-a32e-19679c97a142"
      },
      "source": [
        "scores = model.avgMetrics\n",
        "maxDepths = []\n",
        "maxBins = []\n",
        "for modelParam in dtparamGrid:\n",
        "  for key in modelParam:\n",
        "    if key.name=='maxDepth':\n",
        "      maxDepths.append(modelParam[key])\n",
        "    else:\n",
        "      maxBins.append(modelParam[key])\n",
        "print(maxDepths)\n"
      ],
      "execution_count": null,
      "outputs": [
        {
          "output_type": "stream",
          "name": "stdout",
          "text": [
            "[2, 2, 2, 5, 5, 5, 10, 10, 10, 20, 20, 20, 30, 30, 30]\n"
          ]
        }
      ]
    },
    {
      "cell_type": "code",
      "metadata": {
        "colab": {
          "base_uri": "https://localhost:8080/",
          "height": 248
        },
        "id": "Ma8M_oXR3Lhy",
        "outputId": "9fbcdb01-0963-4aed-eab2-62e90e123242"
      },
      "source": [
        "%matplotlib inline\n",
        "import numpy as np\n",
        "import matplotlib.pyplot as plt\n",
        "\n",
        "fig = plt.figure()\n",
        "ax = plt.axes(projection='3d')\n",
        "ax.scatter3D(maxDepths, maxBins, scores, c=scores, cmap='Greens');"
      ],
      "execution_count": null,
      "outputs": [
        {
          "output_type": "display_data",
          "data": {
            "image/png": "[encoded data removed]",
            "text/plain": [
              "<Figure size 432x288 with 1 Axes>"
            ]
          },
          "metadata": {
            "needs_background": "light"
          }
        }
      ]
    },
    {
      "cell_type": "code",
      "metadata": {
        "colab": {
          "base_uri": "https://localhost:8080/"
        },
        "id": "Ja4FkoRJ3Lhy",
        "outputId": "ec85a7e2-7e2e-4624-9943-f9d5dcc3aff3"
      },
      "source": [
        "# Make predictions.\n",
        "predictions = model.transform(testData)\n",
        "predictions.prediction = predictions.select(round(\"prediction\")\n",
        ".alias(\"prediction\"))\n",
        "# Select example rows to display.\n",
        "predictions.select(\"prediction\", label, \"features\").show(5)\n",
        "\n",
        "# Select (prediction, true label) and compute test error\n",
        "\n",
        "rmse = rmseevaluator.evaluate(predictions)\n",
        "\n",
        "print(\"Root Mean Squared Error (RMSE) on test data = %g\" % rmse)\n",
        "\n",
        "mae = maeevaluator.evaluate(predictions)\n",
        "\n",
        "\n",
        "print(\"Mean Absolute Error (MAE) on test data = %g\" % mae)"
      ],
      "execution_count": null,
      "outputs": [
        {
          "output_type": "stream",
          "name": "stdout",
          "text": [
            "+-----------------+----------+--------------------+\n",
            "|       prediction|popularity|            features|\n",
            "+-----------------+----------+--------------------+\n",
            "|12.06522911051213|         0|(6,[0,3],[26.0,1.0])|\n",
            "|12.06522911051213|         0|[26.0,7.0,0.0,0.0...|\n",
            "|12.06522911051213|         0|[26.0,10.0,0.0,1....|\n",
            "|12.06522911051213|         1|      (6,[0],[26.0])|\n",
            "|12.06522911051213|         1|[26.0,3.0,1.0,0.0...|\n",
            "+-----------------+----------+--------------------+\n",
            "only showing top 5 rows\n",
            "\n",
            "Root Mean Squared Error (RMSE) on test data = 9.63461\n",
            "Mean Absolute Error (MAE) on test data = 7.27601\n"
          ]
        }
      ]
    },
    {
      "cell_type": "markdown",
      "metadata": {
        "application/vnd.databricks.v1+cell": {
          "title": "",
          "showTitle": false,
          "inputWidgets": {},
          "nuid": "9931a596-3ea9-4d1f-b408-b3558647f934"
        },
        "id": "R5ZJa3iU_2bh"
      },
      "source": [
        "##END"
      ]
    }
  ]
}