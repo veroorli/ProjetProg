{
  "nbformat": 4,
  "nbformat_minor": 0,
  "metadata": {
    "application/vnd.databricks.v1+notebook": {
      "notebookName": "TP2_SUJET SEUL cube_rollup_over",
      "dashboards": [],
      "notebookMetadata": {
        "pythonIndentUnit": 2
      },
      "language": "python",
      "widgets": {},
      "notebookOrigID": 224586551991606
    },
    "colab": {
      "name": "TP2_SUJET SEUL cube_rollup_over.ipynb",
      "provenance": [],
      "include_colab_link": true
    }
  },
  "cells": [
    {
      "cell_type": "markdown",
      "metadata": {
        "id": "view-in-github",
        "colab_type": "text"
      },
      "source": [
        "<a href=\"https://colab.research.google.com/github/veroorli/ProjetProg/blob/master/TP2_SUJET_SEUL_cube_rollup_over.ipynb\" target=\"_parent\"><img src=\"https://colab.research.google.com/assets/colab-badge.svg\" alt=\"Open In Colab\"/></a>"
      ]
    },
    {
      "cell_type": "markdown",
      "metadata": {
        "application/vnd.databricks.v1+cell": {
          "title": "",
          "showTitle": false,
          "inputWidgets": {},
          "nuid": "4d9ec674-9d28-4b36-8066-bf953d0f5c5c"
        },
        "id": "tMjQX7bWcQrq"
      },
      "source": [
        "version du 30/09/2021"
      ]
    },
    {
      "cell_type": "markdown",
      "metadata": {
        "application/vnd.databricks.v1+cell": {
          "title": "",
          "showTitle": false,
          "inputWidgets": {},
          "nuid": "081c702b-4855-4ee3-a747-bbdc8b8343ba"
        },
        "id": "iOXxcdROcQrr"
      },
      "source": [
        "# BDLE TP2 : Requêtes multidimensionnelles\n",
        "### Group By Cube et Group by Rollup \n",
        "### Fenêtres: Over et Partition by"
      ]
    },
    {
      "cell_type": "markdown",
      "metadata": {
        "application/vnd.databricks.v1+cell": {
          "title": "",
          "showTitle": false,
          "inputWidgets": {},
          "nuid": "8d22a0c5-e76c-486b-a83b-06b88c402d5f"
        },
        "id": "hyi2NM-6cQrs"
      },
      "source": [
        "## Introduction"
      ]
    },
    {
      "cell_type": "markdown",
      "metadata": {
        "application/vnd.databricks.v1+cell": {
          "title": "",
          "showTitle": false,
          "inputWidgets": {},
          "nuid": "b3c9d88c-4198-4279-af36-c0c6cd6a990b"
        },
        "id": "ut-fZ2mTcQrs"
      },
      "source": [
        "On ajuste l'environnement d'exécution des requêtes à la taille du cluster (8 coeurs) qu'on utilise."
      ]
    },
    {
      "cell_type": "code",
      "metadata": {
        "application/vnd.databricks.v1+cell": {
          "title": "",
          "showTitle": false,
          "inputWidgets": {},
          "nuid": "468ddb29-01cc-4d3a-927f-cdf78af43b88"
        },
        "id": "lmgwafR2cQrs"
      },
      "source": [
        "# on utilise 8 partitions au lieu de 200 par défaut\n",
        "spark.conf.set(\"spark.sql.shuffle.partitions\", \"8\")"
      ],
      "execution_count": null,
      "outputs": []
    },
    {
      "cell_type": "markdown",
      "metadata": {
        "application/vnd.databricks.v1+cell": {
          "title": "",
          "showTitle": false,
          "inputWidgets": {},
          "nuid": "9189b50d-5f32-401e-99fd-b53c1bf723c4"
        },
        "id": "tjTndfQjcQrt"
      },
      "source": [
        "## Les données"
      ]
    },
    {
      "cell_type": "markdown",
      "metadata": {
        "application/vnd.databricks.v1+cell": {
          "title": "",
          "showTitle": false,
          "inputWidgets": {},
          "nuid": "8e5228d6-dfa0-46af-9278-f98093320b22"
        },
        "id": "6K_BcJl3cQrt"
      },
      "source": [
        "On propose 2 possibilités pour disposer des données du TP:\n",
        "  * Lire un fichier préalablement stocké dans le système de fichier\n",
        "  * Générer un exemple de données"
      ]
    },
    {
      "cell_type": "markdown",
      "metadata": {
        "application/vnd.databricks.v1+cell": {
          "title": "",
          "showTitle": false,
          "inputWidgets": {},
          "nuid": "b4153ff1-de00-4af2-aee1-3cff906845d2"
        },
        "id": "m6KghEwKcQru"
      },
      "source": [
        "### La table Visite"
      ]
    },
    {
      "cell_type": "code",
      "metadata": {
        "application/vnd.databricks.v1+cell": {
          "title": "Visite",
          "showTitle": false,
          "inputWidgets": {},
          "nuid": "6482be4c-f067-47c9-b0ac-35c938b94601"
        },
        "id": "4ey_H_Q0cQru",
        "outputId": "24108cc4-07dc-4b22-9d5b-66c0349ca909"
      },
      "source": [
        "import pyspark.sql.functions as fct\n",
        "\n",
        "visite_attrs = [\"photoID\",\t\"personID\",\t\"date\",\t\"lon\",\t\"lat\", \"note\"]\n",
        "visite_tuples = [(\"p1\",\t\"Bob\",\t\"03/09/2020\",\t41.5,\t12.8, 3),\n",
        "                 (\"p2\",\t\"Alice\", \"01/09/2020\",\t41.6,\t12.8, 5),\n",
        "                 (\"p3\",\t\"Bob\",\t\"04/09/2020\",\t41.6,\t13.2, 1),\n",
        "                 (\"p4\",\t\"Bob\",\t\"04/09/2020\",\t40.1,\t12.0, 2),\n",
        "                 (\"p5\",\t\"Alice\", \"04/09/2020\",\t40.1,\t12.0, 2),\n",
        "                 (\"p6\",\t\"Alice\", \"05/09/2020\",\t41.6,\t12.7, 4),\n",
        "                 (\"p7\",\t\"Alice\", \"05/10/2020\",\t41.8, 12.8, 4),\n",
        "                 (\"p8\",\t\"Carole\", \"25/12/2019\",\t30.1, 10.1, 2),\n",
        "                 (\"p9\",\t\"David\", \"25/12/2019\",\t30.1, 10.1, 1),\n",
        "                 (\"p10\",\"Eva\", \"25/12/2019\",\t30.1, 10.1, 5),\n",
        "                 (\"p11\",\"Eva\", \"26/12/2019\",\t31.1, 10.1, 3),\n",
        "                 (\"p12\",\"Alice\", \"01/02/2020\",\t32.1, 12.1, 3),\n",
        "                 (\"p13\",\"Bob\", \"01/02/2020\",\t32.1, 12.1, 5),\n",
        "                 (\"p14\",\"Carole\", \"01/02/2020\",\t32.1, 12.1, 2),\n",
        "                 (\"p15\",\t\"Carole\", \"11/11/2019\",\t49.1, 10.1, 1),\n",
        "                 (\"p16\",\t\"Alice\", \"25/12/2019\",\t30.1, 10.1, 4),\n",
        "                 (\"p17\",\t\"Alice\", \"02/02/2020\",\t49.1, 10.1, 5),\n",
        "                ]\n",
        "visite = spark.createDataFrame(visite_tuples, visite_attrs)\n",
        "\n",
        "# convertir l'attribut date pour qu'il soit de type Date \n",
        "# visite = visite.selectExpr(\"photoID\", \"personID\", \"lon\", \"lat\", \"to_date(date, 'dd/MM/yyyy') as date\")\n",
        "visite = visite.withColumn(\"date\", fct.to_date(\"date\", \"dd/MM/yyyy\"))\n",
        "\n",
        "visite.persist().count()\n",
        "visite.createOrReplaceTempView(\"Visite\")\n",
        "\n",
        "# Deux affichages possibles : display ou show\n",
        "\n",
        "# display affiche toutes les lignes dans un tableau de 7 lignes de hauteur. Pour voir toutes les lignes, agrandir la zone du tableau ou sélectionner une cellule et scroller\n",
        "display(visite)\n",
        "\n",
        "# invoquer show(n) pour afficher n lignes :\n",
        "# visite.show(100)"
      ],
      "execution_count": null,
      "outputs": [
        {
          "output_type": "display_data",
          "metadata": {
            "application/vnd.databricks.v1+output": {
              "overflow": false,
              "datasetInfos": [],
              "data": [
                [
                  "p1",
                  "Bob",
                  "2020-09-03",
                  41.5,
                  12.8,
                  3
                ],
                [
                  "p2",
                  "Alice",
                  "2020-09-01",
                  41.6,
                  12.8,
                  5
                ],
                [
                  "p3",
                  "Bob",
                  "2020-09-04",
                  41.6,
                  13.2,
                  1
                ],
                [
                  "p4",
                  "Bob",
                  "2020-09-04",
                  40.1,
                  12,
                  2
                ],
                [
                  "p5",
                  "Alice",
                  "2020-09-04",
                  40.1,
                  12,
                  2
                ],
                [
                  "p6",
                  "Alice",
                  "2020-09-05",
                  41.6,
                  12.7,
                  4
                ],
                [
                  "p7",
                  "Alice",
                  "2020-10-05",
                  41.8,
                  12.8,
                  4
                ],
                [
                  "p8",
                  "Carole",
                  "2019-12-25",
                  30.1,
                  10.1,
                  2
                ],
                [
                  "p9",
                  "David",
                  "2019-12-25",
                  30.1,
                  10.1,
                  1
                ],
                [
                  "p10",
                  "Eva",
                  "2019-12-25",
                  30.1,
                  10.1,
                  5
                ],
                [
                  "p11",
                  "Eva",
                  "2019-12-26",
                  31.1,
                  10.1,
                  3
                ],
                [
                  "p12",
                  "Alice",
                  "2020-02-01",
                  32.1,
                  12.1,
                  3
                ],
                [
                  "p13",
                  "Bob",
                  "2020-02-01",
                  32.1,
                  12.1,
                  5
                ],
                [
                  "p14",
                  "Carole",
                  "2020-02-01",
                  32.1,
                  12.1,
                  2
                ],
                [
                  "p15",
                  "Carole",
                  "2019-11-11",
                  49.1,
                  10.1,
                  1
                ],
                [
                  "p16",
                  "Alice",
                  "2019-12-25",
                  30.1,
                  10.1,
                  4
                ],
                [
                  "p17",
                  "Alice",
                  "2020-02-02",
                  49.1,
                  10.1,
                  5
                ]
              ],
              "plotOptions": {
                "displayType": "table",
                "customPlotOptions": {},
                "pivotColumns": null,
                "pivotAggregation": null,
                "xColumns": null,
                "yColumns": null
              },
              "columnCustomDisplayInfos": {},
              "aggType": "",
              "isJsonSchema": true,
              "removedWidgets": [],
              "aggSchema": [],
              "schema": [
                {
                  "name": "photoID",
                  "type": "\"string\"",
                  "metadata": "{}"
                },
                {
                  "name": "personID",
                  "type": "\"string\"",
                  "metadata": "{}"
                },
                {
                  "name": "date",
                  "type": "\"date\"",
                  "metadata": "{}"
                },
                {
                  "name": "lon",
                  "type": "\"double\"",
                  "metadata": "{}"
                },
                {
                  "name": "lat",
                  "type": "\"double\"",
                  "metadata": "{}"
                },
                {
                  "name": "note",
                  "type": "\"long\"",
                  "metadata": "{}"
                }
              ],
              "aggError": "",
              "aggData": [],
              "addedWidgets": {},
              "metadata": {},
              "dbfsResultPath": null,
              "type": "table",
              "aggOverflow": false,
              "aggSeriesLimitReached": false,
              "arguments": {}
            }
          },
          "data": {
            "text/html": [
              "<style scoped>\n  .table-result-container {\n    max-height: 300px;\n    overflow: auto;\n  }\n  table, th, td {\n    border: 1px solid black;\n    border-collapse: collapse;\n  }\n  th, td {\n    padding: 5px;\n  }\n  th {\n    text-align: left;\n  }\n</style><div class='table-result-container'><table class='table-result'><thead style='background-color: white'><tr><th>photoID</th><th>personID</th><th>date</th><th>lon</th><th>lat</th><th>note</th></tr></thead><tbody><tr><td>p1</td><td>Bob</td><td>2020-09-03</td><td>41.5</td><td>12.8</td><td>3</td></tr><tr><td>p2</td><td>Alice</td><td>2020-09-01</td><td>41.6</td><td>12.8</td><td>5</td></tr><tr><td>p3</td><td>Bob</td><td>2020-09-04</td><td>41.6</td><td>13.2</td><td>1</td></tr><tr><td>p4</td><td>Bob</td><td>2020-09-04</td><td>40.1</td><td>12.0</td><td>2</td></tr><tr><td>p5</td><td>Alice</td><td>2020-09-04</td><td>40.1</td><td>12.0</td><td>2</td></tr><tr><td>p6</td><td>Alice</td><td>2020-09-05</td><td>41.6</td><td>12.7</td><td>4</td></tr><tr><td>p7</td><td>Alice</td><td>2020-10-05</td><td>41.8</td><td>12.8</td><td>4</td></tr><tr><td>p8</td><td>Carole</td><td>2019-12-25</td><td>30.1</td><td>10.1</td><td>2</td></tr><tr><td>p9</td><td>David</td><td>2019-12-25</td><td>30.1</td><td>10.1</td><td>1</td></tr><tr><td>p10</td><td>Eva</td><td>2019-12-25</td><td>30.1</td><td>10.1</td><td>5</td></tr><tr><td>p11</td><td>Eva</td><td>2019-12-26</td><td>31.1</td><td>10.1</td><td>3</td></tr><tr><td>p12</td><td>Alice</td><td>2020-02-01</td><td>32.1</td><td>12.1</td><td>3</td></tr><tr><td>p13</td><td>Bob</td><td>2020-02-01</td><td>32.1</td><td>12.1</td><td>5</td></tr><tr><td>p14</td><td>Carole</td><td>2020-02-01</td><td>32.1</td><td>12.1</td><td>2</td></tr><tr><td>p15</td><td>Carole</td><td>2019-11-11</td><td>49.1</td><td>10.1</td><td>1</td></tr><tr><td>p16</td><td>Alice</td><td>2019-12-25</td><td>30.1</td><td>10.1</td><td>4</td></tr><tr><td>p17</td><td>Alice</td><td>2020-02-02</td><td>49.1</td><td>10.1</td><td>5</td></tr></tbody></table></div>"
            ]
          }
        }
      ]
    },
    {
      "cell_type": "markdown",
      "metadata": {
        "application/vnd.databricks.v1+cell": {
          "title": "",
          "showTitle": false,
          "inputWidgets": {},
          "nuid": "e203afc1-b215-44ef-aeef-265b5ee7c66f"
        },
        "id": "X0UaCu7xcQrv"
      },
      "source": [
        "Une requête directement exprimée en SQL :"
      ]
    },
    {
      "cell_type": "code",
      "metadata": {
        "application/vnd.databricks.v1+cell": {
          "title": "",
          "showTitle": false,
          "inputWidgets": {},
          "nuid": "f34b40b6-7b2a-490f-9a8f-2cc56427dabd"
        },
        "id": "1tbb-IUxcQrv",
        "outputId": "8dbfb30a-ffb7-4b97-e5c3-5c504a495b7e"
      },
      "source": [
        "%sql\n",
        "select *\n",
        "from Visite \n",
        "where personID='Bob'"
      ],
      "execution_count": null,
      "outputs": [
        {
          "output_type": "display_data",
          "metadata": {
            "application/vnd.databricks.v1+output": {
              "overflow": false,
              "datasetInfos": [],
              "data": [
                [
                  "p1",
                  "Bob",
                  "2020-09-03",
                  41.5,
                  12.8,
                  3
                ],
                [
                  "p3",
                  "Bob",
                  "2020-09-04",
                  41.6,
                  13.2,
                  1
                ],
                [
                  "p4",
                  "Bob",
                  "2020-09-04",
                  40.1,
                  12,
                  2
                ],
                [
                  "p13",
                  "Bob",
                  "2020-02-01",
                  32.1,
                  12.1,
                  5
                ]
              ],
              "plotOptions": {
                "displayType": "table",
                "customPlotOptions": {},
                "pivotColumns": null,
                "pivotAggregation": null,
                "xColumns": null,
                "yColumns": null
              },
              "columnCustomDisplayInfos": {},
              "aggType": "",
              "isJsonSchema": true,
              "removedWidgets": [],
              "aggSchema": [],
              "schema": [
                {
                  "name": "photoID",
                  "type": "\"string\"",
                  "metadata": "{}"
                },
                {
                  "name": "personID",
                  "type": "\"string\"",
                  "metadata": "{}"
                },
                {
                  "name": "date",
                  "type": "\"date\"",
                  "metadata": "{}"
                },
                {
                  "name": "lon",
                  "type": "\"double\"",
                  "metadata": "{}"
                },
                {
                  "name": "lat",
                  "type": "\"double\"",
                  "metadata": "{}"
                },
                {
                  "name": "note",
                  "type": "\"long\"",
                  "metadata": "{}"
                }
              ],
              "aggError": "",
              "aggData": [],
              "addedWidgets": {},
              "metadata": {},
              "dbfsResultPath": null,
              "type": "table",
              "aggOverflow": false,
              "aggSeriesLimitReached": false,
              "arguments": {}
            }
          },
          "data": {
            "text/html": [
              "<style scoped>\n  .table-result-container {\n    max-height: 300px;\n    overflow: auto;\n  }\n  table, th, td {\n    border: 1px solid black;\n    border-collapse: collapse;\n  }\n  th, td {\n    padding: 5px;\n  }\n  th {\n    text-align: left;\n  }\n</style><div class='table-result-container'><table class='table-result'><thead style='background-color: white'><tr><th>photoID</th><th>personID</th><th>date</th><th>lon</th><th>lat</th><th>note</th></tr></thead><tbody><tr><td>p1</td><td>Bob</td><td>2020-09-03</td><td>41.5</td><td>12.8</td><td>3</td></tr><tr><td>p3</td><td>Bob</td><td>2020-09-04</td><td>41.6</td><td>13.2</td><td>1</td></tr><tr><td>p4</td><td>Bob</td><td>2020-09-04</td><td>40.1</td><td>12.0</td><td>2</td></tr><tr><td>p13</td><td>Bob</td><td>2020-02-01</td><td>32.1</td><td>12.1</td><td>5</td></tr></tbody></table></div>"
            ]
          }
        }
      ]
    },
    {
      "cell_type": "markdown",
      "metadata": {
        "application/vnd.databricks.v1+cell": {
          "title": "",
          "showTitle": false,
          "inputWidgets": {},
          "nuid": "f9135468-9a40-4810-92cb-afb71106734e"
        },
        "id": "5vihmP6acQrw"
      },
      "source": [
        "### La vue DateDimension"
      ]
    },
    {
      "cell_type": "markdown",
      "metadata": {
        "application/vnd.databricks.v1+cell": {
          "title": "",
          "showTitle": false,
          "inputWidgets": {},
          "nuid": "f2198930-3532-4c5b-9b1b-43513cad43fa"
        },
        "id": "Fy4DntFWcQrw"
      },
      "source": [
        "On définit une requête pour extraire le jour, le mois et l'année de chaque date distincte. On nomme cette requête.\n",
        "Une requête nommée est une vue temporaire."
      ]
    },
    {
      "cell_type": "code",
      "metadata": {
        "application/vnd.databricks.v1+cell": {
          "title": "",
          "showTitle": false,
          "inputWidgets": {},
          "nuid": "a48979bf-efde-4789-aa78-317daed4eb39"
        },
        "id": "gmFWuXOccQrw",
        "outputId": "c74e1a52-bf6f-42eb-9a98-419750473c19"
      },
      "source": [
        "%sql\n",
        "create or replace temporary view DateDimension as\n",
        "select distinct date, day(date) as jour, month(date) as mois, year(date) as annee\n",
        "from Visite;\n",
        "\n",
        "select *\n",
        "from DateDimension\n",
        "order by annee, mois, jour;"
      ],
      "execution_count": null,
      "outputs": [
        {
          "output_type": "display_data",
          "metadata": {
            "application/vnd.databricks.v1+output": {
              "overflow": false,
              "datasetInfos": [],
              "data": [
                [
                  "2019-11-11",
                  11,
                  11,
                  2019
                ],
                [
                  "2019-12-25",
                  25,
                  12,
                  2019
                ],
                [
                  "2019-12-26",
                  26,
                  12,
                  2019
                ],
                [
                  "2020-02-01",
                  1,
                  2,
                  2020
                ],
                [
                  "2020-02-02",
                  2,
                  2,
                  2020
                ],
                [
                  "2020-09-01",
                  1,
                  9,
                  2020
                ],
                [
                  "2020-09-03",
                  3,
                  9,
                  2020
                ],
                [
                  "2020-09-04",
                  4,
                  9,
                  2020
                ],
                [
                  "2020-09-05",
                  5,
                  9,
                  2020
                ],
                [
                  "2020-10-05",
                  5,
                  10,
                  2020
                ]
              ],
              "plotOptions": {
                "displayType": "table",
                "customPlotOptions": {},
                "pivotColumns": null,
                "pivotAggregation": null,
                "xColumns": null,
                "yColumns": null
              },
              "columnCustomDisplayInfos": {},
              "aggType": "",
              "isJsonSchema": true,
              "removedWidgets": [],
              "aggSchema": [],
              "schema": [
                {
                  "name": "date",
                  "type": "\"date\"",
                  "metadata": "{}"
                },
                {
                  "name": "jour",
                  "type": "\"integer\"",
                  "metadata": "{}"
                },
                {
                  "name": "mois",
                  "type": "\"integer\"",
                  "metadata": "{}"
                },
                {
                  "name": "annee",
                  "type": "\"integer\"",
                  "metadata": "{}"
                }
              ],
              "aggError": "",
              "aggData": [],
              "addedWidgets": {},
              "metadata": {},
              "dbfsResultPath": null,
              "type": "table",
              "aggOverflow": false,
              "aggSeriesLimitReached": false,
              "arguments": {}
            }
          },
          "data": {
            "text/html": [
              "<style scoped>\n  .table-result-container {\n    max-height: 300px;\n    overflow: auto;\n  }\n  table, th, td {\n    border: 1px solid black;\n    border-collapse: collapse;\n  }\n  th, td {\n    padding: 5px;\n  }\n  th {\n    text-align: left;\n  }\n</style><div class='table-result-container'><table class='table-result'><thead style='background-color: white'><tr><th>date</th><th>jour</th><th>mois</th><th>annee</th></tr></thead><tbody><tr><td>2019-11-11</td><td>11</td><td>11</td><td>2019</td></tr><tr><td>2019-12-25</td><td>25</td><td>12</td><td>2019</td></tr><tr><td>2019-12-26</td><td>26</td><td>12</td><td>2019</td></tr><tr><td>2020-02-01</td><td>1</td><td>2</td><td>2020</td></tr><tr><td>2020-02-02</td><td>2</td><td>2</td><td>2020</td></tr><tr><td>2020-09-01</td><td>1</td><td>9</td><td>2020</td></tr><tr><td>2020-09-03</td><td>3</td><td>9</td><td>2020</td></tr><tr><td>2020-09-04</td><td>4</td><td>9</td><td>2020</td></tr><tr><td>2020-09-05</td><td>5</td><td>9</td><td>2020</td></tr><tr><td>2020-10-05</td><td>5</td><td>10</td><td>2020</td></tr></tbody></table></div>"
            ]
          }
        }
      ]
    },
    {
      "cell_type": "markdown",
      "metadata": {
        "application/vnd.databricks.v1+cell": {
          "title": "",
          "showTitle": false,
          "inputWidgets": {},
          "nuid": "100b75ae-40c8-4764-b9a6-25b42115ecc2"
        },
        "id": "k0diw1wjcQrw"
      },
      "source": [
        "### La table Place"
      ]
    },
    {
      "cell_type": "code",
      "metadata": {
        "application/vnd.databricks.v1+cell": {
          "title": "",
          "showTitle": false,
          "inputWidgets": {},
          "nuid": "2be7afb8-d101-4da7-88ae-9403677ac365"
        },
        "id": "AJKZYnh8cQrw",
        "outputId": "f5b8d229-c690-4d74-fa21-f30ad2f57d90"
      },
      "source": [
        "place_attr = [\"lon\",\"lat\", \"ville\", \"pays\"]\n",
        "\n",
        "place_tuples = [(41.5, 12.8, \"Aix\", \"France\"),\n",
        "                (41.6, 12.8, \"Aix\", \"France\"),\n",
        "                (41.6, 12.7, \"Nice\", \"France\"),\n",
        "                (41.8, 12.8, \"Marseille\", \"France\"),\n",
        "                (41.6, 13.2, \"Rome\", \"Italie\"),\n",
        "                (40.1, 12.0, \"Oslo\", \"Norvege\"),\n",
        "                (30.1, 10.1, \"Paris\", \"France\"),                \n",
        "                (31.1, 10.1, \"StDenis\", \"France\"),                \n",
        "                (32.1, 12.1, \"Lille\", \"France\"),   \n",
        "                (49.1, 10.1, \"Pau\", \"France\") ]\n",
        "\n",
        "place = spark.createDataFrame(place_tuples, place_attr )\n",
        "place.persist().count()\n",
        "place.createOrReplaceTempView(\"Place\")\n",
        "display(place)"
      ],
      "execution_count": null,
      "outputs": [
        {
          "output_type": "display_data",
          "metadata": {
            "application/vnd.databricks.v1+output": {
              "overflow": false,
              "datasetInfos": [],
              "data": [
                [
                  41.5,
                  12.8,
                  "Aix",
                  "France"
                ],
                [
                  41.6,
                  12.8,
                  "Aix",
                  "France"
                ],
                [
                  41.6,
                  12.7,
                  "Nice",
                  "France"
                ],
                [
                  41.8,
                  12.8,
                  "Marseille",
                  "France"
                ],
                [
                  41.6,
                  13.2,
                  "Rome",
                  "Italie"
                ],
                [
                  40.1,
                  12,
                  "Oslo",
                  "Norvege"
                ],
                [
                  30.1,
                  10.1,
                  "Paris",
                  "France"
                ],
                [
                  31.1,
                  10.1,
                  "StDenis",
                  "France"
                ],
                [
                  32.1,
                  12.1,
                  "Lille",
                  "France"
                ],
                [
                  49.1,
                  10.1,
                  "Pau",
                  "France"
                ]
              ],
              "plotOptions": {
                "displayType": "table",
                "customPlotOptions": {},
                "pivotColumns": null,
                "pivotAggregation": null,
                "xColumns": null,
                "yColumns": null
              },
              "columnCustomDisplayInfos": {},
              "aggType": "",
              "isJsonSchema": true,
              "removedWidgets": [],
              "aggSchema": [],
              "schema": [
                {
                  "name": "lon",
                  "type": "\"double\"",
                  "metadata": "{}"
                },
                {
                  "name": "lat",
                  "type": "\"double\"",
                  "metadata": "{}"
                },
                {
                  "name": "ville",
                  "type": "\"string\"",
                  "metadata": "{}"
                },
                {
                  "name": "pays",
                  "type": "\"string\"",
                  "metadata": "{}"
                }
              ],
              "aggError": "",
              "aggData": [],
              "addedWidgets": {},
              "metadata": {},
              "dbfsResultPath": null,
              "type": "table",
              "aggOverflow": false,
              "aggSeriesLimitReached": false,
              "arguments": {}
            }
          },
          "data": {
            "text/html": [
              "<style scoped>\n  .table-result-container {\n    max-height: 300px;\n    overflow: auto;\n  }\n  table, th, td {\n    border: 1px solid black;\n    border-collapse: collapse;\n  }\n  th, td {\n    padding: 5px;\n  }\n  th {\n    text-align: left;\n  }\n</style><div class='table-result-container'><table class='table-result'><thead style='background-color: white'><tr><th>lon</th><th>lat</th><th>ville</th><th>pays</th></tr></thead><tbody><tr><td>41.5</td><td>12.8</td><td>Aix</td><td>France</td></tr><tr><td>41.6</td><td>12.8</td><td>Aix</td><td>France</td></tr><tr><td>41.6</td><td>12.7</td><td>Nice</td><td>France</td></tr><tr><td>41.8</td><td>12.8</td><td>Marseille</td><td>France</td></tr><tr><td>41.6</td><td>13.2</td><td>Rome</td><td>Italie</td></tr><tr><td>40.1</td><td>12.0</td><td>Oslo</td><td>Norvege</td></tr><tr><td>30.1</td><td>10.1</td><td>Paris</td><td>France</td></tr><tr><td>31.1</td><td>10.1</td><td>StDenis</td><td>France</td></tr><tr><td>32.1</td><td>12.1</td><td>Lille</td><td>France</td></tr><tr><td>49.1</td><td>10.1</td><td>Pau</td><td>France</td></tr></tbody></table></div>"
            ]
          }
        }
      ]
    },
    {
      "cell_type": "markdown",
      "metadata": {
        "application/vnd.databricks.v1+cell": {
          "title": "",
          "showTitle": false,
          "inputWidgets": {},
          "nuid": "0d7e67eb-76ca-4ea4-9652-33318792b214"
        },
        "id": "SLZfi3t2cQrx"
      },
      "source": [
        "### La table Profession"
      ]
    },
    {
      "cell_type": "code",
      "metadata": {
        "application/vnd.databricks.v1+cell": {
          "title": "",
          "showTitle": false,
          "inputWidgets": {},
          "nuid": "c0eadf83-6366-400f-bd6a-41f7c473ed95"
        },
        "id": "tQuTrxe3cQrx",
        "outputId": "3466cac5-accd-4ba2-ff0e-d09912f583fe"
      },
      "source": [
        "profession_attr = [\"personID\",\"profession\"]\n",
        "\n",
        "profession_tuples = [(\"Alice\", \"Architecte\"),\n",
        "                     (\"Bob\", \"Data science\"),\n",
        "                     (\"Carole\", \"Data science\"),\n",
        "                     (\"David\", \"Architecte\"),\n",
        "                     (\"Eva\", \"Vendeuse\"),\n",
        "                     (\"Franck\", \"Vendeur\"),\n",
        "                     (\"Greta\", \"Economiste\")\n",
        "                    ]\n",
        "\n",
        "profession = spark.createDataFrame(profession_tuples, profession_attr )\n",
        "profession.persist().count()\n",
        "profession.createOrReplaceTempView(\"Profession\")\n",
        "display(profession)"
      ],
      "execution_count": null,
      "outputs": [
        {
          "output_type": "display_data",
          "metadata": {
            "application/vnd.databricks.v1+output": {
              "overflow": false,
              "datasetInfos": [],
              "data": [
                [
                  "Alice",
                  "Architecte"
                ],
                [
                  "Bob",
                  "Data science"
                ],
                [
                  "Carole",
                  "Data science"
                ],
                [
                  "David",
                  "Architecte"
                ],
                [
                  "Eva",
                  "Vendeuse"
                ],
                [
                  "Franck",
                  "Vendeur"
                ],
                [
                  "Greta",
                  "Economiste"
                ]
              ],
              "plotOptions": {
                "displayType": "table",
                "customPlotOptions": {},
                "pivotColumns": null,
                "pivotAggregation": null,
                "xColumns": null,
                "yColumns": null
              },
              "columnCustomDisplayInfos": {},
              "aggType": "",
              "isJsonSchema": true,
              "removedWidgets": [],
              "aggSchema": [],
              "schema": [
                {
                  "name": "personID",
                  "type": "\"string\"",
                  "metadata": "{}"
                },
                {
                  "name": "profession",
                  "type": "\"string\"",
                  "metadata": "{}"
                }
              ],
              "aggError": "",
              "aggData": [],
              "addedWidgets": {},
              "metadata": {},
              "dbfsResultPath": null,
              "type": "table",
              "aggOverflow": false,
              "aggSeriesLimitReached": false,
              "arguments": {}
            }
          },
          "data": {
            "text/html": [
              "<style scoped>\n  .table-result-container {\n    max-height: 300px;\n    overflow: auto;\n  }\n  table, th, td {\n    border: 1px solid black;\n    border-collapse: collapse;\n  }\n  th, td {\n    padding: 5px;\n  }\n  th {\n    text-align: left;\n  }\n</style><div class='table-result-container'><table class='table-result'><thead style='background-color: white'><tr><th>personID</th><th>profession</th></tr></thead><tbody><tr><td>Alice</td><td>Architecte</td></tr><tr><td>Bob</td><td>Data science</td></tr><tr><td>Carole</td><td>Data science</td></tr><tr><td>David</td><td>Architecte</td></tr><tr><td>Eva</td><td>Vendeuse</td></tr><tr><td>Franck</td><td>Vendeur</td></tr><tr><td>Greta</td><td>Economiste</td></tr></tbody></table></div>"
            ]
          }
        }
      ]
    },
    {
      "cell_type": "markdown",
      "metadata": {
        "application/vnd.databricks.v1+cell": {
          "title": "",
          "showTitle": false,
          "inputWidgets": {},
          "nuid": "98c31633-8e59-4ed4-91e3-9aee5ca5aa05"
        },
        "id": "zTvP1vQZcQrx"
      },
      "source": [
        "## Les requêtes d'analyse"
      ]
    },
    {
      "cell_type": "markdown",
      "metadata": {
        "application/vnd.databricks.v1+cell": {
          "title": "",
          "showTitle": false,
          "inputWidgets": {},
          "nuid": "28d13713-43c4-4668-8b85-29d856b80f2c"
        },
        "id": "hcnSi7P_cQrx"
      },
      "source": [
        "### Les Faits détaillés avec leurs dimensions"
      ]
    },
    {
      "cell_type": "markdown",
      "metadata": {
        "application/vnd.databricks.v1+cell": {
          "title": "",
          "showTitle": false,
          "inputWidgets": {},
          "nuid": "069d228a-1cad-4376-b7b1-b79c4a0b4205"
        },
        "id": "sZkKEc1xcQrx"
      },
      "source": [
        "La table Visite est la table de faits. Les dimensions des visites sont: \n",
        "* une dimension géographique : position gps (lon,lat), ville, pays\n",
        "* une dimension temporelle sur la date :  jour, mois, année\n",
        "* une dimension sur la profession : personID, profession\n",
        "\n",
        "Une jointure associe les Visites avec leurs dimensions."
      ]
    },
    {
      "cell_type": "code",
      "metadata": {
        "application/vnd.databricks.v1+cell": {
          "title": "",
          "showTitle": false,
          "inputWidgets": {},
          "nuid": "2834d275-56b7-4caf-9c39-ed4207042109"
        },
        "id": "WLQ8wuQpcQrx",
        "outputId": "1d7a2f87-ece4-4ce0-9d6b-d9cc6744a275"
      },
      "source": [
        "%sql \n",
        "create or replace temp view VisitesDetail as\n",
        "Select v.photoID, p.personID, p.profession, v.date, d.jour, d.mois, d.annee, v.lon, v.lat, ville, pays,  v.note\n",
        "From Visite v, Place p, DateDimension d, Profession p\n",
        "Where v.lon = p.lon and v.lat = p.lat \n",
        "And v.date = d.date\n",
        "And v.personId = p.personId;\n",
        "\n",
        "\n",
        "select * \n",
        "from VisitesDetail\n",
        "order by pays, ville"
      ],
      "execution_count": null,
      "outputs": [
        {
          "output_type": "display_data",
          "metadata": {
            "application/vnd.databricks.v1+output": {
              "overflow": false,
              "datasetInfos": [],
              "data": [
                [
                  "p1",
                  "Bob",
                  "Data science",
                  "2020-09-03",
                  3,
                  9,
                  2020,
                  41.5,
                  12.8,
                  "Aix",
                  "France",
                  3
                ],
                [
                  "p2",
                  "Alice",
                  "Architecte",
                  "2020-09-01",
                  1,
                  9,
                  2020,
                  41.6,
                  12.8,
                  "Aix",
                  "France",
                  5
                ],
                [
                  "p13",
                  "Bob",
                  "Data science",
                  "2020-02-01",
                  1,
                  2,
                  2020,
                  32.1,
                  12.1,
                  "Lille",
                  "France",
                  5
                ],
                [
                  "p14",
                  "Carole",
                  "Data science",
                  "2020-02-01",
                  1,
                  2,
                  2020,
                  32.1,
                  12.1,
                  "Lille",
                  "France",
                  2
                ],
                [
                  "p12",
                  "Alice",
                  "Architecte",
                  "2020-02-01",
                  1,
                  2,
                  2020,
                  32.1,
                  12.1,
                  "Lille",
                  "France",
                  3
                ],
                [
                  "p7",
                  "Alice",
                  "Architecte",
                  "2020-10-05",
                  5,
                  10,
                  2020,
                  41.8,
                  12.8,
                  "Marseille",
                  "France",
                  4
                ],
                [
                  "p6",
                  "Alice",
                  "Architecte",
                  "2020-09-05",
                  5,
                  9,
                  2020,
                  41.6,
                  12.7,
                  "Nice",
                  "France",
                  4
                ],
                [
                  "p9",
                  "David",
                  "Architecte",
                  "2019-12-25",
                  25,
                  12,
                  2019,
                  30.1,
                  10.1,
                  "Paris",
                  "France",
                  1
                ],
                [
                  "p8",
                  "Carole",
                  "Data science",
                  "2019-12-25",
                  25,
                  12,
                  2019,
                  30.1,
                  10.1,
                  "Paris",
                  "France",
                  2
                ],
                [
                  "p16",
                  "Alice",
                  "Architecte",
                  "2019-12-25",
                  25,
                  12,
                  2019,
                  30.1,
                  10.1,
                  "Paris",
                  "France",
                  4
                ],
                [
                  "p10",
                  "Eva",
                  "Vendeuse",
                  "2019-12-25",
                  25,
                  12,
                  2019,
                  30.1,
                  10.1,
                  "Paris",
                  "France",
                  5
                ],
                [
                  "p17",
                  "Alice",
                  "Architecte",
                  "2020-02-02",
                  2,
                  2,
                  2020,
                  49.1,
                  10.1,
                  "Pau",
                  "France",
                  5
                ],
                [
                  "p15",
                  "Carole",
                  "Data science",
                  "2019-11-11",
                  11,
                  11,
                  2019,
                  49.1,
                  10.1,
                  "Pau",
                  "France",
                  1
                ],
                [
                  "p11",
                  "Eva",
                  "Vendeuse",
                  "2019-12-26",
                  26,
                  12,
                  2019,
                  31.1,
                  10.1,
                  "StDenis",
                  "France",
                  3
                ],
                [
                  "p3",
                  "Bob",
                  "Data science",
                  "2020-09-04",
                  4,
                  9,
                  2020,
                  41.6,
                  13.2,
                  "Rome",
                  "Italie",
                  1
                ],
                [
                  "p5",
                  "Alice",
                  "Architecte",
                  "2020-09-04",
                  4,
                  9,
                  2020,
                  40.1,
                  12,
                  "Oslo",
                  "Norvege",
                  2
                ],
                [
                  "p4",
                  "Bob",
                  "Data science",
                  "2020-09-04",
                  4,
                  9,
                  2020,
                  40.1,
                  12,
                  "Oslo",
                  "Norvege",
                  2
                ]
              ],
              "plotOptions": {
                "displayType": "table",
                "customPlotOptions": {},
                "pivotColumns": null,
                "pivotAggregation": null,
                "xColumns": null,
                "yColumns": null
              },
              "columnCustomDisplayInfos": {},
              "aggType": "",
              "isJsonSchema": true,
              "removedWidgets": [],
              "aggSchema": [],
              "schema": [
                {
                  "name": "photoID",
                  "type": "\"string\"",
                  "metadata": "{}"
                },
                {
                  "name": "personID",
                  "type": "\"string\"",
                  "metadata": "{}"
                },
                {
                  "name": "profession",
                  "type": "\"string\"",
                  "metadata": "{}"
                },
                {
                  "name": "date",
                  "type": "\"date\"",
                  "metadata": "{}"
                },
                {
                  "name": "jour",
                  "type": "\"integer\"",
                  "metadata": "{}"
                },
                {
                  "name": "mois",
                  "type": "\"integer\"",
                  "metadata": "{}"
                },
                {
                  "name": "annee",
                  "type": "\"integer\"",
                  "metadata": "{}"
                },
                {
                  "name": "lon",
                  "type": "\"double\"",
                  "metadata": "{}"
                },
                {
                  "name": "lat",
                  "type": "\"double\"",
                  "metadata": "{}"
                },
                {
                  "name": "ville",
                  "type": "\"string\"",
                  "metadata": "{}"
                },
                {
                  "name": "pays",
                  "type": "\"string\"",
                  "metadata": "{}"
                },
                {
                  "name": "note",
                  "type": "\"long\"",
                  "metadata": "{}"
                }
              ],
              "aggError": "",
              "aggData": [],
              "addedWidgets": {},
              "metadata": {},
              "dbfsResultPath": null,
              "type": "table",
              "aggOverflow": false,
              "aggSeriesLimitReached": false,
              "arguments": {}
            }
          },
          "data": {
            "text/html": [
              "<style scoped>\n  .table-result-container {\n    max-height: 300px;\n    overflow: auto;\n  }\n  table, th, td {\n    border: 1px solid black;\n    border-collapse: collapse;\n  }\n  th, td {\n    padding: 5px;\n  }\n  th {\n    text-align: left;\n  }\n</style><div class='table-result-container'><table class='table-result'><thead style='background-color: white'><tr><th>photoID</th><th>personID</th><th>profession</th><th>date</th><th>jour</th><th>mois</th><th>annee</th><th>lon</th><th>lat</th><th>ville</th><th>pays</th><th>note</th></tr></thead><tbody><tr><td>p1</td><td>Bob</td><td>Data science</td><td>2020-09-03</td><td>3</td><td>9</td><td>2020</td><td>41.5</td><td>12.8</td><td>Aix</td><td>France</td><td>3</td></tr><tr><td>p2</td><td>Alice</td><td>Architecte</td><td>2020-09-01</td><td>1</td><td>9</td><td>2020</td><td>41.6</td><td>12.8</td><td>Aix</td><td>France</td><td>5</td></tr><tr><td>p13</td><td>Bob</td><td>Data science</td><td>2020-02-01</td><td>1</td><td>2</td><td>2020</td><td>32.1</td><td>12.1</td><td>Lille</td><td>France</td><td>5</td></tr><tr><td>p14</td><td>Carole</td><td>Data science</td><td>2020-02-01</td><td>1</td><td>2</td><td>2020</td><td>32.1</td><td>12.1</td><td>Lille</td><td>France</td><td>2</td></tr><tr><td>p12</td><td>Alice</td><td>Architecte</td><td>2020-02-01</td><td>1</td><td>2</td><td>2020</td><td>32.1</td><td>12.1</td><td>Lille</td><td>France</td><td>3</td></tr><tr><td>p7</td><td>Alice</td><td>Architecte</td><td>2020-10-05</td><td>5</td><td>10</td><td>2020</td><td>41.8</td><td>12.8</td><td>Marseille</td><td>France</td><td>4</td></tr><tr><td>p6</td><td>Alice</td><td>Architecte</td><td>2020-09-05</td><td>5</td><td>9</td><td>2020</td><td>41.6</td><td>12.7</td><td>Nice</td><td>France</td><td>4</td></tr><tr><td>p9</td><td>David</td><td>Architecte</td><td>2019-12-25</td><td>25</td><td>12</td><td>2019</td><td>30.1</td><td>10.1</td><td>Paris</td><td>France</td><td>1</td></tr><tr><td>p8</td><td>Carole</td><td>Data science</td><td>2019-12-25</td><td>25</td><td>12</td><td>2019</td><td>30.1</td><td>10.1</td><td>Paris</td><td>France</td><td>2</td></tr><tr><td>p16</td><td>Alice</td><td>Architecte</td><td>2019-12-25</td><td>25</td><td>12</td><td>2019</td><td>30.1</td><td>10.1</td><td>Paris</td><td>France</td><td>4</td></tr><tr><td>p10</td><td>Eva</td><td>Vendeuse</td><td>2019-12-25</td><td>25</td><td>12</td><td>2019</td><td>30.1</td><td>10.1</td><td>Paris</td><td>France</td><td>5</td></tr><tr><td>p17</td><td>Alice</td><td>Architecte</td><td>2020-02-02</td><td>2</td><td>2</td><td>2020</td><td>49.1</td><td>10.1</td><td>Pau</td><td>France</td><td>5</td></tr><tr><td>p15</td><td>Carole</td><td>Data science</td><td>2019-11-11</td><td>11</td><td>11</td><td>2019</td><td>49.1</td><td>10.1</td><td>Pau</td><td>France</td><td>1</td></tr><tr><td>p11</td><td>Eva</td><td>Vendeuse</td><td>2019-12-26</td><td>26</td><td>12</td><td>2019</td><td>31.1</td><td>10.1</td><td>StDenis</td><td>France</td><td>3</td></tr><tr><td>p3</td><td>Bob</td><td>Data science</td><td>2020-09-04</td><td>4</td><td>9</td><td>2020</td><td>41.6</td><td>13.2</td><td>Rome</td><td>Italie</td><td>1</td></tr><tr><td>p5</td><td>Alice</td><td>Architecte</td><td>2020-09-04</td><td>4</td><td>9</td><td>2020</td><td>40.1</td><td>12.0</td><td>Oslo</td><td>Norvege</td><td>2</td></tr><tr><td>p4</td><td>Bob</td><td>Data science</td><td>2020-09-04</td><td>4</td><td>9</td><td>2020</td><td>40.1</td><td>12.0</td><td>Oslo</td><td>Norvege</td><td>2</td></tr></tbody></table></div>"
            ]
          }
        }
      ]
    },
    {
      "cell_type": "markdown",
      "metadata": {
        "application/vnd.databricks.v1+cell": {
          "title": "",
          "showTitle": false,
          "inputWidgets": {},
          "nuid": "10cce3d3-57ba-4212-ac5c-3e9a92b2d178"
        },
        "id": "mE_WyjK9cQrx"
      },
      "source": [
        "### L'opération GROUP BY ROLLUP"
      ]
    },
    {
      "cell_type": "markdown",
      "metadata": {
        "application/vnd.databricks.v1+cell": {
          "title": "",
          "showTitle": false,
          "inputWidgets": {},
          "nuid": "cd370980-3891-41af-8366-a2a94d72aff2"
        },
        "id": "BmeupmfMcQrx"
      },
      "source": [
        "#### Rollup sur la dimension temporelle\n",
        "Rassembler les agrégations à tous les niveaux de la dimension sur la date: par jour, par mois et par année et global (ie, qqsoit la date)"
      ]
    },
    {
      "cell_type": "code",
      "metadata": {
        "application/vnd.databricks.v1+cell": {
          "title": "Nombre de visites",
          "showTitle": false,
          "inputWidgets": {},
          "nuid": "48c20d4f-79d2-46b9-be71-db379089a441"
        },
        "id": "n3QSYxm4cQry",
        "outputId": "83c62697-6d18-48d5-c754-e8e7dc6c4ee0"
      },
      "source": [
        "%sql\n",
        "select annee, mois, jour, count(*) as nb_visite\n",
        "from Visite v, DateDimension d\n",
        "where v.date = d.date\n",
        "group by rollup(annee, mois, jour)\n",
        "order by annee, mois, jour"
      ],
      "execution_count": null,
      "outputs": [
        {
          "output_type": "display_data",
          "metadata": {
            "application/vnd.databricks.v1+output": {
              "overflow": false,
              "datasetInfos": [],
              "data": [
                [
                  null,
                  null,
                  null,
                  17
                ],
                [
                  2019,
                  null,
                  null,
                  6
                ],
                [
                  2019,
                  11,
                  null,
                  1
                ],
                [
                  2019,
                  11,
                  11,
                  1
                ],
                [
                  2019,
                  12,
                  null,
                  5
                ],
                [
                  2019,
                  12,
                  25,
                  4
                ],
                [
                  2019,
                  12,
                  26,
                  1
                ],
                [
                  2020,
                  null,
                  null,
                  11
                ],
                [
                  2020,
                  2,
                  null,
                  4
                ],
                [
                  2020,
                  2,
                  1,
                  3
                ],
                [
                  2020,
                  2,
                  2,
                  1
                ],
                [
                  2020,
                  9,
                  null,
                  6
                ],
                [
                  2020,
                  9,
                  1,
                  1
                ],
                [
                  2020,
                  9,
                  3,
                  1
                ],
                [
                  2020,
                  9,
                  4,
                  3
                ],
                [
                  2020,
                  9,
                  5,
                  1
                ],
                [
                  2020,
                  10,
                  null,
                  1
                ],
                [
                  2020,
                  10,
                  5,
                  1
                ]
              ],
              "plotOptions": {
                "displayType": "table",
                "customPlotOptions": {},
                "pivotColumns": null,
                "pivotAggregation": null,
                "xColumns": null,
                "yColumns": null
              },
              "columnCustomDisplayInfos": {},
              "aggType": "",
              "isJsonSchema": true,
              "removedWidgets": [],
              "aggSchema": [],
              "schema": [
                {
                  "name": "annee",
                  "type": "\"integer\"",
                  "metadata": "{}"
                },
                {
                  "name": "mois",
                  "type": "\"integer\"",
                  "metadata": "{}"
                },
                {
                  "name": "jour",
                  "type": "\"integer\"",
                  "metadata": "{}"
                },
                {
                  "name": "nb_visite",
                  "type": "\"long\"",
                  "metadata": "{}"
                }
              ],
              "aggError": "",
              "aggData": [],
              "addedWidgets": {},
              "metadata": {},
              "dbfsResultPath": null,
              "type": "table",
              "aggOverflow": false,
              "aggSeriesLimitReached": false,
              "arguments": {}
            }
          },
          "data": {
            "text/html": [
              "<style scoped>\n  .table-result-container {\n    max-height: 300px;\n    overflow: auto;\n  }\n  table, th, td {\n    border: 1px solid black;\n    border-collapse: collapse;\n  }\n  th, td {\n    padding: 5px;\n  }\n  th {\n    text-align: left;\n  }\n</style><div class='table-result-container'><table class='table-result'><thead style='background-color: white'><tr><th>annee</th><th>mois</th><th>jour</th><th>nb_visite</th></tr></thead><tbody><tr><td>null</td><td>null</td><td>null</td><td>17</td></tr><tr><td>2019</td><td>null</td><td>null</td><td>6</td></tr><tr><td>2019</td><td>11</td><td>null</td><td>1</td></tr><tr><td>2019</td><td>11</td><td>11</td><td>1</td></tr><tr><td>2019</td><td>12</td><td>null</td><td>5</td></tr><tr><td>2019</td><td>12</td><td>25</td><td>4</td></tr><tr><td>2019</td><td>12</td><td>26</td><td>1</td></tr><tr><td>2020</td><td>null</td><td>null</td><td>11</td></tr><tr><td>2020</td><td>2</td><td>null</td><td>4</td></tr><tr><td>2020</td><td>2</td><td>1</td><td>3</td></tr><tr><td>2020</td><td>2</td><td>2</td><td>1</td></tr><tr><td>2020</td><td>9</td><td>null</td><td>6</td></tr><tr><td>2020</td><td>9</td><td>1</td><td>1</td></tr><tr><td>2020</td><td>9</td><td>3</td><td>1</td></tr><tr><td>2020</td><td>9</td><td>4</td><td>3</td></tr><tr><td>2020</td><td>9</td><td>5</td><td>1</td></tr><tr><td>2020</td><td>10</td><td>null</td><td>1</td></tr><tr><td>2020</td><td>10</td><td>5</td><td>1</td></tr></tbody></table></div>"
            ]
          }
        }
      ]
    },
    {
      "cell_type": "markdown",
      "metadata": {
        "application/vnd.databricks.v1+cell": {
          "title": "",
          "showTitle": false,
          "inputWidgets": {},
          "nuid": "9078b53f-c359-44ff-a02b-6663859a360a"
        },
        "id": "S-SHdIUfcQry"
      },
      "source": [
        "#### Rollup sur la dimension géographique"
      ]
    },
    {
      "cell_type": "markdown",
      "metadata": {
        "application/vnd.databricks.v1+cell": {
          "title": "",
          "showTitle": false,
          "inputWidgets": {},
          "nuid": "ce52cd16-6f66-44c6-b3d4-5d0ad875765e"
        },
        "id": "WjYS9_v2cQry"
      },
      "source": [
        "On restructure la clé composée de (lon,lat) en une clé ayant un seul attribut gps."
      ]
    },
    {
      "cell_type": "code",
      "metadata": {
        "application/vnd.databricks.v1+cell": {
          "title": "",
          "showTitle": false,
          "inputWidgets": {},
          "nuid": "20648b82-bb5a-425f-b2f9-64cdb25960e2"
        },
        "id": "VlHS7A6scQry",
        "outputId": "3449143c-1a4a-450f-e300-4ced634efa54"
      },
      "source": [
        "%sql\n",
        "create or replace temp view VisiteGPS as\n",
        "select v.photoID, v.personID,  v.date,  (v.lon, v.lat) as gps, v.note\n",
        "from Visite v;\n",
        "\n",
        "select *\n",
        "from VisiteGPS;"
      ],
      "execution_count": null,
      "outputs": [
        {
          "output_type": "display_data",
          "metadata": {
            "application/vnd.databricks.v1+output": {
              "overflow": false,
              "datasetInfos": [],
              "data": [
                [
                  "p1",
                  "Bob",
                  "2020-09-03",
                  [
                    41.5,
                    12.8
                  ],
                  3
                ],
                [
                  "p2",
                  "Alice",
                  "2020-09-01",
                  [
                    41.6,
                    12.8
                  ],
                  5
                ],
                [
                  "p3",
                  "Bob",
                  "2020-09-04",
                  [
                    41.6,
                    13.2
                  ],
                  1
                ],
                [
                  "p4",
                  "Bob",
                  "2020-09-04",
                  [
                    40.1,
                    12
                  ],
                  2
                ],
                [
                  "p5",
                  "Alice",
                  "2020-09-04",
                  [
                    40.1,
                    12
                  ],
                  2
                ],
                [
                  "p6",
                  "Alice",
                  "2020-09-05",
                  [
                    41.6,
                    12.7
                  ],
                  4
                ],
                [
                  "p7",
                  "Alice",
                  "2020-10-05",
                  [
                    41.8,
                    12.8
                  ],
                  4
                ],
                [
                  "p8",
                  "Carole",
                  "2019-12-25",
                  [
                    30.1,
                    10.1
                  ],
                  2
                ],
                [
                  "p9",
                  "David",
                  "2019-12-25",
                  [
                    30.1,
                    10.1
                  ],
                  1
                ],
                [
                  "p10",
                  "Eva",
                  "2019-12-25",
                  [
                    30.1,
                    10.1
                  ],
                  5
                ],
                [
                  "p11",
                  "Eva",
                  "2019-12-26",
                  [
                    31.1,
                    10.1
                  ],
                  3
                ],
                [
                  "p12",
                  "Alice",
                  "2020-02-01",
                  [
                    32.1,
                    12.1
                  ],
                  3
                ],
                [
                  "p13",
                  "Bob",
                  "2020-02-01",
                  [
                    32.1,
                    12.1
                  ],
                  5
                ],
                [
                  "p14",
                  "Carole",
                  "2020-02-01",
                  [
                    32.1,
                    12.1
                  ],
                  2
                ],
                [
                  "p15",
                  "Carole",
                  "2019-11-11",
                  [
                    49.1,
                    10.1
                  ],
                  1
                ],
                [
                  "p16",
                  "Alice",
                  "2019-12-25",
                  [
                    30.1,
                    10.1
                  ],
                  4
                ],
                [
                  "p17",
                  "Alice",
                  "2020-02-02",
                  [
                    49.1,
                    10.1
                  ],
                  5
                ]
              ],
              "plotOptions": {
                "displayType": "table",
                "customPlotOptions": {},
                "pivotColumns": null,
                "pivotAggregation": null,
                "xColumns": null,
                "yColumns": null
              },
              "columnCustomDisplayInfos": {},
              "aggType": "",
              "isJsonSchema": true,
              "removedWidgets": [],
              "aggSchema": [],
              "schema": [
                {
                  "name": "photoID",
                  "type": "\"string\"",
                  "metadata": "{}"
                },
                {
                  "name": "personID",
                  "type": "\"string\"",
                  "metadata": "{}"
                },
                {
                  "name": "date",
                  "type": "\"date\"",
                  "metadata": "{}"
                },
                {
                  "name": "gps",
                  "type": "{\"type\":\"struct\",\"fields\":[{\"name\":\"lon\",\"type\":\"double\",\"nullable\":true,\"metadata\":{}},{\"name\":\"lat\",\"type\":\"double\",\"nullable\":true,\"metadata\":{}}]}",
                  "metadata": "{}"
                },
                {
                  "name": "note",
                  "type": "\"long\"",
                  "metadata": "{}"
                }
              ],
              "aggError": "",
              "aggData": [],
              "addedWidgets": {},
              "metadata": {},
              "dbfsResultPath": null,
              "type": "table",
              "aggOverflow": false,
              "aggSeriesLimitReached": false,
              "arguments": {}
            }
          },
          "data": {
            "text/html": [
              "<style scoped>\n  .table-result-container {\n    max-height: 300px;\n    overflow: auto;\n  }\n  table, th, td {\n    border: 1px solid black;\n    border-collapse: collapse;\n  }\n  th, td {\n    padding: 5px;\n  }\n  th {\n    text-align: left;\n  }\n</style><div class='table-result-container'><table class='table-result'><thead style='background-color: white'><tr><th>photoID</th><th>personID</th><th>date</th><th>gps</th><th>note</th></tr></thead><tbody><tr><td>p1</td><td>Bob</td><td>2020-09-03</td><td>List(41.5, 12.8)</td><td>3</td></tr><tr><td>p2</td><td>Alice</td><td>2020-09-01</td><td>List(41.6, 12.8)</td><td>5</td></tr><tr><td>p3</td><td>Bob</td><td>2020-09-04</td><td>List(41.6, 13.2)</td><td>1</td></tr><tr><td>p4</td><td>Bob</td><td>2020-09-04</td><td>List(40.1, 12.0)</td><td>2</td></tr><tr><td>p5</td><td>Alice</td><td>2020-09-04</td><td>List(40.1, 12.0)</td><td>2</td></tr><tr><td>p6</td><td>Alice</td><td>2020-09-05</td><td>List(41.6, 12.7)</td><td>4</td></tr><tr><td>p7</td><td>Alice</td><td>2020-10-05</td><td>List(41.8, 12.8)</td><td>4</td></tr><tr><td>p8</td><td>Carole</td><td>2019-12-25</td><td>List(30.1, 10.1)</td><td>2</td></tr><tr><td>p9</td><td>David</td><td>2019-12-25</td><td>List(30.1, 10.1)</td><td>1</td></tr><tr><td>p10</td><td>Eva</td><td>2019-12-25</td><td>List(30.1, 10.1)</td><td>5</td></tr><tr><td>p11</td><td>Eva</td><td>2019-12-26</td><td>List(31.1, 10.1)</td><td>3</td></tr><tr><td>p12</td><td>Alice</td><td>2020-02-01</td><td>List(32.1, 12.1)</td><td>3</td></tr><tr><td>p13</td><td>Bob</td><td>2020-02-01</td><td>List(32.1, 12.1)</td><td>5</td></tr><tr><td>p14</td><td>Carole</td><td>2020-02-01</td><td>List(32.1, 12.1)</td><td>2</td></tr><tr><td>p15</td><td>Carole</td><td>2019-11-11</td><td>List(49.1, 10.1)</td><td>1</td></tr><tr><td>p16</td><td>Alice</td><td>2019-12-25</td><td>List(30.1, 10.1)</td><td>4</td></tr><tr><td>p17</td><td>Alice</td><td>2020-02-02</td><td>List(49.1, 10.1)</td><td>5</td></tr></tbody></table></div>"
            ]
          }
        }
      ]
    },
    {
      "cell_type": "code",
      "metadata": {
        "application/vnd.databricks.v1+cell": {
          "title": "",
          "showTitle": false,
          "inputWidgets": {},
          "nuid": "6ad400b6-c52e-4241-b83f-7770a58a8494"
        },
        "id": "JgEOIF4ncQry",
        "outputId": "6c0a1e13-1b95-4f05-b640-209850878b92"
      },
      "source": [
        "%sql\n",
        "create or replace temp view PlaceGPS as\n",
        "select (p.lon, p.lat) as gps, p.ville, p.pays\n",
        "from Place p;\n",
        "\n",
        "select *\n",
        "from PlaceGPS;"
      ],
      "execution_count": null,
      "outputs": [
        {
          "output_type": "display_data",
          "metadata": {
            "application/vnd.databricks.v1+output": {
              "overflow": false,
              "datasetInfos": [],
              "data": [
                [
                  [
                    41.5,
                    12.8
                  ],
                  "Aix",
                  "France"
                ],
                [
                  [
                    41.6,
                    12.8
                  ],
                  "Aix",
                  "France"
                ],
                [
                  [
                    41.6,
                    12.7
                  ],
                  "Nice",
                  "France"
                ],
                [
                  [
                    41.8,
                    12.8
                  ],
                  "Marseille",
                  "France"
                ],
                [
                  [
                    41.6,
                    13.2
                  ],
                  "Rome",
                  "Italie"
                ],
                [
                  [
                    40.1,
                    12
                  ],
                  "Oslo",
                  "Norvege"
                ],
                [
                  [
                    30.1,
                    10.1
                  ],
                  "Paris",
                  "France"
                ],
                [
                  [
                    31.1,
                    10.1
                  ],
                  "StDenis",
                  "France"
                ],
                [
                  [
                    32.1,
                    12.1
                  ],
                  "Lille",
                  "France"
                ],
                [
                  [
                    49.1,
                    10.1
                  ],
                  "Pau",
                  "France"
                ]
              ],
              "plotOptions": {
                "displayType": "table",
                "customPlotOptions": {},
                "pivotColumns": null,
                "pivotAggregation": null,
                "xColumns": null,
                "yColumns": null
              },
              "columnCustomDisplayInfos": {},
              "aggType": "",
              "isJsonSchema": true,
              "removedWidgets": [],
              "aggSchema": [],
              "schema": [
                {
                  "name": "gps",
                  "type": "{\"type\":\"struct\",\"fields\":[{\"name\":\"lon\",\"type\":\"double\",\"nullable\":true,\"metadata\":{}},{\"name\":\"lat\",\"type\":\"double\",\"nullable\":true,\"metadata\":{}}]}",
                  "metadata": "{}"
                },
                {
                  "name": "ville",
                  "type": "\"string\"",
                  "metadata": "{}"
                },
                {
                  "name": "pays",
                  "type": "\"string\"",
                  "metadata": "{}"
                }
              ],
              "aggError": "",
              "aggData": [],
              "addedWidgets": {},
              "metadata": {},
              "dbfsResultPath": null,
              "type": "table",
              "aggOverflow": false,
              "aggSeriesLimitReached": false,
              "arguments": {}
            }
          },
          "data": {
            "text/html": [
              "<style scoped>\n  .table-result-container {\n    max-height: 300px;\n    overflow: auto;\n  }\n  table, th, td {\n    border: 1px solid black;\n    border-collapse: collapse;\n  }\n  th, td {\n    padding: 5px;\n  }\n  th {\n    text-align: left;\n  }\n</style><div class='table-result-container'><table class='table-result'><thead style='background-color: white'><tr><th>gps</th><th>ville</th><th>pays</th></tr></thead><tbody><tr><td>List(41.5, 12.8)</td><td>Aix</td><td>France</td></tr><tr><td>List(41.6, 12.8)</td><td>Aix</td><td>France</td></tr><tr><td>List(41.6, 12.7)</td><td>Nice</td><td>France</td></tr><tr><td>List(41.8, 12.8)</td><td>Marseille</td><td>France</td></tr><tr><td>List(41.6, 13.2)</td><td>Rome</td><td>Italie</td></tr><tr><td>List(40.1, 12.0)</td><td>Oslo</td><td>Norvege</td></tr><tr><td>List(30.1, 10.1)</td><td>Paris</td><td>France</td></tr><tr><td>List(31.1, 10.1)</td><td>StDenis</td><td>France</td></tr><tr><td>List(32.1, 12.1)</td><td>Lille</td><td>France</td></tr><tr><td>List(49.1, 10.1)</td><td>Pau</td><td>France</td></tr></tbody></table></div>"
            ]
          }
        }
      ]
    },
    {
      "cell_type": "markdown",
      "metadata": {
        "application/vnd.databricks.v1+cell": {
          "title": "",
          "showTitle": false,
          "inputWidgets": {},
          "nuid": "b25d5795-adf8-4006-bdd9-01e1bac687dd"
        },
        "id": "ieCr9lGHcQry"
      },
      "source": [
        "Le nombre de Visites par lieu (_ie._, position GPS), ville et pays"
      ]
    },
    {
      "cell_type": "code",
      "metadata": {
        "application/vnd.databricks.v1+cell": {
          "title": "",
          "showTitle": false,
          "inputWidgets": {},
          "nuid": "e974929a-dbb0-4efc-a0a7-203130a0f4c3"
        },
        "id": "NnTKzQHBcQry",
        "outputId": "4972ba94-225e-4bc5-af77-82ce1f29f10f"
      },
      "source": [
        "%sql\n",
        "select p.pays, p.ville, v.gps, count(*) as nb_visite\n",
        "from VisiteGPS v, PlaceGPS p\n",
        "where v.gps = p.gps\n",
        "group by rollup( p.pays, p.ville, v.gps )\n",
        "order by pays, ville, gps"
      ],
      "execution_count": null,
      "outputs": [
        {
          "output_type": "display_data",
          "metadata": {
            "application/vnd.databricks.v1+output": {
              "overflow": false,
              "datasetInfos": [],
              "data": [
                [
                  null,
                  null,
                  null,
                  17
                ],
                [
                  "France",
                  null,
                  null,
                  14
                ],
                [
                  "France",
                  "Aix",
                  null,
                  2
                ],
                [
                  "France",
                  "Aix",
                  [
                    41.5,
                    12.8
                  ],
                  1
                ],
                [
                  "France",
                  "Aix",
                  [
                    41.6,
                    12.8
                  ],
                  1
                ],
                [
                  "France",
                  "Lille",
                  null,
                  3
                ],
                [
                  "France",
                  "Lille",
                  [
                    32.1,
                    12.1
                  ],
                  3
                ],
                [
                  "France",
                  "Marseille",
                  null,
                  1
                ],
                [
                  "France",
                  "Marseille",
                  [
                    41.8,
                    12.8
                  ],
                  1
                ],
                [
                  "France",
                  "Nice",
                  null,
                  1
                ],
                [
                  "France",
                  "Nice",
                  [
                    41.6,
                    12.7
                  ],
                  1
                ],
                [
                  "France",
                  "Paris",
                  null,
                  4
                ],
                [
                  "France",
                  "Paris",
                  [
                    30.1,
                    10.1
                  ],
                  4
                ],
                [
                  "France",
                  "Pau",
                  null,
                  2
                ],
                [
                  "France",
                  "Pau",
                  [
                    49.1,
                    10.1
                  ],
                  2
                ],
                [
                  "France",
                  "StDenis",
                  null,
                  1
                ],
                [
                  "France",
                  "StDenis",
                  [
                    31.1,
                    10.1
                  ],
                  1
                ],
                [
                  "Italie",
                  null,
                  null,
                  1
                ],
                [
                  "Italie",
                  "Rome",
                  null,
                  1
                ],
                [
                  "Italie",
                  "Rome",
                  [
                    41.6,
                    13.2
                  ],
                  1
                ],
                [
                  "Norvege",
                  null,
                  null,
                  2
                ],
                [
                  "Norvege",
                  "Oslo",
                  null,
                  2
                ],
                [
                  "Norvege",
                  "Oslo",
                  [
                    40.1,
                    12
                  ],
                  2
                ]
              ],
              "plotOptions": {
                "displayType": "table",
                "customPlotOptions": {},
                "pivotColumns": null,
                "pivotAggregation": null,
                "xColumns": null,
                "yColumns": null
              },
              "columnCustomDisplayInfos": {},
              "aggType": "",
              "isJsonSchema": true,
              "removedWidgets": [],
              "aggSchema": [],
              "schema": [
                {
                  "name": "pays",
                  "type": "\"string\"",
                  "metadata": "{}"
                },
                {
                  "name": "ville",
                  "type": "\"string\"",
                  "metadata": "{}"
                },
                {
                  "name": "gps",
                  "type": "{\"type\":\"struct\",\"fields\":[{\"name\":\"lon\",\"type\":\"double\",\"nullable\":true,\"metadata\":{}},{\"name\":\"lat\",\"type\":\"double\",\"nullable\":true,\"metadata\":{}}]}",
                  "metadata": "{}"
                },
                {
                  "name": "nb_visite",
                  "type": "\"long\"",
                  "metadata": "{}"
                }
              ],
              "aggError": "",
              "aggData": [],
              "addedWidgets": {},
              "metadata": {},
              "dbfsResultPath": null,
              "type": "table",
              "aggOverflow": false,
              "aggSeriesLimitReached": false,
              "arguments": {}
            }
          },
          "data": {
            "text/html": [
              "<style scoped>\n  .table-result-container {\n    max-height: 300px;\n    overflow: auto;\n  }\n  table, th, td {\n    border: 1px solid black;\n    border-collapse: collapse;\n  }\n  th, td {\n    padding: 5px;\n  }\n  th {\n    text-align: left;\n  }\n</style><div class='table-result-container'><table class='table-result'><thead style='background-color: white'><tr><th>pays</th><th>ville</th><th>gps</th><th>nb_visite</th></tr></thead><tbody><tr><td>null</td><td>null</td><td>null</td><td>17</td></tr><tr><td>France</td><td>null</td><td>null</td><td>14</td></tr><tr><td>France</td><td>Aix</td><td>null</td><td>2</td></tr><tr><td>France</td><td>Aix</td><td>List(41.5, 12.8)</td><td>1</td></tr><tr><td>France</td><td>Aix</td><td>List(41.6, 12.8)</td><td>1</td></tr><tr><td>France</td><td>Lille</td><td>null</td><td>3</td></tr><tr><td>France</td><td>Lille</td><td>List(32.1, 12.1)</td><td>3</td></tr><tr><td>France</td><td>Marseille</td><td>null</td><td>1</td></tr><tr><td>France</td><td>Marseille</td><td>List(41.8, 12.8)</td><td>1</td></tr><tr><td>France</td><td>Nice</td><td>null</td><td>1</td></tr><tr><td>France</td><td>Nice</td><td>List(41.6, 12.7)</td><td>1</td></tr><tr><td>France</td><td>Paris</td><td>null</td><td>4</td></tr><tr><td>France</td><td>Paris</td><td>List(30.1, 10.1)</td><td>4</td></tr><tr><td>France</td><td>Pau</td><td>null</td><td>2</td></tr><tr><td>France</td><td>Pau</td><td>List(49.1, 10.1)</td><td>2</td></tr><tr><td>France</td><td>StDenis</td><td>null</td><td>1</td></tr><tr><td>France</td><td>StDenis</td><td>List(31.1, 10.1)</td><td>1</td></tr><tr><td>Italie</td><td>null</td><td>null</td><td>1</td></tr><tr><td>Italie</td><td>Rome</td><td>null</td><td>1</td></tr><tr><td>Italie</td><td>Rome</td><td>List(41.6, 13.2)</td><td>1</td></tr><tr><td>Norvege</td><td>null</td><td>null</td><td>2</td></tr><tr><td>Norvege</td><td>Oslo</td><td>null</td><td>2</td></tr><tr><td>Norvege</td><td>Oslo</td><td>List(40.1, 12.0)</td><td>2</td></tr></tbody></table></div>"
            ]
          }
        }
      ]
    },
    {
      "cell_type": "markdown",
      "metadata": {
        "application/vnd.databricks.v1+cell": {
          "title": "",
          "showTitle": false,
          "inputWidgets": {},
          "nuid": "58bbec5d-e7da-4add-a217-8ce993d15565"
        },
        "id": "xvFF8nAIcQry"
      },
      "source": [
        "### L'opération GROUP BY CUBE et manipulation d'un cube\n",
        "Rassembler les agrégations des Visites sur l'année, la profession, et le pays. \n",
        "On appelle le résultat : Cube1"
      ]
    },
    {
      "cell_type": "code",
      "metadata": {
        "application/vnd.databricks.v1+cell": {
          "title": "",
          "showTitle": false,
          "inputWidgets": {},
          "nuid": "247e7937-a11f-4e00-82f4-920138255242"
        },
        "id": "xPLlnAOIcQry",
        "outputId": "7690bb69-0570-405c-c17e-5e628bc76505"
      },
      "source": [
        "%sql\n",
        "create or replace temporary view Cube1 as\n",
        "select annee, pays, profession, round(avg(note), 1) as noteMoyenne, count(*) as nbVisite\n",
        "from VisitesDetail\n",
        "group by cube (annee, pays, profession)\n",
        "order by annee, pays, profession;\n",
        "\n",
        "cache table Cube1;\n",
        "\n",
        "select *\n",
        "from Cube1;"
      ],
      "execution_count": null,
      "outputs": [
        {
          "output_type": "display_data",
          "metadata": {
            "application/vnd.databricks.v1+output": {
              "overflow": false,
              "datasetInfos": [],
              "data": [
                [
                  null,
                  null,
                  null,
                  3.1,
                  17
                ],
                [
                  null,
                  null,
                  "Architecte",
                  3.5,
                  8
                ],
                [
                  null,
                  null,
                  "Data science",
                  2.3,
                  7
                ],
                [
                  null,
                  null,
                  "Vendeuse",
                  4,
                  2
                ],
                [
                  null,
                  "France",
                  null,
                  3.4,
                  14
                ],
                [
                  null,
                  "France",
                  "Architecte",
                  3.7,
                  7
                ],
                [
                  null,
                  "France",
                  "Data science",
                  2.6,
                  5
                ],
                [
                  null,
                  "France",
                  "Vendeuse",
                  4,
                  2
                ],
                [
                  null,
                  "Italie",
                  null,
                  1,
                  1
                ],
                [
                  null,
                  "Italie",
                  "Data science",
                  1,
                  1
                ],
                [
                  null,
                  "Norvege",
                  null,
                  2,
                  2
                ],
                [
                  null,
                  "Norvege",
                  "Architecte",
                  2,
                  1
                ],
                [
                  null,
                  "Norvege",
                  "Data science",
                  2,
                  1
                ],
                [
                  2019,
                  null,
                  null,
                  2.7,
                  6
                ],
                [
                  2019,
                  null,
                  "Architecte",
                  2.5,
                  2
                ],
                [
                  2019,
                  null,
                  "Data science",
                  1.5,
                  2
                ],
                [
                  2019,
                  null,
                  "Vendeuse",
                  4,
                  2
                ],
                [
                  2019,
                  "France",
                  null,
                  2.7,
                  6
                ],
                [
                  2019,
                  "France",
                  "Architecte",
                  2.5,
                  2
                ],
                [
                  2019,
                  "France",
                  "Data science",
                  1.5,
                  2
                ],
                [
                  2019,
                  "France",
                  "Vendeuse",
                  4,
                  2
                ],
                [
                  2020,
                  null,
                  null,
                  3.3,
                  11
                ],
                [
                  2020,
                  null,
                  "Architecte",
                  3.8,
                  6
                ],
                [
                  2020,
                  null,
                  "Data science",
                  2.6,
                  5
                ],
                [
                  2020,
                  "France",
                  null,
                  3.9,
                  8
                ],
                [
                  2020,
                  "France",
                  "Architecte",
                  4.2,
                  5
                ],
                [
                  2020,
                  "France",
                  "Data science",
                  3.3,
                  3
                ],
                [
                  2020,
                  "Italie",
                  null,
                  1,
                  1
                ],
                [
                  2020,
                  "Italie",
                  "Data science",
                  1,
                  1
                ],
                [
                  2020,
                  "Norvege",
                  null,
                  2,
                  2
                ],
                [
                  2020,
                  "Norvege",
                  "Architecte",
                  2,
                  1
                ],
                [
                  2020,
                  "Norvege",
                  "Data science",
                  2,
                  1
                ]
              ],
              "plotOptions": {
                "displayType": "table",
                "customPlotOptions": {},
                "pivotColumns": null,
                "pivotAggregation": null,
                "xColumns": null,
                "yColumns": null
              },
              "columnCustomDisplayInfos": {},
              "aggType": "",
              "isJsonSchema": true,
              "removedWidgets": [],
              "aggSchema": [],
              "schema": [
                {
                  "name": "annee",
                  "type": "\"integer\"",
                  "metadata": "{}"
                },
                {
                  "name": "pays",
                  "type": "\"string\"",
                  "metadata": "{}"
                },
                {
                  "name": "profession",
                  "type": "\"string\"",
                  "metadata": "{}"
                },
                {
                  "name": "noteMoyenne",
                  "type": "\"double\"",
                  "metadata": "{}"
                },
                {
                  "name": "nbVisite",
                  "type": "\"long\"",
                  "metadata": "{}"
                }
              ],
              "aggError": "",
              "aggData": [],
              "addedWidgets": {},
              "metadata": {},
              "dbfsResultPath": null,
              "type": "table",
              "aggOverflow": false,
              "aggSeriesLimitReached": false,
              "arguments": {}
            }
          },
          "data": {
            "text/html": [
              "<style scoped>\n  .table-result-container {\n    max-height: 300px;\n    overflow: auto;\n  }\n  table, th, td {\n    border: 1px solid black;\n    border-collapse: collapse;\n  }\n  th, td {\n    padding: 5px;\n  }\n  th {\n    text-align: left;\n  }\n</style><div class='table-result-container'><table class='table-result'><thead style='background-color: white'><tr><th>annee</th><th>pays</th><th>profession</th><th>noteMoyenne</th><th>nbVisite</th></tr></thead><tbody><tr><td>null</td><td>null</td><td>null</td><td>3.1</td><td>17</td></tr><tr><td>null</td><td>null</td><td>Architecte</td><td>3.5</td><td>8</td></tr><tr><td>null</td><td>null</td><td>Data science</td><td>2.3</td><td>7</td></tr><tr><td>null</td><td>null</td><td>Vendeuse</td><td>4.0</td><td>2</td></tr><tr><td>null</td><td>France</td><td>null</td><td>3.4</td><td>14</td></tr><tr><td>null</td><td>France</td><td>Architecte</td><td>3.7</td><td>7</td></tr><tr><td>null</td><td>France</td><td>Data science</td><td>2.6</td><td>5</td></tr><tr><td>null</td><td>France</td><td>Vendeuse</td><td>4.0</td><td>2</td></tr><tr><td>null</td><td>Italie</td><td>null</td><td>1.0</td><td>1</td></tr><tr><td>null</td><td>Italie</td><td>Data science</td><td>1.0</td><td>1</td></tr><tr><td>null</td><td>Norvege</td><td>null</td><td>2.0</td><td>2</td></tr><tr><td>null</td><td>Norvege</td><td>Architecte</td><td>2.0</td><td>1</td></tr><tr><td>null</td><td>Norvege</td><td>Data science</td><td>2.0</td><td>1</td></tr><tr><td>2019</td><td>null</td><td>null</td><td>2.7</td><td>6</td></tr><tr><td>2019</td><td>null</td><td>Architecte</td><td>2.5</td><td>2</td></tr><tr><td>2019</td><td>null</td><td>Data science</td><td>1.5</td><td>2</td></tr><tr><td>2019</td><td>null</td><td>Vendeuse</td><td>4.0</td><td>2</td></tr><tr><td>2019</td><td>France</td><td>null</td><td>2.7</td><td>6</td></tr><tr><td>2019</td><td>France</td><td>Architecte</td><td>2.5</td><td>2</td></tr><tr><td>2019</td><td>France</td><td>Data science</td><td>1.5</td><td>2</td></tr><tr><td>2019</td><td>France</td><td>Vendeuse</td><td>4.0</td><td>2</td></tr><tr><td>2020</td><td>null</td><td>null</td><td>3.3</td><td>11</td></tr><tr><td>2020</td><td>null</td><td>Architecte</td><td>3.8</td><td>6</td></tr><tr><td>2020</td><td>null</td><td>Data science</td><td>2.6</td><td>5</td></tr><tr><td>2020</td><td>France</td><td>null</td><td>3.9</td><td>8</td></tr><tr><td>2020</td><td>France</td><td>Architecte</td><td>4.2</td><td>5</td></tr><tr><td>2020</td><td>France</td><td>Data science</td><td>3.3</td><td>3</td></tr><tr><td>2020</td><td>Italie</td><td>null</td><td>1.0</td><td>1</td></tr><tr><td>2020</td><td>Italie</td><td>Data science</td><td>1.0</td><td>1</td></tr><tr><td>2020</td><td>Norvege</td><td>null</td><td>2.0</td><td>2</td></tr><tr><td>2020</td><td>Norvege</td><td>Architecte</td><td>2.0</td><td>1</td></tr><tr><td>2020</td><td>Norvege</td><td>Data science</td><td>2.0</td><td>1</td></tr></tbody></table></div>"
            ]
          }
        }
      ]
    },
    {
      "cell_type": "markdown",
      "metadata": {
        "application/vnd.databricks.v1+cell": {
          "title": "",
          "showTitle": false,
          "inputWidgets": {},
          "nuid": "7ec92a08-0537-4d33-b3a7-d344c362c22e"
        },
        "id": "uuPh2IYBcQry"
      },
      "source": [
        "Projection agrégative : sélectionner certaines dimensions du cube"
      ]
    },
    {
      "cell_type": "markdown",
      "metadata": {
        "application/vnd.databricks.v1+cell": {
          "title": "",
          "showTitle": false,
          "inputWidgets": {},
          "nuid": "e7c60798-589c-4890-86f3-c195140013f1"
        },
        "id": "XupUV2zwcQry"
      },
      "source": [
        "projeter sur la dimension profession"
      ]
    },
    {
      "cell_type": "code",
      "metadata": {
        "application/vnd.databricks.v1+cell": {
          "title": "",
          "showTitle": false,
          "inputWidgets": {},
          "nuid": "47c3b243-4887-4b60-8bc0-a5b7ee388274"
        },
        "id": "zVuR2uYTcQry",
        "outputId": "c82cf5e2-0e0d-4582-caac-0b4cda059097"
      },
      "source": [
        "%sql\n",
        "select profession, notemoyenne, nbVisite \n",
        "from Cube1\n",
        "where profession is not null\n",
        "and pays is null\n",
        "and annee is null"
      ],
      "execution_count": null,
      "outputs": [
        {
          "output_type": "display_data",
          "metadata": {
            "application/vnd.databricks.v1+output": {
              "overflow": false,
              "datasetInfos": [],
              "data": [
                [
                  "Architecte",
                  3.5,
                  8
                ],
                [
                  "Data science",
                  2.3,
                  7
                ],
                [
                  "Vendeuse",
                  4,
                  2
                ]
              ],
              "plotOptions": {
                "displayType": "table",
                "customPlotOptions": {},
                "pivotColumns": null,
                "pivotAggregation": null,
                "xColumns": null,
                "yColumns": null
              },
              "columnCustomDisplayInfos": {},
              "aggType": "",
              "isJsonSchema": true,
              "removedWidgets": [],
              "aggSchema": [],
              "schema": [
                {
                  "name": "profession",
                  "type": "\"string\"",
                  "metadata": "{}"
                },
                {
                  "name": "notemoyenne",
                  "type": "\"double\"",
                  "metadata": "{}"
                },
                {
                  "name": "nbVisite",
                  "type": "\"long\"",
                  "metadata": "{}"
                }
              ],
              "aggError": "",
              "aggData": [],
              "addedWidgets": {},
              "metadata": {},
              "dbfsResultPath": null,
              "type": "table",
              "aggOverflow": false,
              "aggSeriesLimitReached": false,
              "arguments": {}
            }
          },
          "data": {
            "text/html": [
              "<style scoped>\n  .table-result-container {\n    max-height: 300px;\n    overflow: auto;\n  }\n  table, th, td {\n    border: 1px solid black;\n    border-collapse: collapse;\n  }\n  th, td {\n    padding: 5px;\n  }\n  th {\n    text-align: left;\n  }\n</style><div class='table-result-container'><table class='table-result'><thead style='background-color: white'><tr><th>profession</th><th>notemoyenne</th><th>nbVisite</th></tr></thead><tbody><tr><td>Architecte</td><td>3.5</td><td>8</td></tr><tr><td>Data science</td><td>2.3</td><td>7</td></tr><tr><td>Vendeuse</td><td>4.0</td><td>2</td></tr></tbody></table></div>"
            ]
          }
        }
      ]
    },
    {
      "cell_type": "markdown",
      "metadata": {
        "application/vnd.databricks.v1+cell": {
          "title": "",
          "showTitle": false,
          "inputWidgets": {},
          "nuid": "d7f4010f-52b8-49a7-87e3-604e50c77d04"
        },
        "id": "ZprVcqaVcQrz"
      },
      "source": [
        "projeter sur les dimensions profession et pays"
      ]
    },
    {
      "cell_type": "code",
      "metadata": {
        "application/vnd.databricks.v1+cell": {
          "title": "",
          "showTitle": false,
          "inputWidgets": {},
          "nuid": "6b6bc384-e941-4ecf-a7e2-6531f07b45a5"
        },
        "id": "fUNtbs4lcQrz",
        "outputId": "af4550da-a7a6-4e98-87be-9277ce62da58"
      },
      "source": [
        "%sql\n",
        "select profession, pays, notemoyenne, nbVisite \n",
        "from Cube1 c\n",
        "where profession is not null\n",
        "and pays is not null\n",
        "and annee is null\n",
        "order by profession, pays"
      ],
      "execution_count": null,
      "outputs": [
        {
          "output_type": "display_data",
          "metadata": {
            "application/vnd.databricks.v1+output": {
              "overflow": false,
              "datasetInfos": [],
              "data": [
                [
                  "Architecte",
                  "France",
                  3.7,
                  7
                ],
                [
                  "Architecte",
                  "Norvege",
                  2,
                  1
                ],
                [
                  "Data science",
                  "France",
                  2.6,
                  5
                ],
                [
                  "Data science",
                  "Italie",
                  1,
                  1
                ],
                [
                  "Data science",
                  "Norvege",
                  2,
                  1
                ],
                [
                  "Vendeuse",
                  "France",
                  4,
                  2
                ]
              ],
              "plotOptions": {
                "displayType": "table",
                "customPlotOptions": {},
                "pivotColumns": null,
                "pivotAggregation": null,
                "xColumns": null,
                "yColumns": null
              },
              "columnCustomDisplayInfos": {},
              "aggType": "",
              "isJsonSchema": true,
              "removedWidgets": [],
              "aggSchema": [],
              "schema": [
                {
                  "name": "profession",
                  "type": "\"string\"",
                  "metadata": "{}"
                },
                {
                  "name": "pays",
                  "type": "\"string\"",
                  "metadata": "{}"
                },
                {
                  "name": "notemoyenne",
                  "type": "\"double\"",
                  "metadata": "{}"
                },
                {
                  "name": "nbVisite",
                  "type": "\"long\"",
                  "metadata": "{}"
                }
              ],
              "aggError": "",
              "aggData": [],
              "addedWidgets": {},
              "metadata": {},
              "dbfsResultPath": null,
              "type": "table",
              "aggOverflow": false,
              "aggSeriesLimitReached": false,
              "arguments": {}
            }
          },
          "data": {
            "text/html": [
              "<style scoped>\n  .table-result-container {\n    max-height: 300px;\n    overflow: auto;\n  }\n  table, th, td {\n    border: 1px solid black;\n    border-collapse: collapse;\n  }\n  th, td {\n    padding: 5px;\n  }\n  th {\n    text-align: left;\n  }\n</style><div class='table-result-container'><table class='table-result'><thead style='background-color: white'><tr><th>profession</th><th>pays</th><th>notemoyenne</th><th>nbVisite</th></tr></thead><tbody><tr><td>Architecte</td><td>France</td><td>3.7</td><td>7</td></tr><tr><td>Architecte</td><td>Norvege</td><td>2.0</td><td>1</td></tr><tr><td>Data science</td><td>France</td><td>2.6</td><td>5</td></tr><tr><td>Data science</td><td>Italie</td><td>1.0</td><td>1</td></tr><tr><td>Data science</td><td>Norvege</td><td>2.0</td><td>1</td></tr><tr><td>Vendeuse</td><td>France</td><td>4.0</td><td>2</td></tr></tbody></table></div>"
            ]
          }
        }
      ]
    },
    {
      "cell_type": "markdown",
      "metadata": {
        "application/vnd.databricks.v1+cell": {
          "title": "",
          "showTitle": false,
          "inputWidgets": {},
          "nuid": "6f4e0539-ff5f-4aca-b916-66bf891bf843"
        },
        "id": "1qoka72TcQrz"
      },
      "source": [
        "Opération **Dice** : critère de sélection sur la mesure"
      ]
    },
    {
      "cell_type": "code",
      "metadata": {
        "application/vnd.databricks.v1+cell": {
          "title": "",
          "showTitle": false,
          "inputWidgets": {},
          "nuid": "2fbe7b9f-f8dc-405e-a618-bd476e2b425f"
        },
        "id": "z7i_jhoMcQrz",
        "outputId": "4a878d2c-12d0-4fde-b1ed-c9e1b0a810fd"
      },
      "source": [
        "%sql\n",
        "select * \n",
        "from Cube1\n",
        "where noteMoyenne >=3.5 and nbVisite < 8"
      ],
      "execution_count": null,
      "outputs": [
        {
          "output_type": "display_data",
          "metadata": {
            "application/vnd.databricks.v1+output": {
              "overflow": false,
              "datasetInfos": [],
              "data": [
                [
                  null,
                  null,
                  "Vendeuse",
                  4,
                  2
                ],
                [
                  null,
                  "France",
                  "Architecte",
                  3.7,
                  7
                ],
                [
                  null,
                  "France",
                  "Vendeuse",
                  4,
                  2
                ],
                [
                  2019,
                  null,
                  "Vendeuse",
                  4,
                  2
                ],
                [
                  2019,
                  "France",
                  "Vendeuse",
                  4,
                  2
                ],
                [
                  2020,
                  null,
                  "Architecte",
                  3.8,
                  6
                ],
                [
                  2020,
                  "France",
                  "Architecte",
                  4.2,
                  5
                ]
              ],
              "plotOptions": {
                "displayType": "table",
                "customPlotOptions": {},
                "pivotColumns": null,
                "pivotAggregation": null,
                "xColumns": null,
                "yColumns": null
              },
              "columnCustomDisplayInfos": {},
              "aggType": "",
              "isJsonSchema": true,
              "removedWidgets": [],
              "aggSchema": [],
              "schema": [
                {
                  "name": "annee",
                  "type": "\"integer\"",
                  "metadata": "{}"
                },
                {
                  "name": "pays",
                  "type": "\"string\"",
                  "metadata": "{}"
                },
                {
                  "name": "profession",
                  "type": "\"string\"",
                  "metadata": "{}"
                },
                {
                  "name": "noteMoyenne",
                  "type": "\"double\"",
                  "metadata": "{}"
                },
                {
                  "name": "nbVisite",
                  "type": "\"long\"",
                  "metadata": "{}"
                }
              ],
              "aggError": "",
              "aggData": [],
              "addedWidgets": {},
              "metadata": {},
              "dbfsResultPath": null,
              "type": "table",
              "aggOverflow": false,
              "aggSeriesLimitReached": false,
              "arguments": {}
            }
          },
          "data": {
            "text/html": [
              "<style scoped>\n  .table-result-container {\n    max-height: 300px;\n    overflow: auto;\n  }\n  table, th, td {\n    border: 1px solid black;\n    border-collapse: collapse;\n  }\n  th, td {\n    padding: 5px;\n  }\n  th {\n    text-align: left;\n  }\n</style><div class='table-result-container'><table class='table-result'><thead style='background-color: white'><tr><th>annee</th><th>pays</th><th>profession</th><th>noteMoyenne</th><th>nbVisite</th></tr></thead><tbody><tr><td>null</td><td>null</td><td>Vendeuse</td><td>4.0</td><td>2</td></tr><tr><td>null</td><td>France</td><td>Architecte</td><td>3.7</td><td>7</td></tr><tr><td>null</td><td>France</td><td>Vendeuse</td><td>4.0</td><td>2</td></tr><tr><td>2019</td><td>null</td><td>Vendeuse</td><td>4.0</td><td>2</td></tr><tr><td>2019</td><td>France</td><td>Vendeuse</td><td>4.0</td><td>2</td></tr><tr><td>2020</td><td>null</td><td>Architecte</td><td>3.8</td><td>6</td></tr><tr><td>2020</td><td>France</td><td>Architecte</td><td>4.2</td><td>5</td></tr></tbody></table></div>"
            ]
          }
        }
      ]
    },
    {
      "cell_type": "markdown",
      "metadata": {
        "application/vnd.databricks.v1+cell": {
          "title": "",
          "showTitle": false,
          "inputWidgets": {},
          "nuid": "c76722f7-f0a5-4fcf-b7d0-5cb55a8ed23e"
        },
        "id": "CyQO1jHRcQrz"
      },
      "source": [
        "Opération **Slice**: critère de sélection sur des dimensions"
      ]
    },
    {
      "cell_type": "code",
      "metadata": {
        "application/vnd.databricks.v1+cell": {
          "title": "",
          "showTitle": false,
          "inputWidgets": {},
          "nuid": "23e7a8ec-c65e-4919-8890-2b2d688d5c7f"
        },
        "id": "2RsPPVRpcQrz",
        "outputId": "0f7e6214-6f10-4f32-ee4c-49272c848fdb"
      },
      "source": [
        "%sql\n",
        "select *\n",
        "from Cube1\n",
        "where pays in ('Norvege', 'France')\n",
        "and annee > 2018"
      ],
      "execution_count": null,
      "outputs": [
        {
          "output_type": "display_data",
          "metadata": {
            "application/vnd.databricks.v1+output": {
              "overflow": false,
              "datasetInfos": [],
              "data": [
                [
                  2019,
                  "France",
                  null,
                  2.7,
                  6
                ],
                [
                  2019,
                  "France",
                  "Architecte",
                  2.5,
                  2
                ],
                [
                  2019,
                  "France",
                  "Data science",
                  1.5,
                  2
                ],
                [
                  2019,
                  "France",
                  "Vendeuse",
                  4,
                  2
                ],
                [
                  2020,
                  "France",
                  null,
                  3.9,
                  8
                ],
                [
                  2020,
                  "France",
                  "Architecte",
                  4.2,
                  5
                ],
                [
                  2020,
                  "France",
                  "Data science",
                  3.3,
                  3
                ],
                [
                  2020,
                  "Norvege",
                  null,
                  2,
                  2
                ],
                [
                  2020,
                  "Norvege",
                  "Architecte",
                  2,
                  1
                ],
                [
                  2020,
                  "Norvege",
                  "Data science",
                  2,
                  1
                ]
              ],
              "plotOptions": {
                "displayType": "table",
                "customPlotOptions": {},
                "pivotColumns": null,
                "pivotAggregation": null,
                "xColumns": null,
                "yColumns": null
              },
              "columnCustomDisplayInfos": {},
              "aggType": "",
              "isJsonSchema": true,
              "removedWidgets": [],
              "aggSchema": [],
              "schema": [
                {
                  "name": "annee",
                  "type": "\"integer\"",
                  "metadata": "{}"
                },
                {
                  "name": "pays",
                  "type": "\"string\"",
                  "metadata": "{}"
                },
                {
                  "name": "profession",
                  "type": "\"string\"",
                  "metadata": "{}"
                },
                {
                  "name": "noteMoyenne",
                  "type": "\"double\"",
                  "metadata": "{}"
                },
                {
                  "name": "nbVisite",
                  "type": "\"long\"",
                  "metadata": "{}"
                }
              ],
              "aggError": "",
              "aggData": [],
              "addedWidgets": {},
              "metadata": {},
              "dbfsResultPath": null,
              "type": "table",
              "aggOverflow": false,
              "aggSeriesLimitReached": false,
              "arguments": {}
            }
          },
          "data": {
            "text/html": [
              "<style scoped>\n  .table-result-container {\n    max-height: 300px;\n    overflow: auto;\n  }\n  table, th, td {\n    border: 1px solid black;\n    border-collapse: collapse;\n  }\n  th, td {\n    padding: 5px;\n  }\n  th {\n    text-align: left;\n  }\n</style><div class='table-result-container'><table class='table-result'><thead style='background-color: white'><tr><th>annee</th><th>pays</th><th>profession</th><th>noteMoyenne</th><th>nbVisite</th></tr></thead><tbody><tr><td>2019</td><td>France</td><td>null</td><td>2.7</td><td>6</td></tr><tr><td>2019</td><td>France</td><td>Architecte</td><td>2.5</td><td>2</td></tr><tr><td>2019</td><td>France</td><td>Data science</td><td>1.5</td><td>2</td></tr><tr><td>2019</td><td>France</td><td>Vendeuse</td><td>4.0</td><td>2</td></tr><tr><td>2020</td><td>France</td><td>null</td><td>3.9</td><td>8</td></tr><tr><td>2020</td><td>France</td><td>Architecte</td><td>4.2</td><td>5</td></tr><tr><td>2020</td><td>France</td><td>Data science</td><td>3.3</td><td>3</td></tr><tr><td>2020</td><td>Norvege</td><td>null</td><td>2.0</td><td>2</td></tr><tr><td>2020</td><td>Norvege</td><td>Architecte</td><td>2.0</td><td>1</td></tr><tr><td>2020</td><td>Norvege</td><td>Data science</td><td>2.0</td><td>1</td></tr></tbody></table></div>"
            ]
          }
        }
      ]
    },
    {
      "cell_type": "markdown",
      "metadata": {
        "application/vnd.databricks.v1+cell": {
          "title": "",
          "showTitle": false,
          "inputWidgets": {},
          "nuid": "59dd616e-3716-48dd-a966-466792a6da10"
        },
        "id": "xm_XYoZOcQrz"
      },
      "source": [
        "### Requêtes avec fonctions de fenêtrage"
      ]
    },
    {
      "cell_type": "markdown",
      "metadata": {
        "application/vnd.databricks.v1+cell": {
          "title": "",
          "showTitle": false,
          "inputWidgets": {},
          "nuid": "ecaa1730-2a80-44bc-90a8-30f8631081c2"
        },
        "id": "OpOASjqKcQrz"
      },
      "source": [
        "#### Requete avec fenêtre de taille croissante"
      ]
    },
    {
      "cell_type": "markdown",
      "metadata": {
        "application/vnd.databricks.v1+cell": {
          "title": "",
          "showTitle": false,
          "inputWidgets": {},
          "nuid": "d27225a8-f354-46d5-bb4f-a56243b21ee6"
        },
        "id": "gWfAdPXEcQrz"
      },
      "source": [
        "Numéroter les tuples"
      ]
    },
    {
      "cell_type": "code",
      "metadata": {
        "application/vnd.databricks.v1+cell": {
          "title": "",
          "showTitle": false,
          "inputWidgets": {},
          "nuid": "364d54c7-327a-47a7-913e-f3825fefdb2a"
        },
        "id": "QPGEmE71cQrz",
        "outputId": "169ddef9-1314-4275-81c6-7a6c8c55f761"
      },
      "source": [
        "%sql\n",
        "select v.personId, v.photoId, v.note, \n",
        "       row_number() over (order by personId, photoId) as numeroPhoto\n",
        "from Visite v"
      ],
      "execution_count": null,
      "outputs": [
        {
          "output_type": "display_data",
          "metadata": {
            "application/vnd.databricks.v1+output": {
              "overflow": false,
              "datasetInfos": [],
              "data": [
                [
                  "Alice",
                  "p12",
                  3,
                  1
                ],
                [
                  "Alice",
                  "p16",
                  4,
                  2
                ],
                [
                  "Alice",
                  "p17",
                  5,
                  3
                ],
                [
                  "Alice",
                  "p2",
                  5,
                  4
                ],
                [
                  "Alice",
                  "p5",
                  2,
                  5
                ],
                [
                  "Alice",
                  "p6",
                  4,
                  6
                ],
                [
                  "Alice",
                  "p7",
                  4,
                  7
                ],
                [
                  "Bob",
                  "p1",
                  3,
                  8
                ],
                [
                  "Bob",
                  "p13",
                  5,
                  9
                ],
                [
                  "Bob",
                  "p3",
                  1,
                  10
                ],
                [
                  "Bob",
                  "p4",
                  2,
                  11
                ],
                [
                  "Carole",
                  "p14",
                  2,
                  12
                ],
                [
                  "Carole",
                  "p15",
                  1,
                  13
                ],
                [
                  "Carole",
                  "p8",
                  2,
                  14
                ],
                [
                  "David",
                  "p9",
                  1,
                  15
                ],
                [
                  "Eva",
                  "p10",
                  5,
                  16
                ],
                [
                  "Eva",
                  "p11",
                  3,
                  17
                ]
              ],
              "plotOptions": {
                "displayType": "table",
                "customPlotOptions": {},
                "pivotColumns": null,
                "pivotAggregation": null,
                "xColumns": null,
                "yColumns": null
              },
              "columnCustomDisplayInfos": {},
              "aggType": "",
              "isJsonSchema": true,
              "removedWidgets": [],
              "aggSchema": [],
              "schema": [
                {
                  "name": "personId",
                  "type": "\"string\"",
                  "metadata": "{}"
                },
                {
                  "name": "photoId",
                  "type": "\"string\"",
                  "metadata": "{}"
                },
                {
                  "name": "note",
                  "type": "\"long\"",
                  "metadata": "{}"
                },
                {
                  "name": "numeroPhoto",
                  "type": "\"integer\"",
                  "metadata": "{}"
                }
              ],
              "aggError": "",
              "aggData": [],
              "addedWidgets": {},
              "metadata": {},
              "dbfsResultPath": null,
              "type": "table",
              "aggOverflow": false,
              "aggSeriesLimitReached": false,
              "arguments": {}
            }
          },
          "data": {
            "text/html": [
              "<style scoped>\n  .table-result-container {\n    max-height: 300px;\n    overflow: auto;\n  }\n  table, th, td {\n    border: 1px solid black;\n    border-collapse: collapse;\n  }\n  th, td {\n    padding: 5px;\n  }\n  th {\n    text-align: left;\n  }\n</style><div class='table-result-container'><table class='table-result'><thead style='background-color: white'><tr><th>personId</th><th>photoId</th><th>note</th><th>numeroPhoto</th></tr></thead><tbody><tr><td>Alice</td><td>p12</td><td>3</td><td>1</td></tr><tr><td>Alice</td><td>p16</td><td>4</td><td>2</td></tr><tr><td>Alice</td><td>p17</td><td>5</td><td>3</td></tr><tr><td>Alice</td><td>p2</td><td>5</td><td>4</td></tr><tr><td>Alice</td><td>p5</td><td>2</td><td>5</td></tr><tr><td>Alice</td><td>p6</td><td>4</td><td>6</td></tr><tr><td>Alice</td><td>p7</td><td>4</td><td>7</td></tr><tr><td>Bob</td><td>p1</td><td>3</td><td>8</td></tr><tr><td>Bob</td><td>p13</td><td>5</td><td>9</td></tr><tr><td>Bob</td><td>p3</td><td>1</td><td>10</td></tr><tr><td>Bob</td><td>p4</td><td>2</td><td>11</td></tr><tr><td>Carole</td><td>p14</td><td>2</td><td>12</td></tr><tr><td>Carole</td><td>p15</td><td>1</td><td>13</td></tr><tr><td>Carole</td><td>p8</td><td>2</td><td>14</td></tr><tr><td>David</td><td>p9</td><td>1</td><td>15</td></tr><tr><td>Eva</td><td>p10</td><td>5</td><td>16</td></tr><tr><td>Eva</td><td>p11</td><td>3</td><td>17</td></tr></tbody></table></div>"
            ]
          }
        }
      ]
    },
    {
      "cell_type": "markdown",
      "metadata": {
        "application/vnd.databricks.v1+cell": {
          "title": "",
          "showTitle": false,
          "inputWidgets": {},
          "nuid": "17df6aa3-514b-402f-b3d9-8634b3b7506b"
        },
        "id": "zgzP6dM2cQrz"
      },
      "source": [
        "Classement des visites par note décroissantes"
      ]
    },
    {
      "cell_type": "code",
      "metadata": {
        "application/vnd.databricks.v1+cell": {
          "title": "",
          "showTitle": false,
          "inputWidgets": {},
          "nuid": "353c0cee-0b7d-464d-968a-141160df527c"
        },
        "id": "Ws_lp8-YcQrz",
        "outputId": "ed725bbe-3cc2-463c-8ecd-7db11b668e4e"
      },
      "source": [
        "%sql\n",
        "select v.personId, v.photoId, v.note, rank() over (order by note desc) as rang\n",
        "from Visite v"
      ],
      "execution_count": null,
      "outputs": [
        {
          "output_type": "display_data",
          "metadata": {
            "application/vnd.databricks.v1+output": {
              "overflow": false,
              "datasetInfos": [],
              "data": [
                [
                  "Alice",
                  "p2",
                  5,
                  1
                ],
                [
                  "Eva",
                  "p10",
                  5,
                  1
                ],
                [
                  "Bob",
                  "p13",
                  5,
                  1
                ],
                [
                  "Alice",
                  "p17",
                  5,
                  1
                ],
                [
                  "Alice",
                  "p6",
                  4,
                  5
                ],
                [
                  "Alice",
                  "p7",
                  4,
                  5
                ],
                [
                  "Alice",
                  "p16",
                  4,
                  5
                ],
                [
                  "Bob",
                  "p1",
                  3,
                  8
                ],
                [
                  "Eva",
                  "p11",
                  3,
                  8
                ],
                [
                  "Alice",
                  "p12",
                  3,
                  8
                ],
                [
                  "Bob",
                  "p4",
                  2,
                  11
                ],
                [
                  "Alice",
                  "p5",
                  2,
                  11
                ],
                [
                  "Carole",
                  "p8",
                  2,
                  11
                ],
                [
                  "Carole",
                  "p14",
                  2,
                  11
                ],
                [
                  "Bob",
                  "p3",
                  1,
                  15
                ],
                [
                  "David",
                  "p9",
                  1,
                  15
                ],
                [
                  "Carole",
                  "p15",
                  1,
                  15
                ]
              ],
              "plotOptions": {
                "displayType": "table",
                "customPlotOptions": {},
                "pivotColumns": null,
                "pivotAggregation": null,
                "xColumns": null,
                "yColumns": null
              },
              "columnCustomDisplayInfos": {},
              "aggType": "",
              "isJsonSchema": true,
              "removedWidgets": [],
              "aggSchema": [],
              "schema": [
                {
                  "name": "personId",
                  "type": "\"string\"",
                  "metadata": "{}"
                },
                {
                  "name": "photoId",
                  "type": "\"string\"",
                  "metadata": "{}"
                },
                {
                  "name": "note",
                  "type": "\"long\"",
                  "metadata": "{}"
                },
                {
                  "name": "rang",
                  "type": "\"integer\"",
                  "metadata": "{}"
                }
              ],
              "aggError": "",
              "aggData": [],
              "addedWidgets": {},
              "metadata": {},
              "dbfsResultPath": null,
              "type": "table",
              "aggOverflow": false,
              "aggSeriesLimitReached": false,
              "arguments": {}
            }
          },
          "data": {
            "text/html": [
              "<style scoped>\n  .table-result-container {\n    max-height: 300px;\n    overflow: auto;\n  }\n  table, th, td {\n    border: 1px solid black;\n    border-collapse: collapse;\n  }\n  th, td {\n    padding: 5px;\n  }\n  th {\n    text-align: left;\n  }\n</style><div class='table-result-container'><table class='table-result'><thead style='background-color: white'><tr><th>personId</th><th>photoId</th><th>note</th><th>rang</th></tr></thead><tbody><tr><td>Alice</td><td>p2</td><td>5</td><td>1</td></tr><tr><td>Eva</td><td>p10</td><td>5</td><td>1</td></tr><tr><td>Bob</td><td>p13</td><td>5</td><td>1</td></tr><tr><td>Alice</td><td>p17</td><td>5</td><td>1</td></tr><tr><td>Alice</td><td>p6</td><td>4</td><td>5</td></tr><tr><td>Alice</td><td>p7</td><td>4</td><td>5</td></tr><tr><td>Alice</td><td>p16</td><td>4</td><td>5</td></tr><tr><td>Bob</td><td>p1</td><td>3</td><td>8</td></tr><tr><td>Eva</td><td>p11</td><td>3</td><td>8</td></tr><tr><td>Alice</td><td>p12</td><td>3</td><td>8</td></tr><tr><td>Bob</td><td>p4</td><td>2</td><td>11</td></tr><tr><td>Alice</td><td>p5</td><td>2</td><td>11</td></tr><tr><td>Carole</td><td>p8</td><td>2</td><td>11</td></tr><tr><td>Carole</td><td>p14</td><td>2</td><td>11</td></tr><tr><td>Bob</td><td>p3</td><td>1</td><td>15</td></tr><tr><td>David</td><td>p9</td><td>1</td><td>15</td></tr><tr><td>Carole</td><td>p15</td><td>1</td><td>15</td></tr></tbody></table></div>"
            ]
          }
        }
      ]
    },
    {
      "cell_type": "markdown",
      "metadata": {
        "application/vnd.databricks.v1+cell": {
          "title": "",
          "showTitle": false,
          "inputWidgets": {},
          "nuid": "f9416d33-3c17-47ce-b90c-5bf7d5ea7614"
        },
        "id": "nwMEgXvkcQrz"
      },
      "source": [
        "###### top K\n",
        " Le top 5 des Visites avec les meilleures notes.\n",
        "Il peut y avoir plus de k visites dans le résultat à cause des ex aequos."
      ]
    },
    {
      "cell_type": "code",
      "metadata": {
        "application/vnd.databricks.v1+cell": {
          "title": "",
          "showTitle": false,
          "inputWidgets": {},
          "nuid": "37aecd19-4f41-4850-bbbf-1194b1d17fec"
        },
        "id": "yrL0qpCvcQrz",
        "outputId": "bb358656-f800-4cb9-9494-b8ef0fd9e439"
      },
      "source": [
        "%sql \n",
        "With Classement as (\n",
        "Select v.personId, v.photoId, v.note, rank() over (order by note desc) as rang\n",
        "From Visite v\n",
        ")\n",
        "Select * from Classement \n",
        "where rang <=5\n",
        "order by rang"
      ],
      "execution_count": null,
      "outputs": [
        {
          "output_type": "display_data",
          "metadata": {
            "application/vnd.databricks.v1+output": {
              "overflow": false,
              "datasetInfos": [],
              "data": [
                [
                  "Alice",
                  "p2",
                  5,
                  1
                ],
                [
                  "Alice",
                  "p17",
                  5,
                  1
                ],
                [
                  "Eva",
                  "p10",
                  5,
                  1
                ],
                [
                  "Bob",
                  "p13",
                  5,
                  1
                ],
                [
                  "Alice",
                  "p6",
                  4,
                  5
                ],
                [
                  "Alice",
                  "p7",
                  4,
                  5
                ],
                [
                  "Alice",
                  "p16",
                  4,
                  5
                ]
              ],
              "plotOptions": {
                "displayType": "table",
                "customPlotOptions": {},
                "pivotColumns": null,
                "pivotAggregation": null,
                "xColumns": null,
                "yColumns": null
              },
              "columnCustomDisplayInfos": {},
              "aggType": "",
              "isJsonSchema": true,
              "removedWidgets": [],
              "aggSchema": [],
              "schema": [
                {
                  "name": "personId",
                  "type": "\"string\"",
                  "metadata": "{}"
                },
                {
                  "name": "photoId",
                  "type": "\"string\"",
                  "metadata": "{}"
                },
                {
                  "name": "note",
                  "type": "\"long\"",
                  "metadata": "{}"
                },
                {
                  "name": "rang",
                  "type": "\"integer\"",
                  "metadata": "{}"
                }
              ],
              "aggError": "",
              "aggData": [],
              "addedWidgets": {},
              "metadata": {},
              "dbfsResultPath": null,
              "type": "table",
              "aggOverflow": false,
              "aggSeriesLimitReached": false,
              "arguments": {}
            }
          },
          "data": {
            "text/html": [
              "<style scoped>\n  .table-result-container {\n    max-height: 300px;\n    overflow: auto;\n  }\n  table, th, td {\n    border: 1px solid black;\n    border-collapse: collapse;\n  }\n  th, td {\n    padding: 5px;\n  }\n  th {\n    text-align: left;\n  }\n</style><div class='table-result-container'><table class='table-result'><thead style='background-color: white'><tr><th>personId</th><th>photoId</th><th>note</th><th>rang</th></tr></thead><tbody><tr><td>Alice</td><td>p2</td><td>5</td><td>1</td></tr><tr><td>Alice</td><td>p17</td><td>5</td><td>1</td></tr><tr><td>Eva</td><td>p10</td><td>5</td><td>1</td></tr><tr><td>Bob</td><td>p13</td><td>5</td><td>1</td></tr><tr><td>Alice</td><td>p6</td><td>4</td><td>5</td></tr><tr><td>Alice</td><td>p7</td><td>4</td><td>5</td></tr><tr><td>Alice</td><td>p16</td><td>4</td><td>5</td></tr></tbody></table></div>"
            ]
          }
        }
      ]
    },
    {
      "cell_type": "markdown",
      "metadata": {
        "application/vnd.databricks.v1+cell": {
          "title": "",
          "showTitle": false,
          "inputWidgets": {},
          "nuid": "7d22417c-d089-403c-aed7-2fd6fc45558e"
        },
        "id": "ODw0-6LycQrz"
      },
      "source": [
        "Classement dense"
      ]
    },
    {
      "cell_type": "code",
      "metadata": {
        "application/vnd.databricks.v1+cell": {
          "title": "",
          "showTitle": false,
          "inputWidgets": {},
          "nuid": "abc6af23-f9a2-492a-b710-03fcf97a956d"
        },
        "id": "b4bPm57ucQrz",
        "outputId": "14893b9d-8f89-4acd-bfdc-342d52a90216"
      },
      "source": [
        "%sql\n",
        "select v.personId, v.photoId, v.note, dense_rank() over (order by note desc) as rang_dense\n",
        "from Visite v"
      ],
      "execution_count": null,
      "outputs": [
        {
          "output_type": "display_data",
          "metadata": {
            "application/vnd.databricks.v1+output": {
              "overflow": false,
              "datasetInfos": [],
              "data": [
                [
                  "Alice",
                  "p2",
                  5,
                  1
                ],
                [
                  "Eva",
                  "p10",
                  5,
                  1
                ],
                [
                  "Bob",
                  "p13",
                  5,
                  1
                ],
                [
                  "Alice",
                  "p17",
                  5,
                  1
                ],
                [
                  "Alice",
                  "p6",
                  4,
                  2
                ],
                [
                  "Alice",
                  "p7",
                  4,
                  2
                ],
                [
                  "Alice",
                  "p16",
                  4,
                  2
                ],
                [
                  "Bob",
                  "p1",
                  3,
                  3
                ],
                [
                  "Eva",
                  "p11",
                  3,
                  3
                ],
                [
                  "Alice",
                  "p12",
                  3,
                  3
                ],
                [
                  "Bob",
                  "p4",
                  2,
                  4
                ],
                [
                  "Alice",
                  "p5",
                  2,
                  4
                ],
                [
                  "Carole",
                  "p8",
                  2,
                  4
                ],
                [
                  "Carole",
                  "p14",
                  2,
                  4
                ],
                [
                  "Bob",
                  "p3",
                  1,
                  5
                ],
                [
                  "David",
                  "p9",
                  1,
                  5
                ],
                [
                  "Carole",
                  "p15",
                  1,
                  5
                ]
              ],
              "plotOptions": {
                "displayType": "table",
                "customPlotOptions": {},
                "pivotColumns": null,
                "pivotAggregation": null,
                "xColumns": null,
                "yColumns": null
              },
              "columnCustomDisplayInfos": {},
              "aggType": "",
              "isJsonSchema": true,
              "removedWidgets": [],
              "aggSchema": [],
              "schema": [
                {
                  "name": "personId",
                  "type": "\"string\"",
                  "metadata": "{}"
                },
                {
                  "name": "photoId",
                  "type": "\"string\"",
                  "metadata": "{}"
                },
                {
                  "name": "note",
                  "type": "\"long\"",
                  "metadata": "{}"
                },
                {
                  "name": "rang_dense",
                  "type": "\"integer\"",
                  "metadata": "{}"
                }
              ],
              "aggError": "",
              "aggData": [],
              "addedWidgets": {},
              "metadata": {},
              "dbfsResultPath": null,
              "type": "table",
              "aggOverflow": false,
              "aggSeriesLimitReached": false,
              "arguments": {}
            }
          },
          "data": {
            "text/html": [
              "<style scoped>\n  .table-result-container {\n    max-height: 300px;\n    overflow: auto;\n  }\n  table, th, td {\n    border: 1px solid black;\n    border-collapse: collapse;\n  }\n  th, td {\n    padding: 5px;\n  }\n  th {\n    text-align: left;\n  }\n</style><div class='table-result-container'><table class='table-result'><thead style='background-color: white'><tr><th>personId</th><th>photoId</th><th>note</th><th>rang_dense</th></tr></thead><tbody><tr><td>Alice</td><td>p2</td><td>5</td><td>1</td></tr><tr><td>Eva</td><td>p10</td><td>5</td><td>1</td></tr><tr><td>Bob</td><td>p13</td><td>5</td><td>1</td></tr><tr><td>Alice</td><td>p17</td><td>5</td><td>1</td></tr><tr><td>Alice</td><td>p6</td><td>4</td><td>2</td></tr><tr><td>Alice</td><td>p7</td><td>4</td><td>2</td></tr><tr><td>Alice</td><td>p16</td><td>4</td><td>2</td></tr><tr><td>Bob</td><td>p1</td><td>3</td><td>3</td></tr><tr><td>Eva</td><td>p11</td><td>3</td><td>3</td></tr><tr><td>Alice</td><td>p12</td><td>3</td><td>3</td></tr><tr><td>Bob</td><td>p4</td><td>2</td><td>4</td></tr><tr><td>Alice</td><td>p5</td><td>2</td><td>4</td></tr><tr><td>Carole</td><td>p8</td><td>2</td><td>4</td></tr><tr><td>Carole</td><td>p14</td><td>2</td><td>4</td></tr><tr><td>Bob</td><td>p3</td><td>1</td><td>5</td></tr><tr><td>David</td><td>p9</td><td>1</td><td>5</td></tr><tr><td>Carole</td><td>p15</td><td>1</td><td>5</td></tr></tbody></table></div>"
            ]
          }
        }
      ]
    },
    {
      "cell_type": "markdown",
      "metadata": {
        "application/vnd.databricks.v1+cell": {
          "title": "",
          "showTitle": false,
          "inputWidgets": {},
          "nuid": "9a5a8fcc-1e8a-4995-9b5b-c8264100630b"
        },
        "id": "MSzighpxcQrz"
      },
      "source": [
        "#### Fenêtrage et partitionnement : Partition by"
      ]
    },
    {
      "cell_type": "markdown",
      "metadata": {
        "application/vnd.databricks.v1+cell": {
          "title": "",
          "showTitle": false,
          "inputWidgets": {},
          "nuid": "4e670afd-8a81-4840-b084-cf7bddaf6080"
        },
        "id": "MLZtHrR_cQrz"
      },
      "source": [
        "##### Partition by \n",
        "Une partition est définie par un sous-ensemble des attributs projetés dans le select.\n",
        "\n",
        "Une fenêtre par partition."
      ]
    },
    {
      "cell_type": "markdown",
      "metadata": {
        "application/vnd.databricks.v1+cell": {
          "title": "",
          "showTitle": false,
          "inputWidgets": {},
          "nuid": "66539dcc-65f5-4475-ba39-57683a6ac21d"
        },
        "id": "4DWtJDn7cQr0"
      },
      "source": [
        "Le classement **par ville** des visites les mieux notées"
      ]
    },
    {
      "cell_type": "code",
      "metadata": {
        "application/vnd.databricks.v1+cell": {
          "title": "",
          "showTitle": false,
          "inputWidgets": {},
          "nuid": "53858cf3-6612-4c0d-ba69-a54ce47defe9"
        },
        "id": "zrNkjaaccQr0",
        "outputId": "669a20c0-7442-401a-c598-54531ad943c1"
      },
      "source": [
        "%sql\n",
        "SELECT v.photoId, v.personID, v.ville, \n",
        "       rank() OVER( PARTITION BY ville order by note) as rang\n",
        "FROM VisitesDetail v\n",
        "order by ville, rang"
      ],
      "execution_count": null,
      "outputs": [
        {
          "output_type": "display_data",
          "metadata": {
            "application/vnd.databricks.v1+output": {
              "overflow": false,
              "datasetInfos": [],
              "data": [
                [
                  "p1",
                  "Bob",
                  "Aix",
                  1
                ],
                [
                  "p2",
                  "Alice",
                  "Aix",
                  2
                ],
                [
                  "p14",
                  "Carole",
                  "Lille",
                  1
                ],
                [
                  "p12",
                  "Alice",
                  "Lille",
                  2
                ],
                [
                  "p13",
                  "Bob",
                  "Lille",
                  3
                ],
                [
                  "p7",
                  "Alice",
                  "Marseille",
                  1
                ],
                [
                  "p6",
                  "Alice",
                  "Nice",
                  1
                ],
                [
                  "p4",
                  "Bob",
                  "Oslo",
                  1
                ],
                [
                  "p5",
                  "Alice",
                  "Oslo",
                  1
                ],
                [
                  "p9",
                  "David",
                  "Paris",
                  1
                ],
                [
                  "p8",
                  "Carole",
                  "Paris",
                  2
                ],
                [
                  "p16",
                  "Alice",
                  "Paris",
                  3
                ],
                [
                  "p10",
                  "Eva",
                  "Paris",
                  4
                ],
                [
                  "p15",
                  "Carole",
                  "Pau",
                  1
                ],
                [
                  "p17",
                  "Alice",
                  "Pau",
                  2
                ],
                [
                  "p3",
                  "Bob",
                  "Rome",
                  1
                ],
                [
                  "p11",
                  "Eva",
                  "StDenis",
                  1
                ]
              ],
              "plotOptions": {
                "displayType": "table",
                "customPlotOptions": {},
                "pivotColumns": null,
                "pivotAggregation": null,
                "xColumns": null,
                "yColumns": null
              },
              "columnCustomDisplayInfos": {},
              "aggType": "",
              "isJsonSchema": true,
              "removedWidgets": [],
              "aggSchema": [],
              "schema": [
                {
                  "name": "photoId",
                  "type": "\"string\"",
                  "metadata": "{}"
                },
                {
                  "name": "personID",
                  "type": "\"string\"",
                  "metadata": "{}"
                },
                {
                  "name": "ville",
                  "type": "\"string\"",
                  "metadata": "{}"
                },
                {
                  "name": "rang",
                  "type": "\"integer\"",
                  "metadata": "{}"
                }
              ],
              "aggError": "",
              "aggData": [],
              "addedWidgets": {},
              "metadata": {},
              "dbfsResultPath": null,
              "type": "table",
              "aggOverflow": false,
              "aggSeriesLimitReached": false,
              "arguments": {}
            }
          },
          "data": {
            "text/html": [
              "<style scoped>\n  .table-result-container {\n    max-height: 300px;\n    overflow: auto;\n  }\n  table, th, td {\n    border: 1px solid black;\n    border-collapse: collapse;\n  }\n  th, td {\n    padding: 5px;\n  }\n  th {\n    text-align: left;\n  }\n</style><div class='table-result-container'><table class='table-result'><thead style='background-color: white'><tr><th>photoId</th><th>personID</th><th>ville</th><th>rang</th></tr></thead><tbody><tr><td>p1</td><td>Bob</td><td>Aix</td><td>1</td></tr><tr><td>p2</td><td>Alice</td><td>Aix</td><td>2</td></tr><tr><td>p14</td><td>Carole</td><td>Lille</td><td>1</td></tr><tr><td>p12</td><td>Alice</td><td>Lille</td><td>2</td></tr><tr><td>p13</td><td>Bob</td><td>Lille</td><td>3</td></tr><tr><td>p7</td><td>Alice</td><td>Marseille</td><td>1</td></tr><tr><td>p6</td><td>Alice</td><td>Nice</td><td>1</td></tr><tr><td>p4</td><td>Bob</td><td>Oslo</td><td>1</td></tr><tr><td>p5</td><td>Alice</td><td>Oslo</td><td>1</td></tr><tr><td>p9</td><td>David</td><td>Paris</td><td>1</td></tr><tr><td>p8</td><td>Carole</td><td>Paris</td><td>2</td></tr><tr><td>p16</td><td>Alice</td><td>Paris</td><td>3</td></tr><tr><td>p10</td><td>Eva</td><td>Paris</td><td>4</td></tr><tr><td>p15</td><td>Carole</td><td>Pau</td><td>1</td></tr><tr><td>p17</td><td>Alice</td><td>Pau</td><td>2</td></tr><tr><td>p3</td><td>Bob</td><td>Rome</td><td>1</td></tr><tr><td>p11</td><td>Eva</td><td>StDenis</td><td>1</td></tr></tbody></table></div>"
            ]
          }
        }
      ]
    },
    {
      "cell_type": "markdown",
      "metadata": {
        "application/vnd.databricks.v1+cell": {
          "title": "",
          "showTitle": false,
          "inputWidgets": {},
          "nuid": "397a00d6-17f4-400b-b4a9-112fb672bd83"
        },
        "id": "vKa4mnWQcQr0"
      },
      "source": [
        "Le classement **par pays**  des villes ayant de plus de visites"
      ]
    },
    {
      "cell_type": "code",
      "metadata": {
        "application/vnd.databricks.v1+cell": {
          "title": "",
          "showTitle": false,
          "inputWidgets": {},
          "nuid": "2f5ec3ef-7bf0-445d-834c-948c23ee19f7"
        },
        "id": "6n5CSshMcQr0",
        "outputId": "3972800c-bef6-4af7-aa7c-ec7590164706"
      },
      "source": [
        "%sql \n",
        "Select pays, ville, count(*) as nbVisite, \n",
        "       rank() over (partition by pays order by count(*) desc) as rang\n",
        "From VisitesDetail v\n",
        "Group by pays, ville\n",
        "Order by pays, rang"
      ],
      "execution_count": null,
      "outputs": [
        {
          "output_type": "display_data",
          "metadata": {
            "application/vnd.databricks.v1+output": {
              "overflow": false,
              "datasetInfos": [],
              "data": [
                [
                  "France",
                  "Paris",
                  4,
                  1
                ],
                [
                  "France",
                  "Lille",
                  3,
                  2
                ],
                [
                  "France",
                  "Pau",
                  2,
                  3
                ],
                [
                  "France",
                  "Aix",
                  2,
                  3
                ],
                [
                  "France",
                  "Marseille",
                  1,
                  5
                ],
                [
                  "France",
                  "Nice",
                  1,
                  5
                ],
                [
                  "France",
                  "StDenis",
                  1,
                  5
                ],
                [
                  "Italie",
                  "Rome",
                  1,
                  1
                ],
                [
                  "Norvege",
                  "Oslo",
                  2,
                  1
                ]
              ],
              "plotOptions": {
                "displayType": "table",
                "customPlotOptions": {},
                "pivotColumns": null,
                "pivotAggregation": null,
                "xColumns": null,
                "yColumns": null
              },
              "columnCustomDisplayInfos": {},
              "aggType": "",
              "isJsonSchema": true,
              "removedWidgets": [],
              "aggSchema": [],
              "schema": [
                {
                  "name": "pays",
                  "type": "\"string\"",
                  "metadata": "{}"
                },
                {
                  "name": "ville",
                  "type": "\"string\"",
                  "metadata": "{}"
                },
                {
                  "name": "nbVisite",
                  "type": "\"long\"",
                  "metadata": "{}"
                },
                {
                  "name": "rang",
                  "type": "\"integer\"",
                  "metadata": "{}"
                }
              ],
              "aggError": "",
              "aggData": [],
              "addedWidgets": {},
              "metadata": {},
              "dbfsResultPath": null,
              "type": "table",
              "aggOverflow": false,
              "aggSeriesLimitReached": false,
              "arguments": {}
            }
          },
          "data": {
            "text/html": [
              "<style scoped>\n  .table-result-container {\n    max-height: 300px;\n    overflow: auto;\n  }\n  table, th, td {\n    border: 1px solid black;\n    border-collapse: collapse;\n  }\n  th, td {\n    padding: 5px;\n  }\n  th {\n    text-align: left;\n  }\n</style><div class='table-result-container'><table class='table-result'><thead style='background-color: white'><tr><th>pays</th><th>ville</th><th>nbVisite</th><th>rang</th></tr></thead><tbody><tr><td>France</td><td>Paris</td><td>4</td><td>1</td></tr><tr><td>France</td><td>Lille</td><td>3</td><td>2</td></tr><tr><td>France</td><td>Pau</td><td>2</td><td>3</td></tr><tr><td>France</td><td>Aix</td><td>2</td><td>3</td></tr><tr><td>France</td><td>Marseille</td><td>1</td><td>5</td></tr><tr><td>France</td><td>Nice</td><td>1</td><td>5</td></tr><tr><td>France</td><td>StDenis</td><td>1</td><td>5</td></tr><tr><td>Italie</td><td>Rome</td><td>1</td><td>1</td></tr><tr><td>Norvege</td><td>Oslo</td><td>2</td><td>1</td></tr></tbody></table></div>"
            ]
          }
        }
      ]
    },
    {
      "cell_type": "markdown",
      "metadata": {
        "application/vnd.databricks.v1+cell": {
          "title": "",
          "showTitle": false,
          "inputWidgets": {},
          "nuid": "8adac0bc-f7b1-4c1d-a7b4-4990148c1afd"
        },
        "id": "qYgsFJcYcQr0"
      },
      "source": [
        "# QUESTIONS"
      ]
    },
    {
      "cell_type": "markdown",
      "metadata": {
        "application/vnd.databricks.v1+cell": {
          "title": "",
          "showTitle": false,
          "inputWidgets": {},
          "nuid": "525fb8ea-fa93-4eb8-b048-aea2592ce69c"
        },
        "id": "J0MwJY1McQr0"
      },
      "source": [
        "### Question 1 : temps écoulé\n",
        "\n",
        "Pour chaque visite de chaque personne, le temps écoulé depuis la première visite de cette personne. Exprimer le temps écoulé par un intervalle de temps résultant d'une différence entre deux dates. L'intervalle indique le nombre de mois et le nombre de jours.\n",
        "\n",
        "Le schema attendu est (photoID , personID, date, datePremiereVisiste, temps_ecoule)\n",
        "\n",
        "Astuce: commencer par compléter chaque visite avec la date de la première visite de la personne."
      ]
    },
    {
      "cell_type": "code",
      "metadata": {
        "application/vnd.databricks.v1+cell": {
          "title": "",
          "showTitle": false,
          "inputWidgets": {},
          "nuid": "6650e47d-808b-44db-9a39-635b3958b253"
        },
        "id": "BSbsV2j2cQr0",
        "outputId": "2f0cc355-6bf3-4827-dc1a-7ba69fa215c2"
      },
      "source": [
        "%sql\n",
        "with T as(\n",
        "select personID, min(date) as datePremiereVisite\n",
        "      from VisitesDetail\n",
        "      group by personID\n",
        ")\n",
        "select v.photoID, v.personID, v.ville, v.date, T.datePremiereVisite, \n",
        "cast(v.date-T.datePremiereVisite as string) as temps_ecoule,\n",
        "DATEDIFF(v.date, T.datePremiereVisite) as jour_ecoule\n",
        "from VisitesDetail v\n",
        "LEFT JOIN T ON v.personID = T.personID;"
      ],
      "execution_count": null,
      "outputs": [
        {
          "output_type": "display_data",
          "metadata": {
            "application/vnd.databricks.v1+output": {
              "overflow": false,
              "datasetInfos": [],
              "data": [
                [
                  "p1",
                  "Bob",
                  "Aix",
                  "2020-09-03",
                  "2020-02-01",
                  "7 months 2 days",
                  215
                ],
                [
                  "p2",
                  "Alice",
                  "Aix",
                  "2020-09-01",
                  "2019-12-25",
                  "8 months 7 days",
                  251
                ],
                [
                  "p3",
                  "Bob",
                  "Rome",
                  "2020-09-04",
                  "2020-02-01",
                  "7 months 3 days",
                  216
                ],
                [
                  "p4",
                  "Bob",
                  "Oslo",
                  "2020-09-04",
                  "2020-02-01",
                  "7 months 3 days",
                  216
                ],
                [
                  "p5",
                  "Alice",
                  "Oslo",
                  "2020-09-04",
                  "2019-12-25",
                  "8 months 10 days",
                  254
                ],
                [
                  "p6",
                  "Alice",
                  "Nice",
                  "2020-09-05",
                  "2019-12-25",
                  "8 months 11 days",
                  255
                ],
                [
                  "p7",
                  "Alice",
                  "Marseille",
                  "2020-10-05",
                  "2019-12-25",
                  "9 months 10 days",
                  285
                ],
                [
                  "p8",
                  "Carole",
                  "Paris",
                  "2019-12-25",
                  "2019-11-11",
                  "1 months 14 days",
                  44
                ],
                [
                  "p9",
                  "David",
                  "Paris",
                  "2019-12-25",
                  "2019-12-25",
                  "0 seconds",
                  0
                ],
                [
                  "p10",
                  "Eva",
                  "Paris",
                  "2019-12-25",
                  "2019-12-25",
                  "0 seconds",
                  0
                ],
                [
                  "p11",
                  "Eva",
                  "StDenis",
                  "2019-12-26",
                  "2019-12-25",
                  "1 days",
                  1
                ],
                [
                  "p12",
                  "Alice",
                  "Lille",
                  "2020-02-01",
                  "2019-12-25",
                  "1 months 7 days",
                  38
                ],
                [
                  "p13",
                  "Bob",
                  "Lille",
                  "2020-02-01",
                  "2020-02-01",
                  "0 seconds",
                  0
                ],
                [
                  "p14",
                  "Carole",
                  "Lille",
                  "2020-02-01",
                  "2019-11-11",
                  "2 months 21 days",
                  82
                ],
                [
                  "p15",
                  "Carole",
                  "Pau",
                  "2019-11-11",
                  "2019-11-11",
                  "0 seconds",
                  0
                ],
                [
                  "p16",
                  "Alice",
                  "Paris",
                  "2019-12-25",
                  "2019-12-25",
                  "0 seconds",
                  0
                ],
                [
                  "p17",
                  "Alice",
                  "Pau",
                  "2020-02-02",
                  "2019-12-25",
                  "1 months 8 days",
                  39
                ]
              ],
              "plotOptions": {
                "displayType": "table",
                "customPlotOptions": {},
                "pivotColumns": null,
                "pivotAggregation": null,
                "xColumns": null,
                "yColumns": null
              },
              "columnCustomDisplayInfos": {},
              "aggType": "",
              "isJsonSchema": true,
              "removedWidgets": [],
              "aggSchema": [],
              "schema": [
                {
                  "name": "photoID",
                  "type": "\"string\"",
                  "metadata": "{}"
                },
                {
                  "name": "personID",
                  "type": "\"string\"",
                  "metadata": "{}"
                },
                {
                  "name": "ville",
                  "type": "\"string\"",
                  "metadata": "{}"
                },
                {
                  "name": "date",
                  "type": "\"date\"",
                  "metadata": "{}"
                },
                {
                  "name": "datePremiereVisite",
                  "type": "\"date\"",
                  "metadata": "{}"
                },
                {
                  "name": "temps_ecoule",
                  "type": "\"string\"",
                  "metadata": "{}"
                },
                {
                  "name": "jour_ecoule",
                  "type": "\"integer\"",
                  "metadata": "{}"
                }
              ],
              "aggError": "",
              "aggData": [],
              "addedWidgets": {},
              "metadata": {},
              "dbfsResultPath": null,
              "type": "table",
              "aggOverflow": false,
              "aggSeriesLimitReached": false,
              "arguments": {}
            }
          },
          "data": {
            "text/html": [
              "<style scoped>\n  .table-result-container {\n    max-height: 300px;\n    overflow: auto;\n  }\n  table, th, td {\n    border: 1px solid black;\n    border-collapse: collapse;\n  }\n  th, td {\n    padding: 5px;\n  }\n  th {\n    text-align: left;\n  }\n</style><div class='table-result-container'><table class='table-result'><thead style='background-color: white'><tr><th>photoID</th><th>personID</th><th>ville</th><th>date</th><th>datePremiereVisite</th><th>temps_ecoule</th><th>jour_ecoule</th></tr></thead><tbody><tr><td>p1</td><td>Bob</td><td>Aix</td><td>2020-09-03</td><td>2020-02-01</td><td>7 months 2 days</td><td>215</td></tr><tr><td>p2</td><td>Alice</td><td>Aix</td><td>2020-09-01</td><td>2019-12-25</td><td>8 months 7 days</td><td>251</td></tr><tr><td>p3</td><td>Bob</td><td>Rome</td><td>2020-09-04</td><td>2020-02-01</td><td>7 months 3 days</td><td>216</td></tr><tr><td>p4</td><td>Bob</td><td>Oslo</td><td>2020-09-04</td><td>2020-02-01</td><td>7 months 3 days</td><td>216</td></tr><tr><td>p5</td><td>Alice</td><td>Oslo</td><td>2020-09-04</td><td>2019-12-25</td><td>8 months 10 days</td><td>254</td></tr><tr><td>p6</td><td>Alice</td><td>Nice</td><td>2020-09-05</td><td>2019-12-25</td><td>8 months 11 days</td><td>255</td></tr><tr><td>p7</td><td>Alice</td><td>Marseille</td><td>2020-10-05</td><td>2019-12-25</td><td>9 months 10 days</td><td>285</td></tr><tr><td>p8</td><td>Carole</td><td>Paris</td><td>2019-12-25</td><td>2019-11-11</td><td>1 months 14 days</td><td>44</td></tr><tr><td>p9</td><td>David</td><td>Paris</td><td>2019-12-25</td><td>2019-12-25</td><td>0 seconds</td><td>0</td></tr><tr><td>p10</td><td>Eva</td><td>Paris</td><td>2019-12-25</td><td>2019-12-25</td><td>0 seconds</td><td>0</td></tr><tr><td>p11</td><td>Eva</td><td>StDenis</td><td>2019-12-26</td><td>2019-12-25</td><td>1 days</td><td>1</td></tr><tr><td>p12</td><td>Alice</td><td>Lille</td><td>2020-02-01</td><td>2019-12-25</td><td>1 months 7 days</td><td>38</td></tr><tr><td>p13</td><td>Bob</td><td>Lille</td><td>2020-02-01</td><td>2020-02-01</td><td>0 seconds</td><td>0</td></tr><tr><td>p14</td><td>Carole</td><td>Lille</td><td>2020-02-01</td><td>2019-11-11</td><td>2 months 21 days</td><td>82</td></tr><tr><td>p15</td><td>Carole</td><td>Pau</td><td>2019-11-11</td><td>2019-11-11</td><td>0 seconds</td><td>0</td></tr><tr><td>p16</td><td>Alice</td><td>Paris</td><td>2019-12-25</td><td>2019-12-25</td><td>0 seconds</td><td>0</td></tr><tr><td>p17</td><td>Alice</td><td>Pau</td><td>2020-02-02</td><td>2019-12-25</td><td>1 months 8 days</td><td>39</td></tr></tbody></table></div>"
            ]
          }
        }
      ]
    },
    {
      "cell_type": "markdown",
      "metadata": {
        "application/vnd.databricks.v1+cell": {
          "title": "",
          "showTitle": false,
          "inputWidgets": {},
          "nuid": "ffd66471-dc7f-4c91-800b-133c22b11632"
        },
        "id": "KQDRusracQr0"
      },
      "source": [
        "### Question 2: Requête avec fenêtre glissante de taille fixe\n",
        "\n",
        "Pour chaque visite de chaque personne, le nombre de jours depuis la visite précédente de cette personne. \n",
        "\n",
        "Le schéma attendu est (photoID, personID, date, precedenteDate, nbJours)\n",
        "\n",
        "Astuce: penser à utiliser la fonction datediff pour comparer deux dates et obtenir un nombre de jours"
      ]
    },
    {
      "cell_type": "code",
      "metadata": {
        "application/vnd.databricks.v1+cell": {
          "title": "",
          "showTitle": false,
          "inputWidgets": {},
          "nuid": "5fdf17c0-35db-47a9-9109-355dea2aaa4a"
        },
        "id": "S8m-TD1WcQr0",
        "outputId": "36c88ff7-c68b-4028-c8e6-5538219f532b"
      },
      "source": [
        "%sql\n",
        "-- à compléter (solution dans TP2_solutions)\n",
        "create or replace temporary view Q2 as\n",
        "select v.photoID, v.personID, v.date, \n",
        "min(v.date) over (partition by PersonID order by v.date rows between 1 preceding and current row) as precedenteDate,\n",
        "datediff(v.date, min(v.date) over (partition by PersonID order by v.date rows between 1 preceding and current row)) as nbJours\n",
        "from VisitesDetail v;\n",
        "\n",
        "cache table Q2;\n",
        "\n",
        "select *\n",
        "from Q2;"
      ],
      "execution_count": null,
      "outputs": [
        {
          "output_type": "display_data",
          "metadata": {
            "application/vnd.databricks.v1+output": {
              "overflow": false,
              "datasetInfos": [],
              "data": [
                [
                  "p9",
                  "David",
                  "2019-12-25",
                  "2019-12-25",
                  0
                ],
                [
                  "p16",
                  "Alice",
                  "2019-12-25",
                  "2019-12-25",
                  0
                ],
                [
                  "p12",
                  "Alice",
                  "2020-02-01",
                  "2019-12-25",
                  38
                ],
                [
                  "p17",
                  "Alice",
                  "2020-02-02",
                  "2020-02-01",
                  1
                ],
                [
                  "p2",
                  "Alice",
                  "2020-09-01",
                  "2020-02-02",
                  212
                ],
                [
                  "p5",
                  "Alice",
                  "2020-09-04",
                  "2020-09-01",
                  3
                ],
                [
                  "p6",
                  "Alice",
                  "2020-09-05",
                  "2020-09-04",
                  1
                ],
                [
                  "p7",
                  "Alice",
                  "2020-10-05",
                  "2020-09-05",
                  30
                ],
                [
                  "p15",
                  "Carole",
                  "2019-11-11",
                  "2019-11-11",
                  0
                ],
                [
                  "p8",
                  "Carole",
                  "2019-12-25",
                  "2019-11-11",
                  44
                ],
                [
                  "p14",
                  "Carole",
                  "2020-02-01",
                  "2019-12-25",
                  38
                ],
                [
                  "p13",
                  "Bob",
                  "2020-02-01",
                  "2020-02-01",
                  0
                ],
                [
                  "p1",
                  "Bob",
                  "2020-09-03",
                  "2020-02-01",
                  215
                ],
                [
                  "p3",
                  "Bob",
                  "2020-09-04",
                  "2020-09-03",
                  1
                ],
                [
                  "p4",
                  "Bob",
                  "2020-09-04",
                  "2020-09-04",
                  0
                ],
                [
                  "p10",
                  "Eva",
                  "2019-12-25",
                  "2019-12-25",
                  0
                ],
                [
                  "p11",
                  "Eva",
                  "2019-12-26",
                  "2019-12-25",
                  1
                ]
              ],
              "plotOptions": {
                "displayType": "table",
                "customPlotOptions": {},
                "pivotColumns": null,
                "pivotAggregation": null,
                "xColumns": null,
                "yColumns": null
              },
              "columnCustomDisplayInfos": {},
              "aggType": "",
              "isJsonSchema": true,
              "removedWidgets": [],
              "aggSchema": [],
              "schema": [
                {
                  "name": "photoID",
                  "type": "\"string\"",
                  "metadata": "{}"
                },
                {
                  "name": "personID",
                  "type": "\"string\"",
                  "metadata": "{}"
                },
                {
                  "name": "date",
                  "type": "\"date\"",
                  "metadata": "{}"
                },
                {
                  "name": "precedenteDate",
                  "type": "\"date\"",
                  "metadata": "{}"
                },
                {
                  "name": "nbJours",
                  "type": "\"integer\"",
                  "metadata": "{}"
                }
              ],
              "aggError": "",
              "aggData": [],
              "addedWidgets": {},
              "metadata": {},
              "dbfsResultPath": null,
              "type": "table",
              "aggOverflow": false,
              "aggSeriesLimitReached": false,
              "arguments": {}
            }
          },
          "data": {
            "text/html": [
              "<style scoped>\n  .table-result-container {\n    max-height: 300px;\n    overflow: auto;\n  }\n  table, th, td {\n    border: 1px solid black;\n    border-collapse: collapse;\n  }\n  th, td {\n    padding: 5px;\n  }\n  th {\n    text-align: left;\n  }\n</style><div class='table-result-container'><table class='table-result'><thead style='background-color: white'><tr><th>photoID</th><th>personID</th><th>date</th><th>precedenteDate</th><th>nbJours</th></tr></thead><tbody><tr><td>p9</td><td>David</td><td>2019-12-25</td><td>2019-12-25</td><td>0</td></tr><tr><td>p16</td><td>Alice</td><td>2019-12-25</td><td>2019-12-25</td><td>0</td></tr><tr><td>p12</td><td>Alice</td><td>2020-02-01</td><td>2019-12-25</td><td>38</td></tr><tr><td>p17</td><td>Alice</td><td>2020-02-02</td><td>2020-02-01</td><td>1</td></tr><tr><td>p2</td><td>Alice</td><td>2020-09-01</td><td>2020-02-02</td><td>212</td></tr><tr><td>p5</td><td>Alice</td><td>2020-09-04</td><td>2020-09-01</td><td>3</td></tr><tr><td>p6</td><td>Alice</td><td>2020-09-05</td><td>2020-09-04</td><td>1</td></tr><tr><td>p7</td><td>Alice</td><td>2020-10-05</td><td>2020-09-05</td><td>30</td></tr><tr><td>p15</td><td>Carole</td><td>2019-11-11</td><td>2019-11-11</td><td>0</td></tr><tr><td>p8</td><td>Carole</td><td>2019-12-25</td><td>2019-11-11</td><td>44</td></tr><tr><td>p14</td><td>Carole</td><td>2020-02-01</td><td>2019-12-25</td><td>38</td></tr><tr><td>p13</td><td>Bob</td><td>2020-02-01</td><td>2020-02-01</td><td>0</td></tr><tr><td>p1</td><td>Bob</td><td>2020-09-03</td><td>2020-02-01</td><td>215</td></tr><tr><td>p3</td><td>Bob</td><td>2020-09-04</td><td>2020-09-03</td><td>1</td></tr><tr><td>p4</td><td>Bob</td><td>2020-09-04</td><td>2020-09-04</td><td>0</td></tr><tr><td>p10</td><td>Eva</td><td>2019-12-25</td><td>2019-12-25</td><td>0</td></tr><tr><td>p11</td><td>Eva</td><td>2019-12-26</td><td>2019-12-25</td><td>1</td></tr></tbody></table></div>"
            ]
          }
        }
      ]
    },
    {
      "cell_type": "markdown",
      "metadata": {
        "application/vnd.databricks.v1+cell": {
          "title": "",
          "showTitle": false,
          "inputWidgets": {},
          "nuid": "7273be18-4fdb-4733-b884-580df065eccf"
        },
        "id": "dnn8DbCscQr0"
      },
      "source": [
        "## Question 3 : Semaine glissante\n",
        "Pour chaque jour de visite de chaque personne, le nombre de visite sur 7 jours glissants.\n",
        "\n",
        "Schema (personID, date, nbVisite7jours)"
      ]
    },
    {
      "cell_type": "code",
      "metadata": {
        "application/vnd.databricks.v1+cell": {
          "title": "",
          "showTitle": false,
          "inputWidgets": {},
          "nuid": "6a6b7551-c758-492e-8c02-f379e85894a8"
        },
        "id": "1y4XDxFfcQr0",
        "outputId": "940d622d-d4a2-45ff-a0b2-bf62fa16873f"
      },
      "source": [
        "%sql\n",
        "-- à compléter (solution dans TP2_solutions)\n",
        "select v.personID, v.date, \n",
        "count(v.date) over (partition by PersonID order by v.date range between 7 preceding and current row) as nbVisite7jours\n",
        "from VisitesDetail v"
      ],
      "execution_count": null,
      "outputs": [
        {
          "output_type": "display_data",
          "metadata": {
            "application/vnd.databricks.v1+output": {
              "overflow": false,
              "datasetInfos": [],
              "data": [
                [
                  "Alice",
                  "2019-12-25",
                  1
                ],
                [
                  "Alice",
                  "2020-02-01",
                  1
                ],
                [
                  "Alice",
                  "2020-02-02",
                  2
                ],
                [
                  "Alice",
                  "2020-09-01",
                  1
                ],
                [
                  "Alice",
                  "2020-09-04",
                  2
                ],
                [
                  "Alice",
                  "2020-09-05",
                  3
                ],
                [
                  "Alice",
                  "2020-10-05",
                  1
                ],
                [
                  "Bob",
                  "2020-02-01",
                  1
                ],
                [
                  "Bob",
                  "2020-09-03",
                  1
                ],
                [
                  "Bob",
                  "2020-09-04",
                  3
                ],
                [
                  "Bob",
                  "2020-09-04",
                  3
                ],
                [
                  "Carole",
                  "2019-11-11",
                  1
                ],
                [
                  "Carole",
                  "2019-12-25",
                  1
                ],
                [
                  "Carole",
                  "2020-02-01",
                  1
                ],
                [
                  "David",
                  "2019-12-25",
                  1
                ],
                [
                  "Eva",
                  "2019-12-25",
                  1
                ],
                [
                  "Eva",
                  "2019-12-26",
                  2
                ]
              ],
              "plotOptions": {
                "displayType": "table",
                "customPlotOptions": {},
                "pivotColumns": null,
                "pivotAggregation": null,
                "xColumns": null,
                "yColumns": null
              },
              "columnCustomDisplayInfos": {},
              "aggType": "",
              "isJsonSchema": true,
              "removedWidgets": [],
              "aggSchema": [],
              "schema": [
                {
                  "name": "personID",
                  "type": "\"string\"",
                  "metadata": "{}"
                },
                {
                  "name": "date",
                  "type": "\"date\"",
                  "metadata": "{}"
                },
                {
                  "name": "nbVisite7jours",
                  "type": "\"long\"",
                  "metadata": "{}"
                }
              ],
              "aggError": "",
              "aggData": [],
              "addedWidgets": {},
              "metadata": {},
              "dbfsResultPath": null,
              "type": "table",
              "aggOverflow": false,
              "aggSeriesLimitReached": false,
              "arguments": {}
            }
          },
          "data": {
            "text/html": [
              "<style scoped>\n  .table-result-container {\n    max-height: 300px;\n    overflow: auto;\n  }\n  table, th, td {\n    border: 1px solid black;\n    border-collapse: collapse;\n  }\n  th, td {\n    padding: 5px;\n  }\n  th {\n    text-align: left;\n  }\n</style><div class='table-result-container'><table class='table-result'><thead style='background-color: white'><tr><th>personID</th><th>date</th><th>nbVisite7jours</th></tr></thead><tbody><tr><td>Alice</td><td>2019-12-25</td><td>1</td></tr><tr><td>Alice</td><td>2020-02-01</td><td>1</td></tr><tr><td>Alice</td><td>2020-02-02</td><td>2</td></tr><tr><td>Alice</td><td>2020-09-01</td><td>1</td></tr><tr><td>Alice</td><td>2020-09-04</td><td>2</td></tr><tr><td>Alice</td><td>2020-09-05</td><td>3</td></tr><tr><td>Alice</td><td>2020-10-05</td><td>1</td></tr><tr><td>Bob</td><td>2020-02-01</td><td>1</td></tr><tr><td>Bob</td><td>2020-09-03</td><td>1</td></tr><tr><td>Bob</td><td>2020-09-04</td><td>3</td></tr><tr><td>Bob</td><td>2020-09-04</td><td>3</td></tr><tr><td>Carole</td><td>2019-11-11</td><td>1</td></tr><tr><td>Carole</td><td>2019-12-25</td><td>1</td></tr><tr><td>Carole</td><td>2020-02-01</td><td>1</td></tr><tr><td>David</td><td>2019-12-25</td><td>1</td></tr><tr><td>Eva</td><td>2019-12-25</td><td>1</td></tr><tr><td>Eva</td><td>2019-12-26</td><td>2</td></tr></tbody></table></div>"
            ]
          }
        }
      ]
    },
    {
      "cell_type": "markdown",
      "metadata": {
        "application/vnd.databricks.v1+cell": {
          "title": "",
          "showTitle": false,
          "inputWidgets": {},
          "nuid": "d35bb12e-23d0-4ddf-9dd7-b0e6f7854609"
        },
        "id": "CwdjyFFrcQr0"
      },
      "source": [
        "## Question 4 : Trajets\n",
        "On veut enrichir les visites avec une information de trajet.\n",
        "Un trajet représente toutes les visites d'une personne telles que le nombre de jours entre deux visites consécutives soit inférieur à une semaine.\n",
        "\n",
        "Schema : (photoID, personID, date, nbJours, numTrajet)\n",
        "\n",
        "Astuces :\n",
        "utiliser la réponse à la question 2. La fonction if dans la clause select peut indiquer si la visite est le début du trajet suivant ou non."
      ]
    },
    {
      "cell_type": "code",
      "metadata": {
        "application/vnd.databricks.v1+cell": {
          "title": "",
          "showTitle": false,
          "inputWidgets": {},
          "nuid": "d969b954-abbe-40c0-bf54-0e8d5aced632"
        },
        "id": "5wn3xHascQr0",
        "outputId": "56d2c6a8-cede-47a9-ba3c-6290c9e09cf2"
      },
      "source": [
        "%sql\n",
        "-- à compléter (solution dans TP2_solutions)\n",
        "with T as(\n",
        "      select photoID, personID, if(nbJours>6, 1, 0) as isTrajet\n",
        "      from Q2\n",
        "      group by photoID, personID, isTrajet\n",
        ")\n",
        "\n",
        "select q.photoID, q.personID, q.date, q.nbJours, sum(T.isTrajet) over (partition by q.personID order by q.date) as numTrajet\n",
        "from Q2 q\n",
        "INNER JOIN T ON q.personID = T.personID and q.photoID=T.photoID;"
      ],
      "execution_count": null,
      "outputs": [
        {
          "output_type": "display_data",
          "metadata": {
            "application/vnd.databricks.v1+output": {
              "overflow": false,
              "datasetInfos": [],
              "data": [
                [
                  "p9",
                  "David",
                  "2019-12-25",
                  0,
                  0
                ],
                [
                  "p16",
                  "Alice",
                  "2019-12-25",
                  0,
                  0
                ],
                [
                  "p12",
                  "Alice",
                  "2020-02-01",
                  38,
                  1
                ],
                [
                  "p17",
                  "Alice",
                  "2020-02-02",
                  1,
                  1
                ],
                [
                  "p2",
                  "Alice",
                  "2020-09-01",
                  212,
                  2
                ],
                [
                  "p5",
                  "Alice",
                  "2020-09-04",
                  3,
                  2
                ],
                [
                  "p6",
                  "Alice",
                  "2020-09-05",
                  1,
                  2
                ],
                [
                  "p7",
                  "Alice",
                  "2020-10-05",
                  30,
                  3
                ],
                [
                  "p15",
                  "Carole",
                  "2019-11-11",
                  0,
                  0
                ],
                [
                  "p8",
                  "Carole",
                  "2019-12-25",
                  44,
                  1
                ],
                [
                  "p14",
                  "Carole",
                  "2020-02-01",
                  38,
                  2
                ],
                [
                  "p13",
                  "Bob",
                  "2020-02-01",
                  0,
                  0
                ],
                [
                  "p1",
                  "Bob",
                  "2020-09-03",
                  215,
                  1
                ],
                [
                  "p3",
                  "Bob",
                  "2020-09-04",
                  1,
                  1
                ],
                [
                  "p4",
                  "Bob",
                  "2020-09-04",
                  0,
                  1
                ],
                [
                  "p10",
                  "Eva",
                  "2019-12-25",
                  0,
                  0
                ],
                [
                  "p11",
                  "Eva",
                  "2019-12-26",
                  1,
                  0
                ]
              ],
              "plotOptions": {
                "displayType": "table",
                "customPlotOptions": {},
                "pivotColumns": null,
                "pivotAggregation": null,
                "xColumns": null,
                "yColumns": null
              },
              "columnCustomDisplayInfos": {},
              "aggType": "",
              "isJsonSchema": true,
              "removedWidgets": [],
              "aggSchema": [],
              "schema": [
                {
                  "name": "photoID",
                  "type": "\"string\"",
                  "metadata": "{}"
                },
                {
                  "name": "personID",
                  "type": "\"string\"",
                  "metadata": "{}"
                },
                {
                  "name": "date",
                  "type": "\"date\"",
                  "metadata": "{}"
                },
                {
                  "name": "nbJours",
                  "type": "\"integer\"",
                  "metadata": "{}"
                },
                {
                  "name": "numTrajet",
                  "type": "\"long\"",
                  "metadata": "{}"
                }
              ],
              "aggError": "",
              "aggData": [],
              "addedWidgets": {},
              "metadata": {},
              "dbfsResultPath": null,
              "type": "table",
              "aggOverflow": false,
              "aggSeriesLimitReached": false,
              "arguments": {}
            }
          },
          "data": {
            "text/html": [
              "<style scoped>\n  .table-result-container {\n    max-height: 300px;\n    overflow: auto;\n  }\n  table, th, td {\n    border: 1px solid black;\n    border-collapse: collapse;\n  }\n  th, td {\n    padding: 5px;\n  }\n  th {\n    text-align: left;\n  }\n</style><div class='table-result-container'><table class='table-result'><thead style='background-color: white'><tr><th>photoID</th><th>personID</th><th>date</th><th>nbJours</th><th>numTrajet</th></tr></thead><tbody><tr><td>p9</td><td>David</td><td>2019-12-25</td><td>0</td><td>0</td></tr><tr><td>p16</td><td>Alice</td><td>2019-12-25</td><td>0</td><td>0</td></tr><tr><td>p12</td><td>Alice</td><td>2020-02-01</td><td>38</td><td>1</td></tr><tr><td>p17</td><td>Alice</td><td>2020-02-02</td><td>1</td><td>1</td></tr><tr><td>p2</td><td>Alice</td><td>2020-09-01</td><td>212</td><td>2</td></tr><tr><td>p5</td><td>Alice</td><td>2020-09-04</td><td>3</td><td>2</td></tr><tr><td>p6</td><td>Alice</td><td>2020-09-05</td><td>1</td><td>2</td></tr><tr><td>p7</td><td>Alice</td><td>2020-10-05</td><td>30</td><td>3</td></tr><tr><td>p15</td><td>Carole</td><td>2019-11-11</td><td>0</td><td>0</td></tr><tr><td>p8</td><td>Carole</td><td>2019-12-25</td><td>44</td><td>1</td></tr><tr><td>p14</td><td>Carole</td><td>2020-02-01</td><td>38</td><td>2</td></tr><tr><td>p13</td><td>Bob</td><td>2020-02-01</td><td>0</td><td>0</td></tr><tr><td>p1</td><td>Bob</td><td>2020-09-03</td><td>215</td><td>1</td></tr><tr><td>p3</td><td>Bob</td><td>2020-09-04</td><td>1</td><td>1</td></tr><tr><td>p4</td><td>Bob</td><td>2020-09-04</td><td>0</td><td>1</td></tr><tr><td>p10</td><td>Eva</td><td>2019-12-25</td><td>0</td><td>0</td></tr><tr><td>p11</td><td>Eva</td><td>2019-12-26</td><td>1</td><td>0</td></tr></tbody></table></div>"
            ]
          }
        }
      ]
    },
    {
      "cell_type": "markdown",
      "metadata": {
        "application/vnd.databricks.v1+cell": {
          "title": "",
          "showTitle": false,
          "inputWidgets": {},
          "nuid": "bc3f6163-3985-4ac4-9620-b052309a136f"
        },
        "id": "ymhfHGdzcQr0"
      },
      "source": [
        "### 4 b)\n",
        "Ajouter la condition: un trajet ne peut pas durer plus de 3 jours au total"
      ]
    },
    {
      "cell_type": "code",
      "metadata": {
        "application/vnd.databricks.v1+cell": {
          "title": "",
          "showTitle": false,
          "inputWidgets": {},
          "nuid": "ca325f34-d588-4b74-962a-3e81edac2f86"
        },
        "id": "GP3J-73lcQr0"
      },
      "source": [
        "def numerote():\n",
        "  "
      ],
      "execution_count": null,
      "outputs": []
    },
    {
      "cell_type": "code",
      "metadata": {
        "application/vnd.databricks.v1+cell": {
          "title": "",
          "showTitle": false,
          "inputWidgets": {},
          "nuid": "bc352723-8a2c-4335-8f02-295d7a54b264"
        },
        "id": "znhKAFg_cQr1",
        "outputId": "68213791-12ba-4f92-fdcf-ed9aedfc02e8"
      },
      "source": [
        "%sql\n",
        "select photoID, personID, date, nbJours, sum(nbJours) over (partition by personID order by date range between 3 preceding and 0 following)\n",
        "from Q2"
      ],
      "execution_count": null,
      "outputs": [
        {
          "output_type": "display_data",
          "metadata": {
            "application/vnd.databricks.v1+output": {
              "overflow": false,
              "datasetInfos": [],
              "data": [
                [
                  "p9",
                  "David",
                  "2019-12-25",
                  0,
                  0
                ],
                [
                  "p16",
                  "Alice",
                  "2019-12-25",
                  0,
                  0
                ],
                [
                  "p12",
                  "Alice",
                  "2020-02-01",
                  38,
                  38
                ],
                [
                  "p17",
                  "Alice",
                  "2020-02-02",
                  1,
                  39
                ],
                [
                  "p2",
                  "Alice",
                  "2020-09-01",
                  212,
                  212
                ],
                [
                  "p5",
                  "Alice",
                  "2020-09-04",
                  3,
                  215
                ],
                [
                  "p6",
                  "Alice",
                  "2020-09-05",
                  1,
                  4
                ],
                [
                  "p7",
                  "Alice",
                  "2020-10-05",
                  30,
                  30
                ],
                [
                  "p15",
                  "Carole",
                  "2019-11-11",
                  0,
                  0
                ],
                [
                  "p8",
                  "Carole",
                  "2019-12-25",
                  44,
                  44
                ],
                [
                  "p14",
                  "Carole",
                  "2020-02-01",
                  38,
                  38
                ],
                [
                  "p13",
                  "Bob",
                  "2020-02-01",
                  0,
                  0
                ],
                [
                  "p1",
                  "Bob",
                  "2020-09-03",
                  215,
                  215
                ],
                [
                  "p3",
                  "Bob",
                  "2020-09-04",
                  1,
                  216
                ],
                [
                  "p4",
                  "Bob",
                  "2020-09-04",
                  0,
                  216
                ],
                [
                  "p10",
                  "Eva",
                  "2019-12-25",
                  0,
                  0
                ],
                [
                  "p11",
                  "Eva",
                  "2019-12-26",
                  1,
                  1
                ]
              ],
              "plotOptions": {
                "displayType": "table",
                "customPlotOptions": {},
                "pivotColumns": null,
                "pivotAggregation": null,
                "xColumns": null,
                "yColumns": null
              },
              "columnCustomDisplayInfos": {},
              "aggType": "",
              "isJsonSchema": true,
              "removedWidgets": [],
              "aggSchema": [],
              "schema": [
                {
                  "name": "photoID",
                  "type": "\"string\"",
                  "metadata": "{}"
                },
                {
                  "name": "personID",
                  "type": "\"string\"",
                  "metadata": "{}"
                },
                {
                  "name": "date",
                  "type": "\"date\"",
                  "metadata": "{}"
                },
                {
                  "name": "nbJours",
                  "type": "\"integer\"",
                  "metadata": "{}"
                },
                {
                  "name": "sum(nbJours) OVER (PARTITION BY personID ORDER BY date ASC NULLS FIRST RANGE BETWEEN 3 PRECEDING AND 0 FOLLOWING)",
                  "type": "\"long\"",
                  "metadata": "{}"
                }
              ],
              "aggError": "",
              "aggData": [],
              "addedWidgets": {},
              "metadata": {},
              "dbfsResultPath": null,
              "type": "table",
              "aggOverflow": false,
              "aggSeriesLimitReached": false,
              "arguments": {}
            }
          },
          "data": {
            "text/html": [
              "<style scoped>\n  .table-result-container {\n    max-height: 300px;\n    overflow: auto;\n  }\n  table, th, td {\n    border: 1px solid black;\n    border-collapse: collapse;\n  }\n  th, td {\n    padding: 5px;\n  }\n  th {\n    text-align: left;\n  }\n</style><div class='table-result-container'><table class='table-result'><thead style='background-color: white'><tr><th>photoID</th><th>personID</th><th>date</th><th>nbJours</th><th>sum(nbJours) OVER (PARTITION BY personID ORDER BY date ASC NULLS FIRST RANGE BETWEEN 3 PRECEDING AND 0 FOLLOWING)</th></tr></thead><tbody><tr><td>p9</td><td>David</td><td>2019-12-25</td><td>0</td><td>0</td></tr><tr><td>p16</td><td>Alice</td><td>2019-12-25</td><td>0</td><td>0</td></tr><tr><td>p12</td><td>Alice</td><td>2020-02-01</td><td>38</td><td>38</td></tr><tr><td>p17</td><td>Alice</td><td>2020-02-02</td><td>1</td><td>39</td></tr><tr><td>p2</td><td>Alice</td><td>2020-09-01</td><td>212</td><td>212</td></tr><tr><td>p5</td><td>Alice</td><td>2020-09-04</td><td>3</td><td>215</td></tr><tr><td>p6</td><td>Alice</td><td>2020-09-05</td><td>1</td><td>4</td></tr><tr><td>p7</td><td>Alice</td><td>2020-10-05</td><td>30</td><td>30</td></tr><tr><td>p15</td><td>Carole</td><td>2019-11-11</td><td>0</td><td>0</td></tr><tr><td>p8</td><td>Carole</td><td>2019-12-25</td><td>44</td><td>44</td></tr><tr><td>p14</td><td>Carole</td><td>2020-02-01</td><td>38</td><td>38</td></tr><tr><td>p13</td><td>Bob</td><td>2020-02-01</td><td>0</td><td>0</td></tr><tr><td>p1</td><td>Bob</td><td>2020-09-03</td><td>215</td><td>215</td></tr><tr><td>p3</td><td>Bob</td><td>2020-09-04</td><td>1</td><td>216</td></tr><tr><td>p4</td><td>Bob</td><td>2020-09-04</td><td>0</td><td>216</td></tr><tr><td>p10</td><td>Eva</td><td>2019-12-25</td><td>0</td><td>0</td></tr><tr><td>p11</td><td>Eva</td><td>2019-12-26</td><td>1</td><td>1</td></tr></tbody></table></div>"
            ]
          }
        }
      ]
    },
    {
      "cell_type": "markdown",
      "metadata": {
        "application/vnd.databricks.v1+cell": {
          "title": "",
          "showTitle": false,
          "inputWidgets": {},
          "nuid": "053abb3e-6614-4bd9-a13c-e1aeeb9b1557"
        },
        "id": "-DZvfnidcQr1"
      },
      "source": [
        "## Question 5 : IMDB\n",
        "\n",
        "Proposer des requetes OVER PARTITION BY  sur la base IMDB"
      ]
    }
  ]
}