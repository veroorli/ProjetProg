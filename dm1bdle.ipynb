{
  "nbformat": 4,
  "nbformat_minor": 0,
  "metadata": {
    "application/vnd.databricks.v1+notebook": {
      "notebookName": "PROJET 2021 SUJET SEUL",
      "dashboards": [
        {
          "elements": [
            {
              "elementNUID": "4916b307-fb50-46f6-a51b-d5496ba229a5",
              "guid": "0544755f-8046-413c-8de2-96b5ba9cde0a",
              "options": null,
              "position": {
                "x": 0,
                "y": 30,
                "height": 1,
                "width": 12,
                "z": null
              },
              "elementType": "command"
            },
            {
              "elementNUID": "93fd1b8c-937f-41f1-88b8-704a5225af12",
              "guid": "1e2aacd3-80ac-42fc-858a-aa6ccf4d1aa1",
              "options": null,
              "position": {
                "x": 0,
                "y": 73,
                "height": 1,
                "width": 12,
                "z": null
              },
              "elementType": "command"
            },
            {
              "elementNUID": "047d52a6-482e-46d9-82c8-d3d85dc7f3ed",
              "guid": "205f0675-4075-4f6d-9ed5-dbe9f2adc9ab",
              "options": null,
              "position": {
                "x": 0,
                "y": 46,
                "height": 6,
                "width": 12,
                "z": null
              },
              "elementType": "command"
            },
            {
              "elementNUID": "51093e36-41d7-45bc-9ac9-538d0ad06cdf",
              "guid": "2f4a2f92-9f7e-463a-853d-28c94fba80e0",
              "options": null,
              "position": {
                "x": 0,
                "y": 53,
                "height": 6,
                "width": 12,
                "z": null
              },
              "elementType": "command"
            },
            {
              "elementNUID": "6fc95d51-5cac-46df-9184-c0a154f0f38c",
              "guid": "4dd6a8a2-ddd5-4d2b-ae85-ba590ba4055c",
              "options": null,
              "position": {
                "x": 0,
                "y": 111,
                "height": 2,
                "width": 12,
                "z": null
              },
              "elementType": "command"
            },
            {
              "elementNUID": "9582d65f-6ff6-4001-aae8-6d354db1567b",
              "guid": "641778b4-ec91-481c-bdc2-d3f6b2e48066",
              "options": null,
              "position": {
                "x": 0,
                "y": 59,
                "height": 1,
                "width": 12,
                "z": null
              },
              "elementType": "command"
            },
            {
              "elementNUID": "aafa7653-49a3-4915-b212-94bf433f313b",
              "guid": "669a6cbd-94f8-444d-bb5a-ddd090c622a7",
              "options": null,
              "position": {
                "x": 0,
                "y": 60,
                "height": 6,
                "width": 12,
                "z": null
              },
              "elementType": "command"
            },
            {
              "elementNUID": "23530f5e-191f-4476-a042-89462af08bf0",
              "guid": "66eaa8c3-2337-45ad-ab9b-64116af586b8",
              "options": null,
              "position": {
                "x": 0,
                "y": 105,
                "height": 6,
                "width": 12,
                "z": null
              },
              "elementType": "command"
            },
            {
              "elementNUID": "cb9b4b91-d7a4-4d6f-b8fd-4f81069ee9bb",
              "guid": "715e0bbb-14c1-4aa9-9894-0e894c449882",
              "options": null,
              "position": {
                "x": 0,
                "y": 7,
                "height": 1,
                "width": 12,
                "z": null
              },
              "elementType": "command"
            },
            {
              "elementNUID": "416e4ed6-56f4-44b6-97bc-95d31da350fe",
              "guid": "75067b7c-9df9-4554-99ca-19999c84ef2f",
              "options": null,
              "position": {
                "x": 0,
                "y": 52,
                "height": 1,
                "width": 12,
                "z": null
              },
              "elementType": "command"
            },
            {
              "elementNUID": "b15737ae-19bd-4b9f-b9f3-52388cc5e50e",
              "guid": "846b7c1d-f1d1-4aa6-b3aa-94cb6d065d1a",
              "options": null,
              "position": {
                "x": 0,
                "y": 3,
                "height": 2,
                "width": 12,
                "z": null
              },
              "elementType": "command"
            },
            {
              "elementNUID": "79374715-17c6-42ea-80b5-f34359f79709",
              "guid": "867fb6bf-585e-4c58-b51c-8495ea2785f2",
              "options": null,
              "position": {
                "x": 0,
                "y": 29,
                "height": 1,
                "width": 12,
                "z": null
              },
              "elementType": "command"
            },
            {
              "elementNUID": "1d712ef6-68d6-4f23-a1dd-3cf94b8813c4",
              "guid": "8ef2f82e-9863-4d96-9bb6-bd7aab7dcac5",
              "options": null,
              "position": {
                "x": 0,
                "y": 80,
                "height": 1,
                "width": 12,
                "z": null
              },
              "elementType": "command"
            },
            {
              "elementNUID": "9b13d583-eac5-414c-b544-43024c76c144",
              "guid": "94043a3f-089a-4cde-9ea5-349a745dad4f",
              "options": null,
              "position": {
                "x": 0,
                "y": 8,
                "height": 1,
                "width": 12,
                "z": null
              },
              "elementType": "command"
            },
            {
              "elementNUID": "0b6b45b2-632b-43dd-a8e2-4ef427ebce3d",
              "guid": "940febd0-c519-4b91-9fec-4e960bbe7760",
              "options": null,
              "position": {
                "x": 0,
                "y": 44,
                "height": 2,
                "width": 12,
                "z": null
              },
              "elementType": "command"
            },
            {
              "elementNUID": "84263fb8-5965-4a60-82bd-f761270691ca",
              "guid": "9fe86fff-0ae7-4ef0-b862-91ae43be4101",
              "options": null,
              "position": {
                "x": 0,
                "y": 74,
                "height": 6,
                "width": 12,
                "z": null
              },
              "elementType": "command"
            },
            {
              "elementNUID": "b6afe82e-35d6-4358-9b79-8f56074e0908",
              "guid": "a1426d76-3fbd-47f7-b011-b24ac7b93fd6",
              "options": null,
              "position": {
                "x": 0,
                "y": 5,
                "height": 2,
                "width": 12,
                "z": null
              },
              "elementType": "command"
            },
            {
              "elementNUID": "1577055d-6909-4db2-b18b-5bf31e2a812f",
              "guid": "a1ca8228-f29e-465e-a4be-b40aefc6bc7a",
              "options": null,
              "position": {
                "x": 0,
                "y": 27,
                "height": 2,
                "width": 12,
                "z": null
              },
              "elementType": "command"
            },
            {
              "elementNUID": "d1701bbd-c69b-48d6-bb57-0d05a7268ffe",
              "guid": "a7aff5ac-f510-4d82-95db-77f034192d44",
              "options": null,
              "position": {
                "x": 0,
                "y": 67,
                "height": 6,
                "width": 12,
                "z": null
              },
              "elementType": "command"
            },
            {
              "elementNUID": "c37903e0-d9bc-49f9-9e1d-6756419344f1",
              "guid": "bd859d00-a580-47f6-b662-f97b3239a821",
              "options": null,
              "position": {
                "x": 0,
                "y": 88,
                "height": 6,
                "width": 12,
                "z": null
              },
              "elementType": "command"
            },
            {
              "elementNUID": "538800ba-6d08-40a7-b6b6-829b40085742",
              "guid": "c23995ca-72a7-4427-a6d1-afa688939e7c",
              "options": null,
              "position": {
                "x": 0,
                "y": 0,
                "height": 3,
                "width": 12,
                "z": null
              },
              "elementType": "command"
            },
            {
              "elementNUID": "19fa455b-45a4-4a48-9ddb-c5a641bbd817",
              "guid": "c2471e6c-252b-4bd0-a71a-770ae09eeb78",
              "options": null,
              "position": {
                "x": 0,
                "y": 104,
                "height": 1,
                "width": 12,
                "z": null
              },
              "elementType": "command"
            },
            {
              "elementNUID": "8181fc8d-066d-4ca3-88d7-a97614dca3f4",
              "guid": "d1918135-6c0e-44df-a1ce-2357f133b00c",
              "options": null,
              "position": {
                "x": 0,
                "y": 66,
                "height": 1,
                "width": 12,
                "z": null
              },
              "elementType": "command"
            },
            {
              "elementNUID": "23f49fe8-1c71-4689-9678-58f7b45f0e94",
              "guid": "de126761-7a12-40b4-af6f-d0ea53591d9c",
              "options": null,
              "position": {
                "x": 0,
                "y": 98,
                "height": 6,
                "width": 12,
                "z": null
              },
              "elementType": "command"
            },
            {
              "elementNUID": "686a3ab5-5331-4f16-b8cc-be1c36a60384",
              "guid": "e5671d03-e164-48d9-a504-7348746454df",
              "options": null,
              "position": {
                "x": 0,
                "y": 81,
                "height": 6,
                "width": 12,
                "z": null
              },
              "elementType": "command"
            },
            {
              "elementNUID": "6f215790-9cd6-4489-b334-1da39461919c",
              "guid": "eafa8853-29da-4eeb-8126-55474014d7f4",
              "options": null,
              "position": {
                "x": 0,
                "y": 94,
                "height": 4,
                "width": 15,
                "z": null
              },
              "elementType": "command"
            },
            {
              "elementNUID": "9a7b7b61-6f71-4ba2-984a-09b552985d29",
              "guid": "f8a42128-0efd-4fe3-9ab6-6af7a1c907fd",
              "options": null,
              "position": {
                "x": 0,
                "y": 31,
                "height": 6,
                "width": 12,
                "z": null
              },
              "elementType": "command"
            },
            {
              "elementNUID": "bad34653-26b5-4d31-ace9-736d13a63c06",
              "guid": "fd691b0e-0bb5-4d6b-8ae9-1dea859886a7",
              "options": null,
              "position": {
                "x": 0,
                "y": 87,
                "height": 1,
                "width": 12,
                "z": null
              },
              "elementType": "command"
            }
          ],
          "guid": "56cffcd7-cc55-4002-b6dd-fbd5d66a50a6",
          "layoutOption": {
            "stack": true,
            "grid": true
          },
          "version": "DashboardViewV1",
          "nuid": "7f52f4e5-dbf1-4115-ad63-488830d101c0",
          "origId": 2643140879502792,
          "title": "Untitled",
          "width": 1024,
          "globalVars": {}
        }
      ],
      "notebookMetadata": {
        "pythonIndentUnit": 2
      },
      "language": "python",
      "widgets": {},
      "notebookOrigID": 2643140879502686
    },
    "colab": {
      "name": "dm1bdle.ipynb",
      "provenance": [],
      "collapsed_sections": [],
      "toc_visible": true,
      "include_colab_link": true
    },
    "language_info": {
      "name": "python"
    },
    "kernelspec": {
      "name": "python3",
      "display_name": "Python 3"
    }
  },
  "cells": [
    {
      "cell_type": "markdown",
      "metadata": {
        "id": "view-in-github",
        "colab_type": "text"
      },
      "source": [
        "<a href=\"https://colab.research.google.com/github/veroorli/ProjetProg/blob/master/dm1bdle.ipynb\" target=\"_parent\"><img src=\"https://colab.research.google.com/assets/colab-badge.svg\" alt=\"Open In Colab\"/></a>"
      ]
    },
    {
      "cell_type": "markdown",
      "metadata": {
        "application/vnd.databricks.v1+cell": {
          "title": "",
          "showTitle": false,
          "inputWidgets": {},
          "nuid": "6fc95d51-5cac-46df-9184-c0a154f0f38c"
        },
        "id": "uaZ8tqjLGpLn"
      },
      "source": [
        "### Detail sur les personnes et les oeuvres"
      ]
    },
    {
      "cell_type": "markdown",
      "metadata": {
        "application/vnd.databricks.v1+cell": {
          "title": "",
          "showTitle": false,
          "inputWidgets": {},
          "nuid": "72c2cf28-b4c2-4fe6-92ff-7fe781f786e6"
        },
        "id": "OZIE-8HDGpLn"
      },
      "source": [
        "#### TitleDetail"
      ]
    },
    {
      "cell_type": "code",
      "metadata": {
        "application/vnd.databricks.v1+cell": {
          "title": "",
          "showTitle": false,
          "inputWidgets": {},
          "nuid": "0eb3ae5c-8ace-4d4d-9230-a1da29508f2d"
        },
        "colab": {
          "base_uri": "https://localhost:8080/",
          "height": 203
        },
        "id": "5Sl8d1kqGpLn",
        "outputId": "c74c4dee-c734-4785-e578-78f1b34a4218"
      },
      "source": [
        "%%sql\n",
        "create or replace temp view TitleDetail as\n",
        "select t.id, t.title, t.production_year, k.kind, it.info as property, m.info as value\n",
        "from Title t, Movie_Info m, Info_type it, Kind_Type k\n",
        "where t.id = m.movie_id \n",
        "and m.info_type_id = it.id\n",
        "and t.kind_id = k.id\n",
        ";\n",
        "\n",
        "select * \n",
        "from TitleDetail t\n",
        "order by  t.production_year desc, t.title\n",
        "limit 100;"
      ],
      "execution_count": null,
      "outputs": [
        {
          "output_type": "execute_result",
          "data": {
            "text/html": [
              "<div>\n",
              "<style scoped>\n",
              "    .dataframe tbody tr th:only-of-type {\n",
              "        vertical-align: middle;\n",
              "    }\n",
              "\n",
              "    .dataframe tbody tr th {\n",
              "        vertical-align: top;\n",
              "    }\n",
              "\n",
              "    .dataframe thead th {\n",
              "        text-align: right;\n",
              "    }\n",
              "</style>\n",
              "<table border=\"1\" class=\"dataframe\">\n",
              "  <thead>\n",
              "    <tr style=\"text-align: right;\">\n",
              "      <th></th>\n",
              "      <th>id</th>\n",
              "      <th>title</th>\n",
              "      <th>production_year</th>\n",
              "      <th>kind</th>\n",
              "      <th>property</th>\n",
              "      <th>value</th>\n",
              "    </tr>\n",
              "  </thead>\n",
              "  <tbody>\n",
              "    <tr>\n",
              "      <th>0</th>\n",
              "      <td>2310404</td>\n",
              "      <td>Star Trek 3</td>\n",
              "      <td>2016</td>\n",
              "      <td>movie</td>\n",
              "      <td>genres</td>\n",
              "      <td>Sci-Fi</td>\n",
              "    </tr>\n",
              "    <tr>\n",
              "      <th>1</th>\n",
              "      <td>2310404</td>\n",
              "      <td>Star Trek 3</td>\n",
              "      <td>2016</td>\n",
              "      <td>movie</td>\n",
              "      <td>release dates</td>\n",
              "      <td>USA:2016</td>\n",
              "    </tr>\n",
              "    <tr>\n",
              "      <th>2</th>\n",
              "      <td>2310404</td>\n",
              "      <td>Star Trek 3</td>\n",
              "      <td>2016</td>\n",
              "      <td>movie</td>\n",
              "      <td>genres</td>\n",
              "      <td>Adventure</td>\n",
              "    </tr>\n",
              "    <tr>\n",
              "      <th>3</th>\n",
              "      <td>2310404</td>\n",
              "      <td>Star Trek 3</td>\n",
              "      <td>2016</td>\n",
              "      <td>movie</td>\n",
              "      <td>genres</td>\n",
              "      <td>Action</td>\n",
              "    </tr>\n",
              "    <tr>\n",
              "      <th>4</th>\n",
              "      <td>2310404</td>\n",
              "      <td>Star Trek 3</td>\n",
              "      <td>2016</td>\n",
              "      <td>movie</td>\n",
              "      <td>color info</td>\n",
              "      <td>Color</td>\n",
              "    </tr>\n",
              "  </tbody>\n",
              "</table>\n",
              "</div>"
            ],
            "text/plain": [
              "        id        title  production_year   kind       property      value\n",
              "0  2310404  Star Trek 3             2016  movie         genres     Sci-Fi\n",
              "1  2310404  Star Trek 3             2016  movie  release dates   USA:2016\n",
              "2  2310404  Star Trek 3             2016  movie         genres  Adventure\n",
              "3  2310404  Star Trek 3             2016  movie         genres     Action\n",
              "4  2310404  Star Trek 3             2016  movie     color info      Color"
            ]
          },
          "metadata": {},
          "execution_count": 30
        }
      ]
    },
    {
      "cell_type": "markdown",
      "metadata": {
        "application/vnd.databricks.v1+cell": {
          "title": "",
          "showTitle": false,
          "inputWidgets": {},
          "nuid": "68183f25-6ae2-4204-a291-cf19f923426f"
        },
        "id": "6DmVQ0ljGpLn"
      },
      "source": [
        "Mémoriser le résultat de TitleDetail pour éviter de le calculer plusieurs fois"
      ]
    },
    {
      "cell_type": "code",
      "metadata": {
        "application/vnd.databricks.v1+cell": {
          "title": "",
          "showTitle": false,
          "inputWidgets": {},
          "nuid": "3a609edf-b63a-4462-9331-42773b627d7a"
        },
        "colab": {
          "base_uri": "https://localhost:8080/",
          "height": 32
        },
        "id": "w9iCBx1RGpLn",
        "outputId": "1b3e0324-e457-47d3-8480-832f3a6eaf5a"
      },
      "source": [
        "%%sql\n",
        "cache table TitleDetail"
      ],
      "execution_count": null,
      "outputs": [
        {
          "output_type": "execute_result",
          "data": {
            "text/html": [
              "<div>\n",
              "<style scoped>\n",
              "    .dataframe tbody tr th:only-of-type {\n",
              "        vertical-align: middle;\n",
              "    }\n",
              "\n",
              "    .dataframe tbody tr th {\n",
              "        vertical-align: top;\n",
              "    }\n",
              "\n",
              "    .dataframe thead th {\n",
              "        text-align: right;\n",
              "    }\n",
              "</style>\n",
              "<table border=\"1\" class=\"dataframe\">\n",
              "  <thead>\n",
              "    <tr style=\"text-align: right;\">\n",
              "      <th></th>\n",
              "    </tr>\n",
              "  </thead>\n",
              "  <tbody>\n",
              "  </tbody>\n",
              "</table>\n",
              "</div>"
            ],
            "text/plain": [
              "Empty DataFrame\n",
              "Columns: []\n",
              "Index: []"
            ]
          },
          "metadata": {},
          "execution_count": 31
        }
      ]
    },
    {
      "cell_type": "markdown",
      "metadata": {
        "application/vnd.databricks.v1+cell": {
          "title": "",
          "showTitle": false,
          "inputWidgets": {},
          "nuid": "b40d0d85-b153-48de-8ed9-c9f067e4ca6f"
        },
        "id": "O3tcAacGGpLn"
      },
      "source": [
        "#### NameDetail"
      ]
    },
    {
      "cell_type": "code",
      "metadata": {
        "application/vnd.databricks.v1+cell": {
          "title": "",
          "showTitle": false,
          "inputWidgets": {},
          "nuid": "7e4c724e-7dfd-4163-94fd-ba7e55448693"
        },
        "colab": {
          "base_uri": "https://localhost:8080/",
          "height": 203
        },
        "id": "FsquGi7gGpLo",
        "outputId": "28afa269-d8ab-4012-b8d0-6bda63fea226"
      },
      "source": [
        "%%sql\n",
        "create or replace temp view NameDetail as\n",
        "select n.id, n.name, n.gender, i.info as property, p.info as value\n",
        "from Name n, Person_Info p, Info_type i\n",
        "where n.id = p.person_id\n",
        "and p.info_type_id = i.id\n",
        ";\n",
        " \n",
        "select * \n",
        "from NameDetail n\n",
        "where n.name like 'Smi%'\n",
        "order by n.name, n.property\n",
        "limit 100;"
      ],
      "execution_count": null,
      "outputs": [
        {
          "output_type": "execute_result",
          "data": {
            "text/html": [
              "<div>\n",
              "<style scoped>\n",
              "    .dataframe tbody tr th:only-of-type {\n",
              "        vertical-align: middle;\n",
              "    }\n",
              "\n",
              "    .dataframe tbody tr th {\n",
              "        vertical-align: top;\n",
              "    }\n",
              "\n",
              "    .dataframe thead th {\n",
              "        text-align: right;\n",
              "    }\n",
              "</style>\n",
              "<table border=\"1\" class=\"dataframe\">\n",
              "  <thead>\n",
              "    <tr style=\"text-align: right;\">\n",
              "      <th></th>\n",
              "      <th>id</th>\n",
              "      <th>name</th>\n",
              "      <th>gender</th>\n",
              "      <th>property</th>\n",
              "      <th>value</th>\n",
              "    </tr>\n",
              "  </thead>\n",
              "  <tbody>\n",
              "    <tr>\n",
              "      <th>0</th>\n",
              "      <td>2544489</td>\n",
              "      <td>Smid, Coosje</td>\n",
              "      <td>f</td>\n",
              "      <td>trivia</td>\n",
              "      <td>Daughter of 'Ernst Daniël Smid' (qv) and Rosem...</td>\n",
              "    </tr>\n",
              "    <tr>\n",
              "      <th>1</th>\n",
              "      <td>1454381</td>\n",
              "      <td>Smid, Ernst Daniël</td>\n",
              "      <td>m</td>\n",
              "      <td>birth date</td>\n",
              "      <td>6 May 1953</td>\n",
              "    </tr>\n",
              "    <tr>\n",
              "      <th>2</th>\n",
              "      <td>1454381</td>\n",
              "      <td>Smid, Ernst Daniël</td>\n",
              "      <td>m</td>\n",
              "      <td>birth notes</td>\n",
              "      <td>Enschede, Overijssel, Netherlands</td>\n",
              "    </tr>\n",
              "    <tr>\n",
              "      <th>3</th>\n",
              "      <td>1454381</td>\n",
              "      <td>Smid, Ernst Daniël</td>\n",
              "      <td>m</td>\n",
              "      <td>magazine cover photo</td>\n",
              "      <td>\"Ncrv Gids\" (Netherlands), 17 April 1999, Iss. 16</td>\n",
              "    </tr>\n",
              "    <tr>\n",
              "      <th>4</th>\n",
              "      <td>1454381</td>\n",
              "      <td>Smid, Ernst Daniël</td>\n",
              "      <td>m</td>\n",
              "      <td>other works</td>\n",
              "      <td>Provided the voice of Ocious P. Potter in the ...</td>\n",
              "    </tr>\n",
              "  </tbody>\n",
              "</table>\n",
              "</div>"
            ],
            "text/plain": [
              "        id                name gender              property  \\\n",
              "0  2544489        Smid, Coosje      f                trivia   \n",
              "1  1454381  Smid, Ernst Daniël      m            birth date   \n",
              "2  1454381  Smid, Ernst Daniël      m           birth notes   \n",
              "3  1454381  Smid, Ernst Daniël      m  magazine cover photo   \n",
              "4  1454381  Smid, Ernst Daniël      m           other works   \n",
              "\n",
              "                                               value  \n",
              "0  Daughter of 'Ernst Daniël Smid' (qv) and Rosem...  \n",
              "1                                         6 May 1953  \n",
              "2                  Enschede, Overijssel, Netherlands  \n",
              "3  \"Ncrv Gids\" (Netherlands), 17 April 1999, Iss. 16  \n",
              "4  Provided the voice of Ocious P. Potter in the ...  "
            ]
          },
          "metadata": {},
          "execution_count": 32
        }
      ]
    },
    {
      "cell_type": "markdown",
      "metadata": {
        "application/vnd.databricks.v1+cell": {
          "title": "",
          "showTitle": false,
          "inputWidgets": {},
          "nuid": "5f927ffe-1f92-4804-ab90-a6fcebb43fad"
        },
        "id": "4XbsL56sGpLo"
      },
      "source": [
        "Mémoriser le résultat de NameDetail pour éviter de le calculer plusieurs fois"
      ]
    },
    {
      "cell_type": "code",
      "metadata": {
        "application/vnd.databricks.v1+cell": {
          "title": "",
          "showTitle": false,
          "inputWidgets": {},
          "nuid": "124515b3-760f-4b92-bd02-22439592d2d4"
        },
        "colab": {
          "base_uri": "https://localhost:8080/",
          "height": 32
        },
        "id": "DnuYyFSyGpLo",
        "outputId": "55c46588-c4a1-460c-a731-52914b26ebf2"
      },
      "source": [
        "%%sql\n",
        "cache table NameDetail;"
      ],
      "execution_count": null,
      "outputs": [
        {
          "output_type": "execute_result",
          "data": {
            "text/html": [
              "<div>\n",
              "<style scoped>\n",
              "    .dataframe tbody tr th:only-of-type {\n",
              "        vertical-align: middle;\n",
              "    }\n",
              "\n",
              "    .dataframe tbody tr th {\n",
              "        vertical-align: top;\n",
              "    }\n",
              "\n",
              "    .dataframe thead th {\n",
              "        text-align: right;\n",
              "    }\n",
              "</style>\n",
              "<table border=\"1\" class=\"dataframe\">\n",
              "  <thead>\n",
              "    <tr style=\"text-align: right;\">\n",
              "      <th></th>\n",
              "    </tr>\n",
              "  </thead>\n",
              "  <tbody>\n",
              "  </tbody>\n",
              "</table>\n",
              "</div>"
            ],
            "text/plain": [
              "Empty DataFrame\n",
              "Columns: []\n",
              "Index: []"
            ]
          },
          "metadata": {},
          "execution_count": 33
        }
      ]
    },
    {
      "cell_type": "markdown",
      "metadata": {
        "application/vnd.databricks.v1+cell": {
          "title": "",
          "showTitle": false,
          "inputWidgets": {},
          "nuid": "2df59fb1-4bd6-4d74-9ca4-d4959934dd9d"
        },
        "id": "qkCz6l14GpLo"
      },
      "source": [
        "## QUESTIONS"
      ]
    },
    {
      "cell_type": "markdown",
      "metadata": {
        "application/vnd.databricks.v1+cell": {
          "title": "",
          "showTitle": false,
          "inputWidgets": {},
          "nuid": "b897345c-7581-4a62-aab0-e36bd68a3e32"
        },
        "id": "F0snGUfnGpLo"
      },
      "source": [
        "### Exercice 1: Extraction d'information"
      ]
    },
    {
      "cell_type": "markdown",
      "metadata": {
        "application/vnd.databricks.v1+cell": {
          "title": "",
          "showTitle": false,
          "inputWidgets": {},
          "nuid": "ee2f37f8-9b40-486d-a908-0cdecf11093d"
        },
        "id": "TElUeg9vGpLo"
      },
      "source": [
        "Définir ces relations apportant des informations structurées sur les personnes. Le schéma de chaque table est donné à titre indicatif et vous pouvez l'adapter et le compléter si nécessaire."
      ]
    },
    {
      "cell_type": "markdown",
      "metadata": {
        "application/vnd.databricks.v1+cell": {
          "title": "",
          "showTitle": false,
          "inputWidgets": {},
          "nuid": "b51216e0-c5e2-49ff-89ec-6ef7b9eef892"
        },
        "id": "6qBFcnllGpLo"
      },
      "source": [
        "#### Question 1 : Salary\n",
        " **Salary** (id, name, titleId, titleName, salary, extra, currency) avec\n",
        "  - *salary* est le salaire perçu par une personne pour un film\n",
        "  - *frequency* indique si le salaire est pour le film, un épisode de la série, une semaine de tournage, etc...\n",
        "  - *extra* est un complément de salaire (exple pourcentage sur le revenu du film)\n",
        "  - *currency* est la devise du salaire\n",
        " \n",
        "\n",
        "Voir la propriété *salary history*. Le champ *titleId* peut être nul si aucune correspondance n'est trouvée dans la table TitleDetail. Le cas échéant, essayer de trouver une correspondance avec le fichier *title_all* contenant tous les films."
      ]
    },
    {
      "cell_type": "code",
      "metadata": {
        "colab": {
          "base_uri": "https://localhost:8080/",
          "height": 254
        },
        "id": "UMFIOjn45z_j",
        "outputId": "bff3e47d-fd41-4fda-ae70-701982aabfaf"
      },
      "source": [
        "%%sql\n",
        "\n",
        "-- Tous les regex ont été construits et améliorés au fur et à mesure que l'on trouve des formats différents présents dans les textes.\n",
        "\n",
        "-- Extraction du titre et de l'année de production des personnes de NameDetail pour préparer la jointure\n",
        "create or replace temp view T as\n",
        "select id as nameId, name, value as nameValue, \n",
        "trim(regexp_extract(value, '_\"?([^\\\\(\\\\\"]+)\"? \\\\(', 1)) as titleName, \n",
        "regexp_extract(value, '_([^\\\\(]+) \\\\(([0-9]*).*\\\\)_', 2) as production_year\n",
        "from NameDetail\n",
        "where property='salary history';\n",
        "\n",
        "-- Création de la table Salaire\n",
        "create or replace temp view Salary as\n",
        "select distinct nameId, name, nameValue,\n",
        "\n",
        "-- Condition : si le champ titleId n'est pas nul, alors on l'affiche, sinon on cherche une correspondance dans title_all\n",
        "if (id is not null, id,\n",
        "  (select first(ta.id) from TitleAll ta where T.titleName = ta.title and T.production_year = ta.production_year)\n",
        ") as titleId,\n",
        "\n",
        "-- Nom du titre : On extrait les titres qui sont entre '_' sans les dates.\n",
        "titleName,\n",
        "\n",
        "-- Salaire : On extrait le montant qui se situe après les doubles ':'\n",
        "-- Le salaire peut contenir des chiffres, des virgules ou un 'm'\n",
        "regexp_extract(nameValue, '[^:]+::([^0-9]*)([0-9,m]+)', 2) as salary,\n",
        "\n",
        "-- Fréquence :  Les fréquences sont situées après le salaire, suivi d'un '/' ou le mot 'per'\n",
        "regexp_extract(nameValue, '[^:]+::([^0-9]*)([0-9,m]+).*(/|per )([^ +]+)*', 4) as frequency,\n",
        "\n",
        "-- Devise : La condition if sert à vérifier si la devise se trouve avant ou après le salaire.\n",
        "-- Si les deux ':' ne sont suivis par un chiffre, alors on extrait la devise qui est après salaire, sinon elle se situe avant le nombre.\n",
        "if(regexp_extract(nameValue, '[^:]+::([^0-9]*)([0-9,m]+)', 1)='',\n",
        "    regexp_extract(nameValue, '[^:]+::([^0-9]*)([0-9,m]+) ([^ +]+)', 3), \n",
        "    regexp_extract(nameValue, '[^:]+::([^0-9]*)(([0-9,]+|(m ))*)', 1)) as currency,\n",
        "\n",
        "-- Extra : On extrait le texte qui suit '+' ou 'plus'\n",
        "regexp_extract(nameValue, '[^:]+::([^0-9]*)([0-9,m]+)(([^+]*\\\\+)|(.*plus))([^\\\\)]*)', 6) as extra\n",
        "\n",
        "from T\n",
        "-- Jointure à gauche sur NameDetail avec le titre et la date de production\n",
        "left join TitleDetail on T.titleName = TitleDetail.title and T.production_year = TitleDetail.production_year;\n",
        "\n",
        "select * from Salary;"
      ],
      "execution_count": null,
      "outputs": [
        {
          "output_type": "execute_result",
          "data": {
            "text/html": [
              "<div>\n",
              "<style scoped>\n",
              "    .dataframe tbody tr th:only-of-type {\n",
              "        vertical-align: middle;\n",
              "    }\n",
              "\n",
              "    .dataframe tbody tr th {\n",
              "        vertical-align: top;\n",
              "    }\n",
              "\n",
              "    .dataframe thead th {\n",
              "        text-align: right;\n",
              "    }\n",
              "</style>\n",
              "<table border=\"1\" class=\"dataframe\">\n",
              "  <thead>\n",
              "    <tr style=\"text-align: right;\">\n",
              "      <th></th>\n",
              "      <th>nameId</th>\n",
              "      <th>name</th>\n",
              "      <th>nameValue</th>\n",
              "      <th>titleId</th>\n",
              "      <th>titleName</th>\n",
              "      <th>salary</th>\n",
              "      <th>frequency</th>\n",
              "      <th>currency</th>\n",
              "      <th>extra</th>\n",
              "    </tr>\n",
              "  </thead>\n",
              "  <tbody>\n",
              "    <tr>\n",
              "      <th>0</th>\n",
              "      <td>2037716</td>\n",
              "      <td>Garland, Judy</td>\n",
              "      <td>_A Star Is Born (1954)_ (qv)::$100,000 + 50% o...</td>\n",
              "      <td>854543</td>\n",
              "      <td>A Star Is Born</td>\n",
              "      <td>100,000</td>\n",
              "      <td></td>\n",
              "      <td>$</td>\n",
              "      <td>50% of profits</td>\n",
              "    </tr>\n",
              "    <tr>\n",
              "      <th>1</th>\n",
              "      <td>2437832</td>\n",
              "      <td>Pulver, Liselotte</td>\n",
              "      <td>_A Time to Love and a Time to Die (1958)_ (qv)...</td>\n",
              "      <td>1658907</td>\n",
              "      <td>A Time to Love and a Time to Die</td>\n",
              "      <td>50</td>\n",
              "      <td></td>\n",
              "      <td>$</td>\n",
              "      <td></td>\n",
              "    </tr>\n",
              "    <tr>\n",
              "      <th>2</th>\n",
              "      <td>1984724</td>\n",
              "      <td>Elfman, Jenna</td>\n",
              "      <td>_\"Accidentally on Purpose\" (2009)_ (qv)::$125,...</td>\n",
              "      <td>37156</td>\n",
              "      <td>Accidentally on Purpose</td>\n",
              "      <td>125,000</td>\n",
              "      <td>episode</td>\n",
              "      <td>$</td>\n",
              "      <td></td>\n",
              "    </tr>\n",
              "    <tr>\n",
              "      <th>3</th>\n",
              "      <td>1094728</td>\n",
              "      <td>Muniz, Frankie</td>\n",
              "      <td>_Agent Cody Banks (2003)_ (qv)::$2,000,000</td>\n",
              "      <td>1669115</td>\n",
              "      <td>Agent Cody Banks</td>\n",
              "      <td>2,000,000</td>\n",
              "      <td></td>\n",
              "      <td>$</td>\n",
              "      <td></td>\n",
              "    </tr>\n",
              "    <tr>\n",
              "      <th>4</th>\n",
              "      <td>112128</td>\n",
              "      <td>Beatty, Warren</td>\n",
              "      <td>_All Fall Down (1962)_ (qv)::$60,000</td>\n",
              "      <td>1675454</td>\n",
              "      <td>All Fall Down</td>\n",
              "      <td>60,000</td>\n",
              "      <td></td>\n",
              "      <td>$</td>\n",
              "      <td></td>\n",
              "    </tr>\n",
              "  </tbody>\n",
              "</table>\n",
              "</div>"
            ],
            "text/plain": [
              "    nameId               name  \\\n",
              "0  2037716      Garland, Judy   \n",
              "1  2437832  Pulver, Liselotte   \n",
              "2  1984724      Elfman, Jenna   \n",
              "3  1094728     Muniz, Frankie   \n",
              "4   112128     Beatty, Warren   \n",
              "\n",
              "                                           nameValue  titleId  \\\n",
              "0  _A Star Is Born (1954)_ (qv)::$100,000 + 50% o...   854543   \n",
              "1  _A Time to Love and a Time to Die (1958)_ (qv)...  1658907   \n",
              "2  _\"Accidentally on Purpose\" (2009)_ (qv)::$125,...    37156   \n",
              "3         _Agent Cody Banks (2003)_ (qv)::$2,000,000  1669115   \n",
              "4               _All Fall Down (1962)_ (qv)::$60,000  1675454   \n",
              "\n",
              "                          titleName     salary frequency currency  \\\n",
              "0                    A Star Is Born    100,000                  $   \n",
              "1  A Time to Love and a Time to Die         50                  $   \n",
              "2           Accidentally on Purpose    125,000   episode        $   \n",
              "3                  Agent Cody Banks  2,000,000                  $   \n",
              "4                     All Fall Down     60,000                  $   \n",
              "\n",
              "             extra  \n",
              "0   50% of profits  \n",
              "1                   \n",
              "2                   \n",
              "3                   \n",
              "4                   "
            ]
          },
          "metadata": {},
          "execution_count": 34
        }
      ]
    },
    {
      "cell_type": "markdown",
      "metadata": {
        "application/vnd.databricks.v1+cell": {
          "title": "",
          "showTitle": false,
          "inputWidgets": {},
          "nuid": "a401c9b9-d81e-4ec6-aad9-63015a1f08ea"
        },
        "id": "hsYcFmfeGpLp"
      },
      "source": [
        "#### Question 2 : Height\n",
        " **Height**(id, name, heightInCm) qui recense la taille des personnes de manière exploitable, en les reconvertissant en tailles en cm, alors que les entrées de la base sont  en plusieurs unités."
      ]
    },
    {
      "cell_type": "code",
      "metadata": {
        "colab": {
          "base_uri": "https://localhost:8080/",
          "height": 203
        },
        "id": "13zxMwOp9I-S",
        "outputId": "94ed2ea1-d6aa-4cf6-dd1f-708c129d2497"
      },
      "source": [
        "%%sql\n",
        "\n",
        "create or replace temp view Height as\n",
        "select id, name, value,\n",
        "\n",
        "-- Les valeurs de la propriété height peuvent se trouver dans 3 formats différents : en cm, en feet ou en feet+inches.\n",
        "-- On teste dans un premier temps si la valeur est déjà en centimètre (cm)\n",
        "if (locate('cm', value)>0, regexp_extract(value, \"(.+) cm\", 1),\n",
        "\n",
        "-- Si la première condition n'est pas vérifiée, on teste si la valeur contient ou pas des inches\n",
        "-- On convertit les feets en centimètres si il n'y a pas de inches\n",
        "if (locate('\"', value)=0 , cast(regexp_extract(value, \"(.+)'\", 1) as int)*30.48,\n",
        "\n",
        "-- Si il y a des 1/2 inches, on convertit les inches en feet en rajoutant 1/2 aux inches, puis on les met en centimètres\n",
        "if (locate('1/2', value)>0, (cast(regexp_extract(value, \"(.+)' ([0-9]+)\", 1) as int)+ (cast(regexp_extract(value, \"(.+)' ([0-9]+)\", 2) as int)+0.5)/12)*30.48,\n",
        "\n",
        "-- Sinon, on transforme les inches en feets et on les convertit ensuite en centimètres\n",
        "(cast(regexp_extract(value, \"(.+)' ?([0-9]+)\", 1) as int)+ cast(regexp_extract(value, \"(.+)' ?([0-9]+)\", 2) as int)/12)*30.48))) as height_in_cm\n",
        "\n",
        "from NameDetail\n",
        "where property = 'height'\n",
        ";\n",
        "\n",
        "select id, name, value as height, height_in_cm as heightInCm\n",
        "from Height\n",
        "order by float(height_in_cm) desc"
      ],
      "execution_count": null,
      "outputs": [
        {
          "output_type": "execute_result",
          "data": {
            "text/html": [
              "<div>\n",
              "<style scoped>\n",
              "    .dataframe tbody tr th:only-of-type {\n",
              "        vertical-align: middle;\n",
              "    }\n",
              "\n",
              "    .dataframe tbody tr th {\n",
              "        vertical-align: top;\n",
              "    }\n",
              "\n",
              "    .dataframe thead th {\n",
              "        text-align: right;\n",
              "    }\n",
              "</style>\n",
              "<table border=\"1\" class=\"dataframe\">\n",
              "  <thead>\n",
              "    <tr style=\"text-align: right;\">\n",
              "      <th></th>\n",
              "      <th>id</th>\n",
              "      <th>name</th>\n",
              "      <th>height</th>\n",
              "      <th>heightInCm</th>\n",
              "    </tr>\n",
              "  </thead>\n",
              "  <tbody>\n",
              "    <tr>\n",
              "      <th>0</th>\n",
              "      <td>111308</td>\n",
              "      <td>Bear, Bart the</td>\n",
              "      <td>9' 6\"</td>\n",
              "      <td>289.56</td>\n",
              "    </tr>\n",
              "    <tr>\n",
              "      <th>1</th>\n",
              "      <td>413534</td>\n",
              "      <td>Douglass, Jack</td>\n",
              "      <td>8' 11 1/2\"</td>\n",
              "      <td>273.04998984</td>\n",
              "    </tr>\n",
              "    <tr>\n",
              "      <th>2</th>\n",
              "      <td>1016803</td>\n",
              "      <td>McGrory, Matthew</td>\n",
              "      <td>7' 6\"</td>\n",
              "      <td>228.6</td>\n",
              "    </tr>\n",
              "    <tr>\n",
              "      <th>3</th>\n",
              "      <td>576560</td>\n",
              "      <td>Gonzáles, Jorge</td>\n",
              "      <td>7' 6\"</td>\n",
              "      <td>228.6</td>\n",
              "    </tr>\n",
              "    <tr>\n",
              "      <th>4</th>\n",
              "      <td>1711328</td>\n",
              "      <td>Yao, Ming</td>\n",
              "      <td>7' 5 1/2\"</td>\n",
              "      <td>227.32998984</td>\n",
              "    </tr>\n",
              "  </tbody>\n",
              "</table>\n",
              "</div>"
            ],
            "text/plain": [
              "        id              name      height    heightInCm\n",
              "0   111308    Bear, Bart the       9' 6\"        289.56\n",
              "1   413534    Douglass, Jack  8' 11 1/2\"  273.04998984\n",
              "2  1016803  McGrory, Matthew       7' 6\"         228.6\n",
              "3   576560   Gonzáles, Jorge       7' 6\"         228.6\n",
              "4  1711328         Yao, Ming   7' 5 1/2\"  227.32998984"
            ]
          },
          "metadata": {},
          "execution_count": 35
        }
      ]
    },
    {
      "cell_type": "markdown",
      "metadata": {
        "application/vnd.databricks.v1+cell": {
          "title": "",
          "showTitle": false,
          "inputWidgets": {},
          "nuid": "789f473b-e5d0-4b52-9c5d-71ae23de97bc"
        },
        "id": "iOzvYjK9GpLp"
      },
      "source": [
        "#### Question 3 : Magazine\n",
        "\n",
        " **MagazineCover**(id, name, magazine, country, day, month, year) donnant le nom du magazine dans lequel la personne est sur la couverture, avec le pays du magazine et la date de parution. Voir la propriété *magazine cover photo*."
      ]
    },
    {
      "cell_type": "code",
      "metadata": {
        "colab": {
          "base_uri": "https://localhost:8080/",
          "height": 203
        },
        "id": "YURBwWLAAgOZ",
        "outputId": "35248a69-2e1d-403c-8e56-f53b87e29ce4"
      },
      "source": [
        "%%sql\n",
        "\n",
        "create or replace temp view MagazineCover as\n",
        "select id, name, --value,\n",
        "\n",
        "-- Magazine : On extrait ce qui est entre les guillemets\n",
        "regexp_extract(value, '\\\\\"(.+)\\\\\"( \\\\(([^\\\\)]*)\\\\))*', 1) as Cover_from_Magazine,\n",
        "\n",
        "-- Pays : Le pays se trouve entre parenthèses après le magazine\n",
        "regexp_extract(value, '\\\\\"(.+)\\\\\"( \\\\(([^\\\\)]*)\\\\))*', 3) as Country,\n",
        "\n",
        "-- Date : Le jour peut ne pas apparaître, on extrait un ou deux chiffres consécutifs\n",
        "regexp_extract(value, '\\\\\"(.+)\\\\\"( \\\\(([^\\\\)]*)\\\\))*, (Vol\\\\. [0-9]+, )?(Iss\\\\. [0-9]+, )?([0-9]{1,2}) ', 6) as Day,\n",
        "\n",
        "-- Mois : Le mois peut ne pas apparaître, on extrait les lettres qui se trouvent entre les nombres\n",
        "regexp_extract(value, '\\\\\"(.+)\\\\\"( \\\\(([^\\\\)]*)\\\\))*, (Vol\\\\. [0-9]+, )?(Iss\\\\. [0-9]+, )?[^a-zA-Z]*([a-zA-Z\\\\-/]*)( [0-9]|$|,)', 6) as Month,\n",
        "\n",
        "-- Année : L'année peut ne pas apparaître, la base contient que des années de 4 chiffres consécutifs, on extrait alors suivant cette observation.\n",
        "regexp_extract(value, '\\\\\"(.+)\\\\\"( \\\\(([^\\\\)]*)\\\\))*, (Vol\\\\. [0-9]+, )?(Iss\\\\. [0-9]+, )?[^a-zA-Z]{0,2}[a-zA-Z \\\\-/]*[^a-zA-Z]{0,2}(, )?([0-9]{4})', 7) as Year\n",
        "\n",
        "from NameDetail\n",
        "where property = 'magazine cover photo';\n",
        "\n",
        "select * from MagazineCover;"
      ],
      "execution_count": null,
      "outputs": [
        {
          "output_type": "execute_result",
          "data": {
            "text/html": [
              "<div>\n",
              "<style scoped>\n",
              "    .dataframe tbody tr th:only-of-type {\n",
              "        vertical-align: middle;\n",
              "    }\n",
              "\n",
              "    .dataframe tbody tr th {\n",
              "        vertical-align: top;\n",
              "    }\n",
              "\n",
              "    .dataframe thead th {\n",
              "        text-align: right;\n",
              "    }\n",
              "</style>\n",
              "<table border=\"1\" class=\"dataframe\">\n",
              "  <thead>\n",
              "    <tr style=\"text-align: right;\">\n",
              "      <th></th>\n",
              "      <th>id</th>\n",
              "      <th>name</th>\n",
              "      <th>Cover_from_Magazine</th>\n",
              "      <th>Country</th>\n",
              "      <th>Day</th>\n",
              "      <th>Month</th>\n",
              "      <th>Year</th>\n",
              "    </tr>\n",
              "  </thead>\n",
              "  <tbody>\n",
              "    <tr>\n",
              "      <th>0</th>\n",
              "      <td>4662</td>\n",
              "      <td>Abramoff, Jack</td>\n",
              "      <td>Time</td>\n",
              "      <td>USA</td>\n",
              "      <td>16</td>\n",
              "      <td>January</td>\n",
              "      <td>2006</td>\n",
              "    </tr>\n",
              "    <tr>\n",
              "      <th>1</th>\n",
              "      <td>21326</td>\n",
              "      <td>Albers, Hans</td>\n",
              "      <td>Der Spiegel</td>\n",
              "      <td>Germany</td>\n",
              "      <td>14</td>\n",
              "      <td>February</td>\n",
              "      <td>2000</td>\n",
              "    </tr>\n",
              "    <tr>\n",
              "      <th>2</th>\n",
              "      <td>21326</td>\n",
              "      <td>Albers, Hans</td>\n",
              "      <td>Grosse Österreich Illustrierte</td>\n",
              "      <td>Austria</td>\n",
              "      <td>25</td>\n",
              "      <td>July</td>\n",
              "      <td>1953</td>\n",
              "    </tr>\n",
              "    <tr>\n",
              "      <th>3</th>\n",
              "      <td>21326</td>\n",
              "      <td>Albers, Hans</td>\n",
              "      <td>Das Ufer</td>\n",
              "      <td>West Germany</td>\n",
              "      <td></td>\n",
              "      <td>April</td>\n",
              "      <td>1951</td>\n",
              "    </tr>\n",
              "    <tr>\n",
              "      <th>4</th>\n",
              "      <td>21326</td>\n",
              "      <td>Albers, Hans</td>\n",
              "      <td>Quick</td>\n",
              "      <td>West Germany</td>\n",
              "      <td>25</td>\n",
              "      <td>February</td>\n",
              "      <td>1951</td>\n",
              "    </tr>\n",
              "  </tbody>\n",
              "</table>\n",
              "</div>"
            ],
            "text/plain": [
              "      id            name             Cover_from_Magazine       Country Day  \\\n",
              "0   4662  Abramoff, Jack                            Time           USA  16   \n",
              "1  21326    Albers, Hans                     Der Spiegel       Germany  14   \n",
              "2  21326    Albers, Hans  Grosse Österreich Illustrierte       Austria  25   \n",
              "3  21326    Albers, Hans                        Das Ufer  West Germany       \n",
              "4  21326    Albers, Hans                           Quick  West Germany  25   \n",
              "\n",
              "      Month  Year  \n",
              "0   January  2006  \n",
              "1  February  2000  \n",
              "2      July  1953  \n",
              "3     April  1951  \n",
              "4  February  1951  "
            ]
          },
          "metadata": {},
          "execution_count": 36
        }
      ]
    },
    {
      "cell_type": "markdown",
      "metadata": {
        "application/vnd.databricks.v1+cell": {
          "title": "",
          "showTitle": false,
          "inputWidgets": {},
          "nuid": "d42f8569-5e4e-4d3a-83f8-dde183f8c429"
        },
        "id": "_rSYDmFRGpLp"
      },
      "source": [
        "#### Question 4 : Trivia\n",
        "\n",
        "Deux tables détaillant les anecdotes connues sur des personnes, voir les valeurs de la propriété *trivia* d'une personne : \n",
        "- **TitleTrivia** (fromPersonId, fromPersonName, toTitleId, toTitleName, triviaText)\n",
        "- **NameTrivia** (fromPersonId,  fromPersonName, toPersonId, toPersonName, triviaText)\n",
        "    \n",
        "Indications :  \n",
        "\n",
        "Pour le champ toTitleId dans TitleTrivia : si le film n'est pas référencé dans la table TitleDetail, essayer de trouver une correspondance dans le fichier contenant tous les films (title_full).\n",
        "\n",
        "Pour le champ toPersonId dans NameTrivia : si la personne n'est pas référencée dans la table NameDetail, essayer de trouver une correspondance dans le fichier contenant toutes les personnes (name_full)."
      ]
    },
    {
      "cell_type": "code",
      "metadata": {
        "colab": {
          "base_uri": "https://localhost:8080/",
          "height": 203
        },
        "id": "Cd-eGmzl5N6f",
        "outputId": "3b01e0ef-01ad-4e7c-b258-acd29c7848ff"
      },
      "source": [
        "%%sql\n",
        "\n",
        "create or replace temp view T_TitleTrivia as\n",
        "select t.id, t.title,\n",
        "\n",
        "-- On fait une sous-requête pour extraire les id des titres présents dans TitleDetail\n",
        "(select first(t2.id) from TitleDetail t2 where t2.title = trim(regexp_extract(t.value, \"_([^_]+)_ \\\\(qv\\\\)\", 1))) as toTitleId,\n",
        "\n",
        "-- On extrait le nom du premier titre mentionné dans le trivia : entre '_' et avant (qv)\n",
        "trim(regexp_extract(t.value, \"_([^_]+)_ \\\\(qv\\\\)\", 1)) as toTitleName,\n",
        "t.value as triviaText\n",
        "from TitleDetail t\n",
        "-- On recupère les trivias concernant les films : qv\n",
        "where t.property = 'trivia' and t.value like '%(qv)%';\n",
        "\n",
        "create or replace temp view TitleTrivia as\n",
        "select t.id as fromTitleId, t.title as fromTitleName,\n",
        "\n",
        "-- si l'id n'a pas été trouvé dans TitleDetail, alors on cherche une correspondance dans TitleAll\n",
        "if (t.toTitleId is not null, t.toTitleId, \n",
        "(select first(ta.id) from TitleAll ta where t.toTitleName = ta.title)\n",
        ") as toTitleId,\n",
        "\n",
        "t.toTitleName, triviaText\n",
        "from T_TitleTrivia t;\n",
        "\n",
        "\n",
        "select * from TitleTrivia"
      ],
      "execution_count": null,
      "outputs": [
        {
          "output_type": "execute_result",
          "data": {
            "text/html": [
              "<div>\n",
              "<style scoped>\n",
              "    .dataframe tbody tr th:only-of-type {\n",
              "        vertical-align: middle;\n",
              "    }\n",
              "\n",
              "    .dataframe tbody tr th {\n",
              "        vertical-align: top;\n",
              "    }\n",
              "\n",
              "    .dataframe thead th {\n",
              "        text-align: right;\n",
              "    }\n",
              "</style>\n",
              "<table border=\"1\" class=\"dataframe\">\n",
              "  <thead>\n",
              "    <tr style=\"text-align: right;\">\n",
              "      <th></th>\n",
              "      <th>fromTitleId</th>\n",
              "      <th>fromTitleName</th>\n",
              "      <th>toTitleId</th>\n",
              "      <th>toTitleName</th>\n",
              "      <th>triviaText</th>\n",
              "    </tr>\n",
              "  </thead>\n",
              "  <tbody>\n",
              "    <tr>\n",
              "      <th>0</th>\n",
              "      <td>1665420</td>\n",
              "      <td>Adam</td>\n",
              "      <td>NaN</td>\n",
              "      <td>\"America's Most Wanted\" (1988)</td>\n",
              "      <td>Based on the true story of the kidnapping of A...</td>\n",
              "    </tr>\n",
              "    <tr>\n",
              "      <th>1</th>\n",
              "      <td>669945</td>\n",
              "      <td>Jekyll</td>\n",
              "      <td>NaN</td>\n",
              "      <td>\"Doctor Who\" (2005)</td>\n",
              "      <td>'Michelle Ryan (II)' (qv), 'Meera Syal' (qv) a...</td>\n",
              "    </tr>\n",
              "    <tr>\n",
              "      <th>2</th>\n",
              "      <td>438248</td>\n",
              "      <td>The Catwalk</td>\n",
              "      <td>NaN</td>\n",
              "      <td>\"Enterprise\" (2001)</td>\n",
              "      <td>This is the only time in the entire _\"Enterpri...</td>\n",
              "    </tr>\n",
              "    <tr>\n",
              "      <th>3</th>\n",
              "      <td>1417866</td>\n",
              "      <td>The Simpsons</td>\n",
              "      <td>NaN</td>\n",
              "      <td>\"Gunsmoke\" (1955)</td>\n",
              "      <td>With the show being renewed until 2011, it wil...</td>\n",
              "    </tr>\n",
              "    <tr>\n",
              "      <th>4</th>\n",
              "      <td>843900</td>\n",
              "      <td>Cover Boy</td>\n",
              "      <td>NaN</td>\n",
              "      <td>\"He &amp; She\" (1967)</td>\n",
              "      <td>The character of Ted Baxter was openly pattern...</td>\n",
              "    </tr>\n",
              "  </tbody>\n",
              "</table>\n",
              "</div>"
            ],
            "text/plain": [
              "   fromTitleId fromTitleName  toTitleId                     toTitleName  \\\n",
              "0      1665420          Adam        NaN  \"America's Most Wanted\" (1988)   \n",
              "1       669945        Jekyll        NaN             \"Doctor Who\" (2005)   \n",
              "2       438248   The Catwalk        NaN             \"Enterprise\" (2001)   \n",
              "3      1417866  The Simpsons        NaN               \"Gunsmoke\" (1955)   \n",
              "4       843900     Cover Boy        NaN               \"He & She\" (1967)   \n",
              "\n",
              "                                          triviaText  \n",
              "0  Based on the true story of the kidnapping of A...  \n",
              "1  'Michelle Ryan (II)' (qv), 'Meera Syal' (qv) a...  \n",
              "2  This is the only time in the entire _\"Enterpri...  \n",
              "3  With the show being renewed until 2011, it wil...  \n",
              "4  The character of Ted Baxter was openly pattern...  "
            ]
          },
          "metadata": {},
          "execution_count": 37
        }
      ]
    },
    {
      "cell_type": "code",
      "metadata": {
        "colab": {
          "base_uri": "https://localhost:8080/",
          "height": 203
        },
        "id": "juAcqBuiw7O4",
        "outputId": "50771caa-99cf-44a2-f0b2-b0be059be75f"
      },
      "source": [
        "%%sql\n",
        "\n",
        "create or replace temp view T_NameTrivia as\n",
        "select n.id, n.name,\n",
        "\n",
        "-- On fait une sous-requête pour extraire les id des personnes présentes dans NameDetail\n",
        "(select first(n2.id) from NameDetail n2 where n2.name = trim(regexp_extract(n.value, \"\\\\'([^\\\\']+)\\\\' \\\\(qv\\\\)\", 1))) as toPersonId,\n",
        "\n",
        "-- On extrait le nom de la première personne mentionnée dans le trivia : entre quote et avant (qv)\n",
        "trim(regexp_extract(n.value, \"\\\\'([^\\\\']+)\\\\' \\\\(qv\\\\)\", 1)) as toPersonName,\n",
        "n.value as triviaText\n",
        "from NameDetail n\n",
        "-- On recupère les trivias concernant les films : qv\n",
        "where n.property = 'trivia' and n.value like '%(qv)%';\n",
        "\n",
        "\n",
        "create or replace temp view NameTrivia as\n",
        "select t.id as fromPersonId, t.name as fromPersonName,\n",
        "\n",
        "-- si l'id n'a pas été trouvé dans NameDetail, alors on cherche une correspondance dans NameAll\n",
        "if (t.toPersonId is not null, t.toPersonId, \n",
        "(select first(na.id) from NameAll na where t.toPersonName = na.name)\n",
        ") as toPersonId,\n",
        "\n",
        "t.toPersonName, triviaText\n",
        "from T_NameTrivia t;\n",
        "\n",
        "\n",
        "select * from NameTrivia"
      ],
      "execution_count": null,
      "outputs": [
        {
          "output_type": "execute_result",
          "data": {
            "text/html": [
              "<div>\n",
              "<style scoped>\n",
              "    .dataframe tbody tr th:only-of-type {\n",
              "        vertical-align: middle;\n",
              "    }\n",
              "\n",
              "    .dataframe tbody tr th {\n",
              "        vertical-align: top;\n",
              "    }\n",
              "\n",
              "    .dataframe thead th {\n",
              "        text-align: right;\n",
              "    }\n",
              "</style>\n",
              "<table border=\"1\" class=\"dataframe\">\n",
              "  <thead>\n",
              "    <tr style=\"text-align: right;\">\n",
              "      <th></th>\n",
              "      <th>fromPersonId</th>\n",
              "      <th>fromPersonName</th>\n",
              "      <th>toPersonId</th>\n",
              "      <th>toPersonName</th>\n",
              "      <th>triviaText</th>\n",
              "    </tr>\n",
              "  </thead>\n",
              "  <tbody>\n",
              "    <tr>\n",
              "      <th>0</th>\n",
              "      <td>2555649</td>\n",
              "      <td>Spears, Britney</td>\n",
              "      <td>113</td>\n",
              "      <td>*NSYNC</td>\n",
              "      <td>June 2001: Two Texas DJs created a panic for h...</td>\n",
              "    </tr>\n",
              "    <tr>\n",
              "      <th>1</th>\n",
              "      <td>104362</td>\n",
              "      <td>Bass, Lance</td>\n",
              "      <td>113</td>\n",
              "      <td>*NSYNC</td>\n",
              "      <td>Was the last member to join '*NSYNC' (qv), aft...</td>\n",
              "    </tr>\n",
              "    <tr>\n",
              "      <th>2</th>\n",
              "      <td>104362</td>\n",
              "      <td>Bass, Lance</td>\n",
              "      <td>113</td>\n",
              "      <td>*NSYNC</td>\n",
              "      <td>Performed with '*NSYNC' (qv) in the 1998 and 1...</td>\n",
              "    </tr>\n",
              "    <tr>\n",
              "      <th>3</th>\n",
              "      <td>104362</td>\n",
              "      <td>Bass, Lance</td>\n",
              "      <td>113</td>\n",
              "      <td>*NSYNC</td>\n",
              "      <td>Member of boy group '*NSYNC' (qv).</td>\n",
              "    </tr>\n",
              "    <tr>\n",
              "      <th>4</th>\n",
              "      <td>104362</td>\n",
              "      <td>Bass, Lance</td>\n",
              "      <td>113</td>\n",
              "      <td>*NSYNC</td>\n",
              "      <td>(November 1999) Performed with '*NSYNC' (qv) o...</td>\n",
              "    </tr>\n",
              "  </tbody>\n",
              "</table>\n",
              "</div>"
            ],
            "text/plain": [
              "   fromPersonId   fromPersonName  toPersonId toPersonName  \\\n",
              "0       2555649  Spears, Britney         113       *NSYNC   \n",
              "1        104362      Bass, Lance         113       *NSYNC   \n",
              "2        104362      Bass, Lance         113       *NSYNC   \n",
              "3        104362      Bass, Lance         113       *NSYNC   \n",
              "4        104362      Bass, Lance         113       *NSYNC   \n",
              "\n",
              "                                          triviaText  \n",
              "0  June 2001: Two Texas DJs created a panic for h...  \n",
              "1  Was the last member to join '*NSYNC' (qv), aft...  \n",
              "2  Performed with '*NSYNC' (qv) in the 1998 and 1...  \n",
              "3                 Member of boy group '*NSYNC' (qv).  \n",
              "4  (November 1999) Performed with '*NSYNC' (qv) o...  "
            ]
          },
          "metadata": {},
          "execution_count": 38
        }
      ]
    },
    {
      "cell_type": "markdown",
      "metadata": {
        "application/vnd.databricks.v1+cell": {
          "title": "",
          "showTitle": false,
          "inputWidgets": {},
          "nuid": "020212e2-441a-4e2f-8861-26910c91c528"
        },
        "id": "A832jH_NGpLp"
      },
      "source": [
        "#### Question : 5 Lien IMDB-YAGO"
      ]
    },
    {
      "cell_type": "markdown",
      "metadata": {
        "application/vnd.databricks.v1+cell": {
          "title": "",
          "showTitle": false,
          "inputWidgets": {},
          "nuid": "1a37b690-e8d5-46af-af02-86207aa82edd"
        },
        "id": "AVCVMTRgGpLp"
      },
      "source": [
        "On suppose que certaines personnes sont présentes à la fois dans IMDB et dans YAGO mais elles ne sont pas structurées de la même façon.\n",
        "\n",
        "5a) Compléter les Personnes existant dans NameDetail avec des informations venant de yago (voir **yagoPerson** et **actorFacts**). \n",
        "Pour cela, définir la relation qui donne le lieu de naissance et le conjoint (ou la conjointe) d'une personne :\n",
        "\n",
        "  - **NameYago** (id, name, yagoName, yagoBirthPlace, yagoSpouse) \n",
        "\n",
        "5b) Compléter le contenu de NameYago pour les personnes de IMDB existant dans *name_full*."
      ]
    },
    {
      "cell_type": "code",
      "metadata": {
        "id": "p0gjqIwn6pUm"
      },
      "source": [
        "# Création des vues temporaires YagoPerson et ActorFacts pour la création des tables\n",
        "yagoPerson.createOrReplaceTempView(\"YagoPerson\")\n",
        "actorFacts.createOrReplaceTempView(\"ActorFacts\")"
      ],
      "execution_count": null,
      "outputs": []
    },
    {
      "cell_type": "code",
      "metadata": {
        "colab": {
          "base_uri": "https://localhost:8080/",
          "height": 203
        },
        "id": "1vNYe6cc80ue",
        "outputId": "3d121c5d-28e0-4ba1-f1c5-a490f7517f12"
      },
      "source": [
        "%%sql\n",
        "-- Création des tables de yagoPerson et actorFacts en retirant les patterns récurrents (les liens)\n",
        "\n",
        "-- Création de la table YagoP à partir de yagoPerson\n",
        "create or replace temp view YagoP as\n",
        "select regexp_extract(subject, '<http://yago-knowledge.org/resource/([^>]*)>') as personName\n",
        "from yagoPerson\n",
        ";\n",
        "\n",
        "-- Création de la table ActorF à partir de actorFacts\n",
        "create or replace temp view ActorF as\n",
        "select regexp_extract(subject, '<http://yago-knowledge.org/resource/([^>]*)>') as personName,\n",
        "regexp_extract(property, '<http://schema.org/([^>]*)>') as property,\n",
        "regexp_extract(object, '<http://yago-knowledge.org/resource/([^>]*)>') as value\n",
        "from actorFacts\n",
        ";\n",
        "\n",
        "-- Affichage rapide des attributs des deux tables\n",
        "select * \n",
        "from YagoP p, ActorF a \n",
        "where p.personName = a.personName"
      ],
      "execution_count": null,
      "outputs": [
        {
          "output_type": "execute_result",
          "data": {
            "text/html": [
              "<div>\n",
              "<style scoped>\n",
              "    .dataframe tbody tr th:only-of-type {\n",
              "        vertical-align: middle;\n",
              "    }\n",
              "\n",
              "    .dataframe tbody tr th {\n",
              "        vertical-align: top;\n",
              "    }\n",
              "\n",
              "    .dataframe thead th {\n",
              "        text-align: right;\n",
              "    }\n",
              "</style>\n",
              "<table border=\"1\" class=\"dataframe\">\n",
              "  <thead>\n",
              "    <tr style=\"text-align: right;\">\n",
              "      <th></th>\n",
              "      <th>personName</th>\n",
              "      <th>personName</th>\n",
              "      <th>property</th>\n",
              "      <th>value</th>\n",
              "    </tr>\n",
              "  </thead>\n",
              "  <tbody>\n",
              "    <tr>\n",
              "      <th>0</th>\n",
              "      <td>50_Cent</td>\n",
              "      <td>50_Cent</td>\n",
              "      <td>award</td>\n",
              "      <td>Billboard_Music_Award</td>\n",
              "    </tr>\n",
              "    <tr>\n",
              "      <th>1</th>\n",
              "      <td>50_Cent</td>\n",
              "      <td>50_Cent</td>\n",
              "      <td>image</td>\n",
              "      <td></td>\n",
              "    </tr>\n",
              "    <tr>\n",
              "      <th>2</th>\n",
              "      <td>50_Cent</td>\n",
              "      <td>50_Cent</td>\n",
              "      <td>nationality</td>\n",
              "      <td>United_States</td>\n",
              "    </tr>\n",
              "    <tr>\n",
              "      <th>3</th>\n",
              "      <td>50_Cent</td>\n",
              "      <td>50_Cent</td>\n",
              "      <td>familyName</td>\n",
              "      <td>Jackson_(name)</td>\n",
              "    </tr>\n",
              "    <tr>\n",
              "      <th>4</th>\n",
              "      <td>50_Cent</td>\n",
              "      <td>50_Cent</td>\n",
              "      <td>familyName</td>\n",
              "      <td>James_(surname)</td>\n",
              "    </tr>\n",
              "  </tbody>\n",
              "</table>\n",
              "</div>"
            ],
            "text/plain": [
              "  personName personName     property                  value\n",
              "0    50_Cent    50_Cent        award  Billboard_Music_Award\n",
              "1    50_Cent    50_Cent        image                       \n",
              "2    50_Cent    50_Cent  nationality          United_States\n",
              "3    50_Cent    50_Cent   familyName         Jackson_(name)\n",
              "4    50_Cent    50_Cent   familyName        James_(surname)"
            ]
          },
          "metadata": {},
          "execution_count": 40
        }
      ]
    },
    {
      "cell_type": "code",
      "metadata": {
        "colab": {
          "base_uri": "https://localhost:8080/",
          "height": 203
        },
        "id": "_wwwH9A-4j05",
        "outputId": "6c556343-fe40-40e8-a3d5-96469d0afa7d"
      },
      "source": [
        "%%sql\n",
        "-- 5a) Objectif : NameYago (id, name, yagoName, yagoBirthPlace, yagoSpouse)\n",
        "\n",
        "create or replace temp view NameYago as\n",
        "select distinct n.id, n.name, b.personName as yagoName, b.lieu as yagoBirthPlace, s.spouse as yagoSpouse\n",
        "from NameDetail n,\n",
        "-- Sous-requête pour obtenir le lieu de naissance\n",
        "(select personName, value as lieu from ActorF where property = 'birthPlace') as b,\n",
        "-- Sous-requête pour obtenir le nom du conjoint(e)\n",
        "(select personName, value as spouse from ActorF where property = 'spouse') as s\n",
        "-- Jointure sur les noms des personnes\n",
        "where n.name = b.personName and n.name = s.personName\n",
        ";\n",
        "\n",
        "select * from NameYago"
      ],
      "execution_count": null,
      "outputs": [
        {
          "output_type": "execute_result",
          "data": {
            "text/html": [
              "<div>\n",
              "<style scoped>\n",
              "    .dataframe tbody tr th:only-of-type {\n",
              "        vertical-align: middle;\n",
              "    }\n",
              "\n",
              "    .dataframe tbody tr th {\n",
              "        vertical-align: top;\n",
              "    }\n",
              "\n",
              "    .dataframe thead th {\n",
              "        text-align: right;\n",
              "    }\n",
              "</style>\n",
              "<table border=\"1\" class=\"dataframe\">\n",
              "  <thead>\n",
              "    <tr style=\"text-align: right;\">\n",
              "      <th></th>\n",
              "      <th>id</th>\n",
              "      <th>name</th>\n",
              "      <th>yagoName</th>\n",
              "      <th>yagoBirthPlace</th>\n",
              "      <th>yagoSpouse</th>\n",
              "    </tr>\n",
              "  </thead>\n",
              "  <tbody>\n",
              "    <tr>\n",
              "      <th>0</th>\n",
              "      <td>716114</td>\n",
              "      <td>Ice-T</td>\n",
              "      <td>Ice-T</td>\n",
              "      <td>Newark,_New_Jersey</td>\n",
              "      <td>Coco_Austin</td>\n",
              "    </tr>\n",
              "    <tr>\n",
              "      <th>1</th>\n",
              "      <td>2208688</td>\n",
              "      <td>Kyla</td>\n",
              "      <td>Kyla</td>\n",
              "      <td>Tondo,_Manila</td>\n",
              "      <td>Rich_Alvarez</td>\n",
              "    </tr>\n",
              "    <tr>\n",
              "      <th>2</th>\n",
              "      <td>2298105</td>\n",
              "      <td>Maïwenn</td>\n",
              "      <td>Maïwenn</td>\n",
              "      <td>Les_Lilas</td>\n",
              "      <td>Luc_Besson</td>\n",
              "    </tr>\n",
              "    <tr>\n",
              "      <th>3</th>\n",
              "      <td>2524210</td>\n",
              "      <td>Shabnam</td>\n",
              "      <td>Shabnam</td>\n",
              "      <td>Dhaka</td>\n",
              "      <td>Robin_Ghosh</td>\n",
              "    </tr>\n",
              "    <tr>\n",
              "      <th>4</th>\n",
              "      <td>2524329</td>\n",
              "      <td>Shadia</td>\n",
              "      <td>Shadia</td>\n",
              "      <td>Cairo</td>\n",
              "      <td>Emad_Hamdy</td>\n",
              "    </tr>\n",
              "  </tbody>\n",
              "</table>\n",
              "</div>"
            ],
            "text/plain": [
              "        id     name yagoName      yagoBirthPlace    yagoSpouse\n",
              "0   716114    Ice-T    Ice-T  Newark,_New_Jersey   Coco_Austin\n",
              "1  2208688     Kyla     Kyla       Tondo,_Manila  Rich_Alvarez\n",
              "2  2298105  Maïwenn  Maïwenn           Les_Lilas    Luc_Besson\n",
              "3  2524210  Shabnam  Shabnam               Dhaka   Robin_Ghosh\n",
              "4  2524329   Shadia   Shadia               Cairo    Emad_Hamdy"
            ]
          },
          "metadata": {},
          "execution_count": 41
        }
      ]
    },
    {
      "cell_type": "code",
      "metadata": {
        "colab": {
          "base_uri": "https://localhost:8080/",
          "height": 203
        },
        "id": "F6uMmB3nKVYb",
        "outputId": "2f3f0e46-9271-4b15-bd6e-d4d0ccec91af"
      },
      "source": [
        "%%sql\n",
        "-- 5b)\n",
        "\n",
        "create or replace temp view NameYagob as\n",
        "select distinct n.id, n.name, b.personName as yagoName, b.lieu as yagoBirthPlace, s.spouse as yagoSpouse\n",
        "from NameAll n,\n",
        "-- Sous-requête pour obtenir le lieu de naissance\n",
        "(select personName, value as lieu from ActorF where property = 'birthPlace') as b,\n",
        "-- Sous-requête pour obtenir le nom du conjoint(e)\n",
        "(select personName, value as spouse from ActorF where property = 'spouse') as s\n",
        "-- Jointure sur les noms des personnes\n",
        "where n.name = b.personName and n.name = s.personName\n",
        ";\n",
        "\n",
        "select * from NameYagob"
      ],
      "execution_count": null,
      "outputs": [
        {
          "output_type": "execute_result",
          "data": {
            "text/html": [
              "<div>\n",
              "<style scoped>\n",
              "    .dataframe tbody tr th:only-of-type {\n",
              "        vertical-align: middle;\n",
              "    }\n",
              "\n",
              "    .dataframe tbody tr th {\n",
              "        vertical-align: top;\n",
              "    }\n",
              "\n",
              "    .dataframe thead th {\n",
              "        text-align: right;\n",
              "    }\n",
              "</style>\n",
              "<table border=\"1\" class=\"dataframe\">\n",
              "  <thead>\n",
              "    <tr style=\"text-align: right;\">\n",
              "      <th></th>\n",
              "      <th>id</th>\n",
              "      <th>name</th>\n",
              "      <th>yagoName</th>\n",
              "      <th>yagoBirthPlace</th>\n",
              "      <th>yagoSpouse</th>\n",
              "    </tr>\n",
              "  </thead>\n",
              "  <tbody>\n",
              "    <tr>\n",
              "      <th>0</th>\n",
              "      <td>442402</td>\n",
              "      <td>Eita</td>\n",
              "      <td>Eita</td>\n",
              "      <td>Niigata_Prefecture</td>\n",
              "      <td>Kaela_Kimura</td>\n",
              "    </tr>\n",
              "    <tr>\n",
              "      <th>1</th>\n",
              "      <td>1997731</td>\n",
              "      <td>Fairuz</td>\n",
              "      <td>Fairuz</td>\n",
              "      <td>Beirut</td>\n",
              "      <td>Assi_Rahbani</td>\n",
              "    </tr>\n",
              "    <tr>\n",
              "      <th>2</th>\n",
              "      <td>3251095</td>\n",
              "      <td>Fairuz</td>\n",
              "      <td>Fairuz</td>\n",
              "      <td>Beirut</td>\n",
              "      <td>Assi_Rahbani</td>\n",
              "    </tr>\n",
              "    <tr>\n",
              "      <th>3</th>\n",
              "      <td>3687536</td>\n",
              "      <td>Fairuz</td>\n",
              "      <td>Fairuz</td>\n",
              "      <td>Beirut</td>\n",
              "      <td>Assi_Rahbani</td>\n",
              "    </tr>\n",
              "    <tr>\n",
              "      <th>4</th>\n",
              "      <td>716114</td>\n",
              "      <td>Ice-T</td>\n",
              "      <td>Ice-T</td>\n",
              "      <td>Newark,_New_Jersey</td>\n",
              "      <td>Coco_Austin</td>\n",
              "    </tr>\n",
              "  </tbody>\n",
              "</table>\n",
              "</div>"
            ],
            "text/plain": [
              "        id    name yagoName      yagoBirthPlace    yagoSpouse\n",
              "0   442402    Eita     Eita  Niigata_Prefecture  Kaela_Kimura\n",
              "1  1997731  Fairuz   Fairuz              Beirut  Assi_Rahbani\n",
              "2  3251095  Fairuz   Fairuz              Beirut  Assi_Rahbani\n",
              "3  3687536  Fairuz   Fairuz              Beirut  Assi_Rahbani\n",
              "4   716114   Ice-T    Ice-T  Newark,_New_Jersey   Coco_Austin"
            ]
          },
          "metadata": {},
          "execution_count": 42
        }
      ]
    },
    {
      "cell_type": "markdown",
      "metadata": {
        "application/vnd.databricks.v1+cell": {
          "title": "",
          "showTitle": false,
          "inputWidgets": {},
          "nuid": "1b45d81b-c78d-41da-bdd8-80d0e1624ba3"
        },
        "id": "JPuDBHQXGpLp"
      },
      "source": [
        "### Exercice 2 : Analyse"
      ]
    },
    {
      "cell_type": "markdown",
      "metadata": {
        "application/vnd.databricks.v1+cell": {
          "title": "",
          "showTitle": false,
          "inputWidgets": {},
          "nuid": "f8bf9b3d-00d1-43dd-a124-be3e6a9be13f"
        },
        "id": "k_MARGCHGpLp"
      },
      "source": [
        "#### Question 6 : Restructuration\n",
        "L'objectif de cette question est de savoir définir une structure complexe contenant des attributs qui ne sont pas des valeurs simples mais les listes, des tuples, des listes de tuples, ...\n",
        "\n",
        "Définir une table **Film** (id, titre, roles, paysSalles) avec \n",
        " - *roles* est une liste de tuples (acteur, nom, rang) où rang est le numéro d'ordre du rôle (attribu *nr_order*)\n",
        " - *paysSalles* est la liste des pays où le film est sorti en salles, triée par revenu dans le pays"
      ]
    },
    {
      "cell_type": "code",
      "metadata": {
        "colab": {
          "base_uri": "https://localhost:8080/",
          "height": 203
        },
        "id": "kYoEoH3iY7vi",
        "outputId": "e3dc991a-9080-4a8b-fbb3-4d43ed1e04be"
      },
      "source": [
        "%%sql\n",
        "\n",
        "-- Pour définir la table Film, nous allons procéder en 3 étapes : \n",
        "-- 1) création de la table contenant les roles pour chaque id de film\n",
        "-- 2) création de la table contenant les pays pour chaque id de film\n",
        "-- 3) création de la table Film en récupérant tous les attributs attendus\n",
        "\n",
        "-- 1) \n",
        "-- On utile collect_list sur plusieurs attributs pour créer des tuples et distinct pour enlever les doublons\n",
        "create or replace temp view MovieRoles as\n",
        "select c.movie_id, collect_list(distinct (n.id, r.role,c.nr_order)) as roles\n",
        "from NameDetail n, Role_Type r, Cast_Info c\n",
        "where n.id = c.person_id and c.role_id = r.id\n",
        "group by c.movie_id;\n",
        "\n",
        "select * from MovieRoles"
      ],
      "execution_count": null,
      "outputs": [
        {
          "output_type": "execute_result",
          "data": {
            "text/html": [
              "<div>\n",
              "<style scoped>\n",
              "    .dataframe tbody tr th:only-of-type {\n",
              "        vertical-align: middle;\n",
              "    }\n",
              "\n",
              "    .dataframe tbody tr th {\n",
              "        vertical-align: top;\n",
              "    }\n",
              "\n",
              "    .dataframe thead th {\n",
              "        text-align: right;\n",
              "    }\n",
              "</style>\n",
              "<table border=\"1\" class=\"dataframe\">\n",
              "  <thead>\n",
              "    <tr style=\"text-align: right;\">\n",
              "      <th></th>\n",
              "      <th>movie_id</th>\n",
              "      <th>roles</th>\n",
              "    </tr>\n",
              "  </thead>\n",
              "  <tbody>\n",
              "    <tr>\n",
              "      <th>0</th>\n",
              "      <td>434</td>\n",
              "      <td>[(1770691, actress, 7), (423423, actor, None),...</td>\n",
              "    </tr>\n",
              "    <tr>\n",
              "      <th>1</th>\n",
              "      <td>1680</td>\n",
              "      <td>[(1084034, producer, None)]</td>\n",
              "    </tr>\n",
              "    <tr>\n",
              "      <th>2</th>\n",
              "      <td>1841</td>\n",
              "      <td>[(1053812, actor, None)]</td>\n",
              "    </tr>\n",
              "    <tr>\n",
              "      <th>3</th>\n",
              "      <td>2977</td>\n",
              "      <td>[(1658620, actor, None), (987079, editor, None...</td>\n",
              "    </tr>\n",
              "    <tr>\n",
              "      <th>4</th>\n",
              "      <td>3228</td>\n",
              "      <td>[(1744984, actress, 1), (2173288, actress, Non...</td>\n",
              "    </tr>\n",
              "  </tbody>\n",
              "</table>\n",
              "</div>"
            ],
            "text/plain": [
              "   movie_id                                              roles\n",
              "0       434  [(1770691, actress, 7), (423423, actor, None),...\n",
              "1      1680                        [(1084034, producer, None)]\n",
              "2      1841                           [(1053812, actor, None)]\n",
              "3      2977  [(1658620, actor, None), (987079, editor, None...\n",
              "4      3228  [(1744984, actress, 1), (2173288, actress, Non..."
            ]
          },
          "metadata": {},
          "execution_count": 43
        }
      ]
    },
    {
      "cell_type": "code",
      "metadata": {
        "colab": {
          "base_uri": "https://localhost:8080/",
          "height": 203
        },
        "id": "lFZcn1JViehH",
        "outputId": "be7cb86c-5cce-4f4c-b783-abe3016c9a75"
      },
      "source": [
        "%%sql\n",
        "\n",
        "-- 2) \n",
        "-- Les pays se trouvent dans info de la table movie_info\n",
        "create or replace temp view MoviePays as\n",
        "select c.movie_id,  collect_list(distinct regexp_extract(m.info, '([^:]+)')) as pays\n",
        "from Cast_Info c, Movie_Info m\n",
        "where m.movie_id = c.movie_id and m.info_type_id=16\n",
        "group by c.movie_id;\n",
        "\n",
        "select * from MoviePays"
      ],
      "execution_count": null,
      "outputs": [
        {
          "output_type": "execute_result",
          "data": {
            "text/html": [
              "<div>\n",
              "<style scoped>\n",
              "    .dataframe tbody tr th:only-of-type {\n",
              "        vertical-align: middle;\n",
              "    }\n",
              "\n",
              "    .dataframe tbody tr th {\n",
              "        vertical-align: top;\n",
              "    }\n",
              "\n",
              "    .dataframe thead th {\n",
              "        text-align: right;\n",
              "    }\n",
              "</style>\n",
              "<table border=\"1\" class=\"dataframe\">\n",
              "  <thead>\n",
              "    <tr style=\"text-align: right;\">\n",
              "      <th></th>\n",
              "      <th>movie_id</th>\n",
              "      <th>pays</th>\n",
              "    </tr>\n",
              "  </thead>\n",
              "  <tbody>\n",
              "    <tr>\n",
              "      <th>0</th>\n",
              "      <td>434</td>\n",
              "      <td>[Netherlands]</td>\n",
              "    </tr>\n",
              "    <tr>\n",
              "      <th>1</th>\n",
              "      <td>1680</td>\n",
              "      <td>[USA]</td>\n",
              "    </tr>\n",
              "    <tr>\n",
              "      <th>2</th>\n",
              "      <td>1841</td>\n",
              "      <td>[Spain]</td>\n",
              "    </tr>\n",
              "    <tr>\n",
              "      <th>3</th>\n",
              "      <td>2977</td>\n",
              "      <td>[USA]</td>\n",
              "    </tr>\n",
              "    <tr>\n",
              "      <th>4</th>\n",
              "      <td>3228</td>\n",
              "      <td>[USA]</td>\n",
              "    </tr>\n",
              "  </tbody>\n",
              "</table>\n",
              "</div>"
            ],
            "text/plain": [
              "   movie_id           pays\n",
              "0       434  [Netherlands]\n",
              "1      1680          [USA]\n",
              "2      1841        [Spain]\n",
              "3      2977          [USA]\n",
              "4      3228          [USA]"
            ]
          },
          "metadata": {},
          "execution_count": 44
        }
      ]
    },
    {
      "cell_type": "code",
      "metadata": {
        "colab": {
          "base_uri": "https://localhost:8080/",
          "height": 203
        },
        "id": "dR0Txv8R115R",
        "outputId": "cebf057f-7333-459a-ba9d-b3366f5e38c3"
      },
      "source": [
        "%%sql\n",
        "\n",
        "-- 3) \n",
        "-- On fait la jointure avec les deux tables précédentes et on récupère les attributs qui nous intéresse\n",
        "create or replace temp view Film as\n",
        "select distinct c.movie_id as id, t.title as titre, mr.roles, mp.pays as paysSalles\n",
        "from Cast_Info c, TitleDetail t, MovieRoles mr, MoviePays mp\n",
        "where c.movie_id = t.id and c.movie_id = mr.movie_id and c.movie_id = mp.movie_id;\n",
        "\n",
        "select * from Film -- where size(paysSalles) > 1;"
      ],
      "execution_count": null,
      "outputs": [
        {
          "output_type": "execute_result",
          "data": {
            "text/html": [
              "<div>\n",
              "<style scoped>\n",
              "    .dataframe tbody tr th:only-of-type {\n",
              "        vertical-align: middle;\n",
              "    }\n",
              "\n",
              "    .dataframe tbody tr th {\n",
              "        vertical-align: top;\n",
              "    }\n",
              "\n",
              "    .dataframe thead th {\n",
              "        text-align: right;\n",
              "    }\n",
              "</style>\n",
              "<table border=\"1\" class=\"dataframe\">\n",
              "  <thead>\n",
              "    <tr style=\"text-align: right;\">\n",
              "      <th></th>\n",
              "      <th>id</th>\n",
              "      <th>titre</th>\n",
              "      <th>roles</th>\n",
              "      <th>paysSalles</th>\n",
              "    </tr>\n",
              "  </thead>\n",
              "  <tbody>\n",
              "    <tr>\n",
              "      <th>0</th>\n",
              "      <td>434</td>\n",
              "      <td>Brand in Mokum</td>\n",
              "      <td>[(1770691, actress, 7), (423423, actor, None),...</td>\n",
              "      <td>[Netherlands]</td>\n",
              "    </tr>\n",
              "    <tr>\n",
              "      <th>1</th>\n",
              "      <td>1680</td>\n",
              "      <td>A Tiny Problem in the Kitchen</td>\n",
              "      <td>[(1084034, producer, None)]</td>\n",
              "      <td>[USA]</td>\n",
              "    </tr>\n",
              "    <tr>\n",
              "      <th>2</th>\n",
              "      <td>1841</td>\n",
              "      <td>(2005-03-20)</td>\n",
              "      <td>[(1053812, actor, None)]</td>\n",
              "      <td>[Spain]</td>\n",
              "    </tr>\n",
              "    <tr>\n",
              "      <th>3</th>\n",
              "      <td>2977</td>\n",
              "      <td>Death: The Gift That Lasts Forever</td>\n",
              "      <td>[(1658620, actor, None), (987079, editor, None...</td>\n",
              "      <td>[USA]</td>\n",
              "    </tr>\n",
              "    <tr>\n",
              "      <th>4</th>\n",
              "      <td>3228</td>\n",
              "      <td>He Followed Me Home/Love 'Em and Flea 'Em</td>\n",
              "      <td>[(1744984, actress, 1), (2173288, actress, Non...</td>\n",
              "      <td>[USA]</td>\n",
              "    </tr>\n",
              "  </tbody>\n",
              "</table>\n",
              "</div>"
            ],
            "text/plain": [
              "     id                                      titre  \\\n",
              "0   434                             Brand in Mokum   \n",
              "1  1680              A Tiny Problem in the Kitchen   \n",
              "2  1841                               (2005-03-20)   \n",
              "3  2977         Death: The Gift That Lasts Forever   \n",
              "4  3228  He Followed Me Home/Love 'Em and Flea 'Em   \n",
              "\n",
              "                                               roles     paysSalles  \n",
              "0  [(1770691, actress, 7), (423423, actor, None),...  [Netherlands]  \n",
              "1                        [(1084034, producer, None)]          [USA]  \n",
              "2                           [(1053812, actor, None)]        [Spain]  \n",
              "3  [(1658620, actor, None), (987079, editor, None...          [USA]  \n",
              "4  [(1744984, actress, 1), (2173288, actress, Non...          [USA]  "
            ]
          },
          "metadata": {},
          "execution_count": 45
        }
      ]
    },
    {
      "cell_type": "markdown",
      "metadata": {
        "application/vnd.databricks.v1+cell": {
          "title": "",
          "showTitle": false,
          "inputWidgets": {},
          "nuid": "3d7b680b-098c-4959-9a48-7293a4137a5f"
        },
        "id": "5QoKKF5RGpLp"
      },
      "source": [
        "#### Question 7 : Fenêtres\n",
        "On considère la table **RevenuWeekEndFilm**(id, titre, pays, jour, mois, année, revenu, écrans) dont les informations proviennent de la propriété *weekend gross* de TitleDetail\n",
        "* un week-end est défini par les attributs (jour, mois, année)\n",
        "* l'attribut *écrans* correspond à la quantité associée au terme *screens*\n",
        "\n",
        "Exprimer les requêtes :\n",
        " - 7a) Pour chaque mois, le revenu total des films sortis aux USA durant les 3 derniers mois. Le schéma du résultat est : \n",
        "     - (mois, année, revenuMoisCourant, revenu3DerniersMois)\n",
        " - 7b) Pour chaque pays, le classement des films par revenu total. Le schéma du résultat est :\n",
        "      - (pays, id, titre, revenuTotal, classement)\n",
        " - 7c) Pour chaque film, la date de début et de fin des périodes où les revenus du week end représentent au moins 10% du revenu total annuel du film. Le schéma du résultat est :\n",
        "     - (id, titre, revenuAnnuel, annee, mois, jour, revenuWeekEnd, numéroPériode)"
      ]
    },
    {
      "cell_type": "code",
      "metadata": {
        "colab": {
          "base_uri": "https://localhost:8080/",
          "height": 203
        },
        "id": "wUwyWD5FJwOn",
        "outputId": "b471a128-6937-4024-ef63-3243efcc33ed"
      },
      "source": [
        "%%sql\n",
        "\n",
        "-- Création de la table RevenuWeekEndFilm\n",
        "create or replace temp view RevenuWeekEndFilm as\n",
        "select id, title as titre,\n",
        "regexp_extract(value, '([^0-9]*)([0-9,m]+) \\\\(([^\\\\)]*)\\\\)', 3) as pays,\n",
        "regexp_extract(value, '([^0-9]*)([0-9,m]+) \\\\(([^\\\\)]*)\\\\)', 1) as devise,\n",
        "-- On converti la date en type date\n",
        "to_date(regexp_extract(value, '([^0-9]*)([0-9,m]+) \\\\(([^\\\\)]*)\\\\) \\\\(([0-9]{0,2} [a-zA-Z]* [0-9]{0,4})\\\\)', 4), 'd MMMM yyyy') as date,\n",
        "-- Pour convertir le revenu en Integer, on enlève d'abord les virgules\n",
        "cast(regexp_replace(regexp_extract(value, '([^0-9]*)([0-9,m]+) \\\\(([^\\\\)]*)\\\\)', 2),',','') as int) as revenu,\n",
        "cast(regexp_extract(value, '([^0-9]*)([0-9,m]+) \\\\(([^\\\\)]*)\\\\) \\\\(([0-9]{0,2}) ([a-zA-Z]*) ([0-9]{0,4})\\\\)', 4) as int) as jour,\n",
        "-- Le mois étant en lettres et non en chiffres, on utilise to_date pour convertir en date puis on récupère le mois\n",
        "-- to_date nous transforme le mois en une date contenant en plus un jour et une année, on récupère seulement le mois\n",
        "month(to_date(regexp_extract(value, '([^0-9]*)([0-9,m]+) \\\\(([^\\\\)]*)\\\\) \\\\(([0-9]{0,2}) ([a-zA-Z]*) ([0-9]{0,4})\\\\)', 5), \"MMMM\")) as mois,\n",
        "cast(regexp_extract(value, '([^0-9]*)([0-9,m]+) \\\\(([^\\\\)]*)\\\\) \\\\(([0-9]{0,2}) ([a-zA-Z]*) ([0-9]{0,4})\\\\)', 6) as int) as annee,\n",
        "-- Si il n'y a pas de champ 'screens' alors on met un 0 sinon on cast le nombre en Integer\n",
        "if (regexp_extract(value, '([^0-9]*)([0-9,m]+) \\\\(([^\\\\)]*)\\\\) \\\\(([0-9]{0,2}) ([a-zA-Z]*) ([0-9]{0,4})\\\\) \\\\(([0-9]+) screen\\\\)', 7) != '',\n",
        "cast(regexp_extract(value, '([^0-9]*)([0-9,m]+) \\\\(([^\\\\)]*)\\\\) \\\\(([0-9]{0,2}) ([a-zA-Z]*) ([0-9]{0,4})\\\\) \\\\(([0-9]+) screen\\\\)', 7) as int), \n",
        "0) as ecrans\n",
        "from TitleDetail\n",
        "where property = 'weekend gross';\n",
        "\n",
        "select *\n",
        "from RevenuWeekEndFilm"
      ],
      "execution_count": null,
      "outputs": [
        {
          "output_type": "execute_result",
          "data": {
            "text/html": [
              "<div>\n",
              "<style scoped>\n",
              "    .dataframe tbody tr th:only-of-type {\n",
              "        vertical-align: middle;\n",
              "    }\n",
              "\n",
              "    .dataframe tbody tr th {\n",
              "        vertical-align: top;\n",
              "    }\n",
              "\n",
              "    .dataframe thead th {\n",
              "        text-align: right;\n",
              "    }\n",
              "</style>\n",
              "<table border=\"1\" class=\"dataframe\">\n",
              "  <thead>\n",
              "    <tr style=\"text-align: right;\">\n",
              "      <th></th>\n",
              "      <th>id</th>\n",
              "      <th>titre</th>\n",
              "      <th>pays</th>\n",
              "      <th>devise</th>\n",
              "      <th>date</th>\n",
              "      <th>revenu</th>\n",
              "      <th>jour</th>\n",
              "      <th>mois</th>\n",
              "      <th>annee</th>\n",
              "      <th>ecrans</th>\n",
              "    </tr>\n",
              "  </thead>\n",
              "  <tbody>\n",
              "    <tr>\n",
              "      <th>0</th>\n",
              "      <td>1640952</td>\n",
              "      <td>39 Pounds of Love</td>\n",
              "      <td>USA</td>\n",
              "      <td>$</td>\n",
              "      <td>2006-01-22</td>\n",
              "      <td>90</td>\n",
              "      <td>22</td>\n",
              "      <td>1</td>\n",
              "      <td>2006</td>\n",
              "      <td>1</td>\n",
              "    </tr>\n",
              "    <tr>\n",
              "      <th>1</th>\n",
              "      <td>1640952</td>\n",
              "      <td>39 Pounds of Love</td>\n",
              "      <td>USA</td>\n",
              "      <td>$</td>\n",
              "      <td>2006-01-15</td>\n",
              "      <td>1227</td>\n",
              "      <td>15</td>\n",
              "      <td>1</td>\n",
              "      <td>2006</td>\n",
              "      <td>1</td>\n",
              "    </tr>\n",
              "    <tr>\n",
              "      <th>2</th>\n",
              "      <td>1640952</td>\n",
              "      <td>39 Pounds of Love</td>\n",
              "      <td>USA</td>\n",
              "      <td>$</td>\n",
              "      <td>2005-12-18</td>\n",
              "      <td>160</td>\n",
              "      <td>18</td>\n",
              "      <td>12</td>\n",
              "      <td>2005</td>\n",
              "      <td>0</td>\n",
              "    </tr>\n",
              "    <tr>\n",
              "      <th>3</th>\n",
              "      <td>1640952</td>\n",
              "      <td>39 Pounds of Love</td>\n",
              "      <td>USA</td>\n",
              "      <td>$</td>\n",
              "      <td>2005-12-11</td>\n",
              "      <td>6532</td>\n",
              "      <td>11</td>\n",
              "      <td>12</td>\n",
              "      <td>2005</td>\n",
              "      <td>0</td>\n",
              "    </tr>\n",
              "    <tr>\n",
              "      <th>4</th>\n",
              "      <td>1640952</td>\n",
              "      <td>39 Pounds of Love</td>\n",
              "      <td>USA</td>\n",
              "      <td>$</td>\n",
              "      <td>2005-12-04</td>\n",
              "      <td>8055</td>\n",
              "      <td>4</td>\n",
              "      <td>12</td>\n",
              "      <td>2005</td>\n",
              "      <td>1</td>\n",
              "    </tr>\n",
              "  </tbody>\n",
              "</table>\n",
              "</div>"
            ],
            "text/plain": [
              "        id              titre pays devise        date  revenu  jour  mois  \\\n",
              "0  1640952  39 Pounds of Love  USA      $  2006-01-22      90    22     1   \n",
              "1  1640952  39 Pounds of Love  USA      $  2006-01-15    1227    15     1   \n",
              "2  1640952  39 Pounds of Love  USA      $  2005-12-18     160    18    12   \n",
              "3  1640952  39 Pounds of Love  USA      $  2005-12-11    6532    11    12   \n",
              "4  1640952  39 Pounds of Love  USA      $  2005-12-04    8055     4    12   \n",
              "\n",
              "   annee  ecrans  \n",
              "0   2006       1  \n",
              "1   2006       1  \n",
              "2   2005       0  \n",
              "3   2005       0  \n",
              "4   2005       1  "
            ]
          },
          "metadata": {},
          "execution_count": 46
        }
      ]
    },
    {
      "cell_type": "markdown",
      "metadata": {
        "id": "eaPYtzcVuCUY"
      },
      "source": [
        "**7a) Pour chaque mois, le revenu total des films sortis aux USA durant les 3 derniers mois. Le schéma du résultat est :**\n",
        "- (mois, année, revenuMoisCourant, revenu3DerniersMois)"
      ]
    },
    {
      "cell_type": "code",
      "metadata": {
        "colab": {
          "base_uri": "https://localhost:8080/",
          "height": 203
        },
        "id": "uNK6H_0bPN_o",
        "outputId": "ce632344-c621-451e-9d24-47b3afb57266"
      },
      "source": [
        "%%sql\n",
        "\n",
        "-- Pour définir la requête 7a), nous allons procéder en 3 étapes : \n",
        "-- 1) Calculer le revenu du mois courant\n",
        "-- 2) Calculer le revenu des 3 derniers mois pour chaque mois\n",
        "-- 3) Jointure sur les années et les mois pour obtenir le résultat souhaité\n",
        "\n",
        "-- 1) \n",
        "create or replace temp view T_revenuMoisCourant as \n",
        "-- On extrait l'annee et le mois de l'attribut date et on somme les revenus pour chaque mois des années\n",
        "select year(date) as annee, month(date) as mois, sum(revenu) as revenuMoisCourant\n",
        "from RevenuWeekEndFilm\n",
        "where pays = 'USA'\n",
        "group by year(date), month(date)\n",
        "order by year(date), month(date);\n",
        "\n",
        "select * from T_revenuMoisCourant;"
      ],
      "execution_count": null,
      "outputs": [
        {
          "output_type": "execute_result",
          "data": {
            "text/html": [
              "<div>\n",
              "<style scoped>\n",
              "    .dataframe tbody tr th:only-of-type {\n",
              "        vertical-align: middle;\n",
              "    }\n",
              "\n",
              "    .dataframe tbody tr th {\n",
              "        vertical-align: top;\n",
              "    }\n",
              "\n",
              "    .dataframe thead th {\n",
              "        text-align: right;\n",
              "    }\n",
              "</style>\n",
              "<table border=\"1\" class=\"dataframe\">\n",
              "  <thead>\n",
              "    <tr style=\"text-align: right;\">\n",
              "      <th></th>\n",
              "      <th>annee</th>\n",
              "      <th>mois</th>\n",
              "      <th>revenuMoisCourant</th>\n",
              "    </tr>\n",
              "  </thead>\n",
              "  <tbody>\n",
              "    <tr>\n",
              "      <th>0</th>\n",
              "      <td>1977</td>\n",
              "      <td>10</td>\n",
              "      <td>1540635</td>\n",
              "    </tr>\n",
              "    <tr>\n",
              "      <th>1</th>\n",
              "      <td>1982</td>\n",
              "      <td>1</td>\n",
              "      <td>1955016</td>\n",
              "    </tr>\n",
              "    <tr>\n",
              "      <th>2</th>\n",
              "      <td>1982</td>\n",
              "      <td>2</td>\n",
              "      <td>1160714</td>\n",
              "    </tr>\n",
              "    <tr>\n",
              "      <th>3</th>\n",
              "      <td>1984</td>\n",
              "      <td>2</td>\n",
              "      <td>58689</td>\n",
              "    </tr>\n",
              "    <tr>\n",
              "      <th>4</th>\n",
              "      <td>1984</td>\n",
              "      <td>3</td>\n",
              "      <td>1803432</td>\n",
              "    </tr>\n",
              "  </tbody>\n",
              "</table>\n",
              "</div>"
            ],
            "text/plain": [
              "   annee  mois  revenuMoisCourant\n",
              "0   1977    10            1540635\n",
              "1   1982     1            1955016\n",
              "2   1982     2            1160714\n",
              "3   1984     2              58689\n",
              "4   1984     3            1803432"
            ]
          },
          "metadata": {},
          "execution_count": 47
        }
      ]
    },
    {
      "cell_type": "code",
      "metadata": {
        "colab": {
          "base_uri": "https://localhost:8080/",
          "height": 203
        },
        "id": "llSD3IQ7deGo",
        "outputId": "b3eace9c-42ab-49cd-8598-3e1b76cf63c2"
      },
      "source": [
        "%%sql\n",
        "\n",
        "-- 2) \n",
        "-- On utilise l'attribut date pour faciliter la fenêtre roulante\n",
        "create or replace temp view T_revenu3Mois as \n",
        "select date, revenu,\n",
        "sum(revenu) over (order by cast(date as timestamp) RANGE BETWEEN INTERVAL 3 MONTHS PRECEDING AND CURRENT ROW) as revenu3DerniersMois\n",
        "from RevenuWeekEndFilm\n",
        "where pays = 'USA'\n",
        "group by date, revenu\n",
        "order by date;\n",
        "\n",
        "select * from T_revenu3Mois"
      ],
      "execution_count": null,
      "outputs": [
        {
          "output_type": "execute_result",
          "data": {
            "text/html": [
              "<div>\n",
              "<style scoped>\n",
              "    .dataframe tbody tr th:only-of-type {\n",
              "        vertical-align: middle;\n",
              "    }\n",
              "\n",
              "    .dataframe tbody tr th {\n",
              "        vertical-align: top;\n",
              "    }\n",
              "\n",
              "    .dataframe thead th {\n",
              "        text-align: right;\n",
              "    }\n",
              "</style>\n",
              "<table border=\"1\" class=\"dataframe\">\n",
              "  <thead>\n",
              "    <tr style=\"text-align: right;\">\n",
              "      <th></th>\n",
              "      <th>date</th>\n",
              "      <th>revenu</th>\n",
              "      <th>revenu3DerniersMois</th>\n",
              "    </tr>\n",
              "  </thead>\n",
              "  <tbody>\n",
              "    <tr>\n",
              "      <th>0</th>\n",
              "      <td>1977-10-23</td>\n",
              "      <td>1540635</td>\n",
              "      <td>1540635</td>\n",
              "    </tr>\n",
              "    <tr>\n",
              "      <th>1</th>\n",
              "      <td>1982-01-24</td>\n",
              "      <td>237811</td>\n",
              "      <td>237811</td>\n",
              "    </tr>\n",
              "    <tr>\n",
              "      <th>2</th>\n",
              "      <td>1982-01-31</td>\n",
              "      <td>1717205</td>\n",
              "      <td>1955016</td>\n",
              "    </tr>\n",
              "    <tr>\n",
              "      <th>3</th>\n",
              "      <td>1982-02-07</td>\n",
              "      <td>1160714</td>\n",
              "      <td>3115730</td>\n",
              "    </tr>\n",
              "    <tr>\n",
              "      <th>4</th>\n",
              "      <td>1984-02-20</td>\n",
              "      <td>58689</td>\n",
              "      <td>58689</td>\n",
              "    </tr>\n",
              "  </tbody>\n",
              "</table>\n",
              "</div>"
            ],
            "text/plain": [
              "         date   revenu  revenu3DerniersMois\n",
              "0  1977-10-23  1540635              1540635\n",
              "1  1982-01-24   237811               237811\n",
              "2  1982-01-31  1717205              1955016\n",
              "3  1982-02-07  1160714              3115730\n",
              "4  1984-02-20    58689                58689"
            ]
          },
          "metadata": {},
          "execution_count": 48
        }
      ]
    },
    {
      "cell_type": "code",
      "metadata": {
        "colab": {
          "base_uri": "https://localhost:8080/",
          "height": 203
        },
        "id": "87sW1-0kpvHK",
        "outputId": "75e19bd8-2e6d-4e3c-d669-3b30871bd363"
      },
      "source": [
        "%%sql\n",
        "\n",
        "-- 3) Jointure\n",
        "\n",
        "with T as (\n",
        "-- On doit récupérer le dernier résultat de chaque mois car la date contient le jour\n",
        "select year(date) as annee, month(date) as mois, last(revenu3DerniersMois) as revenu3DerniersMois\n",
        "from T_revenu3Mois\n",
        "group by year(date), month(date)\n",
        ")\n",
        "\n",
        "select t1.mois, t1.annee, revenuMoisCourant, revenu3DerniersMois\n",
        "from T_revenuMoisCourant t1\n",
        "left join T on t1.annee = T.annee and t1.mois = T.mois\n",
        "order by t1.annee, t1.mois"
      ],
      "execution_count": null,
      "outputs": [
        {
          "output_type": "execute_result",
          "data": {
            "text/html": [
              "<div>\n",
              "<style scoped>\n",
              "    .dataframe tbody tr th:only-of-type {\n",
              "        vertical-align: middle;\n",
              "    }\n",
              "\n",
              "    .dataframe tbody tr th {\n",
              "        vertical-align: top;\n",
              "    }\n",
              "\n",
              "    .dataframe thead th {\n",
              "        text-align: right;\n",
              "    }\n",
              "</style>\n",
              "<table border=\"1\" class=\"dataframe\">\n",
              "  <thead>\n",
              "    <tr style=\"text-align: right;\">\n",
              "      <th></th>\n",
              "      <th>mois</th>\n",
              "      <th>annee</th>\n",
              "      <th>revenuMoisCourant</th>\n",
              "      <th>revenu3DerniersMois</th>\n",
              "    </tr>\n",
              "  </thead>\n",
              "  <tbody>\n",
              "    <tr>\n",
              "      <th>0</th>\n",
              "      <td>10</td>\n",
              "      <td>1977</td>\n",
              "      <td>1540635</td>\n",
              "      <td>1540635</td>\n",
              "    </tr>\n",
              "    <tr>\n",
              "      <th>1</th>\n",
              "      <td>1</td>\n",
              "      <td>1982</td>\n",
              "      <td>1955016</td>\n",
              "      <td>1955016</td>\n",
              "    </tr>\n",
              "    <tr>\n",
              "      <th>2</th>\n",
              "      <td>2</td>\n",
              "      <td>1982</td>\n",
              "      <td>1160714</td>\n",
              "      <td>3115730</td>\n",
              "    </tr>\n",
              "    <tr>\n",
              "      <th>3</th>\n",
              "      <td>2</td>\n",
              "      <td>1984</td>\n",
              "      <td>58689</td>\n",
              "      <td>58689</td>\n",
              "    </tr>\n",
              "    <tr>\n",
              "      <th>4</th>\n",
              "      <td>3</td>\n",
              "      <td>1984</td>\n",
              "      <td>1803432</td>\n",
              "      <td>1862121</td>\n",
              "    </tr>\n",
              "  </tbody>\n",
              "</table>\n",
              "</div>"
            ],
            "text/plain": [
              "   mois  annee  revenuMoisCourant  revenu3DerniersMois\n",
              "0    10   1977            1540635              1540635\n",
              "1     1   1982            1955016              1955016\n",
              "2     2   1982            1160714              3115730\n",
              "3     2   1984              58689                58689\n",
              "4     3   1984            1803432              1862121"
            ]
          },
          "metadata": {},
          "execution_count": 93
        }
      ]
    },
    {
      "cell_type": "markdown",
      "metadata": {
        "id": "IL5ayylOubPx"
      },
      "source": [
        "**7b) Pour chaque pays, le classement des films par revenu total. Le schéma du résultat est :**\n",
        "- (pays, id, titre, revenuTotal, classement)"
      ]
    },
    {
      "cell_type": "code",
      "metadata": {
        "colab": {
          "base_uri": "https://localhost:8080/",
          "height": 203
        },
        "id": "xrw2aL_fwp1J",
        "outputId": "641540bd-af80-4736-aa31-4d4dc82ae534"
      },
      "source": [
        "%%sql\n",
        "with T as (\n",
        "-- Calcul du revenu total par film pour chaque pays\n",
        "select pays, id, titre, sum(revenu) as revenuTotal\n",
        "from RevenuWeekEndFilm\n",
        "group by pays, id, titre\n",
        "order by pays, id, titre, sum(revenu) desc)\n",
        "\n",
        "-- Ajout et trie du classement\n",
        "select pays, id, titre, revenuTotal, rank() over (partition by pays order by revenuTotal desc) as classement\n",
        "from T\n",
        "order by pays, classement"
      ],
      "execution_count": null,
      "outputs": [
        {
          "output_type": "execute_result",
          "data": {
            "text/html": [
              "<div>\n",
              "<style scoped>\n",
              "    .dataframe tbody tr th:only-of-type {\n",
              "        vertical-align: middle;\n",
              "    }\n",
              "\n",
              "    .dataframe tbody tr th {\n",
              "        vertical-align: top;\n",
              "    }\n",
              "\n",
              "    .dataframe thead th {\n",
              "        text-align: right;\n",
              "    }\n",
              "</style>\n",
              "<table border=\"1\" class=\"dataframe\">\n",
              "  <thead>\n",
              "    <tr style=\"text-align: right;\">\n",
              "      <th></th>\n",
              "      <th>pays</th>\n",
              "      <th>id</th>\n",
              "      <th>titre</th>\n",
              "      <th>revenuTotal</th>\n",
              "      <th>classement</th>\n",
              "    </tr>\n",
              "  </thead>\n",
              "  <tbody>\n",
              "    <tr>\n",
              "      <th>0</th>\n",
              "      <td>Argentina</td>\n",
              "      <td>1890399</td>\n",
              "      <td>Final Destination 2</td>\n",
              "      <td>387753</td>\n",
              "      <td>1</td>\n",
              "    </tr>\n",
              "    <tr>\n",
              "      <th>1</th>\n",
              "      <td>Argentina</td>\n",
              "      <td>1916458</td>\n",
              "      <td>Ghost Dog: The Way of the Samurai</td>\n",
              "      <td>193407</td>\n",
              "      <td>2</td>\n",
              "    </tr>\n",
              "    <tr>\n",
              "      <th>2</th>\n",
              "      <td>Australia</td>\n",
              "      <td>1916458</td>\n",
              "      <td>Ghost Dog: The Way of the Samurai</td>\n",
              "      <td>697828</td>\n",
              "      <td>1</td>\n",
              "    </tr>\n",
              "    <tr>\n",
              "      <th>3</th>\n",
              "      <td>Australia</td>\n",
              "      <td>2294518</td>\n",
              "      <td>Slumdog Millionaire</td>\n",
              "      <td>409361</td>\n",
              "      <td>2</td>\n",
              "    </tr>\n",
              "    <tr>\n",
              "      <th>4</th>\n",
              "      <td>Austria</td>\n",
              "      <td>1916458</td>\n",
              "      <td>Ghost Dog: The Way of the Samurai</td>\n",
              "      <td>3445077</td>\n",
              "      <td>1</td>\n",
              "    </tr>\n",
              "  </tbody>\n",
              "</table>\n",
              "</div>"
            ],
            "text/plain": [
              "        pays       id                              titre  revenuTotal  \\\n",
              "0  Argentina  1890399                Final Destination 2       387753   \n",
              "1  Argentina  1916458  Ghost Dog: The Way of the Samurai       193407   \n",
              "2  Australia  1916458  Ghost Dog: The Way of the Samurai       697828   \n",
              "3  Australia  2294518                Slumdog Millionaire       409361   \n",
              "4    Austria  1916458  Ghost Dog: The Way of the Samurai      3445077   \n",
              "\n",
              "   classement  \n",
              "0           1  \n",
              "1           2  \n",
              "2           1  \n",
              "3           2  \n",
              "4           1  "
            ]
          },
          "metadata": {},
          "execution_count": 92
        }
      ]
    },
    {
      "cell_type": "markdown",
      "metadata": {
        "id": "PuZ_l0Pfuhm7"
      },
      "source": [
        "**7c) Pour chaque film, la date de début et de fin des périodes où les revenus du week end représentent au moins 10% du revenu total annuel du film. Le schéma du résultat est :**\n",
        "- (id, titre, revenuAnnuel, annee, mois, jour, revenuWeekEnd, numéroPériode)"
      ]
    },
    {
      "cell_type": "code",
      "metadata": {
        "colab": {
          "base_uri": "https://localhost:8080/",
          "height": 203
        },
        "id": "yspbJiT_unYE",
        "outputId": "3bd98db5-8909-4e1c-d307-f4a787003f9c"
      },
      "source": [
        "%%sql\n",
        "-- Création de la table contenant le revenuAnnuel par film\n",
        "create or replace temp view T_RevenuAnnuel as \n",
        "select id, titre, annee, sum(revenu) as revenuAnnuel\n",
        "from RevenuWeekEndFilm\n",
        "group by id, titre, annee\n",
        "order by id, titre, annee;\n",
        "\n",
        "select * from T_RevenuAnnuel"
      ],
      "execution_count": null,
      "outputs": [
        {
          "output_type": "execute_result",
          "data": {
            "text/html": [
              "<div>\n",
              "<style scoped>\n",
              "    .dataframe tbody tr th:only-of-type {\n",
              "        vertical-align: middle;\n",
              "    }\n",
              "\n",
              "    .dataframe tbody tr th {\n",
              "        vertical-align: top;\n",
              "    }\n",
              "\n",
              "    .dataframe thead th {\n",
              "        text-align: right;\n",
              "    }\n",
              "</style>\n",
              "<table border=\"1\" class=\"dataframe\">\n",
              "  <thead>\n",
              "    <tr style=\"text-align: right;\">\n",
              "      <th></th>\n",
              "      <th>id</th>\n",
              "      <th>titre</th>\n",
              "      <th>annee</th>\n",
              "      <th>revenuAnnuel</th>\n",
              "    </tr>\n",
              "  </thead>\n",
              "  <tbody>\n",
              "    <tr>\n",
              "      <th>0</th>\n",
              "      <td>1635380</td>\n",
              "      <td>102 Dalmatians</td>\n",
              "      <td>2000</td>\n",
              "      <td>43338350</td>\n",
              "    </tr>\n",
              "    <tr>\n",
              "      <th>1</th>\n",
              "      <td>1635380</td>\n",
              "      <td>102 Dalmatians</td>\n",
              "      <td>2001</td>\n",
              "      <td>12848606</td>\n",
              "    </tr>\n",
              "    <tr>\n",
              "      <th>2</th>\n",
              "      <td>1640952</td>\n",
              "      <td>39 Pounds of Love</td>\n",
              "      <td>2005</td>\n",
              "      <td>18964</td>\n",
              "    </tr>\n",
              "    <tr>\n",
              "      <th>3</th>\n",
              "      <td>1640952</td>\n",
              "      <td>39 Pounds of Love</td>\n",
              "      <td>2006</td>\n",
              "      <td>1317</td>\n",
              "    </tr>\n",
              "    <tr>\n",
              "      <th>4</th>\n",
              "      <td>1654259</td>\n",
              "      <td>A Nightmare on Elm Street: The Dream Child</td>\n",
              "      <td>1989</td>\n",
              "      <td>20398441</td>\n",
              "    </tr>\n",
              "  </tbody>\n",
              "</table>\n",
              "</div>"
            ],
            "text/plain": [
              "        id                                       titre  annee  revenuAnnuel\n",
              "0  1635380                              102 Dalmatians   2000      43338350\n",
              "1  1635380                              102 Dalmatians   2001      12848606\n",
              "2  1640952                           39 Pounds of Love   2005         18964\n",
              "3  1640952                           39 Pounds of Love   2006          1317\n",
              "4  1654259  A Nightmare on Elm Street: The Dream Child   1989      20398441"
            ]
          },
          "metadata": {},
          "execution_count": 62
        }
      ]
    },
    {
      "cell_type": "code",
      "metadata": {
        "colab": {
          "base_uri": "https://localhost:8080/",
          "height": 203
        },
        "id": "x-ulaSkThsWC",
        "outputId": "196c87ec-d1de-4b69-d1d2-8199905e1f41"
      },
      "source": [
        "%%sql\n",
        "-- Création de la table contenant le revenu d'un week-end par film\n",
        "create or replace temp view T_RevenuWeekEnd as \n",
        "select id, titre, date, sum(revenu) as revenuWeekEnd\n",
        "from RevenuWeekEndFilm\n",
        "group by id, titre, date\n",
        "order by id, titre, date;\n",
        "\n",
        "create or replace temp view T_Revenu7c as \n",
        "select we.id, we.titre, we.date, T_RevenuAnnuel.annee, we.revenuWeekEnd, T_RevenuAnnuel.revenuAnnuel\n",
        "--,if(we.revenuWeekEnd > T_RevenuAnnuel.revenuAnnuel*0.1, 1, 0) as sup10\n",
        "from T_RevenuWeekEnd we\n",
        "left join T_RevenuAnnuel on we.id = T_RevenuAnnuel.id and year(we.date) = annee\n",
        "\n",
        "-- Week-ends où le revenu représente au moins 10% du revenu total annuel du film\n",
        "where (we.revenuWeekEnd > T_RevenuAnnuel.revenuAnnuel*0.1)\n",
        "order by date;\n",
        "\n",
        "select * from T_Revenu7c"
      ],
      "execution_count": null,
      "outputs": [
        {
          "output_type": "execute_result",
          "data": {
            "text/html": [
              "<div>\n",
              "<style scoped>\n",
              "    .dataframe tbody tr th:only-of-type {\n",
              "        vertical-align: middle;\n",
              "    }\n",
              "\n",
              "    .dataframe tbody tr th {\n",
              "        vertical-align: top;\n",
              "    }\n",
              "\n",
              "    .dataframe thead th {\n",
              "        text-align: right;\n",
              "    }\n",
              "</style>\n",
              "<table border=\"1\" class=\"dataframe\">\n",
              "  <thead>\n",
              "    <tr style=\"text-align: right;\">\n",
              "      <th></th>\n",
              "      <th>id</th>\n",
              "      <th>titre</th>\n",
              "      <th>date</th>\n",
              "      <th>annee</th>\n",
              "      <th>revenuWeekEnd</th>\n",
              "      <th>revenuAnnuel</th>\n",
              "    </tr>\n",
              "  </thead>\n",
              "  <tbody>\n",
              "    <tr>\n",
              "      <th>0</th>\n",
              "      <td>2082136</td>\n",
              "      <td>Looking for Mr. Goodbar</td>\n",
              "      <td>1977-10-23</td>\n",
              "      <td>1977</td>\n",
              "      <td>1540635</td>\n",
              "      <td>1540635</td>\n",
              "    </tr>\n",
              "    <tr>\n",
              "      <th>1</th>\n",
              "      <td>2477790</td>\n",
              "      <td>Vice Squad</td>\n",
              "      <td>1982-01-31</td>\n",
              "      <td>1982</td>\n",
              "      <td>1717205</td>\n",
              "      <td>3115730</td>\n",
              "    </tr>\n",
              "    <tr>\n",
              "      <th>2</th>\n",
              "      <td>2477790</td>\n",
              "      <td>Vice Squad</td>\n",
              "      <td>1982-02-07</td>\n",
              "      <td>1982</td>\n",
              "      <td>1160714</td>\n",
              "      <td>3115730</td>\n",
              "    </tr>\n",
              "    <tr>\n",
              "      <th>3</th>\n",
              "      <td>1791664</td>\n",
              "      <td>Crackers</td>\n",
              "      <td>1984-02-20</td>\n",
              "      <td>1984</td>\n",
              "      <td>58689</td>\n",
              "      <td>58689</td>\n",
              "    </tr>\n",
              "    <tr>\n",
              "      <th>4</th>\n",
              "      <td>2229370</td>\n",
              "      <td>Racing with the Moon</td>\n",
              "      <td>1984-03-25</td>\n",
              "      <td>1984</td>\n",
              "      <td>1803432</td>\n",
              "      <td>4245660</td>\n",
              "    </tr>\n",
              "  </tbody>\n",
              "</table>\n",
              "</div>"
            ],
            "text/plain": [
              "        id                    titre        date  annee  revenuWeekEnd  \\\n",
              "0  2082136  Looking for Mr. Goodbar  1977-10-23   1977        1540635   \n",
              "1  2477790               Vice Squad  1982-01-31   1982        1717205   \n",
              "2  2477790               Vice Squad  1982-02-07   1982        1160714   \n",
              "3  1791664                 Crackers  1984-02-20   1984          58689   \n",
              "4  2229370     Racing with the Moon  1984-03-25   1984        1803432   \n",
              "\n",
              "   revenuAnnuel  \n",
              "0       1540635  \n",
              "1       3115730  \n",
              "2       3115730  \n",
              "3         58689  \n",
              "4       4245660  "
            ]
          },
          "metadata": {},
          "execution_count": 81
        }
      ]
    },
    {
      "cell_type": "code",
      "metadata": {
        "colab": {
          "base_uri": "https://localhost:8080/",
          "height": 203
        },
        "id": "CoNQ_mu0is9D",
        "outputId": "1f37b014-a3eb-427b-eab1-1c21d24cee0c"
      },
      "source": [
        "%%sql\n",
        "select id, titre, revenuAnnuel, year(date) as annee, month(date) as mois, day(date) as jour, revenuWeekEnd,\n",
        "-- On associe chaque date avec un revenu >10% du revenuAnnuel à un nombre, pour chaque film\n",
        "rank() over (partition by id order by date) as numeroPeriode\n",
        "from T_Revenu7c"
      ],
      "execution_count": null,
      "outputs": [
        {
          "output_type": "execute_result",
          "data": {
            "text/html": [
              "<div>\n",
              "<style scoped>\n",
              "    .dataframe tbody tr th:only-of-type {\n",
              "        vertical-align: middle;\n",
              "    }\n",
              "\n",
              "    .dataframe tbody tr th {\n",
              "        vertical-align: top;\n",
              "    }\n",
              "\n",
              "    .dataframe thead th {\n",
              "        text-align: right;\n",
              "    }\n",
              "</style>\n",
              "<table border=\"1\" class=\"dataframe\">\n",
              "  <thead>\n",
              "    <tr style=\"text-align: right;\">\n",
              "      <th></th>\n",
              "      <th>id</th>\n",
              "      <th>titre</th>\n",
              "      <th>revenuAnnuel</th>\n",
              "      <th>annee</th>\n",
              "      <th>mois</th>\n",
              "      <th>jour</th>\n",
              "      <th>revenuWeekEnd</th>\n",
              "      <th>numeroPeriode</th>\n",
              "    </tr>\n",
              "  </thead>\n",
              "  <tbody>\n",
              "    <tr>\n",
              "      <th>0</th>\n",
              "      <td>1640952</td>\n",
              "      <td>39 Pounds of Love</td>\n",
              "      <td>18964</td>\n",
              "      <td>2005</td>\n",
              "      <td>11</td>\n",
              "      <td>27</td>\n",
              "      <td>4217</td>\n",
              "      <td>1</td>\n",
              "    </tr>\n",
              "    <tr>\n",
              "      <th>1</th>\n",
              "      <td>1640952</td>\n",
              "      <td>39 Pounds of Love</td>\n",
              "      <td>18964</td>\n",
              "      <td>2005</td>\n",
              "      <td>12</td>\n",
              "      <td>4</td>\n",
              "      <td>8055</td>\n",
              "      <td>2</td>\n",
              "    </tr>\n",
              "    <tr>\n",
              "      <th>2</th>\n",
              "      <td>1640952</td>\n",
              "      <td>39 Pounds of Love</td>\n",
              "      <td>18964</td>\n",
              "      <td>2005</td>\n",
              "      <td>12</td>\n",
              "      <td>11</td>\n",
              "      <td>6532</td>\n",
              "      <td>3</td>\n",
              "    </tr>\n",
              "    <tr>\n",
              "      <th>3</th>\n",
              "      <td>1640952</td>\n",
              "      <td>39 Pounds of Love</td>\n",
              "      <td>1317</td>\n",
              "      <td>2006</td>\n",
              "      <td>1</td>\n",
              "      <td>15</td>\n",
              "      <td>1227</td>\n",
              "      <td>4</td>\n",
              "    </tr>\n",
              "    <tr>\n",
              "      <th>4</th>\n",
              "      <td>1770926</td>\n",
              "      <td>Chicago Joe and the Showgirl</td>\n",
              "      <td>55179</td>\n",
              "      <td>1990</td>\n",
              "      <td>7</td>\n",
              "      <td>29</td>\n",
              "      <td>14979</td>\n",
              "      <td>1</td>\n",
              "    </tr>\n",
              "  </tbody>\n",
              "</table>\n",
              "</div>"
            ],
            "text/plain": [
              "        id                         titre  revenuAnnuel  annee  mois  jour  \\\n",
              "0  1640952             39 Pounds of Love         18964   2005    11    27   \n",
              "1  1640952             39 Pounds of Love         18964   2005    12     4   \n",
              "2  1640952             39 Pounds of Love         18964   2005    12    11   \n",
              "3  1640952             39 Pounds of Love          1317   2006     1    15   \n",
              "4  1770926  Chicago Joe and the Showgirl         55179   1990     7    29   \n",
              "\n",
              "   revenuWeekEnd  numeroPeriode  \n",
              "0           4217              1  \n",
              "1           8055              2  \n",
              "2           6532              3  \n",
              "3           1227              4  \n",
              "4          14979              1  "
            ]
          },
          "metadata": {},
          "execution_count": 88
        }
      ]
    }
  ]
}