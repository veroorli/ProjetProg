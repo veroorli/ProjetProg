{
  "nbformat": 4,
  "nbformat_minor": 0,
  "metadata": {
    "application/vnd.databricks.v1+notebook": {
      "notebookName": "TP2_SUJET SEUL cube_rollup_over",
      "dashboards": [],
      "notebookMetadata": {
        "pythonIndentUnit": 2
      },
      "language": "python",
      "widgets": {},
      "notebookOrigID": 3391580831251448
    },
    "colab": {
      "name": "maya.ipynb",
      "provenance": [],
      "toc_visible": true,
      "include_colab_link": true
    }
  },
  "cells": [
    {
      "cell_type": "markdown",
      "metadata": {
        "id": "view-in-github",
        "colab_type": "text"
      },
      "source": [
        "<a href=\"https://colab.research.google.com/github/veroorli/ProjetProg/blob/master/maya.ipynb\" target=\"_parent\"><img src=\"https://colab.research.google.com/assets/colab-badge.svg\" alt=\"Open In Colab\"/></a>"
      ]
    },
    {
      "cell_type": "markdown",
      "metadata": {
        "application/vnd.databricks.v1+cell": {
          "title": "",
          "showTitle": false,
          "inputWidgets": {},
          "nuid": "4d9ec674-9d28-4b36-8066-bf953d0f5c5c"
        },
        "id": "JVb0gzhmvhGQ"
      },
      "source": [
        "version du 30/09/2021"
      ]
    },
    {
      "cell_type": "markdown",
      "metadata": {
        "application/vnd.databricks.v1+cell": {
          "title": "",
          "showTitle": false,
          "inputWidgets": {},
          "nuid": "8adac0bc-f7b1-4c1d-a7b4-4990148c1afd"
        },
        "id": "psMqHY2gvhGc"
      },
      "source": [
        "# QUESTIONS"
      ]
    },
    {
      "cell_type": "markdown",
      "metadata": {
        "application/vnd.databricks.v1+cell": {
          "title": "",
          "showTitle": false,
          "inputWidgets": {},
          "nuid": "525fb8ea-fa93-4eb8-b048-aea2592ce69c"
        },
        "id": "02rmFh56vhGc"
      },
      "source": [
        "### Question 1 : temps écoulé\n",
        "\n",
        "Pour chaque visite de chaque personne, le temps écoulé depuis la première visite de cette personne. Exprimer le temps écoulé par un intervalle de temps résultant d'une différence entre deux dates. L'intervalle indique le nombre de mois et le nombre de jours.\n",
        "\n",
        "Le schema attendu est (photoID , personID, date, datePremiereVisiste, temps_ecoule)\n",
        "\n",
        "Astuce: commencer par compléter chaque visite avec la date de la première visite de la personne."
      ]
    },
    {
      "cell_type": "code",
      "metadata": {
        "application/vnd.databricks.v1+cell": {
          "title": "",
          "showTitle": false,
          "inputWidgets": {},
          "nuid": "60fe0099-38af-42bb-8beb-e4dbdb691289"
        },
        "id": "5eE2XZxkvhGc",
        "outputId": "3caa1273-51e1-483a-8900-e843bce33a11"
      },
      "source": [
        "%sql\n",
        "with premieres_dates as (\n",
        "select personID, photoID, date as p_date, jour as p_jour, mois as p_mois, annee as p_annee, rank() over(partition by personID order by date) as p_rang\n",
        "from VisitesDetail\n",
        "), \n",
        "dernieres_dates as (\n",
        "select personID, photoID, date as d_date, jour as d_jour, mois as d_mois, annee as d_annee, rank() over(partition by personID order by date desc) as d_rang\n",
        "from VisitesDetail\n",
        ")\n",
        "select p.personID, p.photoID, d.d_date as derniere_date, p.p_date as premiere_date from premieres_dates p, dernieres_dates d where p_rang = 1 and d_rang=1 and p.PersonID = d.PersonID"
      ],
      "execution_count": null,
      "outputs": [
        {
          "output_type": "display_data",
          "metadata": {
            "application/vnd.databricks.v1+output": {
              "overflow": false,
              "datasetInfos": [],
              "data": [
                [
                  "Alice",
                  "p16",
                  "2020-10-05",
                  "2019-12-25"
                ],
                [
                  "Bob",
                  "p13",
                  "2020-09-04",
                  "2020-02-01"
                ],
                [
                  "Bob",
                  "p13",
                  "2020-09-04",
                  "2020-02-01"
                ],
                [
                  "Carole",
                  "p15",
                  "2020-02-01",
                  "2019-11-11"
                ],
                [
                  "David",
                  "p9",
                  "2019-12-25",
                  "2019-12-25"
                ],
                [
                  "Eva",
                  "p10",
                  "2019-12-26",
                  "2019-12-25"
                ]
              ],
              "plotOptions": {
                "displayType": "table",
                "customPlotOptions": {},
                "pivotColumns": null,
                "pivotAggregation": null,
                "xColumns": null,
                "yColumns": null
              },
              "columnCustomDisplayInfos": {},
              "aggType": "",
              "isJsonSchema": true,
              "removedWidgets": [],
              "aggSchema": [],
              "schema": [
                {
                  "name": "personID",
                  "type": "\"string\"",
                  "metadata": "{}"
                },
                {
                  "name": "photoID",
                  "type": "\"string\"",
                  "metadata": "{}"
                },
                {
                  "name": "derniere_date",
                  "type": "\"date\"",
                  "metadata": "{}"
                },
                {
                  "name": "premiere_date",
                  "type": "\"date\"",
                  "metadata": "{}"
                }
              ],
              "aggError": "",
              "aggData": [],
              "addedWidgets": {},
              "metadata": {},
              "dbfsResultPath": null,
              "type": "table",
              "aggOverflow": false,
              "aggSeriesLimitReached": false,
              "arguments": {}
            }
          },
          "data": {
            "text/html": [
              "<style scoped>\n  .table-result-container {\n    max-height: 300px;\n    overflow: auto;\n  }\n  table, th, td {\n    border: 1px solid black;\n    border-collapse: collapse;\n  }\n  th, td {\n    padding: 5px;\n  }\n  th {\n    text-align: left;\n  }\n</style><div class='table-result-container'><table class='table-result'><thead style='background-color: white'><tr><th>personID</th><th>photoID</th><th>derniere_date</th><th>premiere_date</th></tr></thead><tbody><tr><td>Alice</td><td>p16</td><td>2020-10-05</td><td>2019-12-25</td></tr><tr><td>Bob</td><td>p13</td><td>2020-09-04</td><td>2020-02-01</td></tr><tr><td>Bob</td><td>p13</td><td>2020-09-04</td><td>2020-02-01</td></tr><tr><td>Carole</td><td>p15</td><td>2020-02-01</td><td>2019-11-11</td></tr><tr><td>David</td><td>p9</td><td>2019-12-25</td><td>2019-12-25</td></tr><tr><td>Eva</td><td>p10</td><td>2019-12-26</td><td>2019-12-25</td></tr></tbody></table></div>"
            ]
          }
        }
      ]
    },
    {
      "cell_type": "markdown",
      "metadata": {
        "application/vnd.databricks.v1+cell": {
          "title": "",
          "showTitle": false,
          "inputWidgets": {},
          "nuid": "ffd66471-dc7f-4c91-800b-133c22b11632"
        },
        "id": "b6C5moW_vhGc"
      },
      "source": [
        "### Question 2: Requête avec fenêtre glissante de taille fixe\n",
        "\n",
        "Pour chaque visite de chaque personne, le nombre de jours depuis la visite précédente de cette personne. \n",
        "\n",
        "Le schéma attendu est (photoID, personID, date, precedenteDate, nbJours)\n",
        "\n",
        "Astuce: penser à utiliser la fonction datediff pour comparer deux dates et obtenir un nombre de jours"
      ]
    },
    {
      "cell_type": "code",
      "metadata": {
        "application/vnd.databricks.v1+cell": {
          "title": "",
          "showTitle": false,
          "inputWidgets": {},
          "nuid": "b9835859-56e3-4aff-abdf-4b636ec17f9a"
        },
        "id": "rX9Z6L92vhGc",
        "outputId": "83b37abc-45ed-4592-fc37-2e3b18802066"
      },
      "source": [
        "%sql\n",
        "select v.personId, v.photoId, v.date as d1, rank() over (partition by personID order by date desc) as r1\n",
        "from VisitesDetail v"
      ],
      "execution_count": null,
      "outputs": [
        {
          "output_type": "display_data",
          "metadata": {
            "application/vnd.databricks.v1+output": {
              "overflow": false,
              "datasetInfos": [],
              "data": [
                [
                  "Alice",
                  "p7",
                  "2020-10-05",
                  1
                ],
                [
                  "Alice",
                  "p6",
                  "2020-09-05",
                  2
                ],
                [
                  "Alice",
                  "p5",
                  "2020-09-04",
                  3
                ],
                [
                  "Alice",
                  "p2",
                  "2020-09-01",
                  4
                ],
                [
                  "Alice",
                  "p17",
                  "2020-02-02",
                  5
                ],
                [
                  "Alice",
                  "p12",
                  "2020-02-01",
                  6
                ],
                [
                  "Alice",
                  "p16",
                  "2019-12-25",
                  7
                ],
                [
                  "Bob",
                  "p3",
                  "2020-09-04",
                  1
                ],
                [
                  "Bob",
                  "p4",
                  "2020-09-04",
                  1
                ],
                [
                  "Bob",
                  "p1",
                  "2020-09-03",
                  3
                ],
                [
                  "Bob",
                  "p13",
                  "2020-02-01",
                  4
                ],
                [
                  "Carole",
                  "p14",
                  "2020-02-01",
                  1
                ],
                [
                  "Carole",
                  "p8",
                  "2019-12-25",
                  2
                ],
                [
                  "Carole",
                  "p15",
                  "2019-11-11",
                  3
                ],
                [
                  "David",
                  "p9",
                  "2019-12-25",
                  1
                ],
                [
                  "Eva",
                  "p11",
                  "2019-12-26",
                  1
                ],
                [
                  "Eva",
                  "p10",
                  "2019-12-25",
                  2
                ]
              ],
              "plotOptions": {
                "displayType": "table",
                "customPlotOptions": {},
                "pivotColumns": null,
                "pivotAggregation": null,
                "xColumns": null,
                "yColumns": null
              },
              "columnCustomDisplayInfos": {},
              "aggType": "",
              "isJsonSchema": true,
              "removedWidgets": [],
              "aggSchema": [],
              "schema": [
                {
                  "name": "personId",
                  "type": "\"string\"",
                  "metadata": "{}"
                },
                {
                  "name": "photoId",
                  "type": "\"string\"",
                  "metadata": "{}"
                },
                {
                  "name": "d1",
                  "type": "\"date\"",
                  "metadata": "{}"
                },
                {
                  "name": "r1",
                  "type": "\"integer\"",
                  "metadata": "{}"
                }
              ],
              "aggError": "",
              "aggData": [],
              "addedWidgets": {},
              "metadata": {},
              "dbfsResultPath": null,
              "type": "table",
              "aggOverflow": false,
              "aggSeriesLimitReached": false,
              "arguments": {}
            }
          },
          "data": {
            "text/html": [
              "<style scoped>\n  .table-result-container {\n    max-height: 300px;\n    overflow: auto;\n  }\n  table, th, td {\n    border: 1px solid black;\n    border-collapse: collapse;\n  }\n  th, td {\n    padding: 5px;\n  }\n  th {\n    text-align: left;\n  }\n</style><div class='table-result-container'><table class='table-result'><thead style='background-color: white'><tr><th>personId</th><th>photoId</th><th>d1</th><th>r1</th></tr></thead><tbody><tr><td>Alice</td><td>p7</td><td>2020-10-05</td><td>1</td></tr><tr><td>Alice</td><td>p6</td><td>2020-09-05</td><td>2</td></tr><tr><td>Alice</td><td>p5</td><td>2020-09-04</td><td>3</td></tr><tr><td>Alice</td><td>p2</td><td>2020-09-01</td><td>4</td></tr><tr><td>Alice</td><td>p17</td><td>2020-02-02</td><td>5</td></tr><tr><td>Alice</td><td>p12</td><td>2020-02-01</td><td>6</td></tr><tr><td>Alice</td><td>p16</td><td>2019-12-25</td><td>7</td></tr><tr><td>Bob</td><td>p3</td><td>2020-09-04</td><td>1</td></tr><tr><td>Bob</td><td>p4</td><td>2020-09-04</td><td>1</td></tr><tr><td>Bob</td><td>p1</td><td>2020-09-03</td><td>3</td></tr><tr><td>Bob</td><td>p13</td><td>2020-02-01</td><td>4</td></tr><tr><td>Carole</td><td>p14</td><td>2020-02-01</td><td>1</td></tr><tr><td>Carole</td><td>p8</td><td>2019-12-25</td><td>2</td></tr><tr><td>Carole</td><td>p15</td><td>2019-11-11</td><td>3</td></tr><tr><td>David</td><td>p9</td><td>2019-12-25</td><td>1</td></tr><tr><td>Eva</td><td>p11</td><td>2019-12-26</td><td>1</td></tr><tr><td>Eva</td><td>p10</td><td>2019-12-25</td><td>2</td></tr></tbody></table></div>"
            ]
          }
        }
      ]
    },
    {
      "cell_type": "code",
      "metadata": {
        "application/vnd.databricks.v1+cell": {
          "title": "",
          "showTitle": false,
          "inputWidgets": {},
          "nuid": "5fdf17c0-35db-47a9-9109-355dea2aaa4a"
        },
        "id": "xN4fMWs5vhGc",
        "outputId": "6cd35b92-1ed3-480d-fcc2-2161a758ae53"
      },
      "source": [
        "%sql\n",
        "with t1 as (\n",
        "select v.personId, v.photoId, v.date as d1, rank() over (partition by personID order by date desc) as r1\n",
        "from VisitesDetail v\n",
        "), \n",
        "t2 as (\n",
        "select v.personId, v.photoID, v.date as d2, rank() over (partition by personID order by date desc) as r2\n",
        "from VisitesDetail v\n",
        ")\n",
        "select t1.personID, t1.photoID ,t2.photoID as photoID_pred, t1.d1, t2.d2 from t1, t2 where t1.PersonId = t2.PersonId and t1.r1 = t2.r2-1"
      ],
      "execution_count": null,
      "outputs": [
        {
          "output_type": "display_data",
          "metadata": {
            "application/vnd.databricks.v1+output": {
              "overflow": false,
              "datasetInfos": [],
              "data": [
                [
                  "Alice",
                  "p7",
                  "p6",
                  "2020-10-05",
                  "2020-09-05"
                ],
                [
                  "Alice",
                  "p6",
                  "p5",
                  "2020-09-05",
                  "2020-09-04"
                ],
                [
                  "Alice",
                  "p5",
                  "p2",
                  "2020-09-04",
                  "2020-09-01"
                ],
                [
                  "Alice",
                  "p2",
                  "p17",
                  "2020-09-01",
                  "2020-02-02"
                ],
                [
                  "Alice",
                  "p17",
                  "p12",
                  "2020-02-02",
                  "2020-02-01"
                ],
                [
                  "Alice",
                  "p12",
                  "p16",
                  "2020-02-01",
                  "2019-12-25"
                ],
                [
                  "Bob",
                  "p1",
                  "p13",
                  "2020-09-03",
                  "2020-02-01"
                ],
                [
                  "Carole",
                  "p14",
                  "p8",
                  "2020-02-01",
                  "2019-12-25"
                ],
                [
                  "Carole",
                  "p8",
                  "p15",
                  "2019-12-25",
                  "2019-11-11"
                ],
                [
                  "Eva",
                  "p11",
                  "p10",
                  "2019-12-26",
                  "2019-12-25"
                ]
              ],
              "plotOptions": {
                "displayType": "table",
                "customPlotOptions": {},
                "pivotColumns": null,
                "pivotAggregation": null,
                "xColumns": null,
                "yColumns": null
              },
              "columnCustomDisplayInfos": {},
              "aggType": "",
              "isJsonSchema": true,
              "removedWidgets": [],
              "aggSchema": [],
              "schema": [
                {
                  "name": "personID",
                  "type": "\"string\"",
                  "metadata": "{}"
                },
                {
                  "name": "photoID",
                  "type": "\"string\"",
                  "metadata": "{}"
                },
                {
                  "name": "photoID_pred",
                  "type": "\"string\"",
                  "metadata": "{}"
                },
                {
                  "name": "d1",
                  "type": "\"date\"",
                  "metadata": "{}"
                },
                {
                  "name": "d2",
                  "type": "\"date\"",
                  "metadata": "{}"
                }
              ],
              "aggError": "",
              "aggData": [],
              "addedWidgets": {},
              "metadata": {},
              "dbfsResultPath": null,
              "type": "table",
              "aggOverflow": false,
              "aggSeriesLimitReached": false,
              "arguments": {}
            }
          },
          "data": {
            "text/html": [
              "<style scoped>\n  .table-result-container {\n    max-height: 300px;\n    overflow: auto;\n  }\n  table, th, td {\n    border: 1px solid black;\n    border-collapse: collapse;\n  }\n  th, td {\n    padding: 5px;\n  }\n  th {\n    text-align: left;\n  }\n</style><div class='table-result-container'><table class='table-result'><thead style='background-color: white'><tr><th>personID</th><th>photoID</th><th>photoID_pred</th><th>d1</th><th>d2</th></tr></thead><tbody><tr><td>Alice</td><td>p7</td><td>p6</td><td>2020-10-05</td><td>2020-09-05</td></tr><tr><td>Alice</td><td>p6</td><td>p5</td><td>2020-09-05</td><td>2020-09-04</td></tr><tr><td>Alice</td><td>p5</td><td>p2</td><td>2020-09-04</td><td>2020-09-01</td></tr><tr><td>Alice</td><td>p2</td><td>p17</td><td>2020-09-01</td><td>2020-02-02</td></tr><tr><td>Alice</td><td>p17</td><td>p12</td><td>2020-02-02</td><td>2020-02-01</td></tr><tr><td>Alice</td><td>p12</td><td>p16</td><td>2020-02-01</td><td>2019-12-25</td></tr><tr><td>Bob</td><td>p1</td><td>p13</td><td>2020-09-03</td><td>2020-02-01</td></tr><tr><td>Carole</td><td>p14</td><td>p8</td><td>2020-02-01</td><td>2019-12-25</td></tr><tr><td>Carole</td><td>p8</td><td>p15</td><td>2019-12-25</td><td>2019-11-11</td></tr><tr><td>Eva</td><td>p11</td><td>p10</td><td>2019-12-26</td><td>2019-12-25</td></tr></tbody></table></div>"
            ]
          }
        }
      ]
    },
    {
      "cell_type": "markdown",
      "metadata": {
        "application/vnd.databricks.v1+cell": {
          "title": "",
          "showTitle": false,
          "inputWidgets": {},
          "nuid": "7273be18-4fdb-4733-b884-580df065eccf"
        },
        "id": "EpbOtbmTvhGc"
      },
      "source": [
        "## Question 3 : Semaine glissante\n",
        "Pour chaque jour de visite de chaque personne, le nombre de visite sur 7 jours glissants.\n",
        "\n",
        "Schema (personID, date, nbVisite7jours)"
      ]
    },
    {
      "cell_type": "code",
      "metadata": {
        "application/vnd.databricks.v1+cell": {
          "title": "",
          "showTitle": false,
          "inputWidgets": {},
          "nuid": "6a6b7551-c758-492e-8c02-f379e85894a8"
        },
        "id": "itxQEVMevhGc",
        "outputId": "4b035677-fcf7-4eac-dd97-16c2509314d9"
      },
      "source": [
        "%sql\n",
        "select v.personID, v.date, count(*) over (partition by v.personID order by v.date range between current row and 7 following) as nb\n",
        "from VisitesDetail v\n",
        "-- group by v.personID count(*) as nbVisite7jours,"
      ],
      "execution_count": null,
      "outputs": [
        {
          "output_type": "display_data",
          "metadata": {
            "application/vnd.databricks.v1+output": {
              "overflow": false,
              "datasetInfos": [],
              "data": [
                [
                  "Alice",
                  "2019-12-25",
                  1
                ],
                [
                  "Alice",
                  "2020-02-01",
                  2
                ],
                [
                  "Alice",
                  "2020-02-02",
                  1
                ],
                [
                  "Alice",
                  "2020-09-01",
                  3
                ],
                [
                  "Alice",
                  "2020-09-04",
                  2
                ],
                [
                  "Alice",
                  "2020-09-05",
                  1
                ],
                [
                  "Alice",
                  "2020-10-05",
                  1
                ],
                [
                  "Bob",
                  "2020-02-01",
                  1
                ],
                [
                  "Bob",
                  "2020-09-03",
                  3
                ],
                [
                  "Bob",
                  "2020-09-04",
                  2
                ],
                [
                  "Bob",
                  "2020-09-04",
                  2
                ],
                [
                  "Carole",
                  "2019-11-11",
                  1
                ],
                [
                  "Carole",
                  "2019-12-25",
                  1
                ],
                [
                  "Carole",
                  "2020-02-01",
                  1
                ],
                [
                  "David",
                  "2019-12-25",
                  1
                ],
                [
                  "Eva",
                  "2019-12-25",
                  2
                ],
                [
                  "Eva",
                  "2019-12-26",
                  1
                ]
              ],
              "plotOptions": {
                "displayType": "table",
                "customPlotOptions": {},
                "pivotColumns": null,
                "pivotAggregation": null,
                "xColumns": null,
                "yColumns": null
              },
              "columnCustomDisplayInfos": {},
              "aggType": "",
              "isJsonSchema": true,
              "removedWidgets": [],
              "aggSchema": [],
              "schema": [
                {
                  "name": "personID",
                  "type": "\"string\"",
                  "metadata": "{}"
                },
                {
                  "name": "date",
                  "type": "\"date\"",
                  "metadata": "{}"
                },
                {
                  "name": "nb",
                  "type": "\"long\"",
                  "metadata": "{}"
                }
              ],
              "aggError": "",
              "aggData": [],
              "addedWidgets": {},
              "metadata": {},
              "dbfsResultPath": null,
              "type": "table",
              "aggOverflow": false,
              "aggSeriesLimitReached": false,
              "arguments": {}
            }
          },
          "data": {
            "text/html": [
              "<style scoped>\n  .table-result-container {\n    max-height: 300px;\n    overflow: auto;\n  }\n  table, th, td {\n    border: 1px solid black;\n    border-collapse: collapse;\n  }\n  th, td {\n    padding: 5px;\n  }\n  th {\n    text-align: left;\n  }\n</style><div class='table-result-container'><table class='table-result'><thead style='background-color: white'><tr><th>personID</th><th>date</th><th>nb</th></tr></thead><tbody><tr><td>Alice</td><td>2019-12-25</td><td>1</td></tr><tr><td>Alice</td><td>2020-02-01</td><td>2</td></tr><tr><td>Alice</td><td>2020-02-02</td><td>1</td></tr><tr><td>Alice</td><td>2020-09-01</td><td>3</td></tr><tr><td>Alice</td><td>2020-09-04</td><td>2</td></tr><tr><td>Alice</td><td>2020-09-05</td><td>1</td></tr><tr><td>Alice</td><td>2020-10-05</td><td>1</td></tr><tr><td>Bob</td><td>2020-02-01</td><td>1</td></tr><tr><td>Bob</td><td>2020-09-03</td><td>3</td></tr><tr><td>Bob</td><td>2020-09-04</td><td>2</td></tr><tr><td>Bob</td><td>2020-09-04</td><td>2</td></tr><tr><td>Carole</td><td>2019-11-11</td><td>1</td></tr><tr><td>Carole</td><td>2019-12-25</td><td>1</td></tr><tr><td>Carole</td><td>2020-02-01</td><td>1</td></tr><tr><td>David</td><td>2019-12-25</td><td>1</td></tr><tr><td>Eva</td><td>2019-12-25</td><td>2</td></tr><tr><td>Eva</td><td>2019-12-26</td><td>1</td></tr></tbody></table></div>"
            ]
          }
        }
      ]
    },
    {
      "cell_type": "markdown",
      "metadata": {
        "application/vnd.databricks.v1+cell": {
          "title": "",
          "showTitle": false,
          "inputWidgets": {},
          "nuid": "d35bb12e-23d0-4ddf-9dd7-b0e6f7854609"
        },
        "id": "QmxiZlLKvhGc"
      },
      "source": [
        "## Question 4 : Trajets\n",
        "On veut enrichir les visites avec une information de trajet.\n",
        "Un trajet représente toutes les visites d'une personne telles que le nombre de jours entre deux visites consécutives soit inférieur à une semaine.\n",
        "\n",
        "Schema : (photoID, personID, date, nbJours, numTrajet)\n",
        "\n",
        "Astuces :\n",
        "utiliser la réponse à la question 2. La fonction if dans la clause select peut indiquer si la visite est le début du trajet suivant ou non."
      ]
    },
    {
      "cell_type": "code",
      "metadata": {
        "application/vnd.databricks.v1+cell": {
          "title": "",
          "showTitle": false,
          "inputWidgets": {},
          "nuid": "d969b954-abbe-40c0-bf54-0e8d5aced632"
        },
        "id": "vnHvlq3uvhGc"
      },
      "source": [
        "%sql\n",
        "-- à compléter (solution dans TP2_solutions)\n",
        "\n"
      ],
      "execution_count": null,
      "outputs": []
    },
    {
      "cell_type": "markdown",
      "metadata": {
        "application/vnd.databricks.v1+cell": {
          "title": "",
          "showTitle": false,
          "inputWidgets": {},
          "nuid": "bc3f6163-3985-4ac4-9620-b052309a136f"
        },
        "id": "7CFp3npqvhGd"
      },
      "source": [
        "### 4 b)\n",
        "Ajouter la condition: un trajet ne peut pas durer plus de 3 jours au total"
      ]
    },
    {
      "cell_type": "code",
      "metadata": {
        "application/vnd.databricks.v1+cell": {
          "title": "",
          "showTitle": false,
          "inputWidgets": {},
          "nuid": "bc352723-8a2c-4335-8f02-295d7a54b264"
        },
        "id": "oScG_GoRvhGd",
        "outputId": "411dcb45-3f91-4327-e2c8-c273a1e6faab"
      },
      "source": [
        "%sql\n"
      ],
      "execution_count": null,
      "outputs": [
        {
          "output_type": "display_data",
          "metadata": {
            "application/vnd.databricks.v1+output": {
              "data": "",
              "errorSummary": "",
              "metadata": {},
              "errorTraceType": null,
              "type": "ipynbError",
              "arguments": {}
            }
          },
          "data": {
            "text/html": [
              "<style scoped>\n  .ansiout {\n    display: block;\n    unicode-bidi: embed;\n    white-space: pre-wrap;\n    word-wrap: break-word;\n    word-break: break-all;\n    font-family: \"Source Code Pro\", \"Menlo\", monospace;;\n    font-size: 13px;\n    color: #555;\n    margin-left: 4px;\n    line-height: 19px;\n  }\n</style>"
            ]
          }
        }
      ]
    },
    {
      "cell_type": "markdown",
      "metadata": {
        "application/vnd.databricks.v1+cell": {
          "title": "",
          "showTitle": false,
          "inputWidgets": {},
          "nuid": "053abb3e-6614-4bd9-a13c-e1aeeb9b1557"
        },
        "id": "8K68IUi4vhGd"
      },
      "source": [
        "## Question 5 : IMDB\n",
        "\n",
        "Proposer des requetes OVER PARTITION BY  sur la base IMDB"
      ]
    }
  ]
}