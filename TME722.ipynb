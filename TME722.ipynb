{
  "cells": [
    {
      "cell_type": "markdown",
      "metadata": {
        "id": "view-in-github",
        "colab_type": "text"
      },
      "source": [
        "<a href=\"https://colab.research.google.com/github/veroorli/ProjetProg/blob/master/TME722.ipynb\" target=\"_parent\"><img src=\"https://colab.research.google.com/assets/colab-badge.svg\" alt=\"Open In Colab\"/></a>"
      ]
    },
    {
      "cell_type": "markdown",
      "metadata": {
        "id": "ElCGcuduprxN"
      },
      "source": [
        "# Querying nested data "
      ]
    },
    {
      "cell_type": "markdown",
      "metadata": {
        "id": "4gAH4pUZprxN"
      },
      "source": [
        "This lab session complements the previous session with several concepts:\n",
        "* manipulating irregular, nested data represented in JSON format\n",
        "* using windowing functions, multi-dimensional aggregations, and pivot tables"
      ]
    },
    {
      "cell_type": "markdown",
      "metadata": {
        "id": "dDpBqJ28prxZ"
      },
      "source": [
        "## Questions"
      ]
    },
    {
      "cell_type": "markdown",
      "metadata": {
        "id": "Pb4LtVKQprxa"
      },
      "source": [
        "The schema indicates each attribute with nullable=true which is not very informative since we can not know whether a field has missing values.\n",
        "The following instructions count the number of rows w/o missing values for some specific fields of interest."
      ]
    },
    {
      "cell_type": "code",
      "execution_count": null,
      "metadata": {
        "id": "m98KJWncprxa"
      },
      "outputs": [],
      "source": [
        "att_list = [\"event\", \n",
        "                 \"event.event_id\", \n",
        "                 \"event.event_id.post_id\", \n",
        "                 \"event.event_id.post_owner_id\", \n",
        "                 \"event.event_id.comment_id\", \n",
        "                 \"event.event_id.shared_post_id\", \n",
        "                 \"event.author\", \n",
        "                 \"event.attachments\", \n",
        "                 \"event.geo\", \n",
        "                 \"event.tags\",\n",
        "                 \"event.creation_time\"]"
      ]
    },
    {
      "cell_type": "code",
      "execution_count": null,
      "metadata": {
        "id": "ilDCsjR-prxb"
      },
      "outputs": [],
      "source": [
        "for att in att_list:\n",
        "    print(\"count of %s=%s\"%(att, data.where(att+ \" is not null\").count()))"
      ]
    },
    {
      "cell_type": "markdown",
      "metadata": {
        "id": "kJmWtnOXprxc"
      },
      "source": [
        "#### Check that `event.event_id.comment_id` is present only when `event.event_type='comment'`"
      ]
    },
    {
      "cell_type": "code",
      "execution_count": null,
      "metadata": {
        "id": "mFsqiIpyprxc"
      },
      "outputs": [],
      "source": [
        "data.filter((col('event.event_type') == 'comment')\n",
        " & (col(\"event.event_id.comment_id\").isNull())).count() == 0\n"
      ]
    },
    {
      "cell_type": "markdown",
      "metadata": {
        "id": "81hc99X5prxd"
      },
      "source": [
        "#### How many distinct post ids are there?"
      ]
    },
    {
      "cell_type": "code",
      "execution_count": null,
      "metadata": {
        "id": "JLf2MFHjprxf"
      },
      "outputs": [],
      "source": [
        "nb_posts = data.select(countDistinct(col('event.event_id.post_id'))\n",
        ".alias(\"nb_distinct_posts\"))\n",
        "nb_posts.show()"
      ]
    },
    {
      "cell_type": "markdown",
      "metadata": {
        "id": "33x5r-bXprxg"
      },
      "source": [
        "#### How many distinct post_ids per event type"
      ]
    },
    {
      "cell_type": "code",
      "execution_count": null,
      "metadata": {
        "id": "OLECgaRCprxh"
      },
      "outputs": [],
      "source": [
        "post_per_type = data.groupBy(col('event.event_type'))\\\n",
        ".agg(countDistinct(col('event.event_id.post_id')).alias(\"nb_distinct_posts\"))\n",
        "post_per_type.show()\n"
      ]
    },
    {
      "cell_type": "markdown",
      "metadata": {
        "id": "vzhqW9rjprxh"
      },
      "source": [
        "#### Flattening lists of tags"
      ]
    },
    {
      "cell_type": "markdown",
      "metadata": {
        "id": "NYHcmgNBprxi"
      },
      "source": [
        "In `data`, each object is associated with an array of tags accessed from `event.tags` (see the schema). Write an instruction to add a `tag` column containing a single tag obtained by flattening the `tags` array"
      ]
    },
    {
      "cell_type": "code",
      "execution_count": null,
      "metadata": {
        "id": "cO91aImCprxj"
      },
      "outputs": [],
      "source": [
        "data_with_tags = data.withColumn('tag', explode(col('event.tags')))\n",
        "data_with_tags.show()"
      ]
    },
    {
      "cell_type": "markdown",
      "metadata": {
        "id": "vh96FD2bprxk"
      },
      "source": [
        "#### Return the number of distinct post_id per tag. Sort in descending order of count"
      ]
    },
    {
      "cell_type": "code",
      "execution_count": null,
      "metadata": {
        "id": "QW1Ua3W6prxl"
      },
      "outputs": [],
      "source": [
        "from pyspark.sql.functions import desc\n",
        "\n",
        "objects_per_tag =data_with_tags.groupby(col('tag'))\\\n",
        "                .agg(countDistinct(col('event.event_id.post_id'))\\\n",
        "                .alias(\"nb_posts\"))\\\n",
        "                .orderBy(desc(col('nb_posts')))\n",
        "\n",
        "objects_per_tag.show()\n",
        "\n"
      ]
    },
    {
      "cell_type": "markdown",
      "metadata": {
        "id": "nfM1F2E8prxl"
      },
      "source": [
        "#### Return the number of distinct author.id per tag. Sort in descending order of count"
      ]
    },
    {
      "cell_type": "code",
      "execution_count": null,
      "metadata": {
        "colab": {
          "base_uri": "https://localhost:8080/"
        },
        "id": "nGHd7rk1prxm",
        "outputId": "74a65b17-9eb3-4a67-cec3-c58c1272d6bf"
      },
      "outputs": [
        {
          "output_type": "stream",
          "name": "stdout",
          "text": [
            "+-----------+----------+\n",
            "|        tag|nb_authors|\n",
            "+-----------+----------+\n",
            "|      putin|     15673|\n",
            "|   grudinin|      6207|\n",
            "|    navalny|      2580|\n",
            "|    sobchak|      2288|\n",
            "|zhirinovsky|      1214|\n",
            "|      titov|       572|\n",
            "|  yavlinsky|       347|\n",
            "+-----------+----------+\n",
            "\n"
          ]
        }
      ],
      "source": [
        "authors_per_tag = data_with_tags.groupby(col('tag'))\\\n",
        "                  .agg(count_distinct(col('event.author.id'))\\\n",
        "                  .alias(\"nb_authors\"))\\\n",
        "                  .orderBy(desc(col('nb_authors')))\n",
        "\n",
        "authors_per_tag.show()"
      ]
    },
    {
      "cell_type": "markdown",
      "metadata": {
        "id": "DsEFVAeuprxm"
      },
      "source": [
        "#### Fact-checking using Wikipedia"
      ]
    },
    {
      "cell_type": "markdown",
      "metadata": {
        "id": "_3SSnBlEprxm"
      },
      "source": [
        "Observe that each tag corresponds to a candidate of the RU2018 Elections (Putin, Titov, etc).\n",
        "We would like to check the relationship between the count of tags per author and the number of votes associated to each candidate.\n",
        "We collect, from Wikipedia, the number of votes per candidates and make it available though the dataset `votes` defined as follows."
      ]
    },
    {
      "cell_type": "code",
      "execution_count": null,
      "metadata": {
        "colab": {
          "base_uri": "https://localhost:8080/"
        },
        "id": "LQi20X-Dprxm",
        "outputId": "267d69bc-89db-458a-f509-78b7401cc443"
      },
      "outputs": [
        {
          "output_type": "stream",
          "name": "stdout",
          "text": [
            "+-----------+--------------------+--------+\n",
            "|       name|               party|   votes|\n",
            "+-----------+--------------------+--------+\n",
            "|      putin|         Independent|56430712|\n",
            "|   grudinin|           Communist| 8659206|\n",
            "|zhirinovsky|Liberal Democrati...| 4154985|\n",
            "|    sobchak|    Civic Initiative| 1238031|\n",
            "|  yavlinsky|             Yabloko|  769644|\n",
            "|      titov|     Party of Growth|  556801|\n",
            "+-----------+--------------------+--------+\n",
            "\n"
          ]
        }
      ],
      "source": [
        "from pyspark.sql.types import *\n",
        "\n",
        "schema_votes = StructType([StructField(\"name\", StringType()),\\\n",
        "                     StructField(\"party\", StringType()),\\\n",
        "                     StructField(\"votes\", LongType())])\n",
        "                     \n",
        "\n",
        "raw_votes = [(\"putin\", \"Independent\", 56430712),\\\n",
        "             (\"grudinin\", \"Communist\",8659206), \\\n",
        "             (\"zhirinovsky\",\"Liberal Democratic Party\",4154985),\\\n",
        "             (\"sobchak\",\"Civic Initiative\",1238031),\\\n",
        "             (\"yavlinsky\",\"Yabloko\",769644), \\\n",
        "             (\"titov\",\"Party of Growth\",556801)\\\n",
        "            ]\n",
        "\n",
        "votes = spark.createDataFrame(raw_votes,schema_votes) \n",
        "votes.show()"
      ]
    },
    {
      "cell_type": "markdown",
      "metadata": {
        "id": "EZQD2DaVprxn"
      },
      "source": [
        "#### Return for each candidate the number of its votes and the number of authors who tagged it. What do you observe?"
      ]
    },
    {
      "cell_type": "markdown",
      "metadata": {
        "id": "TH8-YfjDzb_H"
      },
      "source": [
        "tab1.join(tab2.select(col('critère1').alias(''),col('')),on='colonne à joindre').select('colonnes')"
      ]
    },
    {
      "cell_type": "code",
      "execution_count": null,
      "metadata": {
        "colab": {
          "base_uri": "https://localhost:8080/"
        },
        "id": "yACkv643prxn",
        "outputId": "6cc8396c-e58e-4f29-841e-722cafdd4013"
      },
      "outputs": [
        {
          "output_type": "stream",
          "name": "stdout",
          "text": [
            "+-----------+--------+----------+\n",
            "|       name|   votes|nb_authors|\n",
            "+-----------+--------+----------+\n",
            "|      putin|56430712|     15673|\n",
            "|   grudinin| 8659206|      6207|\n",
            "|    sobchak| 1238031|      2288|\n",
            "|zhirinovsky| 4154985|      1214|\n",
            "|      titov|  556801|       572|\n",
            "|  yavlinsky|  769644|       347|\n",
            "+-----------+--------+----------+\n",
            "\n"
          ]
        }
      ],
      "source": [
        "votes_count = votes.join(authors_per_tag.select(col('tag')\n",
        ".alias('name'),col('nb_authors')),on='name')\\\n",
        ".select('name', 'votes', 'nb_authors').orderBy(desc('nb_authors'))\n",
        "votes_count.show()"
      ]
    },
    {
      "cell_type": "markdown",
      "metadata": {
        "id": "AOW_KUIJprxo"
      },
      "source": [
        "### Window function"
      ]
    },
    {
      "cell_type": "markdown",
      "metadata": {
        "id": "Gm9jTAX6prxo"
      },
      "source": [
        "Define a window specification for the `votes` and `nb_authors` columns"
      ]
    },
    {
      "cell_type": "code",
      "execution_count": null,
      "metadata": {
        "id": "lTlVzx3Dprxo"
      },
      "outputs": [],
      "source": [
        "\n",
        "windowSpecVotes = Window.orderBy(desc(\"votes\"))\n",
        "windowSpecCount = Window.orderBy(desc(\"nb_authors\"))"
      ]
    },
    {
      "cell_type": "markdown",
      "metadata": {
        "id": "0PcS3Rs_prxp"
      },
      "source": [
        "Using the window specifications, augment `votes_count` with two attributes, `votes_rank` and `nbAuths_ranks`, which rank each candidate  based on the number of votes he received  and the number of authors who tagged a post with his name. \n",
        "\n",
        "Hint. The window spans the entire data and does not use any partitioning."
      ]
    },
    {
      "cell_type": "code",
      "execution_count": null,
      "metadata": {
        "id": "_8L6qWl7prxp"
      },
      "outputs": [],
      "source": [
        "compare = votes_count.withColumn(\"votes_rank\", rank().over(windowSpecVotes))\\\n",
        ".withColumn(\"nb_authors_rank\", rank().over(windowSpecCount))\n",
        "\n",
        "compare.show()\n"
      ]
    },
    {
      "cell_type": "markdown",
      "metadata": {
        "id": "Tz4evj6Eprxp"
      },
      "source": [
        "### Multidimensional aggregation"
      ]
    },
    {
      "cell_type": "markdown",
      "metadata": {
        "id": "ROc2mFViprxp"
      },
      "source": [
        "We want to create a cube with three dimensions: `tag`, `event_type` and `month`. While the first two attributes are already available, the month column must be extracted from the `creation_time` attribute using a built-in function. \n",
        "\n",
        "Create a dataset `dataTagMon` obtained by augmenting `data_with_tags` with an attribute `month` containing the month extracted from the `event.creation_time` attribute.\n",
        "\n",
        "Hint. You will notice that only months 1, 2 and 3 exist in the dataset."
      ]
    },
    {
      "cell_type": "code",
      "execution_count": null,
      "metadata": {
        "id": "46fAgW5Iprxp"
      },
      "outputs": [],
      "source": [
        "from pyspark.sql.functions import from_unixtime\n",
        "from pyspark.sql.functions import month"
      ]
    },
    {
      "cell_type": "code",
      "execution_count": null,
      "metadata": {
        "id": "jG3Qc8RWprxq",
        "colab": {
          "base_uri": "https://localhost:8080/"
        },
        "outputId": "a7a01126-6e6e-4a14-841d-3febb66fe21d"
      },
      "outputs": [
        {
          "output_type": "stream",
          "name": "stdout",
          "text": [
            "+-----+\n",
            "|month|\n",
            "+-----+\n",
            "|    1|\n",
            "|    3|\n",
            "|    2|\n",
            "+-----+\n",
            "\n"
          ]
        }
      ],
      "source": [
        "data_tag_mon = data_with_tags\\\n",
        ".withColumn('month', month(from_unixtime('event.creation_time')))\n",
        "\n",
        "data_tag_mon.select(\"month\").distinct().show()"
      ]
    },
    {
      "cell_type": "markdown",
      "metadata": {
        "id": "R0O0F2UOprxq"
      },
      "source": [
        "#### For each combination of event_type, tag and month, count the nomber of distinct post_ids"
      ]
    },
    {
      "cell_type": "code",
      "execution_count": null,
      "metadata": {
        "id": "exoRM_dIprxq",
        "colab": {
          "base_uri": "https://localhost:8080/"
        },
        "outputId": "75d42f87-7537-4b8a-b202-246a0b83a03f"
      },
      "outputs": [
        {
          "output_type": "stream",
          "name": "stdout",
          "text": [
            "+----------+-----+-----+------------------+\n",
            "|event_type|  tag|month|count_dist_postids|\n",
            "+----------+-----+-----+------------------+\n",
            "|   comment|putin|    2|              4191|\n",
            "+----------+-----+-----+------------------+\n",
            "only showing top 1 row\n",
            "\n"
          ]
        }
      ],
      "source": [
        "tag_event_month = data_tag_mon.groupBy(\"event.event_type\", \"tag\", \"month\")\\\n",
        ".agg(countDistinct('event.event_id.post_id').alias('count_dist_postids'))\\\n",
        ".orderBy(desc(\"count_dist_postids\"))\n",
        "tag_event_month.orderBy(desc(\"count_dist_postids\")).show(1)"
      ]
    },
    {
      "cell_type": "markdown",
      "metadata": {
        "id": "AoYXQ5Szprxq"
      },
      "source": [
        "### Pivot table"
      ]
    },
    {
      "cell_type": "markdown",
      "metadata": {
        "id": "ZMFl9INuprxq"
      },
      "source": [
        "#### Using the `tag_event_month` table, create a pivot table by reducing the dimensions to month and event type."
      ]
    },
    {
      "cell_type": "code",
      "execution_count": null,
      "metadata": {
        "id": "3jXrn7AZprxq",
        "colab": {
          "base_uri": "https://localhost:8080/"
        },
        "outputId": "6a3cc588-9d0c-4868-f56f-f418d54155c5"
      },
      "outputs": [
        {
          "output_type": "stream",
          "name": "stdout",
          "text": [
            "root\n",
            " |-- month: integer (nullable = true)\n",
            " |-- comment: long (nullable = true)\n",
            " |-- post: long (nullable = true)\n",
            " |-- share: long (nullable = true)\n",
            "\n",
            "+-----+-------+----+-----+\n",
            "|month|comment|post|share|\n",
            "+-----+-------+----+-----+\n",
            "|    3|   6424|5328|  207|\n",
            "+-----+-------+----+-----+\n",
            "only showing top 1 row\n",
            "\n"
          ]
        }
      ],
      "source": [
        "month_event_type = tag_event_month.groupBy('month')\\\n",
        ".pivot('event_type').sum(\"count_dist_postids\")\n",
        "month_event_type.printSchema()\n",
        "month_event_type.show(1)"
      ]
    },
    {
      "cell_type": "markdown",
      "metadata": {
        "id": "yTF9tW-Uprxr"
      },
      "source": [
        "###  Tag co-occurrence matrix"
      ]
    },
    {
      "cell_type": "markdown",
      "metadata": {
        "id": "Lpre-U_5prxr"
      },
      "source": [
        "#### create a dataframe indicating for each pair of distinct tags the author that uses both of them."
      ]
    },
    {
      "cell_type": "code",
      "execution_count": null,
      "metadata": {
        "id": "lZOVEUK8prxr",
        "colab": {
          "base_uri": "https://localhost:8080/"
        },
        "outputId": "74b66e60-f6d3-4399-8585-ebcaa898e443"
      },
      "outputs": [
        {
          "output_type": "stream",
          "name": "stdout",
          "text": [
            "+----------+--------+-----+\n",
            "|  authorID|otherTag|  tag|\n",
            "+----------+--------+-----+\n",
            "|-163732739| navalny|putin|\n",
            "+----------+--------+-----+\n",
            "only showing top 1 row\n",
            "\n"
          ]
        }
      ],
      "source": [
        "# auth_tag = data_with_tags.\n",
        "\n",
        "tag_co_occur = data_with_tags.select(\"event\", col(\"tag\").alias(\"otherTag\"))\\\n",
        ".crossJoin(data_with_tags.select(col(\"event\").alias(\"event2\"), \"tag\"))\\\n",
        ".select(\"event.author.id\", col(\"event2.author.id\")\\\n",
        ".alias(\"id2\"), \"otherTag\", \"tag\")\\\n",
        ".filter((col(\"id\") == col(\"id2\")) & (col(\"tag\") != col(\"otherTag\")))\\\n",
        ".select(col(\"id\").alias(\"authorID\"), \"otherTag\", 'tag')\n",
        "\n",
        "tag_co_occur.show(1)"
      ]
    },
    {
      "cell_type": "markdown",
      "metadata": {
        "id": "N3qnJ3nhprxr"
      },
      "source": [
        "#### Build the tag co-occurence matrix indicating for each pair of tags the number of authors that use them"
      ]
    },
    {
      "cell_type": "code",
      "execution_count": null,
      "metadata": {
        "id": "JaOGNLjuprxr",
        "colab": {
          "base_uri": "https://localhost:8080/"
        },
        "outputId": "6bcdd9f0-b79a-4acd-ea0a-e1c641dce2f7"
      },
      "outputs": [
        {
          "output_type": "stream",
          "name": "stdout",
          "text": [
            "+-----+--------+-------+-----+-------+-----+---------+-----------+\n",
            "|  tag|grudinin|navalny|putin|sobchak|titov|yavlinsky|zhirinovsky|\n",
            "+-----+--------+-------+-----+-------+-----+---------+-----------+\n",
            "|titov|     140|     21|  246|    111| null|       94|         90|\n",
            "+-----+--------+-------+-----+-------+-----+---------+-----------+\n",
            "only showing top 1 row\n",
            "\n"
          ]
        }
      ],
      "source": [
        "co_occur_mat = tag_co_occur.groupBy(\"tag\")\\\n",
        ".pivot(\"otherTag\")\\\n",
        ".agg(count('tag'))\n",
        "co_occur_mat.show(1)"
      ]
    },
    {
      "cell_type": "markdown",
      "metadata": {
        "id": "E5R5AHi-prxt"
      },
      "source": [
        "## END"
      ]
    }
  ],
  "metadata": {
    "application/vnd.databricks.v1+notebook": {
      "dashboards": [],
      "language": "python",
      "notebookMetadata": {
        "pythonIndentUnit": 2
      },
      "notebookName": "SparkDataframe-JSON_solutions",
      "notebookOrigID": 620345572627505,
      "widgets": {}
    },
    "colab": {
      "provenance": [],
      "toc_visible": true,
      "include_colab_link": true
    },
    "kernelspec": {
      "display_name": "Python 3",
      "name": "python3"
    },
    "language_info": {
      "name": "python"
    }
  },
  "nbformat": 4,
  "nbformat_minor": 0
}