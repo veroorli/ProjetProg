{
  "nbformat": 4,
  "nbformat_minor": 0,
  "metadata": {
    "colab": {
      "provenance": [],
      "authorship_tag": "ABX9TyNVAplMnYCwQmRX5OdNXU9g",
      "include_colab_link": true
    },
    "kernelspec": {
      "name": "python3",
      "display_name": "Python 3"
    },
    "language_info": {
      "name": "python"
    }
  },
  "cells": [
    {
      "cell_type": "markdown",
      "metadata": {
        "id": "view-in-github",
        "colab_type": "text"
      },
      "source": [
        "<a href=\"https://colab.research.google.com/github/veroorli/ProjetProg/blob/master/Untitled0.ipynb\" target=\"_parent\"><img src=\"https://colab.research.google.com/assets/colab-badge.svg\" alt=\"Open In Colab\"/></a>"
      ]
    },
    {
      "cell_type": "markdown",
      "source": [
        "Les identifiants des articles de type \"sport\"\n",
        "\n",
        " qui contiennent au moins un media photo ou un média video.\n",
        "Réponse sans doublons."
      ],
      "metadata": {
        "id": "0fmWdfM4Xzxc"
      }
    },
    {
      "cell_type": "code",
      "execution_count": null,
      "metadata": {
        "id": "SWmz1WCm_u8f"
      },
      "outputs": [],
      "source": [
        "q1=article.withColumn('media',explode(col('content.media'))\n",
        "ou \n",
        "q1=article.select('id','type',explode(col('content.media')\n",
        ".alias('media'))\n",
        "q1bis=q1.select('id')\n",
        ".where((col('type')=='sport')\n",
        "&((('media.video').isNotNull())or('media.photo').isNotNull()))\n",
        ".distinct()\n"
      ]
    },
    {
      "cell_type": "markdown",
      "source": [
        "Le nom des personnes qui ont écrit au moins un article de type \"news\" et au moins un article de type\n",
        "\"politics\""
      ],
      "metadata": {
        "id": "b57H5o5naJhI"
      }
    },
    {
      "cell_type": "code",
      "source": [
        "q2=article.select(explode(col('contributor.persons'))\n",
        ".alias('persons'))\n",
        ".where((col('type')=='news')&(col('type')=='politics'))\n",
        ".distinct()\n",
        "q2bis=q2.select('persons.name')\n"
      ],
      "metadata": {
        "id": "228HL696aMGg"
      },
      "execution_count": null,
      "outputs": []
    },
    {
      "cell_type": "markdown",
      "source": [
        "Les organisations qui n’écrivent que des articles de type \"politics\""
      ],
      "metadata": {
        "id": "RQa_vMsLaS05"
      }
    },
    {
      "cell_type": "code",
      "source": [
        "\n",
        "q3=select('contributor.organization')\n",
        ".where(col('type')!='politics')\n",
        ".distinct()\n",
        "\n",
        "q3bis=article.select('contributor.organization')\n",
        ".substract(q3)"
      ],
      "metadata": {
        "id": "thZoFN9maUY5"
      },
      "execution_count": null,
      "outputs": []
    },
    {
      "cell_type": "markdown",
      "source": [
        "Pour chaque paire (organization,type), retourner le nombre moyen de mots clés utilisés. Il est possible\n",
        "d’utiliser la fonction size(), qui, invoquée sur une colonne de type array, retourne sa taille."
      ],
      "metadata": {
        "id": "0o_RFPWIaUwC"
      }
    },
    {
      "cell_type": "code",
      "source": [
        "q4=article.select('contributor.organization','type',size('keyword')\n",
        ".alias('size'))\n",
        "\n",
        "q4bis=q4.groupBy('contributor.organization','type')\n",
        ".agg(avg('size').alias('avg'))\n",
        "\n",
        "q4bis.show()"
      ],
      "metadata": {
        "id": "fQCLHDcUaXfh"
      },
      "execution_count": null,
      "outputs": []
    },
    {
      "cell_type": "markdown",
      "source": [
        "Pour chaque nom de personne, retourner le nombre d’articles écrits en tant que role \"principal\"."
      ],
      "metadata": {
        "id": "HV7aDq5caX3j"
      }
    },
    {
      "cell_type": "code",
      "source": [
        "q5=article.withColumn('person',explode('contributor.persons'))\n",
        "q5bis=q5.groupBy('person.name')\n",
        ".agg(count('id').alias('nbarticles'))\n",
        ".where ('person.role'=='principal')\n",
        "\n",
        "q=q5.select('person.name','nbarticles')\n"
      ],
      "metadata": {
        "id": "NV2F3rL3aats"
      },
      "execution_count": null,
      "outputs": []
    },
    {
      "cell_type": "markdown",
      "source": [
        "Pour chaque paire d’articles de type \"news\", retourner le nombre de mots clés en commun. Ne retourner que les paires d’articles distincts. Le résultat doit être asymétrique. Utiliser la fonction array_intersect(col1,col2) qui retourne une colonne de type array contenant l’intersection des arrays col1\n",
        "et col2."
      ],
      "metadata": {
        "id": "CPL6T_0iadi4"
      }
    },
    {
      "cell_type": "code",
      "source": [
        "q6=article.crossJoin(article.select(col('id').alias('id2'),\n",
        "col(explode('content.keywords').alias('keywords2'))\n",
        ".where(col('id')!= col('id2')) & (col('id') < col('id2'))\n",
        ".select(struct(col('id'), col('id2')).alias('id'),\n",
        "col('keyword2'), col(explode('content.keywords').alias('keywords'))\n",
        "\n",
        "q6bis=q6.select('id', size(array_intersect(col('keyword'),col('keyword2')))\n",
        ".alias('nbmots'))\n",
        "\n",
        "\n",
        "\n",
        "\n"
      ],
      "metadata": {
        "id": "JSvTBb3daetX"
      },
      "execution_count": null,
      "outputs": []
    },
    {
      "cell_type": "markdown",
      "source": [
        "Pour chaque type d’article, retourner le nombre d’occurrence de chaque mot clé. Le résultat aura autant\n",
        "de colonnes que de types d’articles. Il aura le schéma suivant :\n",
        "root\n",
        "\n",
        "|-- keyword: string\n",
        "\n",
        "|-- news: long\n",
        "\n",
        "|-- politics: long\n",
        "\n",
        "|-- sport: long"
      ],
      "metadata": {
        "id": "XkBvToY6aiNb"
      }
    },
    {
      "cell_type": "code",
      "source": [
        "q7=article.select('type',explode('content.keyword').alias('keyword'))\n",
        "q7bis=q7.groupBy('type')\n",
        ".pivot('keyword').count()"
      ],
      "metadata": {
        "id": "MdbmaAWZamPH"
      },
      "execution_count": null,
      "outputs": []
    },
    {
      "cell_type": "code",
      "source": [
        "windowSpec  = article.partitionBy(\"type\",explode('content.keyword')\n",
        ".alias('keyword'))\n",
        ".orderBy(\"keyword\")\n",
        "\n",
        "df.withColumn(\"row_number\",row_number().over(windowSpec)) \\\n",
        ".show(truncate=False)"
      ],
      "metadata": {
        "id": "4davNta0T2sd"
      },
      "execution_count": null,
      "outputs": []
    },
    {
      "cell_type": "code",
      "source": [
        "exemples window functions\n",
        "windowSpec  = Window.partitionBy(\"department\").orderBy(\"salary\")\n",
        "\n",
        "df.withColumn(\"row_number\",row_number().over(windowSpec)) \\\n",
        "    .show(truncate=False)"
      ],
      "metadata": {
        "id": "MMOtOt5_TwgM"
      },
      "execution_count": null,
      "outputs": []
    },
    {
      "cell_type": "markdown",
      "source": [
        "On voudrait construire un modèle de classification pour prédire, pour chaque article, son type en fonctions des caractéristiques suivantes :\n",
        "— NbKW qui correspond au nombre de mots clés de son contenu\n",
        "— media qui prend 1 si le contenu a au moins une photo ou une video, 0 sinon\n",
        "— kind qui prend 0 si l’auteur de l’article est une organisation, 1 s’il s’agit d’un ensemble de personnes.\n",
        "Ecrire la requête qui retourne le résultat de cette transformation. Le résultat aura le schéma suivant :\n",
        "root\n",
        "\n",
        "|-- nbkw: integer\n",
        "\n",
        "|-- media: integer\n",
        "\n",
        "|-- kind: integer\n",
        "\n",
        "|-- type: string"
      ],
      "metadata": {
        "id": "zu9WMQCJamkY"
      }
    },
    {
      "cell_type": "code",
      "source": [
        "@udf('int')\n",
        "def Kind(e):\n",
        "  if e.persons.isNotNull():\n",
        "        return 1\n",
        "  else\n",
        "        return 0\n",
        "sameformedia\n",
        "\n",
        "q8=article.select('id',size('content.keyword').alias('nbKw'))\n",
        ".withColumn(\"media\",media(col('content.media'))\n",
        ".withColumn(\"kind\",Kind(col('article.contributor'))\n"
      ],
      "metadata": {
        "id": "Djz5-03_aqsp"
      },
      "execution_count": null,
      "outputs": []
    }
  ]
}