{
  "cells": [
    {
      "cell_type": "markdown",
      "metadata": {
        "id": "view-in-github",
        "colab_type": "text"
      },
      "source": [
        "<a href=\"https://colab.research.google.com/github/veroorli/ProjetProg/blob/master/DM2.ipynb\" target=\"_parent\"><img src=\"https://colab.research.google.com/assets/colab-badge.svg\" alt=\"Open In Colab\"/></a>"
      ]
    },
    {
      "cell_type": "markdown",
      "source": [
        "# Querying nested data "
      ],
      "metadata": {
        "id": "tdJjMAl89ZHU"
      }
    },
    {
      "cell_type": "markdown",
      "metadata": {
        "id": "0a4WMspTvr2V"
      },
      "source": [
        "### examples for the official doc"
      ]
    },
    {
      "cell_type": "markdown",
      "metadata": {
        "id": "6yRwPX_kvu7t"
      },
      "source": [
        "\n",
        "\n",
        "\n",
        "\n",
        "### HOUSING DATASET"
      ]
    },
    {
      "cell_type": "markdown",
      "source": [
        "####1)Traitement de données: \n",
        "\n",
        "1)On sélectionne les colonnes utiles pour le ML \n",
        "\n",
        "2)Pour garantir que les valeurs soient du bon type on cast les valeurs (élimine les lignes qui dont les valeurs ne sont pas du bon type)\n",
        "\n",
        "3)On enlève les enregistrements qui ont des valeurs nulles"
      ],
      "metadata": {
        "id": "vrQ6GvygJ5Yg"
      }
    },
    {
      "cell_type": "code",
      "execution_count": null,
      "metadata": {
        "id": "W-ml7-WD3kNg"
      },
      "outputs": [],
      "source": [
        "data=data.select(col(\"id\").cast(\"long\"),col(\"type\").cast(\"string\"),col(\"sqfeet\").cast(\"float\"),col(\"price\").cast(\"float\"),col(\"long\").cast(\"float\"),col(\"lat\").cast(\"float\"))\n",
        "data.show()\n",
        "data = data.na.drop(\"any\")#drop les valeurs nulles\n"
      ]
    },
    {
      "cell_type": "code",
      "execution_count": null,
      "metadata": {
        "id": "5i8Z2bmWaZ6S"
      },
      "outputs": [],
      "source": [
        "sample =data.sample(0.01).persist()\n",
        "sample.count()"
      ]
    },
    {
      "cell_type": "code",
      "execution_count": null,
      "metadata": {
        "id": "5Xozwz8o9k7H"
      },
      "outputs": [],
      "source": [
        "sample.show()\n"
      ]
    },
    {
      "cell_type": "markdown",
      "metadata": {
        "id": "Q_HyPRI79dhu"
      },
      "source": [
        "#### 2)Analyzers"
      ]
    },
    {
      "cell_type": "markdown",
      "source": [
        "#####longitude\n",
        "On analyse la colonne longitude :complète (sans valeur manquante), 25% des locations sont sur la même longitude qu'une autre location, \n"
      ],
      "metadata": {
        "id": "-MUe-nihSldN"
      }
    },
    {
      "cell_type": "code",
      "source": [
        "# set these variables\n",
        "_data = sample\n",
        "_colName = \"long\"\n",
        "\n",
        "#reuse from tutorial\n",
        "from pydeequ.analyzers import *\n",
        "\n",
        "analysisResult = AnalysisRunner(spark) \\\n",
        "                    .onData(_data) \\\n",
        "                    .addAnalyzer(Size()) \\\n",
        "                    .addAnalyzer(Completeness(_colName)) \\\n",
        "                    .addAnalyzer(Distinctness(_colName)) \\\n",
        "                    .run()\n",
        "analysisResult_df = AnalyzerContext.successMetricsAsDataFrame(spark, analysisResult)\n",
        "analysisResult_df.show()"
      ],
      "metadata": {
        "colab": {
          "base_uri": "https://localhost:8080/"
        },
        "id": "HBbIf8kK1Vge",
        "outputId": "9f0193c4-94f4-4e72-dedf-597f736b33a7"
      },
      "execution_count": null,
      "outputs": [
        {
          "output_type": "stream",
          "name": "stdout",
          "text": [
            "+-------+--------+------------+------------------+\n",
            "| entity|instance|        name|             value|\n",
            "+-------+--------+------------+------------------+\n",
            "|Dataset|       *|        Size|            3663.0|\n",
            "| Column|    long|Completeness|               1.0|\n",
            "| Column|    long|Distinctness|0.7570297570297571|\n",
            "+-------+--------+------------+------------------+\n",
            "\n"
          ]
        }
      ]
    },
    {
      "cell_type": "markdown",
      "source": [
        "#####surface\n",
        "On s'intéresse aux corrélations du prix avec la surface corrélation de 33%"
      ],
      "metadata": {
        "id": "OM6-b_19Ufj4"
      }
    },
    {
      "cell_type": "code",
      "source": [
        "# set these variables\n",
        "_data = sample\n",
        "_colName = \"price\"\n",
        "\n",
        "#reuse from tutorial\n",
        "from pydeequ.analyzers import *\n",
        "\n",
        "analysisResult = AnalysisRunner(spark) \\\n",
        "                    .onData(_data) \\\n",
        "                    .addAnalyzer(Size()) \\\n",
        "                    .addAnalyzer(Completeness(_colName)) \\\n",
        "                    .addAnalyzer(Correlation(\"price\", \"sqfeet\"))\\\n",
        "                    .run()\n",
        "analysisResult_df = AnalyzerContext.successMetricsAsDataFrame(spark, analysisResult)\n",
        "analysisResult_df.show()"
      ],
      "metadata": {
        "colab": {
          "base_uri": "https://localhost:8080/"
        },
        "id": "sZ9MtuxMUCun",
        "outputId": "dd190c90-ab72-450c-cc19-46504b0b9aee"
      },
      "execution_count": null,
      "outputs": [
        {
          "output_type": "stream",
          "name": "stdout",
          "text": [
            "+-----------+------------+------------+------------------+\n",
            "|     entity|    instance|        name|             value|\n",
            "+-----------+------------+------------+------------------+\n",
            "|    Dataset|           *|        Size|            3663.0|\n",
            "|     Column|       price|Completeness|               1.0|\n",
            "|Mutlicolumn|price,sqfeet| Correlation|0.3305742906358196|\n",
            "+-----------+------------+------------+------------------+\n",
            "\n"
          ]
        }
      ]
    },
    {
      "cell_type": "markdown",
      "metadata": {
        "id": "j_HhHREI-91z"
      },
      "source": [
        "#### 3)profile"
      ]
    },
    {
      "cell_type": "code",
      "execution_count": null,
      "metadata": {
        "id": "l97-f4K9AyM3"
      },
      "outputs": [],
      "source": [
        "for col, profile in result.profiles.items():\n",
        "       print(profile)"
      ]
    },
    {
      "cell_type": "markdown",
      "source": [
        "#### 4) Suggestions"
      ],
      "metadata": {
        "id": "LtwnLzmDYs50"
      }
    },
    {
      "cell_type": "code",
      "execution_count": null,
      "metadata": {
        "id": "1p6S9dwW_Qjt"
      },
      "outputs": [],
      "source": [
        "from pydeequ.suggestions import *\n",
        "\n",
        "suggestionResult = ConstraintSuggestionRunner(spark) \\\n",
        "             .onData(_data) \\\n",
        "             .addConstraintRule(DEFAULT()) \\\n",
        "             .run()\n",
        "\n",
        "# Constraint Suggestions in JSON format\n",
        "print(json.dumps(suggestionResult,indent=4))\n"
      ]
    },
    {
      "cell_type": "markdown",
      "source": [
        "#####Conclusion des suggestions pour la suite: \n",
        "\n",
        "Pour la surface sqfeet et la colonne price on peut vérifier qu'il n'y a pas de valeur négative ou nulle.\n",
        "\n",
        "Pour la colonne id on peut vérifier qu'il y a bien un id par location pas de doublon.\n",
        "\n",
        "Pour la colonne type, on peut vérifier que les valeurs catégoriques sont \"apartment\", \"house\", \"townhouse\", \"condo\",\"duplex\",\"manufactured\",\"flat\",\"cottage/cabin\", \"loft\", \"in-law\".\n",
        "        \n",
        "Il est aussi suggéré de vérifier que la latitude n'est pas négative . \n",
        "\n"
      ],
      "metadata": {
        "id": "VJq7JdggVrx2"
      }
    },
    {
      "cell_type": "markdown",
      "metadata": {
        "id": "gbNFDmbo_QUb"
      },
      "source": [
        "#### 5) constraint verification"
      ]
    },
    {
      "cell_type": "code",
      "execution_count": null,
      "metadata": {
        "id": "GvITbK2A_QFC"
      },
      "outputs": [],
      "source": [
        "from pydeequ.checks import *\n",
        "from pydeequ.verification import *\n",
        "\n",
        "check = Check(spark, CheckLevel.Warning, \"Review Check\")\n",
        "\n",
        "checkResult = VerificationSuite(spark) \\\n",
        "    .onData(_data) \\\n",
        "    .addCheck(\n",
        "        check\n",
        "        .isComplete(\"id\")  \\\n",
        "        .isUnique(\"id\")  \\\n",
        "        .isNonNegative(\"id\")\\\n",
        "        .isNonNegative(\"price\")\\\n",
        "        .isComplete(\"price\")  \\\n",
        "        .isNonNegative(\"sqfeet\")\\\n",
        "        .isComplete(\"sqfeet\")  \\\n",
        "        .isContainedIn(\"type\", [\"apartment\", \"house\", \"townhouse\", \"condo\",\"duplex\",\"manufactured\",\"flat\",\"cottage/cabin\", \"loft\", \"in-law\"])\\\n",
        "        .isNonNegative(\"lat\"))  \\\n",
        "    .run()\n",
        "\n",
        "checkResult_df = VerificationResult.checkResultsAsDataFrame(spark, checkResult)\n",
        "checkResult_df.show()"
      ]
    },
    {
      "cell_type": "markdown",
      "metadata": {
        "id": "zTXthwfQvTNK"
      },
      "source": [
        "### Suggested data sources \n",
        " \n",
        "https://github.com/sdf94/deequ-examples/tree/master/data\n",
        "\n",
        "https://www.kaggle.com/austinreese/craigslist-carstrucks-data\n",
        "\n",
        "https://www.kaggle.com/austinreese/usa-housing-listings\n",
        "\n",
        "http://insideairbnb.com/get-the-data.html\n"
      ]
    }
  ],
  "metadata": {
    "application/vnd.databricks.v1+notebook": {
      "dashboards": [],
      "language": "python",
      "notebookMetadata": {
        "pythonIndentUnit": 2
      },
      "notebookName": "SparkDataframe-CSV-solution",
      "notebookOrigID": 620345572627578,
      "widgets": {}
    },
    "colab": {
      "collapsed_sections": [
        "0a4WMspTvr2V"
      ],
      "provenance": [],
      "toc_visible": true,
      "include_colab_link": true
    },
    "kernelspec": {
      "display_name": "Python 3",
      "name": "python3"
    },
    "language_info": {
      "name": "python"
    }
  },
  "nbformat": 4,
  "nbformat_minor": 0
}